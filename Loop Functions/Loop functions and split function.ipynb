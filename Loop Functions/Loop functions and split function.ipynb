{
 "cells": [
  {
   "cell_type": "markdown",
   "id": "d8f6a186",
   "metadata": {},
   "source": [
    "<h1 style=\"text-align:center;\">Loop Functions : lappy, sapply, apply, tapply & mapply</h1>\n"
   ]
  },
  {
   "cell_type": "markdown",
   "id": "058ebea5",
   "metadata": {},
   "source": [
    "<u>**Author</u> :** [Younes Dahami](https://www.linkedin.com/in/dahami/)"
   ]
  },
  {
   "cell_type": "markdown",
   "id": "bb47824d",
   "metadata": {},
   "source": [
    "<a id=\"top\"></a>\n",
    "\n",
    "<div class=\"list-group\" id=\"list-tab\" role=\"tablist\">\n",
    "    \n",
    "<h3 class=\"list-group-item list-group-item-action active\" data-toggle=\"list\"  role=\"tab\" aria-controls=\"home\">Table of contents</h3>\n",
    "    \n",
    "<font color=\"blue\" size=+1><b>[0. Introduction](#0)</b></font>\n",
    "    \n",
    "<font color=\"blue\" size=+1><b>[1. `lapply` function](#1)</b></font>\n",
    "    \n",
    "<font color=\"blue\" size=+1><b>[2. `sapply` function](#2)</b></font>\n",
    "    \n",
    "<font color=\"blue\" size=+1><b>[3. `apply` function](#3)</b></font>\n",
    "    \n",
    "<font color=\"blue\" size=+1><b>[4. `mapply` function](#4)</b></font>\n",
    "    \n",
    "<font color=\"blue\" size=+1><b>[5. `tapply` function](#5)</b></font>\n",
    "    \n",
    "<font color=\"blue\" size=+1><b>[6. `split` function](#6)</b></font>\n"
   ]
  },
  {
   "cell_type": "markdown",
   "id": "e6c42861",
   "metadata": {},
   "source": [
    "<a id=\"0\"></a>\n",
    "# Introduction\n",
    "\n",
    "Writing **`for`**, **`while`** loops is useful when programming but not particularly easy when working interactively on the commabd line. There are some functions which implement looping to make life easier :\n",
    "\n",
    "* **`lapply`** **:** loops over a **list** and evaluate a function on each element, (\"l\" stands for list).\n",
    "* **`sapply`** **:** same as `lapply` but try to simplify the results (\"s\" stands for simplify).\n",
    "* **`apply`** **:** apply a function over the margins of an array.\n",
    "* **`tapply`** **:** apply a function over subsets of a vector (\"t\" stands for table)\n",
    "* **`mapply`** **:** multivariate version of lapply (\"m\" stands for multivariate)\n",
    "* **`split()`** **:** (not a loop function) an auxilliary function that is also useful, particularly in conjuction with `lapply`.\n"
   ]
  },
  {
   "cell_type": "code",
   "execution_count": 1,
   "id": "8e5d88ca",
   "metadata": {},
   "outputs": [
    {
     "data": {
      "text/plain": [
       "x\n",
       "a b c d e f g h i j k l n o p q r s t u v w x y z \n",
       "3 5 5 8 5 6 5 5 2 3 4 9 5 6 2 2 2 3 4 4 1 4 2 3 2 "
      ]
     },
     "metadata": {},
     "output_type": "display_data"
    },
    {
     "data": {
      "text/html": [
       "<style>\n",
       ".dl-inline {width: auto; margin:0; padding: 0}\n",
       ".dl-inline>dt, .dl-inline>dd {float: none; width: auto; display: inline-block}\n",
       ".dl-inline>dt::after {content: \":\\0020\"; padding-right: .5ex}\n",
       ".dl-inline>dt:not(:first-of-type) {padding-left: .5ex}\n",
       "</style><dl class=dl-inline><dt>a</dt><dd>3</dd><dt>b</dt><dd>5</dd><dt>c</dt><dd>5</dd><dt>d</dt><dd>8</dd><dt>e</dt><dd>5</dd><dt>f</dt><dd>6</dd><dt>g</dt><dd>5</dd><dt>h</dt><dd>5</dd><dt>i</dt><dd>2</dd><dt>j</dt><dd>3</dd><dt>k</dt><dd>4</dd><dt>l</dt><dd>9</dd><dt>n</dt><dd>5</dd><dt>o</dt><dd>6</dd><dt>p</dt><dd>2</dd><dt>q</dt><dd>2</dd><dt>r</dt><dd>2</dd><dt>s</dt><dd>3</dd><dt>t</dt><dd>4</dd><dt>u</dt><dd>4</dd><dt>v</dt><dd>1</dd><dt>w</dt><dd>4</dd><dt>x</dt><dd>2</dd><dt>y</dt><dd>3</dd><dt>z</dt><dd>2</dd></dl>\n"
      ],
      "text/latex": [
       "\\begin{description*}\n",
       "\\item[a] 3\n",
       "\\item[b] 5\n",
       "\\item[c] 5\n",
       "\\item[d] 8\n",
       "\\item[e] 5\n",
       "\\item[f] 6\n",
       "\\item[g] 5\n",
       "\\item[h] 5\n",
       "\\item[i] 2\n",
       "\\item[j] 3\n",
       "\\item[k] 4\n",
       "\\item[l] 9\n",
       "\\item[n] 5\n",
       "\\item[o] 6\n",
       "\\item[p] 2\n",
       "\\item[q] 2\n",
       "\\item[r] 2\n",
       "\\item[s] 3\n",
       "\\item[t] 4\n",
       "\\item[u] 4\n",
       "\\item[v] 1\n",
       "\\item[w] 4\n",
       "\\item[x] 2\n",
       "\\item[y] 3\n",
       "\\item[z] 2\n",
       "\\end{description*}\n"
      ],
      "text/markdown": [
       "a\n",
       ":   3b\n",
       ":   5c\n",
       ":   5d\n",
       ":   8e\n",
       ":   5f\n",
       ":   6g\n",
       ":   5h\n",
       ":   5i\n",
       ":   2j\n",
       ":   3k\n",
       ":   4l\n",
       ":   9n\n",
       ":   5o\n",
       ":   6p\n",
       ":   2q\n",
       ":   2r\n",
       ":   2s\n",
       ":   3t\n",
       ":   4u\n",
       ":   4v\n",
       ":   1w\n",
       ":   4x\n",
       ":   2y\n",
       ":   3z\n",
       ":   2\n",
       "\n"
      ],
      "text/plain": [
       "a b c d e f g h i j k l n o p q r s t u v w x y z \n",
       "3 5 5 8 5 6 5 5 2 3 4 9 5 6 2 2 2 3 4 4 1 4 2 3 2 "
      ]
     },
     "metadata": {},
     "output_type": "display_data"
    }
   ],
   "source": [
    "x <- sample(letters, 100, rep=T)\n",
    "table(x)\n",
    "tapply(x, x, length)"
   ]
  },
  {
   "cell_type": "markdown",
   "id": "6b1ffb8a",
   "metadata": {},
   "source": [
    "<a id=\"1\"></a>\n",
    "\n",
    "# 1) `lapply` function\n",
    "\n",
    "The **`lapply()`** functions takes 3 arguments :\n",
    "\n",
    "* 1) a list `x`\n",
    "* 2) a function (or the name of a function) `FUN`\n",
    "* 3) other arguments via its `...` argument"
   ]
  },
  {
   "cell_type": "code",
   "execution_count": 2,
   "id": "ee37f6e0",
   "metadata": {},
   "outputs": [],
   "source": [
    "?lapply"
   ]
  },
  {
   "cell_type": "markdown",
   "id": "ff20cb9c",
   "metadata": {},
   "source": [
    "**NOTE :** If x is not a list, it will be coerced to a list using `as.list()`. `lapply` always returns a list, regardless of the class of the input."
   ]
  },
  {
   "cell_type": "code",
   "execution_count": 3,
   "id": "3fb8139c",
   "metadata": {},
   "outputs": [
    {
     "data": {
      "text/html": [
       "<dl>\n",
       "\t<dt>$a</dt>\n",
       "\t\t<dd><style>\n",
       ".list-inline {list-style: none; margin:0; padding: 0}\n",
       ".list-inline>li {display: inline-block}\n",
       ".list-inline>li:not(:last-child)::after {content: \"\\00b7\"; padding: 0 .5ex}\n",
       "</style>\n",
       "<ol class=list-inline><li>1</li><li>2</li><li>3</li><li>4</li><li>5</li></ol>\n",
       "</dd>\n",
       "\t<dt>$b</dt>\n",
       "\t\t<dd><style>\n",
       ".list-inline {list-style: none; margin:0; padding: 0}\n",
       ".list-inline>li {display: inline-block}\n",
       ".list-inline>li:not(:last-child)::after {content: \"\\00b7\"; padding: 0 .5ex}\n",
       "</style>\n",
       "<ol class=list-inline><li>0.597815407305513</li><li>-0.834639445775073</li><li>0.137743014716216</li><li>-0.186755039415485</li><li>1.31629427248615</li><li>-2.00895075661424</li><li>1.52340032686165</li><li>-0.316607467663995</li><li>-0.204707756084249</li><li>0.23638527812081</li></ol>\n",
       "</dd>\n",
       "</dl>\n"
      ],
      "text/latex": [
       "\\begin{description}\n",
       "\\item[\\$a] \\begin{enumerate*}\n",
       "\\item 1\n",
       "\\item 2\n",
       "\\item 3\n",
       "\\item 4\n",
       "\\item 5\n",
       "\\end{enumerate*}\n",
       "\n",
       "\\item[\\$b] \\begin{enumerate*}\n",
       "\\item 0.597815407305513\n",
       "\\item -0.834639445775073\n",
       "\\item 0.137743014716216\n",
       "\\item -0.186755039415485\n",
       "\\item 1.31629427248615\n",
       "\\item -2.00895075661424\n",
       "\\item 1.52340032686165\n",
       "\\item -0.316607467663995\n",
       "\\item -0.204707756084249\n",
       "\\item 0.23638527812081\n",
       "\\end{enumerate*}\n",
       "\n",
       "\\end{description}\n"
      ],
      "text/markdown": [
       "$a\n",
       ":   1. 1\n",
       "2. 2\n",
       "3. 3\n",
       "4. 4\n",
       "5. 5\n",
       "\n",
       "\n",
       "\n",
       "$b\n",
       ":   1. 0.597815407305513\n",
       "2. -0.834639445775073\n",
       "3. 0.137743014716216\n",
       "4. -0.186755039415485\n",
       "5. 1.31629427248615\n",
       "6. -2.00895075661424\n",
       "7. 1.52340032686165\n",
       "8. -0.316607467663995\n",
       "9. -0.204707756084249\n",
       "10. 0.23638527812081\n",
       "\n",
       "\n",
       "\n",
       "\n",
       "\n"
      ],
      "text/plain": [
       "$a\n",
       "[1] 1 2 3 4 5\n",
       "\n",
       "$b\n",
       " [1]  0.5978154 -0.8346394  0.1377430 -0.1867550  1.3162943 -2.0089508\n",
       " [7]  1.5234003 -0.3166075 -0.2047078  0.2363853\n"
      ]
     },
     "metadata": {},
     "output_type": "display_data"
    }
   ],
   "source": [
    "# Creating a list\n",
    "x <- list(a=1:5, b=rnorm(10))\n",
    "x"
   ]
  },
  {
   "cell_type": "code",
   "execution_count": 4,
   "id": "96065515",
   "metadata": {},
   "outputs": [
    {
     "data": {
      "text/html": [
       "<dl>\n",
       "\t<dt>$a</dt>\n",
       "\t\t<dd>3</dd>\n",
       "\t<dt>$b</dt>\n",
       "\t\t<dd>0.0259977833937296</dd>\n",
       "</dl>\n"
      ],
      "text/latex": [
       "\\begin{description}\n",
       "\\item[\\$a] 3\n",
       "\\item[\\$b] 0.0259977833937296\n",
       "\\end{description}\n"
      ],
      "text/markdown": [
       "$a\n",
       ":   3\n",
       "$b\n",
       ":   0.0259977833937296\n",
       "\n",
       "\n"
      ],
      "text/plain": [
       "$a\n",
       "[1] 3\n",
       "\n",
       "$b\n",
       "[1] 0.02599778\n"
      ]
     },
     "metadata": {},
     "output_type": "display_data"
    }
   ],
   "source": [
    "# lapply will loop over the elements of the list 'x' and apply the 'mean' function\n",
    "lapply(x, mean)"
   ]
  },
  {
   "cell_type": "code",
   "execution_count": 5,
   "id": "fdf80650",
   "metadata": {},
   "outputs": [
    {
     "data": {
      "text/html": [
       "<dl>\n",
       "\t<dt>$a</dt>\n",
       "\t\t<dd><style>\n",
       ".list-inline {list-style: none; margin:0; padding: 0}\n",
       ".list-inline>li {display: inline-block}\n",
       ".list-inline>li:not(:last-child)::after {content: \"\\00b7\"; padding: 0 .5ex}\n",
       "</style>\n",
       "<ol class=list-inline><li>1</li><li>2</li><li>3</li><li>4</li></ol>\n",
       "</dd>\n",
       "\t<dt>$b</dt>\n",
       "\t\t<dd><style>\n",
       ".list-inline {list-style: none; margin:0; padding: 0}\n",
       ".list-inline>li {display: inline-block}\n",
       ".list-inline>li:not(:last-child)::after {content: \"\\00b7\"; padding: 0 .5ex}\n",
       "</style>\n",
       "<ol class=list-inline><li>-1.21156443820173</li><li>0.0813487881240146</li><li>-0.749908794766905</li><li>0.59596003004295</li><li>0.329236116314908</li><li>-0.801485166960802</li><li>0.125179215853556</li><li>-0.625043082455674</li><li>0.415344759147784</li><li>1.31178156368428</li></ol>\n",
       "</dd>\n",
       "\t<dt>$c</dt>\n",
       "\t\t<dd><style>\n",
       ".list-inline {list-style: none; margin:0; padding: 0}\n",
       ".list-inline>li {display: inline-block}\n",
       ".list-inline>li:not(:last-child)::after {content: \"\\00b7\"; padding: 0 .5ex}\n",
       "</style>\n",
       "<ol class=list-inline><li>1.17908644411668</li><li>0.956078882736182</li><li>0.462354101329888</li><li>0.285836141448527</li><li>1.71564115581101</li><li>0.590435773250445</li><li>0.989853020598009</li><li>2.08270501046892</li><li>1.85149022396256</li><li>0.69346361525397</li><li>1.30375479222709</li><li>-1.95222640225598</li><li>1.0497416646269</li><li>1.28173705814323</li><li>0.761385103283111</li><li>1.58413926555967</li><li>1.40864132137795</li><li>2.27912954550821</li><li>-0.0979708760212126</li><li>1.53138489787</li></ol>\n",
       "</dd>\n",
       "\t<dt>$d</dt>\n",
       "\t\t<dd><style>\n",
       ".list-inline {list-style: none; margin:0; padding: 0}\n",
       ".list-inline>li {display: inline-block}\n",
       ".list-inline>li:not(:last-child)::after {content: \"\\00b7\"; padding: 0 .5ex}\n",
       "</style>\n",
       "<ol class=list-inline><li>4.80908338693545</li><li>5.32727640980297</li><li>5.10908659361482</li><li>5.34349065299534</li><li>3.25265784809877</li><li>4.11875585891585</li><li>6.24521420228653</li><li>4.2703724524146</li><li>3.93151268722304</li><li>4.73383469292106</li><li>6.15988206080254</li><li>4.59523945575756</li><li>4.73860886298263</li><li>5.34446228762481</li><li>4.94712932992468</li><li>4.83247152287743</li><li>4.72964137898091</li><li>6.33405917915692</li><li>3.97065837826103</li><li>4.5772419341821</li><li>3.89508590800255</li><li>5.19566433638519</li><li>6.42788051846138</li><li>4.73548892088079</li><li>3.8871003015778</li><li>4.91679070913671</li><li>3.93112373387742</li><li>4.23197810801575</li><li>6.44982692469222</li><li>4.99804489447682</li><li>4.73448630265162</li><li>7.67196019058215</li><li>4.35816137357222</li><li>5.15420012799455</li><li>5.2949720802966</li><li>6.9204665417366</li><li>4.74880239167981</li><li>3.63614304358856</li><li>4.94007251424566</li><li>3.98401308028907</li><li>4.20944490092429</li><li>6.32264373162062</li><li>5.74403162164378</li><li>4.82596890364948</li><li>4.184633173786</li><li>5.46128919373513</li><li>4.62410047765061</li><li>5.47460997923505</li><li>6.09578921339356</li><li>4.00108008293097</li><li>4.45159912354676</li><li>4.32819190070358</li><li>4.76033006119005</li><li>4.17539652214635</li><li>5.09665784017596</li><li>5.27679974175356</li><li>4.67726212623672</li><li>5.4435823142443</li><li>4.06532798290567</li><li>6.14255604415212</li><li>4.60615400941478</li><li>6.07477020076871</li><li>5.64254864447019</li><li>4.89450677346612</li><li>4.88052280962096</li><li>4.72232797023895</li><li>6.68633774500788</li><li>4.4384966953157</li><li>1.53784450820071</li><li>3.58619447619168</li><li>6.55808584752387</li><li>6.16812456653616</li><li>3.51044048769525</li><li>4.40587161340304</li><li>4.97300641359533</li><li>4.98558239717917</li><li>4.81488887926509</li><li>3.55577939737365</li><li>6.82309490480459</li><li>4.29231169353302</li><li>4.74059812953626</li><li>3.53288117074036</li><li>5.017151862117</li><li>5.22192031267744</li><li>4.66972446989784</li><li>5.7945478628892</li><li>4.6483108741894</li><li>5.44802714544771</li><li>5.13834455164174</li><li>4.4785313352063</li><li>6.51398665573644</li><li>5.78859522600707</li><li>6.08429730033655</li><li>5.16358045997982</li><li>5.18363304917928</li><li>4.38519257229805</li><li>4.60265995042017</li><li>5.63986085217473</li><li>5.55639373787952</li><li>5.47997526799346</li></ol>\n",
       "</dd>\n",
       "</dl>\n"
      ],
      "text/latex": [
       "\\begin{description}\n",
       "\\item[\\$a] \\begin{enumerate*}\n",
       "\\item 1\n",
       "\\item 2\n",
       "\\item 3\n",
       "\\item 4\n",
       "\\end{enumerate*}\n",
       "\n",
       "\\item[\\$b] \\begin{enumerate*}\n",
       "\\item -1.21156443820173\n",
       "\\item 0.0813487881240146\n",
       "\\item -0.749908794766905\n",
       "\\item 0.59596003004295\n",
       "\\item 0.329236116314908\n",
       "\\item -0.801485166960802\n",
       "\\item 0.125179215853556\n",
       "\\item -0.625043082455674\n",
       "\\item 0.415344759147784\n",
       "\\item 1.31178156368428\n",
       "\\end{enumerate*}\n",
       "\n",
       "\\item[\\$c] \\begin{enumerate*}\n",
       "\\item 1.17908644411668\n",
       "\\item 0.956078882736182\n",
       "\\item 0.462354101329888\n",
       "\\item 0.285836141448527\n",
       "\\item 1.71564115581101\n",
       "\\item 0.590435773250445\n",
       "\\item 0.989853020598009\n",
       "\\item 2.08270501046892\n",
       "\\item 1.85149022396256\n",
       "\\item 0.69346361525397\n",
       "\\item 1.30375479222709\n",
       "\\item -1.95222640225598\n",
       "\\item 1.0497416646269\n",
       "\\item 1.28173705814323\n",
       "\\item 0.761385103283111\n",
       "\\item 1.58413926555967\n",
       "\\item 1.40864132137795\n",
       "\\item 2.27912954550821\n",
       "\\item -0.0979708760212126\n",
       "\\item 1.53138489787\n",
       "\\end{enumerate*}\n",
       "\n",
       "\\item[\\$d] \\begin{enumerate*}\n",
       "\\item 4.80908338693545\n",
       "\\item 5.32727640980297\n",
       "\\item 5.10908659361482\n",
       "\\item 5.34349065299534\n",
       "\\item 3.25265784809877\n",
       "\\item 4.11875585891585\n",
       "\\item 6.24521420228653\n",
       "\\item 4.2703724524146\n",
       "\\item 3.93151268722304\n",
       "\\item 4.73383469292106\n",
       "\\item 6.15988206080254\n",
       "\\item 4.59523945575756\n",
       "\\item 4.73860886298263\n",
       "\\item 5.34446228762481\n",
       "\\item 4.94712932992468\n",
       "\\item 4.83247152287743\n",
       "\\item 4.72964137898091\n",
       "\\item 6.33405917915692\n",
       "\\item 3.97065837826103\n",
       "\\item 4.5772419341821\n",
       "\\item 3.89508590800255\n",
       "\\item 5.19566433638519\n",
       "\\item 6.42788051846138\n",
       "\\item 4.73548892088079\n",
       "\\item 3.8871003015778\n",
       "\\item 4.91679070913671\n",
       "\\item 3.93112373387742\n",
       "\\item 4.23197810801575\n",
       "\\item 6.44982692469222\n",
       "\\item 4.99804489447682\n",
       "\\item 4.73448630265162\n",
       "\\item 7.67196019058215\n",
       "\\item 4.35816137357222\n",
       "\\item 5.15420012799455\n",
       "\\item 5.2949720802966\n",
       "\\item 6.9204665417366\n",
       "\\item 4.74880239167981\n",
       "\\item 3.63614304358856\n",
       "\\item 4.94007251424566\n",
       "\\item 3.98401308028907\n",
       "\\item 4.20944490092429\n",
       "\\item 6.32264373162062\n",
       "\\item 5.74403162164378\n",
       "\\item 4.82596890364948\n",
       "\\item 4.184633173786\n",
       "\\item 5.46128919373513\n",
       "\\item 4.62410047765061\n",
       "\\item 5.47460997923505\n",
       "\\item 6.09578921339356\n",
       "\\item 4.00108008293097\n",
       "\\item 4.45159912354676\n",
       "\\item 4.32819190070358\n",
       "\\item 4.76033006119005\n",
       "\\item 4.17539652214635\n",
       "\\item 5.09665784017596\n",
       "\\item 5.27679974175356\n",
       "\\item 4.67726212623672\n",
       "\\item 5.4435823142443\n",
       "\\item 4.06532798290567\n",
       "\\item 6.14255604415212\n",
       "\\item 4.60615400941478\n",
       "\\item 6.07477020076871\n",
       "\\item 5.64254864447019\n",
       "\\item 4.89450677346612\n",
       "\\item 4.88052280962096\n",
       "\\item 4.72232797023895\n",
       "\\item 6.68633774500788\n",
       "\\item 4.4384966953157\n",
       "\\item 1.53784450820071\n",
       "\\item 3.58619447619168\n",
       "\\item 6.55808584752387\n",
       "\\item 6.16812456653616\n",
       "\\item 3.51044048769525\n",
       "\\item 4.40587161340304\n",
       "\\item 4.97300641359533\n",
       "\\item 4.98558239717917\n",
       "\\item 4.81488887926509\n",
       "\\item 3.55577939737365\n",
       "\\item 6.82309490480459\n",
       "\\item 4.29231169353302\n",
       "\\item 4.74059812953626\n",
       "\\item 3.53288117074036\n",
       "\\item 5.017151862117\n",
       "\\item 5.22192031267744\n",
       "\\item 4.66972446989784\n",
       "\\item 5.7945478628892\n",
       "\\item 4.6483108741894\n",
       "\\item 5.44802714544771\n",
       "\\item 5.13834455164174\n",
       "\\item 4.4785313352063\n",
       "\\item 6.51398665573644\n",
       "\\item 5.78859522600707\n",
       "\\item 6.08429730033655\n",
       "\\item 5.16358045997982\n",
       "\\item 5.18363304917928\n",
       "\\item 4.38519257229805\n",
       "\\item 4.60265995042017\n",
       "\\item 5.63986085217473\n",
       "\\item 5.55639373787952\n",
       "\\item 5.47997526799346\n",
       "\\end{enumerate*}\n",
       "\n",
       "\\end{description}\n"
      ],
      "text/markdown": [
       "$a\n",
       ":   1. 1\n",
       "2. 2\n",
       "3. 3\n",
       "4. 4\n",
       "\n",
       "\n",
       "\n",
       "$b\n",
       ":   1. -1.21156443820173\n",
       "2. 0.0813487881240146\n",
       "3. -0.749908794766905\n",
       "4. 0.59596003004295\n",
       "5. 0.329236116314908\n",
       "6. -0.801485166960802\n",
       "7. 0.125179215853556\n",
       "8. -0.625043082455674\n",
       "9. 0.415344759147784\n",
       "10. 1.31178156368428\n",
       "\n",
       "\n",
       "\n",
       "$c\n",
       ":   1. 1.17908644411668\n",
       "2. 0.956078882736182\n",
       "3. 0.462354101329888\n",
       "4. 0.285836141448527\n",
       "5. 1.71564115581101\n",
       "6. 0.590435773250445\n",
       "7. 0.989853020598009\n",
       "8. 2.08270501046892\n",
       "9. 1.85149022396256\n",
       "10. 0.69346361525397\n",
       "11. 1.30375479222709\n",
       "12. -1.95222640225598\n",
       "13. 1.0497416646269\n",
       "14. 1.28173705814323\n",
       "15. 0.761385103283111\n",
       "16. 1.58413926555967\n",
       "17. 1.40864132137795\n",
       "18. 2.27912954550821\n",
       "19. -0.0979708760212126\n",
       "20. 1.53138489787\n",
       "\n",
       "\n",
       "\n",
       "$d\n",
       ":   1. 4.80908338693545\n",
       "2. 5.32727640980297\n",
       "3. 5.10908659361482\n",
       "4. 5.34349065299534\n",
       "5. 3.25265784809877\n",
       "6. 4.11875585891585\n",
       "7. 6.24521420228653\n",
       "8. 4.2703724524146\n",
       "9. 3.93151268722304\n",
       "10. 4.73383469292106\n",
       "11. 6.15988206080254\n",
       "12. 4.59523945575756\n",
       "13. 4.73860886298263\n",
       "14. 5.34446228762481\n",
       "15. 4.94712932992468\n",
       "16. 4.83247152287743\n",
       "17. 4.72964137898091\n",
       "18. 6.33405917915692\n",
       "19. 3.97065837826103\n",
       "20. 4.5772419341821\n",
       "21. 3.89508590800255\n",
       "22. 5.19566433638519\n",
       "23. 6.42788051846138\n",
       "24. 4.73548892088079\n",
       "25. 3.8871003015778\n",
       "26. 4.91679070913671\n",
       "27. 3.93112373387742\n",
       "28. 4.23197810801575\n",
       "29. 6.44982692469222\n",
       "30. 4.99804489447682\n",
       "31. 4.73448630265162\n",
       "32. 7.67196019058215\n",
       "33. 4.35816137357222\n",
       "34. 5.15420012799455\n",
       "35. 5.2949720802966\n",
       "36. 6.9204665417366\n",
       "37. 4.74880239167981\n",
       "38. 3.63614304358856\n",
       "39. 4.94007251424566\n",
       "40. 3.98401308028907\n",
       "41. 4.20944490092429\n",
       "42. 6.32264373162062\n",
       "43. 5.74403162164378\n",
       "44. 4.82596890364948\n",
       "45. 4.184633173786\n",
       "46. 5.46128919373513\n",
       "47. 4.62410047765061\n",
       "48. 5.47460997923505\n",
       "49. 6.09578921339356\n",
       "50. 4.00108008293097\n",
       "51. 4.45159912354676\n",
       "52. 4.32819190070358\n",
       "53. 4.76033006119005\n",
       "54. 4.17539652214635\n",
       "55. 5.09665784017596\n",
       "56. 5.27679974175356\n",
       "57. 4.67726212623672\n",
       "58. 5.4435823142443\n",
       "59. 4.06532798290567\n",
       "60. 6.14255604415212\n",
       "61. 4.60615400941478\n",
       "62. 6.07477020076871\n",
       "63. 5.64254864447019\n",
       "64. 4.89450677346612\n",
       "65. 4.88052280962096\n",
       "66. 4.72232797023895\n",
       "67. 6.68633774500788\n",
       "68. 4.4384966953157\n",
       "69. 1.53784450820071\n",
       "70. 3.58619447619168\n",
       "71. 6.55808584752387\n",
       "72. 6.16812456653616\n",
       "73. 3.51044048769525\n",
       "74. 4.40587161340304\n",
       "75. 4.97300641359533\n",
       "76. 4.98558239717917\n",
       "77. 4.81488887926509\n",
       "78. 3.55577939737365\n",
       "79. 6.82309490480459\n",
       "80. 4.29231169353302\n",
       "81. 4.74059812953626\n",
       "82. 3.53288117074036\n",
       "83. 5.017151862117\n",
       "84. 5.22192031267744\n",
       "85. 4.66972446989784\n",
       "86. 5.7945478628892\n",
       "87. 4.6483108741894\n",
       "88. 5.44802714544771\n",
       "89. 5.13834455164174\n",
       "90. 4.4785313352063\n",
       "91. 6.51398665573644\n",
       "92. 5.78859522600707\n",
       "93. 6.08429730033655\n",
       "94. 5.16358045997982\n",
       "95. 5.18363304917928\n",
       "96. 4.38519257229805\n",
       "97. 4.60265995042017\n",
       "98. 5.63986085217473\n",
       "99. 5.55639373787952\n",
       "100. 5.47997526799346\n",
       "\n",
       "\n",
       "\n",
       "\n",
       "\n"
      ],
      "text/plain": [
       "$a\n",
       "[1] 1 2 3 4\n",
       "\n",
       "$b\n",
       " [1] -1.21156444  0.08134879 -0.74990879  0.59596003  0.32923612 -0.80148517\n",
       " [7]  0.12517922 -0.62504308  0.41534476  1.31178156\n",
       "\n",
       "$c\n",
       " [1]  1.17908644  0.95607888  0.46235410  0.28583614  1.71564116  0.59043577\n",
       " [7]  0.98985302  2.08270501  1.85149022  0.69346362  1.30375479 -1.95222640\n",
       "[13]  1.04974166  1.28173706  0.76138510  1.58413927  1.40864132  2.27912955\n",
       "[19] -0.09797088  1.53138490\n",
       "\n",
       "$d\n",
       "  [1] 4.809083 5.327276 5.109087 5.343491 3.252658 4.118756 6.245214 4.270372\n",
       "  [9] 3.931513 4.733835 6.159882 4.595239 4.738609 5.344462 4.947129 4.832472\n",
       " [17] 4.729641 6.334059 3.970658 4.577242 3.895086 5.195664 6.427881 4.735489\n",
       " [25] 3.887100 4.916791 3.931124 4.231978 6.449827 4.998045 4.734486 7.671960\n",
       " [33] 4.358161 5.154200 5.294972 6.920467 4.748802 3.636143 4.940073 3.984013\n",
       " [41] 4.209445 6.322644 5.744032 4.825969 4.184633 5.461289 4.624100 5.474610\n",
       " [49] 6.095789 4.001080 4.451599 4.328192 4.760330 4.175397 5.096658 5.276800\n",
       " [57] 4.677262 5.443582 4.065328 6.142556 4.606154 6.074770 5.642549 4.894507\n",
       " [65] 4.880523 4.722328 6.686338 4.438497 1.537845 3.586194 6.558086 6.168125\n",
       " [73] 3.510440 4.405872 4.973006 4.985582 4.814889 3.555779 6.823095 4.292312\n",
       " [81] 4.740598 3.532881 5.017152 5.221920 4.669724 5.794548 4.648311 5.448027\n",
       " [89] 5.138345 4.478531 6.513987 5.788595 6.084297 5.163580 5.183633 4.385193\n",
       " [97] 4.602660 5.639861 5.556394 5.479975\n"
      ]
     },
     "metadata": {},
     "output_type": "display_data"
    }
   ],
   "source": [
    "# rnorm(nb of simulations, mean)\n",
    "(x <- list(a=1:4, b=rnorm(10), c=rnorm(20,1), d=rnorm(100,5)))"
   ]
  },
  {
   "cell_type": "code",
   "execution_count": 6,
   "id": "ceb54c37",
   "metadata": {},
   "outputs": [
    {
     "data": {
      "text/html": [
       "<dl>\n",
       "\t<dt>$a</dt>\n",
       "\t\t<dd>2.5</dd>\n",
       "\t<dt>$b</dt>\n",
       "\t\t<dd>-0.0529151009217622</dd>\n",
       "\t<dt>$c</dt>\n",
       "\t\t<dd>0.997833036964758</dd>\n",
       "\t<dt>$d</dt>\n",
       "\t\t<dd>4.9708933893348</dd>\n",
       "</dl>\n"
      ],
      "text/latex": [
       "\\begin{description}\n",
       "\\item[\\$a] 2.5\n",
       "\\item[\\$b] -0.0529151009217622\n",
       "\\item[\\$c] 0.997833036964758\n",
       "\\item[\\$d] 4.9708933893348\n",
       "\\end{description}\n"
      ],
      "text/markdown": [
       "$a\n",
       ":   2.5\n",
       "$b\n",
       ":   -0.0529151009217622\n",
       "$c\n",
       ":   0.997833036964758\n",
       "$d\n",
       ":   4.9708933893348\n",
       "\n",
       "\n"
      ],
      "text/plain": [
       "$a\n",
       "[1] 2.5\n",
       "\n",
       "$b\n",
       "[1] -0.0529151\n",
       "\n",
       "$c\n",
       "[1] 0.997833\n",
       "\n",
       "$d\n",
       "[1] 4.970893\n"
      ]
     },
     "metadata": {},
     "output_type": "display_data"
    }
   ],
   "source": [
    "lapply(x, mean)"
   ]
  },
  {
   "cell_type": "code",
   "execution_count": 7,
   "id": "dc354488",
   "metadata": {},
   "outputs": [
    {
     "data": {
      "text/html": [
       "<ol>\n",
       "\t<li>0.879261496243998</li>\n",
       "\t<li><style>\n",
       ".list-inline {list-style: none; margin:0; padding: 0}\n",
       ".list-inline>li {display: inline-block}\n",
       ".list-inline>li:not(:last-child)::after {content: \"\\00b7\"; padding: 0 .5ex}\n",
       "</style>\n",
       "<ol class=list-inline><li>0.872274373890832</li><li>0.521053172880784</li></ol>\n",
       "</li>\n",
       "\t<li><style>\n",
       ".list-inline {list-style: none; margin:0; padding: 0}\n",
       ".list-inline>li {display: inline-block}\n",
       ".list-inline>li:not(:last-child)::after {content: \"\\00b7\"; padding: 0 .5ex}\n",
       "</style>\n",
       "<ol class=list-inline><li>0.601814632536843</li><li>0.861598968505859</li><li>0.771550180623308</li></ol>\n",
       "</li>\n",
       "\t<li><style>\n",
       ".list-inline {list-style: none; margin:0; padding: 0}\n",
       ".list-inline>li {display: inline-block}\n",
       ".list-inline>li:not(:last-child)::after {content: \"\\00b7\"; padding: 0 .5ex}\n",
       "</style>\n",
       "<ol class=list-inline><li>0.291208267211914</li><li>0.924877539044246</li><li>0.204114561202005</li><li>0.275957947364077</li></ol>\n",
       "</li>\n",
       "</ol>\n"
      ],
      "text/latex": [
       "\\begin{enumerate}\n",
       "\\item 0.879261496243998\n",
       "\\item \\begin{enumerate*}\n",
       "\\item 0.872274373890832\n",
       "\\item 0.521053172880784\n",
       "\\end{enumerate*}\n",
       "\n",
       "\\item \\begin{enumerate*}\n",
       "\\item 0.601814632536843\n",
       "\\item 0.861598968505859\n",
       "\\item 0.771550180623308\n",
       "\\end{enumerate*}\n",
       "\n",
       "\\item \\begin{enumerate*}\n",
       "\\item 0.291208267211914\n",
       "\\item 0.924877539044246\n",
       "\\item 0.204114561202005\n",
       "\\item 0.275957947364077\n",
       "\\end{enumerate*}\n",
       "\n",
       "\\end{enumerate}\n"
      ],
      "text/markdown": [
       "1. 0.879261496243998\n",
       "2. 1. 0.872274373890832\n",
       "2. 0.521053172880784\n",
       "\n",
       "\n",
       "\n",
       "3. 1. 0.601814632536843\n",
       "2. 0.861598968505859\n",
       "3. 0.771550180623308\n",
       "\n",
       "\n",
       "\n",
       "4. 1. 0.291208267211914\n",
       "2. 0.924877539044246\n",
       "3. 0.204114561202005\n",
       "4. 0.275957947364077\n",
       "\n",
       "\n",
       "\n",
       "\n",
       "\n"
      ],
      "text/plain": [
       "[[1]]\n",
       "[1] 0.8792615\n",
       "\n",
       "[[2]]\n",
       "[1] 0.8722744 0.5210532\n",
       "\n",
       "[[3]]\n",
       "[1] 0.6018146 0.8615990 0.7715502\n",
       "\n",
       "[[4]]\n",
       "[1] 0.2912083 0.9248775 0.2041146 0.2759579\n"
      ]
     },
     "metadata": {},
     "output_type": "display_data"
    }
   ],
   "source": [
    "# 'lapply' will loop over the elements of 'x' & generate random outcomes from the uniform distribution\n",
    "x <- 1:4\n",
    "lapply(x, runif)"
   ]
  },
  {
   "cell_type": "markdown",
   "id": "602216ff",
   "metadata": {},
   "source": [
    "**NOTE :** `lapply` and friends make heavy use of the anonymous functions.\n",
    "\n",
    "* <u>**Anonymous functions**</u> **:** functions that don't have names"
   ]
  },
  {
   "cell_type": "code",
   "execution_count": 8,
   "id": "64cdb771",
   "metadata": {},
   "outputs": [
    {
     "data": {
      "text/html": [
       "<dl>\n",
       "\t<dt>$a</dt>\n",
       "\t\t<dd><table class=\"dataframe\">\n",
       "<caption>A matrix: 2 × 2 of type int</caption>\n",
       "<tbody>\n",
       "\t<tr><td>1</td><td>3</td></tr>\n",
       "\t<tr><td>2</td><td>4</td></tr>\n",
       "</tbody>\n",
       "</table>\n",
       "</dd>\n",
       "\t<dt>$b</dt>\n",
       "\t\t<dd><table class=\"dataframe\">\n",
       "<caption>A matrix: 3 × 2 of type int</caption>\n",
       "<tbody>\n",
       "\t<tr><td>1</td><td>4</td></tr>\n",
       "\t<tr><td>2</td><td>5</td></tr>\n",
       "\t<tr><td>3</td><td>6</td></tr>\n",
       "</tbody>\n",
       "</table>\n",
       "</dd>\n",
       "</dl>\n"
      ],
      "text/latex": [
       "\\begin{description}\n",
       "\\item[\\$a] A matrix: 2 × 2 of type int\n",
       "\\begin{tabular}{ll}\n",
       "\t 1 & 3\\\\\n",
       "\t 2 & 4\\\\\n",
       "\\end{tabular}\n",
       "\n",
       "\\item[\\$b] A matrix: 3 × 2 of type int\n",
       "\\begin{tabular}{ll}\n",
       "\t 1 & 4\\\\\n",
       "\t 2 & 5\\\\\n",
       "\t 3 & 6\\\\\n",
       "\\end{tabular}\n",
       "\n",
       "\\end{description}\n"
      ],
      "text/markdown": [
       "$a\n",
       ":   \n",
       "A matrix: 2 × 2 of type int\n",
       "\n",
       "| 1 | 3 |\n",
       "| 2 | 4 |\n",
       "\n",
       "\n",
       "$b\n",
       ":   \n",
       "A matrix: 3 × 2 of type int\n",
       "\n",
       "| 1 | 4 |\n",
       "| 2 | 5 |\n",
       "| 3 | 6 |\n",
       "\n",
       "\n",
       "\n",
       "\n"
      ],
      "text/plain": [
       "$a\n",
       "     [,1] [,2]\n",
       "[1,]    1    3\n",
       "[2,]    2    4\n",
       "\n",
       "$b\n",
       "     [,1] [,2]\n",
       "[1,]    1    4\n",
       "[2,]    2    5\n",
       "[3,]    3    6\n"
      ]
     },
     "metadata": {},
     "output_type": "display_data"
    }
   ],
   "source": [
    "(x <- list(a = matrix(1:4,2,2), b=matrix(1:6,3,2)))"
   ]
  },
  {
   "cell_type": "markdown",
   "id": "4c7ac035",
   "metadata": {},
   "source": [
    "Suppose we want to extract the first column from each one of these matrixes, there is no function that already extracts first column of a matrix, but this is easy to do, we can just write a function that takes the first column of a matrix :"
   ]
  },
  {
   "cell_type": "code",
   "execution_count": 9,
   "id": "838614d9",
   "metadata": {},
   "outputs": [
    {
     "data": {
      "text/html": [
       "<dl>\n",
       "\t<dt>$a</dt>\n",
       "\t\t<dd><style>\n",
       ".list-inline {list-style: none; margin:0; padding: 0}\n",
       ".list-inline>li {display: inline-block}\n",
       ".list-inline>li:not(:last-child)::after {content: \"\\00b7\"; padding: 0 .5ex}\n",
       "</style>\n",
       "<ol class=list-inline><li>1</li><li>2</li></ol>\n",
       "</dd>\n",
       "\t<dt>$b</dt>\n",
       "\t\t<dd><style>\n",
       ".list-inline {list-style: none; margin:0; padding: 0}\n",
       ".list-inline>li {display: inline-block}\n",
       ".list-inline>li:not(:last-child)::after {content: \"\\00b7\"; padding: 0 .5ex}\n",
       "</style>\n",
       "<ol class=list-inline><li>1</li><li>2</li><li>3</li></ol>\n",
       "</dd>\n",
       "</dl>\n"
      ],
      "text/latex": [
       "\\begin{description}\n",
       "\\item[\\$a] \\begin{enumerate*}\n",
       "\\item 1\n",
       "\\item 2\n",
       "\\end{enumerate*}\n",
       "\n",
       "\\item[\\$b] \\begin{enumerate*}\n",
       "\\item 1\n",
       "\\item 2\n",
       "\\item 3\n",
       "\\end{enumerate*}\n",
       "\n",
       "\\end{description}\n"
      ],
      "text/markdown": [
       "$a\n",
       ":   1. 1\n",
       "2. 2\n",
       "\n",
       "\n",
       "\n",
       "$b\n",
       ":   1. 1\n",
       "2. 2\n",
       "3. 3\n",
       "\n",
       "\n",
       "\n",
       "\n",
       "\n"
      ],
      "text/plain": [
       "$a\n",
       "[1] 1 2\n",
       "\n",
       "$b\n",
       "[1] 1 2 3\n"
      ]
     },
     "metadata": {},
     "output_type": "display_data"
    }
   ],
   "source": [
    "# extracting the first column of each matrix in the list 'x'\n",
    "lapply(x, function (elt) elt[,1])"
   ]
  },
  {
   "cell_type": "code",
   "execution_count": 10,
   "id": "172eaf9f",
   "metadata": {},
   "outputs": [
    {
     "data": {
      "text/html": [
       "<dl>\n",
       "\t<dt>$a</dt>\n",
       "\t\t<dd><style>\n",
       ".list-inline {list-style: none; margin:0; padding: 0}\n",
       ".list-inline>li {display: inline-block}\n",
       ".list-inline>li:not(:last-child)::after {content: \"\\00b7\"; padding: 0 .5ex}\n",
       "</style>\n",
       "<ol class=list-inline><li>1</li><li>3</li></ol>\n",
       "</dd>\n",
       "\t<dt>$b</dt>\n",
       "\t\t<dd><style>\n",
       ".list-inline {list-style: none; margin:0; padding: 0}\n",
       ".list-inline>li {display: inline-block}\n",
       ".list-inline>li:not(:last-child)::after {content: \"\\00b7\"; padding: 0 .5ex}\n",
       "</style>\n",
       "<ol class=list-inline><li>1</li><li>4</li></ol>\n",
       "</dd>\n",
       "</dl>\n"
      ],
      "text/latex": [
       "\\begin{description}\n",
       "\\item[\\$a] \\begin{enumerate*}\n",
       "\\item 1\n",
       "\\item 3\n",
       "\\end{enumerate*}\n",
       "\n",
       "\\item[\\$b] \\begin{enumerate*}\n",
       "\\item 1\n",
       "\\item 4\n",
       "\\end{enumerate*}\n",
       "\n",
       "\\end{description}\n"
      ],
      "text/markdown": [
       "$a\n",
       ":   1. 1\n",
       "2. 3\n",
       "\n",
       "\n",
       "\n",
       "$b\n",
       ":   1. 1\n",
       "2. 4\n",
       "\n",
       "\n",
       "\n",
       "\n",
       "\n"
      ],
      "text/plain": [
       "$a\n",
       "[1] 1 3\n",
       "\n",
       "$b\n",
       "[1] 1 4\n"
      ]
     },
     "metadata": {},
     "output_type": "display_data"
    }
   ],
   "source": [
    "# extracting the first row of each matrix in the list 'x'\n",
    "lapply(x, function (elt) elt[1,])"
   ]
  },
  {
   "cell_type": "markdown",
   "id": "6509a69f",
   "metadata": {},
   "source": [
    "<a id=\"2\"></a>\n",
    "\n",
    "# 2) `sapply` function\n",
    "\n",
    "**`sapply()`** will try to simplify the result of the `lapply` if possible :\n",
    "\n",
    "* If the result is a **list** where every element is of length 1, then a **vector** is returned.\n",
    "* If the result is a list where every element is a vector of the same length $(>1)$, a **matrix** is returned.\n",
    "* If it can't figure things out, a list is returned."
   ]
  },
  {
   "cell_type": "code",
   "execution_count": 11,
   "id": "6602c999",
   "metadata": {},
   "outputs": [
    {
     "data": {
      "text/html": [
       "<style>\n",
       ".dl-inline {width: auto; margin:0; padding: 0}\n",
       ".dl-inline>dt, .dl-inline>dd {float: none; width: auto; display: inline-block}\n",
       ".dl-inline>dt::after {content: \":\\0020\"; padding-right: .5ex}\n",
       ".dl-inline>dt:not(:first-of-type) {padding-left: .5ex}\n",
       "</style><dl class=dl-inline><dt>a</dt><dd>3</dd><dt>b</dt><dd>0.543822502347493</dd></dl>\n"
      ],
      "text/latex": [
       "\\begin{description*}\n",
       "\\item[a] 3\n",
       "\\item[b] 0.543822502347493\n",
       "\\end{description*}\n"
      ],
      "text/markdown": [
       "a\n",
       ":   3b\n",
       ":   0.543822502347493\n",
       "\n"
      ],
      "text/plain": [
       "        a         b \n",
       "3.0000000 0.5438225 "
      ]
     },
     "metadata": {},
     "output_type": "display_data"
    }
   ],
   "source": [
    "# Creating a list\n",
    "x <- list(a=1:5, b=rnorm(10))\n",
    "# sapply will loop over the elements of the list 'x' and apply the 'mean' function, and return a vector\n",
    "sapply(x, mean)"
   ]
  },
  {
   "cell_type": "code",
   "execution_count": 12,
   "id": "8099ff80",
   "metadata": {
    "scrolled": true
   },
   "outputs": [
    {
     "data": {
      "text/html": [
       "<table class=\"dataframe\">\n",
       "<caption>A matrix: 2 × 2 of type int</caption>\n",
       "<thead>\n",
       "\t<tr><th scope=col>a</th><th scope=col>b</th></tr>\n",
       "</thead>\n",
       "<tbody>\n",
       "\t<tr><td>1</td><td>1</td></tr>\n",
       "\t<tr><td>3</td><td>4</td></tr>\n",
       "</tbody>\n",
       "</table>\n"
      ],
      "text/latex": [
       "A matrix: 2 × 2 of type int\n",
       "\\begin{tabular}{ll}\n",
       " a & b\\\\\n",
       "\\hline\n",
       "\t 1 & 1\\\\\n",
       "\t 3 & 4\\\\\n",
       "\\end{tabular}\n"
      ],
      "text/markdown": [
       "\n",
       "A matrix: 2 × 2 of type int\n",
       "\n",
       "| a | b |\n",
       "|---|---|\n",
       "| 1 | 1 |\n",
       "| 3 | 4 |\n",
       "\n"
      ],
      "text/plain": [
       "     a b\n",
       "[1,] 1 1\n",
       "[2,] 3 4"
      ]
     },
     "metadata": {},
     "output_type": "display_data"
    }
   ],
   "source": [
    "# Creating a list of matrices having the same number of columns (2)\n",
    "x <- list(a = matrix(1:4,2,2), b=matrix(1:6,3,2))\n",
    "# extracting the first row of each matrix in the list 'x', sapply will return a matrix\n",
    "sapply(x, function (elt) elt[1,])"
   ]
  },
  {
   "cell_type": "code",
   "execution_count": 13,
   "id": "34aaff64",
   "metadata": {
    "scrolled": false
   },
   "outputs": [
    {
     "data": {
      "image/png": "[encoded data removed]",
      "text/plain": [
       "plot without title"
      ]
     },
     "metadata": {
      "image/png": {
       "height": 420,
       "width": 420
      }
     },
     "output_type": "display_data"
    }
   ],
   "source": [
    "library(lattice)\n",
    "\n",
    "x <- list(a=1:4, b=rnorm(10), c=rnorm(20,1), d=rnorm(100,5))\n",
    "densityplot(x$d)"
   ]
  },
  {
   "cell_type": "code",
   "execution_count": 14,
   "id": "b1a654ff",
   "metadata": {},
   "outputs": [
    {
     "data": {
      "text/html": [
       "<style>\n",
       ".dl-inline {width: auto; margin:0; padding: 0}\n",
       ".dl-inline>dt, .dl-inline>dd {float: none; width: auto; display: inline-block}\n",
       ".dl-inline>dt::after {content: \":\\0020\"; padding-right: .5ex}\n",
       ".dl-inline>dt:not(:first-of-type) {padding-left: .5ex}\n",
       "</style><dl class=dl-inline><dt>a</dt><dd>2.5</dd><dt>b</dt><dd>0.208288189996127</dd><dt>c</dt><dd>0.714668795050829</dd><dt>d</dt><dd>5.21111929386284</dd></dl>\n"
      ],
      "text/latex": [
       "\\begin{description*}\n",
       "\\item[a] 2.5\n",
       "\\item[b] 0.208288189996127\n",
       "\\item[c] 0.714668795050829\n",
       "\\item[d] 5.21111929386284\n",
       "\\end{description*}\n"
      ],
      "text/markdown": [
       "a\n",
       ":   2.5b\n",
       ":   0.208288189996127c\n",
       ":   0.714668795050829d\n",
       ":   5.21111929386284\n",
       "\n"
      ],
      "text/plain": [
       "        a         b         c         d \n",
       "2.5000000 0.2082882 0.7146688 5.2111193 "
      ]
     },
     "metadata": {},
     "output_type": "display_data"
    }
   ],
   "source": [
    "sapply(x, mean)"
   ]
  },
  {
   "cell_type": "markdown",
   "id": "18c7cce1",
   "metadata": {},
   "source": [
    "<a id=\"3\"></a>\n",
    "\n",
    "# 3) `apply` function\n",
    "\n",
    "**`apply()`** is used to evaluate a function (often an anonymous one) over the margins of an array :\n",
    "\n",
    "* It is most often used to apply a function to the rows or columns of a matrix.\n",
    "* It can be used with general arrays, e.g. taking the average of an array of matrices.\n",
    "* It is not really faster than writing a loop (e.g a `for` loop), but it works in one line!\n"
   ]
  },
  {
   "cell_type": "code",
   "execution_count": 15,
   "id": "67aaf798",
   "metadata": {},
   "outputs": [
    {
     "name": "stdout",
     "output_type": "stream",
     "text": [
      "function (X, MARGIN, FUN, ..., simplify = TRUE)  \n"
     ]
    }
   ],
   "source": [
    "str(apply)"
   ]
  },
  {
   "cell_type": "markdown",
   "id": "3b645d93",
   "metadata": {},
   "source": [
    "* `X` is an array\n",
    "* `MARGIN` is an integer vector indicating which margins should be \"retained\"\n",
    "* `FUN` is a function to be applied\n",
    "* `...` is for other arguments to be passed to `FUN`"
   ]
  },
  {
   "cell_type": "markdown",
   "id": "5a150e13",
   "metadata": {},
   "source": [
    "**Example :** Here's a matrix that we're creating, it has 20 rows and 10 columns :"
   ]
  },
  {
   "cell_type": "code",
   "execution_count": 16,
   "id": "10a393d4",
   "metadata": {},
   "outputs": [
    {
     "data": {
      "text/html": [
       "<style>\n",
       ".list-inline {list-style: none; margin:0; padding: 0}\n",
       ".list-inline>li {display: inline-block}\n",
       ".list-inline>li:not(:last-child)::after {content: \"\\00b7\"; padding: 0 .5ex}\n",
       "</style>\n",
       "<ol class=list-inline><li>-0.312496117247897</li><li>1.02718032872514</li><li>-3.08314066764396</li><li>4.29837315994602</li><li>3.28127879422765</li><li>-0.920791262639973</li><li>2.96413495389534</li><li>7.55868845732533</li><li>-5.00717526989077</li><li>0.770757032542399</li></ol>\n"
      ],
      "text/latex": [
       "\\begin{enumerate*}\n",
       "\\item -0.312496117247897\n",
       "\\item 1.02718032872514\n",
       "\\item -3.08314066764396\n",
       "\\item 4.29837315994602\n",
       "\\item 3.28127879422765\n",
       "\\item -0.920791262639973\n",
       "\\item 2.96413495389534\n",
       "\\item 7.55868845732533\n",
       "\\item -5.00717526989077\n",
       "\\item 0.770757032542399\n",
       "\\end{enumerate*}\n"
      ],
      "text/markdown": [
       "1. -0.312496117247897\n",
       "2. 1.02718032872514\n",
       "3. -3.08314066764396\n",
       "4. 4.29837315994602\n",
       "5. 3.28127879422765\n",
       "6. -0.920791262639973\n",
       "7. 2.96413495389534\n",
       "8. 7.55868845732533\n",
       "9. -5.00717526989077\n",
       "10. 0.770757032542399\n",
       "\n",
       "\n"
      ],
      "text/plain": [
       " [1] -0.3124961  1.0271803 -3.0831407  4.2983732  3.2812788 -0.9207913\n",
       " [7]  2.9641350  7.5586885 -5.0071753  0.7707570"
      ]
     },
     "metadata": {},
     "output_type": "display_data"
    },
    {
     "data": {
      "text/html": [
       "<style>\n",
       ".list-inline {list-style: none; margin:0; padding: 0}\n",
       ".list-inline>li {display: inline-block}\n",
       ".list-inline>li:not(:last-child)::after {content: \"\\00b7\"; padding: 0 .5ex}\n",
       "</style>\n",
       "<ol class=list-inline><li>0.0859806921654796</li><li>0.360269230912369</li><li>0.26988821333618</li><li>-0.1447921722079</li><li>0.240423079249611</li><li>0.513885184853326</li><li>0.354868608430939</li><li>0.0174310680812181</li><li>-0.416088595291185</li><li>-0.0552881069617971</li><li>-0.2772833468122</li><li>0.362466645133908</li><li>0.439904914258741</li><li>0.0820954958770133</li><li>0.355758003863813</li><li>-0.32326767102581</li><li>0.0294408683733937</li><li>-0.171193343898966</li><li>-0.482699849905562</li><li>-0.184117977508644</li></ol>\n"
      ],
      "text/latex": [
       "\\begin{enumerate*}\n",
       "\\item 0.0859806921654796\n",
       "\\item 0.360269230912369\n",
       "\\item 0.26988821333618\n",
       "\\item -0.1447921722079\n",
       "\\item 0.240423079249611\n",
       "\\item 0.513885184853326\n",
       "\\item 0.354868608430939\n",
       "\\item 0.0174310680812181\n",
       "\\item -0.416088595291185\n",
       "\\item -0.0552881069617971\n",
       "\\item -0.2772833468122\n",
       "\\item 0.362466645133908\n",
       "\\item 0.439904914258741\n",
       "\\item 0.0820954958770133\n",
       "\\item 0.355758003863813\n",
       "\\item -0.32326767102581\n",
       "\\item 0.0294408683733937\n",
       "\\item -0.171193343898966\n",
       "\\item -0.482699849905562\n",
       "\\item -0.184117977508644\n",
       "\\end{enumerate*}\n"
      ],
      "text/markdown": [
       "1. 0.0859806921654796\n",
       "2. 0.360269230912369\n",
       "3. 0.26988821333618\n",
       "4. -0.1447921722079\n",
       "5. 0.240423079249611\n",
       "6. 0.513885184853326\n",
       "7. 0.354868608430939\n",
       "8. 0.0174310680812181\n",
       "9. -0.416088595291185\n",
       "10. -0.0552881069617971\n",
       "11. -0.2772833468122\n",
       "12. 0.362466645133908\n",
       "13. 0.439904914258741\n",
       "14. 0.0820954958770133\n",
       "15. 0.355758003863813\n",
       "16. -0.32326767102581\n",
       "17. 0.0294408683733937\n",
       "18. -0.171193343898966\n",
       "19. -0.482699849905562\n",
       "20. -0.184117977508644\n",
       "\n",
       "\n"
      ],
      "text/plain": [
       " [1]  0.08598069  0.36026923  0.26988821 -0.14479217  0.24042308  0.51388518\n",
       " [7]  0.35486861  0.01743107 -0.41608860 -0.05528811 -0.27728335  0.36246665\n",
       "[13]  0.43990491  0.08209550  0.35575800 -0.32326767  0.02944087 -0.17119334\n",
       "[19] -0.48269985 -0.18411798"
      ]
     },
     "metadata": {},
     "output_type": "display_data"
    }
   ],
   "source": [
    "x <- matrix(rnorm(200), 20, 10)\n",
    "\n",
    "# calculating the sum on each column\n",
    "apply(x, 2, sum)\n",
    "\n",
    "# calculating the mean on each row \n",
    "apply(x, 1, mean)"
   ]
  },
  {
   "cell_type": "markdown",
   "id": "b3c3cdd5",
   "metadata": {},
   "source": [
    "### <u>Column/Row sums and means</u>\n",
    "\n",
    "For sums and means of matrix dimensions, we have some shortcuts :\n",
    "\n",
    "* **`rowSums(x)` = apply(x,1, sum)**\n",
    "* **`colSums(x)` = apply(x,2, sum)**\n",
    "* **`rowMeans(x)` = apply(x,1, mean)**\n",
    "* **`colMeans(x)` = apply(x,2, mean)**"
   ]
  },
  {
   "cell_type": "code",
   "execution_count": 17,
   "id": "17cc3cfe",
   "metadata": {},
   "outputs": [
    {
     "data": {
      "text/html": [
       "TRUE"
      ],
      "text/latex": [
       "TRUE"
      ],
      "text/markdown": [
       "TRUE"
      ],
      "text/plain": [
       "[1] TRUE"
      ]
     },
     "metadata": {},
     "output_type": "display_data"
    }
   ],
   "source": [
    "any(colMeans(x) == apply(x, 2, mean))"
   ]
  },
  {
   "cell_type": "markdown",
   "id": "e5995f22",
   "metadata": {},
   "source": [
    "The shortcut functions are **much faster,** but we won't notice unless we're using a large matrix :"
   ]
  },
  {
   "cell_type": "code",
   "execution_count": 18,
   "id": "6ad814c4",
   "metadata": {},
   "outputs": [],
   "source": [
    "# 'quantile' function has a 'probs' argument\n",
    "?quantile"
   ]
  },
  {
   "cell_type": "code",
   "execution_count": 19,
   "id": "479e316e",
   "metadata": {},
   "outputs": [
    {
     "data": {
      "text/html": [
       "<table class=\"dataframe\">\n",
       "<caption>A matrix: 2 × 20 of type dbl</caption>\n",
       "<tbody>\n",
       "\t<tr><th scope=row>25%</th><td>-1.2359726</td><td>-0.8854632</td><td>-0.6192239</td><td>-0.3956646</td><td>-0.4700383</td><td>0.1156613</td><td>-0.4547638</td><td>-0.8620251</td><td>-0.5852237</td><td>0.205136</td><td>-1.0243946</td><td>-0.9788321</td><td>-1.0994339</td><td>-0.7485477</td><td>-0.9538425</td><td>-0.5533967</td><td>-0.79818535</td><td>-0.2526833</td><td>0.2243951</td><td>-0.3004480</td></tr>\n",
       "\t<tr><th scope=row>75%</th><td> 0.8586243</td><td> 0.4145199</td><td> 0.7022165</td><td> 0.6979335</td><td> 1.2252413</td><td>0.6081858</td><td> 0.9809280</td><td> 1.1784019</td><td> 0.6810452</td><td>1.086350</td><td> 0.2367041</td><td> 1.1212064</td><td> 0.9204977</td><td> 1.6393754</td><td> 0.4086426</td><td> 1.0486938</td><td>-0.03244638</td><td> 0.6109058</td><td>0.5425038</td><td> 0.9604246</td></tr>\n",
       "</tbody>\n",
       "</table>\n"
      ],
      "text/latex": [
       "A matrix: 2 × 20 of type dbl\n",
       "\\begin{tabular}{r|llllllllllllllllllll}\n",
       "\t25\\% & -1.2359726 & -0.8854632 & -0.6192239 & -0.3956646 & -0.4700383 & 0.1156613 & -0.4547638 & -0.8620251 & -0.5852237 & 0.205136 & -1.0243946 & -0.9788321 & -1.0994339 & -0.7485477 & -0.9538425 & -0.5533967 & -0.79818535 & -0.2526833 & 0.2243951 & -0.3004480\\\\\n",
       "\t75\\% &  0.8586243 &  0.4145199 &  0.7022165 &  0.6979335 &  1.2252413 & 0.6081858 &  0.9809280 &  1.1784019 &  0.6810452 & 1.086350 &  0.2367041 &  1.1212064 &  0.9204977 &  1.6393754 &  0.4086426 &  1.0486938 & -0.03244638 &  0.6109058 & 0.5425038 &  0.9604246\\\\\n",
       "\\end{tabular}\n"
      ],
      "text/markdown": [
       "\n",
       "A matrix: 2 × 20 of type dbl\n",
       "\n",
       "| 25% | -1.2359726 | -0.8854632 | -0.6192239 | -0.3956646 | -0.4700383 | 0.1156613 | -0.4547638 | -0.8620251 | -0.5852237 | 0.205136 | -1.0243946 | -0.9788321 | -1.0994339 | -0.7485477 | -0.9538425 | -0.5533967 | -0.79818535 | -0.2526833 | 0.2243951 | -0.3004480 |\n",
       "| 75% |  0.8586243 |  0.4145199 |  0.7022165 |  0.6979335 |  1.2252413 | 0.6081858 |  0.9809280 |  1.1784019 |  0.6810452 | 1.086350 |  0.2367041 |  1.1212064 |  0.9204977 |  1.6393754 |  0.4086426 |  1.0486938 | -0.03244638 |  0.6109058 | 0.5425038 |  0.9604246 |\n",
       "\n"
      ],
      "text/plain": [
       "    [,1]       [,2]       [,3]       [,4]       [,5]       [,6]      [,7]      \n",
       "25% -1.2359726 -0.8854632 -0.6192239 -0.3956646 -0.4700383 0.1156613 -0.4547638\n",
       "75%  0.8586243  0.4145199  0.7022165  0.6979335  1.2252413 0.6081858  0.9809280\n",
       "    [,8]       [,9]       [,10]    [,11]      [,12]      [,13]      [,14]     \n",
       "25% -0.8620251 -0.5852237 0.205136 -1.0243946 -0.9788321 -1.0994339 -0.7485477\n",
       "75%  1.1784019  0.6810452 1.086350  0.2367041  1.1212064  0.9204977  1.6393754\n",
       "    [,15]      [,16]      [,17]       [,18]      [,19]     [,20]     \n",
       "25% -0.9538425 -0.5533967 -0.79818535 -0.2526833 0.2243951 -0.3004480\n",
       "75%  0.4086426  1.0486938 -0.03244638  0.6109058 0.5425038  0.9604246"
      ]
     },
     "metadata": {},
     "output_type": "display_data"
    }
   ],
   "source": [
    "# How to use the additional 'probs' argument in apply\n",
    "x <- matrix(rnorm(200), 20,10)\n",
    "apply(x, 1, quantile, probs = c(0.25,0.75))"
   ]
  },
  {
   "cell_type": "markdown",
   "id": "a431060e",
   "metadata": {},
   "source": [
    "This function goes through each row of the matrix x, and for each row it calculates the $25$ and $75$ percentile, so for each row there's going to be 2 numbers that are returned, so `apply` will create a matrix that has 2 rows and the number of columns is equal to the number of rows in this matrix (20 in this example)."
   ]
  },
  {
   "cell_type": "markdown",
   "id": "e8a1f822",
   "metadata": {},
   "source": [
    "### <u>Average matrix in an array</u>"
   ]
  },
  {
   "cell_type": "code",
   "execution_count": 20,
   "id": "b49a2f95",
   "metadata": {},
   "outputs": [
    {
     "data": {
      "text/html": [
       "<style>\n",
       ".list-inline {list-style: none; margin:0; padding: 0}\n",
       ".list-inline>li {display: inline-block}\n",
       ".list-inline>li:not(:last-child)::after {content: \"\\00b7\"; padding: 0 .5ex}\n",
       "</style>\n",
       "<ol class=list-inline><li>-0.191159848203951</li><li>-0.176350740632958</li><li>0.443249360410981</li><li>1.30823051693936</li><li>-0.725704199279223</li><li>0.54025927389858</li><li>0.316686824466268</li><li>-0.651102173612633</li><li>1.165891742581</li><li>-0.717527528979676</li><li>0.0441705255945988</li><li>1.41589753336632</li><li>0.104938079513994</li><li>1.05907206616724</li><li>-0.13794405099076</li><li>-1.38153550891576</li><li>0.593769122112926</li><li>1.70018565668464</li><li>1.44197548366254</li><li>-0.562769134611688</li><li>0.674387567498386</li><li>-0.420981683032188</li><li>-0.577612955721302</li><li>1.38242018401386</li><li>-0.0154725343789637</li><li>0.498376681201985</li><li>-0.760994461795463</li><li>-0.751976109553393</li><li>-0.329607304500685</li><li>0.522291820050507</li><li>-1.85007743757767</li><li>0.696106650251185</li><li>0.141118935648972</li><li>-0.0815614305241913</li><li>0.355783254243685</li><li>0.749974907142517</li><li>-0.645177102854881</li><li>0.912752647841259</li><li>0.101608241614405</li><li>-0.840162341615229</li></ol>\n"
      ],
      "text/latex": [
       "\\begin{enumerate*}\n",
       "\\item -0.191159848203951\n",
       "\\item -0.176350740632958\n",
       "\\item 0.443249360410981\n",
       "\\item 1.30823051693936\n",
       "\\item -0.725704199279223\n",
       "\\item 0.54025927389858\n",
       "\\item 0.316686824466268\n",
       "\\item -0.651102173612633\n",
       "\\item 1.165891742581\n",
       "\\item -0.717527528979676\n",
       "\\item 0.0441705255945988\n",
       "\\item 1.41589753336632\n",
       "\\item 0.104938079513994\n",
       "\\item 1.05907206616724\n",
       "\\item -0.13794405099076\n",
       "\\item -1.38153550891576\n",
       "\\item 0.593769122112926\n",
       "\\item 1.70018565668464\n",
       "\\item 1.44197548366254\n",
       "\\item -0.562769134611688\n",
       "\\item 0.674387567498386\n",
       "\\item -0.420981683032188\n",
       "\\item -0.577612955721302\n",
       "\\item 1.38242018401386\n",
       "\\item -0.0154725343789637\n",
       "\\item 0.498376681201985\n",
       "\\item -0.760994461795463\n",
       "\\item -0.751976109553393\n",
       "\\item -0.329607304500685\n",
       "\\item 0.522291820050507\n",
       "\\item -1.85007743757767\n",
       "\\item 0.696106650251185\n",
       "\\item 0.141118935648972\n",
       "\\item -0.0815614305241913\n",
       "\\item 0.355783254243685\n",
       "\\item 0.749974907142517\n",
       "\\item -0.645177102854881\n",
       "\\item 0.912752647841259\n",
       "\\item 0.101608241614405\n",
       "\\item -0.840162341615229\n",
       "\\end{enumerate*}\n"
      ],
      "text/markdown": [
       "1. -0.191159848203951\n",
       "2. -0.176350740632958\n",
       "3. 0.443249360410981\n",
       "4. 1.30823051693936\n",
       "5. -0.725704199279223\n",
       "6. 0.54025927389858\n",
       "7. 0.316686824466268\n",
       "8. -0.651102173612633\n",
       "9. 1.165891742581\n",
       "10. -0.717527528979676\n",
       "11. 0.0441705255945988\n",
       "12. 1.41589753336632\n",
       "13. 0.104938079513994\n",
       "14. 1.05907206616724\n",
       "15. -0.13794405099076\n",
       "16. -1.38153550891576\n",
       "17. 0.593769122112926\n",
       "18. 1.70018565668464\n",
       "19. 1.44197548366254\n",
       "20. -0.562769134611688\n",
       "21. 0.674387567498386\n",
       "22. -0.420981683032188\n",
       "23. -0.577612955721302\n",
       "24. 1.38242018401386\n",
       "25. -0.0154725343789637\n",
       "26. 0.498376681201985\n",
       "27. -0.760994461795463\n",
       "28. -0.751976109553393\n",
       "29. -0.329607304500685\n",
       "30. 0.522291820050507\n",
       "31. -1.85007743757767\n",
       "32. 0.696106650251185\n",
       "33. 0.141118935648972\n",
       "34. -0.0815614305241913\n",
       "35. 0.355783254243685\n",
       "36. 0.749974907142517\n",
       "37. -0.645177102854881\n",
       "38. 0.912752647841259\n",
       "39. 0.101608241614405\n",
       "40. -0.840162341615229\n",
       "\n",
       "\n"
      ],
      "text/plain": [
       ", , 1\n",
       "\n",
       "           [,1]      [,2]\n",
       "[1,] -0.1911598 0.4432494\n",
       "[2,] -0.1763507 1.3082305\n",
       "\n",
       ", , 2\n",
       "\n",
       "           [,1]       [,2]\n",
       "[1,] -0.7257042  0.3166868\n",
       "[2,]  0.5402593 -0.6511022\n",
       "\n",
       ", , 3\n",
       "\n",
       "           [,1]       [,2]\n",
       "[1,]  1.1658917 0.04417053\n",
       "[2,] -0.7175275 1.41589753\n",
       "\n",
       ", , 4\n",
       "\n",
       "          [,1]       [,2]\n",
       "[1,] 0.1049381 -0.1379441\n",
       "[2,] 1.0590721 -1.3815355\n",
       "\n",
       ", , 5\n",
       "\n",
       "          [,1]       [,2]\n",
       "[1,] 0.5937691  1.4419755\n",
       "[2,] 1.7001857 -0.5627691\n",
       "\n",
       ", , 6\n",
       "\n",
       "           [,1]      [,2]\n",
       "[1,]  0.6743876 -0.577613\n",
       "[2,] -0.4209817  1.382420\n",
       "\n",
       ", , 7\n",
       "\n",
       "            [,1]       [,2]\n",
       "[1,] -0.01547253 -0.7609945\n",
       "[2,]  0.49837668 -0.7519761\n",
       "\n",
       ", , 8\n",
       "\n",
       "           [,1]       [,2]\n",
       "[1,] -0.3296073 -1.8500774\n",
       "[2,]  0.5222918  0.6961067\n",
       "\n",
       ", , 9\n",
       "\n",
       "            [,1]      [,2]\n",
       "[1,]  0.14111894 0.3557833\n",
       "[2,] -0.08156143 0.7499749\n",
       "\n",
       ", , 10\n",
       "\n",
       "           [,1]       [,2]\n",
       "[1,] -0.6451771  0.1016082\n",
       "[2,]  0.9127526 -0.8401623\n"
      ]
     },
     "metadata": {},
     "output_type": "display_data"
    },
    {
     "data": {
      "text/html": [
       "'array'"
      ],
      "text/latex": [
       "'array'"
      ],
      "text/markdown": [
       "'array'"
      ],
      "text/plain": [
       "[1] \"array\""
      ]
     },
     "metadata": {},
     "output_type": "display_data"
    },
    {
     "data": {
      "text/html": [
       "<style>\n",
       ".list-inline {list-style: none; margin:0; padding: 0}\n",
       ".list-inline>li {display: inline-block}\n",
       ".list-inline>li:not(:last-child)::after {content: \"\\00b7\"; padding: 0 .5ex}\n",
       "</style>\n",
       "<ol class=list-inline><li>2</li><li>2</li><li>10</li></ol>\n"
      ],
      "text/latex": [
       "\\begin{enumerate*}\n",
       "\\item 2\n",
       "\\item 2\n",
       "\\item 10\n",
       "\\end{enumerate*}\n"
      ],
      "text/markdown": [
       "1. 2\n",
       "2. 2\n",
       "3. 10\n",
       "\n",
       "\n"
      ],
      "text/plain": [
       "[1]  2  2 10"
      ]
     },
     "metadata": {},
     "output_type": "display_data"
    }
   ],
   "source": [
    "# Creating a 2x2x10 array\n",
    "(a <- array(rnorm(2*2*10), c(2,2,10)))\n",
    "class(a <- array(rnorm(2*2*10), c(2,2,10)))\n",
    "dim(a <- array(rnorm(2*2*10), c(2,2,10)))"
   ]
  },
  {
   "cell_type": "code",
   "execution_count": 21,
   "id": "cc5b7ddd",
   "metadata": {},
   "outputs": [
    {
     "data": {
      "text/html": [
       "<table class=\"dataframe\">\n",
       "<caption>A matrix: 2 × 2 of type dbl</caption>\n",
       "<tbody>\n",
       "\t<tr><td>-0.2342665</td><td> 0.1954321</td></tr>\n",
       "\t<tr><td> 0.2159171</td><td>-0.5403927</td></tr>\n",
       "</tbody>\n",
       "</table>\n"
      ],
      "text/latex": [
       "A matrix: 2 × 2 of type dbl\n",
       "\\begin{tabular}{ll}\n",
       "\t -0.2342665 &  0.1954321\\\\\n",
       "\t  0.2159171 & -0.5403927\\\\\n",
       "\\end{tabular}\n"
      ],
      "text/markdown": [
       "\n",
       "A matrix: 2 × 2 of type dbl\n",
       "\n",
       "| -0.2342665 |  0.1954321 |\n",
       "|  0.2159171 | -0.5403927 |\n",
       "\n"
      ],
      "text/plain": [
       "     [,1]       [,2]      \n",
       "[1,] -0.2342665  0.1954321\n",
       "[2,]  0.2159171 -0.5403927"
      ]
     },
     "metadata": {},
     "output_type": "display_data"
    }
   ],
   "source": [
    "# calculating the average in each 2x2 array in 'a' :\n",
    "apply(a, c(1,2), mean)  # 1 for the 1st dimension, 2 for the 2nd dimension"
   ]
  },
  {
   "cell_type": "markdown",
   "id": "0923e362",
   "metadata": {},
   "source": [
    "We can think of this as they're being a bunch of $2\\times 2$ matrices stacked together, and the idea is we want to take the average of those $2\\times 2$ matrices :\n",
    "\n",
    "<center>\n",
    "    <div>\n",
    "        <img src=\"fig1.jpg\" width=\"500\"/>\n",
    "    </div>\n",
    "</center>\n",
    "\n",
    "\n",
    "So the average of the $2\\times 2$ matrix is going to another $2\\times 2$ matrix which is the mean. this also equivalent to :"
   ]
  },
  {
   "cell_type": "code",
   "execution_count": 22,
   "id": "06cbaf97",
   "metadata": {},
   "outputs": [
    {
     "data": {
      "text/html": [
       "<table class=\"dataframe\">\n",
       "<caption>A matrix: 2 × 2 of type dbl</caption>\n",
       "<tbody>\n",
       "\t<tr><td>-0.2342665</td><td> 0.1954321</td></tr>\n",
       "\t<tr><td> 0.2159171</td><td>-0.5403927</td></tr>\n",
       "</tbody>\n",
       "</table>\n"
      ],
      "text/latex": [
       "A matrix: 2 × 2 of type dbl\n",
       "\\begin{tabular}{ll}\n",
       "\t -0.2342665 &  0.1954321\\\\\n",
       "\t  0.2159171 & -0.5403927\\\\\n",
       "\\end{tabular}\n"
      ],
      "text/markdown": [
       "\n",
       "A matrix: 2 × 2 of type dbl\n",
       "\n",
       "| -0.2342665 |  0.1954321 |\n",
       "|  0.2159171 | -0.5403927 |\n",
       "\n"
      ],
      "text/plain": [
       "     [,1]       [,2]      \n",
       "[1,] -0.2342665  0.1954321\n",
       "[2,]  0.2159171 -0.5403927"
      ]
     },
     "metadata": {},
     "output_type": "display_data"
    }
   ],
   "source": [
    "rowMeans(a, dim = 2)"
   ]
  },
  {
   "cell_type": "markdown",
   "id": "0ab15840",
   "metadata": {},
   "source": [
    "<a id=\"4\"></a>\n",
    "\n",
    "# 4) `mapply` function\n",
    "\n",
    "**`mapply()`** is a loop function, it's a multivariate version of `lapply` and `sapply`, and the idea is it **applies a function in parrallel over a set of arguments.**\n",
    "\n",
    "One thing we may have noticed is `lapply`, `sapply`, `tapply` (later) is that **they only apply a function over the elements of a single object.**"
   ]
  },
  {
   "cell_type": "code",
   "execution_count": 23,
   "id": "8990eccf",
   "metadata": {},
   "outputs": [
    {
     "name": "stdout",
     "output_type": "stream",
     "text": [
      "function (FUN, ..., MoreArgs = NULL, SIMPLIFY = TRUE, USE.NAMES = TRUE)  \n"
     ]
    }
   ],
   "source": [
    "str(mapply)"
   ]
  },
  {
   "cell_type": "markdown",
   "id": "696f372a",
   "metadata": {},
   "source": [
    "* `FUN` is a function to be applied\n",
    "* `...` contains arguments to apply over\n",
    "* `MoreArgs` is a list of other arguments to `FUN`\n",
    "* `SIMPLIFY` indicates whether the result should be simplified"
   ]
  },
  {
   "cell_type": "markdown",
   "id": "38b96c93",
   "metadata": {},
   "source": [
    "* **Example :** instead of writing :"
   ]
  },
  {
   "cell_type": "code",
   "execution_count": 24,
   "id": "488d8483",
   "metadata": {},
   "outputs": [
    {
     "data": {
      "text/html": [
       "<ol>\n",
       "\t<li><style>\n",
       ".list-inline {list-style: none; margin:0; padding: 0}\n",
       ".list-inline>li {display: inline-block}\n",
       ".list-inline>li:not(:last-child)::after {content: \"\\00b7\"; padding: 0 .5ex}\n",
       "</style>\n",
       "<ol class=list-inline><li>1</li><li>1</li><li>1</li><li>1</li></ol>\n",
       "</li>\n",
       "\t<li><style>\n",
       ".list-inline {list-style: none; margin:0; padding: 0}\n",
       ".list-inline>li {display: inline-block}\n",
       ".list-inline>li:not(:last-child)::after {content: \"\\00b7\"; padding: 0 .5ex}\n",
       "</style>\n",
       "<ol class=list-inline><li>2</li><li>2</li><li>2</li></ol>\n",
       "</li>\n",
       "\t<li><style>\n",
       ".list-inline {list-style: none; margin:0; padding: 0}\n",
       ".list-inline>li {display: inline-block}\n",
       ".list-inline>li:not(:last-child)::after {content: \"\\00b7\"; padding: 0 .5ex}\n",
       "</style>\n",
       "<ol class=list-inline><li>3</li><li>3</li></ol>\n",
       "</li>\n",
       "\t<li>4</li>\n",
       "</ol>\n"
      ],
      "text/latex": [
       "\\begin{enumerate}\n",
       "\\item \\begin{enumerate*}\n",
       "\\item 1\n",
       "\\item 1\n",
       "\\item 1\n",
       "\\item 1\n",
       "\\end{enumerate*}\n",
       "\n",
       "\\item \\begin{enumerate*}\n",
       "\\item 2\n",
       "\\item 2\n",
       "\\item 2\n",
       "\\end{enumerate*}\n",
       "\n",
       "\\item \\begin{enumerate*}\n",
       "\\item 3\n",
       "\\item 3\n",
       "\\end{enumerate*}\n",
       "\n",
       "\\item 4\n",
       "\\end{enumerate}\n"
      ],
      "text/markdown": [
       "1. 1. 1\n",
       "2. 1\n",
       "3. 1\n",
       "4. 1\n",
       "\n",
       "\n",
       "\n",
       "2. 1. 2\n",
       "2. 2\n",
       "3. 2\n",
       "\n",
       "\n",
       "\n",
       "3. 1. 3\n",
       "2. 3\n",
       "\n",
       "\n",
       "\n",
       "4. 4\n",
       "\n",
       "\n"
      ],
      "text/plain": [
       "[[1]]\n",
       "[1] 1 1 1 1\n",
       "\n",
       "[[2]]\n",
       "[1] 2 2 2\n",
       "\n",
       "[[3]]\n",
       "[1] 3 3\n",
       "\n",
       "[[4]]\n",
       "[1] 4\n"
      ]
     },
     "metadata": {},
     "output_type": "display_data"
    }
   ],
   "source": [
    "list(rep(1,4), rep(2,3), rep(3,2), rep(4,1))"
   ]
  },
  {
   "cell_type": "markdown",
   "id": "95b0049b",
   "metadata": {},
   "source": [
    "We write :"
   ]
  },
  {
   "cell_type": "code",
   "execution_count": 25,
   "id": "93ae4fb2",
   "metadata": {},
   "outputs": [
    {
     "data": {
      "text/html": [
       "<ol>\n",
       "\t<li><style>\n",
       ".list-inline {list-style: none; margin:0; padding: 0}\n",
       ".list-inline>li {display: inline-block}\n",
       ".list-inline>li:not(:last-child)::after {content: \"\\00b7\"; padding: 0 .5ex}\n",
       "</style>\n",
       "<ol class=list-inline><li>1</li><li>1</li><li>1</li><li>1</li></ol>\n",
       "</li>\n",
       "\t<li><style>\n",
       ".list-inline {list-style: none; margin:0; padding: 0}\n",
       ".list-inline>li {display: inline-block}\n",
       ".list-inline>li:not(:last-child)::after {content: \"\\00b7\"; padding: 0 .5ex}\n",
       "</style>\n",
       "<ol class=list-inline><li>2</li><li>2</li><li>2</li></ol>\n",
       "</li>\n",
       "\t<li><style>\n",
       ".list-inline {list-style: none; margin:0; padding: 0}\n",
       ".list-inline>li {display: inline-block}\n",
       ".list-inline>li:not(:last-child)::after {content: \"\\00b7\"; padding: 0 .5ex}\n",
       "</style>\n",
       "<ol class=list-inline><li>3</li><li>3</li></ol>\n",
       "</li>\n",
       "\t<li>4</li>\n",
       "</ol>\n"
      ],
      "text/latex": [
       "\\begin{enumerate}\n",
       "\\item \\begin{enumerate*}\n",
       "\\item 1\n",
       "\\item 1\n",
       "\\item 1\n",
       "\\item 1\n",
       "\\end{enumerate*}\n",
       "\n",
       "\\item \\begin{enumerate*}\n",
       "\\item 2\n",
       "\\item 2\n",
       "\\item 2\n",
       "\\end{enumerate*}\n",
       "\n",
       "\\item \\begin{enumerate*}\n",
       "\\item 3\n",
       "\\item 3\n",
       "\\end{enumerate*}\n",
       "\n",
       "\\item 4\n",
       "\\end{enumerate}\n"
      ],
      "text/markdown": [
       "1. 1. 1\n",
       "2. 1\n",
       "3. 1\n",
       "4. 1\n",
       "\n",
       "\n",
       "\n",
       "2. 1. 2\n",
       "2. 2\n",
       "3. 2\n",
       "\n",
       "\n",
       "\n",
       "3. 1. 3\n",
       "2. 3\n",
       "\n",
       "\n",
       "\n",
       "4. 4\n",
       "\n",
       "\n"
      ],
      "text/plain": [
       "[[1]]\n",
       "[1] 1 1 1 1\n",
       "\n",
       "[[2]]\n",
       "[1] 2 2 2\n",
       "\n",
       "[[3]]\n",
       "[1] 3 3\n",
       "\n",
       "[[4]]\n",
       "[1] 4\n"
      ]
     },
     "metadata": {},
     "output_type": "display_data"
    }
   ],
   "source": [
    "mapply(rep, 1:4, 4:1)"
   ]
  },
  {
   "cell_type": "code",
   "execution_count": 26,
   "id": "5ce3403d",
   "metadata": {},
   "outputs": [
    {
     "data": {
      "text/html": [
       "<style>\n",
       ".list-inline {list-style: none; margin:0; padding: 0}\n",
       ".list-inline>li {display: inline-block}\n",
       ".list-inline>li:not(:last-child)::after {content: \"\\00b7\"; padding: 0 .5ex}\n",
       "</style>\n",
       "<ol class=list-inline><li>2.13642946804924</li><li>3.29031765689551</li><li>1.8386162599446</li><li>-1.17334495208086</li><li>0.474854973457047</li></ol>\n"
      ],
      "text/latex": [
       "\\begin{enumerate*}\n",
       "\\item 2.13642946804924\n",
       "\\item 3.29031765689551\n",
       "\\item 1.8386162599446\n",
       "\\item -1.17334495208086\n",
       "\\item 0.474854973457047\n",
       "\\end{enumerate*}\n"
      ],
      "text/markdown": [
       "1. 2.13642946804924\n",
       "2. 3.29031765689551\n",
       "3. 1.8386162599446\n",
       "4. -1.17334495208086\n",
       "5. 0.474854973457047\n",
       "\n",
       "\n"
      ],
      "text/plain": [
       "[1]  2.136429  3.290318  1.838616 -1.173345  0.474855"
      ]
     },
     "metadata": {},
     "output_type": "display_data"
    }
   ],
   "source": [
    "noise <- function(n, mean, sd){\n",
    "    rnorm(n, mean, sd)\n",
    "}\n",
    "\n",
    "noise(5,1,2)"
   ]
  },
  {
   "cell_type": "markdown",
   "id": "ef87c8d6",
   "metadata": {},
   "source": [
    "But this function doesn't work correctly if we passed a vector of arguments."
   ]
  },
  {
   "cell_type": "code",
   "execution_count": 27,
   "id": "0933f67c",
   "metadata": {},
   "outputs": [
    {
     "data": {
      "text/html": [
       "<style>\n",
       ".list-inline {list-style: none; margin:0; padding: 0}\n",
       ".list-inline>li {display: inline-block}\n",
       ".list-inline>li:not(:last-child)::after {content: \"\\00b7\"; padding: 0 .5ex}\n",
       "</style>\n",
       "<ol class=list-inline><li>-0.212040635983002</li><li>3.44861063705486</li><li>6.38217840580174</li><li>2.52880044352817</li><li>2.07706112139473</li></ol>\n"
      ],
      "text/latex": [
       "\\begin{enumerate*}\n",
       "\\item -0.212040635983002\n",
       "\\item 3.44861063705486\n",
       "\\item 6.38217840580174\n",
       "\\item 2.52880044352817\n",
       "\\item 2.07706112139473\n",
       "\\end{enumerate*}\n"
      ],
      "text/markdown": [
       "1. -0.212040635983002\n",
       "2. 3.44861063705486\n",
       "3. 6.38217840580174\n",
       "4. 2.52880044352817\n",
       "5. 2.07706112139473\n",
       "\n",
       "\n"
      ],
      "text/plain": [
       "[1] -0.2120406  3.4486106  6.3821784  2.5288004  2.0770611"
      ]
     },
     "metadata": {},
     "output_type": "display_data"
    }
   ],
   "source": [
    "noise(1:5, 1:5, 2)"
   ]
  },
  {
   "cell_type": "markdown",
   "id": "b21df025",
   "metadata": {},
   "source": [
    "But what we really want to happen is to have :"
   ]
  },
  {
   "cell_type": "code",
   "execution_count": 28,
   "id": "e3ac140e",
   "metadata": {},
   "outputs": [
    {
     "data": {
      "text/html": [
       "<ol>\n",
       "\t<li>1.16474735495427</li>\n",
       "\t<li><style>\n",
       ".list-inline {list-style: none; margin:0; padding: 0}\n",
       ".list-inline>li {display: inline-block}\n",
       ".list-inline>li:not(:last-child)::after {content: \"\\00b7\"; padding: 0 .5ex}\n",
       "</style>\n",
       "<ol class=list-inline><li>1.23690734689179</li><li>4.17484734504375</li></ol>\n",
       "</li>\n",
       "\t<li><style>\n",
       ".list-inline {list-style: none; margin:0; padding: 0}\n",
       ".list-inline>li {display: inline-block}\n",
       ".list-inline>li:not(:last-child)::after {content: \"\\00b7\"; padding: 0 .5ex}\n",
       "</style>\n",
       "<ol class=list-inline><li>-0.82845125266072</li><li>4.13961837004153</li><li>2.64726460508435</li></ol>\n",
       "</li>\n",
       "\t<li><style>\n",
       ".list-inline {list-style: none; margin:0; padding: 0}\n",
       ".list-inline>li {display: inline-block}\n",
       ".list-inline>li:not(:last-child)::after {content: \"\\00b7\"; padding: 0 .5ex}\n",
       "</style>\n",
       "<ol class=list-inline><li>5.20898709579531</li><li>7.16806761630359</li><li>3.0625204374608</li><li>4.09070575926827</li></ol>\n",
       "</li>\n",
       "\t<li><style>\n",
       ".list-inline {list-style: none; margin:0; padding: 0}\n",
       ".list-inline>li {display: inline-block}\n",
       ".list-inline>li:not(:last-child)::after {content: \"\\00b7\"; padding: 0 .5ex}\n",
       "</style>\n",
       "<ol class=list-inline><li>4.38375312488521</li><li>3.0367321151734</li><li>5.49455945752544</li><li>6.5619836328878</li><li>4.02060952637807</li></ol>\n",
       "</li>\n",
       "</ol>\n"
      ],
      "text/latex": [
       "\\begin{enumerate}\n",
       "\\item 1.16474735495427\n",
       "\\item \\begin{enumerate*}\n",
       "\\item 1.23690734689179\n",
       "\\item 4.17484734504375\n",
       "\\end{enumerate*}\n",
       "\n",
       "\\item \\begin{enumerate*}\n",
       "\\item -0.82845125266072\n",
       "\\item 4.13961837004153\n",
       "\\item 2.64726460508435\n",
       "\\end{enumerate*}\n",
       "\n",
       "\\item \\begin{enumerate*}\n",
       "\\item 5.20898709579531\n",
       "\\item 7.16806761630359\n",
       "\\item 3.0625204374608\n",
       "\\item 4.09070575926827\n",
       "\\end{enumerate*}\n",
       "\n",
       "\\item \\begin{enumerate*}\n",
       "\\item 4.38375312488521\n",
       "\\item 3.0367321151734\n",
       "\\item 5.49455945752544\n",
       "\\item 6.5619836328878\n",
       "\\item 4.02060952637807\n",
       "\\end{enumerate*}\n",
       "\n",
       "\\end{enumerate}\n"
      ],
      "text/markdown": [
       "1. 1.16474735495427\n",
       "2. 1. 1.23690734689179\n",
       "2. 4.17484734504375\n",
       "\n",
       "\n",
       "\n",
       "3. 1. -0.82845125266072\n",
       "2. 4.13961837004153\n",
       "3. 2.64726460508435\n",
       "\n",
       "\n",
       "\n",
       "4. 1. 5.20898709579531\n",
       "2. 7.16806761630359\n",
       "3. 3.0625204374608\n",
       "4. 4.09070575926827\n",
       "\n",
       "\n",
       "\n",
       "5. 1. 4.38375312488521\n",
       "2. 3.0367321151734\n",
       "3. 5.49455945752544\n",
       "4. 6.5619836328878\n",
       "5. 4.02060952637807\n",
       "\n",
       "\n",
       "\n",
       "\n",
       "\n"
      ],
      "text/plain": [
       "[[1]]\n",
       "[1] 1.164747\n",
       "\n",
       "[[2]]\n",
       "[1] 1.236907 4.174847\n",
       "\n",
       "[[3]]\n",
       "[1] -0.8284513  4.1396184  2.6472646\n",
       "\n",
       "[[4]]\n",
       "[1] 5.208987 7.168068 3.062520 4.090706\n",
       "\n",
       "[[5]]\n",
       "[1] 4.383753 3.036732 5.494559 6.561984 4.020610\n"
      ]
     },
     "metadata": {},
     "output_type": "display_data"
    }
   ],
   "source": [
    "list(noise(1,1,2), noise(2,2,2), noise(3,3,2), noise(4,4,2), noise(5,5,2))"
   ]
  },
  {
   "cell_type": "markdown",
   "id": "0dd8c8ae",
   "metadata": {},
   "source": [
    "So using `mapply` :"
   ]
  },
  {
   "cell_type": "code",
   "execution_count": 29,
   "id": "b0aa0a7c",
   "metadata": {},
   "outputs": [
    {
     "data": {
      "text/html": [
       "<ol>\n",
       "\t<li>3.58509346782731</li>\n",
       "\t<li><style>\n",
       ".list-inline {list-style: none; margin:0; padding: 0}\n",
       ".list-inline>li {display: inline-block}\n",
       ".list-inline>li:not(:last-child)::after {content: \"\\00b7\"; padding: 0 .5ex}\n",
       "</style>\n",
       "<ol class=list-inline><li>0.768217816958175</li><li>-0.196831418181924</li></ol>\n",
       "</li>\n",
       "\t<li><style>\n",
       ".list-inline {list-style: none; margin:0; padding: 0}\n",
       ".list-inline>li {display: inline-block}\n",
       ".list-inline>li:not(:last-child)::after {content: \"\\00b7\"; padding: 0 .5ex}\n",
       "</style>\n",
       "<ol class=list-inline><li>1.13157866155222</li><li>3.04294740468201</li><li>0.513603273732596</li></ol>\n",
       "</li>\n",
       "\t<li><style>\n",
       ".list-inline {list-style: none; margin:0; padding: 0}\n",
       ".list-inline>li {display: inline-block}\n",
       ".list-inline>li:not(:last-child)::after {content: \"\\00b7\"; padding: 0 .5ex}\n",
       "</style>\n",
       "<ol class=list-inline><li>4.95460778868781</li><li>4.78387329832557</li><li>6.97254492897423</li><li>4.59873622558559</li></ol>\n",
       "</li>\n",
       "\t<li><style>\n",
       ".list-inline {list-style: none; margin:0; padding: 0}\n",
       ".list-inline>li {display: inline-block}\n",
       ".list-inline>li:not(:last-child)::after {content: \"\\00b7\"; padding: 0 .5ex}\n",
       "</style>\n",
       "<ol class=list-inline><li>7.78751442694523</li><li>5.52027389749074</li><li>5.8043803631341</li><li>6.9622714855927</li><li>5.54986276928094</li></ol>\n",
       "</li>\n",
       "</ol>\n"
      ],
      "text/latex": [
       "\\begin{enumerate}\n",
       "\\item 3.58509346782731\n",
       "\\item \\begin{enumerate*}\n",
       "\\item 0.768217816958175\n",
       "\\item -0.196831418181924\n",
       "\\end{enumerate*}\n",
       "\n",
       "\\item \\begin{enumerate*}\n",
       "\\item 1.13157866155222\n",
       "\\item 3.04294740468201\n",
       "\\item 0.513603273732596\n",
       "\\end{enumerate*}\n",
       "\n",
       "\\item \\begin{enumerate*}\n",
       "\\item 4.95460778868781\n",
       "\\item 4.78387329832557\n",
       "\\item 6.97254492897423\n",
       "\\item 4.59873622558559\n",
       "\\end{enumerate*}\n",
       "\n",
       "\\item \\begin{enumerate*}\n",
       "\\item 7.78751442694523\n",
       "\\item 5.52027389749074\n",
       "\\item 5.8043803631341\n",
       "\\item 6.9622714855927\n",
       "\\item 5.54986276928094\n",
       "\\end{enumerate*}\n",
       "\n",
       "\\end{enumerate}\n"
      ],
      "text/markdown": [
       "1. 3.58509346782731\n",
       "2. 1. 0.768217816958175\n",
       "2. -0.196831418181924\n",
       "\n",
       "\n",
       "\n",
       "3. 1. 1.13157866155222\n",
       "2. 3.04294740468201\n",
       "3. 0.513603273732596\n",
       "\n",
       "\n",
       "\n",
       "4. 1. 4.95460778868781\n",
       "2. 4.78387329832557\n",
       "3. 6.97254492897423\n",
       "4. 4.59873622558559\n",
       "\n",
       "\n",
       "\n",
       "5. 1. 7.78751442694523\n",
       "2. 5.52027389749074\n",
       "3. 5.8043803631341\n",
       "4. 6.9622714855927\n",
       "5. 5.54986276928094\n",
       "\n",
       "\n",
       "\n",
       "\n",
       "\n"
      ],
      "text/plain": [
       "[[1]]\n",
       "[1] 3.585093\n",
       "\n",
       "[[2]]\n",
       "[1]  0.7682178 -0.1968314\n",
       "\n",
       "[[3]]\n",
       "[1] 1.1315787 3.0429474 0.5136033\n",
       "\n",
       "[[4]]\n",
       "[1] 4.954608 4.783873 6.972545 4.598736\n",
       "\n",
       "[[5]]\n",
       "[1] 7.787514 5.520274 5.804380 6.962271 5.549863\n"
      ]
     },
     "metadata": {},
     "output_type": "display_data"
    }
   ],
   "source": [
    "mapply(noise, 1:5, 1:5, 2)"
   ]
  },
  {
   "cell_type": "markdown",
   "id": "32fcffb6",
   "metadata": {},
   "source": [
    "<a id=\"5\"></a>\n",
    "\n",
    "# 5) `tapply` function\n",
    "\n",
    "**`tapply()`** is used to apply a function over subsets of a vector. So the idea is : let's imagine we have a vector, a numeric vector, and there are pieces of this vector that we want to calculate the summary statistic over, we're going to have another variable or another object which identifies which element of this, of our numeric vector belongs to which group.\n",
    "\n",
    "**Example :**"
   ]
  },
  {
   "cell_type": "code",
   "execution_count": 30,
   "id": "bd8e0f72",
   "metadata": {
    "scrolled": true
   },
   "outputs": [
    {
     "data": {
      "text/html": [
       "<style>\n",
       ".list-inline {list-style: none; margin:0; padding: 0}\n",
       ".list-inline>li {display: inline-block}\n",
       ".list-inline>li:not(:last-child)::after {content: \"\\00b7\"; padding: 0 .5ex}\n",
       "</style>\n",
       "<ol class=list-inline><li>1.71054073534204</li><li>0.967029749881627</li><li>-1.63998284237234</li><li>0.241786754889876</li><li>-0.834030194516747</li><li>0.405235927223368</li><li>0.0938699526864513</li><li>0.596384722796784</li><li>-1.0722790818702</li><li>0.836068485673134</li><li>0.931368829449639</li><li>0.248771801125258</li><li>0.162136094877496</li><li>0.584714453667402</li><li>0.486862009158358</li><li>0.117485862458125</li><li>0.279436002019793</li><li>0.911482798634097</li><li>0.727530551375821</li><li>0.477674096589908</li><li>2.21446568251497</li><li>1.52437888450661</li><li>-1.12616517955555</li><li>1.58208929601949</li><li>1.84536529030723</li><li>1.23568939772071</li><li>0.101926214689715</li><li>2.25746532262671</li><li>-0.8022293367151</li><li>2.37934007017357</li></ol>\n"
      ],
      "text/latex": [
       "\\begin{enumerate*}\n",
       "\\item 1.71054073534204\n",
       "\\item 0.967029749881627\n",
       "\\item -1.63998284237234\n",
       "\\item 0.241786754889876\n",
       "\\item -0.834030194516747\n",
       "\\item 0.405235927223368\n",
       "\\item 0.0938699526864513\n",
       "\\item 0.596384722796784\n",
       "\\item -1.0722790818702\n",
       "\\item 0.836068485673134\n",
       "\\item 0.931368829449639\n",
       "\\item 0.248771801125258\n",
       "\\item 0.162136094877496\n",
       "\\item 0.584714453667402\n",
       "\\item 0.486862009158358\n",
       "\\item 0.117485862458125\n",
       "\\item 0.279436002019793\n",
       "\\item 0.911482798634097\n",
       "\\item 0.727530551375821\n",
       "\\item 0.477674096589908\n",
       "\\item 2.21446568251497\n",
       "\\item 1.52437888450661\n",
       "\\item -1.12616517955555\n",
       "\\item 1.58208929601949\n",
       "\\item 1.84536529030723\n",
       "\\item 1.23568939772071\n",
       "\\item 0.101926214689715\n",
       "\\item 2.25746532262671\n",
       "\\item -0.8022293367151\n",
       "\\item 2.37934007017357\n",
       "\\end{enumerate*}\n"
      ],
      "text/markdown": [
       "1. 1.71054073534204\n",
       "2. 0.967029749881627\n",
       "3. -1.63998284237234\n",
       "4. 0.241786754889876\n",
       "5. -0.834030194516747\n",
       "6. 0.405235927223368\n",
       "7. 0.0938699526864513\n",
       "8. 0.596384722796784\n",
       "9. -1.0722790818702\n",
       "10. 0.836068485673134\n",
       "11. 0.931368829449639\n",
       "12. 0.248771801125258\n",
       "13. 0.162136094877496\n",
       "14. 0.584714453667402\n",
       "15. 0.486862009158358\n",
       "16. 0.117485862458125\n",
       "17. 0.279436002019793\n",
       "18. 0.911482798634097\n",
       "19. 0.727530551375821\n",
       "20. 0.477674096589908\n",
       "21. 2.21446568251497\n",
       "22. 1.52437888450661\n",
       "23. -1.12616517955555\n",
       "24. 1.58208929601949\n",
       "25. 1.84536529030723\n",
       "26. 1.23568939772071\n",
       "27. 0.101926214689715\n",
       "28. 2.25746532262671\n",
       "29. -0.8022293367151\n",
       "30. 2.37934007017357\n",
       "\n",
       "\n"
      ],
      "text/plain": [
       " [1]  1.71054074  0.96702975 -1.63998284  0.24178675 -0.83403019  0.40523593\n",
       " [7]  0.09386995  0.59638472 -1.07227908  0.83606849  0.93136883  0.24877180\n",
       "[13]  0.16213609  0.58471445  0.48686201  0.11748586  0.27943600  0.91148280\n",
       "[19]  0.72753055  0.47767410  2.21446568  1.52437888 -1.12616518  1.58208930\n",
       "[25]  1.84536529  1.23568940  0.10192621  2.25746532 -0.80222934  2.37934007"
      ]
     },
     "metadata": {},
     "output_type": "display_data"
    }
   ],
   "source": [
    "# 10 nbs from standard distribution N(0,1), 10 from uniform distribution, 10 from N(1,1)\n",
    "(x <- c(rnorm(10), runif(10), rnorm(10,1)))"
   ]
  },
  {
   "cell_type": "code",
   "execution_count": 31,
   "id": "63e550aa",
   "metadata": {},
   "outputs": [],
   "source": [
    "?gl"
   ]
  },
  {
   "cell_type": "code",
   "execution_count": 32,
   "id": "f7d31d74",
   "metadata": {
    "scrolled": true
   },
   "outputs": [
    {
     "data": {
      "text/html": [
       "<style>\n",
       ".list-inline {list-style: none; margin:0; padding: 0}\n",
       ".list-inline>li {display: inline-block}\n",
       ".list-inline>li:not(:last-child)::after {content: \"\\00b7\"; padding: 0 .5ex}\n",
       "</style>\n",
       "<ol class=list-inline><li>1</li><li>1</li><li>1</li><li>1</li><li>1</li><li>1</li><li>1</li><li>1</li><li>1</li><li>1</li><li>2</li><li>2</li><li>2</li><li>2</li><li>2</li><li>2</li><li>2</li><li>2</li><li>2</li><li>2</li><li>3</li><li>3</li><li>3</li><li>3</li><li>3</li><li>3</li><li>3</li><li>3</li><li>3</li><li>3</li></ol>\n",
       "\n",
       "<details>\n",
       "\t<summary style=display:list-item;cursor:pointer>\n",
       "\t\t<strong>Levels</strong>:\n",
       "\t</summary>\n",
       "\t<style>\n",
       "\t.list-inline {list-style: none; margin:0; padding: 0}\n",
       "\t.list-inline>li {display: inline-block}\n",
       "\t.list-inline>li:not(:last-child)::after {content: \"\\00b7\"; padding: 0 .5ex}\n",
       "\t</style>\n",
       "\t<ol class=list-inline><li>'1'</li><li>'2'</li><li>'3'</li></ol>\n",
       "</details>"
      ],
      "text/latex": [
       "\\begin{enumerate*}\n",
       "\\item 1\n",
       "\\item 1\n",
       "\\item 1\n",
       "\\item 1\n",
       "\\item 1\n",
       "\\item 1\n",
       "\\item 1\n",
       "\\item 1\n",
       "\\item 1\n",
       "\\item 1\n",
       "\\item 2\n",
       "\\item 2\n",
       "\\item 2\n",
       "\\item 2\n",
       "\\item 2\n",
       "\\item 2\n",
       "\\item 2\n",
       "\\item 2\n",
       "\\item 2\n",
       "\\item 2\n",
       "\\item 3\n",
       "\\item 3\n",
       "\\item 3\n",
       "\\item 3\n",
       "\\item 3\n",
       "\\item 3\n",
       "\\item 3\n",
       "\\item 3\n",
       "\\item 3\n",
       "\\item 3\n",
       "\\end{enumerate*}\n",
       "\n",
       "\\emph{Levels}: \\begin{enumerate*}\n",
       "\\item '1'\n",
       "\\item '2'\n",
       "\\item '3'\n",
       "\\end{enumerate*}\n"
      ],
      "text/markdown": [
       "1. 1\n",
       "2. 1\n",
       "3. 1\n",
       "4. 1\n",
       "5. 1\n",
       "6. 1\n",
       "7. 1\n",
       "8. 1\n",
       "9. 1\n",
       "10. 1\n",
       "11. 2\n",
       "12. 2\n",
       "13. 2\n",
       "14. 2\n",
       "15. 2\n",
       "16. 2\n",
       "17. 2\n",
       "18. 2\n",
       "19. 2\n",
       "20. 2\n",
       "21. 3\n",
       "22. 3\n",
       "23. 3\n",
       "24. 3\n",
       "25. 3\n",
       "26. 3\n",
       "27. 3\n",
       "28. 3\n",
       "29. 3\n",
       "30. 3\n",
       "\n",
       "\n",
       "\n",
       "**Levels**: 1. '1'\n",
       "2. '2'\n",
       "3. '3'\n",
       "\n",
       "\n"
      ],
      "text/plain": [
       " [1] 1 1 1 1 1 1 1 1 1 1 2 2 2 2 2 2 2 2 2 2 3 3 3 3 3 3 3 3 3 3\n",
       "Levels: 1 2 3"
      ]
     },
     "metadata": {},
     "output_type": "display_data"
    }
   ],
   "source": [
    "# generating a factor : 3 levels, each level is repeated 10 times\n",
    "f <- gl(3,10)\n",
    "f"
   ]
  },
  {
   "cell_type": "code",
   "execution_count": 33,
   "id": "926b6506",
   "metadata": {},
   "outputs": [
    {
     "data": {
      "text/html": [
       "<style>\n",
       ".dl-inline {width: auto; margin:0; padding: 0}\n",
       ".dl-inline>dt, .dl-inline>dd {float: none; width: auto; display: inline-block}\n",
       ".dl-inline>dt::after {content: \":\\0020\"; padding-right: .5ex}\n",
       ".dl-inline>dt:not(:first-of-type) {padding-left: .5ex}\n",
       "</style><dl class=dl-inline><dt>1</dt><dd>0.130462420973399</dd><dt>2</dt><dd>0.49274624993559</dd><dt>3</dt><dd>1.12123256422884</dd></dl>\n"
      ],
      "text/latex": [
       "\\begin{description*}\n",
       "\\item[1] 0.130462420973399\n",
       "\\item[2] 0.49274624993559\n",
       "\\item[3] 1.12123256422884\n",
       "\\end{description*}\n"
      ],
      "text/markdown": [
       "1\n",
       ":   0.1304624209733992\n",
       ":   0.492746249935593\n",
       ":   1.12123256422884\n",
       "\n"
      ],
      "text/plain": [
       "        1         2         3 \n",
       "0.1304624 0.4927462 1.1212326 "
      ]
     },
     "metadata": {},
     "output_type": "display_data"
    }
   ],
   "source": [
    "# taking group means\n",
    "tapply(x, f, mean)"
   ]
  },
  {
   "cell_type": "code",
   "execution_count": 34,
   "id": "89874d26",
   "metadata": {},
   "outputs": [
    {
     "data": {
      "text/html": [
       "<dl>\n",
       "\t<dt>$`1`</dt>\n",
       "\t\t<dd>0.130462420973399</dd>\n",
       "\t<dt>$`2`</dt>\n",
       "\t\t<dd>0.49274624993559</dd>\n",
       "\t<dt>$`3`</dt>\n",
       "\t\t<dd>1.12123256422884</dd>\n",
       "</dl>\n"
      ],
      "text/latex": [
       "\\begin{description}\n",
       "\\item[\\$`1`] 0.130462420973399\n",
       "\\item[\\$`2`] 0.49274624993559\n",
       "\\item[\\$`3`] 1.12123256422884\n",
       "\\end{description}\n"
      ],
      "text/markdown": [
       "$`1`\n",
       ":   0.130462420973399\n",
       "$`2`\n",
       ":   0.49274624993559\n",
       "$`3`\n",
       ":   1.12123256422884\n",
       "\n",
       "\n"
      ],
      "text/plain": [
       "$`1`\n",
       "[1] 0.1304624\n",
       "\n",
       "$`2`\n",
       "[1] 0.4927462\n",
       "\n",
       "$`3`\n",
       "[1] 1.121233\n"
      ]
     },
     "metadata": {},
     "output_type": "display_data"
    }
   ],
   "source": [
    "# taking group means without simplification\n",
    "tapply(x, f, mean, simplify = FALSE)"
   ]
  },
  {
   "cell_type": "markdown",
   "id": "d7455660",
   "metadata": {},
   "source": [
    "a list of 3 elements is returned, each element is the mean of a subgroup."
   ]
  },
  {
   "cell_type": "code",
   "execution_count": 35,
   "id": "80b14377",
   "metadata": {},
   "outputs": [
    {
     "data": {
      "text/html": [
       "<dl>\n",
       "\t<dt>$`1`</dt>\n",
       "\t\t<dd><style>\n",
       ".list-inline {list-style: none; margin:0; padding: 0}\n",
       ".list-inline>li {display: inline-block}\n",
       ".list-inline>li:not(:last-child)::after {content: \"\\00b7\"; padding: 0 .5ex}\n",
       "</style>\n",
       "<ol class=list-inline><li>-1.63998284237234</li><li>1.71054073534204</li></ol>\n",
       "</dd>\n",
       "\t<dt>$`2`</dt>\n",
       "\t\t<dd><style>\n",
       ".list-inline {list-style: none; margin:0; padding: 0}\n",
       ".list-inline>li {display: inline-block}\n",
       ".list-inline>li:not(:last-child)::after {content: \"\\00b7\"; padding: 0 .5ex}\n",
       "</style>\n",
       "<ol class=list-inline><li>0.117485862458125</li><li>0.931368829449639</li></ol>\n",
       "</dd>\n",
       "\t<dt>$`3`</dt>\n",
       "\t\t<dd><style>\n",
       ".list-inline {list-style: none; margin:0; padding: 0}\n",
       ".list-inline>li {display: inline-block}\n",
       ".list-inline>li:not(:last-child)::after {content: \"\\00b7\"; padding: 0 .5ex}\n",
       "</style>\n",
       "<ol class=list-inline><li>-1.12616517955555</li><li>2.37934007017357</li></ol>\n",
       "</dd>\n",
       "</dl>\n"
      ],
      "text/latex": [
       "\\begin{description}\n",
       "\\item[\\$`1`] \\begin{enumerate*}\n",
       "\\item -1.63998284237234\n",
       "\\item 1.71054073534204\n",
       "\\end{enumerate*}\n",
       "\n",
       "\\item[\\$`2`] \\begin{enumerate*}\n",
       "\\item 0.117485862458125\n",
       "\\item 0.931368829449639\n",
       "\\end{enumerate*}\n",
       "\n",
       "\\item[\\$`3`] \\begin{enumerate*}\n",
       "\\item -1.12616517955555\n",
       "\\item 2.37934007017357\n",
       "\\end{enumerate*}\n",
       "\n",
       "\\end{description}\n"
      ],
      "text/markdown": [
       "$`1`\n",
       ":   1. -1.63998284237234\n",
       "2. 1.71054073534204\n",
       "\n",
       "\n",
       "\n",
       "$`2`\n",
       ":   1. 0.117485862458125\n",
       "2. 0.931368829449639\n",
       "\n",
       "\n",
       "\n",
       "$`3`\n",
       ":   1. -1.12616517955555\n",
       "2. 2.37934007017357\n",
       "\n",
       "\n",
       "\n",
       "\n",
       "\n"
      ],
      "text/plain": [
       "$`1`\n",
       "[1] -1.639983  1.710541\n",
       "\n",
       "$`2`\n",
       "[1] 0.1174859 0.9313688\n",
       "\n",
       "$`3`\n",
       "[1] -1.126165  2.379340\n"
      ]
     },
     "metadata": {},
     "output_type": "display_data"
    }
   ],
   "source": [
    "# find group ranges\n",
    "tapply(x, f, range)"
   ]
  },
  {
   "cell_type": "markdown",
   "id": "b90c3ac9",
   "metadata": {},
   "source": [
    "The `min` and `max` of the observations within that subset of the vector x is returned, for example the min and max of the first group :"
   ]
  },
  {
   "cell_type": "code",
   "execution_count": 36,
   "id": "48c6eb74",
   "metadata": {},
   "outputs": [
    {
     "data": {
      "text/html": [
       "-1.63998284237234"
      ],
      "text/latex": [
       "-1.63998284237234"
      ],
      "text/markdown": [
       "-1.63998284237234"
      ],
      "text/plain": [
       "[1] -1.639983"
      ]
     },
     "metadata": {},
     "output_type": "display_data"
    },
    {
     "data": {
      "text/html": [
       "1.71054073534204"
      ],
      "text/latex": [
       "1.71054073534204"
      ],
      "text/markdown": [
       "1.71054073534204"
      ],
      "text/plain": [
       "[1] 1.710541"
      ]
     },
     "metadata": {},
     "output_type": "display_data"
    }
   ],
   "source": [
    "min(x[1:10])\n",
    "max(x[1:10])"
   ]
  },
  {
   "cell_type": "markdown",
   "id": "413b9fef",
   "metadata": {},
   "source": [
    "<a id=\"6\"></a>\n",
    "\n",
    "# 6) `split` function\n",
    "\n",
    "`tapply` is useful because it splits up^a vector into little pieces and it applies a summary statistic or a function to those little pieces, and then after it applies a function it brings the peces back together again.\n",
    "\n",
    "**`split()` is not a loop function,** but it's a very handy function that can be used in conjuction with functions like `lapply` or `sapply`.\n",
    "\n",
    "`split()` takes a vector (kind of like `tapply` without applying the summary statistic) or objects and splits it into groups determined by a factor or list of factors."
   ]
  },
  {
   "cell_type": "code",
   "execution_count": 37,
   "id": "464e7460",
   "metadata": {},
   "outputs": [
    {
     "name": "stdout",
     "output_type": "stream",
     "text": [
      "function (x, f, drop = FALSE, ...)  \n"
     ]
    }
   ],
   "source": [
    "str(split)"
   ]
  },
  {
   "cell_type": "markdown",
   "id": "8c09f021",
   "metadata": {},
   "source": [
    "* `x` is a vector (or list) or dataframe\n",
    "* `f` is a factor (or coerced to one) or a list of factors\n",
    "* `drop` indicates whether empty factors levels should be dropped\n"
   ]
  },
  {
   "cell_type": "markdown",
   "id": "dd612c27",
   "metadata": {},
   "source": [
    "**Example :**"
   ]
  },
  {
   "cell_type": "code",
   "execution_count": 38,
   "id": "999e3a31",
   "metadata": {},
   "outputs": [
    {
     "data": {
      "text/html": [
       "<style>\n",
       ".list-inline {list-style: none; margin:0; padding: 0}\n",
       ".list-inline>li {display: inline-block}\n",
       ".list-inline>li:not(:last-child)::after {content: \"\\00b7\"; padding: 0 .5ex}\n",
       "</style>\n",
       "<ol class=list-inline><li>1.15975688219263</li><li>0.542548409847553</li><li>0.321392343021589</li><li>-0.586500961865957</li><li>-0.203033422199242</li><li>-0.421100978206388</li><li>1.18468594293317</li><li>-1.0878881561185</li><li>0.576412450650789</li><li>0.86366154353341</li><li>0.29964365484193</li><li>0.153156497748569</li><li>0.564596790121868</li><li>0.990557035431266</li><li>0.777197786606848</li><li>0.858652600552887</li><li>0.150686183944345</li><li>0.0849909712560475</li><li>0.289009548490867</li><li>0.307551042642444</li><li>1.26418125719215</li><li>0.1962174873047</li><li>-0.302608767812086</li><li>0.383624915401651</li><li>-0.0965952641340693</li><li>1.03168274812444</li><li>1.97759217839536</li><li>1.33722869071815</li><li>2.06318486858136</li><li>2.57068397647636</li></ol>\n"
      ],
      "text/latex": [
       "\\begin{enumerate*}\n",
       "\\item 1.15975688219263\n",
       "\\item 0.542548409847553\n",
       "\\item 0.321392343021589\n",
       "\\item -0.586500961865957\n",
       "\\item -0.203033422199242\n",
       "\\item -0.421100978206388\n",
       "\\item 1.18468594293317\n",
       "\\item -1.0878881561185\n",
       "\\item 0.576412450650789\n",
       "\\item 0.86366154353341\n",
       "\\item 0.29964365484193\n",
       "\\item 0.153156497748569\n",
       "\\item 0.564596790121868\n",
       "\\item 0.990557035431266\n",
       "\\item 0.777197786606848\n",
       "\\item 0.858652600552887\n",
       "\\item 0.150686183944345\n",
       "\\item 0.0849909712560475\n",
       "\\item 0.289009548490867\n",
       "\\item 0.307551042642444\n",
       "\\item 1.26418125719215\n",
       "\\item 0.1962174873047\n",
       "\\item -0.302608767812086\n",
       "\\item 0.383624915401651\n",
       "\\item -0.0965952641340693\n",
       "\\item 1.03168274812444\n",
       "\\item 1.97759217839536\n",
       "\\item 1.33722869071815\n",
       "\\item 2.06318486858136\n",
       "\\item 2.57068397647636\n",
       "\\end{enumerate*}\n"
      ],
      "text/markdown": [
       "1. 1.15975688219263\n",
       "2. 0.542548409847553\n",
       "3. 0.321392343021589\n",
       "4. -0.586500961865957\n",
       "5. -0.203033422199242\n",
       "6. -0.421100978206388\n",
       "7. 1.18468594293317\n",
       "8. -1.0878881561185\n",
       "9. 0.576412450650789\n",
       "10. 0.86366154353341\n",
       "11. 0.29964365484193\n",
       "12. 0.153156497748569\n",
       "13. 0.564596790121868\n",
       "14. 0.990557035431266\n",
       "15. 0.777197786606848\n",
       "16. 0.858652600552887\n",
       "17. 0.150686183944345\n",
       "18. 0.0849909712560475\n",
       "19. 0.289009548490867\n",
       "20. 0.307551042642444\n",
       "21. 1.26418125719215\n",
       "22. 0.1962174873047\n",
       "23. -0.302608767812086\n",
       "24. 0.383624915401651\n",
       "25. -0.0965952641340693\n",
       "26. 1.03168274812444\n",
       "27. 1.97759217839536\n",
       "28. 1.33722869071815\n",
       "29. 2.06318486858136\n",
       "30. 2.57068397647636\n",
       "\n",
       "\n"
      ],
      "text/plain": [
       " [1]  1.15975688  0.54254841  0.32139234 -0.58650096 -0.20303342 -0.42110098\n",
       " [7]  1.18468594 -1.08788816  0.57641245  0.86366154  0.29964365  0.15315650\n",
       "[13]  0.56459679  0.99055704  0.77719779  0.85865260  0.15068618  0.08499097\n",
       "[19]  0.28900955  0.30755104  1.26418126  0.19621749 -0.30260877  0.38362492\n",
       "[25] -0.09659526  1.03168275  1.97759218  1.33722869  2.06318487  2.57068398"
      ]
     },
     "metadata": {},
     "output_type": "display_data"
    }
   ],
   "source": [
    "(x <- c(rnorm(10), runif(10), rnorm(10,1)))"
   ]
  },
  {
   "cell_type": "code",
   "execution_count": 39,
   "id": "1fd93405",
   "metadata": {},
   "outputs": [
    {
     "data": {
      "text/html": [
       "<style>\n",
       ".list-inline {list-style: none; margin:0; padding: 0}\n",
       ".list-inline>li {display: inline-block}\n",
       ".list-inline>li:not(:last-child)::after {content: \"\\00b7\"; padding: 0 .5ex}\n",
       "</style>\n",
       "<ol class=list-inline><li>1</li><li>1</li><li>1</li><li>1</li><li>1</li><li>1</li><li>1</li><li>1</li><li>1</li><li>1</li><li>2</li><li>2</li><li>2</li><li>2</li><li>2</li><li>2</li><li>2</li><li>2</li><li>2</li><li>2</li><li>3</li><li>3</li><li>3</li><li>3</li><li>3</li><li>3</li><li>3</li><li>3</li><li>3</li><li>3</li></ol>\n",
       "\n",
       "<details>\n",
       "\t<summary style=display:list-item;cursor:pointer>\n",
       "\t\t<strong>Levels</strong>:\n",
       "\t</summary>\n",
       "\t<style>\n",
       "\t.list-inline {list-style: none; margin:0; padding: 0}\n",
       "\t.list-inline>li {display: inline-block}\n",
       "\t.list-inline>li:not(:last-child)::after {content: \"\\00b7\"; padding: 0 .5ex}\n",
       "\t</style>\n",
       "\t<ol class=list-inline><li>'1'</li><li>'2'</li><li>'3'</li></ol>\n",
       "</details>"
      ],
      "text/latex": [
       "\\begin{enumerate*}\n",
       "\\item 1\n",
       "\\item 1\n",
       "\\item 1\n",
       "\\item 1\n",
       "\\item 1\n",
       "\\item 1\n",
       "\\item 1\n",
       "\\item 1\n",
       "\\item 1\n",
       "\\item 1\n",
       "\\item 2\n",
       "\\item 2\n",
       "\\item 2\n",
       "\\item 2\n",
       "\\item 2\n",
       "\\item 2\n",
       "\\item 2\n",
       "\\item 2\n",
       "\\item 2\n",
       "\\item 2\n",
       "\\item 3\n",
       "\\item 3\n",
       "\\item 3\n",
       "\\item 3\n",
       "\\item 3\n",
       "\\item 3\n",
       "\\item 3\n",
       "\\item 3\n",
       "\\item 3\n",
       "\\item 3\n",
       "\\end{enumerate*}\n",
       "\n",
       "\\emph{Levels}: \\begin{enumerate*}\n",
       "\\item '1'\n",
       "\\item '2'\n",
       "\\item '3'\n",
       "\\end{enumerate*}\n"
      ],
      "text/markdown": [
       "1. 1\n",
       "2. 1\n",
       "3. 1\n",
       "4. 1\n",
       "5. 1\n",
       "6. 1\n",
       "7. 1\n",
       "8. 1\n",
       "9. 1\n",
       "10. 1\n",
       "11. 2\n",
       "12. 2\n",
       "13. 2\n",
       "14. 2\n",
       "15. 2\n",
       "16. 2\n",
       "17. 2\n",
       "18. 2\n",
       "19. 2\n",
       "20. 2\n",
       "21. 3\n",
       "22. 3\n",
       "23. 3\n",
       "24. 3\n",
       "25. 3\n",
       "26. 3\n",
       "27. 3\n",
       "28. 3\n",
       "29. 3\n",
       "30. 3\n",
       "\n",
       "\n",
       "\n",
       "**Levels**: 1. '1'\n",
       "2. '2'\n",
       "3. '3'\n",
       "\n",
       "\n"
      ],
      "text/plain": [
       " [1] 1 1 1 1 1 1 1 1 1 1 2 2 2 2 2 2 2 2 2 2 3 3 3 3 3 3 3 3 3 3\n",
       "Levels: 1 2 3"
      ]
     },
     "metadata": {},
     "output_type": "display_data"
    }
   ],
   "source": [
    "# generating a factor : 3 levels, each level is repeated 10 times\n",
    "f <- gl(3,10)\n",
    "f"
   ]
  },
  {
   "cell_type": "code",
   "execution_count": 40,
   "id": "db220cf6",
   "metadata": {},
   "outputs": [
    {
     "data": {
      "text/html": [
       "<dl>\n",
       "\t<dt>$`1`</dt>\n",
       "\t\t<dd><style>\n",
       ".list-inline {list-style: none; margin:0; padding: 0}\n",
       ".list-inline>li {display: inline-block}\n",
       ".list-inline>li:not(:last-child)::after {content: \"\\00b7\"; padding: 0 .5ex}\n",
       "</style>\n",
       "<ol class=list-inline><li>1.15975688219263</li><li>0.542548409847553</li><li>0.321392343021589</li><li>-0.586500961865957</li><li>-0.203033422199242</li><li>-0.421100978206388</li><li>1.18468594293317</li><li>-1.0878881561185</li><li>0.576412450650789</li><li>0.86366154353341</li></ol>\n",
       "</dd>\n",
       "\t<dt>$`2`</dt>\n",
       "\t\t<dd><style>\n",
       ".list-inline {list-style: none; margin:0; padding: 0}\n",
       ".list-inline>li {display: inline-block}\n",
       ".list-inline>li:not(:last-child)::after {content: \"\\00b7\"; padding: 0 .5ex}\n",
       "</style>\n",
       "<ol class=list-inline><li>0.29964365484193</li><li>0.153156497748569</li><li>0.564596790121868</li><li>0.990557035431266</li><li>0.777197786606848</li><li>0.858652600552887</li><li>0.150686183944345</li><li>0.0849909712560475</li><li>0.289009548490867</li><li>0.307551042642444</li></ol>\n",
       "</dd>\n",
       "\t<dt>$`3`</dt>\n",
       "\t\t<dd><style>\n",
       ".list-inline {list-style: none; margin:0; padding: 0}\n",
       ".list-inline>li {display: inline-block}\n",
       ".list-inline>li:not(:last-child)::after {content: \"\\00b7\"; padding: 0 .5ex}\n",
       "</style>\n",
       "<ol class=list-inline><li>1.26418125719215</li><li>0.1962174873047</li><li>-0.302608767812086</li><li>0.383624915401651</li><li>-0.0965952641340693</li><li>1.03168274812444</li><li>1.97759217839536</li><li>1.33722869071815</li><li>2.06318486858136</li><li>2.57068397647636</li></ol>\n",
       "</dd>\n",
       "</dl>\n"
      ],
      "text/latex": [
       "\\begin{description}\n",
       "\\item[\\$`1`] \\begin{enumerate*}\n",
       "\\item 1.15975688219263\n",
       "\\item 0.542548409847553\n",
       "\\item 0.321392343021589\n",
       "\\item -0.586500961865957\n",
       "\\item -0.203033422199242\n",
       "\\item -0.421100978206388\n",
       "\\item 1.18468594293317\n",
       "\\item -1.0878881561185\n",
       "\\item 0.576412450650789\n",
       "\\item 0.86366154353341\n",
       "\\end{enumerate*}\n",
       "\n",
       "\\item[\\$`2`] \\begin{enumerate*}\n",
       "\\item 0.29964365484193\n",
       "\\item 0.153156497748569\n",
       "\\item 0.564596790121868\n",
       "\\item 0.990557035431266\n",
       "\\item 0.777197786606848\n",
       "\\item 0.858652600552887\n",
       "\\item 0.150686183944345\n",
       "\\item 0.0849909712560475\n",
       "\\item 0.289009548490867\n",
       "\\item 0.307551042642444\n",
       "\\end{enumerate*}\n",
       "\n",
       "\\item[\\$`3`] \\begin{enumerate*}\n",
       "\\item 1.26418125719215\n",
       "\\item 0.1962174873047\n",
       "\\item -0.302608767812086\n",
       "\\item 0.383624915401651\n",
       "\\item -0.0965952641340693\n",
       "\\item 1.03168274812444\n",
       "\\item 1.97759217839536\n",
       "\\item 1.33722869071815\n",
       "\\item 2.06318486858136\n",
       "\\item 2.57068397647636\n",
       "\\end{enumerate*}\n",
       "\n",
       "\\end{description}\n"
      ],
      "text/markdown": [
       "$`1`\n",
       ":   1. 1.15975688219263\n",
       "2. 0.542548409847553\n",
       "3. 0.321392343021589\n",
       "4. -0.586500961865957\n",
       "5. -0.203033422199242\n",
       "6. -0.421100978206388\n",
       "7. 1.18468594293317\n",
       "8. -1.0878881561185\n",
       "9. 0.576412450650789\n",
       "10. 0.86366154353341\n",
       "\n",
       "\n",
       "\n",
       "$`2`\n",
       ":   1. 0.29964365484193\n",
       "2. 0.153156497748569\n",
       "3. 0.564596790121868\n",
       "4. 0.990557035431266\n",
       "5. 0.777197786606848\n",
       "6. 0.858652600552887\n",
       "7. 0.150686183944345\n",
       "8. 0.0849909712560475\n",
       "9. 0.289009548490867\n",
       "10. 0.307551042642444\n",
       "\n",
       "\n",
       "\n",
       "$`3`\n",
       ":   1. 1.26418125719215\n",
       "2. 0.1962174873047\n",
       "3. -0.302608767812086\n",
       "4. 0.383624915401651\n",
       "5. -0.0965952641340693\n",
       "6. 1.03168274812444\n",
       "7. 1.97759217839536\n",
       "8. 1.33722869071815\n",
       "9. 2.06318486858136\n",
       "10. 2.57068397647636\n",
       "\n",
       "\n",
       "\n",
       "\n",
       "\n"
      ],
      "text/plain": [
       "$`1`\n",
       " [1]  1.1597569  0.5425484  0.3213923 -0.5865010 -0.2030334 -0.4211010\n",
       " [7]  1.1846859 -1.0878882  0.5764125  0.8636615\n",
       "\n",
       "$`2`\n",
       " [1] 0.29964365 0.15315650 0.56459679 0.99055704 0.77719779 0.85865260\n",
       " [7] 0.15068618 0.08499097 0.28900955 0.30755104\n",
       "\n",
       "$`3`\n",
       " [1]  1.26418126  0.19621749 -0.30260877  0.38362492 -0.09659526  1.03168275\n",
       " [7]  1.97759218  1.33722869  2.06318487  2.57068398\n"
      ]
     },
     "metadata": {},
     "output_type": "display_data"
    }
   ],
   "source": [
    "# splitting x using the factor 'f'\n",
    "split(x, f)"
   ]
  },
  {
   "cell_type": "markdown",
   "id": "122b75a6",
   "metadata": {},
   "source": [
    "So now we can see when we split the x vector, we got a list back and the first element is 10 normals, the second 10 uniforms, and the third is 10 normals. "
   ]
  },
  {
   "cell_type": "code",
   "execution_count": 41,
   "id": "8b42c996",
   "metadata": {},
   "outputs": [
    {
     "data": {
      "text/html": [
       "<dl>\n",
       "\t<dt>$`1`</dt>\n",
       "\t\t<dd>0.234993405378906</dd>\n",
       "\t<dt>$`2`</dt>\n",
       "\t\t<dd>0.447604211163707</dd>\n",
       "\t<dt>$`3`</dt>\n",
       "\t\t<dd>1.0425192090248</dd>\n",
       "</dl>\n"
      ],
      "text/latex": [
       "\\begin{description}\n",
       "\\item[\\$`1`] 0.234993405378906\n",
       "\\item[\\$`2`] 0.447604211163707\n",
       "\\item[\\$`3`] 1.0425192090248\n",
       "\\end{description}\n"
      ],
      "text/markdown": [
       "$`1`\n",
       ":   0.234993405378906\n",
       "$`2`\n",
       ":   0.447604211163707\n",
       "$`3`\n",
       ":   1.0425192090248\n",
       "\n",
       "\n"
      ],
      "text/plain": [
       "$`1`\n",
       "[1] 0.2349934\n",
       "\n",
       "$`2`\n",
       "[1] 0.4476042\n",
       "\n",
       "$`3`\n",
       "[1] 1.042519\n"
      ]
     },
     "metadata": {},
     "output_type": "display_data"
    }
   ],
   "source": [
    "# Calculating the mean of each level : the 'split+ lapply' here is equivalent to 'tapply'\n",
    "lapply(split(x,f), mean)"
   ]
  },
  {
   "cell_type": "code",
   "execution_count": 42,
   "id": "231b56f0",
   "metadata": {},
   "outputs": [
    {
     "data": {
      "text/html": [
       "<style>\n",
       ".dl-inline {width: auto; margin:0; padding: 0}\n",
       ".dl-inline>dt, .dl-inline>dd {float: none; width: auto; display: inline-block}\n",
       ".dl-inline>dt::after {content: \":\\0020\"; padding-right: .5ex}\n",
       ".dl-inline>dt:not(:first-of-type) {padding-left: .5ex}\n",
       "</style><dl class=dl-inline><dt>1</dt><dd>0.234993405378906</dd><dt>2</dt><dd>0.447604211163707</dd><dt>3</dt><dd>1.0425192090248</dd></dl>\n"
      ],
      "text/latex": [
       "\\begin{description*}\n",
       "\\item[1] 0.234993405378906\n",
       "\\item[2] 0.447604211163707\n",
       "\\item[3] 1.0425192090248\n",
       "\\end{description*}\n"
      ],
      "text/markdown": [
       "1\n",
       ":   0.2349934053789062\n",
       ":   0.4476042111637073\n",
       ":   1.0425192090248\n",
       "\n"
      ],
      "text/plain": [
       "        1         2         3 \n",
       "0.2349934 0.4476042 1.0425192 "
      ]
     },
     "metadata": {},
     "output_type": "display_data"
    }
   ],
   "source": [
    "tapply(x, f, mean)"
   ]
  },
  {
   "cell_type": "markdown",
   "id": "82b1d46d",
   "metadata": {},
   "source": [
    "### <u>Spltting a dataframe</u>\n",
    "\n",
    "But the nice thing about the `split` function is that it can be used to split much more complicated types of objects.\n",
    "\n",
    "**Example :**\n",
    "\n"
   ]
  },
  {
   "cell_type": "code",
   "execution_count": 43,
   "id": "155f8a3d",
   "metadata": {},
   "outputs": [
    {
     "data": {
      "text/html": [
       "<table class=\"dataframe\">\n",
       "<caption>A data.frame: 6 × 6</caption>\n",
       "<thead>\n",
       "\t<tr><th></th><th scope=col>Ozone</th><th scope=col>Solar.R</th><th scope=col>Wind</th><th scope=col>Temp</th><th scope=col>Month</th><th scope=col>Day</th></tr>\n",
       "\t<tr><th></th><th scope=col>&lt;int&gt;</th><th scope=col>&lt;int&gt;</th><th scope=col>&lt;dbl&gt;</th><th scope=col>&lt;int&gt;</th><th scope=col>&lt;int&gt;</th><th scope=col>&lt;int&gt;</th></tr>\n",
       "</thead>\n",
       "<tbody>\n",
       "\t<tr><th scope=row>1</th><td>41</td><td>190</td><td> 7.4</td><td>67</td><td>5</td><td>1</td></tr>\n",
       "\t<tr><th scope=row>2</th><td>36</td><td>118</td><td> 8.0</td><td>72</td><td>5</td><td>2</td></tr>\n",
       "\t<tr><th scope=row>3</th><td>12</td><td>149</td><td>12.6</td><td>74</td><td>5</td><td>3</td></tr>\n",
       "\t<tr><th scope=row>4</th><td>18</td><td>313</td><td>11.5</td><td>62</td><td>5</td><td>4</td></tr>\n",
       "\t<tr><th scope=row>5</th><td>NA</td><td> NA</td><td>14.3</td><td>56</td><td>5</td><td>5</td></tr>\n",
       "\t<tr><th scope=row>6</th><td>28</td><td> NA</td><td>14.9</td><td>66</td><td>5</td><td>6</td></tr>\n",
       "</tbody>\n",
       "</table>\n"
      ],
      "text/latex": [
       "A data.frame: 6 × 6\n",
       "\\begin{tabular}{r|llllll}\n",
       "  & Ozone & Solar.R & Wind & Temp & Month & Day\\\\\n",
       "  & <int> & <int> & <dbl> & <int> & <int> & <int>\\\\\n",
       "\\hline\n",
       "\t1 & 41 & 190 &  7.4 & 67 & 5 & 1\\\\\n",
       "\t2 & 36 & 118 &  8.0 & 72 & 5 & 2\\\\\n",
       "\t3 & 12 & 149 & 12.6 & 74 & 5 & 3\\\\\n",
       "\t4 & 18 & 313 & 11.5 & 62 & 5 & 4\\\\\n",
       "\t5 & NA &  NA & 14.3 & 56 & 5 & 5\\\\\n",
       "\t6 & 28 &  NA & 14.9 & 66 & 5 & 6\\\\\n",
       "\\end{tabular}\n"
      ],
      "text/markdown": [
       "\n",
       "A data.frame: 6 × 6\n",
       "\n",
       "| <!--/--> | Ozone &lt;int&gt; | Solar.R &lt;int&gt; | Wind &lt;dbl&gt; | Temp &lt;int&gt; | Month &lt;int&gt; | Day &lt;int&gt; |\n",
       "|---|---|---|---|---|---|---|\n",
       "| 1 | 41 | 190 |  7.4 | 67 | 5 | 1 |\n",
       "| 2 | 36 | 118 |  8.0 | 72 | 5 | 2 |\n",
       "| 3 | 12 | 149 | 12.6 | 74 | 5 | 3 |\n",
       "| 4 | 18 | 313 | 11.5 | 62 | 5 | 4 |\n",
       "| 5 | NA |  NA | 14.3 | 56 | 5 | 5 |\n",
       "| 6 | 28 |  NA | 14.9 | 66 | 5 | 6 |\n",
       "\n"
      ],
      "text/plain": [
       "  Ozone Solar.R Wind Temp Month Day\n",
       "1 41    190      7.4 67   5     1  \n",
       "2 36    118      8.0 72   5     2  \n",
       "3 12    149     12.6 74   5     3  \n",
       "4 18    313     11.5 62   5     4  \n",
       "5 NA     NA     14.3 56   5     5  \n",
       "6 28     NA     14.9 66   5     6  "
      ]
     },
     "metadata": {},
     "output_type": "display_data"
    }
   ],
   "source": [
    "library(datasets)\n",
    "head(airquality)"
   ]
  },
  {
   "cell_type": "markdown",
   "id": "ea77f6f1",
   "metadata": {},
   "source": [
    "One thing we might want to do is calculate, for example, the mean of `Ozone`, solar radiation `Solar.R`, `Wind`, and the temperature `Temp` within each month. Well, we'd like to split the dataframe into **monthly pieces,** and calculate the means, the columns means using either `apply` or `colMeans` on those other variables."
   ]
  },
  {
   "cell_type": "code",
   "execution_count": 44,
   "id": "94e95d1c",
   "metadata": {},
   "outputs": [
    {
     "data": {
      "text/html": [
       "<dl>\n",
       "\t<dt>$`5`</dt>\n",
       "\t\t<dd><table class=\"dataframe\">\n",
       "<caption>A data.frame: 31 × 6</caption>\n",
       "<thead>\n",
       "\t<tr><th></th><th scope=col>Ozone</th><th scope=col>Solar.R</th><th scope=col>Wind</th><th scope=col>Temp</th><th scope=col>Month</th><th scope=col>Day</th></tr>\n",
       "\t<tr><th></th><th scope=col>&lt;int&gt;</th><th scope=col>&lt;int&gt;</th><th scope=col>&lt;dbl&gt;</th><th scope=col>&lt;int&gt;</th><th scope=col>&lt;int&gt;</th><th scope=col>&lt;int&gt;</th></tr>\n",
       "</thead>\n",
       "<tbody>\n",
       "\t<tr><th scope=row>1</th><td> 41</td><td>190</td><td> 7.4</td><td>67</td><td>5</td><td> 1</td></tr>\n",
       "\t<tr><th scope=row>2</th><td> 36</td><td>118</td><td> 8.0</td><td>72</td><td>5</td><td> 2</td></tr>\n",
       "\t<tr><th scope=row>3</th><td> 12</td><td>149</td><td>12.6</td><td>74</td><td>5</td><td> 3</td></tr>\n",
       "\t<tr><th scope=row>4</th><td> 18</td><td>313</td><td>11.5</td><td>62</td><td>5</td><td> 4</td></tr>\n",
       "\t<tr><th scope=row>5</th><td> NA</td><td> NA</td><td>14.3</td><td>56</td><td>5</td><td> 5</td></tr>\n",
       "\t<tr><th scope=row>6</th><td> 28</td><td> NA</td><td>14.9</td><td>66</td><td>5</td><td> 6</td></tr>\n",
       "\t<tr><th scope=row>7</th><td> 23</td><td>299</td><td> 8.6</td><td>65</td><td>5</td><td> 7</td></tr>\n",
       "\t<tr><th scope=row>8</th><td> 19</td><td> 99</td><td>13.8</td><td>59</td><td>5</td><td> 8</td></tr>\n",
       "\t<tr><th scope=row>9</th><td>  8</td><td> 19</td><td>20.1</td><td>61</td><td>5</td><td> 9</td></tr>\n",
       "\t<tr><th scope=row>10</th><td> NA</td><td>194</td><td> 8.6</td><td>69</td><td>5</td><td>10</td></tr>\n",
       "\t<tr><th scope=row>11</th><td>  7</td><td> NA</td><td> 6.9</td><td>74</td><td>5</td><td>11</td></tr>\n",
       "\t<tr><th scope=row>12</th><td> 16</td><td>256</td><td> 9.7</td><td>69</td><td>5</td><td>12</td></tr>\n",
       "\t<tr><th scope=row>13</th><td> 11</td><td>290</td><td> 9.2</td><td>66</td><td>5</td><td>13</td></tr>\n",
       "\t<tr><th scope=row>14</th><td> 14</td><td>274</td><td>10.9</td><td>68</td><td>5</td><td>14</td></tr>\n",
       "\t<tr><th scope=row>15</th><td> 18</td><td> 65</td><td>13.2</td><td>58</td><td>5</td><td>15</td></tr>\n",
       "\t<tr><th scope=row>16</th><td> 14</td><td>334</td><td>11.5</td><td>64</td><td>5</td><td>16</td></tr>\n",
       "\t<tr><th scope=row>17</th><td> 34</td><td>307</td><td>12.0</td><td>66</td><td>5</td><td>17</td></tr>\n",
       "\t<tr><th scope=row>18</th><td>  6</td><td> 78</td><td>18.4</td><td>57</td><td>5</td><td>18</td></tr>\n",
       "\t<tr><th scope=row>19</th><td> 30</td><td>322</td><td>11.5</td><td>68</td><td>5</td><td>19</td></tr>\n",
       "\t<tr><th scope=row>20</th><td> 11</td><td> 44</td><td> 9.7</td><td>62</td><td>5</td><td>20</td></tr>\n",
       "\t<tr><th scope=row>21</th><td>  1</td><td>  8</td><td> 9.7</td><td>59</td><td>5</td><td>21</td></tr>\n",
       "\t<tr><th scope=row>22</th><td> 11</td><td>320</td><td>16.6</td><td>73</td><td>5</td><td>22</td></tr>\n",
       "\t<tr><th scope=row>23</th><td>  4</td><td> 25</td><td> 9.7</td><td>61</td><td>5</td><td>23</td></tr>\n",
       "\t<tr><th scope=row>24</th><td> 32</td><td> 92</td><td>12.0</td><td>61</td><td>5</td><td>24</td></tr>\n",
       "\t<tr><th scope=row>25</th><td> NA</td><td> 66</td><td>16.6</td><td>57</td><td>5</td><td>25</td></tr>\n",
       "\t<tr><th scope=row>26</th><td> NA</td><td>266</td><td>14.9</td><td>58</td><td>5</td><td>26</td></tr>\n",
       "\t<tr><th scope=row>27</th><td> NA</td><td> NA</td><td> 8.0</td><td>57</td><td>5</td><td>27</td></tr>\n",
       "\t<tr><th scope=row>28</th><td> 23</td><td> 13</td><td>12.0</td><td>67</td><td>5</td><td>28</td></tr>\n",
       "\t<tr><th scope=row>29</th><td> 45</td><td>252</td><td>14.9</td><td>81</td><td>5</td><td>29</td></tr>\n",
       "\t<tr><th scope=row>30</th><td>115</td><td>223</td><td> 5.7</td><td>79</td><td>5</td><td>30</td></tr>\n",
       "\t<tr><th scope=row>31</th><td> 37</td><td>279</td><td> 7.4</td><td>76</td><td>5</td><td>31</td></tr>\n",
       "</tbody>\n",
       "</table>\n",
       "</dd>\n",
       "\t<dt>$`6`</dt>\n",
       "\t\t<dd><table class=\"dataframe\">\n",
       "<caption>A data.frame: 30 × 6</caption>\n",
       "<thead>\n",
       "\t<tr><th></th><th scope=col>Ozone</th><th scope=col>Solar.R</th><th scope=col>Wind</th><th scope=col>Temp</th><th scope=col>Month</th><th scope=col>Day</th></tr>\n",
       "\t<tr><th></th><th scope=col>&lt;int&gt;</th><th scope=col>&lt;int&gt;</th><th scope=col>&lt;dbl&gt;</th><th scope=col>&lt;int&gt;</th><th scope=col>&lt;int&gt;</th><th scope=col>&lt;int&gt;</th></tr>\n",
       "</thead>\n",
       "<tbody>\n",
       "\t<tr><th scope=row>32</th><td>NA</td><td>286</td><td> 8.6</td><td>78</td><td>6</td><td> 1</td></tr>\n",
       "\t<tr><th scope=row>33</th><td>NA</td><td>287</td><td> 9.7</td><td>74</td><td>6</td><td> 2</td></tr>\n",
       "\t<tr><th scope=row>34</th><td>NA</td><td>242</td><td>16.1</td><td>67</td><td>6</td><td> 3</td></tr>\n",
       "\t<tr><th scope=row>35</th><td>NA</td><td>186</td><td> 9.2</td><td>84</td><td>6</td><td> 4</td></tr>\n",
       "\t<tr><th scope=row>36</th><td>NA</td><td>220</td><td> 8.6</td><td>85</td><td>6</td><td> 5</td></tr>\n",
       "\t<tr><th scope=row>37</th><td>NA</td><td>264</td><td>14.3</td><td>79</td><td>6</td><td> 6</td></tr>\n",
       "\t<tr><th scope=row>38</th><td>29</td><td>127</td><td> 9.7</td><td>82</td><td>6</td><td> 7</td></tr>\n",
       "\t<tr><th scope=row>39</th><td>NA</td><td>273</td><td> 6.9</td><td>87</td><td>6</td><td> 8</td></tr>\n",
       "\t<tr><th scope=row>40</th><td>71</td><td>291</td><td>13.8</td><td>90</td><td>6</td><td> 9</td></tr>\n",
       "\t<tr><th scope=row>41</th><td>39</td><td>323</td><td>11.5</td><td>87</td><td>6</td><td>10</td></tr>\n",
       "\t<tr><th scope=row>42</th><td>NA</td><td>259</td><td>10.9</td><td>93</td><td>6</td><td>11</td></tr>\n",
       "\t<tr><th scope=row>43</th><td>NA</td><td>250</td><td> 9.2</td><td>92</td><td>6</td><td>12</td></tr>\n",
       "\t<tr><th scope=row>44</th><td>23</td><td>148</td><td> 8.0</td><td>82</td><td>6</td><td>13</td></tr>\n",
       "\t<tr><th scope=row>45</th><td>NA</td><td>332</td><td>13.8</td><td>80</td><td>6</td><td>14</td></tr>\n",
       "\t<tr><th scope=row>46</th><td>NA</td><td>322</td><td>11.5</td><td>79</td><td>6</td><td>15</td></tr>\n",
       "\t<tr><th scope=row>47</th><td>21</td><td>191</td><td>14.9</td><td>77</td><td>6</td><td>16</td></tr>\n",
       "\t<tr><th scope=row>48</th><td>37</td><td>284</td><td>20.7</td><td>72</td><td>6</td><td>17</td></tr>\n",
       "\t<tr><th scope=row>49</th><td>20</td><td> 37</td><td> 9.2</td><td>65</td><td>6</td><td>18</td></tr>\n",
       "\t<tr><th scope=row>50</th><td>12</td><td>120</td><td>11.5</td><td>73</td><td>6</td><td>19</td></tr>\n",
       "\t<tr><th scope=row>51</th><td>13</td><td>137</td><td>10.3</td><td>76</td><td>6</td><td>20</td></tr>\n",
       "\t<tr><th scope=row>52</th><td>NA</td><td>150</td><td> 6.3</td><td>77</td><td>6</td><td>21</td></tr>\n",
       "\t<tr><th scope=row>53</th><td>NA</td><td> 59</td><td> 1.7</td><td>76</td><td>6</td><td>22</td></tr>\n",
       "\t<tr><th scope=row>54</th><td>NA</td><td> 91</td><td> 4.6</td><td>76</td><td>6</td><td>23</td></tr>\n",
       "\t<tr><th scope=row>55</th><td>NA</td><td>250</td><td> 6.3</td><td>76</td><td>6</td><td>24</td></tr>\n",
       "\t<tr><th scope=row>56</th><td>NA</td><td>135</td><td> 8.0</td><td>75</td><td>6</td><td>25</td></tr>\n",
       "\t<tr><th scope=row>57</th><td>NA</td><td>127</td><td> 8.0</td><td>78</td><td>6</td><td>26</td></tr>\n",
       "\t<tr><th scope=row>58</th><td>NA</td><td> 47</td><td>10.3</td><td>73</td><td>6</td><td>27</td></tr>\n",
       "\t<tr><th scope=row>59</th><td>NA</td><td> 98</td><td>11.5</td><td>80</td><td>6</td><td>28</td></tr>\n",
       "\t<tr><th scope=row>60</th><td>NA</td><td> 31</td><td>14.9</td><td>77</td><td>6</td><td>29</td></tr>\n",
       "\t<tr><th scope=row>61</th><td>NA</td><td>138</td><td> 8.0</td><td>83</td><td>6</td><td>30</td></tr>\n",
       "</tbody>\n",
       "</table>\n",
       "</dd>\n",
       "\t<dt>$`7`</dt>\n",
       "\t\t<dd><table class=\"dataframe\">\n",
       "<caption>A data.frame: 31 × 6</caption>\n",
       "<thead>\n",
       "\t<tr><th></th><th scope=col>Ozone</th><th scope=col>Solar.R</th><th scope=col>Wind</th><th scope=col>Temp</th><th scope=col>Month</th><th scope=col>Day</th></tr>\n",
       "\t<tr><th></th><th scope=col>&lt;int&gt;</th><th scope=col>&lt;int&gt;</th><th scope=col>&lt;dbl&gt;</th><th scope=col>&lt;int&gt;</th><th scope=col>&lt;int&gt;</th><th scope=col>&lt;int&gt;</th></tr>\n",
       "</thead>\n",
       "<tbody>\n",
       "\t<tr><th scope=row>62</th><td>135</td><td>269</td><td> 4.1</td><td>84</td><td>7</td><td> 1</td></tr>\n",
       "\t<tr><th scope=row>63</th><td> 49</td><td>248</td><td> 9.2</td><td>85</td><td>7</td><td> 2</td></tr>\n",
       "\t<tr><th scope=row>64</th><td> 32</td><td>236</td><td> 9.2</td><td>81</td><td>7</td><td> 3</td></tr>\n",
       "\t<tr><th scope=row>65</th><td> NA</td><td>101</td><td>10.9</td><td>84</td><td>7</td><td> 4</td></tr>\n",
       "\t<tr><th scope=row>66</th><td> 64</td><td>175</td><td> 4.6</td><td>83</td><td>7</td><td> 5</td></tr>\n",
       "\t<tr><th scope=row>67</th><td> 40</td><td>314</td><td>10.9</td><td>83</td><td>7</td><td> 6</td></tr>\n",
       "\t<tr><th scope=row>68</th><td> 77</td><td>276</td><td> 5.1</td><td>88</td><td>7</td><td> 7</td></tr>\n",
       "\t<tr><th scope=row>69</th><td> 97</td><td>267</td><td> 6.3</td><td>92</td><td>7</td><td> 8</td></tr>\n",
       "\t<tr><th scope=row>70</th><td> 97</td><td>272</td><td> 5.7</td><td>92</td><td>7</td><td> 9</td></tr>\n",
       "\t<tr><th scope=row>71</th><td> 85</td><td>175</td><td> 7.4</td><td>89</td><td>7</td><td>10</td></tr>\n",
       "\t<tr><th scope=row>72</th><td> NA</td><td>139</td><td> 8.6</td><td>82</td><td>7</td><td>11</td></tr>\n",
       "\t<tr><th scope=row>73</th><td> 10</td><td>264</td><td>14.3</td><td>73</td><td>7</td><td>12</td></tr>\n",
       "\t<tr><th scope=row>74</th><td> 27</td><td>175</td><td>14.9</td><td>81</td><td>7</td><td>13</td></tr>\n",
       "\t<tr><th scope=row>75</th><td> NA</td><td>291</td><td>14.9</td><td>91</td><td>7</td><td>14</td></tr>\n",
       "\t<tr><th scope=row>76</th><td>  7</td><td> 48</td><td>14.3</td><td>80</td><td>7</td><td>15</td></tr>\n",
       "\t<tr><th scope=row>77</th><td> 48</td><td>260</td><td> 6.9</td><td>81</td><td>7</td><td>16</td></tr>\n",
       "\t<tr><th scope=row>78</th><td> 35</td><td>274</td><td>10.3</td><td>82</td><td>7</td><td>17</td></tr>\n",
       "\t<tr><th scope=row>79</th><td> 61</td><td>285</td><td> 6.3</td><td>84</td><td>7</td><td>18</td></tr>\n",
       "\t<tr><th scope=row>80</th><td> 79</td><td>187</td><td> 5.1</td><td>87</td><td>7</td><td>19</td></tr>\n",
       "\t<tr><th scope=row>81</th><td> 63</td><td>220</td><td>11.5</td><td>85</td><td>7</td><td>20</td></tr>\n",
       "\t<tr><th scope=row>82</th><td> 16</td><td>  7</td><td> 6.9</td><td>74</td><td>7</td><td>21</td></tr>\n",
       "\t<tr><th scope=row>83</th><td> NA</td><td>258</td><td> 9.7</td><td>81</td><td>7</td><td>22</td></tr>\n",
       "\t<tr><th scope=row>84</th><td> NA</td><td>295</td><td>11.5</td><td>82</td><td>7</td><td>23</td></tr>\n",
       "\t<tr><th scope=row>85</th><td> 80</td><td>294</td><td> 8.6</td><td>86</td><td>7</td><td>24</td></tr>\n",
       "\t<tr><th scope=row>86</th><td>108</td><td>223</td><td> 8.0</td><td>85</td><td>7</td><td>25</td></tr>\n",
       "\t<tr><th scope=row>87</th><td> 20</td><td> 81</td><td> 8.6</td><td>82</td><td>7</td><td>26</td></tr>\n",
       "\t<tr><th scope=row>88</th><td> 52</td><td> 82</td><td>12.0</td><td>86</td><td>7</td><td>27</td></tr>\n",
       "\t<tr><th scope=row>89</th><td> 82</td><td>213</td><td> 7.4</td><td>88</td><td>7</td><td>28</td></tr>\n",
       "\t<tr><th scope=row>90</th><td> 50</td><td>275</td><td> 7.4</td><td>86</td><td>7</td><td>29</td></tr>\n",
       "\t<tr><th scope=row>91</th><td> 64</td><td>253</td><td> 7.4</td><td>83</td><td>7</td><td>30</td></tr>\n",
       "\t<tr><th scope=row>92</th><td> 59</td><td>254</td><td> 9.2</td><td>81</td><td>7</td><td>31</td></tr>\n",
       "</tbody>\n",
       "</table>\n",
       "</dd>\n",
       "\t<dt>$`8`</dt>\n",
       "\t\t<dd><table class=\"dataframe\">\n",
       "<caption>A data.frame: 31 × 6</caption>\n",
       "<thead>\n",
       "\t<tr><th></th><th scope=col>Ozone</th><th scope=col>Solar.R</th><th scope=col>Wind</th><th scope=col>Temp</th><th scope=col>Month</th><th scope=col>Day</th></tr>\n",
       "\t<tr><th></th><th scope=col>&lt;int&gt;</th><th scope=col>&lt;int&gt;</th><th scope=col>&lt;dbl&gt;</th><th scope=col>&lt;int&gt;</th><th scope=col>&lt;int&gt;</th><th scope=col>&lt;int&gt;</th></tr>\n",
       "</thead>\n",
       "<tbody>\n",
       "\t<tr><th scope=row>93</th><td> 39</td><td> 83</td><td> 6.9</td><td>81</td><td>8</td><td> 1</td></tr>\n",
       "\t<tr><th scope=row>94</th><td>  9</td><td> 24</td><td>13.8</td><td>81</td><td>8</td><td> 2</td></tr>\n",
       "\t<tr><th scope=row>95</th><td> 16</td><td> 77</td><td> 7.4</td><td>82</td><td>8</td><td> 3</td></tr>\n",
       "\t<tr><th scope=row>96</th><td> 78</td><td> NA</td><td> 6.9</td><td>86</td><td>8</td><td> 4</td></tr>\n",
       "\t<tr><th scope=row>97</th><td> 35</td><td> NA</td><td> 7.4</td><td>85</td><td>8</td><td> 5</td></tr>\n",
       "\t<tr><th scope=row>98</th><td> 66</td><td> NA</td><td> 4.6</td><td>87</td><td>8</td><td> 6</td></tr>\n",
       "\t<tr><th scope=row>99</th><td>122</td><td>255</td><td> 4.0</td><td>89</td><td>8</td><td> 7</td></tr>\n",
       "\t<tr><th scope=row>100</th><td> 89</td><td>229</td><td>10.3</td><td>90</td><td>8</td><td> 8</td></tr>\n",
       "\t<tr><th scope=row>101</th><td>110</td><td>207</td><td> 8.0</td><td>90</td><td>8</td><td> 9</td></tr>\n",
       "\t<tr><th scope=row>102</th><td> NA</td><td>222</td><td> 8.6</td><td>92</td><td>8</td><td>10</td></tr>\n",
       "\t<tr><th scope=row>103</th><td> NA</td><td>137</td><td>11.5</td><td>86</td><td>8</td><td>11</td></tr>\n",
       "\t<tr><th scope=row>104</th><td> 44</td><td>192</td><td>11.5</td><td>86</td><td>8</td><td>12</td></tr>\n",
       "\t<tr><th scope=row>105</th><td> 28</td><td>273</td><td>11.5</td><td>82</td><td>8</td><td>13</td></tr>\n",
       "\t<tr><th scope=row>106</th><td> 65</td><td>157</td><td> 9.7</td><td>80</td><td>8</td><td>14</td></tr>\n",
       "\t<tr><th scope=row>107</th><td> NA</td><td> 64</td><td>11.5</td><td>79</td><td>8</td><td>15</td></tr>\n",
       "\t<tr><th scope=row>108</th><td> 22</td><td> 71</td><td>10.3</td><td>77</td><td>8</td><td>16</td></tr>\n",
       "\t<tr><th scope=row>109</th><td> 59</td><td> 51</td><td> 6.3</td><td>79</td><td>8</td><td>17</td></tr>\n",
       "\t<tr><th scope=row>110</th><td> 23</td><td>115</td><td> 7.4</td><td>76</td><td>8</td><td>18</td></tr>\n",
       "\t<tr><th scope=row>111</th><td> 31</td><td>244</td><td>10.9</td><td>78</td><td>8</td><td>19</td></tr>\n",
       "\t<tr><th scope=row>112</th><td> 44</td><td>190</td><td>10.3</td><td>78</td><td>8</td><td>20</td></tr>\n",
       "\t<tr><th scope=row>113</th><td> 21</td><td>259</td><td>15.5</td><td>77</td><td>8</td><td>21</td></tr>\n",
       "\t<tr><th scope=row>114</th><td>  9</td><td> 36</td><td>14.3</td><td>72</td><td>8</td><td>22</td></tr>\n",
       "\t<tr><th scope=row>115</th><td> NA</td><td>255</td><td>12.6</td><td>75</td><td>8</td><td>23</td></tr>\n",
       "\t<tr><th scope=row>116</th><td> 45</td><td>212</td><td> 9.7</td><td>79</td><td>8</td><td>24</td></tr>\n",
       "\t<tr><th scope=row>117</th><td>168</td><td>238</td><td> 3.4</td><td>81</td><td>8</td><td>25</td></tr>\n",
       "\t<tr><th scope=row>118</th><td> 73</td><td>215</td><td> 8.0</td><td>86</td><td>8</td><td>26</td></tr>\n",
       "\t<tr><th scope=row>119</th><td> NA</td><td>153</td><td> 5.7</td><td>88</td><td>8</td><td>27</td></tr>\n",
       "\t<tr><th scope=row>120</th><td> 76</td><td>203</td><td> 9.7</td><td>97</td><td>8</td><td>28</td></tr>\n",
       "\t<tr><th scope=row>121</th><td>118</td><td>225</td><td> 2.3</td><td>94</td><td>8</td><td>29</td></tr>\n",
       "\t<tr><th scope=row>122</th><td> 84</td><td>237</td><td> 6.3</td><td>96</td><td>8</td><td>30</td></tr>\n",
       "\t<tr><th scope=row>123</th><td> 85</td><td>188</td><td> 6.3</td><td>94</td><td>8</td><td>31</td></tr>\n",
       "</tbody>\n",
       "</table>\n",
       "</dd>\n",
       "\t<dt>$`9`</dt>\n",
       "\t\t<dd><table class=\"dataframe\">\n",
       "<caption>A data.frame: 30 × 6</caption>\n",
       "<thead>\n",
       "\t<tr><th></th><th scope=col>Ozone</th><th scope=col>Solar.R</th><th scope=col>Wind</th><th scope=col>Temp</th><th scope=col>Month</th><th scope=col>Day</th></tr>\n",
       "\t<tr><th></th><th scope=col>&lt;int&gt;</th><th scope=col>&lt;int&gt;</th><th scope=col>&lt;dbl&gt;</th><th scope=col>&lt;int&gt;</th><th scope=col>&lt;int&gt;</th><th scope=col>&lt;int&gt;</th></tr>\n",
       "</thead>\n",
       "<tbody>\n",
       "\t<tr><th scope=row>124</th><td>96</td><td>167</td><td> 6.9</td><td>91</td><td>9</td><td> 1</td></tr>\n",
       "\t<tr><th scope=row>125</th><td>78</td><td>197</td><td> 5.1</td><td>92</td><td>9</td><td> 2</td></tr>\n",
       "\t<tr><th scope=row>126</th><td>73</td><td>183</td><td> 2.8</td><td>93</td><td>9</td><td> 3</td></tr>\n",
       "\t<tr><th scope=row>127</th><td>91</td><td>189</td><td> 4.6</td><td>93</td><td>9</td><td> 4</td></tr>\n",
       "\t<tr><th scope=row>128</th><td>47</td><td> 95</td><td> 7.4</td><td>87</td><td>9</td><td> 5</td></tr>\n",
       "\t<tr><th scope=row>129</th><td>32</td><td> 92</td><td>15.5</td><td>84</td><td>9</td><td> 6</td></tr>\n",
       "\t<tr><th scope=row>130</th><td>20</td><td>252</td><td>10.9</td><td>80</td><td>9</td><td> 7</td></tr>\n",
       "\t<tr><th scope=row>131</th><td>23</td><td>220</td><td>10.3</td><td>78</td><td>9</td><td> 8</td></tr>\n",
       "\t<tr><th scope=row>132</th><td>21</td><td>230</td><td>10.9</td><td>75</td><td>9</td><td> 9</td></tr>\n",
       "\t<tr><th scope=row>133</th><td>24</td><td>259</td><td> 9.7</td><td>73</td><td>9</td><td>10</td></tr>\n",
       "\t<tr><th scope=row>134</th><td>44</td><td>236</td><td>14.9</td><td>81</td><td>9</td><td>11</td></tr>\n",
       "\t<tr><th scope=row>135</th><td>21</td><td>259</td><td>15.5</td><td>76</td><td>9</td><td>12</td></tr>\n",
       "\t<tr><th scope=row>136</th><td>28</td><td>238</td><td> 6.3</td><td>77</td><td>9</td><td>13</td></tr>\n",
       "\t<tr><th scope=row>137</th><td> 9</td><td> 24</td><td>10.9</td><td>71</td><td>9</td><td>14</td></tr>\n",
       "\t<tr><th scope=row>138</th><td>13</td><td>112</td><td>11.5</td><td>71</td><td>9</td><td>15</td></tr>\n",
       "\t<tr><th scope=row>139</th><td>46</td><td>237</td><td> 6.9</td><td>78</td><td>9</td><td>16</td></tr>\n",
       "\t<tr><th scope=row>140</th><td>18</td><td>224</td><td>13.8</td><td>67</td><td>9</td><td>17</td></tr>\n",
       "\t<tr><th scope=row>141</th><td>13</td><td> 27</td><td>10.3</td><td>76</td><td>9</td><td>18</td></tr>\n",
       "\t<tr><th scope=row>142</th><td>24</td><td>238</td><td>10.3</td><td>68</td><td>9</td><td>19</td></tr>\n",
       "\t<tr><th scope=row>143</th><td>16</td><td>201</td><td> 8.0</td><td>82</td><td>9</td><td>20</td></tr>\n",
       "\t<tr><th scope=row>144</th><td>13</td><td>238</td><td>12.6</td><td>64</td><td>9</td><td>21</td></tr>\n",
       "\t<tr><th scope=row>145</th><td>23</td><td> 14</td><td> 9.2</td><td>71</td><td>9</td><td>22</td></tr>\n",
       "\t<tr><th scope=row>146</th><td>36</td><td>139</td><td>10.3</td><td>81</td><td>9</td><td>23</td></tr>\n",
       "\t<tr><th scope=row>147</th><td> 7</td><td> 49</td><td>10.3</td><td>69</td><td>9</td><td>24</td></tr>\n",
       "\t<tr><th scope=row>148</th><td>14</td><td> 20</td><td>16.6</td><td>63</td><td>9</td><td>25</td></tr>\n",
       "\t<tr><th scope=row>149</th><td>30</td><td>193</td><td> 6.9</td><td>70</td><td>9</td><td>26</td></tr>\n",
       "\t<tr><th scope=row>150</th><td>NA</td><td>145</td><td>13.2</td><td>77</td><td>9</td><td>27</td></tr>\n",
       "\t<tr><th scope=row>151</th><td>14</td><td>191</td><td>14.3</td><td>75</td><td>9</td><td>28</td></tr>\n",
       "\t<tr><th scope=row>152</th><td>18</td><td>131</td><td> 8.0</td><td>76</td><td>9</td><td>29</td></tr>\n",
       "\t<tr><th scope=row>153</th><td>20</td><td>223</td><td>11.5</td><td>68</td><td>9</td><td>30</td></tr>\n",
       "</tbody>\n",
       "</table>\n",
       "</dd>\n",
       "</dl>\n"
      ],
      "text/latex": [
       "\\begin{description}\n",
       "\\item[\\$`5`] A data.frame: 31 × 6\n",
       "\\begin{tabular}{r|llllll}\n",
       "  & Ozone & Solar.R & Wind & Temp & Month & Day\\\\\n",
       "  & <int> & <int> & <dbl> & <int> & <int> & <int>\\\\\n",
       "\\hline\n",
       "\t1 &  41 & 190 &  7.4 & 67 & 5 &  1\\\\\n",
       "\t2 &  36 & 118 &  8.0 & 72 & 5 &  2\\\\\n",
       "\t3 &  12 & 149 & 12.6 & 74 & 5 &  3\\\\\n",
       "\t4 &  18 & 313 & 11.5 & 62 & 5 &  4\\\\\n",
       "\t5 &  NA &  NA & 14.3 & 56 & 5 &  5\\\\\n",
       "\t6 &  28 &  NA & 14.9 & 66 & 5 &  6\\\\\n",
       "\t7 &  23 & 299 &  8.6 & 65 & 5 &  7\\\\\n",
       "\t8 &  19 &  99 & 13.8 & 59 & 5 &  8\\\\\n",
       "\t9 &   8 &  19 & 20.1 & 61 & 5 &  9\\\\\n",
       "\t10 &  NA & 194 &  8.6 & 69 & 5 & 10\\\\\n",
       "\t11 &   7 &  NA &  6.9 & 74 & 5 & 11\\\\\n",
       "\t12 &  16 & 256 &  9.7 & 69 & 5 & 12\\\\\n",
       "\t13 &  11 & 290 &  9.2 & 66 & 5 & 13\\\\\n",
       "\t14 &  14 & 274 & 10.9 & 68 & 5 & 14\\\\\n",
       "\t15 &  18 &  65 & 13.2 & 58 & 5 & 15\\\\\n",
       "\t16 &  14 & 334 & 11.5 & 64 & 5 & 16\\\\\n",
       "\t17 &  34 & 307 & 12.0 & 66 & 5 & 17\\\\\n",
       "\t18 &   6 &  78 & 18.4 & 57 & 5 & 18\\\\\n",
       "\t19 &  30 & 322 & 11.5 & 68 & 5 & 19\\\\\n",
       "\t20 &  11 &  44 &  9.7 & 62 & 5 & 20\\\\\n",
       "\t21 &   1 &   8 &  9.7 & 59 & 5 & 21\\\\\n",
       "\t22 &  11 & 320 & 16.6 & 73 & 5 & 22\\\\\n",
       "\t23 &   4 &  25 &  9.7 & 61 & 5 & 23\\\\\n",
       "\t24 &  32 &  92 & 12.0 & 61 & 5 & 24\\\\\n",
       "\t25 &  NA &  66 & 16.6 & 57 & 5 & 25\\\\\n",
       "\t26 &  NA & 266 & 14.9 & 58 & 5 & 26\\\\\n",
       "\t27 &  NA &  NA &  8.0 & 57 & 5 & 27\\\\\n",
       "\t28 &  23 &  13 & 12.0 & 67 & 5 & 28\\\\\n",
       "\t29 &  45 & 252 & 14.9 & 81 & 5 & 29\\\\\n",
       "\t30 & 115 & 223 &  5.7 & 79 & 5 & 30\\\\\n",
       "\t31 &  37 & 279 &  7.4 & 76 & 5 & 31\\\\\n",
       "\\end{tabular}\n",
       "\n",
       "\\item[\\$`6`] A data.frame: 30 × 6\n",
       "\\begin{tabular}{r|llllll}\n",
       "  & Ozone & Solar.R & Wind & Temp & Month & Day\\\\\n",
       "  & <int> & <int> & <dbl> & <int> & <int> & <int>\\\\\n",
       "\\hline\n",
       "\t32 & NA & 286 &  8.6 & 78 & 6 &  1\\\\\n",
       "\t33 & NA & 287 &  9.7 & 74 & 6 &  2\\\\\n",
       "\t34 & NA & 242 & 16.1 & 67 & 6 &  3\\\\\n",
       "\t35 & NA & 186 &  9.2 & 84 & 6 &  4\\\\\n",
       "\t36 & NA & 220 &  8.6 & 85 & 6 &  5\\\\\n",
       "\t37 & NA & 264 & 14.3 & 79 & 6 &  6\\\\\n",
       "\t38 & 29 & 127 &  9.7 & 82 & 6 &  7\\\\\n",
       "\t39 & NA & 273 &  6.9 & 87 & 6 &  8\\\\\n",
       "\t40 & 71 & 291 & 13.8 & 90 & 6 &  9\\\\\n",
       "\t41 & 39 & 323 & 11.5 & 87 & 6 & 10\\\\\n",
       "\t42 & NA & 259 & 10.9 & 93 & 6 & 11\\\\\n",
       "\t43 & NA & 250 &  9.2 & 92 & 6 & 12\\\\\n",
       "\t44 & 23 & 148 &  8.0 & 82 & 6 & 13\\\\\n",
       "\t45 & NA & 332 & 13.8 & 80 & 6 & 14\\\\\n",
       "\t46 & NA & 322 & 11.5 & 79 & 6 & 15\\\\\n",
       "\t47 & 21 & 191 & 14.9 & 77 & 6 & 16\\\\\n",
       "\t48 & 37 & 284 & 20.7 & 72 & 6 & 17\\\\\n",
       "\t49 & 20 &  37 &  9.2 & 65 & 6 & 18\\\\\n",
       "\t50 & 12 & 120 & 11.5 & 73 & 6 & 19\\\\\n",
       "\t51 & 13 & 137 & 10.3 & 76 & 6 & 20\\\\\n",
       "\t52 & NA & 150 &  6.3 & 77 & 6 & 21\\\\\n",
       "\t53 & NA &  59 &  1.7 & 76 & 6 & 22\\\\\n",
       "\t54 & NA &  91 &  4.6 & 76 & 6 & 23\\\\\n",
       "\t55 & NA & 250 &  6.3 & 76 & 6 & 24\\\\\n",
       "\t56 & NA & 135 &  8.0 & 75 & 6 & 25\\\\\n",
       "\t57 & NA & 127 &  8.0 & 78 & 6 & 26\\\\\n",
       "\t58 & NA &  47 & 10.3 & 73 & 6 & 27\\\\\n",
       "\t59 & NA &  98 & 11.5 & 80 & 6 & 28\\\\\n",
       "\t60 & NA &  31 & 14.9 & 77 & 6 & 29\\\\\n",
       "\t61 & NA & 138 &  8.0 & 83 & 6 & 30\\\\\n",
       "\\end{tabular}\n",
       "\n",
       "\\item[\\$`7`] A data.frame: 31 × 6\n",
       "\\begin{tabular}{r|llllll}\n",
       "  & Ozone & Solar.R & Wind & Temp & Month & Day\\\\\n",
       "  & <int> & <int> & <dbl> & <int> & <int> & <int>\\\\\n",
       "\\hline\n",
       "\t62 & 135 & 269 &  4.1 & 84 & 7 &  1\\\\\n",
       "\t63 &  49 & 248 &  9.2 & 85 & 7 &  2\\\\\n",
       "\t64 &  32 & 236 &  9.2 & 81 & 7 &  3\\\\\n",
       "\t65 &  NA & 101 & 10.9 & 84 & 7 &  4\\\\\n",
       "\t66 &  64 & 175 &  4.6 & 83 & 7 &  5\\\\\n",
       "\t67 &  40 & 314 & 10.9 & 83 & 7 &  6\\\\\n",
       "\t68 &  77 & 276 &  5.1 & 88 & 7 &  7\\\\\n",
       "\t69 &  97 & 267 &  6.3 & 92 & 7 &  8\\\\\n",
       "\t70 &  97 & 272 &  5.7 & 92 & 7 &  9\\\\\n",
       "\t71 &  85 & 175 &  7.4 & 89 & 7 & 10\\\\\n",
       "\t72 &  NA & 139 &  8.6 & 82 & 7 & 11\\\\\n",
       "\t73 &  10 & 264 & 14.3 & 73 & 7 & 12\\\\\n",
       "\t74 &  27 & 175 & 14.9 & 81 & 7 & 13\\\\\n",
       "\t75 &  NA & 291 & 14.9 & 91 & 7 & 14\\\\\n",
       "\t76 &   7 &  48 & 14.3 & 80 & 7 & 15\\\\\n",
       "\t77 &  48 & 260 &  6.9 & 81 & 7 & 16\\\\\n",
       "\t78 &  35 & 274 & 10.3 & 82 & 7 & 17\\\\\n",
       "\t79 &  61 & 285 &  6.3 & 84 & 7 & 18\\\\\n",
       "\t80 &  79 & 187 &  5.1 & 87 & 7 & 19\\\\\n",
       "\t81 &  63 & 220 & 11.5 & 85 & 7 & 20\\\\\n",
       "\t82 &  16 &   7 &  6.9 & 74 & 7 & 21\\\\\n",
       "\t83 &  NA & 258 &  9.7 & 81 & 7 & 22\\\\\n",
       "\t84 &  NA & 295 & 11.5 & 82 & 7 & 23\\\\\n",
       "\t85 &  80 & 294 &  8.6 & 86 & 7 & 24\\\\\n",
       "\t86 & 108 & 223 &  8.0 & 85 & 7 & 25\\\\\n",
       "\t87 &  20 &  81 &  8.6 & 82 & 7 & 26\\\\\n",
       "\t88 &  52 &  82 & 12.0 & 86 & 7 & 27\\\\\n",
       "\t89 &  82 & 213 &  7.4 & 88 & 7 & 28\\\\\n",
       "\t90 &  50 & 275 &  7.4 & 86 & 7 & 29\\\\\n",
       "\t91 &  64 & 253 &  7.4 & 83 & 7 & 30\\\\\n",
       "\t92 &  59 & 254 &  9.2 & 81 & 7 & 31\\\\\n",
       "\\end{tabular}\n",
       "\n",
       "\\item[\\$`8`] A data.frame: 31 × 6\n",
       "\\begin{tabular}{r|llllll}\n",
       "  & Ozone & Solar.R & Wind & Temp & Month & Day\\\\\n",
       "  & <int> & <int> & <dbl> & <int> & <int> & <int>\\\\\n",
       "\\hline\n",
       "\t93 &  39 &  83 &  6.9 & 81 & 8 &  1\\\\\n",
       "\t94 &   9 &  24 & 13.8 & 81 & 8 &  2\\\\\n",
       "\t95 &  16 &  77 &  7.4 & 82 & 8 &  3\\\\\n",
       "\t96 &  78 &  NA &  6.9 & 86 & 8 &  4\\\\\n",
       "\t97 &  35 &  NA &  7.4 & 85 & 8 &  5\\\\\n",
       "\t98 &  66 &  NA &  4.6 & 87 & 8 &  6\\\\\n",
       "\t99 & 122 & 255 &  4.0 & 89 & 8 &  7\\\\\n",
       "\t100 &  89 & 229 & 10.3 & 90 & 8 &  8\\\\\n",
       "\t101 & 110 & 207 &  8.0 & 90 & 8 &  9\\\\\n",
       "\t102 &  NA & 222 &  8.6 & 92 & 8 & 10\\\\\n",
       "\t103 &  NA & 137 & 11.5 & 86 & 8 & 11\\\\\n",
       "\t104 &  44 & 192 & 11.5 & 86 & 8 & 12\\\\\n",
       "\t105 &  28 & 273 & 11.5 & 82 & 8 & 13\\\\\n",
       "\t106 &  65 & 157 &  9.7 & 80 & 8 & 14\\\\\n",
       "\t107 &  NA &  64 & 11.5 & 79 & 8 & 15\\\\\n",
       "\t108 &  22 &  71 & 10.3 & 77 & 8 & 16\\\\\n",
       "\t109 &  59 &  51 &  6.3 & 79 & 8 & 17\\\\\n",
       "\t110 &  23 & 115 &  7.4 & 76 & 8 & 18\\\\\n",
       "\t111 &  31 & 244 & 10.9 & 78 & 8 & 19\\\\\n",
       "\t112 &  44 & 190 & 10.3 & 78 & 8 & 20\\\\\n",
       "\t113 &  21 & 259 & 15.5 & 77 & 8 & 21\\\\\n",
       "\t114 &   9 &  36 & 14.3 & 72 & 8 & 22\\\\\n",
       "\t115 &  NA & 255 & 12.6 & 75 & 8 & 23\\\\\n",
       "\t116 &  45 & 212 &  9.7 & 79 & 8 & 24\\\\\n",
       "\t117 & 168 & 238 &  3.4 & 81 & 8 & 25\\\\\n",
       "\t118 &  73 & 215 &  8.0 & 86 & 8 & 26\\\\\n",
       "\t119 &  NA & 153 &  5.7 & 88 & 8 & 27\\\\\n",
       "\t120 &  76 & 203 &  9.7 & 97 & 8 & 28\\\\\n",
       "\t121 & 118 & 225 &  2.3 & 94 & 8 & 29\\\\\n",
       "\t122 &  84 & 237 &  6.3 & 96 & 8 & 30\\\\\n",
       "\t123 &  85 & 188 &  6.3 & 94 & 8 & 31\\\\\n",
       "\\end{tabular}\n",
       "\n",
       "\\item[\\$`9`] A data.frame: 30 × 6\n",
       "\\begin{tabular}{r|llllll}\n",
       "  & Ozone & Solar.R & Wind & Temp & Month & Day\\\\\n",
       "  & <int> & <int> & <dbl> & <int> & <int> & <int>\\\\\n",
       "\\hline\n",
       "\t124 & 96 & 167 &  6.9 & 91 & 9 &  1\\\\\n",
       "\t125 & 78 & 197 &  5.1 & 92 & 9 &  2\\\\\n",
       "\t126 & 73 & 183 &  2.8 & 93 & 9 &  3\\\\\n",
       "\t127 & 91 & 189 &  4.6 & 93 & 9 &  4\\\\\n",
       "\t128 & 47 &  95 &  7.4 & 87 & 9 &  5\\\\\n",
       "\t129 & 32 &  92 & 15.5 & 84 & 9 &  6\\\\\n",
       "\t130 & 20 & 252 & 10.9 & 80 & 9 &  7\\\\\n",
       "\t131 & 23 & 220 & 10.3 & 78 & 9 &  8\\\\\n",
       "\t132 & 21 & 230 & 10.9 & 75 & 9 &  9\\\\\n",
       "\t133 & 24 & 259 &  9.7 & 73 & 9 & 10\\\\\n",
       "\t134 & 44 & 236 & 14.9 & 81 & 9 & 11\\\\\n",
       "\t135 & 21 & 259 & 15.5 & 76 & 9 & 12\\\\\n",
       "\t136 & 28 & 238 &  6.3 & 77 & 9 & 13\\\\\n",
       "\t137 &  9 &  24 & 10.9 & 71 & 9 & 14\\\\\n",
       "\t138 & 13 & 112 & 11.5 & 71 & 9 & 15\\\\\n",
       "\t139 & 46 & 237 &  6.9 & 78 & 9 & 16\\\\\n",
       "\t140 & 18 & 224 & 13.8 & 67 & 9 & 17\\\\\n",
       "\t141 & 13 &  27 & 10.3 & 76 & 9 & 18\\\\\n",
       "\t142 & 24 & 238 & 10.3 & 68 & 9 & 19\\\\\n",
       "\t143 & 16 & 201 &  8.0 & 82 & 9 & 20\\\\\n",
       "\t144 & 13 & 238 & 12.6 & 64 & 9 & 21\\\\\n",
       "\t145 & 23 &  14 &  9.2 & 71 & 9 & 22\\\\\n",
       "\t146 & 36 & 139 & 10.3 & 81 & 9 & 23\\\\\n",
       "\t147 &  7 &  49 & 10.3 & 69 & 9 & 24\\\\\n",
       "\t148 & 14 &  20 & 16.6 & 63 & 9 & 25\\\\\n",
       "\t149 & 30 & 193 &  6.9 & 70 & 9 & 26\\\\\n",
       "\t150 & NA & 145 & 13.2 & 77 & 9 & 27\\\\\n",
       "\t151 & 14 & 191 & 14.3 & 75 & 9 & 28\\\\\n",
       "\t152 & 18 & 131 &  8.0 & 76 & 9 & 29\\\\\n",
       "\t153 & 20 & 223 & 11.5 & 68 & 9 & 30\\\\\n",
       "\\end{tabular}\n",
       "\n",
       "\\end{description}\n"
      ],
      "text/markdown": [
       "$`5`\n",
       ":   \n",
       "A data.frame: 31 × 6\n",
       "\n",
       "| <!--/--> | Ozone &lt;int&gt; | Solar.R &lt;int&gt; | Wind &lt;dbl&gt; | Temp &lt;int&gt; | Month &lt;int&gt; | Day &lt;int&gt; |\n",
       "|---|---|---|---|---|---|---|\n",
       "| 1 |  41 | 190 |  7.4 | 67 | 5 |  1 |\n",
       "| 2 |  36 | 118 |  8.0 | 72 | 5 |  2 |\n",
       "| 3 |  12 | 149 | 12.6 | 74 | 5 |  3 |\n",
       "| 4 |  18 | 313 | 11.5 | 62 | 5 |  4 |\n",
       "| 5 |  NA |  NA | 14.3 | 56 | 5 |  5 |\n",
       "| 6 |  28 |  NA | 14.9 | 66 | 5 |  6 |\n",
       "| 7 |  23 | 299 |  8.6 | 65 | 5 |  7 |\n",
       "| 8 |  19 |  99 | 13.8 | 59 | 5 |  8 |\n",
       "| 9 |   8 |  19 | 20.1 | 61 | 5 |  9 |\n",
       "| 10 |  NA | 194 |  8.6 | 69 | 5 | 10 |\n",
       "| 11 |   7 |  NA |  6.9 | 74 | 5 | 11 |\n",
       "| 12 |  16 | 256 |  9.7 | 69 | 5 | 12 |\n",
       "| 13 |  11 | 290 |  9.2 | 66 | 5 | 13 |\n",
       "| 14 |  14 | 274 | 10.9 | 68 | 5 | 14 |\n",
       "| 15 |  18 |  65 | 13.2 | 58 | 5 | 15 |\n",
       "| 16 |  14 | 334 | 11.5 | 64 | 5 | 16 |\n",
       "| 17 |  34 | 307 | 12.0 | 66 | 5 | 17 |\n",
       "| 18 |   6 |  78 | 18.4 | 57 | 5 | 18 |\n",
       "| 19 |  30 | 322 | 11.5 | 68 | 5 | 19 |\n",
       "| 20 |  11 |  44 |  9.7 | 62 | 5 | 20 |\n",
       "| 21 |   1 |   8 |  9.7 | 59 | 5 | 21 |\n",
       "| 22 |  11 | 320 | 16.6 | 73 | 5 | 22 |\n",
       "| 23 |   4 |  25 |  9.7 | 61 | 5 | 23 |\n",
       "| 24 |  32 |  92 | 12.0 | 61 | 5 | 24 |\n",
       "| 25 |  NA |  66 | 16.6 | 57 | 5 | 25 |\n",
       "| 26 |  NA | 266 | 14.9 | 58 | 5 | 26 |\n",
       "| 27 |  NA |  NA |  8.0 | 57 | 5 | 27 |\n",
       "| 28 |  23 |  13 | 12.0 | 67 | 5 | 28 |\n",
       "| 29 |  45 | 252 | 14.9 | 81 | 5 | 29 |\n",
       "| 30 | 115 | 223 |  5.7 | 79 | 5 | 30 |\n",
       "| 31 |  37 | 279 |  7.4 | 76 | 5 | 31 |\n",
       "\n",
       "\n",
       "$`6`\n",
       ":   \n",
       "A data.frame: 30 × 6\n",
       "\n",
       "| <!--/--> | Ozone &lt;int&gt; | Solar.R &lt;int&gt; | Wind &lt;dbl&gt; | Temp &lt;int&gt; | Month &lt;int&gt; | Day &lt;int&gt; |\n",
       "|---|---|---|---|---|---|---|\n",
       "| 32 | NA | 286 |  8.6 | 78 | 6 |  1 |\n",
       "| 33 | NA | 287 |  9.7 | 74 | 6 |  2 |\n",
       "| 34 | NA | 242 | 16.1 | 67 | 6 |  3 |\n",
       "| 35 | NA | 186 |  9.2 | 84 | 6 |  4 |\n",
       "| 36 | NA | 220 |  8.6 | 85 | 6 |  5 |\n",
       "| 37 | NA | 264 | 14.3 | 79 | 6 |  6 |\n",
       "| 38 | 29 | 127 |  9.7 | 82 | 6 |  7 |\n",
       "| 39 | NA | 273 |  6.9 | 87 | 6 |  8 |\n",
       "| 40 | 71 | 291 | 13.8 | 90 | 6 |  9 |\n",
       "| 41 | 39 | 323 | 11.5 | 87 | 6 | 10 |\n",
       "| 42 | NA | 259 | 10.9 | 93 | 6 | 11 |\n",
       "| 43 | NA | 250 |  9.2 | 92 | 6 | 12 |\n",
       "| 44 | 23 | 148 |  8.0 | 82 | 6 | 13 |\n",
       "| 45 | NA | 332 | 13.8 | 80 | 6 | 14 |\n",
       "| 46 | NA | 322 | 11.5 | 79 | 6 | 15 |\n",
       "| 47 | 21 | 191 | 14.9 | 77 | 6 | 16 |\n",
       "| 48 | 37 | 284 | 20.7 | 72 | 6 | 17 |\n",
       "| 49 | 20 |  37 |  9.2 | 65 | 6 | 18 |\n",
       "| 50 | 12 | 120 | 11.5 | 73 | 6 | 19 |\n",
       "| 51 | 13 | 137 | 10.3 | 76 | 6 | 20 |\n",
       "| 52 | NA | 150 |  6.3 | 77 | 6 | 21 |\n",
       "| 53 | NA |  59 |  1.7 | 76 | 6 | 22 |\n",
       "| 54 | NA |  91 |  4.6 | 76 | 6 | 23 |\n",
       "| 55 | NA | 250 |  6.3 | 76 | 6 | 24 |\n",
       "| 56 | NA | 135 |  8.0 | 75 | 6 | 25 |\n",
       "| 57 | NA | 127 |  8.0 | 78 | 6 | 26 |\n",
       "| 58 | NA |  47 | 10.3 | 73 | 6 | 27 |\n",
       "| 59 | NA |  98 | 11.5 | 80 | 6 | 28 |\n",
       "| 60 | NA |  31 | 14.9 | 77 | 6 | 29 |\n",
       "| 61 | NA | 138 |  8.0 | 83 | 6 | 30 |\n",
       "\n",
       "\n",
       "$`7`\n",
       ":   \n",
       "A data.frame: 31 × 6\n",
       "\n",
       "| <!--/--> | Ozone &lt;int&gt; | Solar.R &lt;int&gt; | Wind &lt;dbl&gt; | Temp &lt;int&gt; | Month &lt;int&gt; | Day &lt;int&gt; |\n",
       "|---|---|---|---|---|---|---|\n",
       "| 62 | 135 | 269 |  4.1 | 84 | 7 |  1 |\n",
       "| 63 |  49 | 248 |  9.2 | 85 | 7 |  2 |\n",
       "| 64 |  32 | 236 |  9.2 | 81 | 7 |  3 |\n",
       "| 65 |  NA | 101 | 10.9 | 84 | 7 |  4 |\n",
       "| 66 |  64 | 175 |  4.6 | 83 | 7 |  5 |\n",
       "| 67 |  40 | 314 | 10.9 | 83 | 7 |  6 |\n",
       "| 68 |  77 | 276 |  5.1 | 88 | 7 |  7 |\n",
       "| 69 |  97 | 267 |  6.3 | 92 | 7 |  8 |\n",
       "| 70 |  97 | 272 |  5.7 | 92 | 7 |  9 |\n",
       "| 71 |  85 | 175 |  7.4 | 89 | 7 | 10 |\n",
       "| 72 |  NA | 139 |  8.6 | 82 | 7 | 11 |\n",
       "| 73 |  10 | 264 | 14.3 | 73 | 7 | 12 |\n",
       "| 74 |  27 | 175 | 14.9 | 81 | 7 | 13 |\n",
       "| 75 |  NA | 291 | 14.9 | 91 | 7 | 14 |\n",
       "| 76 |   7 |  48 | 14.3 | 80 | 7 | 15 |\n",
       "| 77 |  48 | 260 |  6.9 | 81 | 7 | 16 |\n",
       "| 78 |  35 | 274 | 10.3 | 82 | 7 | 17 |\n",
       "| 79 |  61 | 285 |  6.3 | 84 | 7 | 18 |\n",
       "| 80 |  79 | 187 |  5.1 | 87 | 7 | 19 |\n",
       "| 81 |  63 | 220 | 11.5 | 85 | 7 | 20 |\n",
       "| 82 |  16 |   7 |  6.9 | 74 | 7 | 21 |\n",
       "| 83 |  NA | 258 |  9.7 | 81 | 7 | 22 |\n",
       "| 84 |  NA | 295 | 11.5 | 82 | 7 | 23 |\n",
       "| 85 |  80 | 294 |  8.6 | 86 | 7 | 24 |\n",
       "| 86 | 108 | 223 |  8.0 | 85 | 7 | 25 |\n",
       "| 87 |  20 |  81 |  8.6 | 82 | 7 | 26 |\n",
       "| 88 |  52 |  82 | 12.0 | 86 | 7 | 27 |\n",
       "| 89 |  82 | 213 |  7.4 | 88 | 7 | 28 |\n",
       "| 90 |  50 | 275 |  7.4 | 86 | 7 | 29 |\n",
       "| 91 |  64 | 253 |  7.4 | 83 | 7 | 30 |\n",
       "| 92 |  59 | 254 |  9.2 | 81 | 7 | 31 |\n",
       "\n",
       "\n",
       "$`8`\n",
       ":   \n",
       "A data.frame: 31 × 6\n",
       "\n",
       "| <!--/--> | Ozone &lt;int&gt; | Solar.R &lt;int&gt; | Wind &lt;dbl&gt; | Temp &lt;int&gt; | Month &lt;int&gt; | Day &lt;int&gt; |\n",
       "|---|---|---|---|---|---|---|\n",
       "| 93 |  39 |  83 |  6.9 | 81 | 8 |  1 |\n",
       "| 94 |   9 |  24 | 13.8 | 81 | 8 |  2 |\n",
       "| 95 |  16 |  77 |  7.4 | 82 | 8 |  3 |\n",
       "| 96 |  78 |  NA |  6.9 | 86 | 8 |  4 |\n",
       "| 97 |  35 |  NA |  7.4 | 85 | 8 |  5 |\n",
       "| 98 |  66 |  NA |  4.6 | 87 | 8 |  6 |\n",
       "| 99 | 122 | 255 |  4.0 | 89 | 8 |  7 |\n",
       "| 100 |  89 | 229 | 10.3 | 90 | 8 |  8 |\n",
       "| 101 | 110 | 207 |  8.0 | 90 | 8 |  9 |\n",
       "| 102 |  NA | 222 |  8.6 | 92 | 8 | 10 |\n",
       "| 103 |  NA | 137 | 11.5 | 86 | 8 | 11 |\n",
       "| 104 |  44 | 192 | 11.5 | 86 | 8 | 12 |\n",
       "| 105 |  28 | 273 | 11.5 | 82 | 8 | 13 |\n",
       "| 106 |  65 | 157 |  9.7 | 80 | 8 | 14 |\n",
       "| 107 |  NA |  64 | 11.5 | 79 | 8 | 15 |\n",
       "| 108 |  22 |  71 | 10.3 | 77 | 8 | 16 |\n",
       "| 109 |  59 |  51 |  6.3 | 79 | 8 | 17 |\n",
       "| 110 |  23 | 115 |  7.4 | 76 | 8 | 18 |\n",
       "| 111 |  31 | 244 | 10.9 | 78 | 8 | 19 |\n",
       "| 112 |  44 | 190 | 10.3 | 78 | 8 | 20 |\n",
       "| 113 |  21 | 259 | 15.5 | 77 | 8 | 21 |\n",
       "| 114 |   9 |  36 | 14.3 | 72 | 8 | 22 |\n",
       "| 115 |  NA | 255 | 12.6 | 75 | 8 | 23 |\n",
       "| 116 |  45 | 212 |  9.7 | 79 | 8 | 24 |\n",
       "| 117 | 168 | 238 |  3.4 | 81 | 8 | 25 |\n",
       "| 118 |  73 | 215 |  8.0 | 86 | 8 | 26 |\n",
       "| 119 |  NA | 153 |  5.7 | 88 | 8 | 27 |\n",
       "| 120 |  76 | 203 |  9.7 | 97 | 8 | 28 |\n",
       "| 121 | 118 | 225 |  2.3 | 94 | 8 | 29 |\n",
       "| 122 |  84 | 237 |  6.3 | 96 | 8 | 30 |\n",
       "| 123 |  85 | 188 |  6.3 | 94 | 8 | 31 |\n",
       "\n",
       "\n",
       "$`9`\n",
       ":   \n",
       "A data.frame: 30 × 6\n",
       "\n",
       "| <!--/--> | Ozone &lt;int&gt; | Solar.R &lt;int&gt; | Wind &lt;dbl&gt; | Temp &lt;int&gt; | Month &lt;int&gt; | Day &lt;int&gt; |\n",
       "|---|---|---|---|---|---|---|\n",
       "| 124 | 96 | 167 |  6.9 | 91 | 9 |  1 |\n",
       "| 125 | 78 | 197 |  5.1 | 92 | 9 |  2 |\n",
       "| 126 | 73 | 183 |  2.8 | 93 | 9 |  3 |\n",
       "| 127 | 91 | 189 |  4.6 | 93 | 9 |  4 |\n",
       "| 128 | 47 |  95 |  7.4 | 87 | 9 |  5 |\n",
       "| 129 | 32 |  92 | 15.5 | 84 | 9 |  6 |\n",
       "| 130 | 20 | 252 | 10.9 | 80 | 9 |  7 |\n",
       "| 131 | 23 | 220 | 10.3 | 78 | 9 |  8 |\n",
       "| 132 | 21 | 230 | 10.9 | 75 | 9 |  9 |\n",
       "| 133 | 24 | 259 |  9.7 | 73 | 9 | 10 |\n",
       "| 134 | 44 | 236 | 14.9 | 81 | 9 | 11 |\n",
       "| 135 | 21 | 259 | 15.5 | 76 | 9 | 12 |\n",
       "| 136 | 28 | 238 |  6.3 | 77 | 9 | 13 |\n",
       "| 137 |  9 |  24 | 10.9 | 71 | 9 | 14 |\n",
       "| 138 | 13 | 112 | 11.5 | 71 | 9 | 15 |\n",
       "| 139 | 46 | 237 |  6.9 | 78 | 9 | 16 |\n",
       "| 140 | 18 | 224 | 13.8 | 67 | 9 | 17 |\n",
       "| 141 | 13 |  27 | 10.3 | 76 | 9 | 18 |\n",
       "| 142 | 24 | 238 | 10.3 | 68 | 9 | 19 |\n",
       "| 143 | 16 | 201 |  8.0 | 82 | 9 | 20 |\n",
       "| 144 | 13 | 238 | 12.6 | 64 | 9 | 21 |\n",
       "| 145 | 23 |  14 |  9.2 | 71 | 9 | 22 |\n",
       "| 146 | 36 | 139 | 10.3 | 81 | 9 | 23 |\n",
       "| 147 |  7 |  49 | 10.3 | 69 | 9 | 24 |\n",
       "| 148 | 14 |  20 | 16.6 | 63 | 9 | 25 |\n",
       "| 149 | 30 | 193 |  6.9 | 70 | 9 | 26 |\n",
       "| 150 | NA | 145 | 13.2 | 77 | 9 | 27 |\n",
       "| 151 | 14 | 191 | 14.3 | 75 | 9 | 28 |\n",
       "| 152 | 18 | 131 |  8.0 | 76 | 9 | 29 |\n",
       "| 153 | 20 | 223 | 11.5 | 68 | 9 | 30 |\n",
       "\n",
       "\n",
       "\n",
       "\n"
      ],
      "text/plain": [
       "$`5`\n",
       "   Ozone Solar.R Wind Temp Month Day\n",
       "1     41     190  7.4   67     5   1\n",
       "2     36     118  8.0   72     5   2\n",
       "3     12     149 12.6   74     5   3\n",
       "4     18     313 11.5   62     5   4\n",
       "5     NA      NA 14.3   56     5   5\n",
       "6     28      NA 14.9   66     5   6\n",
       "7     23     299  8.6   65     5   7\n",
       "8     19      99 13.8   59     5   8\n",
       "9      8      19 20.1   61     5   9\n",
       "10    NA     194  8.6   69     5  10\n",
       "11     7      NA  6.9   74     5  11\n",
       "12    16     256  9.7   69     5  12\n",
       "13    11     290  9.2   66     5  13\n",
       "14    14     274 10.9   68     5  14\n",
       "15    18      65 13.2   58     5  15\n",
       "16    14     334 11.5   64     5  16\n",
       "17    34     307 12.0   66     5  17\n",
       "18     6      78 18.4   57     5  18\n",
       "19    30     322 11.5   68     5  19\n",
       "20    11      44  9.7   62     5  20\n",
       "21     1       8  9.7   59     5  21\n",
       "22    11     320 16.6   73     5  22\n",
       "23     4      25  9.7   61     5  23\n",
       "24    32      92 12.0   61     5  24\n",
       "25    NA      66 16.6   57     5  25\n",
       "26    NA     266 14.9   58     5  26\n",
       "27    NA      NA  8.0   57     5  27\n",
       "28    23      13 12.0   67     5  28\n",
       "29    45     252 14.9   81     5  29\n",
       "30   115     223  5.7   79     5  30\n",
       "31    37     279  7.4   76     5  31\n",
       "\n",
       "$`6`\n",
       "   Ozone Solar.R Wind Temp Month Day\n",
       "32    NA     286  8.6   78     6   1\n",
       "33    NA     287  9.7   74     6   2\n",
       "34    NA     242 16.1   67     6   3\n",
       "35    NA     186  9.2   84     6   4\n",
       "36    NA     220  8.6   85     6   5\n",
       "37    NA     264 14.3   79     6   6\n",
       "38    29     127  9.7   82     6   7\n",
       "39    NA     273  6.9   87     6   8\n",
       "40    71     291 13.8   90     6   9\n",
       "41    39     323 11.5   87     6  10\n",
       "42    NA     259 10.9   93     6  11\n",
       "43    NA     250  9.2   92     6  12\n",
       "44    23     148  8.0   82     6  13\n",
       "45    NA     332 13.8   80     6  14\n",
       "46    NA     322 11.5   79     6  15\n",
       "47    21     191 14.9   77     6  16\n",
       "48    37     284 20.7   72     6  17\n",
       "49    20      37  9.2   65     6  18\n",
       "50    12     120 11.5   73     6  19\n",
       "51    13     137 10.3   76     6  20\n",
       "52    NA     150  6.3   77     6  21\n",
       "53    NA      59  1.7   76     6  22\n",
       "54    NA      91  4.6   76     6  23\n",
       "55    NA     250  6.3   76     6  24\n",
       "56    NA     135  8.0   75     6  25\n",
       "57    NA     127  8.0   78     6  26\n",
       "58    NA      47 10.3   73     6  27\n",
       "59    NA      98 11.5   80     6  28\n",
       "60    NA      31 14.9   77     6  29\n",
       "61    NA     138  8.0   83     6  30\n",
       "\n",
       "$`7`\n",
       "   Ozone Solar.R Wind Temp Month Day\n",
       "62   135     269  4.1   84     7   1\n",
       "63    49     248  9.2   85     7   2\n",
       "64    32     236  9.2   81     7   3\n",
       "65    NA     101 10.9   84     7   4\n",
       "66    64     175  4.6   83     7   5\n",
       "67    40     314 10.9   83     7   6\n",
       "68    77     276  5.1   88     7   7\n",
       "69    97     267  6.3   92     7   8\n",
       "70    97     272  5.7   92     7   9\n",
       "71    85     175  7.4   89     7  10\n",
       "72    NA     139  8.6   82     7  11\n",
       "73    10     264 14.3   73     7  12\n",
       "74    27     175 14.9   81     7  13\n",
       "75    NA     291 14.9   91     7  14\n",
       "76     7      48 14.3   80     7  15\n",
       "77    48     260  6.9   81     7  16\n",
       "78    35     274 10.3   82     7  17\n",
       "79    61     285  6.3   84     7  18\n",
       "80    79     187  5.1   87     7  19\n",
       "81    63     220 11.5   85     7  20\n",
       "82    16       7  6.9   74     7  21\n",
       "83    NA     258  9.7   81     7  22\n",
       "84    NA     295 11.5   82     7  23\n",
       "85    80     294  8.6   86     7  24\n",
       "86   108     223  8.0   85     7  25\n",
       "87    20      81  8.6   82     7  26\n",
       "88    52      82 12.0   86     7  27\n",
       "89    82     213  7.4   88     7  28\n",
       "90    50     275  7.4   86     7  29\n",
       "91    64     253  7.4   83     7  30\n",
       "92    59     254  9.2   81     7  31\n",
       "\n",
       "$`8`\n",
       "    Ozone Solar.R Wind Temp Month Day\n",
       "93     39      83  6.9   81     8   1\n",
       "94      9      24 13.8   81     8   2\n",
       "95     16      77  7.4   82     8   3\n",
       "96     78      NA  6.9   86     8   4\n",
       "97     35      NA  7.4   85     8   5\n",
       "98     66      NA  4.6   87     8   6\n",
       "99    122     255  4.0   89     8   7\n",
       "100    89     229 10.3   90     8   8\n",
       "101   110     207  8.0   90     8   9\n",
       "102    NA     222  8.6   92     8  10\n",
       "103    NA     137 11.5   86     8  11\n",
       "104    44     192 11.5   86     8  12\n",
       "105    28     273 11.5   82     8  13\n",
       "106    65     157  9.7   80     8  14\n",
       "107    NA      64 11.5   79     8  15\n",
       "108    22      71 10.3   77     8  16\n",
       "109    59      51  6.3   79     8  17\n",
       "110    23     115  7.4   76     8  18\n",
       "111    31     244 10.9   78     8  19\n",
       "112    44     190 10.3   78     8  20\n",
       "113    21     259 15.5   77     8  21\n",
       "114     9      36 14.3   72     8  22\n",
       "115    NA     255 12.6   75     8  23\n",
       "116    45     212  9.7   79     8  24\n",
       "117   168     238  3.4   81     8  25\n",
       "118    73     215  8.0   86     8  26\n",
       "119    NA     153  5.7   88     8  27\n",
       "120    76     203  9.7   97     8  28\n",
       "121   118     225  2.3   94     8  29\n",
       "122    84     237  6.3   96     8  30\n",
       "123    85     188  6.3   94     8  31\n",
       "\n",
       "$`9`\n",
       "    Ozone Solar.R Wind Temp Month Day\n",
       "124    96     167  6.9   91     9   1\n",
       "125    78     197  5.1   92     9   2\n",
       "126    73     183  2.8   93     9   3\n",
       "127    91     189  4.6   93     9   4\n",
       "128    47      95  7.4   87     9   5\n",
       "129    32      92 15.5   84     9   6\n",
       "130    20     252 10.9   80     9   7\n",
       "131    23     220 10.3   78     9   8\n",
       "132    21     230 10.9   75     9   9\n",
       "133    24     259  9.7   73     9  10\n",
       "134    44     236 14.9   81     9  11\n",
       "135    21     259 15.5   76     9  12\n",
       "136    28     238  6.3   77     9  13\n",
       "137     9      24 10.9   71     9  14\n",
       "138    13     112 11.5   71     9  15\n",
       "139    46     237  6.9   78     9  16\n",
       "140    18     224 13.8   67     9  17\n",
       "141    13      27 10.3   76     9  18\n",
       "142    24     238 10.3   68     9  19\n",
       "143    16     201  8.0   82     9  20\n",
       "144    13     238 12.6   64     9  21\n",
       "145    23      14  9.2   71     9  22\n",
       "146    36     139 10.3   81     9  23\n",
       "147     7      49 10.3   69     9  24\n",
       "148    14      20 16.6   63     9  25\n",
       "149    30     193  6.9   70     9  26\n",
       "150    NA     145 13.2   77     9  27\n",
       "151    14     191 14.3   75     9  28\n",
       "152    18     131  8.0   76     9  29\n",
       "153    20     223 11.5   68     9  30\n"
      ]
     },
     "metadata": {},
     "output_type": "display_data"
    }
   ],
   "source": [
    "# Splitting the dataframe by 'Month'\n",
    "(s <- split(airquality, airquality$Month))"
   ]
  },
  {
   "cell_type": "code",
   "execution_count": 45,
   "id": "502fab2c",
   "metadata": {},
   "outputs": [
    {
     "data": {
      "text/html": [
       "<dl>\n",
       "\t<dt>$`5`</dt>\n",
       "\t\t<dd><style>\n",
       ".dl-inline {width: auto; margin:0; padding: 0}\n",
       ".dl-inline>dt, .dl-inline>dd {float: none; width: auto; display: inline-block}\n",
       ".dl-inline>dt::after {content: \":\\0020\"; padding-right: .5ex}\n",
       ".dl-inline>dt:not(:first-of-type) {padding-left: .5ex}\n",
       "</style><dl class=dl-inline><dt>Ozone</dt><dd>&lt;NA&gt;</dd><dt>Solar.R</dt><dd>&lt;NA&gt;</dd><dt>Wind</dt><dd>11.6225806451613</dd></dl>\n",
       "</dd>\n",
       "\t<dt>$`6`</dt>\n",
       "\t\t<dd><style>\n",
       ".dl-inline {width: auto; margin:0; padding: 0}\n",
       ".dl-inline>dt, .dl-inline>dd {float: none; width: auto; display: inline-block}\n",
       ".dl-inline>dt::after {content: \":\\0020\"; padding-right: .5ex}\n",
       ".dl-inline>dt:not(:first-of-type) {padding-left: .5ex}\n",
       "</style><dl class=dl-inline><dt>Ozone</dt><dd>&lt;NA&gt;</dd><dt>Solar.R</dt><dd>190.166666666667</dd><dt>Wind</dt><dd>10.2666666666667</dd></dl>\n",
       "</dd>\n",
       "\t<dt>$`7`</dt>\n",
       "\t\t<dd><style>\n",
       ".dl-inline {width: auto; margin:0; padding: 0}\n",
       ".dl-inline>dt, .dl-inline>dd {float: none; width: auto; display: inline-block}\n",
       ".dl-inline>dt::after {content: \":\\0020\"; padding-right: .5ex}\n",
       ".dl-inline>dt:not(:first-of-type) {padding-left: .5ex}\n",
       "</style><dl class=dl-inline><dt>Ozone</dt><dd>&lt;NA&gt;</dd><dt>Solar.R</dt><dd>216.483870967742</dd><dt>Wind</dt><dd>8.94193548387097</dd></dl>\n",
       "</dd>\n",
       "\t<dt>$`8`</dt>\n",
       "\t\t<dd><style>\n",
       ".dl-inline {width: auto; margin:0; padding: 0}\n",
       ".dl-inline>dt, .dl-inline>dd {float: none; width: auto; display: inline-block}\n",
       ".dl-inline>dt::after {content: \":\\0020\"; padding-right: .5ex}\n",
       ".dl-inline>dt:not(:first-of-type) {padding-left: .5ex}\n",
       "</style><dl class=dl-inline><dt>Ozone</dt><dd>&lt;NA&gt;</dd><dt>Solar.R</dt><dd>&lt;NA&gt;</dd><dt>Wind</dt><dd>8.79354838709677</dd></dl>\n",
       "</dd>\n",
       "\t<dt>$`9`</dt>\n",
       "\t\t<dd><style>\n",
       ".dl-inline {width: auto; margin:0; padding: 0}\n",
       ".dl-inline>dt, .dl-inline>dd {float: none; width: auto; display: inline-block}\n",
       ".dl-inline>dt::after {content: \":\\0020\"; padding-right: .5ex}\n",
       ".dl-inline>dt:not(:first-of-type) {padding-left: .5ex}\n",
       "</style><dl class=dl-inline><dt>Ozone</dt><dd>&lt;NA&gt;</dd><dt>Solar.R</dt><dd>167.433333333333</dd><dt>Wind</dt><dd>10.18</dd></dl>\n",
       "</dd>\n",
       "</dl>\n"
      ],
      "text/latex": [
       "\\begin{description}\n",
       "\\item[\\$`5`] \\begin{description*}\n",
       "\\item[Ozone] <NA>\n",
       "\\item[Solar.R] <NA>\n",
       "\\item[Wind] 11.6225806451613\n",
       "\\end{description*}\n",
       "\n",
       "\\item[\\$`6`] \\begin{description*}\n",
       "\\item[Ozone] <NA>\n",
       "\\item[Solar.R] 190.166666666667\n",
       "\\item[Wind] 10.2666666666667\n",
       "\\end{description*}\n",
       "\n",
       "\\item[\\$`7`] \\begin{description*}\n",
       "\\item[Ozone] <NA>\n",
       "\\item[Solar.R] 216.483870967742\n",
       "\\item[Wind] 8.94193548387097\n",
       "\\end{description*}\n",
       "\n",
       "\\item[\\$`8`] \\begin{description*}\n",
       "\\item[Ozone] <NA>\n",
       "\\item[Solar.R] <NA>\n",
       "\\item[Wind] 8.79354838709677\n",
       "\\end{description*}\n",
       "\n",
       "\\item[\\$`9`] \\begin{description*}\n",
       "\\item[Ozone] <NA>\n",
       "\\item[Solar.R] 167.433333333333\n",
       "\\item[Wind] 10.18\n",
       "\\end{description*}\n",
       "\n",
       "\\end{description}\n"
      ],
      "text/markdown": [
       "$`5`\n",
       ":   Ozone\n",
       ":   &lt;NA&gt;Solar.R\n",
       ":   &lt;NA&gt;Wind\n",
       ":   11.6225806451613\n",
       "\n",
       "\n",
       "$`6`\n",
       ":   Ozone\n",
       ":   &lt;NA&gt;Solar.R\n",
       ":   190.166666666667Wind\n",
       ":   10.2666666666667\n",
       "\n",
       "\n",
       "$`7`\n",
       ":   Ozone\n",
       ":   &lt;NA&gt;Solar.R\n",
       ":   216.483870967742Wind\n",
       ":   8.94193548387097\n",
       "\n",
       "\n",
       "$`8`\n",
       ":   Ozone\n",
       ":   &lt;NA&gt;Solar.R\n",
       ":   &lt;NA&gt;Wind\n",
       ":   8.79354838709677\n",
       "\n",
       "\n",
       "$`9`\n",
       ":   Ozone\n",
       ":   &lt;NA&gt;Solar.R\n",
       ":   167.433333333333Wind\n",
       ":   10.18\n",
       "\n",
       "\n",
       "\n",
       "\n"
      ],
      "text/plain": [
       "$`5`\n",
       "   Ozone  Solar.R     Wind \n",
       "      NA       NA 11.62258 \n",
       "\n",
       "$`6`\n",
       "    Ozone   Solar.R      Wind \n",
       "       NA 190.16667  10.26667 \n",
       "\n",
       "$`7`\n",
       "     Ozone    Solar.R       Wind \n",
       "        NA 216.483871   8.941935 \n",
       "\n",
       "$`8`\n",
       "   Ozone  Solar.R     Wind \n",
       "      NA       NA 8.793548 \n",
       "\n",
       "$`9`\n",
       "   Ozone  Solar.R     Wind \n",
       "      NA 167.4333  10.1800 \n"
      ]
     },
     "metadata": {},
     "output_type": "display_data"
    }
   ],
   "source": [
    "lapply(s, function(x) colMeans(x[, c(\"Ozone\", \"Solar.R\", \"Wind\")]))"
   ]
  },
  {
   "cell_type": "markdown",
   "id": "13fd26bc",
   "metadata": {},
   "source": [
    "Let's simplify the output using `sapply`, and remove the NAs :"
   ]
  },
  {
   "cell_type": "code",
   "execution_count": 46,
   "id": "306fccc4",
   "metadata": {
    "scrolled": true
   },
   "outputs": [
    {
     "data": {
      "text/html": [
       "<table class=\"dataframe\">\n",
       "<caption>A matrix: 3 × 5 of type dbl</caption>\n",
       "<thead>\n",
       "\t<tr><th></th><th scope=col>5</th><th scope=col>6</th><th scope=col>7</th><th scope=col>8</th><th scope=col>9</th></tr>\n",
       "</thead>\n",
       "<tbody>\n",
       "\t<tr><th scope=row>Ozone</th><td> 23.61538</td><td> 29.44444</td><td> 59.115385</td><td> 59.961538</td><td> 31.44828</td></tr>\n",
       "\t<tr><th scope=row>Solar.R</th><td>181.29630</td><td>190.16667</td><td>216.483871</td><td>171.857143</td><td>167.43333</td></tr>\n",
       "\t<tr><th scope=row>Wind</th><td> 11.62258</td><td> 10.26667</td><td>  8.941935</td><td>  8.793548</td><td> 10.18000</td></tr>\n",
       "</tbody>\n",
       "</table>\n"
      ],
      "text/latex": [
       "A matrix: 3 × 5 of type dbl\n",
       "\\begin{tabular}{r|lllll}\n",
       "  & 5 & 6 & 7 & 8 & 9\\\\\n",
       "\\hline\n",
       "\tOzone &  23.61538 &  29.44444 &  59.115385 &  59.961538 &  31.44828\\\\\n",
       "\tSolar.R & 181.29630 & 190.16667 & 216.483871 & 171.857143 & 167.43333\\\\\n",
       "\tWind &  11.62258 &  10.26667 &   8.941935 &   8.793548 &  10.18000\\\\\n",
       "\\end{tabular}\n"
      ],
      "text/markdown": [
       "\n",
       "A matrix: 3 × 5 of type dbl\n",
       "\n",
       "| <!--/--> | 5 | 6 | 7 | 8 | 9 |\n",
       "|---|---|---|---|---|---|\n",
       "| Ozone |  23.61538 |  29.44444 |  59.115385 |  59.961538 |  31.44828 |\n",
       "| Solar.R | 181.29630 | 190.16667 | 216.483871 | 171.857143 | 167.43333 |\n",
       "| Wind |  11.62258 |  10.26667 |   8.941935 |   8.793548 |  10.18000 |\n",
       "\n"
      ],
      "text/plain": [
       "        5         6         7          8          9        \n",
       "Ozone    23.61538  29.44444  59.115385  59.961538  31.44828\n",
       "Solar.R 181.29630 190.16667 216.483871 171.857143 167.43333\n",
       "Wind     11.62258  10.26667   8.941935   8.793548  10.18000"
      ]
     },
     "metadata": {},
     "output_type": "display_data"
    }
   ],
   "source": [
    "sapply(s, function(x) colMeans(x[, c(\"Ozone\", \"Solar.R\", \"Wind\")], na.rm = TRUE))"
   ]
  },
  {
   "cell_type": "markdown",
   "id": "eecd0138",
   "metadata": {},
   "source": [
    "**NOTE : Splitting on more than one level**\n",
    "\n",
    "In the past couple of examples, we had only a single factor variable, and we've split whatever the object is with a vector or a dataframe according to the levels of that single factor, but we might have **more than one factor.** For example, we might have a variable that is \"Gender\" (\"Male\" and \"Female\") and we might have another variable that has for example the \"Race\" so we might want to look at the **combination of the levels withing those factors.**"
   ]
  },
  {
   "cell_type": "code",
   "execution_count": 47,
   "id": "e483c638",
   "metadata": {},
   "outputs": [
    {
     "data": {
      "text/html": [
       "<dl>\n",
       "\t<dt>$Female.Black</dt>\n",
       "\t\t<dd><table class=\"dataframe\">\n",
       "<caption>A data.frame: 2 × 3</caption>\n",
       "<thead>\n",
       "\t<tr><th></th><th scope=col>Gender</th><th scope=col>Race</th><th scope=col>Age</th></tr>\n",
       "\t<tr><th></th><th scope=col>&lt;chr&gt;</th><th scope=col>&lt;chr&gt;</th><th scope=col>&lt;dbl&gt;</th></tr>\n",
       "</thead>\n",
       "<tbody>\n",
       "\t<tr><th scope=row>4</th><td>Female</td><td>Black</td><td>40</td></tr>\n",
       "\t<tr><th scope=row>6</th><td>Female</td><td>Black</td><td>50</td></tr>\n",
       "</tbody>\n",
       "</table>\n",
       "</dd>\n",
       "\t<dt>$Male.Black</dt>\n",
       "\t\t<dd><table class=\"dataframe\">\n",
       "<caption>A data.frame: 1 × 3</caption>\n",
       "<thead>\n",
       "\t<tr><th></th><th scope=col>Gender</th><th scope=col>Race</th><th scope=col>Age</th></tr>\n",
       "\t<tr><th></th><th scope=col>&lt;chr&gt;</th><th scope=col>&lt;chr&gt;</th><th scope=col>&lt;dbl&gt;</th></tr>\n",
       "</thead>\n",
       "<tbody>\n",
       "\t<tr><th scope=row>2</th><td>Male</td><td>Black</td><td>30</td></tr>\n",
       "</tbody>\n",
       "</table>\n",
       "</dd>\n",
       "\t<dt>$Female.White</dt>\n",
       "\t\t<dd><table class=\"dataframe\">\n",
       "<caption>A data.frame: 1 × 3</caption>\n",
       "<thead>\n",
       "\t<tr><th></th><th scope=col>Gender</th><th scope=col>Race</th><th scope=col>Age</th></tr>\n",
       "\t<tr><th></th><th scope=col>&lt;chr&gt;</th><th scope=col>&lt;chr&gt;</th><th scope=col>&lt;dbl&gt;</th></tr>\n",
       "</thead>\n",
       "<tbody>\n",
       "\t<tr><th scope=row>3</th><td>Female</td><td>White</td><td>35</td></tr>\n",
       "</tbody>\n",
       "</table>\n",
       "</dd>\n",
       "\t<dt>$Male.White</dt>\n",
       "\t\t<dd><table class=\"dataframe\">\n",
       "<caption>A data.frame: 2 × 3</caption>\n",
       "<thead>\n",
       "\t<tr><th></th><th scope=col>Gender</th><th scope=col>Race</th><th scope=col>Age</th></tr>\n",
       "\t<tr><th></th><th scope=col>&lt;chr&gt;</th><th scope=col>&lt;chr&gt;</th><th scope=col>&lt;dbl&gt;</th></tr>\n",
       "</thead>\n",
       "<tbody>\n",
       "\t<tr><th scope=row>1</th><td>Male</td><td>White</td><td>25</td></tr>\n",
       "\t<tr><th scope=row>5</th><td>Male</td><td>White</td><td>45</td></tr>\n",
       "</tbody>\n",
       "</table>\n",
       "</dd>\n",
       "</dl>\n"
      ],
      "text/latex": [
       "\\begin{description}\n",
       "\\item[\\$Female.Black] A data.frame: 2 × 3\n",
       "\\begin{tabular}{r|lll}\n",
       "  & Gender & Race & Age\\\\\n",
       "  & <chr> & <chr> & <dbl>\\\\\n",
       "\\hline\n",
       "\t4 & Female & Black & 40\\\\\n",
       "\t6 & Female & Black & 50\\\\\n",
       "\\end{tabular}\n",
       "\n",
       "\\item[\\$Male.Black] A data.frame: 1 × 3\n",
       "\\begin{tabular}{r|lll}\n",
       "  & Gender & Race & Age\\\\\n",
       "  & <chr> & <chr> & <dbl>\\\\\n",
       "\\hline\n",
       "\t2 & Male & Black & 30\\\\\n",
       "\\end{tabular}\n",
       "\n",
       "\\item[\\$Female.White] A data.frame: 1 × 3\n",
       "\\begin{tabular}{r|lll}\n",
       "  & Gender & Race & Age\\\\\n",
       "  & <chr> & <chr> & <dbl>\\\\\n",
       "\\hline\n",
       "\t3 & Female & White & 35\\\\\n",
       "\\end{tabular}\n",
       "\n",
       "\\item[\\$Male.White] A data.frame: 2 × 3\n",
       "\\begin{tabular}{r|lll}\n",
       "  & Gender & Race & Age\\\\\n",
       "  & <chr> & <chr> & <dbl>\\\\\n",
       "\\hline\n",
       "\t1 & Male & White & 25\\\\\n",
       "\t5 & Male & White & 45\\\\\n",
       "\\end{tabular}\n",
       "\n",
       "\\end{description}\n"
      ],
      "text/markdown": [
       "$Female.Black\n",
       ":   \n",
       "A data.frame: 2 × 3\n",
       "\n",
       "| <!--/--> | Gender &lt;chr&gt; | Race &lt;chr&gt; | Age &lt;dbl&gt; |\n",
       "|---|---|---|---|\n",
       "| 4 | Female | Black | 40 |\n",
       "| 6 | Female | Black | 50 |\n",
       "\n",
       "\n",
       "$Male.Black\n",
       ":   \n",
       "A data.frame: 1 × 3\n",
       "\n",
       "| <!--/--> | Gender &lt;chr&gt; | Race &lt;chr&gt; | Age &lt;dbl&gt; |\n",
       "|---|---|---|---|\n",
       "| 2 | Male | Black | 30 |\n",
       "\n",
       "\n",
       "$Female.White\n",
       ":   \n",
       "A data.frame: 1 × 3\n",
       "\n",
       "| <!--/--> | Gender &lt;chr&gt; | Race &lt;chr&gt; | Age &lt;dbl&gt; |\n",
       "|---|---|---|---|\n",
       "| 3 | Female | White | 35 |\n",
       "\n",
       "\n",
       "$Male.White\n",
       ":   \n",
       "A data.frame: 2 × 3\n",
       "\n",
       "| <!--/--> | Gender &lt;chr&gt; | Race &lt;chr&gt; | Age &lt;dbl&gt; |\n",
       "|---|---|---|---|\n",
       "| 1 | Male | White | 25 |\n",
       "| 5 | Male | White | 45 |\n",
       "\n",
       "\n",
       "\n",
       "\n"
      ],
      "text/plain": [
       "$Female.Black\n",
       "  Gender  Race Age\n",
       "4 Female Black  40\n",
       "6 Female Black  50\n",
       "\n",
       "$Male.Black\n",
       "  Gender  Race Age\n",
       "2   Male Black  30\n",
       "\n",
       "$Female.White\n",
       "  Gender  Race Age\n",
       "3 Female White  35\n",
       "\n",
       "$Male.White\n",
       "  Gender  Race Age\n",
       "1   Male White  25\n",
       "5   Male White  45\n"
      ]
     },
     "metadata": {},
     "output_type": "display_data"
    },
    {
     "name": "stdout",
     "output_type": "stream",
     "text": [
      "[1] \"--------------------------------------------------------\"\n"
     ]
    },
    {
     "data": {
      "text/html": [
       "<dl>\n",
       "\t<dt>$Female.Black</dt>\n",
       "\t\t<dd>45</dd>\n",
       "\t<dt>$Male.Black</dt>\n",
       "\t\t<dd>30</dd>\n",
       "\t<dt>$Female.White</dt>\n",
       "\t\t<dd>35</dd>\n",
       "\t<dt>$Male.White</dt>\n",
       "\t\t<dd>35</dd>\n",
       "</dl>\n"
      ],
      "text/latex": [
       "\\begin{description}\n",
       "\\item[\\$Female.Black] 45\n",
       "\\item[\\$Male.Black] 30\n",
       "\\item[\\$Female.White] 35\n",
       "\\item[\\$Male.White] 35\n",
       "\\end{description}\n"
      ],
      "text/markdown": [
       "$Female.Black\n",
       ":   45\n",
       "$Male.Black\n",
       ":   30\n",
       "$Female.White\n",
       ":   35\n",
       "$Male.White\n",
       ":   35\n",
       "\n",
       "\n"
      ],
      "text/plain": [
       "$Female.Black\n",
       "[1] 45\n",
       "\n",
       "$Male.Black\n",
       "[1] 30\n",
       "\n",
       "$Female.White\n",
       "[1] 35\n",
       "\n",
       "$Male.White\n",
       "[1] 35\n"
      ]
     },
     "metadata": {},
     "output_type": "display_data"
    },
    {
     "data": {
      "text/html": [
       "<style>\n",
       ".dl-inline {width: auto; margin:0; padding: 0}\n",
       ".dl-inline>dt, .dl-inline>dd {float: none; width: auto; display: inline-block}\n",
       ".dl-inline>dt::after {content: \":\\0020\"; padding-right: .5ex}\n",
       ".dl-inline>dt:not(:first-of-type) {padding-left: .5ex}\n",
       "</style><dl class=dl-inline><dt>Female.Black</dt><dd>45</dd><dt>Male.Black</dt><dd>30</dd><dt>Female.White</dt><dd>35</dd><dt>Male.White</dt><dd>35</dd></dl>\n"
      ],
      "text/latex": [
       "\\begin{description*}\n",
       "\\item[Female.Black] 45\n",
       "\\item[Male.Black] 30\n",
       "\\item[Female.White] 35\n",
       "\\item[Male.White] 35\n",
       "\\end{description*}\n"
      ],
      "text/markdown": [
       "Female.Black\n",
       ":   45Male.Black\n",
       ":   30Female.White\n",
       ":   35Male.White\n",
       ":   35\n",
       "\n"
      ],
      "text/plain": [
       "Female.Black   Male.Black Female.White   Male.White \n",
       "          45           30           35           35 "
      ]
     },
     "metadata": {},
     "output_type": "display_data"
    }
   ],
   "source": [
    "# Example dataframe\n",
    "df <- data.frame(\n",
    "  Gender = c(\"Male\", \"Male\", \"Female\", \"Female\", \"Male\", \"Female\"),\n",
    "  Race = c(\"White\", \"Black\", \"White\", \"Black\", \"White\", \"Black\"),\n",
    "  Age = c(25, 30, 35, 40, 45, 50)\n",
    ")\n",
    "\n",
    "# Splitting by 'Gender' and 'Race', and calculating mean 'Age' for each combination\n",
    "(split_groups <- split(df, list(df$Gender, df$Race)))\n",
    "\n",
    "print(\"--------------------------------------------------------\")\n",
    "\n",
    "# Using 'lapply' to calculate mean 'Age' for each split group\n",
    "mean_age_lapply <- lapply(split_groups, function(x) mean(x$Age))\n",
    "\n",
    "# Using 'sapply' to calculate mean 'Age' for each split group\n",
    "mean_age_sapply <- sapply(split_groups, function(x) mean(x$Age))\n",
    "\n",
    "# Output\n",
    "mean_age_lapply\n",
    "mean_age_sapply\n"
   ]
  },
  {
   "cell_type": "markdown",
   "id": "bddc6d65",
   "metadata": {},
   "source": [
    "# Log Change \n",
    "\n",
    "| Date (YYYY-MM-DD) | Version | Changed By      | Change Description |\n",
    "| ----------------- | ------- | -------------   | ----------------------- |\n",
    "| 2023-11-24       | 1.0     | Younes Dahami   |   initial version |\n",
    "| 2024-05-13       | 1.1     | Younes Dahami   |  adding a table of contents |"
   ]
  },
  {
   "cell_type": "code",
   "execution_count": null,
   "id": "183af2da",
   "metadata": {},
   "outputs": [],
   "source": []
  }
 ],
 "metadata": {
  "kernelspec": {
   "display_name": "R",
   "language": "R",
   "name": "ir"
  },
  "language_info": {
   "codemirror_mode": "r",
   "file_extension": ".r",
   "mimetype": "text/x-r-source",
   "name": "R",
   "pygments_lexer": "r",
   "version": "4.2.3"
  }
 },
 "nbformat": 4,
 "nbformat_minor": 5
}
