{
 "cells": [
  {
   "cell_type": "markdown",
   "id": "d8f6a186",
   "metadata": {},
   "source": [
    "<h1 style=\"text-align:center;\">Loop Functions : lappy, sapply, apply, tapply & mapply</h1>\n"
   ]
  },
  {
   "cell_type": "markdown",
   "id": "058ebea5",
   "metadata": {},
   "source": [
    "<u>**Auteur</u> :** [Younes Dahami](https://www.linkedin.com/in/dahami/)"
   ]
  },
  {
   "cell_type": "markdown",
   "id": "e6c42861",
   "metadata": {},
   "source": [
    "# Introduction\n",
    "\n",
    "Writing **`for`**, **`while`** loops is useful when programming but not particularly easy when working interactively on the commabd line. There are some functions which implement looping to make life easier :\n",
    "\n",
    "* **`lapply`** **:** loops over a **list** and evaluate a function on each element, (\"l\" stands for list).\n",
    "* **`sapply`** **:** same as `lapply` but try to simplify the results (\"s\" stands for simplify).\n",
    "* **`apply`** **:** apply a function over the margins of an array.\n",
    "* **`tapply`** **:** apply a function over subsets of a vector (\"t\" stands for table)\n",
    "* **`mapply`** **:** multivariate version of lapply (\"m\" stands for multivariate)\n",
    "* **`split()`** **:** (not a loop function) an auxilliary function that is also useful, particularly in conjuction with `lapply`.\n"
   ]
  },
  {
   "cell_type": "code",
   "execution_count": 2,
   "id": "8e5d88ca",
   "metadata": {},
   "outputs": [
    {
     "data": {
      "text/plain": [
       "x\n",
       "a b c d e f g h i j k l m n o p q r s t u v w x y z \n",
       "4 2 6 3 1 6 1 4 5 4 5 6 4 6 7 3 1 5 3 4 2 4 4 4 3 3 "
      ]
     },
     "metadata": {},
     "output_type": "display_data"
    },
    {
     "data": {
      "text/html": [
       "<style>\n",
       ".dl-inline {width: auto; margin:0; padding: 0}\n",
       ".dl-inline>dt, .dl-inline>dd {float: none; width: auto; display: inline-block}\n",
       ".dl-inline>dt::after {content: \":\\0020\"; padding-right: .5ex}\n",
       ".dl-inline>dt:not(:first-of-type) {padding-left: .5ex}\n",
       "</style><dl class=dl-inline><dt>a</dt><dd>4</dd><dt>b</dt><dd>2</dd><dt>c</dt><dd>6</dd><dt>d</dt><dd>3</dd><dt>e</dt><dd>1</dd><dt>f</dt><dd>6</dd><dt>g</dt><dd>1</dd><dt>h</dt><dd>4</dd><dt>i</dt><dd>5</dd><dt>j</dt><dd>4</dd><dt>k</dt><dd>5</dd><dt>l</dt><dd>6</dd><dt>m</dt><dd>4</dd><dt>n</dt><dd>6</dd><dt>o</dt><dd>7</dd><dt>p</dt><dd>3</dd><dt>q</dt><dd>1</dd><dt>r</dt><dd>5</dd><dt>s</dt><dd>3</dd><dt>t</dt><dd>4</dd><dt>u</dt><dd>2</dd><dt>v</dt><dd>4</dd><dt>w</dt><dd>4</dd><dt>x</dt><dd>4</dd><dt>y</dt><dd>3</dd><dt>z</dt><dd>3</dd></dl>\n"
      ],
      "text/latex": [
       "\\begin{description*}\n",
       "\\item[a] 4\n",
       "\\item[b] 2\n",
       "\\item[c] 6\n",
       "\\item[d] 3\n",
       "\\item[e] 1\n",
       "\\item[f] 6\n",
       "\\item[g] 1\n",
       "\\item[h] 4\n",
       "\\item[i] 5\n",
       "\\item[j] 4\n",
       "\\item[k] 5\n",
       "\\item[l] 6\n",
       "\\item[m] 4\n",
       "\\item[n] 6\n",
       "\\item[o] 7\n",
       "\\item[p] 3\n",
       "\\item[q] 1\n",
       "\\item[r] 5\n",
       "\\item[s] 3\n",
       "\\item[t] 4\n",
       "\\item[u] 2\n",
       "\\item[v] 4\n",
       "\\item[w] 4\n",
       "\\item[x] 4\n",
       "\\item[y] 3\n",
       "\\item[z] 3\n",
       "\\end{description*}\n"
      ],
      "text/markdown": [
       "a\n",
       ":   4b\n",
       ":   2c\n",
       ":   6d\n",
       ":   3e\n",
       ":   1f\n",
       ":   6g\n",
       ":   1h\n",
       ":   4i\n",
       ":   5j\n",
       ":   4k\n",
       ":   5l\n",
       ":   6m\n",
       ":   4n\n",
       ":   6o\n",
       ":   7p\n",
       ":   3q\n",
       ":   1r\n",
       ":   5s\n",
       ":   3t\n",
       ":   4u\n",
       ":   2v\n",
       ":   4w\n",
       ":   4x\n",
       ":   4y\n",
       ":   3z\n",
       ":   3\n",
       "\n"
      ],
      "text/plain": [
       "a b c d e f g h i j k l m n o p q r s t u v w x y z \n",
       "4 2 6 3 1 6 1 4 5 4 5 6 4 6 7 3 1 5 3 4 2 4 4 4 3 3 "
      ]
     },
     "metadata": {},
     "output_type": "display_data"
    }
   ],
   "source": [
    "x <- sample(letters, 100, rep=T)\n",
    "table(x)\n",
    "tapply(x, x, length)"
   ]
  },
  {
   "cell_type": "markdown",
   "id": "6b1ffb8a",
   "metadata": {},
   "source": [
    "# 1) `lapply` function\n",
    "\n",
    "The **`lapply()`** functions takes 3 arguments :\n",
    "\n",
    "* 1) a list `x`\n",
    "* 2) a function (or the name of a function) `FUN`\n",
    "* 3) other arguments via its `...` argument"
   ]
  },
  {
   "cell_type": "code",
   "execution_count": 3,
   "id": "ee37f6e0",
   "metadata": {},
   "outputs": [],
   "source": [
    "?lapply"
   ]
  },
  {
   "cell_type": "markdown",
   "id": "ff20cb9c",
   "metadata": {},
   "source": [
    "**NOTE :** If x is not a list, it will be coerced to a list using `as.list()`. `lapply` always returns a list, regardless of the class of the input."
   ]
  },
  {
   "cell_type": "code",
   "execution_count": 4,
   "id": "3fb8139c",
   "metadata": {},
   "outputs": [
    {
     "data": {
      "text/html": [
       "<dl>\n",
       "\t<dt>$a</dt>\n",
       "\t\t<dd><style>\n",
       ".list-inline {list-style: none; margin:0; padding: 0}\n",
       ".list-inline>li {display: inline-block}\n",
       ".list-inline>li:not(:last-child)::after {content: \"\\00b7\"; padding: 0 .5ex}\n",
       "</style>\n",
       "<ol class=list-inline><li>1</li><li>2</li><li>3</li><li>4</li><li>5</li></ol>\n",
       "</dd>\n",
       "\t<dt>$b</dt>\n",
       "\t\t<dd><style>\n",
       ".list-inline {list-style: none; margin:0; padding: 0}\n",
       ".list-inline>li {display: inline-block}\n",
       ".list-inline>li:not(:last-child)::after {content: \"\\00b7\"; padding: 0 .5ex}\n",
       "</style>\n",
       "<ol class=list-inline><li>-2.45409892607085</li><li>1.65764156194736</li><li>-1.23740149067394</li><li>-0.852035856602606</li><li>-0.0174929360050931</li><li>-0.0832327758612623</li><li>0.760318197939029</li><li>-1.98006877374717</li><li>-0.120298984617046</li><li>-0.882761530619148</li></ol>\n",
       "</dd>\n",
       "</dl>\n"
      ],
      "text/latex": [
       "\\begin{description}\n",
       "\\item[\\$a] \\begin{enumerate*}\n",
       "\\item 1\n",
       "\\item 2\n",
       "\\item 3\n",
       "\\item 4\n",
       "\\item 5\n",
       "\\end{enumerate*}\n",
       "\n",
       "\\item[\\$b] \\begin{enumerate*}\n",
       "\\item -2.45409892607085\n",
       "\\item 1.65764156194736\n",
       "\\item -1.23740149067394\n",
       "\\item -0.852035856602606\n",
       "\\item -0.0174929360050931\n",
       "\\item -0.0832327758612623\n",
       "\\item 0.760318197939029\n",
       "\\item -1.98006877374717\n",
       "\\item -0.120298984617046\n",
       "\\item -0.882761530619148\n",
       "\\end{enumerate*}\n",
       "\n",
       "\\end{description}\n"
      ],
      "text/markdown": [
       "$a\n",
       ":   1. 1\n",
       "2. 2\n",
       "3. 3\n",
       "4. 4\n",
       "5. 5\n",
       "\n",
       "\n",
       "\n",
       "$b\n",
       ":   1. -2.45409892607085\n",
       "2. 1.65764156194736\n",
       "3. -1.23740149067394\n",
       "4. -0.852035856602606\n",
       "5. -0.0174929360050931\n",
       "6. -0.0832327758612623\n",
       "7. 0.760318197939029\n",
       "8. -1.98006877374717\n",
       "9. -0.120298984617046\n",
       "10. -0.882761530619148\n",
       "\n",
       "\n",
       "\n",
       "\n",
       "\n"
      ],
      "text/plain": [
       "$a\n",
       "[1] 1 2 3 4 5\n",
       "\n",
       "$b\n",
       " [1] -2.45409893  1.65764156 -1.23740149 -0.85203586 -0.01749294 -0.08323278\n",
       " [7]  0.76031820 -1.98006877 -0.12029898 -0.88276153\n"
      ]
     },
     "metadata": {},
     "output_type": "display_data"
    }
   ],
   "source": [
    "# Creating a list\n",
    "x <- list(a=1:5, b=rnorm(10))\n",
    "x"
   ]
  },
  {
   "cell_type": "code",
   "execution_count": 5,
   "id": "96065515",
   "metadata": {},
   "outputs": [
    {
     "data": {
      "text/html": [
       "<dl>\n",
       "\t<dt>$a</dt>\n",
       "\t\t<dd>3</dd>\n",
       "\t<dt>$b</dt>\n",
       "\t\t<dd>-0.520943151431073</dd>\n",
       "</dl>\n"
      ],
      "text/latex": [
       "\\begin{description}\n",
       "\\item[\\$a] 3\n",
       "\\item[\\$b] -0.520943151431073\n",
       "\\end{description}\n"
      ],
      "text/markdown": [
       "$a\n",
       ":   3\n",
       "$b\n",
       ":   -0.520943151431073\n",
       "\n",
       "\n"
      ],
      "text/plain": [
       "$a\n",
       "[1] 3\n",
       "\n",
       "$b\n",
       "[1] -0.5209432\n"
      ]
     },
     "metadata": {},
     "output_type": "display_data"
    }
   ],
   "source": [
    "# lapply will loop over the elements of the list 'x' and apply the 'mean' function\n",
    "lapply(x, mean)"
   ]
  },
  {
   "cell_type": "code",
   "execution_count": 6,
   "id": "fdf80650",
   "metadata": {},
   "outputs": [
    {
     "data": {
      "text/html": [
       "<dl>\n",
       "\t<dt>$a</dt>\n",
       "\t\t<dd><style>\n",
       ".list-inline {list-style: none; margin:0; padding: 0}\n",
       ".list-inline>li {display: inline-block}\n",
       ".list-inline>li:not(:last-child)::after {content: \"\\00b7\"; padding: 0 .5ex}\n",
       "</style>\n",
       "<ol class=list-inline><li>1</li><li>2</li><li>3</li><li>4</li></ol>\n",
       "</dd>\n",
       "\t<dt>$b</dt>\n",
       "\t\t<dd><style>\n",
       ".list-inline {list-style: none; margin:0; padding: 0}\n",
       ".list-inline>li {display: inline-block}\n",
       ".list-inline>li:not(:last-child)::after {content: \"\\00b7\"; padding: 0 .5ex}\n",
       "</style>\n",
       "<ol class=list-inline><li>0.760724738636513</li><li>-1.17617011916554</li><li>-0.706448266269424</li><li>-0.15254873287952</li><li>0.0189531373884678</li><li>0.608368964903184</li><li>0.320570916370069</li><li>-0.353562823894161</li><li>0.0825770377688809</li><li>-1.52567297185167</li></ol>\n",
       "</dd>\n",
       "\t<dt>$c</dt>\n",
       "\t\t<dd><style>\n",
       ".list-inline {list-style: none; margin:0; padding: 0}\n",
       ".list-inline>li {display: inline-block}\n",
       ".list-inline>li:not(:last-child)::after {content: \"\\00b7\"; padding: 0 .5ex}\n",
       "</style>\n",
       "<ol class=list-inline><li>-0.0385084573960299</li><li>2.12395385794772</li><li>0.521288813466711</li><li>1.10556143185059</li><li>0.684226391592847</li><li>-0.7696089870276</li><li>1.99720683948889</li><li>0.992665518367471</li><li>-0.68927441480192</li><li>2.75256918184928</li><li>1.89122768173349</li><li>2.04146799075203</li><li>-0.272207520841822</li><li>0.778040639581173</li><li>1.59563354648222</li><li>1.10657746935788</li><li>0.144498765536171</li><li>0.265954023084518</li><li>1.20014876538356</li><li>0.24953647360671</li></ol>\n",
       "</dd>\n",
       "\t<dt>$d</dt>\n",
       "\t\t<dd><style>\n",
       ".list-inline {list-style: none; margin:0; padding: 0}\n",
       ".list-inline>li {display: inline-block}\n",
       ".list-inline>li:not(:last-child)::after {content: \"\\00b7\"; padding: 0 .5ex}\n",
       "</style>\n",
       "<ol class=list-inline><li>3.37634259650751</li><li>4.64353159622184</li><li>4.28497395093168</li><li>4.40185216740075</li><li>5.98927638243172</li><li>5.28429994090087</li><li>4.70889568650593</li><li>4.1627733079392</li><li>6.30083774116993</li><li>3.72537802176031</li><li>4.72971286392931</li><li>4.99139977398371</li><li>5.94671854005328</li><li>5.13585634826468</li><li>4.29687810709378</li><li>5.62135312022408</li><li>5.00374267226693</li><li>6.01089091956722</li><li>4.48570790802541</li><li>7.4302635902368</li><li>4.12703469412131</li><li>4.92384923405125</li><li>3.53231314292422</li><li>5.33966565135299</li><li>5.22622031771274</li><li>4.03355043395035</li><li>4.7485583892548</li><li>6.03029699416412</li><li>5.64537224545669</li><li>4.85895593271858</li><li>5.24785735720864</li><li>8.10480132189529</li><li>6.11865141034632</li><li>2.37756366469584</li><li>5.52229161056153</li><li>4.74504175507708</li><li>4.05035568520475</li><li>5.42638782365952</li><li>4.09853885556854</li><li>6.25221430704587</li><li>2.35937994899186</li><li>4.83254673053091</li><li>5.27703319379355</li><li>4.21306333061288</li><li>5.04806807638668</li><li>6.0627177210919</li><li>4.77161409084337</li><li>6.13909967690604</li><li>6.02233609486106</li><li>5.10241203014464</li><li>3.84422492084352</li><li>5.47367808852948</li><li>4.1372946071875</li><li>5.40682738251422</li><li>5.27460566424582</li><li>6.01500147325043</li><li>5.22711573050378</li><li>6.72998238531949</li><li>5.97533963509097</li><li>4.96830234922083</li><li>5.81993714395242</li><li>4.93671426508409</li><li>3.72166540613571</li><li>4.33431349826764</li><li>3.46717197811693</li><li>5.50185727433524</li><li>3.97985395749013</li><li>6.73643466594374</li><li>4.30840676411726</li><li>4.95524753886306</li><li>4.37111151556848</li><li>4.70165646179894</li><li>5.76299963329502</li><li>4.51981289092961</li><li>5.14870575287292</li><li>5.46986180777397</li><li>4.57497770741696</li><li>3.73889336724094</li><li>6.76746510227161</li><li>6.38538295527743</li><li>4.72297537159989</li><li>6.76037047956702</li><li>5.54241575417491</li><li>5.22779391622357</li><li>4.57902449559652</li><li>4.75156200590873</li><li>5.74130980949401</li><li>4.11474231322883</li><li>6.70067154885018</li><li>3.95456398206493</li><li>5.74679112846953</li><li>4.76033802150601</li><li>4.87876742700726</li><li>5.40235088256415</li><li>5.70853807784321</li><li>3.99937715114904</li><li>5.13002430500641</li><li>5.3706305408892</li><li>4.74464362716026</li><li>6.41214137385396</li></ol>\n",
       "</dd>\n",
       "</dl>\n"
      ],
      "text/latex": [
       "\\begin{description}\n",
       "\\item[\\$a] \\begin{enumerate*}\n",
       "\\item 1\n",
       "\\item 2\n",
       "\\item 3\n",
       "\\item 4\n",
       "\\end{enumerate*}\n",
       "\n",
       "\\item[\\$b] \\begin{enumerate*}\n",
       "\\item 0.760724738636513\n",
       "\\item -1.17617011916554\n",
       "\\item -0.706448266269424\n",
       "\\item -0.15254873287952\n",
       "\\item 0.0189531373884678\n",
       "\\item 0.608368964903184\n",
       "\\item 0.320570916370069\n",
       "\\item -0.353562823894161\n",
       "\\item 0.0825770377688809\n",
       "\\item -1.52567297185167\n",
       "\\end{enumerate*}\n",
       "\n",
       "\\item[\\$c] \\begin{enumerate*}\n",
       "\\item -0.0385084573960299\n",
       "\\item 2.12395385794772\n",
       "\\item 0.521288813466711\n",
       "\\item 1.10556143185059\n",
       "\\item 0.684226391592847\n",
       "\\item -0.7696089870276\n",
       "\\item 1.99720683948889\n",
       "\\item 0.992665518367471\n",
       "\\item -0.68927441480192\n",
       "\\item 2.75256918184928\n",
       "\\item 1.89122768173349\n",
       "\\item 2.04146799075203\n",
       "\\item -0.272207520841822\n",
       "\\item 0.778040639581173\n",
       "\\item 1.59563354648222\n",
       "\\item 1.10657746935788\n",
       "\\item 0.144498765536171\n",
       "\\item 0.265954023084518\n",
       "\\item 1.20014876538356\n",
       "\\item 0.24953647360671\n",
       "\\end{enumerate*}\n",
       "\n",
       "\\item[\\$d] \\begin{enumerate*}\n",
       "\\item 3.37634259650751\n",
       "\\item 4.64353159622184\n",
       "\\item 4.28497395093168\n",
       "\\item 4.40185216740075\n",
       "\\item 5.98927638243172\n",
       "\\item 5.28429994090087\n",
       "\\item 4.70889568650593\n",
       "\\item 4.1627733079392\n",
       "\\item 6.30083774116993\n",
       "\\item 3.72537802176031\n",
       "\\item 4.72971286392931\n",
       "\\item 4.99139977398371\n",
       "\\item 5.94671854005328\n",
       "\\item 5.13585634826468\n",
       "\\item 4.29687810709378\n",
       "\\item 5.62135312022408\n",
       "\\item 5.00374267226693\n",
       "\\item 6.01089091956722\n",
       "\\item 4.48570790802541\n",
       "\\item 7.4302635902368\n",
       "\\item 4.12703469412131\n",
       "\\item 4.92384923405125\n",
       "\\item 3.53231314292422\n",
       "\\item 5.33966565135299\n",
       "\\item 5.22622031771274\n",
       "\\item 4.03355043395035\n",
       "\\item 4.7485583892548\n",
       "\\item 6.03029699416412\n",
       "\\item 5.64537224545669\n",
       "\\item 4.85895593271858\n",
       "\\item 5.24785735720864\n",
       "\\item 8.10480132189529\n",
       "\\item 6.11865141034632\n",
       "\\item 2.37756366469584\n",
       "\\item 5.52229161056153\n",
       "\\item 4.74504175507708\n",
       "\\item 4.05035568520475\n",
       "\\item 5.42638782365952\n",
       "\\item 4.09853885556854\n",
       "\\item 6.25221430704587\n",
       "\\item 2.35937994899186\n",
       "\\item 4.83254673053091\n",
       "\\item 5.27703319379355\n",
       "\\item 4.21306333061288\n",
       "\\item 5.04806807638668\n",
       "\\item 6.0627177210919\n",
       "\\item 4.77161409084337\n",
       "\\item 6.13909967690604\n",
       "\\item 6.02233609486106\n",
       "\\item 5.10241203014464\n",
       "\\item 3.84422492084352\n",
       "\\item 5.47367808852948\n",
       "\\item 4.1372946071875\n",
       "\\item 5.40682738251422\n",
       "\\item 5.27460566424582\n",
       "\\item 6.01500147325043\n",
       "\\item 5.22711573050378\n",
       "\\item 6.72998238531949\n",
       "\\item 5.97533963509097\n",
       "\\item 4.96830234922083\n",
       "\\item 5.81993714395242\n",
       "\\item 4.93671426508409\n",
       "\\item 3.72166540613571\n",
       "\\item 4.33431349826764\n",
       "\\item 3.46717197811693\n",
       "\\item 5.50185727433524\n",
       "\\item 3.97985395749013\n",
       "\\item 6.73643466594374\n",
       "\\item 4.30840676411726\n",
       "\\item 4.95524753886306\n",
       "\\item 4.37111151556848\n",
       "\\item 4.70165646179894\n",
       "\\item 5.76299963329502\n",
       "\\item 4.51981289092961\n",
       "\\item 5.14870575287292\n",
       "\\item 5.46986180777397\n",
       "\\item 4.57497770741696\n",
       "\\item 3.73889336724094\n",
       "\\item 6.76746510227161\n",
       "\\item 6.38538295527743\n",
       "\\item 4.72297537159989\n",
       "\\item 6.76037047956702\n",
       "\\item 5.54241575417491\n",
       "\\item 5.22779391622357\n",
       "\\item 4.57902449559652\n",
       "\\item 4.75156200590873\n",
       "\\item 5.74130980949401\n",
       "\\item 4.11474231322883\n",
       "\\item 6.70067154885018\n",
       "\\item 3.95456398206493\n",
       "\\item 5.74679112846953\n",
       "\\item 4.76033802150601\n",
       "\\item 4.87876742700726\n",
       "\\item 5.40235088256415\n",
       "\\item 5.70853807784321\n",
       "\\item 3.99937715114904\n",
       "\\item 5.13002430500641\n",
       "\\item 5.3706305408892\n",
       "\\item 4.74464362716026\n",
       "\\item 6.41214137385396\n",
       "\\end{enumerate*}\n",
       "\n",
       "\\end{description}\n"
      ],
      "text/markdown": [
       "$a\n",
       ":   1. 1\n",
       "2. 2\n",
       "3. 3\n",
       "4. 4\n",
       "\n",
       "\n",
       "\n",
       "$b\n",
       ":   1. 0.760724738636513\n",
       "2. -1.17617011916554\n",
       "3. -0.706448266269424\n",
       "4. -0.15254873287952\n",
       "5. 0.0189531373884678\n",
       "6. 0.608368964903184\n",
       "7. 0.320570916370069\n",
       "8. -0.353562823894161\n",
       "9. 0.0825770377688809\n",
       "10. -1.52567297185167\n",
       "\n",
       "\n",
       "\n",
       "$c\n",
       ":   1. -0.0385084573960299\n",
       "2. 2.12395385794772\n",
       "3. 0.521288813466711\n",
       "4. 1.10556143185059\n",
       "5. 0.684226391592847\n",
       "6. -0.7696089870276\n",
       "7. 1.99720683948889\n",
       "8. 0.992665518367471\n",
       "9. -0.68927441480192\n",
       "10. 2.75256918184928\n",
       "11. 1.89122768173349\n",
       "12. 2.04146799075203\n",
       "13. -0.272207520841822\n",
       "14. 0.778040639581173\n",
       "15. 1.59563354648222\n",
       "16. 1.10657746935788\n",
       "17. 0.144498765536171\n",
       "18. 0.265954023084518\n",
       "19. 1.20014876538356\n",
       "20. 0.24953647360671\n",
       "\n",
       "\n",
       "\n",
       "$d\n",
       ":   1. 3.37634259650751\n",
       "2. 4.64353159622184\n",
       "3. 4.28497395093168\n",
       "4. 4.40185216740075\n",
       "5. 5.98927638243172\n",
       "6. 5.28429994090087\n",
       "7. 4.70889568650593\n",
       "8. 4.1627733079392\n",
       "9. 6.30083774116993\n",
       "10. 3.72537802176031\n",
       "11. 4.72971286392931\n",
       "12. 4.99139977398371\n",
       "13. 5.94671854005328\n",
       "14. 5.13585634826468\n",
       "15. 4.29687810709378\n",
       "16. 5.62135312022408\n",
       "17. 5.00374267226693\n",
       "18. 6.01089091956722\n",
       "19. 4.48570790802541\n",
       "20. 7.4302635902368\n",
       "21. 4.12703469412131\n",
       "22. 4.92384923405125\n",
       "23. 3.53231314292422\n",
       "24. 5.33966565135299\n",
       "25. 5.22622031771274\n",
       "26. 4.03355043395035\n",
       "27. 4.7485583892548\n",
       "28. 6.03029699416412\n",
       "29. 5.64537224545669\n",
       "30. 4.85895593271858\n",
       "31. 5.24785735720864\n",
       "32. 8.10480132189529\n",
       "33. 6.11865141034632\n",
       "34. 2.37756366469584\n",
       "35. 5.52229161056153\n",
       "36. 4.74504175507708\n",
       "37. 4.05035568520475\n",
       "38. 5.42638782365952\n",
       "39. 4.09853885556854\n",
       "40. 6.25221430704587\n",
       "41. 2.35937994899186\n",
       "42. 4.83254673053091\n",
       "43. 5.27703319379355\n",
       "44. 4.21306333061288\n",
       "45. 5.04806807638668\n",
       "46. 6.0627177210919\n",
       "47. 4.77161409084337\n",
       "48. 6.13909967690604\n",
       "49. 6.02233609486106\n",
       "50. 5.10241203014464\n",
       "51. 3.84422492084352\n",
       "52. 5.47367808852948\n",
       "53. 4.1372946071875\n",
       "54. 5.40682738251422\n",
       "55. 5.27460566424582\n",
       "56. 6.01500147325043\n",
       "57. 5.22711573050378\n",
       "58. 6.72998238531949\n",
       "59. 5.97533963509097\n",
       "60. 4.96830234922083\n",
       "61. 5.81993714395242\n",
       "62. 4.93671426508409\n",
       "63. 3.72166540613571\n",
       "64. 4.33431349826764\n",
       "65. 3.46717197811693\n",
       "66. 5.50185727433524\n",
       "67. 3.97985395749013\n",
       "68. 6.73643466594374\n",
       "69. 4.30840676411726\n",
       "70. 4.95524753886306\n",
       "71. 4.37111151556848\n",
       "72. 4.70165646179894\n",
       "73. 5.76299963329502\n",
       "74. 4.51981289092961\n",
       "75. 5.14870575287292\n",
       "76. 5.46986180777397\n",
       "77. 4.57497770741696\n",
       "78. 3.73889336724094\n",
       "79. 6.76746510227161\n",
       "80. 6.38538295527743\n",
       "81. 4.72297537159989\n",
       "82. 6.76037047956702\n",
       "83. 5.54241575417491\n",
       "84. 5.22779391622357\n",
       "85. 4.57902449559652\n",
       "86. 4.75156200590873\n",
       "87. 5.74130980949401\n",
       "88. 4.11474231322883\n",
       "89. 6.70067154885018\n",
       "90. 3.95456398206493\n",
       "91. 5.74679112846953\n",
       "92. 4.76033802150601\n",
       "93. 4.87876742700726\n",
       "94. 5.40235088256415\n",
       "95. 5.70853807784321\n",
       "96. 3.99937715114904\n",
       "97. 5.13002430500641\n",
       "98. 5.3706305408892\n",
       "99. 4.74464362716026\n",
       "100. 6.41214137385396\n",
       "\n",
       "\n",
       "\n",
       "\n",
       "\n"
      ],
      "text/plain": [
       "$a\n",
       "[1] 1 2 3 4\n",
       "\n",
       "$b\n",
       " [1]  0.76072474 -1.17617012 -0.70644827 -0.15254873  0.01895314  0.60836896\n",
       " [7]  0.32057092 -0.35356282  0.08257704 -1.52567297\n",
       "\n",
       "$c\n",
       " [1] -0.03850846  2.12395386  0.52128881  1.10556143  0.68422639 -0.76960899\n",
       " [7]  1.99720684  0.99266552 -0.68927441  2.75256918  1.89122768  2.04146799\n",
       "[13] -0.27220752  0.77804064  1.59563355  1.10657747  0.14449877  0.26595402\n",
       "[19]  1.20014877  0.24953647\n",
       "\n",
       "$d\n",
       "  [1] 3.376343 4.643532 4.284974 4.401852 5.989276 5.284300 4.708896 4.162773\n",
       "  [9] 6.300838 3.725378 4.729713 4.991400 5.946719 5.135856 4.296878 5.621353\n",
       " [17] 5.003743 6.010891 4.485708 7.430264 4.127035 4.923849 3.532313 5.339666\n",
       " [25] 5.226220 4.033550 4.748558 6.030297 5.645372 4.858956 5.247857 8.104801\n",
       " [33] 6.118651 2.377564 5.522292 4.745042 4.050356 5.426388 4.098539 6.252214\n",
       " [41] 2.359380 4.832547 5.277033 4.213063 5.048068 6.062718 4.771614 6.139100\n",
       " [49] 6.022336 5.102412 3.844225 5.473678 4.137295 5.406827 5.274606 6.015001\n",
       " [57] 5.227116 6.729982 5.975340 4.968302 5.819937 4.936714 3.721665 4.334313\n",
       " [65] 3.467172 5.501857 3.979854 6.736435 4.308407 4.955248 4.371112 4.701656\n",
       " [73] 5.763000 4.519813 5.148706 5.469862 4.574978 3.738893 6.767465 6.385383\n",
       " [81] 4.722975 6.760370 5.542416 5.227794 4.579024 4.751562 5.741310 4.114742\n",
       " [89] 6.700672 3.954564 5.746791 4.760338 4.878767 5.402351 5.708538 3.999377\n",
       " [97] 5.130024 5.370631 4.744644 6.412141\n"
      ]
     },
     "metadata": {},
     "output_type": "display_data"
    }
   ],
   "source": [
    "# rnorm(nb of simulations, mean)\n",
    "(x <- list(a=1:4, b=rnorm(10), c=rnorm(20,1), d=rnorm(100,5)))"
   ]
  },
  {
   "cell_type": "code",
   "execution_count": 7,
   "id": "ceb54c37",
   "metadata": {},
   "outputs": [
    {
     "data": {
      "text/html": [
       "<dl>\n",
       "\t<dt>$a</dt>\n",
       "\t\t<dd>2.5</dd>\n",
       "\t<dt>$b</dt>\n",
       "\t\t<dd>-0.21232081189932</dd>\n",
       "\t<dt>$c</dt>\n",
       "\t\t<dd>0.884047900500695</dd>\n",
       "\t<dt>$d</dt>\n",
       "\t\t<dd>5.07272351092164</dd>\n",
       "</dl>\n"
      ],
      "text/latex": [
       "\\begin{description}\n",
       "\\item[\\$a] 2.5\n",
       "\\item[\\$b] -0.21232081189932\n",
       "\\item[\\$c] 0.884047900500695\n",
       "\\item[\\$d] 5.07272351092164\n",
       "\\end{description}\n"
      ],
      "text/markdown": [
       "$a\n",
       ":   2.5\n",
       "$b\n",
       ":   -0.21232081189932\n",
       "$c\n",
       ":   0.884047900500695\n",
       "$d\n",
       ":   5.07272351092164\n",
       "\n",
       "\n"
      ],
      "text/plain": [
       "$a\n",
       "[1] 2.5\n",
       "\n",
       "$b\n",
       "[1] -0.2123208\n",
       "\n",
       "$c\n",
       "[1] 0.8840479\n",
       "\n",
       "$d\n",
       "[1] 5.072724\n"
      ]
     },
     "metadata": {},
     "output_type": "display_data"
    }
   ],
   "source": [
    "lapply(x, mean)"
   ]
  },
  {
   "cell_type": "code",
   "execution_count": 8,
   "id": "dc354488",
   "metadata": {},
   "outputs": [
    {
     "data": {
      "text/html": [
       "<ol>\n",
       "\t<li>0.0814392187166959</li>\n",
       "\t<li><style>\n",
       ".list-inline {list-style: none; margin:0; padding: 0}\n",
       ".list-inline>li {display: inline-block}\n",
       ".list-inline>li:not(:last-child)::after {content: \"\\00b7\"; padding: 0 .5ex}\n",
       "</style>\n",
       "<ol class=list-inline><li>0.961971647338942</li><li>0.307681757956743</li></ol>\n",
       "</li>\n",
       "\t<li><style>\n",
       ".list-inline {list-style: none; margin:0; padding: 0}\n",
       ".list-inline>li {display: inline-block}\n",
       ".list-inline>li:not(:last-child)::after {content: \"\\00b7\"; padding: 0 .5ex}\n",
       "</style>\n",
       "<ol class=list-inline><li>0.0561099671758711</li><li>0.62168764648959</li><li>0.523140590172261</li></ol>\n",
       "</li>\n",
       "\t<li><style>\n",
       ".list-inline {list-style: none; margin:0; padding: 0}\n",
       ".list-inline>li {display: inline-block}\n",
       ".list-inline>li:not(:last-child)::after {content: \"\\00b7\"; padding: 0 .5ex}\n",
       "</style>\n",
       "<ol class=list-inline><li>0.541446762159467</li><li>0.220417925156653</li><li>0.97493498516269</li><li>0.0315243250224739</li></ol>\n",
       "</li>\n",
       "</ol>\n"
      ],
      "text/latex": [
       "\\begin{enumerate}\n",
       "\\item 0.0814392187166959\n",
       "\\item \\begin{enumerate*}\n",
       "\\item 0.961971647338942\n",
       "\\item 0.307681757956743\n",
       "\\end{enumerate*}\n",
       "\n",
       "\\item \\begin{enumerate*}\n",
       "\\item 0.0561099671758711\n",
       "\\item 0.62168764648959\n",
       "\\item 0.523140590172261\n",
       "\\end{enumerate*}\n",
       "\n",
       "\\item \\begin{enumerate*}\n",
       "\\item 0.541446762159467\n",
       "\\item 0.220417925156653\n",
       "\\item 0.97493498516269\n",
       "\\item 0.0315243250224739\n",
       "\\end{enumerate*}\n",
       "\n",
       "\\end{enumerate}\n"
      ],
      "text/markdown": [
       "1. 0.0814392187166959\n",
       "2. 1. 0.961971647338942\n",
       "2. 0.307681757956743\n",
       "\n",
       "\n",
       "\n",
       "3. 1. 0.0561099671758711\n",
       "2. 0.62168764648959\n",
       "3. 0.523140590172261\n",
       "\n",
       "\n",
       "\n",
       "4. 1. 0.541446762159467\n",
       "2. 0.220417925156653\n",
       "3. 0.97493498516269\n",
       "4. 0.0315243250224739\n",
       "\n",
       "\n",
       "\n",
       "\n",
       "\n"
      ],
      "text/plain": [
       "[[1]]\n",
       "[1] 0.08143922\n",
       "\n",
       "[[2]]\n",
       "[1] 0.9619716 0.3076818\n",
       "\n",
       "[[3]]\n",
       "[1] 0.05610997 0.62168765 0.52314059\n",
       "\n",
       "[[4]]\n",
       "[1] 0.54144676 0.22041793 0.97493499 0.03152433\n"
      ]
     },
     "metadata": {},
     "output_type": "display_data"
    }
   ],
   "source": [
    "# 'lapply' will loop over the elements of 'x' & generate random outcomes from the uniform distribution\n",
    "x <- 1:4\n",
    "lapply(x, runif)"
   ]
  },
  {
   "cell_type": "markdown",
   "id": "602216ff",
   "metadata": {},
   "source": [
    "**NOTE :** `lapply` and friends make heavy use of the anonymous functions.\n",
    "\n",
    "* <u>**Anonymous functions**</u> **:** functions that don't have names"
   ]
  },
  {
   "cell_type": "code",
   "execution_count": 9,
   "id": "64cdb771",
   "metadata": {},
   "outputs": [
    {
     "data": {
      "text/html": [
       "<dl>\n",
       "\t<dt>$a</dt>\n",
       "\t\t<dd><table class=\"dataframe\">\n",
       "<caption>A matrix: 2 × 2 of type int</caption>\n",
       "<tbody>\n",
       "\t<tr><td>1</td><td>3</td></tr>\n",
       "\t<tr><td>2</td><td>4</td></tr>\n",
       "</tbody>\n",
       "</table>\n",
       "</dd>\n",
       "\t<dt>$b</dt>\n",
       "\t\t<dd><table class=\"dataframe\">\n",
       "<caption>A matrix: 3 × 2 of type int</caption>\n",
       "<tbody>\n",
       "\t<tr><td>1</td><td>4</td></tr>\n",
       "\t<tr><td>2</td><td>5</td></tr>\n",
       "\t<tr><td>3</td><td>6</td></tr>\n",
       "</tbody>\n",
       "</table>\n",
       "</dd>\n",
       "</dl>\n"
      ],
      "text/latex": [
       "\\begin{description}\n",
       "\\item[\\$a] A matrix: 2 × 2 of type int\n",
       "\\begin{tabular}{ll}\n",
       "\t 1 & 3\\\\\n",
       "\t 2 & 4\\\\\n",
       "\\end{tabular}\n",
       "\n",
       "\\item[\\$b] A matrix: 3 × 2 of type int\n",
       "\\begin{tabular}{ll}\n",
       "\t 1 & 4\\\\\n",
       "\t 2 & 5\\\\\n",
       "\t 3 & 6\\\\\n",
       "\\end{tabular}\n",
       "\n",
       "\\end{description}\n"
      ],
      "text/markdown": [
       "$a\n",
       ":   \n",
       "A matrix: 2 × 2 of type int\n",
       "\n",
       "| 1 | 3 |\n",
       "| 2 | 4 |\n",
       "\n",
       "\n",
       "$b\n",
       ":   \n",
       "A matrix: 3 × 2 of type int\n",
       "\n",
       "| 1 | 4 |\n",
       "| 2 | 5 |\n",
       "| 3 | 6 |\n",
       "\n",
       "\n",
       "\n",
       "\n"
      ],
      "text/plain": [
       "$a\n",
       "     [,1] [,2]\n",
       "[1,]    1    3\n",
       "[2,]    2    4\n",
       "\n",
       "$b\n",
       "     [,1] [,2]\n",
       "[1,]    1    4\n",
       "[2,]    2    5\n",
       "[3,]    3    6\n"
      ]
     },
     "metadata": {},
     "output_type": "display_data"
    }
   ],
   "source": [
    "(x <- list(a = matrix(1:4,2,2), b=matrix(1:6,3,2)))"
   ]
  },
  {
   "cell_type": "markdown",
   "id": "4c7ac035",
   "metadata": {},
   "source": [
    "Suppose we want to extract the first column from each one of these matrixes, there is no function that already extracts first column of a matrix, but this is easy to do, we can just write a function that takes the first column of a matrix :"
   ]
  },
  {
   "cell_type": "code",
   "execution_count": 12,
   "id": "838614d9",
   "metadata": {},
   "outputs": [
    {
     "data": {
      "text/html": [
       "<dl>\n",
       "\t<dt>$a</dt>\n",
       "\t\t<dd><style>\n",
       ".list-inline {list-style: none; margin:0; padding: 0}\n",
       ".list-inline>li {display: inline-block}\n",
       ".list-inline>li:not(:last-child)::after {content: \"\\00b7\"; padding: 0 .5ex}\n",
       "</style>\n",
       "<ol class=list-inline><li>1</li><li>2</li></ol>\n",
       "</dd>\n",
       "\t<dt>$b</dt>\n",
       "\t\t<dd><style>\n",
       ".list-inline {list-style: none; margin:0; padding: 0}\n",
       ".list-inline>li {display: inline-block}\n",
       ".list-inline>li:not(:last-child)::after {content: \"\\00b7\"; padding: 0 .5ex}\n",
       "</style>\n",
       "<ol class=list-inline><li>1</li><li>2</li><li>3</li></ol>\n",
       "</dd>\n",
       "</dl>\n"
      ],
      "text/latex": [
       "\\begin{description}\n",
       "\\item[\\$a] \\begin{enumerate*}\n",
       "\\item 1\n",
       "\\item 2\n",
       "\\end{enumerate*}\n",
       "\n",
       "\\item[\\$b] \\begin{enumerate*}\n",
       "\\item 1\n",
       "\\item 2\n",
       "\\item 3\n",
       "\\end{enumerate*}\n",
       "\n",
       "\\end{description}\n"
      ],
      "text/markdown": [
       "$a\n",
       ":   1. 1\n",
       "2. 2\n",
       "\n",
       "\n",
       "\n",
       "$b\n",
       ":   1. 1\n",
       "2. 2\n",
       "3. 3\n",
       "\n",
       "\n",
       "\n",
       "\n",
       "\n"
      ],
      "text/plain": [
       "$a\n",
       "[1] 1 2\n",
       "\n",
       "$b\n",
       "[1] 1 2 3\n"
      ]
     },
     "metadata": {},
     "output_type": "display_data"
    }
   ],
   "source": [
    "# extracting the first column of each matrix in the list 'x'\n",
    "lapply(x, function (elt) elt[,1])"
   ]
  },
  {
   "cell_type": "code",
   "execution_count": 13,
   "id": "172eaf9f",
   "metadata": {},
   "outputs": [
    {
     "data": {
      "text/html": [
       "<dl>\n",
       "\t<dt>$a</dt>\n",
       "\t\t<dd><style>\n",
       ".list-inline {list-style: none; margin:0; padding: 0}\n",
       ".list-inline>li {display: inline-block}\n",
       ".list-inline>li:not(:last-child)::after {content: \"\\00b7\"; padding: 0 .5ex}\n",
       "</style>\n",
       "<ol class=list-inline><li>1</li><li>3</li></ol>\n",
       "</dd>\n",
       "\t<dt>$b</dt>\n",
       "\t\t<dd><style>\n",
       ".list-inline {list-style: none; margin:0; padding: 0}\n",
       ".list-inline>li {display: inline-block}\n",
       ".list-inline>li:not(:last-child)::after {content: \"\\00b7\"; padding: 0 .5ex}\n",
       "</style>\n",
       "<ol class=list-inline><li>1</li><li>4</li></ol>\n",
       "</dd>\n",
       "</dl>\n"
      ],
      "text/latex": [
       "\\begin{description}\n",
       "\\item[\\$a] \\begin{enumerate*}\n",
       "\\item 1\n",
       "\\item 3\n",
       "\\end{enumerate*}\n",
       "\n",
       "\\item[\\$b] \\begin{enumerate*}\n",
       "\\item 1\n",
       "\\item 4\n",
       "\\end{enumerate*}\n",
       "\n",
       "\\end{description}\n"
      ],
      "text/markdown": [
       "$a\n",
       ":   1. 1\n",
       "2. 3\n",
       "\n",
       "\n",
       "\n",
       "$b\n",
       ":   1. 1\n",
       "2. 4\n",
       "\n",
       "\n",
       "\n",
       "\n",
       "\n"
      ],
      "text/plain": [
       "$a\n",
       "[1] 1 3\n",
       "\n",
       "$b\n",
       "[1] 1 4\n"
      ]
     },
     "metadata": {},
     "output_type": "display_data"
    }
   ],
   "source": [
    "# extracting the first row of each matrix in the list 'x'\n",
    "lapply(x, function (elt) elt[1,])"
   ]
  },
  {
   "cell_type": "markdown",
   "id": "6509a69f",
   "metadata": {},
   "source": [
    "# 2) `sapply` function\n",
    "\n",
    "**`sapply()`** will try to simplify the result of the `lapply` if possible :\n",
    "\n",
    "* If the result is a **list** where every element is of length 1, then a **vector** is returned.\n",
    "* If the result is a list where every element is a vector of the same length $(>1)$, a **matrix** is returned.\n",
    "* If it can't figure things out, a list is returned."
   ]
  },
  {
   "cell_type": "code",
   "execution_count": 14,
   "id": "6602c999",
   "metadata": {},
   "outputs": [
    {
     "data": {
      "text/html": [
       "<style>\n",
       ".dl-inline {width: auto; margin:0; padding: 0}\n",
       ".dl-inline>dt, .dl-inline>dd {float: none; width: auto; display: inline-block}\n",
       ".dl-inline>dt::after {content: \":\\0020\"; padding-right: .5ex}\n",
       ".dl-inline>dt:not(:first-of-type) {padding-left: .5ex}\n",
       "</style><dl class=dl-inline><dt>a</dt><dd>3</dd><dt>b</dt><dd>0.380434045793058</dd></dl>\n"
      ],
      "text/latex": [
       "\\begin{description*}\n",
       "\\item[a] 3\n",
       "\\item[b] 0.380434045793058\n",
       "\\end{description*}\n"
      ],
      "text/markdown": [
       "a\n",
       ":   3b\n",
       ":   0.380434045793058\n",
       "\n"
      ],
      "text/plain": [
       "       a        b \n",
       "3.000000 0.380434 "
      ]
     },
     "metadata": {},
     "output_type": "display_data"
    }
   ],
   "source": [
    "# Creating a list\n",
    "x <- list(a=1:5, b=rnorm(10))\n",
    "# sapply will loop over the elements of the list 'x' and apply the 'mean' function, and return a vector\n",
    "sapply(x, mean)"
   ]
  },
  {
   "cell_type": "code",
   "execution_count": 15,
   "id": "8099ff80",
   "metadata": {
    "scrolled": true
   },
   "outputs": [
    {
     "data": {
      "text/html": [
       "<table class=\"dataframe\">\n",
       "<caption>A matrix: 2 × 2 of type int</caption>\n",
       "<thead>\n",
       "\t<tr><th scope=col>a</th><th scope=col>b</th></tr>\n",
       "</thead>\n",
       "<tbody>\n",
       "\t<tr><td>1</td><td>1</td></tr>\n",
       "\t<tr><td>3</td><td>4</td></tr>\n",
       "</tbody>\n",
       "</table>\n"
      ],
      "text/latex": [
       "A matrix: 2 × 2 of type int\n",
       "\\begin{tabular}{ll}\n",
       " a & b\\\\\n",
       "\\hline\n",
       "\t 1 & 1\\\\\n",
       "\t 3 & 4\\\\\n",
       "\\end{tabular}\n"
      ],
      "text/markdown": [
       "\n",
       "A matrix: 2 × 2 of type int\n",
       "\n",
       "| a | b |\n",
       "|---|---|\n",
       "| 1 | 1 |\n",
       "| 3 | 4 |\n",
       "\n"
      ],
      "text/plain": [
       "     a b\n",
       "[1,] 1 1\n",
       "[2,] 3 4"
      ]
     },
     "metadata": {},
     "output_type": "display_data"
    }
   ],
   "source": [
    "# Creating a list of matrices having the same number of columns (2)\n",
    "x <- list(a = matrix(1:4,2,2), b=matrix(1:6,3,2))\n",
    "# extracting the first row of each matrix in the list 'x', sapply will return a matrix\n",
    "sapply(x, function (elt) elt[1,])"
   ]
  },
  {
   "cell_type": "code",
   "execution_count": 17,
   "id": "34aaff64",
   "metadata": {
    "scrolled": false
   },
   "outputs": [
    {
     "data": {
      "image/png": "[encoded data removed]",
      "text/plain": [
       "plot without title"
      ]
     },
     "metadata": {
      "image/png": {
       "height": 420,
       "width": 420
      }
     },
     "output_type": "display_data"
    }
   ],
   "source": [
    "library(lattice)\n",
    "\n",
    "x <- list(a=1:4, b=rnorm(10), c=rnorm(20,1), d=rnorm(100,5))\n",
    "densityplot(x$d)"
   ]
  },
  {
   "cell_type": "code",
   "execution_count": 18,
   "id": "b1a654ff",
   "metadata": {},
   "outputs": [
    {
     "data": {
      "text/html": [
       "<style>\n",
       ".dl-inline {width: auto; margin:0; padding: 0}\n",
       ".dl-inline>dt, .dl-inline>dd {float: none; width: auto; display: inline-block}\n",
       ".dl-inline>dt::after {content: \":\\0020\"; padding-right: .5ex}\n",
       ".dl-inline>dt:not(:first-of-type) {padding-left: .5ex}\n",
       "</style><dl class=dl-inline><dt>a</dt><dd>2.5</dd><dt>b</dt><dd>-0.525764713774422</dd><dt>c</dt><dd>1.29852683075014</dd><dt>d</dt><dd>5.0027581144614</dd></dl>\n"
      ],
      "text/latex": [
       "\\begin{description*}\n",
       "\\item[a] 2.5\n",
       "\\item[b] -0.525764713774422\n",
       "\\item[c] 1.29852683075014\n",
       "\\item[d] 5.0027581144614\n",
       "\\end{description*}\n"
      ],
      "text/markdown": [
       "a\n",
       ":   2.5b\n",
       ":   -0.525764713774422c\n",
       ":   1.29852683075014d\n",
       ":   5.0027581144614\n",
       "\n"
      ],
      "text/plain": [
       "         a          b          c          d \n",
       " 2.5000000 -0.5257647  1.2985268  5.0027581 "
      ]
     },
     "metadata": {},
     "output_type": "display_data"
    }
   ],
   "source": [
    "sapply(x, mean)"
   ]
  },
  {
   "cell_type": "markdown",
   "id": "18c7cce1",
   "metadata": {},
   "source": [
    "# 3) `apply` function\n",
    "\n",
    "**`apply()`** is used to evaluate a function (often an anonymous one) over the margins of an array :\n",
    "\n",
    "* It is most often used to apply a function to the rows or columns of a matrix.\n",
    "* It can be used with general arrays, e.g. taking the average of an array of matrices.\n",
    "* It is not really faster than writing a loop (e.g a `for` loop), but it works in one line!\n"
   ]
  },
  {
   "cell_type": "code",
   "execution_count": 19,
   "id": "67aaf798",
   "metadata": {},
   "outputs": [
    {
     "name": "stdout",
     "output_type": "stream",
     "text": [
      "function (X, MARGIN, FUN, ..., simplify = TRUE)  \n"
     ]
    }
   ],
   "source": [
    "str(apply)"
   ]
  },
  {
   "cell_type": "markdown",
   "id": "3b645d93",
   "metadata": {},
   "source": [
    "* `X` is an array\n",
    "* `MARGIN` is an integer vector indicating which margins should be \"retained\"\n",
    "* `FUN` is a function to be applied\n",
    "* `...` is for other arguments to be passed to `FUN`"
   ]
  },
  {
   "cell_type": "markdown",
   "id": "5a150e13",
   "metadata": {},
   "source": [
    "**Example :** Here's a matrix that we're creating, it has 20 rows and 10 columns :"
   ]
  },
  {
   "cell_type": "code",
   "execution_count": 28,
   "id": "10a393d4",
   "metadata": {},
   "outputs": [
    {
     "data": {
      "text/html": [
       "<style>\n",
       ".list-inline {list-style: none; margin:0; padding: 0}\n",
       ".list-inline>li {display: inline-block}\n",
       ".list-inline>li:not(:last-child)::after {content: \"\\00b7\"; padding: 0 .5ex}\n",
       "</style>\n",
       "<ol class=list-inline><li>-4.21472409418394</li><li>-0.703069875096521</li><li>2.6089707840874</li><li>-7.03022454504802</li><li>0.777985337620505</li><li>-0.474880378021124</li><li>3.18332993066584</li><li>-0.161673579748103</li><li>-4.07557286169235</li><li>-1.5195845464267</li></ol>\n"
      ],
      "text/latex": [
       "\\begin{enumerate*}\n",
       "\\item -4.21472409418394\n",
       "\\item -0.703069875096521\n",
       "\\item 2.6089707840874\n",
       "\\item -7.03022454504802\n",
       "\\item 0.777985337620505\n",
       "\\item -0.474880378021124\n",
       "\\item 3.18332993066584\n",
       "\\item -0.161673579748103\n",
       "\\item -4.07557286169235\n",
       "\\item -1.5195845464267\n",
       "\\end{enumerate*}\n"
      ],
      "text/markdown": [
       "1. -4.21472409418394\n",
       "2. -0.703069875096521\n",
       "3. 2.6089707840874\n",
       "4. -7.03022454504802\n",
       "5. 0.777985337620505\n",
       "6. -0.474880378021124\n",
       "7. 3.18332993066584\n",
       "8. -0.161673579748103\n",
       "9. -4.07557286169235\n",
       "10. -1.5195845464267\n",
       "\n",
       "\n"
      ],
      "text/plain": [
       " [1] -4.2147241 -0.7030699  2.6089708 -7.0302245  0.7779853 -0.4748804\n",
       " [7]  3.1833299 -0.1616736 -4.0755729 -1.5195845"
      ]
     },
     "metadata": {},
     "output_type": "display_data"
    },
    {
     "data": {
      "text/html": [
       "<style>\n",
       ".list-inline {list-style: none; margin:0; padding: 0}\n",
       ".list-inline>li {display: inline-block}\n",
       ".list-inline>li:not(:last-child)::after {content: \"\\00b7\"; padding: 0 .5ex}\n",
       "</style>\n",
       "<ol class=list-inline><li>0.0445680137875917</li><li>0.362380354819445</li><li>-0.123338512251112</li><li>0.105128672158853</li><li>0.0125069673474023</li><li>-0.271868211423205</li><li>-0.00924898235531484</li><li>-0.356041540497366</li><li>0.369794951482059</li><li>-0.363742223233565</li><li>0.00970851953472533</li><li>-0.329828326988124</li><li>-0.418330575429468</li><li>0.350265145749585</li><li>0.135050937346762</li><li>-0.288188957676548</li><li>0.0035076708758008</li><li>0.0369260837338036</li><li>-0.373798620710687</li><li>-0.0563957490549387</li></ol>\n"
      ],
      "text/latex": [
       "\\begin{enumerate*}\n",
       "\\item 0.0445680137875917\n",
       "\\item 0.362380354819445\n",
       "\\item -0.123338512251112\n",
       "\\item 0.105128672158853\n",
       "\\item 0.0125069673474023\n",
       "\\item -0.271868211423205\n",
       "\\item -0.00924898235531484\n",
       "\\item -0.356041540497366\n",
       "\\item 0.369794951482059\n",
       "\\item -0.363742223233565\n",
       "\\item 0.00970851953472533\n",
       "\\item -0.329828326988124\n",
       "\\item -0.418330575429468\n",
       "\\item 0.350265145749585\n",
       "\\item 0.135050937346762\n",
       "\\item -0.288188957676548\n",
       "\\item 0.0035076708758008\n",
       "\\item 0.0369260837338036\n",
       "\\item -0.373798620710687\n",
       "\\item -0.0563957490549387\n",
       "\\end{enumerate*}\n"
      ],
      "text/markdown": [
       "1. 0.0445680137875917\n",
       "2. 0.362380354819445\n",
       "3. -0.123338512251112\n",
       "4. 0.105128672158853\n",
       "5. 0.0125069673474023\n",
       "6. -0.271868211423205\n",
       "7. -0.00924898235531484\n",
       "8. -0.356041540497366\n",
       "9. 0.369794951482059\n",
       "10. -0.363742223233565\n",
       "11. 0.00970851953472533\n",
       "12. -0.329828326988124\n",
       "13. -0.418330575429468\n",
       "14. 0.350265145749585\n",
       "15. 0.135050937346762\n",
       "16. -0.288188957676548\n",
       "17. 0.0035076708758008\n",
       "18. 0.0369260837338036\n",
       "19. -0.373798620710687\n",
       "20. -0.0563957490549387\n",
       "\n",
       "\n"
      ],
      "text/plain": [
       " [1]  0.044568014  0.362380355 -0.123338512  0.105128672  0.012506967\n",
       " [6] -0.271868211 -0.009248982 -0.356041540  0.369794951 -0.363742223\n",
       "[11]  0.009708520 -0.329828327 -0.418330575  0.350265146  0.135050937\n",
       "[16] -0.288188958  0.003507671  0.036926084 -0.373798621 -0.056395749"
      ]
     },
     "metadata": {},
     "output_type": "display_data"
    }
   ],
   "source": [
    "x <- matrix(rnorm(200), 20, 10)\n",
    "\n",
    "# calculating the sum on each column\n",
    "apply(x, 2, sum)\n",
    "\n",
    "# calculating the mean on each row \n",
    "apply(x, 1, mean)"
   ]
  },
  {
   "cell_type": "markdown",
   "id": "b3c3cdd5",
   "metadata": {},
   "source": [
    "### <u>Column/Row sums and means</u>\n",
    "\n",
    "For sums and means of matrix dimensions, we have some shortcuts :\n",
    "\n",
    "* **`rowSums(x)` = apply(x,1, sum)**\n",
    "* **`colSums(x)` = apply(x,2, sum)**\n",
    "* **`rowMeans(x)` = apply(x,1, mean)**\n",
    "* **`colMeans(x)` = apply(x,2, mean)**"
   ]
  },
  {
   "cell_type": "code",
   "execution_count": 30,
   "id": "17cc3cfe",
   "metadata": {},
   "outputs": [
    {
     "data": {
      "text/html": [
       "TRUE"
      ],
      "text/latex": [
       "TRUE"
      ],
      "text/markdown": [
       "TRUE"
      ],
      "text/plain": [
       "[1] TRUE"
      ]
     },
     "metadata": {},
     "output_type": "display_data"
    }
   ],
   "source": [
    "any(colMeans(x) == apply(x, 2, mean))"
   ]
  },
  {
   "cell_type": "markdown",
   "id": "e5995f22",
   "metadata": {},
   "source": [
    "The shortcut functions are **much faster,** but we won't notice unless we're using a large matrix :"
   ]
  },
  {
   "cell_type": "code",
   "execution_count": 31,
   "id": "6ad814c4",
   "metadata": {},
   "outputs": [],
   "source": [
    "# 'quantile' function has a 'probs' argument\n",
    "?quantile"
   ]
  },
  {
   "cell_type": "code",
   "execution_count": 32,
   "id": "479e316e",
   "metadata": {},
   "outputs": [
    {
     "data": {
      "text/html": [
       "<table class=\"dataframe\">\n",
       "<caption>A matrix: 2 × 20 of type dbl</caption>\n",
       "<tbody>\n",
       "\t<tr><th scope=row>25%</th><td>-0.3385340</td><td>-0.3744593</td><td>-0.5283192</td><td>-0.6928169</td><td>-0.2042281</td><td>0.1984822</td><td>-0.5126186</td><td>-0.4618613</td><td>-1.3534060</td><td>-0.7296686</td><td>0.2644082</td><td>-0.6629291</td><td>-1.3623257</td><td>-0.5432091</td><td>-0.490724</td><td>-0.03983191</td><td>-0.85293575</td><td>-0.3820907</td><td>-1.0131875</td><td>-0.6061908</td></tr>\n",
       "\t<tr><th scope=row>75%</th><td> 0.8322011</td><td> 0.7008351</td><td> 0.7148365</td><td>-0.1088165</td><td> 0.3553744</td><td>0.6946110</td><td> 0.5412450</td><td> 0.8601244</td><td> 0.4004479</td><td> 0.2851752</td><td>0.7095748</td><td> 0.6125622</td><td> 0.6963626</td><td> 0.3183805</td><td> 0.196882</td><td> 0.42621824</td><td> 0.01629899</td><td> 1.2235809</td><td> 0.5474819</td><td> 0.1985025</td></tr>\n",
       "</tbody>\n",
       "</table>\n"
      ],
      "text/latex": [
       "A matrix: 2 × 20 of type dbl\n",
       "\\begin{tabular}{r|llllllllllllllllllll}\n",
       "\t25\\% & -0.3385340 & -0.3744593 & -0.5283192 & -0.6928169 & -0.2042281 & 0.1984822 & -0.5126186 & -0.4618613 & -1.3534060 & -0.7296686 & 0.2644082 & -0.6629291 & -1.3623257 & -0.5432091 & -0.490724 & -0.03983191 & -0.85293575 & -0.3820907 & -1.0131875 & -0.6061908\\\\\n",
       "\t75\\% &  0.8322011 &  0.7008351 &  0.7148365 & -0.1088165 &  0.3553744 & 0.6946110 &  0.5412450 &  0.8601244 &  0.4004479 &  0.2851752 & 0.7095748 &  0.6125622 &  0.6963626 &  0.3183805 &  0.196882 &  0.42621824 &  0.01629899 &  1.2235809 &  0.5474819 &  0.1985025\\\\\n",
       "\\end{tabular}\n"
      ],
      "text/markdown": [
       "\n",
       "A matrix: 2 × 20 of type dbl\n",
       "\n",
       "| 25% | -0.3385340 | -0.3744593 | -0.5283192 | -0.6928169 | -0.2042281 | 0.1984822 | -0.5126186 | -0.4618613 | -1.3534060 | -0.7296686 | 0.2644082 | -0.6629291 | -1.3623257 | -0.5432091 | -0.490724 | -0.03983191 | -0.85293575 | -0.3820907 | -1.0131875 | -0.6061908 |\n",
       "| 75% |  0.8322011 |  0.7008351 |  0.7148365 | -0.1088165 |  0.3553744 | 0.6946110 |  0.5412450 |  0.8601244 |  0.4004479 |  0.2851752 | 0.7095748 |  0.6125622 |  0.6963626 |  0.3183805 |  0.196882 |  0.42621824 |  0.01629899 |  1.2235809 |  0.5474819 |  0.1985025 |\n",
       "\n"
      ],
      "text/plain": [
       "    [,1]       [,2]       [,3]       [,4]       [,5]       [,6]      [,7]      \n",
       "25% -0.3385340 -0.3744593 -0.5283192 -0.6928169 -0.2042281 0.1984822 -0.5126186\n",
       "75%  0.8322011  0.7008351  0.7148365 -0.1088165  0.3553744 0.6946110  0.5412450\n",
       "    [,8]       [,9]       [,10]      [,11]     [,12]      [,13]      [,14]     \n",
       "25% -0.4618613 -1.3534060 -0.7296686 0.2644082 -0.6629291 -1.3623257 -0.5432091\n",
       "75%  0.8601244  0.4004479  0.2851752 0.7095748  0.6125622  0.6963626  0.3183805\n",
       "    [,15]     [,16]       [,17]       [,18]      [,19]      [,20]     \n",
       "25% -0.490724 -0.03983191 -0.85293575 -0.3820907 -1.0131875 -0.6061908\n",
       "75%  0.196882  0.42621824  0.01629899  1.2235809  0.5474819  0.1985025"
      ]
     },
     "metadata": {},
     "output_type": "display_data"
    }
   ],
   "source": [
    "# How to use the additional 'probs' argument in apply\n",
    "x <- matrix(rnorm(200), 20,10)\n",
    "apply(x, 1, quantile, probs = c(0.25,0.75))"
   ]
  },
  {
   "cell_type": "markdown",
   "id": "a431060e",
   "metadata": {},
   "source": [
    "This function goes through each row of the matrix x, and for each row it calculates the $25$ and $75$ percentile, so for each row there's going to be 2 numbers that are returned, so `apply` will create a matrix that has 2 rows and the number of columns is equal to the number of rows in this matrix (20 in this example)."
   ]
  },
  {
   "cell_type": "markdown",
   "id": "e8a1f822",
   "metadata": {},
   "source": [
    "### <u>Average matrix in an array</u>"
   ]
  },
  {
   "cell_type": "code",
   "execution_count": 43,
   "id": "b49a2f95",
   "metadata": {},
   "outputs": [
    {
     "data": {
      "text/html": [
       "<style>\n",
       ".list-inline {list-style: none; margin:0; padding: 0}\n",
       ".list-inline>li {display: inline-block}\n",
       ".list-inline>li:not(:last-child)::after {content: \"\\00b7\"; padding: 0 .5ex}\n",
       "</style>\n",
       "<ol class=list-inline><li>-0.184367769940988</li><li>-0.482213958485391</li><li>-1.28429627250007</li><li>-0.862720919961217</li><li>0.17425802647961</li><li>0.564904364566655</li><li>0.913726449944263</li><li>1.59966575053504</li><li>-0.332132584845099</li><li>-1.10080553259343</li><li>-0.621358710056533</li><li>-0.0646974686948924</li><li>0.167843850296524</li><li>1.24118998763667</li><li>0.124577882624654</li><li>-0.0292169338358663</li><li>1.94048414477288</li><li>-0.0504522696289934</li><li>1.0117661060007</li><li>2.0482540154319</li><li>0.249392188699699</li><li>0.471994500837177</li><li>2.34173998826989</li><li>0.783082888844618</li><li>-1.30531996697788</li><li>1.35044294648286</li><li>0.707905066787169</li><li>1.18581763351469</li><li>0.00611373301340513</li><li>-0.087305359942016</li><li>1.54930148578392</li><li>1.08048512882644</li><li>-0.673682045624697</li><li>1.25680380616988</li><li>-0.235744960725856</li><li>0.403528644739927</li><li>-1.00032226160254</li><li>-1.21088126473552</li><li>1.56273222314674</li><li>-0.603209135840091</li></ol>\n"
      ],
      "text/latex": [
       "\\begin{enumerate*}\n",
       "\\item -0.184367769940988\n",
       "\\item -0.482213958485391\n",
       "\\item -1.28429627250007\n",
       "\\item -0.862720919961217\n",
       "\\item 0.17425802647961\n",
       "\\item 0.564904364566655\n",
       "\\item 0.913726449944263\n",
       "\\item 1.59966575053504\n",
       "\\item -0.332132584845099\n",
       "\\item -1.10080553259343\n",
       "\\item -0.621358710056533\n",
       "\\item -0.0646974686948924\n",
       "\\item 0.167843850296524\n",
       "\\item 1.24118998763667\n",
       "\\item 0.124577882624654\n",
       "\\item -0.0292169338358663\n",
       "\\item 1.94048414477288\n",
       "\\item -0.0504522696289934\n",
       "\\item 1.0117661060007\n",
       "\\item 2.0482540154319\n",
       "\\item 0.249392188699699\n",
       "\\item 0.471994500837177\n",
       "\\item 2.34173998826989\n",
       "\\item 0.783082888844618\n",
       "\\item -1.30531996697788\n",
       "\\item 1.35044294648286\n",
       "\\item 0.707905066787169\n",
       "\\item 1.18581763351469\n",
       "\\item 0.00611373301340513\n",
       "\\item -0.087305359942016\n",
       "\\item 1.54930148578392\n",
       "\\item 1.08048512882644\n",
       "\\item -0.673682045624697\n",
       "\\item 1.25680380616988\n",
       "\\item -0.235744960725856\n",
       "\\item 0.403528644739927\n",
       "\\item -1.00032226160254\n",
       "\\item -1.21088126473552\n",
       "\\item 1.56273222314674\n",
       "\\item -0.603209135840091\n",
       "\\end{enumerate*}\n"
      ],
      "text/markdown": [
       "1. -0.184367769940988\n",
       "2. -0.482213958485391\n",
       "3. -1.28429627250007\n",
       "4. -0.862720919961217\n",
       "5. 0.17425802647961\n",
       "6. 0.564904364566655\n",
       "7. 0.913726449944263\n",
       "8. 1.59966575053504\n",
       "9. -0.332132584845099\n",
       "10. -1.10080553259343\n",
       "11. -0.621358710056533\n",
       "12. -0.0646974686948924\n",
       "13. 0.167843850296524\n",
       "14. 1.24118998763667\n",
       "15. 0.124577882624654\n",
       "16. -0.0292169338358663\n",
       "17. 1.94048414477288\n",
       "18. -0.0504522696289934\n",
       "19. 1.0117661060007\n",
       "20. 2.0482540154319\n",
       "21. 0.249392188699699\n",
       "22. 0.471994500837177\n",
       "23. 2.34173998826989\n",
       "24. 0.783082888844618\n",
       "25. -1.30531996697788\n",
       "26. 1.35044294648286\n",
       "27. 0.707905066787169\n",
       "28. 1.18581763351469\n",
       "29. 0.00611373301340513\n",
       "30. -0.087305359942016\n",
       "31. 1.54930148578392\n",
       "32. 1.08048512882644\n",
       "33. -0.673682045624697\n",
       "34. 1.25680380616988\n",
       "35. -0.235744960725856\n",
       "36. 0.403528644739927\n",
       "37. -1.00032226160254\n",
       "38. -1.21088126473552\n",
       "39. 1.56273222314674\n",
       "40. -0.603209135840091\n",
       "\n",
       "\n"
      ],
      "text/plain": [
       ", , 1\n",
       "\n",
       "           [,1]       [,2]\n",
       "[1,] -0.1843678 -1.2842963\n",
       "[2,] -0.4822140 -0.8627209\n",
       "\n",
       ", , 2\n",
       "\n",
       "          [,1]      [,2]\n",
       "[1,] 0.1742580 0.9137264\n",
       "[2,] 0.5649044 1.5996658\n",
       "\n",
       ", , 3\n",
       "\n",
       "           [,1]        [,2]\n",
       "[1,] -0.3321326 -0.62135871\n",
       "[2,] -1.1008055 -0.06469747\n",
       "\n",
       ", , 4\n",
       "\n",
       "          [,1]        [,2]\n",
       "[1,] 0.1678439  0.12457788\n",
       "[2,] 1.2411900 -0.02921693\n",
       "\n",
       ", , 5\n",
       "\n",
       "            [,1]     [,2]\n",
       "[1,]  1.94048414 1.011766\n",
       "[2,] -0.05045227 2.048254\n",
       "\n",
       ", , 6\n",
       "\n",
       "          [,1]      [,2]\n",
       "[1,] 0.2493922 2.3417400\n",
       "[2,] 0.4719945 0.7830829\n",
       "\n",
       ", , 7\n",
       "\n",
       "          [,1]      [,2]\n",
       "[1,] -1.305320 0.7079051\n",
       "[2,]  1.350443 1.1858176\n",
       "\n",
       ", , 8\n",
       "\n",
       "             [,1]     [,2]\n",
       "[1,]  0.006113733 1.549301\n",
       "[2,] -0.087305360 1.080485\n",
       "\n",
       ", , 9\n",
       "\n",
       "          [,1]       [,2]\n",
       "[1,] -0.673682 -0.2357450\n",
       "[2,]  1.256804  0.4035286\n",
       "\n",
       ", , 10\n",
       "\n",
       "          [,1]       [,2]\n",
       "[1,] -1.000322  1.5627322\n",
       "[2,] -1.210881 -0.6032091\n"
      ]
     },
     "metadata": {},
     "output_type": "display_data"
    },
    {
     "data": {
      "text/html": [
       "'array'"
      ],
      "text/latex": [
       "'array'"
      ],
      "text/markdown": [
       "'array'"
      ],
      "text/plain": [
       "[1] \"array\""
      ]
     },
     "metadata": {},
     "output_type": "display_data"
    },
    {
     "data": {
      "text/html": [
       "<style>\n",
       ".list-inline {list-style: none; margin:0; padding: 0}\n",
       ".list-inline>li {display: inline-block}\n",
       ".list-inline>li:not(:last-child)::after {content: \"\\00b7\"; padding: 0 .5ex}\n",
       "</style>\n",
       "<ol class=list-inline><li>2</li><li>2</li><li>10</li></ol>\n"
      ],
      "text/latex": [
       "\\begin{enumerate*}\n",
       "\\item 2\n",
       "\\item 2\n",
       "\\item 10\n",
       "\\end{enumerate*}\n"
      ],
      "text/markdown": [
       "1. 2\n",
       "2. 2\n",
       "3. 10\n",
       "\n",
       "\n"
      ],
      "text/plain": [
       "[1]  2  2 10"
      ]
     },
     "metadata": {},
     "output_type": "display_data"
    }
   ],
   "source": [
    "# Creating a 2x2x10 array\n",
    "(a <- array(rnorm(2*2*10), c(2,2,10)))\n",
    "class(a <- array(rnorm(2*2*10), c(2,2,10)))\n",
    "dim(a <- array(rnorm(2*2*10), c(2,2,10)))"
   ]
  },
  {
   "cell_type": "code",
   "execution_count": 44,
   "id": "cc5b7ddd",
   "metadata": {},
   "outputs": [
    {
     "data": {
      "text/html": [
       "<table class=\"dataframe\">\n",
       "<caption>A matrix: 2 × 2 of type dbl</caption>\n",
       "<tbody>\n",
       "\t<tr><td>0.4852345</td><td>-0.20791083</td></tr>\n",
       "\t<tr><td>0.1237341</td><td>-0.01088757</td></tr>\n",
       "</tbody>\n",
       "</table>\n"
      ],
      "text/latex": [
       "A matrix: 2 × 2 of type dbl\n",
       "\\begin{tabular}{ll}\n",
       "\t 0.4852345 & -0.20791083\\\\\n",
       "\t 0.1237341 & -0.01088757\\\\\n",
       "\\end{tabular}\n"
      ],
      "text/markdown": [
       "\n",
       "A matrix: 2 × 2 of type dbl\n",
       "\n",
       "| 0.4852345 | -0.20791083 |\n",
       "| 0.1237341 | -0.01088757 |\n",
       "\n"
      ],
      "text/plain": [
       "     [,1]      [,2]       \n",
       "[1,] 0.4852345 -0.20791083\n",
       "[2,] 0.1237341 -0.01088757"
      ]
     },
     "metadata": {},
     "output_type": "display_data"
    }
   ],
   "source": [
    "# calculating the average in each 2x2 array in 'a' :\n",
    "apply(a, c(1,2), mean)  # 1 for the 1st dimension, 2 for the 2nd dimension"
   ]
  },
  {
   "cell_type": "markdown",
   "id": "0923e362",
   "metadata": {},
   "source": [
    "We can think of this as they're being a bunch of $2\\times 2$ matrices stacked together, and the idea is we want to take the average of those $2\\times 2$ matrices :\n",
    "\n",
    "<center>\n",
    "    <div>\n",
    "        <img src=\"fig1.jpg\" width=\"500\"/>\n",
    "    </div>\n",
    "</center>\n",
    "\n",
    "\n",
    "So the average of the $2\\times 2$ matrix is going to another $2\\times 2$ matrix which is the mean. this also equivalent to :"
   ]
  },
  {
   "cell_type": "code",
   "execution_count": 48,
   "id": "06cbaf97",
   "metadata": {},
   "outputs": [
    {
     "data": {
      "text/html": [
       "<table class=\"dataframe\">\n",
       "<caption>A matrix: 2 × 2 of type dbl</caption>\n",
       "<tbody>\n",
       "\t<tr><td>0.4852345</td><td>-0.20791083</td></tr>\n",
       "\t<tr><td>0.1237341</td><td>-0.01088757</td></tr>\n",
       "</tbody>\n",
       "</table>\n"
      ],
      "text/latex": [
       "A matrix: 2 × 2 of type dbl\n",
       "\\begin{tabular}{ll}\n",
       "\t 0.4852345 & -0.20791083\\\\\n",
       "\t 0.1237341 & -0.01088757\\\\\n",
       "\\end{tabular}\n"
      ],
      "text/markdown": [
       "\n",
       "A matrix: 2 × 2 of type dbl\n",
       "\n",
       "| 0.4852345 | -0.20791083 |\n",
       "| 0.1237341 | -0.01088757 |\n",
       "\n"
      ],
      "text/plain": [
       "     [,1]      [,2]       \n",
       "[1,] 0.4852345 -0.20791083\n",
       "[2,] 0.1237341 -0.01088757"
      ]
     },
     "metadata": {},
     "output_type": "display_data"
    }
   ],
   "source": [
    "rowMeans(a, dim = 2)"
   ]
  },
  {
   "cell_type": "markdown",
   "id": "0ab15840",
   "metadata": {},
   "source": [
    "# 4) `mapply` function\n",
    "\n",
    "**`mapply()`** is a loop function, it's a multivariate version of `lapply` and `sapply`, and the idea is it **applies a function in parrallel over a set of arguments.**\n",
    "\n",
    "One thing we may have noticed is `lapply`, `sapply`, `tapply` (later) is that **they only apply a function over the elements of a single object.**"
   ]
  },
  {
   "cell_type": "code",
   "execution_count": 50,
   "id": "8990eccf",
   "metadata": {},
   "outputs": [
    {
     "name": "stdout",
     "output_type": "stream",
     "text": [
      "function (FUN, ..., MoreArgs = NULL, SIMPLIFY = TRUE, USE.NAMES = TRUE)  \n"
     ]
    }
   ],
   "source": [
    "str(mapply)"
   ]
  },
  {
   "cell_type": "markdown",
   "id": "696f372a",
   "metadata": {},
   "source": [
    "* `FUN` is a function to be applied\n",
    "* `...` contains arguments to apply over\n",
    "* `MoreArgs` is a list of other arguments to `FUN`\n",
    "* `SIMPLIFY` indicates whether the result should be simplified"
   ]
  },
  {
   "cell_type": "markdown",
   "id": "38b96c93",
   "metadata": {},
   "source": [
    "* **Example :** instead of writing :"
   ]
  },
  {
   "cell_type": "code",
   "execution_count": 51,
   "id": "488d8483",
   "metadata": {},
   "outputs": [
    {
     "data": {
      "text/html": [
       "<ol>\n",
       "\t<li><style>\n",
       ".list-inline {list-style: none; margin:0; padding: 0}\n",
       ".list-inline>li {display: inline-block}\n",
       ".list-inline>li:not(:last-child)::after {content: \"\\00b7\"; padding: 0 .5ex}\n",
       "</style>\n",
       "<ol class=list-inline><li>1</li><li>1</li><li>1</li><li>1</li></ol>\n",
       "</li>\n",
       "\t<li><style>\n",
       ".list-inline {list-style: none; margin:0; padding: 0}\n",
       ".list-inline>li {display: inline-block}\n",
       ".list-inline>li:not(:last-child)::after {content: \"\\00b7\"; padding: 0 .5ex}\n",
       "</style>\n",
       "<ol class=list-inline><li>2</li><li>2</li><li>2</li></ol>\n",
       "</li>\n",
       "\t<li><style>\n",
       ".list-inline {list-style: none; margin:0; padding: 0}\n",
       ".list-inline>li {display: inline-block}\n",
       ".list-inline>li:not(:last-child)::after {content: \"\\00b7\"; padding: 0 .5ex}\n",
       "</style>\n",
       "<ol class=list-inline><li>3</li><li>3</li></ol>\n",
       "</li>\n",
       "\t<li>4</li>\n",
       "</ol>\n"
      ],
      "text/latex": [
       "\\begin{enumerate}\n",
       "\\item \\begin{enumerate*}\n",
       "\\item 1\n",
       "\\item 1\n",
       "\\item 1\n",
       "\\item 1\n",
       "\\end{enumerate*}\n",
       "\n",
       "\\item \\begin{enumerate*}\n",
       "\\item 2\n",
       "\\item 2\n",
       "\\item 2\n",
       "\\end{enumerate*}\n",
       "\n",
       "\\item \\begin{enumerate*}\n",
       "\\item 3\n",
       "\\item 3\n",
       "\\end{enumerate*}\n",
       "\n",
       "\\item 4\n",
       "\\end{enumerate}\n"
      ],
      "text/markdown": [
       "1. 1. 1\n",
       "2. 1\n",
       "3. 1\n",
       "4. 1\n",
       "\n",
       "\n",
       "\n",
       "2. 1. 2\n",
       "2. 2\n",
       "3. 2\n",
       "\n",
       "\n",
       "\n",
       "3. 1. 3\n",
       "2. 3\n",
       "\n",
       "\n",
       "\n",
       "4. 4\n",
       "\n",
       "\n"
      ],
      "text/plain": [
       "[[1]]\n",
       "[1] 1 1 1 1\n",
       "\n",
       "[[2]]\n",
       "[1] 2 2 2\n",
       "\n",
       "[[3]]\n",
       "[1] 3 3\n",
       "\n",
       "[[4]]\n",
       "[1] 4\n"
      ]
     },
     "metadata": {},
     "output_type": "display_data"
    }
   ],
   "source": [
    "list(rep(1,4), rep(2,3), rep(3,2), rep(4,1))"
   ]
  },
  {
   "cell_type": "markdown",
   "id": "95b0049b",
   "metadata": {},
   "source": [
    "We write :"
   ]
  },
  {
   "cell_type": "code",
   "execution_count": 52,
   "id": "93ae4fb2",
   "metadata": {},
   "outputs": [
    {
     "data": {
      "text/html": [
       "<ol>\n",
       "\t<li><style>\n",
       ".list-inline {list-style: none; margin:0; padding: 0}\n",
       ".list-inline>li {display: inline-block}\n",
       ".list-inline>li:not(:last-child)::after {content: \"\\00b7\"; padding: 0 .5ex}\n",
       "</style>\n",
       "<ol class=list-inline><li>1</li><li>1</li><li>1</li><li>1</li></ol>\n",
       "</li>\n",
       "\t<li><style>\n",
       ".list-inline {list-style: none; margin:0; padding: 0}\n",
       ".list-inline>li {display: inline-block}\n",
       ".list-inline>li:not(:last-child)::after {content: \"\\00b7\"; padding: 0 .5ex}\n",
       "</style>\n",
       "<ol class=list-inline><li>2</li><li>2</li><li>2</li></ol>\n",
       "</li>\n",
       "\t<li><style>\n",
       ".list-inline {list-style: none; margin:0; padding: 0}\n",
       ".list-inline>li {display: inline-block}\n",
       ".list-inline>li:not(:last-child)::after {content: \"\\00b7\"; padding: 0 .5ex}\n",
       "</style>\n",
       "<ol class=list-inline><li>3</li><li>3</li></ol>\n",
       "</li>\n",
       "\t<li>4</li>\n",
       "</ol>\n"
      ],
      "text/latex": [
       "\\begin{enumerate}\n",
       "\\item \\begin{enumerate*}\n",
       "\\item 1\n",
       "\\item 1\n",
       "\\item 1\n",
       "\\item 1\n",
       "\\end{enumerate*}\n",
       "\n",
       "\\item \\begin{enumerate*}\n",
       "\\item 2\n",
       "\\item 2\n",
       "\\item 2\n",
       "\\end{enumerate*}\n",
       "\n",
       "\\item \\begin{enumerate*}\n",
       "\\item 3\n",
       "\\item 3\n",
       "\\end{enumerate*}\n",
       "\n",
       "\\item 4\n",
       "\\end{enumerate}\n"
      ],
      "text/markdown": [
       "1. 1. 1\n",
       "2. 1\n",
       "3. 1\n",
       "4. 1\n",
       "\n",
       "\n",
       "\n",
       "2. 1. 2\n",
       "2. 2\n",
       "3. 2\n",
       "\n",
       "\n",
       "\n",
       "3. 1. 3\n",
       "2. 3\n",
       "\n",
       "\n",
       "\n",
       "4. 4\n",
       "\n",
       "\n"
      ],
      "text/plain": [
       "[[1]]\n",
       "[1] 1 1 1 1\n",
       "\n",
       "[[2]]\n",
       "[1] 2 2 2\n",
       "\n",
       "[[3]]\n",
       "[1] 3 3\n",
       "\n",
       "[[4]]\n",
       "[1] 4\n"
      ]
     },
     "metadata": {},
     "output_type": "display_data"
    }
   ],
   "source": [
    "mapply(rep, 1:4, 4:1)"
   ]
  },
  {
   "cell_type": "code",
   "execution_count": 53,
   "id": "5ce3403d",
   "metadata": {},
   "outputs": [
    {
     "data": {
      "text/html": [
       "<style>\n",
       ".list-inline {list-style: none; margin:0; padding: 0}\n",
       ".list-inline>li {display: inline-block}\n",
       ".list-inline>li:not(:last-child)::after {content: \"\\00b7\"; padding: 0 .5ex}\n",
       "</style>\n",
       "<ol class=list-inline><li>-3.31825639375976</li><li>1.26220929938933</li><li>-0.630189532086796</li><li>3.46062531458532</li><li>2.39223222735342</li></ol>\n"
      ],
      "text/latex": [
       "\\begin{enumerate*}\n",
       "\\item -3.31825639375976\n",
       "\\item 1.26220929938933\n",
       "\\item -0.630189532086796\n",
       "\\item 3.46062531458532\n",
       "\\item 2.39223222735342\n",
       "\\end{enumerate*}\n"
      ],
      "text/markdown": [
       "1. -3.31825639375976\n",
       "2. 1.26220929938933\n",
       "3. -0.630189532086796\n",
       "4. 3.46062531458532\n",
       "5. 2.39223222735342\n",
       "\n",
       "\n"
      ],
      "text/plain": [
       "[1] -3.3182564  1.2622093 -0.6301895  3.4606253  2.3922322"
      ]
     },
     "metadata": {},
     "output_type": "display_data"
    }
   ],
   "source": [
    "noise <- function(n, mean, sd){\n",
    "    rnorm(n, mean, sd)\n",
    "}\n",
    "\n",
    "noise(5,1,2)"
   ]
  },
  {
   "cell_type": "markdown",
   "id": "ef87c8d6",
   "metadata": {},
   "source": [
    "But this function doesn't work correctly if we passed a vector of arguments."
   ]
  },
  {
   "cell_type": "code",
   "execution_count": 54,
   "id": "0933f67c",
   "metadata": {},
   "outputs": [
    {
     "data": {
      "text/html": [
       "<style>\n",
       ".list-inline {list-style: none; margin:0; padding: 0}\n",
       ".list-inline>li {display: inline-block}\n",
       ".list-inline>li:not(:last-child)::after {content: \"\\00b7\"; padding: 0 .5ex}\n",
       "</style>\n",
       "<ol class=list-inline><li>0.500101553318869</li><li>2.97825308446493</li><li>3.89496585051726</li><li>0.130232944409418</li><li>2.73356556492989</li></ol>\n"
      ],
      "text/latex": [
       "\\begin{enumerate*}\n",
       "\\item 0.500101553318869\n",
       "\\item 2.97825308446493\n",
       "\\item 3.89496585051726\n",
       "\\item 0.130232944409418\n",
       "\\item 2.73356556492989\n",
       "\\end{enumerate*}\n"
      ],
      "text/markdown": [
       "1. 0.500101553318869\n",
       "2. 2.97825308446493\n",
       "3. 3.89496585051726\n",
       "4. 0.130232944409418\n",
       "5. 2.73356556492989\n",
       "\n",
       "\n"
      ],
      "text/plain": [
       "[1] 0.5001016 2.9782531 3.8949659 0.1302329 2.7335656"
      ]
     },
     "metadata": {},
     "output_type": "display_data"
    }
   ],
   "source": [
    "noise(1:5, 1:5, 2)"
   ]
  },
  {
   "cell_type": "markdown",
   "id": "b21df025",
   "metadata": {},
   "source": [
    "But what we really want to happen is to have :"
   ]
  },
  {
   "cell_type": "code",
   "execution_count": 57,
   "id": "e3ac140e",
   "metadata": {},
   "outputs": [
    {
     "data": {
      "text/html": [
       "<ol>\n",
       "\t<li>4.6221450753978</li>\n",
       "\t<li><style>\n",
       ".list-inline {list-style: none; margin:0; padding: 0}\n",
       ".list-inline>li {display: inline-block}\n",
       ".list-inline>li:not(:last-child)::after {content: \"\\00b7\"; padding: 0 .5ex}\n",
       "</style>\n",
       "<ol class=list-inline><li>0.945790349315843</li><li>-0.233791484484613</li></ol>\n",
       "</li>\n",
       "\t<li><style>\n",
       ".list-inline {list-style: none; margin:0; padding: 0}\n",
       ".list-inline>li {display: inline-block}\n",
       ".list-inline>li:not(:last-child)::after {content: \"\\00b7\"; padding: 0 .5ex}\n",
       "</style>\n",
       "<ol class=list-inline><li>0.977965251603404</li><li>5.57928222317014</li><li>2.03468586494718</li></ol>\n",
       "</li>\n",
       "\t<li><style>\n",
       ".list-inline {list-style: none; margin:0; padding: 0}\n",
       ".list-inline>li {display: inline-block}\n",
       ".list-inline>li:not(:last-child)::after {content: \"\\00b7\"; padding: 0 .5ex}\n",
       "</style>\n",
       "<ol class=list-inline><li>4.12346353284177</li><li>4.81504118530988</li><li>4.9702070084422</li><li>5.97799448520167</li></ol>\n",
       "</li>\n",
       "\t<li><style>\n",
       ".list-inline {list-style: none; margin:0; padding: 0}\n",
       ".list-inline>li {display: inline-block}\n",
       ".list-inline>li:not(:last-child)::after {content: \"\\00b7\"; padding: 0 .5ex}\n",
       "</style>\n",
       "<ol class=list-inline><li>7.57768318706024</li><li>4.35553193309699</li><li>3.1240848729213</li><li>7.49665518117291</li><li>2.89984813768499</li></ol>\n",
       "</li>\n",
       "</ol>\n"
      ],
      "text/latex": [
       "\\begin{enumerate}\n",
       "\\item 4.6221450753978\n",
       "\\item \\begin{enumerate*}\n",
       "\\item 0.945790349315843\n",
       "\\item -0.233791484484613\n",
       "\\end{enumerate*}\n",
       "\n",
       "\\item \\begin{enumerate*}\n",
       "\\item 0.977965251603404\n",
       "\\item 5.57928222317014\n",
       "\\item 2.03468586494718\n",
       "\\end{enumerate*}\n",
       "\n",
       "\\item \\begin{enumerate*}\n",
       "\\item 4.12346353284177\n",
       "\\item 4.81504118530988\n",
       "\\item 4.9702070084422\n",
       "\\item 5.97799448520167\n",
       "\\end{enumerate*}\n",
       "\n",
       "\\item \\begin{enumerate*}\n",
       "\\item 7.57768318706024\n",
       "\\item 4.35553193309699\n",
       "\\item 3.1240848729213\n",
       "\\item 7.49665518117291\n",
       "\\item 2.89984813768499\n",
       "\\end{enumerate*}\n",
       "\n",
       "\\end{enumerate}\n"
      ],
      "text/markdown": [
       "1. 4.6221450753978\n",
       "2. 1. 0.945790349315843\n",
       "2. -0.233791484484613\n",
       "\n",
       "\n",
       "\n",
       "3. 1. 0.977965251603404\n",
       "2. 5.57928222317014\n",
       "3. 2.03468586494718\n",
       "\n",
       "\n",
       "\n",
       "4. 1. 4.12346353284177\n",
       "2. 4.81504118530988\n",
       "3. 4.9702070084422\n",
       "4. 5.97799448520167\n",
       "\n",
       "\n",
       "\n",
       "5. 1. 7.57768318706024\n",
       "2. 4.35553193309699\n",
       "3. 3.1240848729213\n",
       "4. 7.49665518117291\n",
       "5. 2.89984813768499\n",
       "\n",
       "\n",
       "\n",
       "\n",
       "\n"
      ],
      "text/plain": [
       "[[1]]\n",
       "[1] 4.622145\n",
       "\n",
       "[[2]]\n",
       "[1]  0.9457903 -0.2337915\n",
       "\n",
       "[[3]]\n",
       "[1] 0.9779653 5.5792822 2.0346859\n",
       "\n",
       "[[4]]\n",
       "[1] 4.123464 4.815041 4.970207 5.977994\n",
       "\n",
       "[[5]]\n",
       "[1] 7.577683 4.355532 3.124085 7.496655 2.899848\n"
      ]
     },
     "metadata": {},
     "output_type": "display_data"
    }
   ],
   "source": [
    "list(noise(1,1,2), noise(2,2,2), noise(3,3,2), noise(4,4,2), noise(5,5,2))"
   ]
  },
  {
   "cell_type": "markdown",
   "id": "0dd8c8ae",
   "metadata": {},
   "source": [
    "So using `mapply` :"
   ]
  },
  {
   "cell_type": "code",
   "execution_count": 58,
   "id": "b0aa0a7c",
   "metadata": {},
   "outputs": [
    {
     "data": {
      "text/html": [
       "<ol>\n",
       "\t<li>2.03639717297724</li>\n",
       "\t<li><style>\n",
       ".list-inline {list-style: none; margin:0; padding: 0}\n",
       ".list-inline>li {display: inline-block}\n",
       ".list-inline>li:not(:last-child)::after {content: \"\\00b7\"; padding: 0 .5ex}\n",
       "</style>\n",
       "<ol class=list-inline><li>1.39344362874407</li><li>3.85885476598598</li></ol>\n",
       "</li>\n",
       "\t<li><style>\n",
       ".list-inline {list-style: none; margin:0; padding: 0}\n",
       ".list-inline>li {display: inline-block}\n",
       ".list-inline>li:not(:last-child)::after {content: \"\\00b7\"; padding: 0 .5ex}\n",
       "</style>\n",
       "<ol class=list-inline><li>1.17749689307542</li><li>2.45423252376527</li><li>0.0109677210167116</li></ol>\n",
       "</li>\n",
       "\t<li><style>\n",
       ".list-inline {list-style: none; margin:0; padding: 0}\n",
       ".list-inline>li {display: inline-block}\n",
       ".list-inline>li:not(:last-child)::after {content: \"\\00b7\"; padding: 0 .5ex}\n",
       "</style>\n",
       "<ol class=list-inline><li>2.88326712582552</li><li>-0.143943383353887</li><li>-1.50771380444392</li><li>4.05085129652591</li></ol>\n",
       "</li>\n",
       "\t<li><style>\n",
       ".list-inline {list-style: none; margin:0; padding: 0}\n",
       ".list-inline>li {display: inline-block}\n",
       ".list-inline>li:not(:last-child)::after {content: \"\\00b7\"; padding: 0 .5ex}\n",
       "</style>\n",
       "<ol class=list-inline><li>7.84991752829855</li><li>6.16146562425044</li><li>3.68190005863322</li><li>6.86369631886507</li><li>1.37170865700952</li></ol>\n",
       "</li>\n",
       "</ol>\n"
      ],
      "text/latex": [
       "\\begin{enumerate}\n",
       "\\item 2.03639717297724\n",
       "\\item \\begin{enumerate*}\n",
       "\\item 1.39344362874407\n",
       "\\item 3.85885476598598\n",
       "\\end{enumerate*}\n",
       "\n",
       "\\item \\begin{enumerate*}\n",
       "\\item 1.17749689307542\n",
       "\\item 2.45423252376527\n",
       "\\item 0.0109677210167116\n",
       "\\end{enumerate*}\n",
       "\n",
       "\\item \\begin{enumerate*}\n",
       "\\item 2.88326712582552\n",
       "\\item -0.143943383353887\n",
       "\\item -1.50771380444392\n",
       "\\item 4.05085129652591\n",
       "\\end{enumerate*}\n",
       "\n",
       "\\item \\begin{enumerate*}\n",
       "\\item 7.84991752829855\n",
       "\\item 6.16146562425044\n",
       "\\item 3.68190005863322\n",
       "\\item 6.86369631886507\n",
       "\\item 1.37170865700952\n",
       "\\end{enumerate*}\n",
       "\n",
       "\\end{enumerate}\n"
      ],
      "text/markdown": [
       "1. 2.03639717297724\n",
       "2. 1. 1.39344362874407\n",
       "2. 3.85885476598598\n",
       "\n",
       "\n",
       "\n",
       "3. 1. 1.17749689307542\n",
       "2. 2.45423252376527\n",
       "3. 0.0109677210167116\n",
       "\n",
       "\n",
       "\n",
       "4. 1. 2.88326712582552\n",
       "2. -0.143943383353887\n",
       "3. -1.50771380444392\n",
       "4. 4.05085129652591\n",
       "\n",
       "\n",
       "\n",
       "5. 1. 7.84991752829855\n",
       "2. 6.16146562425044\n",
       "3. 3.68190005863322\n",
       "4. 6.86369631886507\n",
       "5. 1.37170865700952\n",
       "\n",
       "\n",
       "\n",
       "\n",
       "\n"
      ],
      "text/plain": [
       "[[1]]\n",
       "[1] 2.036397\n",
       "\n",
       "[[2]]\n",
       "[1] 1.393444 3.858855\n",
       "\n",
       "[[3]]\n",
       "[1] 1.17749689 2.45423252 0.01096772\n",
       "\n",
       "[[4]]\n",
       "[1]  2.8832671 -0.1439434 -1.5077138  4.0508513\n",
       "\n",
       "[[5]]\n",
       "[1] 7.849918 6.161466 3.681900 6.863696 1.371709\n"
      ]
     },
     "metadata": {},
     "output_type": "display_data"
    }
   ],
   "source": [
    "mapply(noise, 1:5, 1:5, 2)"
   ]
  },
  {
   "cell_type": "markdown",
   "id": "32fcffb6",
   "metadata": {},
   "source": [
    "# 5) `tapply` function\n",
    "\n",
    "**`tapply()`** is used to apply a function over subsets of a vector. So the idea is : let's imagine we have a vector, a numeric vector, and there are pieces of this vector that we want to calculate the summary statistic over, we're going to have another variable or another object which identifies which element of this, of our numeric vector belongs to which group.\n",
    "\n",
    "**Example :**"
   ]
  },
  {
   "cell_type": "code",
   "execution_count": 72,
   "id": "bd8e0f72",
   "metadata": {
    "scrolled": true
   },
   "outputs": [
    {
     "data": {
      "text/html": [
       "<style>\n",
       ".list-inline {list-style: none; margin:0; padding: 0}\n",
       ".list-inline>li {display: inline-block}\n",
       ".list-inline>li:not(:last-child)::after {content: \"\\00b7\"; padding: 0 .5ex}\n",
       "</style>\n",
       "<ol class=list-inline><li>1.05537573437809</li><li>-0.649136518100571</li><li>-0.336012437289167</li><li>1.84716576035918</li><li>-1.00239484445556</li><li>-0.225726983495172</li><li>0.386042711253662</li><li>-0.657234172967371</li><li>-1.4655053038571</li><li>0.135746400439146</li><li>0.746018395293504</li><li>0.674035088857636</li><li>0.058184195542708</li><li>0.521515544271097</li><li>0.789586303988472</li><li>0.58126254985109</li><li>0.727757423883304</li><li>0.765112175839022</li><li>0.582659465260804</li><li>0.388871879549697</li><li>0.958146056704659</li><li>0.739126724000065</li><li>1.2254843344662</li><li>2.33356573458834</li><li>1.99736681903038</li><li>0.264547391398414</li><li>0.790903187385059</li><li>0.179471290280647</li><li>0.946021597430694</li><li>1.86192279582579</li></ol>\n"
      ],
      "text/latex": [
       "\\begin{enumerate*}\n",
       "\\item 1.05537573437809\n",
       "\\item -0.649136518100571\n",
       "\\item -0.336012437289167\n",
       "\\item 1.84716576035918\n",
       "\\item -1.00239484445556\n",
       "\\item -0.225726983495172\n",
       "\\item 0.386042711253662\n",
       "\\item -0.657234172967371\n",
       "\\item -1.4655053038571\n",
       "\\item 0.135746400439146\n",
       "\\item 0.746018395293504\n",
       "\\item 0.674035088857636\n",
       "\\item 0.058184195542708\n",
       "\\item 0.521515544271097\n",
       "\\item 0.789586303988472\n",
       "\\item 0.58126254985109\n",
       "\\item 0.727757423883304\n",
       "\\item 0.765112175839022\n",
       "\\item 0.582659465260804\n",
       "\\item 0.388871879549697\n",
       "\\item 0.958146056704659\n",
       "\\item 0.739126724000065\n",
       "\\item 1.2254843344662\n",
       "\\item 2.33356573458834\n",
       "\\item 1.99736681903038\n",
       "\\item 0.264547391398414\n",
       "\\item 0.790903187385059\n",
       "\\item 0.179471290280647\n",
       "\\item 0.946021597430694\n",
       "\\item 1.86192279582579\n",
       "\\end{enumerate*}\n"
      ],
      "text/markdown": [
       "1. 1.05537573437809\n",
       "2. -0.649136518100571\n",
       "3. -0.336012437289167\n",
       "4. 1.84716576035918\n",
       "5. -1.00239484445556\n",
       "6. -0.225726983495172\n",
       "7. 0.386042711253662\n",
       "8. -0.657234172967371\n",
       "9. -1.4655053038571\n",
       "10. 0.135746400439146\n",
       "11. 0.746018395293504\n",
       "12. 0.674035088857636\n",
       "13. 0.058184195542708\n",
       "14. 0.521515544271097\n",
       "15. 0.789586303988472\n",
       "16. 0.58126254985109\n",
       "17. 0.727757423883304\n",
       "18. 0.765112175839022\n",
       "19. 0.582659465260804\n",
       "20. 0.388871879549697\n",
       "21. 0.958146056704659\n",
       "22. 0.739126724000065\n",
       "23. 1.2254843344662\n",
       "24. 2.33356573458834\n",
       "25. 1.99736681903038\n",
       "26. 0.264547391398414\n",
       "27. 0.790903187385059\n",
       "28. 0.179471290280647\n",
       "29. 0.946021597430694\n",
       "30. 1.86192279582579\n",
       "\n",
       "\n"
      ],
      "text/plain": [
       " [1]  1.0553757 -0.6491365 -0.3360124  1.8471658 -1.0023948 -0.2257270\n",
       " [7]  0.3860427 -0.6572342 -1.4655053  0.1357464  0.7460184  0.6740351\n",
       "[13]  0.0581842  0.5215155  0.7895863  0.5812625  0.7277574  0.7651122\n",
       "[19]  0.5826595  0.3888719  0.9581461  0.7391267  1.2254843  2.3335657\n",
       "[25]  1.9973668  0.2645474  0.7909032  0.1794713  0.9460216  1.8619228"
      ]
     },
     "metadata": {},
     "output_type": "display_data"
    }
   ],
   "source": [
    "# 10 nbs from standard distribution N(0,1), 10 from uniform distribution, 10 from N(1,1)\n",
    "(x <- c(rnorm(10), runif(10), rnorm(10,1)))"
   ]
  },
  {
   "cell_type": "code",
   "execution_count": 92,
   "id": "63e550aa",
   "metadata": {},
   "outputs": [],
   "source": [
    "?gl"
   ]
  },
  {
   "cell_type": "code",
   "execution_count": 73,
   "id": "f7d31d74",
   "metadata": {
    "scrolled": true
   },
   "outputs": [
    {
     "data": {
      "text/html": [
       "<style>\n",
       ".list-inline {list-style: none; margin:0; padding: 0}\n",
       ".list-inline>li {display: inline-block}\n",
       ".list-inline>li:not(:last-child)::after {content: \"\\00b7\"; padding: 0 .5ex}\n",
       "</style>\n",
       "<ol class=list-inline><li>1</li><li>1</li><li>1</li><li>1</li><li>1</li><li>1</li><li>1</li><li>1</li><li>1</li><li>1</li><li>2</li><li>2</li><li>2</li><li>2</li><li>2</li><li>2</li><li>2</li><li>2</li><li>2</li><li>2</li><li>3</li><li>3</li><li>3</li><li>3</li><li>3</li><li>3</li><li>3</li><li>3</li><li>3</li><li>3</li></ol>\n",
       "\n",
       "<details>\n",
       "\t<summary style=display:list-item;cursor:pointer>\n",
       "\t\t<strong>Levels</strong>:\n",
       "\t</summary>\n",
       "\t<style>\n",
       "\t.list-inline {list-style: none; margin:0; padding: 0}\n",
       "\t.list-inline>li {display: inline-block}\n",
       "\t.list-inline>li:not(:last-child)::after {content: \"\\00b7\"; padding: 0 .5ex}\n",
       "\t</style>\n",
       "\t<ol class=list-inline><li>'1'</li><li>'2'</li><li>'3'</li></ol>\n",
       "</details>"
      ],
      "text/latex": [
       "\\begin{enumerate*}\n",
       "\\item 1\n",
       "\\item 1\n",
       "\\item 1\n",
       "\\item 1\n",
       "\\item 1\n",
       "\\item 1\n",
       "\\item 1\n",
       "\\item 1\n",
       "\\item 1\n",
       "\\item 1\n",
       "\\item 2\n",
       "\\item 2\n",
       "\\item 2\n",
       "\\item 2\n",
       "\\item 2\n",
       "\\item 2\n",
       "\\item 2\n",
       "\\item 2\n",
       "\\item 2\n",
       "\\item 2\n",
       "\\item 3\n",
       "\\item 3\n",
       "\\item 3\n",
       "\\item 3\n",
       "\\item 3\n",
       "\\item 3\n",
       "\\item 3\n",
       "\\item 3\n",
       "\\item 3\n",
       "\\item 3\n",
       "\\end{enumerate*}\n",
       "\n",
       "\\emph{Levels}: \\begin{enumerate*}\n",
       "\\item '1'\n",
       "\\item '2'\n",
       "\\item '3'\n",
       "\\end{enumerate*}\n"
      ],
      "text/markdown": [
       "1. 1\n",
       "2. 1\n",
       "3. 1\n",
       "4. 1\n",
       "5. 1\n",
       "6. 1\n",
       "7. 1\n",
       "8. 1\n",
       "9. 1\n",
       "10. 1\n",
       "11. 2\n",
       "12. 2\n",
       "13. 2\n",
       "14. 2\n",
       "15. 2\n",
       "16. 2\n",
       "17. 2\n",
       "18. 2\n",
       "19. 2\n",
       "20. 2\n",
       "21. 3\n",
       "22. 3\n",
       "23. 3\n",
       "24. 3\n",
       "25. 3\n",
       "26. 3\n",
       "27. 3\n",
       "28. 3\n",
       "29. 3\n",
       "30. 3\n",
       "\n",
       "\n",
       "\n",
       "**Levels**: 1. '1'\n",
       "2. '2'\n",
       "3. '3'\n",
       "\n",
       "\n"
      ],
      "text/plain": [
       " [1] 1 1 1 1 1 1 1 1 1 1 2 2 2 2 2 2 2 2 2 2 3 3 3 3 3 3 3 3 3 3\n",
       "Levels: 1 2 3"
      ]
     },
     "metadata": {},
     "output_type": "display_data"
    }
   ],
   "source": [
    "# generating a factor : 3 levels, each level is repeated 10 times\n",
    "f <- gl(3,10)\n",
    "f"
   ]
  },
  {
   "cell_type": "code",
   "execution_count": 74,
   "id": "926b6506",
   "metadata": {},
   "outputs": [
    {
     "data": {
      "text/html": [
       "<style>\n",
       ".dl-inline {width: auto; margin:0; padding: 0}\n",
       ".dl-inline>dt, .dl-inline>dd {float: none; width: auto; display: inline-block}\n",
       ".dl-inline>dt::after {content: \":\\0020\"; padding-right: .5ex}\n",
       ".dl-inline>dt:not(:first-of-type) {padding-left: .5ex}\n",
       "</style><dl class=dl-inline><dt>1</dt><dd>-0.0911679653734872</dd><dt>2</dt><dd>0.583500302233733</dd><dt>3</dt><dd>1.12965559311103</dd></dl>\n"
      ],
      "text/latex": [
       "\\begin{description*}\n",
       "\\item[1] -0.0911679653734872\n",
       "\\item[2] 0.583500302233733\n",
       "\\item[3] 1.12965559311103\n",
       "\\end{description*}\n"
      ],
      "text/markdown": [
       "1\n",
       ":   -0.09116796537348722\n",
       ":   0.5835003022337333\n",
       ":   1.12965559311103\n",
       "\n"
      ],
      "text/plain": [
       "          1           2           3 \n",
       "-0.09116797  0.58350030  1.12965559 "
      ]
     },
     "metadata": {},
     "output_type": "display_data"
    }
   ],
   "source": [
    "# taking group means\n",
    "tapply(x, f, mean)"
   ]
  },
  {
   "cell_type": "code",
   "execution_count": 75,
   "id": "89874d26",
   "metadata": {},
   "outputs": [
    {
     "data": {
      "text/html": [
       "<dl>\n",
       "\t<dt>$`1`</dt>\n",
       "\t\t<dd>-0.0911679653734872</dd>\n",
       "\t<dt>$`2`</dt>\n",
       "\t\t<dd>0.583500302233733</dd>\n",
       "\t<dt>$`3`</dt>\n",
       "\t\t<dd>1.12965559311103</dd>\n",
       "</dl>\n"
      ],
      "text/latex": [
       "\\begin{description}\n",
       "\\item[\\$`1`] -0.0911679653734872\n",
       "\\item[\\$`2`] 0.583500302233733\n",
       "\\item[\\$`3`] 1.12965559311103\n",
       "\\end{description}\n"
      ],
      "text/markdown": [
       "$`1`\n",
       ":   -0.0911679653734872\n",
       "$`2`\n",
       ":   0.583500302233733\n",
       "$`3`\n",
       ":   1.12965559311103\n",
       "\n",
       "\n"
      ],
      "text/plain": [
       "$`1`\n",
       "[1] -0.09116797\n",
       "\n",
       "$`2`\n",
       "[1] 0.5835003\n",
       "\n",
       "$`3`\n",
       "[1] 1.129656\n"
      ]
     },
     "metadata": {},
     "output_type": "display_data"
    }
   ],
   "source": [
    "# taking group means without simplification\n",
    "tapply(x, f, mean, simplify = FALSE)"
   ]
  },
  {
   "cell_type": "markdown",
   "id": "d7455660",
   "metadata": {},
   "source": [
    "a list of 3 elements is returned, each element is the mean of a subgroup."
   ]
  },
  {
   "cell_type": "code",
   "execution_count": 76,
   "id": "80b14377",
   "metadata": {},
   "outputs": [
    {
     "data": {
      "text/html": [
       "<dl>\n",
       "\t<dt>$`1`</dt>\n",
       "\t\t<dd><style>\n",
       ".list-inline {list-style: none; margin:0; padding: 0}\n",
       ".list-inline>li {display: inline-block}\n",
       ".list-inline>li:not(:last-child)::after {content: \"\\00b7\"; padding: 0 .5ex}\n",
       "</style>\n",
       "<ol class=list-inline><li>-1.4655053038571</li><li>1.84716576035918</li></ol>\n",
       "</dd>\n",
       "\t<dt>$`2`</dt>\n",
       "\t\t<dd><style>\n",
       ".list-inline {list-style: none; margin:0; padding: 0}\n",
       ".list-inline>li {display: inline-block}\n",
       ".list-inline>li:not(:last-child)::after {content: \"\\00b7\"; padding: 0 .5ex}\n",
       "</style>\n",
       "<ol class=list-inline><li>0.058184195542708</li><li>0.789586303988472</li></ol>\n",
       "</dd>\n",
       "\t<dt>$`3`</dt>\n",
       "\t\t<dd><style>\n",
       ".list-inline {list-style: none; margin:0; padding: 0}\n",
       ".list-inline>li {display: inline-block}\n",
       ".list-inline>li:not(:last-child)::after {content: \"\\00b7\"; padding: 0 .5ex}\n",
       "</style>\n",
       "<ol class=list-inline><li>0.179471290280647</li><li>2.33356573458834</li></ol>\n",
       "</dd>\n",
       "</dl>\n"
      ],
      "text/latex": [
       "\\begin{description}\n",
       "\\item[\\$`1`] \\begin{enumerate*}\n",
       "\\item -1.4655053038571\n",
       "\\item 1.84716576035918\n",
       "\\end{enumerate*}\n",
       "\n",
       "\\item[\\$`2`] \\begin{enumerate*}\n",
       "\\item 0.058184195542708\n",
       "\\item 0.789586303988472\n",
       "\\end{enumerate*}\n",
       "\n",
       "\\item[\\$`3`] \\begin{enumerate*}\n",
       "\\item 0.179471290280647\n",
       "\\item 2.33356573458834\n",
       "\\end{enumerate*}\n",
       "\n",
       "\\end{description}\n"
      ],
      "text/markdown": [
       "$`1`\n",
       ":   1. -1.4655053038571\n",
       "2. 1.84716576035918\n",
       "\n",
       "\n",
       "\n",
       "$`2`\n",
       ":   1. 0.058184195542708\n",
       "2. 0.789586303988472\n",
       "\n",
       "\n",
       "\n",
       "$`3`\n",
       ":   1. 0.179471290280647\n",
       "2. 2.33356573458834\n",
       "\n",
       "\n",
       "\n",
       "\n",
       "\n"
      ],
      "text/plain": [
       "$`1`\n",
       "[1] -1.465505  1.847166\n",
       "\n",
       "$`2`\n",
       "[1] 0.0581842 0.7895863\n",
       "\n",
       "$`3`\n",
       "[1] 0.1794713 2.3335657\n"
      ]
     },
     "metadata": {},
     "output_type": "display_data"
    }
   ],
   "source": [
    "# find group ranges\n",
    "tapply(x, f, range)"
   ]
  },
  {
   "cell_type": "markdown",
   "id": "b90c3ac9",
   "metadata": {},
   "source": [
    "The `min` and `max` of the observations within that subset of the vector x is returned, for example the min and max of the first group :"
   ]
  },
  {
   "cell_type": "code",
   "execution_count": 83,
   "id": "48c6eb74",
   "metadata": {},
   "outputs": [
    {
     "data": {
      "text/html": [
       "-1.4655053038571"
      ],
      "text/latex": [
       "-1.4655053038571"
      ],
      "text/markdown": [
       "-1.4655053038571"
      ],
      "text/plain": [
       "[1] -1.465505"
      ]
     },
     "metadata": {},
     "output_type": "display_data"
    },
    {
     "data": {
      "text/html": [
       "1.84716576035918"
      ],
      "text/latex": [
       "1.84716576035918"
      ],
      "text/markdown": [
       "1.84716576035918"
      ],
      "text/plain": [
       "[1] 1.847166"
      ]
     },
     "metadata": {},
     "output_type": "display_data"
    }
   ],
   "source": [
    "min(x[1:10])\n",
    "max(x[1:10])"
   ]
  },
  {
   "cell_type": "markdown",
   "id": "413b9fef",
   "metadata": {},
   "source": [
    "# 5) `split` function\n",
    "\n",
    "`tapply` is useful because it splits up^a vector into little pieces and it applies a summary statistic or a function to those little pieces, and then after it applies a function it brings the peces back together again.\n",
    "\n",
    "**`split()` is not a loop function,** but it's a very handy function that can be used in conjuction with functions like `lapply` or `sapply`.\n",
    "\n",
    "`split()` takes a vector (kind of like `tapply` without applying the summary statistic) or objects and splits it into groups determined by a factor or list of factors."
   ]
  },
  {
   "cell_type": "code",
   "execution_count": 84,
   "id": "464e7460",
   "metadata": {},
   "outputs": [
    {
     "name": "stdout",
     "output_type": "stream",
     "text": [
      "function (x, f, drop = FALSE, ...)  \n"
     ]
    }
   ],
   "source": [
    "str(split)"
   ]
  },
  {
   "cell_type": "markdown",
   "id": "8c09f021",
   "metadata": {},
   "source": [
    "* `x` is a vector (or list) or dataframe\n",
    "* `f` is a factor (or coerced to one) or a list of factors\n",
    "* `drop` indicates whether empty factors levels should be dropped\n"
   ]
  },
  {
   "cell_type": "markdown",
   "id": "dd612c27",
   "metadata": {},
   "source": [
    "**Example :**"
   ]
  },
  {
   "cell_type": "code",
   "execution_count": 86,
   "id": "999e3a31",
   "metadata": {},
   "outputs": [
    {
     "data": {
      "text/html": [
       "<style>\n",
       ".list-inline {list-style: none; margin:0; padding: 0}\n",
       ".list-inline>li {display: inline-block}\n",
       ".list-inline>li:not(:last-child)::after {content: \"\\00b7\"; padding: 0 .5ex}\n",
       "</style>\n",
       "<ol class=list-inline><li>0.111651224808295</li><li>-0.118838307044799</li><li>1.17373784698339</li><li>0.380736532690694</li><li>0.739253211638989</li><li>1.23587642513213</li><li>0.206688790135241</li><li>-1.03002108465019</li><li>0.166020900974096</li><li>0.992707892078891</li><li>0.527996895601973</li><li>0.0968533889390528</li><li>0.943020660895854</li><li>0.957540057832375</li><li>0.856913684401661</li><li>0.294676854042336</li><li>0.551749923499301</li><li>0.744651095476002</li><li>0.713996201986447</li><li>0.692154941149056</li><li>0.318128824175961</li><li>0.956455426379992</li><li>0.623389259276423</li><li>0.32336608947917</li><li>1.27934826457957</li><li>0.440299457131312</li><li>0.506831828123978</li><li>0.392631524500999</li><li>2.27057327353851</li><li>1.45797857946931</li></ol>\n"
      ],
      "text/latex": [
       "\\begin{enumerate*}\n",
       "\\item 0.111651224808295\n",
       "\\item -0.118838307044799\n",
       "\\item 1.17373784698339\n",
       "\\item 0.380736532690694\n",
       "\\item 0.739253211638989\n",
       "\\item 1.23587642513213\n",
       "\\item 0.206688790135241\n",
       "\\item -1.03002108465019\n",
       "\\item 0.166020900974096\n",
       "\\item 0.992707892078891\n",
       "\\item 0.527996895601973\n",
       "\\item 0.0968533889390528\n",
       "\\item 0.943020660895854\n",
       "\\item 0.957540057832375\n",
       "\\item 0.856913684401661\n",
       "\\item 0.294676854042336\n",
       "\\item 0.551749923499301\n",
       "\\item 0.744651095476002\n",
       "\\item 0.713996201986447\n",
       "\\item 0.692154941149056\n",
       "\\item 0.318128824175961\n",
       "\\item 0.956455426379992\n",
       "\\item 0.623389259276423\n",
       "\\item 0.32336608947917\n",
       "\\item 1.27934826457957\n",
       "\\item 0.440299457131312\n",
       "\\item 0.506831828123978\n",
       "\\item 0.392631524500999\n",
       "\\item 2.27057327353851\n",
       "\\item 1.45797857946931\n",
       "\\end{enumerate*}\n"
      ],
      "text/markdown": [
       "1. 0.111651224808295\n",
       "2. -0.118838307044799\n",
       "3. 1.17373784698339\n",
       "4. 0.380736532690694\n",
       "5. 0.739253211638989\n",
       "6. 1.23587642513213\n",
       "7. 0.206688790135241\n",
       "8. -1.03002108465019\n",
       "9. 0.166020900974096\n",
       "10. 0.992707892078891\n",
       "11. 0.527996895601973\n",
       "12. 0.0968533889390528\n",
       "13. 0.943020660895854\n",
       "14. 0.957540057832375\n",
       "15. 0.856913684401661\n",
       "16. 0.294676854042336\n",
       "17. 0.551749923499301\n",
       "18. 0.744651095476002\n",
       "19. 0.713996201986447\n",
       "20. 0.692154941149056\n",
       "21. 0.318128824175961\n",
       "22. 0.956455426379992\n",
       "23. 0.623389259276423\n",
       "24. 0.32336608947917\n",
       "25. 1.27934826457957\n",
       "26. 0.440299457131312\n",
       "27. 0.506831828123978\n",
       "28. 0.392631524500999\n",
       "29. 2.27057327353851\n",
       "30. 1.45797857946931\n",
       "\n",
       "\n"
      ],
      "text/plain": [
       " [1]  0.11165122 -0.11883831  1.17373785  0.38073653  0.73925321  1.23587643\n",
       " [7]  0.20668879 -1.03002108  0.16602090  0.99270789  0.52799690  0.09685339\n",
       "[13]  0.94302066  0.95754006  0.85691368  0.29467685  0.55174992  0.74465110\n",
       "[19]  0.71399620  0.69215494  0.31812882  0.95645543  0.62338926  0.32336609\n",
       "[25]  1.27934826  0.44029946  0.50683183  0.39263152  2.27057327  1.45797858"
      ]
     },
     "metadata": {},
     "output_type": "display_data"
    }
   ],
   "source": [
    "(x <- c(rnorm(10), runif(10), rnorm(10,1)))"
   ]
  },
  {
   "cell_type": "code",
   "execution_count": 89,
   "id": "1fd93405",
   "metadata": {},
   "outputs": [
    {
     "data": {
      "text/html": [
       "<style>\n",
       ".list-inline {list-style: none; margin:0; padding: 0}\n",
       ".list-inline>li {display: inline-block}\n",
       ".list-inline>li:not(:last-child)::after {content: \"\\00b7\"; padding: 0 .5ex}\n",
       "</style>\n",
       "<ol class=list-inline><li>1</li><li>1</li><li>1</li><li>1</li><li>1</li><li>1</li><li>1</li><li>1</li><li>1</li><li>1</li><li>2</li><li>2</li><li>2</li><li>2</li><li>2</li><li>2</li><li>2</li><li>2</li><li>2</li><li>2</li><li>3</li><li>3</li><li>3</li><li>3</li><li>3</li><li>3</li><li>3</li><li>3</li><li>3</li><li>3</li></ol>\n",
       "\n",
       "<details>\n",
       "\t<summary style=display:list-item;cursor:pointer>\n",
       "\t\t<strong>Levels</strong>:\n",
       "\t</summary>\n",
       "\t<style>\n",
       "\t.list-inline {list-style: none; margin:0; padding: 0}\n",
       "\t.list-inline>li {display: inline-block}\n",
       "\t.list-inline>li:not(:last-child)::after {content: \"\\00b7\"; padding: 0 .5ex}\n",
       "\t</style>\n",
       "\t<ol class=list-inline><li>'1'</li><li>'2'</li><li>'3'</li></ol>\n",
       "</details>"
      ],
      "text/latex": [
       "\\begin{enumerate*}\n",
       "\\item 1\n",
       "\\item 1\n",
       "\\item 1\n",
       "\\item 1\n",
       "\\item 1\n",
       "\\item 1\n",
       "\\item 1\n",
       "\\item 1\n",
       "\\item 1\n",
       "\\item 1\n",
       "\\item 2\n",
       "\\item 2\n",
       "\\item 2\n",
       "\\item 2\n",
       "\\item 2\n",
       "\\item 2\n",
       "\\item 2\n",
       "\\item 2\n",
       "\\item 2\n",
       "\\item 2\n",
       "\\item 3\n",
       "\\item 3\n",
       "\\item 3\n",
       "\\item 3\n",
       "\\item 3\n",
       "\\item 3\n",
       "\\item 3\n",
       "\\item 3\n",
       "\\item 3\n",
       "\\item 3\n",
       "\\end{enumerate*}\n",
       "\n",
       "\\emph{Levels}: \\begin{enumerate*}\n",
       "\\item '1'\n",
       "\\item '2'\n",
       "\\item '3'\n",
       "\\end{enumerate*}\n"
      ],
      "text/markdown": [
       "1. 1\n",
       "2. 1\n",
       "3. 1\n",
       "4. 1\n",
       "5. 1\n",
       "6. 1\n",
       "7. 1\n",
       "8. 1\n",
       "9. 1\n",
       "10. 1\n",
       "11. 2\n",
       "12. 2\n",
       "13. 2\n",
       "14. 2\n",
       "15. 2\n",
       "16. 2\n",
       "17. 2\n",
       "18. 2\n",
       "19. 2\n",
       "20. 2\n",
       "21. 3\n",
       "22. 3\n",
       "23. 3\n",
       "24. 3\n",
       "25. 3\n",
       "26. 3\n",
       "27. 3\n",
       "28. 3\n",
       "29. 3\n",
       "30. 3\n",
       "\n",
       "\n",
       "\n",
       "**Levels**: 1. '1'\n",
       "2. '2'\n",
       "3. '3'\n",
       "\n",
       "\n"
      ],
      "text/plain": [
       " [1] 1 1 1 1 1 1 1 1 1 1 2 2 2 2 2 2 2 2 2 2 3 3 3 3 3 3 3 3 3 3\n",
       "Levels: 1 2 3"
      ]
     },
     "metadata": {},
     "output_type": "display_data"
    }
   ],
   "source": [
    "# generating a factor : 3 levels, each level is repeated 10 times\n",
    "f <- gl(3,10)\n",
    "f"
   ]
  },
  {
   "cell_type": "code",
   "execution_count": 91,
   "id": "db220cf6",
   "metadata": {},
   "outputs": [
    {
     "data": {
      "text/html": [
       "<dl>\n",
       "\t<dt>$`1`</dt>\n",
       "\t\t<dd><style>\n",
       ".list-inline {list-style: none; margin:0; padding: 0}\n",
       ".list-inline>li {display: inline-block}\n",
       ".list-inline>li:not(:last-child)::after {content: \"\\00b7\"; padding: 0 .5ex}\n",
       "</style>\n",
       "<ol class=list-inline><li>0.111651224808295</li><li>-0.118838307044799</li><li>1.17373784698339</li><li>0.380736532690694</li><li>0.739253211638989</li><li>1.23587642513213</li><li>0.206688790135241</li><li>-1.03002108465019</li><li>0.166020900974096</li><li>0.992707892078891</li></ol>\n",
       "</dd>\n",
       "\t<dt>$`2`</dt>\n",
       "\t\t<dd><style>\n",
       ".list-inline {list-style: none; margin:0; padding: 0}\n",
       ".list-inline>li {display: inline-block}\n",
       ".list-inline>li:not(:last-child)::after {content: \"\\00b7\"; padding: 0 .5ex}\n",
       "</style>\n",
       "<ol class=list-inline><li>0.527996895601973</li><li>0.0968533889390528</li><li>0.943020660895854</li><li>0.957540057832375</li><li>0.856913684401661</li><li>0.294676854042336</li><li>0.551749923499301</li><li>0.744651095476002</li><li>0.713996201986447</li><li>0.692154941149056</li></ol>\n",
       "</dd>\n",
       "\t<dt>$`3`</dt>\n",
       "\t\t<dd><style>\n",
       ".list-inline {list-style: none; margin:0; padding: 0}\n",
       ".list-inline>li {display: inline-block}\n",
       ".list-inline>li:not(:last-child)::after {content: \"\\00b7\"; padding: 0 .5ex}\n",
       "</style>\n",
       "<ol class=list-inline><li>0.318128824175961</li><li>0.956455426379992</li><li>0.623389259276423</li><li>0.32336608947917</li><li>1.27934826457957</li><li>0.440299457131312</li><li>0.506831828123978</li><li>0.392631524500999</li><li>2.27057327353851</li><li>1.45797857946931</li></ol>\n",
       "</dd>\n",
       "</dl>\n"
      ],
      "text/latex": [
       "\\begin{description}\n",
       "\\item[\\$`1`] \\begin{enumerate*}\n",
       "\\item 0.111651224808295\n",
       "\\item -0.118838307044799\n",
       "\\item 1.17373784698339\n",
       "\\item 0.380736532690694\n",
       "\\item 0.739253211638989\n",
       "\\item 1.23587642513213\n",
       "\\item 0.206688790135241\n",
       "\\item -1.03002108465019\n",
       "\\item 0.166020900974096\n",
       "\\item 0.992707892078891\n",
       "\\end{enumerate*}\n",
       "\n",
       "\\item[\\$`2`] \\begin{enumerate*}\n",
       "\\item 0.527996895601973\n",
       "\\item 0.0968533889390528\n",
       "\\item 0.943020660895854\n",
       "\\item 0.957540057832375\n",
       "\\item 0.856913684401661\n",
       "\\item 0.294676854042336\n",
       "\\item 0.551749923499301\n",
       "\\item 0.744651095476002\n",
       "\\item 0.713996201986447\n",
       "\\item 0.692154941149056\n",
       "\\end{enumerate*}\n",
       "\n",
       "\\item[\\$`3`] \\begin{enumerate*}\n",
       "\\item 0.318128824175961\n",
       "\\item 0.956455426379992\n",
       "\\item 0.623389259276423\n",
       "\\item 0.32336608947917\n",
       "\\item 1.27934826457957\n",
       "\\item 0.440299457131312\n",
       "\\item 0.506831828123978\n",
       "\\item 0.392631524500999\n",
       "\\item 2.27057327353851\n",
       "\\item 1.45797857946931\n",
       "\\end{enumerate*}\n",
       "\n",
       "\\end{description}\n"
      ],
      "text/markdown": [
       "$`1`\n",
       ":   1. 0.111651224808295\n",
       "2. -0.118838307044799\n",
       "3. 1.17373784698339\n",
       "4. 0.380736532690694\n",
       "5. 0.739253211638989\n",
       "6. 1.23587642513213\n",
       "7. 0.206688790135241\n",
       "8. -1.03002108465019\n",
       "9. 0.166020900974096\n",
       "10. 0.992707892078891\n",
       "\n",
       "\n",
       "\n",
       "$`2`\n",
       ":   1. 0.527996895601973\n",
       "2. 0.0968533889390528\n",
       "3. 0.943020660895854\n",
       "4. 0.957540057832375\n",
       "5. 0.856913684401661\n",
       "6. 0.294676854042336\n",
       "7. 0.551749923499301\n",
       "8. 0.744651095476002\n",
       "9. 0.713996201986447\n",
       "10. 0.692154941149056\n",
       "\n",
       "\n",
       "\n",
       "$`3`\n",
       ":   1. 0.318128824175961\n",
       "2. 0.956455426379992\n",
       "3. 0.623389259276423\n",
       "4. 0.32336608947917\n",
       "5. 1.27934826457957\n",
       "6. 0.440299457131312\n",
       "7. 0.506831828123978\n",
       "8. 0.392631524500999\n",
       "9. 2.27057327353851\n",
       "10. 1.45797857946931\n",
       "\n",
       "\n",
       "\n",
       "\n",
       "\n"
      ],
      "text/plain": [
       "$`1`\n",
       " [1]  0.1116512 -0.1188383  1.1737378  0.3807365  0.7392532  1.2358764\n",
       " [7]  0.2066888 -1.0300211  0.1660209  0.9927079\n",
       "\n",
       "$`2`\n",
       " [1] 0.52799690 0.09685339 0.94302066 0.95754006 0.85691368 0.29467685\n",
       " [7] 0.55174992 0.74465110 0.71399620 0.69215494\n",
       "\n",
       "$`3`\n",
       " [1] 0.3181288 0.9564554 0.6233893 0.3233661 1.2793483 0.4402995 0.5068318\n",
       " [8] 0.3926315 2.2705733 1.4579786\n"
      ]
     },
     "metadata": {},
     "output_type": "display_data"
    }
   ],
   "source": [
    "# splitting x using the factor 'f'\n",
    "split(x, f)"
   ]
  },
  {
   "cell_type": "markdown",
   "id": "122b75a6",
   "metadata": {},
   "source": [
    "So now we can see when we split the x vector, we got a list back and the first element is 10 normals, the second 10 uniforms, and the third is 10 normals. "
   ]
  },
  {
   "cell_type": "code",
   "execution_count": 93,
   "id": "8b42c996",
   "metadata": {},
   "outputs": [
    {
     "data": {
      "text/html": [
       "<dl>\n",
       "\t<dt>$`1`</dt>\n",
       "\t\t<dd>0.385781343274674</dd>\n",
       "\t<dt>$`2`</dt>\n",
       "\t\t<dd>0.637955370382406</dd>\n",
       "\t<dt>$`3`</dt>\n",
       "\t\t<dd>0.856900252665521</dd>\n",
       "</dl>\n"
      ],
      "text/latex": [
       "\\begin{description}\n",
       "\\item[\\$`1`] 0.385781343274674\n",
       "\\item[\\$`2`] 0.637955370382406\n",
       "\\item[\\$`3`] 0.856900252665521\n",
       "\\end{description}\n"
      ],
      "text/markdown": [
       "$`1`\n",
       ":   0.385781343274674\n",
       "$`2`\n",
       ":   0.637955370382406\n",
       "$`3`\n",
       ":   0.856900252665521\n",
       "\n",
       "\n"
      ],
      "text/plain": [
       "$`1`\n",
       "[1] 0.3857813\n",
       "\n",
       "$`2`\n",
       "[1] 0.6379554\n",
       "\n",
       "$`3`\n",
       "[1] 0.8569003\n"
      ]
     },
     "metadata": {},
     "output_type": "display_data"
    }
   ],
   "source": [
    "# Calculating the mean of each level : the 'split+ lapply' here is equivalent to 'tapply'\n",
    "lapply(split(x,f), mean)"
   ]
  },
  {
   "cell_type": "code",
   "execution_count": 95,
   "id": "231b56f0",
   "metadata": {},
   "outputs": [
    {
     "data": {
      "text/html": [
       "<style>\n",
       ".dl-inline {width: auto; margin:0; padding: 0}\n",
       ".dl-inline>dt, .dl-inline>dd {float: none; width: auto; display: inline-block}\n",
       ".dl-inline>dt::after {content: \":\\0020\"; padding-right: .5ex}\n",
       ".dl-inline>dt:not(:first-of-type) {padding-left: .5ex}\n",
       "</style><dl class=dl-inline><dt>1</dt><dd>0.385781343274674</dd><dt>2</dt><dd>0.637955370382406</dd><dt>3</dt><dd>0.856900252665521</dd></dl>\n"
      ],
      "text/latex": [
       "\\begin{description*}\n",
       "\\item[1] 0.385781343274674\n",
       "\\item[2] 0.637955370382406\n",
       "\\item[3] 0.856900252665521\n",
       "\\end{description*}\n"
      ],
      "text/markdown": [
       "1\n",
       ":   0.3857813432746742\n",
       ":   0.6379553703824063\n",
       ":   0.856900252665521\n",
       "\n"
      ],
      "text/plain": [
       "        1         2         3 \n",
       "0.3857813 0.6379554 0.8569003 "
      ]
     },
     "metadata": {},
     "output_type": "display_data"
    }
   ],
   "source": [
    "tapply(x, f, mean)"
   ]
  },
  {
   "cell_type": "markdown",
   "id": "82b1d46d",
   "metadata": {},
   "source": [
    "### <u>Spltting a dataframe</u>\n",
    "\n",
    "But the nice thing about the `split` function is that it can be used to split much more complicated types of objects.\n",
    "\n",
    "**Example :**\n",
    "\n"
   ]
  },
  {
   "cell_type": "code",
   "execution_count": 96,
   "id": "155f8a3d",
   "metadata": {},
   "outputs": [
    {
     "data": {
      "text/html": [
       "<table class=\"dataframe\">\n",
       "<caption>A data.frame: 6 × 6</caption>\n",
       "<thead>\n",
       "\t<tr><th></th><th scope=col>Ozone</th><th scope=col>Solar.R</th><th scope=col>Wind</th><th scope=col>Temp</th><th scope=col>Month</th><th scope=col>Day</th></tr>\n",
       "\t<tr><th></th><th scope=col>&lt;int&gt;</th><th scope=col>&lt;int&gt;</th><th scope=col>&lt;dbl&gt;</th><th scope=col>&lt;int&gt;</th><th scope=col>&lt;int&gt;</th><th scope=col>&lt;int&gt;</th></tr>\n",
       "</thead>\n",
       "<tbody>\n",
       "\t<tr><th scope=row>1</th><td>41</td><td>190</td><td> 7.4</td><td>67</td><td>5</td><td>1</td></tr>\n",
       "\t<tr><th scope=row>2</th><td>36</td><td>118</td><td> 8.0</td><td>72</td><td>5</td><td>2</td></tr>\n",
       "\t<tr><th scope=row>3</th><td>12</td><td>149</td><td>12.6</td><td>74</td><td>5</td><td>3</td></tr>\n",
       "\t<tr><th scope=row>4</th><td>18</td><td>313</td><td>11.5</td><td>62</td><td>5</td><td>4</td></tr>\n",
       "\t<tr><th scope=row>5</th><td>NA</td><td> NA</td><td>14.3</td><td>56</td><td>5</td><td>5</td></tr>\n",
       "\t<tr><th scope=row>6</th><td>28</td><td> NA</td><td>14.9</td><td>66</td><td>5</td><td>6</td></tr>\n",
       "</tbody>\n",
       "</table>\n"
      ],
      "text/latex": [
       "A data.frame: 6 × 6\n",
       "\\begin{tabular}{r|llllll}\n",
       "  & Ozone & Solar.R & Wind & Temp & Month & Day\\\\\n",
       "  & <int> & <int> & <dbl> & <int> & <int> & <int>\\\\\n",
       "\\hline\n",
       "\t1 & 41 & 190 &  7.4 & 67 & 5 & 1\\\\\n",
       "\t2 & 36 & 118 &  8.0 & 72 & 5 & 2\\\\\n",
       "\t3 & 12 & 149 & 12.6 & 74 & 5 & 3\\\\\n",
       "\t4 & 18 & 313 & 11.5 & 62 & 5 & 4\\\\\n",
       "\t5 & NA &  NA & 14.3 & 56 & 5 & 5\\\\\n",
       "\t6 & 28 &  NA & 14.9 & 66 & 5 & 6\\\\\n",
       "\\end{tabular}\n"
      ],
      "text/markdown": [
       "\n",
       "A data.frame: 6 × 6\n",
       "\n",
       "| <!--/--> | Ozone &lt;int&gt; | Solar.R &lt;int&gt; | Wind &lt;dbl&gt; | Temp &lt;int&gt; | Month &lt;int&gt; | Day &lt;int&gt; |\n",
       "|---|---|---|---|---|---|---|\n",
       "| 1 | 41 | 190 |  7.4 | 67 | 5 | 1 |\n",
       "| 2 | 36 | 118 |  8.0 | 72 | 5 | 2 |\n",
       "| 3 | 12 | 149 | 12.6 | 74 | 5 | 3 |\n",
       "| 4 | 18 | 313 | 11.5 | 62 | 5 | 4 |\n",
       "| 5 | NA |  NA | 14.3 | 56 | 5 | 5 |\n",
       "| 6 | 28 |  NA | 14.9 | 66 | 5 | 6 |\n",
       "\n"
      ],
      "text/plain": [
       "  Ozone Solar.R Wind Temp Month Day\n",
       "1 41    190      7.4 67   5     1  \n",
       "2 36    118      8.0 72   5     2  \n",
       "3 12    149     12.6 74   5     3  \n",
       "4 18    313     11.5 62   5     4  \n",
       "5 NA     NA     14.3 56   5     5  \n",
       "6 28     NA     14.9 66   5     6  "
      ]
     },
     "metadata": {},
     "output_type": "display_data"
    }
   ],
   "source": [
    "library(datasets)\n",
    "head(airquality)"
   ]
  },
  {
   "cell_type": "markdown",
   "id": "ea77f6f1",
   "metadata": {},
   "source": [
    "One thing we might want to do is calculate, for example, the mean of `Ozone`, solar radiation `Solar.R`, `Wind`, and the temperature `Temp` within each month. Well, we'd like to split the dataframe into **monthly pieces,** and calculate the means, the columns means using either `apply` or `colMeans` on those other variables."
   ]
  },
  {
   "cell_type": "code",
   "execution_count": 98,
   "id": "94e95d1c",
   "metadata": {},
   "outputs": [
    {
     "data": {
      "text/html": [
       "<dl>\n",
       "\t<dt>$`5`</dt>\n",
       "\t\t<dd><table class=\"dataframe\">\n",
       "<caption>A data.frame: 31 × 6</caption>\n",
       "<thead>\n",
       "\t<tr><th></th><th scope=col>Ozone</th><th scope=col>Solar.R</th><th scope=col>Wind</th><th scope=col>Temp</th><th scope=col>Month</th><th scope=col>Day</th></tr>\n",
       "\t<tr><th></th><th scope=col>&lt;int&gt;</th><th scope=col>&lt;int&gt;</th><th scope=col>&lt;dbl&gt;</th><th scope=col>&lt;int&gt;</th><th scope=col>&lt;int&gt;</th><th scope=col>&lt;int&gt;</th></tr>\n",
       "</thead>\n",
       "<tbody>\n",
       "\t<tr><th scope=row>1</th><td> 41</td><td>190</td><td> 7.4</td><td>67</td><td>5</td><td> 1</td></tr>\n",
       "\t<tr><th scope=row>2</th><td> 36</td><td>118</td><td> 8.0</td><td>72</td><td>5</td><td> 2</td></tr>\n",
       "\t<tr><th scope=row>3</th><td> 12</td><td>149</td><td>12.6</td><td>74</td><td>5</td><td> 3</td></tr>\n",
       "\t<tr><th scope=row>4</th><td> 18</td><td>313</td><td>11.5</td><td>62</td><td>5</td><td> 4</td></tr>\n",
       "\t<tr><th scope=row>5</th><td> NA</td><td> NA</td><td>14.3</td><td>56</td><td>5</td><td> 5</td></tr>\n",
       "\t<tr><th scope=row>6</th><td> 28</td><td> NA</td><td>14.9</td><td>66</td><td>5</td><td> 6</td></tr>\n",
       "\t<tr><th scope=row>7</th><td> 23</td><td>299</td><td> 8.6</td><td>65</td><td>5</td><td> 7</td></tr>\n",
       "\t<tr><th scope=row>8</th><td> 19</td><td> 99</td><td>13.8</td><td>59</td><td>5</td><td> 8</td></tr>\n",
       "\t<tr><th scope=row>9</th><td>  8</td><td> 19</td><td>20.1</td><td>61</td><td>5</td><td> 9</td></tr>\n",
       "\t<tr><th scope=row>10</th><td> NA</td><td>194</td><td> 8.6</td><td>69</td><td>5</td><td>10</td></tr>\n",
       "\t<tr><th scope=row>11</th><td>  7</td><td> NA</td><td> 6.9</td><td>74</td><td>5</td><td>11</td></tr>\n",
       "\t<tr><th scope=row>12</th><td> 16</td><td>256</td><td> 9.7</td><td>69</td><td>5</td><td>12</td></tr>\n",
       "\t<tr><th scope=row>13</th><td> 11</td><td>290</td><td> 9.2</td><td>66</td><td>5</td><td>13</td></tr>\n",
       "\t<tr><th scope=row>14</th><td> 14</td><td>274</td><td>10.9</td><td>68</td><td>5</td><td>14</td></tr>\n",
       "\t<tr><th scope=row>15</th><td> 18</td><td> 65</td><td>13.2</td><td>58</td><td>5</td><td>15</td></tr>\n",
       "\t<tr><th scope=row>16</th><td> 14</td><td>334</td><td>11.5</td><td>64</td><td>5</td><td>16</td></tr>\n",
       "\t<tr><th scope=row>17</th><td> 34</td><td>307</td><td>12.0</td><td>66</td><td>5</td><td>17</td></tr>\n",
       "\t<tr><th scope=row>18</th><td>  6</td><td> 78</td><td>18.4</td><td>57</td><td>5</td><td>18</td></tr>\n",
       "\t<tr><th scope=row>19</th><td> 30</td><td>322</td><td>11.5</td><td>68</td><td>5</td><td>19</td></tr>\n",
       "\t<tr><th scope=row>20</th><td> 11</td><td> 44</td><td> 9.7</td><td>62</td><td>5</td><td>20</td></tr>\n",
       "\t<tr><th scope=row>21</th><td>  1</td><td>  8</td><td> 9.7</td><td>59</td><td>5</td><td>21</td></tr>\n",
       "\t<tr><th scope=row>22</th><td> 11</td><td>320</td><td>16.6</td><td>73</td><td>5</td><td>22</td></tr>\n",
       "\t<tr><th scope=row>23</th><td>  4</td><td> 25</td><td> 9.7</td><td>61</td><td>5</td><td>23</td></tr>\n",
       "\t<tr><th scope=row>24</th><td> 32</td><td> 92</td><td>12.0</td><td>61</td><td>5</td><td>24</td></tr>\n",
       "\t<tr><th scope=row>25</th><td> NA</td><td> 66</td><td>16.6</td><td>57</td><td>5</td><td>25</td></tr>\n",
       "\t<tr><th scope=row>26</th><td> NA</td><td>266</td><td>14.9</td><td>58</td><td>5</td><td>26</td></tr>\n",
       "\t<tr><th scope=row>27</th><td> NA</td><td> NA</td><td> 8.0</td><td>57</td><td>5</td><td>27</td></tr>\n",
       "\t<tr><th scope=row>28</th><td> 23</td><td> 13</td><td>12.0</td><td>67</td><td>5</td><td>28</td></tr>\n",
       "\t<tr><th scope=row>29</th><td> 45</td><td>252</td><td>14.9</td><td>81</td><td>5</td><td>29</td></tr>\n",
       "\t<tr><th scope=row>30</th><td>115</td><td>223</td><td> 5.7</td><td>79</td><td>5</td><td>30</td></tr>\n",
       "\t<tr><th scope=row>31</th><td> 37</td><td>279</td><td> 7.4</td><td>76</td><td>5</td><td>31</td></tr>\n",
       "</tbody>\n",
       "</table>\n",
       "</dd>\n",
       "\t<dt>$`6`</dt>\n",
       "\t\t<dd><table class=\"dataframe\">\n",
       "<caption>A data.frame: 30 × 6</caption>\n",
       "<thead>\n",
       "\t<tr><th></th><th scope=col>Ozone</th><th scope=col>Solar.R</th><th scope=col>Wind</th><th scope=col>Temp</th><th scope=col>Month</th><th scope=col>Day</th></tr>\n",
       "\t<tr><th></th><th scope=col>&lt;int&gt;</th><th scope=col>&lt;int&gt;</th><th scope=col>&lt;dbl&gt;</th><th scope=col>&lt;int&gt;</th><th scope=col>&lt;int&gt;</th><th scope=col>&lt;int&gt;</th></tr>\n",
       "</thead>\n",
       "<tbody>\n",
       "\t<tr><th scope=row>32</th><td>NA</td><td>286</td><td> 8.6</td><td>78</td><td>6</td><td> 1</td></tr>\n",
       "\t<tr><th scope=row>33</th><td>NA</td><td>287</td><td> 9.7</td><td>74</td><td>6</td><td> 2</td></tr>\n",
       "\t<tr><th scope=row>34</th><td>NA</td><td>242</td><td>16.1</td><td>67</td><td>6</td><td> 3</td></tr>\n",
       "\t<tr><th scope=row>35</th><td>NA</td><td>186</td><td> 9.2</td><td>84</td><td>6</td><td> 4</td></tr>\n",
       "\t<tr><th scope=row>36</th><td>NA</td><td>220</td><td> 8.6</td><td>85</td><td>6</td><td> 5</td></tr>\n",
       "\t<tr><th scope=row>37</th><td>NA</td><td>264</td><td>14.3</td><td>79</td><td>6</td><td> 6</td></tr>\n",
       "\t<tr><th scope=row>38</th><td>29</td><td>127</td><td> 9.7</td><td>82</td><td>6</td><td> 7</td></tr>\n",
       "\t<tr><th scope=row>39</th><td>NA</td><td>273</td><td> 6.9</td><td>87</td><td>6</td><td> 8</td></tr>\n",
       "\t<tr><th scope=row>40</th><td>71</td><td>291</td><td>13.8</td><td>90</td><td>6</td><td> 9</td></tr>\n",
       "\t<tr><th scope=row>41</th><td>39</td><td>323</td><td>11.5</td><td>87</td><td>6</td><td>10</td></tr>\n",
       "\t<tr><th scope=row>42</th><td>NA</td><td>259</td><td>10.9</td><td>93</td><td>6</td><td>11</td></tr>\n",
       "\t<tr><th scope=row>43</th><td>NA</td><td>250</td><td> 9.2</td><td>92</td><td>6</td><td>12</td></tr>\n",
       "\t<tr><th scope=row>44</th><td>23</td><td>148</td><td> 8.0</td><td>82</td><td>6</td><td>13</td></tr>\n",
       "\t<tr><th scope=row>45</th><td>NA</td><td>332</td><td>13.8</td><td>80</td><td>6</td><td>14</td></tr>\n",
       "\t<tr><th scope=row>46</th><td>NA</td><td>322</td><td>11.5</td><td>79</td><td>6</td><td>15</td></tr>\n",
       "\t<tr><th scope=row>47</th><td>21</td><td>191</td><td>14.9</td><td>77</td><td>6</td><td>16</td></tr>\n",
       "\t<tr><th scope=row>48</th><td>37</td><td>284</td><td>20.7</td><td>72</td><td>6</td><td>17</td></tr>\n",
       "\t<tr><th scope=row>49</th><td>20</td><td> 37</td><td> 9.2</td><td>65</td><td>6</td><td>18</td></tr>\n",
       "\t<tr><th scope=row>50</th><td>12</td><td>120</td><td>11.5</td><td>73</td><td>6</td><td>19</td></tr>\n",
       "\t<tr><th scope=row>51</th><td>13</td><td>137</td><td>10.3</td><td>76</td><td>6</td><td>20</td></tr>\n",
       "\t<tr><th scope=row>52</th><td>NA</td><td>150</td><td> 6.3</td><td>77</td><td>6</td><td>21</td></tr>\n",
       "\t<tr><th scope=row>53</th><td>NA</td><td> 59</td><td> 1.7</td><td>76</td><td>6</td><td>22</td></tr>\n",
       "\t<tr><th scope=row>54</th><td>NA</td><td> 91</td><td> 4.6</td><td>76</td><td>6</td><td>23</td></tr>\n",
       "\t<tr><th scope=row>55</th><td>NA</td><td>250</td><td> 6.3</td><td>76</td><td>6</td><td>24</td></tr>\n",
       "\t<tr><th scope=row>56</th><td>NA</td><td>135</td><td> 8.0</td><td>75</td><td>6</td><td>25</td></tr>\n",
       "\t<tr><th scope=row>57</th><td>NA</td><td>127</td><td> 8.0</td><td>78</td><td>6</td><td>26</td></tr>\n",
       "\t<tr><th scope=row>58</th><td>NA</td><td> 47</td><td>10.3</td><td>73</td><td>6</td><td>27</td></tr>\n",
       "\t<tr><th scope=row>59</th><td>NA</td><td> 98</td><td>11.5</td><td>80</td><td>6</td><td>28</td></tr>\n",
       "\t<tr><th scope=row>60</th><td>NA</td><td> 31</td><td>14.9</td><td>77</td><td>6</td><td>29</td></tr>\n",
       "\t<tr><th scope=row>61</th><td>NA</td><td>138</td><td> 8.0</td><td>83</td><td>6</td><td>30</td></tr>\n",
       "</tbody>\n",
       "</table>\n",
       "</dd>\n",
       "\t<dt>$`7`</dt>\n",
       "\t\t<dd><table class=\"dataframe\">\n",
       "<caption>A data.frame: 31 × 6</caption>\n",
       "<thead>\n",
       "\t<tr><th></th><th scope=col>Ozone</th><th scope=col>Solar.R</th><th scope=col>Wind</th><th scope=col>Temp</th><th scope=col>Month</th><th scope=col>Day</th></tr>\n",
       "\t<tr><th></th><th scope=col>&lt;int&gt;</th><th scope=col>&lt;int&gt;</th><th scope=col>&lt;dbl&gt;</th><th scope=col>&lt;int&gt;</th><th scope=col>&lt;int&gt;</th><th scope=col>&lt;int&gt;</th></tr>\n",
       "</thead>\n",
       "<tbody>\n",
       "\t<tr><th scope=row>62</th><td>135</td><td>269</td><td> 4.1</td><td>84</td><td>7</td><td> 1</td></tr>\n",
       "\t<tr><th scope=row>63</th><td> 49</td><td>248</td><td> 9.2</td><td>85</td><td>7</td><td> 2</td></tr>\n",
       "\t<tr><th scope=row>64</th><td> 32</td><td>236</td><td> 9.2</td><td>81</td><td>7</td><td> 3</td></tr>\n",
       "\t<tr><th scope=row>65</th><td> NA</td><td>101</td><td>10.9</td><td>84</td><td>7</td><td> 4</td></tr>\n",
       "\t<tr><th scope=row>66</th><td> 64</td><td>175</td><td> 4.6</td><td>83</td><td>7</td><td> 5</td></tr>\n",
       "\t<tr><th scope=row>67</th><td> 40</td><td>314</td><td>10.9</td><td>83</td><td>7</td><td> 6</td></tr>\n",
       "\t<tr><th scope=row>68</th><td> 77</td><td>276</td><td> 5.1</td><td>88</td><td>7</td><td> 7</td></tr>\n",
       "\t<tr><th scope=row>69</th><td> 97</td><td>267</td><td> 6.3</td><td>92</td><td>7</td><td> 8</td></tr>\n",
       "\t<tr><th scope=row>70</th><td> 97</td><td>272</td><td> 5.7</td><td>92</td><td>7</td><td> 9</td></tr>\n",
       "\t<tr><th scope=row>71</th><td> 85</td><td>175</td><td> 7.4</td><td>89</td><td>7</td><td>10</td></tr>\n",
       "\t<tr><th scope=row>72</th><td> NA</td><td>139</td><td> 8.6</td><td>82</td><td>7</td><td>11</td></tr>\n",
       "\t<tr><th scope=row>73</th><td> 10</td><td>264</td><td>14.3</td><td>73</td><td>7</td><td>12</td></tr>\n",
       "\t<tr><th scope=row>74</th><td> 27</td><td>175</td><td>14.9</td><td>81</td><td>7</td><td>13</td></tr>\n",
       "\t<tr><th scope=row>75</th><td> NA</td><td>291</td><td>14.9</td><td>91</td><td>7</td><td>14</td></tr>\n",
       "\t<tr><th scope=row>76</th><td>  7</td><td> 48</td><td>14.3</td><td>80</td><td>7</td><td>15</td></tr>\n",
       "\t<tr><th scope=row>77</th><td> 48</td><td>260</td><td> 6.9</td><td>81</td><td>7</td><td>16</td></tr>\n",
       "\t<tr><th scope=row>78</th><td> 35</td><td>274</td><td>10.3</td><td>82</td><td>7</td><td>17</td></tr>\n",
       "\t<tr><th scope=row>79</th><td> 61</td><td>285</td><td> 6.3</td><td>84</td><td>7</td><td>18</td></tr>\n",
       "\t<tr><th scope=row>80</th><td> 79</td><td>187</td><td> 5.1</td><td>87</td><td>7</td><td>19</td></tr>\n",
       "\t<tr><th scope=row>81</th><td> 63</td><td>220</td><td>11.5</td><td>85</td><td>7</td><td>20</td></tr>\n",
       "\t<tr><th scope=row>82</th><td> 16</td><td>  7</td><td> 6.9</td><td>74</td><td>7</td><td>21</td></tr>\n",
       "\t<tr><th scope=row>83</th><td> NA</td><td>258</td><td> 9.7</td><td>81</td><td>7</td><td>22</td></tr>\n",
       "\t<tr><th scope=row>84</th><td> NA</td><td>295</td><td>11.5</td><td>82</td><td>7</td><td>23</td></tr>\n",
       "\t<tr><th scope=row>85</th><td> 80</td><td>294</td><td> 8.6</td><td>86</td><td>7</td><td>24</td></tr>\n",
       "\t<tr><th scope=row>86</th><td>108</td><td>223</td><td> 8.0</td><td>85</td><td>7</td><td>25</td></tr>\n",
       "\t<tr><th scope=row>87</th><td> 20</td><td> 81</td><td> 8.6</td><td>82</td><td>7</td><td>26</td></tr>\n",
       "\t<tr><th scope=row>88</th><td> 52</td><td> 82</td><td>12.0</td><td>86</td><td>7</td><td>27</td></tr>\n",
       "\t<tr><th scope=row>89</th><td> 82</td><td>213</td><td> 7.4</td><td>88</td><td>7</td><td>28</td></tr>\n",
       "\t<tr><th scope=row>90</th><td> 50</td><td>275</td><td> 7.4</td><td>86</td><td>7</td><td>29</td></tr>\n",
       "\t<tr><th scope=row>91</th><td> 64</td><td>253</td><td> 7.4</td><td>83</td><td>7</td><td>30</td></tr>\n",
       "\t<tr><th scope=row>92</th><td> 59</td><td>254</td><td> 9.2</td><td>81</td><td>7</td><td>31</td></tr>\n",
       "</tbody>\n",
       "</table>\n",
       "</dd>\n",
       "\t<dt>$`8`</dt>\n",
       "\t\t<dd><table class=\"dataframe\">\n",
       "<caption>A data.frame: 31 × 6</caption>\n",
       "<thead>\n",
       "\t<tr><th></th><th scope=col>Ozone</th><th scope=col>Solar.R</th><th scope=col>Wind</th><th scope=col>Temp</th><th scope=col>Month</th><th scope=col>Day</th></tr>\n",
       "\t<tr><th></th><th scope=col>&lt;int&gt;</th><th scope=col>&lt;int&gt;</th><th scope=col>&lt;dbl&gt;</th><th scope=col>&lt;int&gt;</th><th scope=col>&lt;int&gt;</th><th scope=col>&lt;int&gt;</th></tr>\n",
       "</thead>\n",
       "<tbody>\n",
       "\t<tr><th scope=row>93</th><td> 39</td><td> 83</td><td> 6.9</td><td>81</td><td>8</td><td> 1</td></tr>\n",
       "\t<tr><th scope=row>94</th><td>  9</td><td> 24</td><td>13.8</td><td>81</td><td>8</td><td> 2</td></tr>\n",
       "\t<tr><th scope=row>95</th><td> 16</td><td> 77</td><td> 7.4</td><td>82</td><td>8</td><td> 3</td></tr>\n",
       "\t<tr><th scope=row>96</th><td> 78</td><td> NA</td><td> 6.9</td><td>86</td><td>8</td><td> 4</td></tr>\n",
       "\t<tr><th scope=row>97</th><td> 35</td><td> NA</td><td> 7.4</td><td>85</td><td>8</td><td> 5</td></tr>\n",
       "\t<tr><th scope=row>98</th><td> 66</td><td> NA</td><td> 4.6</td><td>87</td><td>8</td><td> 6</td></tr>\n",
       "\t<tr><th scope=row>99</th><td>122</td><td>255</td><td> 4.0</td><td>89</td><td>8</td><td> 7</td></tr>\n",
       "\t<tr><th scope=row>100</th><td> 89</td><td>229</td><td>10.3</td><td>90</td><td>8</td><td> 8</td></tr>\n",
       "\t<tr><th scope=row>101</th><td>110</td><td>207</td><td> 8.0</td><td>90</td><td>8</td><td> 9</td></tr>\n",
       "\t<tr><th scope=row>102</th><td> NA</td><td>222</td><td> 8.6</td><td>92</td><td>8</td><td>10</td></tr>\n",
       "\t<tr><th scope=row>103</th><td> NA</td><td>137</td><td>11.5</td><td>86</td><td>8</td><td>11</td></tr>\n",
       "\t<tr><th scope=row>104</th><td> 44</td><td>192</td><td>11.5</td><td>86</td><td>8</td><td>12</td></tr>\n",
       "\t<tr><th scope=row>105</th><td> 28</td><td>273</td><td>11.5</td><td>82</td><td>8</td><td>13</td></tr>\n",
       "\t<tr><th scope=row>106</th><td> 65</td><td>157</td><td> 9.7</td><td>80</td><td>8</td><td>14</td></tr>\n",
       "\t<tr><th scope=row>107</th><td> NA</td><td> 64</td><td>11.5</td><td>79</td><td>8</td><td>15</td></tr>\n",
       "\t<tr><th scope=row>108</th><td> 22</td><td> 71</td><td>10.3</td><td>77</td><td>8</td><td>16</td></tr>\n",
       "\t<tr><th scope=row>109</th><td> 59</td><td> 51</td><td> 6.3</td><td>79</td><td>8</td><td>17</td></tr>\n",
       "\t<tr><th scope=row>110</th><td> 23</td><td>115</td><td> 7.4</td><td>76</td><td>8</td><td>18</td></tr>\n",
       "\t<tr><th scope=row>111</th><td> 31</td><td>244</td><td>10.9</td><td>78</td><td>8</td><td>19</td></tr>\n",
       "\t<tr><th scope=row>112</th><td> 44</td><td>190</td><td>10.3</td><td>78</td><td>8</td><td>20</td></tr>\n",
       "\t<tr><th scope=row>113</th><td> 21</td><td>259</td><td>15.5</td><td>77</td><td>8</td><td>21</td></tr>\n",
       "\t<tr><th scope=row>114</th><td>  9</td><td> 36</td><td>14.3</td><td>72</td><td>8</td><td>22</td></tr>\n",
       "\t<tr><th scope=row>115</th><td> NA</td><td>255</td><td>12.6</td><td>75</td><td>8</td><td>23</td></tr>\n",
       "\t<tr><th scope=row>116</th><td> 45</td><td>212</td><td> 9.7</td><td>79</td><td>8</td><td>24</td></tr>\n",
       "\t<tr><th scope=row>117</th><td>168</td><td>238</td><td> 3.4</td><td>81</td><td>8</td><td>25</td></tr>\n",
       "\t<tr><th scope=row>118</th><td> 73</td><td>215</td><td> 8.0</td><td>86</td><td>8</td><td>26</td></tr>\n",
       "\t<tr><th scope=row>119</th><td> NA</td><td>153</td><td> 5.7</td><td>88</td><td>8</td><td>27</td></tr>\n",
       "\t<tr><th scope=row>120</th><td> 76</td><td>203</td><td> 9.7</td><td>97</td><td>8</td><td>28</td></tr>\n",
       "\t<tr><th scope=row>121</th><td>118</td><td>225</td><td> 2.3</td><td>94</td><td>8</td><td>29</td></tr>\n",
       "\t<tr><th scope=row>122</th><td> 84</td><td>237</td><td> 6.3</td><td>96</td><td>8</td><td>30</td></tr>\n",
       "\t<tr><th scope=row>123</th><td> 85</td><td>188</td><td> 6.3</td><td>94</td><td>8</td><td>31</td></tr>\n",
       "</tbody>\n",
       "</table>\n",
       "</dd>\n",
       "\t<dt>$`9`</dt>\n",
       "\t\t<dd><table class=\"dataframe\">\n",
       "<caption>A data.frame: 30 × 6</caption>\n",
       "<thead>\n",
       "\t<tr><th></th><th scope=col>Ozone</th><th scope=col>Solar.R</th><th scope=col>Wind</th><th scope=col>Temp</th><th scope=col>Month</th><th scope=col>Day</th></tr>\n",
       "\t<tr><th></th><th scope=col>&lt;int&gt;</th><th scope=col>&lt;int&gt;</th><th scope=col>&lt;dbl&gt;</th><th scope=col>&lt;int&gt;</th><th scope=col>&lt;int&gt;</th><th scope=col>&lt;int&gt;</th></tr>\n",
       "</thead>\n",
       "<tbody>\n",
       "\t<tr><th scope=row>124</th><td>96</td><td>167</td><td> 6.9</td><td>91</td><td>9</td><td> 1</td></tr>\n",
       "\t<tr><th scope=row>125</th><td>78</td><td>197</td><td> 5.1</td><td>92</td><td>9</td><td> 2</td></tr>\n",
       "\t<tr><th scope=row>126</th><td>73</td><td>183</td><td> 2.8</td><td>93</td><td>9</td><td> 3</td></tr>\n",
       "\t<tr><th scope=row>127</th><td>91</td><td>189</td><td> 4.6</td><td>93</td><td>9</td><td> 4</td></tr>\n",
       "\t<tr><th scope=row>128</th><td>47</td><td> 95</td><td> 7.4</td><td>87</td><td>9</td><td> 5</td></tr>\n",
       "\t<tr><th scope=row>129</th><td>32</td><td> 92</td><td>15.5</td><td>84</td><td>9</td><td> 6</td></tr>\n",
       "\t<tr><th scope=row>130</th><td>20</td><td>252</td><td>10.9</td><td>80</td><td>9</td><td> 7</td></tr>\n",
       "\t<tr><th scope=row>131</th><td>23</td><td>220</td><td>10.3</td><td>78</td><td>9</td><td> 8</td></tr>\n",
       "\t<tr><th scope=row>132</th><td>21</td><td>230</td><td>10.9</td><td>75</td><td>9</td><td> 9</td></tr>\n",
       "\t<tr><th scope=row>133</th><td>24</td><td>259</td><td> 9.7</td><td>73</td><td>9</td><td>10</td></tr>\n",
       "\t<tr><th scope=row>134</th><td>44</td><td>236</td><td>14.9</td><td>81</td><td>9</td><td>11</td></tr>\n",
       "\t<tr><th scope=row>135</th><td>21</td><td>259</td><td>15.5</td><td>76</td><td>9</td><td>12</td></tr>\n",
       "\t<tr><th scope=row>136</th><td>28</td><td>238</td><td> 6.3</td><td>77</td><td>9</td><td>13</td></tr>\n",
       "\t<tr><th scope=row>137</th><td> 9</td><td> 24</td><td>10.9</td><td>71</td><td>9</td><td>14</td></tr>\n",
       "\t<tr><th scope=row>138</th><td>13</td><td>112</td><td>11.5</td><td>71</td><td>9</td><td>15</td></tr>\n",
       "\t<tr><th scope=row>139</th><td>46</td><td>237</td><td> 6.9</td><td>78</td><td>9</td><td>16</td></tr>\n",
       "\t<tr><th scope=row>140</th><td>18</td><td>224</td><td>13.8</td><td>67</td><td>9</td><td>17</td></tr>\n",
       "\t<tr><th scope=row>141</th><td>13</td><td> 27</td><td>10.3</td><td>76</td><td>9</td><td>18</td></tr>\n",
       "\t<tr><th scope=row>142</th><td>24</td><td>238</td><td>10.3</td><td>68</td><td>9</td><td>19</td></tr>\n",
       "\t<tr><th scope=row>143</th><td>16</td><td>201</td><td> 8.0</td><td>82</td><td>9</td><td>20</td></tr>\n",
       "\t<tr><th scope=row>144</th><td>13</td><td>238</td><td>12.6</td><td>64</td><td>9</td><td>21</td></tr>\n",
       "\t<tr><th scope=row>145</th><td>23</td><td> 14</td><td> 9.2</td><td>71</td><td>9</td><td>22</td></tr>\n",
       "\t<tr><th scope=row>146</th><td>36</td><td>139</td><td>10.3</td><td>81</td><td>9</td><td>23</td></tr>\n",
       "\t<tr><th scope=row>147</th><td> 7</td><td> 49</td><td>10.3</td><td>69</td><td>9</td><td>24</td></tr>\n",
       "\t<tr><th scope=row>148</th><td>14</td><td> 20</td><td>16.6</td><td>63</td><td>9</td><td>25</td></tr>\n",
       "\t<tr><th scope=row>149</th><td>30</td><td>193</td><td> 6.9</td><td>70</td><td>9</td><td>26</td></tr>\n",
       "\t<tr><th scope=row>150</th><td>NA</td><td>145</td><td>13.2</td><td>77</td><td>9</td><td>27</td></tr>\n",
       "\t<tr><th scope=row>151</th><td>14</td><td>191</td><td>14.3</td><td>75</td><td>9</td><td>28</td></tr>\n",
       "\t<tr><th scope=row>152</th><td>18</td><td>131</td><td> 8.0</td><td>76</td><td>9</td><td>29</td></tr>\n",
       "\t<tr><th scope=row>153</th><td>20</td><td>223</td><td>11.5</td><td>68</td><td>9</td><td>30</td></tr>\n",
       "</tbody>\n",
       "</table>\n",
       "</dd>\n",
       "</dl>\n"
      ],
      "text/latex": [
       "\\begin{description}\n",
       "\\item[\\$`5`] A data.frame: 31 × 6\n",
       "\\begin{tabular}{r|llllll}\n",
       "  & Ozone & Solar.R & Wind & Temp & Month & Day\\\\\n",
       "  & <int> & <int> & <dbl> & <int> & <int> & <int>\\\\\n",
       "\\hline\n",
       "\t1 &  41 & 190 &  7.4 & 67 & 5 &  1\\\\\n",
       "\t2 &  36 & 118 &  8.0 & 72 & 5 &  2\\\\\n",
       "\t3 &  12 & 149 & 12.6 & 74 & 5 &  3\\\\\n",
       "\t4 &  18 & 313 & 11.5 & 62 & 5 &  4\\\\\n",
       "\t5 &  NA &  NA & 14.3 & 56 & 5 &  5\\\\\n",
       "\t6 &  28 &  NA & 14.9 & 66 & 5 &  6\\\\\n",
       "\t7 &  23 & 299 &  8.6 & 65 & 5 &  7\\\\\n",
       "\t8 &  19 &  99 & 13.8 & 59 & 5 &  8\\\\\n",
       "\t9 &   8 &  19 & 20.1 & 61 & 5 &  9\\\\\n",
       "\t10 &  NA & 194 &  8.6 & 69 & 5 & 10\\\\\n",
       "\t11 &   7 &  NA &  6.9 & 74 & 5 & 11\\\\\n",
       "\t12 &  16 & 256 &  9.7 & 69 & 5 & 12\\\\\n",
       "\t13 &  11 & 290 &  9.2 & 66 & 5 & 13\\\\\n",
       "\t14 &  14 & 274 & 10.9 & 68 & 5 & 14\\\\\n",
       "\t15 &  18 &  65 & 13.2 & 58 & 5 & 15\\\\\n",
       "\t16 &  14 & 334 & 11.5 & 64 & 5 & 16\\\\\n",
       "\t17 &  34 & 307 & 12.0 & 66 & 5 & 17\\\\\n",
       "\t18 &   6 &  78 & 18.4 & 57 & 5 & 18\\\\\n",
       "\t19 &  30 & 322 & 11.5 & 68 & 5 & 19\\\\\n",
       "\t20 &  11 &  44 &  9.7 & 62 & 5 & 20\\\\\n",
       "\t21 &   1 &   8 &  9.7 & 59 & 5 & 21\\\\\n",
       "\t22 &  11 & 320 & 16.6 & 73 & 5 & 22\\\\\n",
       "\t23 &   4 &  25 &  9.7 & 61 & 5 & 23\\\\\n",
       "\t24 &  32 &  92 & 12.0 & 61 & 5 & 24\\\\\n",
       "\t25 &  NA &  66 & 16.6 & 57 & 5 & 25\\\\\n",
       "\t26 &  NA & 266 & 14.9 & 58 & 5 & 26\\\\\n",
       "\t27 &  NA &  NA &  8.0 & 57 & 5 & 27\\\\\n",
       "\t28 &  23 &  13 & 12.0 & 67 & 5 & 28\\\\\n",
       "\t29 &  45 & 252 & 14.9 & 81 & 5 & 29\\\\\n",
       "\t30 & 115 & 223 &  5.7 & 79 & 5 & 30\\\\\n",
       "\t31 &  37 & 279 &  7.4 & 76 & 5 & 31\\\\\n",
       "\\end{tabular}\n",
       "\n",
       "\\item[\\$`6`] A data.frame: 30 × 6\n",
       "\\begin{tabular}{r|llllll}\n",
       "  & Ozone & Solar.R & Wind & Temp & Month & Day\\\\\n",
       "  & <int> & <int> & <dbl> & <int> & <int> & <int>\\\\\n",
       "\\hline\n",
       "\t32 & NA & 286 &  8.6 & 78 & 6 &  1\\\\\n",
       "\t33 & NA & 287 &  9.7 & 74 & 6 &  2\\\\\n",
       "\t34 & NA & 242 & 16.1 & 67 & 6 &  3\\\\\n",
       "\t35 & NA & 186 &  9.2 & 84 & 6 &  4\\\\\n",
       "\t36 & NA & 220 &  8.6 & 85 & 6 &  5\\\\\n",
       "\t37 & NA & 264 & 14.3 & 79 & 6 &  6\\\\\n",
       "\t38 & 29 & 127 &  9.7 & 82 & 6 &  7\\\\\n",
       "\t39 & NA & 273 &  6.9 & 87 & 6 &  8\\\\\n",
       "\t40 & 71 & 291 & 13.8 & 90 & 6 &  9\\\\\n",
       "\t41 & 39 & 323 & 11.5 & 87 & 6 & 10\\\\\n",
       "\t42 & NA & 259 & 10.9 & 93 & 6 & 11\\\\\n",
       "\t43 & NA & 250 &  9.2 & 92 & 6 & 12\\\\\n",
       "\t44 & 23 & 148 &  8.0 & 82 & 6 & 13\\\\\n",
       "\t45 & NA & 332 & 13.8 & 80 & 6 & 14\\\\\n",
       "\t46 & NA & 322 & 11.5 & 79 & 6 & 15\\\\\n",
       "\t47 & 21 & 191 & 14.9 & 77 & 6 & 16\\\\\n",
       "\t48 & 37 & 284 & 20.7 & 72 & 6 & 17\\\\\n",
       "\t49 & 20 &  37 &  9.2 & 65 & 6 & 18\\\\\n",
       "\t50 & 12 & 120 & 11.5 & 73 & 6 & 19\\\\\n",
       "\t51 & 13 & 137 & 10.3 & 76 & 6 & 20\\\\\n",
       "\t52 & NA & 150 &  6.3 & 77 & 6 & 21\\\\\n",
       "\t53 & NA &  59 &  1.7 & 76 & 6 & 22\\\\\n",
       "\t54 & NA &  91 &  4.6 & 76 & 6 & 23\\\\\n",
       "\t55 & NA & 250 &  6.3 & 76 & 6 & 24\\\\\n",
       "\t56 & NA & 135 &  8.0 & 75 & 6 & 25\\\\\n",
       "\t57 & NA & 127 &  8.0 & 78 & 6 & 26\\\\\n",
       "\t58 & NA &  47 & 10.3 & 73 & 6 & 27\\\\\n",
       "\t59 & NA &  98 & 11.5 & 80 & 6 & 28\\\\\n",
       "\t60 & NA &  31 & 14.9 & 77 & 6 & 29\\\\\n",
       "\t61 & NA & 138 &  8.0 & 83 & 6 & 30\\\\\n",
       "\\end{tabular}\n",
       "\n",
       "\\item[\\$`7`] A data.frame: 31 × 6\n",
       "\\begin{tabular}{r|llllll}\n",
       "  & Ozone & Solar.R & Wind & Temp & Month & Day\\\\\n",
       "  & <int> & <int> & <dbl> & <int> & <int> & <int>\\\\\n",
       "\\hline\n",
       "\t62 & 135 & 269 &  4.1 & 84 & 7 &  1\\\\\n",
       "\t63 &  49 & 248 &  9.2 & 85 & 7 &  2\\\\\n",
       "\t64 &  32 & 236 &  9.2 & 81 & 7 &  3\\\\\n",
       "\t65 &  NA & 101 & 10.9 & 84 & 7 &  4\\\\\n",
       "\t66 &  64 & 175 &  4.6 & 83 & 7 &  5\\\\\n",
       "\t67 &  40 & 314 & 10.9 & 83 & 7 &  6\\\\\n",
       "\t68 &  77 & 276 &  5.1 & 88 & 7 &  7\\\\\n",
       "\t69 &  97 & 267 &  6.3 & 92 & 7 &  8\\\\\n",
       "\t70 &  97 & 272 &  5.7 & 92 & 7 &  9\\\\\n",
       "\t71 &  85 & 175 &  7.4 & 89 & 7 & 10\\\\\n",
       "\t72 &  NA & 139 &  8.6 & 82 & 7 & 11\\\\\n",
       "\t73 &  10 & 264 & 14.3 & 73 & 7 & 12\\\\\n",
       "\t74 &  27 & 175 & 14.9 & 81 & 7 & 13\\\\\n",
       "\t75 &  NA & 291 & 14.9 & 91 & 7 & 14\\\\\n",
       "\t76 &   7 &  48 & 14.3 & 80 & 7 & 15\\\\\n",
       "\t77 &  48 & 260 &  6.9 & 81 & 7 & 16\\\\\n",
       "\t78 &  35 & 274 & 10.3 & 82 & 7 & 17\\\\\n",
       "\t79 &  61 & 285 &  6.3 & 84 & 7 & 18\\\\\n",
       "\t80 &  79 & 187 &  5.1 & 87 & 7 & 19\\\\\n",
       "\t81 &  63 & 220 & 11.5 & 85 & 7 & 20\\\\\n",
       "\t82 &  16 &   7 &  6.9 & 74 & 7 & 21\\\\\n",
       "\t83 &  NA & 258 &  9.7 & 81 & 7 & 22\\\\\n",
       "\t84 &  NA & 295 & 11.5 & 82 & 7 & 23\\\\\n",
       "\t85 &  80 & 294 &  8.6 & 86 & 7 & 24\\\\\n",
       "\t86 & 108 & 223 &  8.0 & 85 & 7 & 25\\\\\n",
       "\t87 &  20 &  81 &  8.6 & 82 & 7 & 26\\\\\n",
       "\t88 &  52 &  82 & 12.0 & 86 & 7 & 27\\\\\n",
       "\t89 &  82 & 213 &  7.4 & 88 & 7 & 28\\\\\n",
       "\t90 &  50 & 275 &  7.4 & 86 & 7 & 29\\\\\n",
       "\t91 &  64 & 253 &  7.4 & 83 & 7 & 30\\\\\n",
       "\t92 &  59 & 254 &  9.2 & 81 & 7 & 31\\\\\n",
       "\\end{tabular}\n",
       "\n",
       "\\item[\\$`8`] A data.frame: 31 × 6\n",
       "\\begin{tabular}{r|llllll}\n",
       "  & Ozone & Solar.R & Wind & Temp & Month & Day\\\\\n",
       "  & <int> & <int> & <dbl> & <int> & <int> & <int>\\\\\n",
       "\\hline\n",
       "\t93 &  39 &  83 &  6.9 & 81 & 8 &  1\\\\\n",
       "\t94 &   9 &  24 & 13.8 & 81 & 8 &  2\\\\\n",
       "\t95 &  16 &  77 &  7.4 & 82 & 8 &  3\\\\\n",
       "\t96 &  78 &  NA &  6.9 & 86 & 8 &  4\\\\\n",
       "\t97 &  35 &  NA &  7.4 & 85 & 8 &  5\\\\\n",
       "\t98 &  66 &  NA &  4.6 & 87 & 8 &  6\\\\\n",
       "\t99 & 122 & 255 &  4.0 & 89 & 8 &  7\\\\\n",
       "\t100 &  89 & 229 & 10.3 & 90 & 8 &  8\\\\\n",
       "\t101 & 110 & 207 &  8.0 & 90 & 8 &  9\\\\\n",
       "\t102 &  NA & 222 &  8.6 & 92 & 8 & 10\\\\\n",
       "\t103 &  NA & 137 & 11.5 & 86 & 8 & 11\\\\\n",
       "\t104 &  44 & 192 & 11.5 & 86 & 8 & 12\\\\\n",
       "\t105 &  28 & 273 & 11.5 & 82 & 8 & 13\\\\\n",
       "\t106 &  65 & 157 &  9.7 & 80 & 8 & 14\\\\\n",
       "\t107 &  NA &  64 & 11.5 & 79 & 8 & 15\\\\\n",
       "\t108 &  22 &  71 & 10.3 & 77 & 8 & 16\\\\\n",
       "\t109 &  59 &  51 &  6.3 & 79 & 8 & 17\\\\\n",
       "\t110 &  23 & 115 &  7.4 & 76 & 8 & 18\\\\\n",
       "\t111 &  31 & 244 & 10.9 & 78 & 8 & 19\\\\\n",
       "\t112 &  44 & 190 & 10.3 & 78 & 8 & 20\\\\\n",
       "\t113 &  21 & 259 & 15.5 & 77 & 8 & 21\\\\\n",
       "\t114 &   9 &  36 & 14.3 & 72 & 8 & 22\\\\\n",
       "\t115 &  NA & 255 & 12.6 & 75 & 8 & 23\\\\\n",
       "\t116 &  45 & 212 &  9.7 & 79 & 8 & 24\\\\\n",
       "\t117 & 168 & 238 &  3.4 & 81 & 8 & 25\\\\\n",
       "\t118 &  73 & 215 &  8.0 & 86 & 8 & 26\\\\\n",
       "\t119 &  NA & 153 &  5.7 & 88 & 8 & 27\\\\\n",
       "\t120 &  76 & 203 &  9.7 & 97 & 8 & 28\\\\\n",
       "\t121 & 118 & 225 &  2.3 & 94 & 8 & 29\\\\\n",
       "\t122 &  84 & 237 &  6.3 & 96 & 8 & 30\\\\\n",
       "\t123 &  85 & 188 &  6.3 & 94 & 8 & 31\\\\\n",
       "\\end{tabular}\n",
       "\n",
       "\\item[\\$`9`] A data.frame: 30 × 6\n",
       "\\begin{tabular}{r|llllll}\n",
       "  & Ozone & Solar.R & Wind & Temp & Month & Day\\\\\n",
       "  & <int> & <int> & <dbl> & <int> & <int> & <int>\\\\\n",
       "\\hline\n",
       "\t124 & 96 & 167 &  6.9 & 91 & 9 &  1\\\\\n",
       "\t125 & 78 & 197 &  5.1 & 92 & 9 &  2\\\\\n",
       "\t126 & 73 & 183 &  2.8 & 93 & 9 &  3\\\\\n",
       "\t127 & 91 & 189 &  4.6 & 93 & 9 &  4\\\\\n",
       "\t128 & 47 &  95 &  7.4 & 87 & 9 &  5\\\\\n",
       "\t129 & 32 &  92 & 15.5 & 84 & 9 &  6\\\\\n",
       "\t130 & 20 & 252 & 10.9 & 80 & 9 &  7\\\\\n",
       "\t131 & 23 & 220 & 10.3 & 78 & 9 &  8\\\\\n",
       "\t132 & 21 & 230 & 10.9 & 75 & 9 &  9\\\\\n",
       "\t133 & 24 & 259 &  9.7 & 73 & 9 & 10\\\\\n",
       "\t134 & 44 & 236 & 14.9 & 81 & 9 & 11\\\\\n",
       "\t135 & 21 & 259 & 15.5 & 76 & 9 & 12\\\\\n",
       "\t136 & 28 & 238 &  6.3 & 77 & 9 & 13\\\\\n",
       "\t137 &  9 &  24 & 10.9 & 71 & 9 & 14\\\\\n",
       "\t138 & 13 & 112 & 11.5 & 71 & 9 & 15\\\\\n",
       "\t139 & 46 & 237 &  6.9 & 78 & 9 & 16\\\\\n",
       "\t140 & 18 & 224 & 13.8 & 67 & 9 & 17\\\\\n",
       "\t141 & 13 &  27 & 10.3 & 76 & 9 & 18\\\\\n",
       "\t142 & 24 & 238 & 10.3 & 68 & 9 & 19\\\\\n",
       "\t143 & 16 & 201 &  8.0 & 82 & 9 & 20\\\\\n",
       "\t144 & 13 & 238 & 12.6 & 64 & 9 & 21\\\\\n",
       "\t145 & 23 &  14 &  9.2 & 71 & 9 & 22\\\\\n",
       "\t146 & 36 & 139 & 10.3 & 81 & 9 & 23\\\\\n",
       "\t147 &  7 &  49 & 10.3 & 69 & 9 & 24\\\\\n",
       "\t148 & 14 &  20 & 16.6 & 63 & 9 & 25\\\\\n",
       "\t149 & 30 & 193 &  6.9 & 70 & 9 & 26\\\\\n",
       "\t150 & NA & 145 & 13.2 & 77 & 9 & 27\\\\\n",
       "\t151 & 14 & 191 & 14.3 & 75 & 9 & 28\\\\\n",
       "\t152 & 18 & 131 &  8.0 & 76 & 9 & 29\\\\\n",
       "\t153 & 20 & 223 & 11.5 & 68 & 9 & 30\\\\\n",
       "\\end{tabular}\n",
       "\n",
       "\\end{description}\n"
      ],
      "text/markdown": [
       "$`5`\n",
       ":   \n",
       "A data.frame: 31 × 6\n",
       "\n",
       "| <!--/--> | Ozone &lt;int&gt; | Solar.R &lt;int&gt; | Wind &lt;dbl&gt; | Temp &lt;int&gt; | Month &lt;int&gt; | Day &lt;int&gt; |\n",
       "|---|---|---|---|---|---|---|\n",
       "| 1 |  41 | 190 |  7.4 | 67 | 5 |  1 |\n",
       "| 2 |  36 | 118 |  8.0 | 72 | 5 |  2 |\n",
       "| 3 |  12 | 149 | 12.6 | 74 | 5 |  3 |\n",
       "| 4 |  18 | 313 | 11.5 | 62 | 5 |  4 |\n",
       "| 5 |  NA |  NA | 14.3 | 56 | 5 |  5 |\n",
       "| 6 |  28 |  NA | 14.9 | 66 | 5 |  6 |\n",
       "| 7 |  23 | 299 |  8.6 | 65 | 5 |  7 |\n",
       "| 8 |  19 |  99 | 13.8 | 59 | 5 |  8 |\n",
       "| 9 |   8 |  19 | 20.1 | 61 | 5 |  9 |\n",
       "| 10 |  NA | 194 |  8.6 | 69 | 5 | 10 |\n",
       "| 11 |   7 |  NA |  6.9 | 74 | 5 | 11 |\n",
       "| 12 |  16 | 256 |  9.7 | 69 | 5 | 12 |\n",
       "| 13 |  11 | 290 |  9.2 | 66 | 5 | 13 |\n",
       "| 14 |  14 | 274 | 10.9 | 68 | 5 | 14 |\n",
       "| 15 |  18 |  65 | 13.2 | 58 | 5 | 15 |\n",
       "| 16 |  14 | 334 | 11.5 | 64 | 5 | 16 |\n",
       "| 17 |  34 | 307 | 12.0 | 66 | 5 | 17 |\n",
       "| 18 |   6 |  78 | 18.4 | 57 | 5 | 18 |\n",
       "| 19 |  30 | 322 | 11.5 | 68 | 5 | 19 |\n",
       "| 20 |  11 |  44 |  9.7 | 62 | 5 | 20 |\n",
       "| 21 |   1 |   8 |  9.7 | 59 | 5 | 21 |\n",
       "| 22 |  11 | 320 | 16.6 | 73 | 5 | 22 |\n",
       "| 23 |   4 |  25 |  9.7 | 61 | 5 | 23 |\n",
       "| 24 |  32 |  92 | 12.0 | 61 | 5 | 24 |\n",
       "| 25 |  NA |  66 | 16.6 | 57 | 5 | 25 |\n",
       "| 26 |  NA | 266 | 14.9 | 58 | 5 | 26 |\n",
       "| 27 |  NA |  NA |  8.0 | 57 | 5 | 27 |\n",
       "| 28 |  23 |  13 | 12.0 | 67 | 5 | 28 |\n",
       "| 29 |  45 | 252 | 14.9 | 81 | 5 | 29 |\n",
       "| 30 | 115 | 223 |  5.7 | 79 | 5 | 30 |\n",
       "| 31 |  37 | 279 |  7.4 | 76 | 5 | 31 |\n",
       "\n",
       "\n",
       "$`6`\n",
       ":   \n",
       "A data.frame: 30 × 6\n",
       "\n",
       "| <!--/--> | Ozone &lt;int&gt; | Solar.R &lt;int&gt; | Wind &lt;dbl&gt; | Temp &lt;int&gt; | Month &lt;int&gt; | Day &lt;int&gt; |\n",
       "|---|---|---|---|---|---|---|\n",
       "| 32 | NA | 286 |  8.6 | 78 | 6 |  1 |\n",
       "| 33 | NA | 287 |  9.7 | 74 | 6 |  2 |\n",
       "| 34 | NA | 242 | 16.1 | 67 | 6 |  3 |\n",
       "| 35 | NA | 186 |  9.2 | 84 | 6 |  4 |\n",
       "| 36 | NA | 220 |  8.6 | 85 | 6 |  5 |\n",
       "| 37 | NA | 264 | 14.3 | 79 | 6 |  6 |\n",
       "| 38 | 29 | 127 |  9.7 | 82 | 6 |  7 |\n",
       "| 39 | NA | 273 |  6.9 | 87 | 6 |  8 |\n",
       "| 40 | 71 | 291 | 13.8 | 90 | 6 |  9 |\n",
       "| 41 | 39 | 323 | 11.5 | 87 | 6 | 10 |\n",
       "| 42 | NA | 259 | 10.9 | 93 | 6 | 11 |\n",
       "| 43 | NA | 250 |  9.2 | 92 | 6 | 12 |\n",
       "| 44 | 23 | 148 |  8.0 | 82 | 6 | 13 |\n",
       "| 45 | NA | 332 | 13.8 | 80 | 6 | 14 |\n",
       "| 46 | NA | 322 | 11.5 | 79 | 6 | 15 |\n",
       "| 47 | 21 | 191 | 14.9 | 77 | 6 | 16 |\n",
       "| 48 | 37 | 284 | 20.7 | 72 | 6 | 17 |\n",
       "| 49 | 20 |  37 |  9.2 | 65 | 6 | 18 |\n",
       "| 50 | 12 | 120 | 11.5 | 73 | 6 | 19 |\n",
       "| 51 | 13 | 137 | 10.3 | 76 | 6 | 20 |\n",
       "| 52 | NA | 150 |  6.3 | 77 | 6 | 21 |\n",
       "| 53 | NA |  59 |  1.7 | 76 | 6 | 22 |\n",
       "| 54 | NA |  91 |  4.6 | 76 | 6 | 23 |\n",
       "| 55 | NA | 250 |  6.3 | 76 | 6 | 24 |\n",
       "| 56 | NA | 135 |  8.0 | 75 | 6 | 25 |\n",
       "| 57 | NA | 127 |  8.0 | 78 | 6 | 26 |\n",
       "| 58 | NA |  47 | 10.3 | 73 | 6 | 27 |\n",
       "| 59 | NA |  98 | 11.5 | 80 | 6 | 28 |\n",
       "| 60 | NA |  31 | 14.9 | 77 | 6 | 29 |\n",
       "| 61 | NA | 138 |  8.0 | 83 | 6 | 30 |\n",
       "\n",
       "\n",
       "$`7`\n",
       ":   \n",
       "A data.frame: 31 × 6\n",
       "\n",
       "| <!--/--> | Ozone &lt;int&gt; | Solar.R &lt;int&gt; | Wind &lt;dbl&gt; | Temp &lt;int&gt; | Month &lt;int&gt; | Day &lt;int&gt; |\n",
       "|---|---|---|---|---|---|---|\n",
       "| 62 | 135 | 269 |  4.1 | 84 | 7 |  1 |\n",
       "| 63 |  49 | 248 |  9.2 | 85 | 7 |  2 |\n",
       "| 64 |  32 | 236 |  9.2 | 81 | 7 |  3 |\n",
       "| 65 |  NA | 101 | 10.9 | 84 | 7 |  4 |\n",
       "| 66 |  64 | 175 |  4.6 | 83 | 7 |  5 |\n",
       "| 67 |  40 | 314 | 10.9 | 83 | 7 |  6 |\n",
       "| 68 |  77 | 276 |  5.1 | 88 | 7 |  7 |\n",
       "| 69 |  97 | 267 |  6.3 | 92 | 7 |  8 |\n",
       "| 70 |  97 | 272 |  5.7 | 92 | 7 |  9 |\n",
       "| 71 |  85 | 175 |  7.4 | 89 | 7 | 10 |\n",
       "| 72 |  NA | 139 |  8.6 | 82 | 7 | 11 |\n",
       "| 73 |  10 | 264 | 14.3 | 73 | 7 | 12 |\n",
       "| 74 |  27 | 175 | 14.9 | 81 | 7 | 13 |\n",
       "| 75 |  NA | 291 | 14.9 | 91 | 7 | 14 |\n",
       "| 76 |   7 |  48 | 14.3 | 80 | 7 | 15 |\n",
       "| 77 |  48 | 260 |  6.9 | 81 | 7 | 16 |\n",
       "| 78 |  35 | 274 | 10.3 | 82 | 7 | 17 |\n",
       "| 79 |  61 | 285 |  6.3 | 84 | 7 | 18 |\n",
       "| 80 |  79 | 187 |  5.1 | 87 | 7 | 19 |\n",
       "| 81 |  63 | 220 | 11.5 | 85 | 7 | 20 |\n",
       "| 82 |  16 |   7 |  6.9 | 74 | 7 | 21 |\n",
       "| 83 |  NA | 258 |  9.7 | 81 | 7 | 22 |\n",
       "| 84 |  NA | 295 | 11.5 | 82 | 7 | 23 |\n",
       "| 85 |  80 | 294 |  8.6 | 86 | 7 | 24 |\n",
       "| 86 | 108 | 223 |  8.0 | 85 | 7 | 25 |\n",
       "| 87 |  20 |  81 |  8.6 | 82 | 7 | 26 |\n",
       "| 88 |  52 |  82 | 12.0 | 86 | 7 | 27 |\n",
       "| 89 |  82 | 213 |  7.4 | 88 | 7 | 28 |\n",
       "| 90 |  50 | 275 |  7.4 | 86 | 7 | 29 |\n",
       "| 91 |  64 | 253 |  7.4 | 83 | 7 | 30 |\n",
       "| 92 |  59 | 254 |  9.2 | 81 | 7 | 31 |\n",
       "\n",
       "\n",
       "$`8`\n",
       ":   \n",
       "A data.frame: 31 × 6\n",
       "\n",
       "| <!--/--> | Ozone &lt;int&gt; | Solar.R &lt;int&gt; | Wind &lt;dbl&gt; | Temp &lt;int&gt; | Month &lt;int&gt; | Day &lt;int&gt; |\n",
       "|---|---|---|---|---|---|---|\n",
       "| 93 |  39 |  83 |  6.9 | 81 | 8 |  1 |\n",
       "| 94 |   9 |  24 | 13.8 | 81 | 8 |  2 |\n",
       "| 95 |  16 |  77 |  7.4 | 82 | 8 |  3 |\n",
       "| 96 |  78 |  NA |  6.9 | 86 | 8 |  4 |\n",
       "| 97 |  35 |  NA |  7.4 | 85 | 8 |  5 |\n",
       "| 98 |  66 |  NA |  4.6 | 87 | 8 |  6 |\n",
       "| 99 | 122 | 255 |  4.0 | 89 | 8 |  7 |\n",
       "| 100 |  89 | 229 | 10.3 | 90 | 8 |  8 |\n",
       "| 101 | 110 | 207 |  8.0 | 90 | 8 |  9 |\n",
       "| 102 |  NA | 222 |  8.6 | 92 | 8 | 10 |\n",
       "| 103 |  NA | 137 | 11.5 | 86 | 8 | 11 |\n",
       "| 104 |  44 | 192 | 11.5 | 86 | 8 | 12 |\n",
       "| 105 |  28 | 273 | 11.5 | 82 | 8 | 13 |\n",
       "| 106 |  65 | 157 |  9.7 | 80 | 8 | 14 |\n",
       "| 107 |  NA |  64 | 11.5 | 79 | 8 | 15 |\n",
       "| 108 |  22 |  71 | 10.3 | 77 | 8 | 16 |\n",
       "| 109 |  59 |  51 |  6.3 | 79 | 8 | 17 |\n",
       "| 110 |  23 | 115 |  7.4 | 76 | 8 | 18 |\n",
       "| 111 |  31 | 244 | 10.9 | 78 | 8 | 19 |\n",
       "| 112 |  44 | 190 | 10.3 | 78 | 8 | 20 |\n",
       "| 113 |  21 | 259 | 15.5 | 77 | 8 | 21 |\n",
       "| 114 |   9 |  36 | 14.3 | 72 | 8 | 22 |\n",
       "| 115 |  NA | 255 | 12.6 | 75 | 8 | 23 |\n",
       "| 116 |  45 | 212 |  9.7 | 79 | 8 | 24 |\n",
       "| 117 | 168 | 238 |  3.4 | 81 | 8 | 25 |\n",
       "| 118 |  73 | 215 |  8.0 | 86 | 8 | 26 |\n",
       "| 119 |  NA | 153 |  5.7 | 88 | 8 | 27 |\n",
       "| 120 |  76 | 203 |  9.7 | 97 | 8 | 28 |\n",
       "| 121 | 118 | 225 |  2.3 | 94 | 8 | 29 |\n",
       "| 122 |  84 | 237 |  6.3 | 96 | 8 | 30 |\n",
       "| 123 |  85 | 188 |  6.3 | 94 | 8 | 31 |\n",
       "\n",
       "\n",
       "$`9`\n",
       ":   \n",
       "A data.frame: 30 × 6\n",
       "\n",
       "| <!--/--> | Ozone &lt;int&gt; | Solar.R &lt;int&gt; | Wind &lt;dbl&gt; | Temp &lt;int&gt; | Month &lt;int&gt; | Day &lt;int&gt; |\n",
       "|---|---|---|---|---|---|---|\n",
       "| 124 | 96 | 167 |  6.9 | 91 | 9 |  1 |\n",
       "| 125 | 78 | 197 |  5.1 | 92 | 9 |  2 |\n",
       "| 126 | 73 | 183 |  2.8 | 93 | 9 |  3 |\n",
       "| 127 | 91 | 189 |  4.6 | 93 | 9 |  4 |\n",
       "| 128 | 47 |  95 |  7.4 | 87 | 9 |  5 |\n",
       "| 129 | 32 |  92 | 15.5 | 84 | 9 |  6 |\n",
       "| 130 | 20 | 252 | 10.9 | 80 | 9 |  7 |\n",
       "| 131 | 23 | 220 | 10.3 | 78 | 9 |  8 |\n",
       "| 132 | 21 | 230 | 10.9 | 75 | 9 |  9 |\n",
       "| 133 | 24 | 259 |  9.7 | 73 | 9 | 10 |\n",
       "| 134 | 44 | 236 | 14.9 | 81 | 9 | 11 |\n",
       "| 135 | 21 | 259 | 15.5 | 76 | 9 | 12 |\n",
       "| 136 | 28 | 238 |  6.3 | 77 | 9 | 13 |\n",
       "| 137 |  9 |  24 | 10.9 | 71 | 9 | 14 |\n",
       "| 138 | 13 | 112 | 11.5 | 71 | 9 | 15 |\n",
       "| 139 | 46 | 237 |  6.9 | 78 | 9 | 16 |\n",
       "| 140 | 18 | 224 | 13.8 | 67 | 9 | 17 |\n",
       "| 141 | 13 |  27 | 10.3 | 76 | 9 | 18 |\n",
       "| 142 | 24 | 238 | 10.3 | 68 | 9 | 19 |\n",
       "| 143 | 16 | 201 |  8.0 | 82 | 9 | 20 |\n",
       "| 144 | 13 | 238 | 12.6 | 64 | 9 | 21 |\n",
       "| 145 | 23 |  14 |  9.2 | 71 | 9 | 22 |\n",
       "| 146 | 36 | 139 | 10.3 | 81 | 9 | 23 |\n",
       "| 147 |  7 |  49 | 10.3 | 69 | 9 | 24 |\n",
       "| 148 | 14 |  20 | 16.6 | 63 | 9 | 25 |\n",
       "| 149 | 30 | 193 |  6.9 | 70 | 9 | 26 |\n",
       "| 150 | NA | 145 | 13.2 | 77 | 9 | 27 |\n",
       "| 151 | 14 | 191 | 14.3 | 75 | 9 | 28 |\n",
       "| 152 | 18 | 131 |  8.0 | 76 | 9 | 29 |\n",
       "| 153 | 20 | 223 | 11.5 | 68 | 9 | 30 |\n",
       "\n",
       "\n",
       "\n",
       "\n"
      ],
      "text/plain": [
       "$`5`\n",
       "   Ozone Solar.R Wind Temp Month Day\n",
       "1     41     190  7.4   67     5   1\n",
       "2     36     118  8.0   72     5   2\n",
       "3     12     149 12.6   74     5   3\n",
       "4     18     313 11.5   62     5   4\n",
       "5     NA      NA 14.3   56     5   5\n",
       "6     28      NA 14.9   66     5   6\n",
       "7     23     299  8.6   65     5   7\n",
       "8     19      99 13.8   59     5   8\n",
       "9      8      19 20.1   61     5   9\n",
       "10    NA     194  8.6   69     5  10\n",
       "11     7      NA  6.9   74     5  11\n",
       "12    16     256  9.7   69     5  12\n",
       "13    11     290  9.2   66     5  13\n",
       "14    14     274 10.9   68     5  14\n",
       "15    18      65 13.2   58     5  15\n",
       "16    14     334 11.5   64     5  16\n",
       "17    34     307 12.0   66     5  17\n",
       "18     6      78 18.4   57     5  18\n",
       "19    30     322 11.5   68     5  19\n",
       "20    11      44  9.7   62     5  20\n",
       "21     1       8  9.7   59     5  21\n",
       "22    11     320 16.6   73     5  22\n",
       "23     4      25  9.7   61     5  23\n",
       "24    32      92 12.0   61     5  24\n",
       "25    NA      66 16.6   57     5  25\n",
       "26    NA     266 14.9   58     5  26\n",
       "27    NA      NA  8.0   57     5  27\n",
       "28    23      13 12.0   67     5  28\n",
       "29    45     252 14.9   81     5  29\n",
       "30   115     223  5.7   79     5  30\n",
       "31    37     279  7.4   76     5  31\n",
       "\n",
       "$`6`\n",
       "   Ozone Solar.R Wind Temp Month Day\n",
       "32    NA     286  8.6   78     6   1\n",
       "33    NA     287  9.7   74     6   2\n",
       "34    NA     242 16.1   67     6   3\n",
       "35    NA     186  9.2   84     6   4\n",
       "36    NA     220  8.6   85     6   5\n",
       "37    NA     264 14.3   79     6   6\n",
       "38    29     127  9.7   82     6   7\n",
       "39    NA     273  6.9   87     6   8\n",
       "40    71     291 13.8   90     6   9\n",
       "41    39     323 11.5   87     6  10\n",
       "42    NA     259 10.9   93     6  11\n",
       "43    NA     250  9.2   92     6  12\n",
       "44    23     148  8.0   82     6  13\n",
       "45    NA     332 13.8   80     6  14\n",
       "46    NA     322 11.5   79     6  15\n",
       "47    21     191 14.9   77     6  16\n",
       "48    37     284 20.7   72     6  17\n",
       "49    20      37  9.2   65     6  18\n",
       "50    12     120 11.5   73     6  19\n",
       "51    13     137 10.3   76     6  20\n",
       "52    NA     150  6.3   77     6  21\n",
       "53    NA      59  1.7   76     6  22\n",
       "54    NA      91  4.6   76     6  23\n",
       "55    NA     250  6.3   76     6  24\n",
       "56    NA     135  8.0   75     6  25\n",
       "57    NA     127  8.0   78     6  26\n",
       "58    NA      47 10.3   73     6  27\n",
       "59    NA      98 11.5   80     6  28\n",
       "60    NA      31 14.9   77     6  29\n",
       "61    NA     138  8.0   83     6  30\n",
       "\n",
       "$`7`\n",
       "   Ozone Solar.R Wind Temp Month Day\n",
       "62   135     269  4.1   84     7   1\n",
       "63    49     248  9.2   85     7   2\n",
       "64    32     236  9.2   81     7   3\n",
       "65    NA     101 10.9   84     7   4\n",
       "66    64     175  4.6   83     7   5\n",
       "67    40     314 10.9   83     7   6\n",
       "68    77     276  5.1   88     7   7\n",
       "69    97     267  6.3   92     7   8\n",
       "70    97     272  5.7   92     7   9\n",
       "71    85     175  7.4   89     7  10\n",
       "72    NA     139  8.6   82     7  11\n",
       "73    10     264 14.3   73     7  12\n",
       "74    27     175 14.9   81     7  13\n",
       "75    NA     291 14.9   91     7  14\n",
       "76     7      48 14.3   80     7  15\n",
       "77    48     260  6.9   81     7  16\n",
       "78    35     274 10.3   82     7  17\n",
       "79    61     285  6.3   84     7  18\n",
       "80    79     187  5.1   87     7  19\n",
       "81    63     220 11.5   85     7  20\n",
       "82    16       7  6.9   74     7  21\n",
       "83    NA     258  9.7   81     7  22\n",
       "84    NA     295 11.5   82     7  23\n",
       "85    80     294  8.6   86     7  24\n",
       "86   108     223  8.0   85     7  25\n",
       "87    20      81  8.6   82     7  26\n",
       "88    52      82 12.0   86     7  27\n",
       "89    82     213  7.4   88     7  28\n",
       "90    50     275  7.4   86     7  29\n",
       "91    64     253  7.4   83     7  30\n",
       "92    59     254  9.2   81     7  31\n",
       "\n",
       "$`8`\n",
       "    Ozone Solar.R Wind Temp Month Day\n",
       "93     39      83  6.9   81     8   1\n",
       "94      9      24 13.8   81     8   2\n",
       "95     16      77  7.4   82     8   3\n",
       "96     78      NA  6.9   86     8   4\n",
       "97     35      NA  7.4   85     8   5\n",
       "98     66      NA  4.6   87     8   6\n",
       "99    122     255  4.0   89     8   7\n",
       "100    89     229 10.3   90     8   8\n",
       "101   110     207  8.0   90     8   9\n",
       "102    NA     222  8.6   92     8  10\n",
       "103    NA     137 11.5   86     8  11\n",
       "104    44     192 11.5   86     8  12\n",
       "105    28     273 11.5   82     8  13\n",
       "106    65     157  9.7   80     8  14\n",
       "107    NA      64 11.5   79     8  15\n",
       "108    22      71 10.3   77     8  16\n",
       "109    59      51  6.3   79     8  17\n",
       "110    23     115  7.4   76     8  18\n",
       "111    31     244 10.9   78     8  19\n",
       "112    44     190 10.3   78     8  20\n",
       "113    21     259 15.5   77     8  21\n",
       "114     9      36 14.3   72     8  22\n",
       "115    NA     255 12.6   75     8  23\n",
       "116    45     212  9.7   79     8  24\n",
       "117   168     238  3.4   81     8  25\n",
       "118    73     215  8.0   86     8  26\n",
       "119    NA     153  5.7   88     8  27\n",
       "120    76     203  9.7   97     8  28\n",
       "121   118     225  2.3   94     8  29\n",
       "122    84     237  6.3   96     8  30\n",
       "123    85     188  6.3   94     8  31\n",
       "\n",
       "$`9`\n",
       "    Ozone Solar.R Wind Temp Month Day\n",
       "124    96     167  6.9   91     9   1\n",
       "125    78     197  5.1   92     9   2\n",
       "126    73     183  2.8   93     9   3\n",
       "127    91     189  4.6   93     9   4\n",
       "128    47      95  7.4   87     9   5\n",
       "129    32      92 15.5   84     9   6\n",
       "130    20     252 10.9   80     9   7\n",
       "131    23     220 10.3   78     9   8\n",
       "132    21     230 10.9   75     9   9\n",
       "133    24     259  9.7   73     9  10\n",
       "134    44     236 14.9   81     9  11\n",
       "135    21     259 15.5   76     9  12\n",
       "136    28     238  6.3   77     9  13\n",
       "137     9      24 10.9   71     9  14\n",
       "138    13     112 11.5   71     9  15\n",
       "139    46     237  6.9   78     9  16\n",
       "140    18     224 13.8   67     9  17\n",
       "141    13      27 10.3   76     9  18\n",
       "142    24     238 10.3   68     9  19\n",
       "143    16     201  8.0   82     9  20\n",
       "144    13     238 12.6   64     9  21\n",
       "145    23      14  9.2   71     9  22\n",
       "146    36     139 10.3   81     9  23\n",
       "147     7      49 10.3   69     9  24\n",
       "148    14      20 16.6   63     9  25\n",
       "149    30     193  6.9   70     9  26\n",
       "150    NA     145 13.2   77     9  27\n",
       "151    14     191 14.3   75     9  28\n",
       "152    18     131  8.0   76     9  29\n",
       "153    20     223 11.5   68     9  30\n"
      ]
     },
     "metadata": {},
     "output_type": "display_data"
    }
   ],
   "source": [
    "# Splitting the dataframe by 'Month'\n",
    "(s <- split(airquality, airquality$Month))"
   ]
  },
  {
   "cell_type": "code",
   "execution_count": 101,
   "id": "502fab2c",
   "metadata": {},
   "outputs": [
    {
     "data": {
      "text/html": [
       "<dl>\n",
       "\t<dt>$`5`</dt>\n",
       "\t\t<dd><style>\n",
       ".dl-inline {width: auto; margin:0; padding: 0}\n",
       ".dl-inline>dt, .dl-inline>dd {float: none; width: auto; display: inline-block}\n",
       ".dl-inline>dt::after {content: \":\\0020\"; padding-right: .5ex}\n",
       ".dl-inline>dt:not(:first-of-type) {padding-left: .5ex}\n",
       "</style><dl class=dl-inline><dt>Ozone</dt><dd>&lt;NA&gt;</dd><dt>Solar.R</dt><dd>&lt;NA&gt;</dd><dt>Wind</dt><dd>11.6225806451613</dd></dl>\n",
       "</dd>\n",
       "\t<dt>$`6`</dt>\n",
       "\t\t<dd><style>\n",
       ".dl-inline {width: auto; margin:0; padding: 0}\n",
       ".dl-inline>dt, .dl-inline>dd {float: none; width: auto; display: inline-block}\n",
       ".dl-inline>dt::after {content: \":\\0020\"; padding-right: .5ex}\n",
       ".dl-inline>dt:not(:first-of-type) {padding-left: .5ex}\n",
       "</style><dl class=dl-inline><dt>Ozone</dt><dd>&lt;NA&gt;</dd><dt>Solar.R</dt><dd>190.166666666667</dd><dt>Wind</dt><dd>10.2666666666667</dd></dl>\n",
       "</dd>\n",
       "\t<dt>$`7`</dt>\n",
       "\t\t<dd><style>\n",
       ".dl-inline {width: auto; margin:0; padding: 0}\n",
       ".dl-inline>dt, .dl-inline>dd {float: none; width: auto; display: inline-block}\n",
       ".dl-inline>dt::after {content: \":\\0020\"; padding-right: .5ex}\n",
       ".dl-inline>dt:not(:first-of-type) {padding-left: .5ex}\n",
       "</style><dl class=dl-inline><dt>Ozone</dt><dd>&lt;NA&gt;</dd><dt>Solar.R</dt><dd>216.483870967742</dd><dt>Wind</dt><dd>8.94193548387097</dd></dl>\n",
       "</dd>\n",
       "\t<dt>$`8`</dt>\n",
       "\t\t<dd><style>\n",
       ".dl-inline {width: auto; margin:0; padding: 0}\n",
       ".dl-inline>dt, .dl-inline>dd {float: none; width: auto; display: inline-block}\n",
       ".dl-inline>dt::after {content: \":\\0020\"; padding-right: .5ex}\n",
       ".dl-inline>dt:not(:first-of-type) {padding-left: .5ex}\n",
       "</style><dl class=dl-inline><dt>Ozone</dt><dd>&lt;NA&gt;</dd><dt>Solar.R</dt><dd>&lt;NA&gt;</dd><dt>Wind</dt><dd>8.79354838709677</dd></dl>\n",
       "</dd>\n",
       "\t<dt>$`9`</dt>\n",
       "\t\t<dd><style>\n",
       ".dl-inline {width: auto; margin:0; padding: 0}\n",
       ".dl-inline>dt, .dl-inline>dd {float: none; width: auto; display: inline-block}\n",
       ".dl-inline>dt::after {content: \":\\0020\"; padding-right: .5ex}\n",
       ".dl-inline>dt:not(:first-of-type) {padding-left: .5ex}\n",
       "</style><dl class=dl-inline><dt>Ozone</dt><dd>&lt;NA&gt;</dd><dt>Solar.R</dt><dd>167.433333333333</dd><dt>Wind</dt><dd>10.18</dd></dl>\n",
       "</dd>\n",
       "</dl>\n"
      ],
      "text/latex": [
       "\\begin{description}\n",
       "\\item[\\$`5`] \\begin{description*}\n",
       "\\item[Ozone] <NA>\n",
       "\\item[Solar.R] <NA>\n",
       "\\item[Wind] 11.6225806451613\n",
       "\\end{description*}\n",
       "\n",
       "\\item[\\$`6`] \\begin{description*}\n",
       "\\item[Ozone] <NA>\n",
       "\\item[Solar.R] 190.166666666667\n",
       "\\item[Wind] 10.2666666666667\n",
       "\\end{description*}\n",
       "\n",
       "\\item[\\$`7`] \\begin{description*}\n",
       "\\item[Ozone] <NA>\n",
       "\\item[Solar.R] 216.483870967742\n",
       "\\item[Wind] 8.94193548387097\n",
       "\\end{description*}\n",
       "\n",
       "\\item[\\$`8`] \\begin{description*}\n",
       "\\item[Ozone] <NA>\n",
       "\\item[Solar.R] <NA>\n",
       "\\item[Wind] 8.79354838709677\n",
       "\\end{description*}\n",
       "\n",
       "\\item[\\$`9`] \\begin{description*}\n",
       "\\item[Ozone] <NA>\n",
       "\\item[Solar.R] 167.433333333333\n",
       "\\item[Wind] 10.18\n",
       "\\end{description*}\n",
       "\n",
       "\\end{description}\n"
      ],
      "text/markdown": [
       "$`5`\n",
       ":   Ozone\n",
       ":   &lt;NA&gt;Solar.R\n",
       ":   &lt;NA&gt;Wind\n",
       ":   11.6225806451613\n",
       "\n",
       "\n",
       "$`6`\n",
       ":   Ozone\n",
       ":   &lt;NA&gt;Solar.R\n",
       ":   190.166666666667Wind\n",
       ":   10.2666666666667\n",
       "\n",
       "\n",
       "$`7`\n",
       ":   Ozone\n",
       ":   &lt;NA&gt;Solar.R\n",
       ":   216.483870967742Wind\n",
       ":   8.94193548387097\n",
       "\n",
       "\n",
       "$`8`\n",
       ":   Ozone\n",
       ":   &lt;NA&gt;Solar.R\n",
       ":   &lt;NA&gt;Wind\n",
       ":   8.79354838709677\n",
       "\n",
       "\n",
       "$`9`\n",
       ":   Ozone\n",
       ":   &lt;NA&gt;Solar.R\n",
       ":   167.433333333333Wind\n",
       ":   10.18\n",
       "\n",
       "\n",
       "\n",
       "\n"
      ],
      "text/plain": [
       "$`5`\n",
       "   Ozone  Solar.R     Wind \n",
       "      NA       NA 11.62258 \n",
       "\n",
       "$`6`\n",
       "    Ozone   Solar.R      Wind \n",
       "       NA 190.16667  10.26667 \n",
       "\n",
       "$`7`\n",
       "     Ozone    Solar.R       Wind \n",
       "        NA 216.483871   8.941935 \n",
       "\n",
       "$`8`\n",
       "   Ozone  Solar.R     Wind \n",
       "      NA       NA 8.793548 \n",
       "\n",
       "$`9`\n",
       "   Ozone  Solar.R     Wind \n",
       "      NA 167.4333  10.1800 \n"
      ]
     },
     "metadata": {},
     "output_type": "display_data"
    }
   ],
   "source": [
    "lapply(s, function(x) colMeans(x[, c(\"Ozone\", \"Solar.R\", \"Wind\")]))"
   ]
  },
  {
   "cell_type": "markdown",
   "id": "13fd26bc",
   "metadata": {},
   "source": [
    "Let's simplify the output using `sapply`, and remove the NAs :"
   ]
  },
  {
   "cell_type": "code",
   "execution_count": 102,
   "id": "306fccc4",
   "metadata": {
    "scrolled": true
   },
   "outputs": [
    {
     "data": {
      "text/html": [
       "<table class=\"dataframe\">\n",
       "<caption>A matrix: 3 × 5 of type dbl</caption>\n",
       "<thead>\n",
       "\t<tr><th></th><th scope=col>5</th><th scope=col>6</th><th scope=col>7</th><th scope=col>8</th><th scope=col>9</th></tr>\n",
       "</thead>\n",
       "<tbody>\n",
       "\t<tr><th scope=row>Ozone</th><td> 23.61538</td><td> 29.44444</td><td> 59.115385</td><td> 59.961538</td><td> 31.44828</td></tr>\n",
       "\t<tr><th scope=row>Solar.R</th><td>181.29630</td><td>190.16667</td><td>216.483871</td><td>171.857143</td><td>167.43333</td></tr>\n",
       "\t<tr><th scope=row>Wind</th><td> 11.62258</td><td> 10.26667</td><td>  8.941935</td><td>  8.793548</td><td> 10.18000</td></tr>\n",
       "</tbody>\n",
       "</table>\n"
      ],
      "text/latex": [
       "A matrix: 3 × 5 of type dbl\n",
       "\\begin{tabular}{r|lllll}\n",
       "  & 5 & 6 & 7 & 8 & 9\\\\\n",
       "\\hline\n",
       "\tOzone &  23.61538 &  29.44444 &  59.115385 &  59.961538 &  31.44828\\\\\n",
       "\tSolar.R & 181.29630 & 190.16667 & 216.483871 & 171.857143 & 167.43333\\\\\n",
       "\tWind &  11.62258 &  10.26667 &   8.941935 &   8.793548 &  10.18000\\\\\n",
       "\\end{tabular}\n"
      ],
      "text/markdown": [
       "\n",
       "A matrix: 3 × 5 of type dbl\n",
       "\n",
       "| <!--/--> | 5 | 6 | 7 | 8 | 9 |\n",
       "|---|---|---|---|---|---|\n",
       "| Ozone |  23.61538 |  29.44444 |  59.115385 |  59.961538 |  31.44828 |\n",
       "| Solar.R | 181.29630 | 190.16667 | 216.483871 | 171.857143 | 167.43333 |\n",
       "| Wind |  11.62258 |  10.26667 |   8.941935 |   8.793548 |  10.18000 |\n",
       "\n"
      ],
      "text/plain": [
       "        5         6         7          8          9        \n",
       "Ozone    23.61538  29.44444  59.115385  59.961538  31.44828\n",
       "Solar.R 181.29630 190.16667 216.483871 171.857143 167.43333\n",
       "Wind     11.62258  10.26667   8.941935   8.793548  10.18000"
      ]
     },
     "metadata": {},
     "output_type": "display_data"
    }
   ],
   "source": [
    "sapply(s, function(x) colMeans(x[, c(\"Ozone\", \"Solar.R\", \"Wind\")], na.rm = TRUE))"
   ]
  },
  {
   "cell_type": "markdown",
   "id": "eecd0138",
   "metadata": {},
   "source": [
    "**NOTE : Splitting on more than one level**\n",
    "\n",
    "In the past couple of examples, we had only a single factor variable, and we've split whatever the object is with a vector or a dataframe according to the levels of that single factor, but we might have **more than one factor.** For example, we might have a variable that is \"Gender\" (\"Male\" and \"Female\") and we might have another variable that has for example the \"Race\" so we might want to look at the **combination of the levels withing those factors.**"
   ]
  },
  {
   "cell_type": "code",
   "execution_count": 111,
   "id": "e483c638",
   "metadata": {},
   "outputs": [
    {
     "data": {
      "text/html": [
       "<dl>\n",
       "\t<dt>$Female.Black</dt>\n",
       "\t\t<dd><table class=\"dataframe\">\n",
       "<caption>A data.frame: 2 × 3</caption>\n",
       "<thead>\n",
       "\t<tr><th></th><th scope=col>Gender</th><th scope=col>Race</th><th scope=col>Age</th></tr>\n",
       "\t<tr><th></th><th scope=col>&lt;chr&gt;</th><th scope=col>&lt;chr&gt;</th><th scope=col>&lt;dbl&gt;</th></tr>\n",
       "</thead>\n",
       "<tbody>\n",
       "\t<tr><th scope=row>4</th><td>Female</td><td>Black</td><td>40</td></tr>\n",
       "\t<tr><th scope=row>6</th><td>Female</td><td>Black</td><td>50</td></tr>\n",
       "</tbody>\n",
       "</table>\n",
       "</dd>\n",
       "\t<dt>$Male.Black</dt>\n",
       "\t\t<dd><table class=\"dataframe\">\n",
       "<caption>A data.frame: 1 × 3</caption>\n",
       "<thead>\n",
       "\t<tr><th></th><th scope=col>Gender</th><th scope=col>Race</th><th scope=col>Age</th></tr>\n",
       "\t<tr><th></th><th scope=col>&lt;chr&gt;</th><th scope=col>&lt;chr&gt;</th><th scope=col>&lt;dbl&gt;</th></tr>\n",
       "</thead>\n",
       "<tbody>\n",
       "\t<tr><th scope=row>2</th><td>Male</td><td>Black</td><td>30</td></tr>\n",
       "</tbody>\n",
       "</table>\n",
       "</dd>\n",
       "\t<dt>$Female.White</dt>\n",
       "\t\t<dd><table class=\"dataframe\">\n",
       "<caption>A data.frame: 1 × 3</caption>\n",
       "<thead>\n",
       "\t<tr><th></th><th scope=col>Gender</th><th scope=col>Race</th><th scope=col>Age</th></tr>\n",
       "\t<tr><th></th><th scope=col>&lt;chr&gt;</th><th scope=col>&lt;chr&gt;</th><th scope=col>&lt;dbl&gt;</th></tr>\n",
       "</thead>\n",
       "<tbody>\n",
       "\t<tr><th scope=row>3</th><td>Female</td><td>White</td><td>35</td></tr>\n",
       "</tbody>\n",
       "</table>\n",
       "</dd>\n",
       "\t<dt>$Male.White</dt>\n",
       "\t\t<dd><table class=\"dataframe\">\n",
       "<caption>A data.frame: 2 × 3</caption>\n",
       "<thead>\n",
       "\t<tr><th></th><th scope=col>Gender</th><th scope=col>Race</th><th scope=col>Age</th></tr>\n",
       "\t<tr><th></th><th scope=col>&lt;chr&gt;</th><th scope=col>&lt;chr&gt;</th><th scope=col>&lt;dbl&gt;</th></tr>\n",
       "</thead>\n",
       "<tbody>\n",
       "\t<tr><th scope=row>1</th><td>Male</td><td>White</td><td>25</td></tr>\n",
       "\t<tr><th scope=row>5</th><td>Male</td><td>White</td><td>45</td></tr>\n",
       "</tbody>\n",
       "</table>\n",
       "</dd>\n",
       "</dl>\n"
      ],
      "text/latex": [
       "\\begin{description}\n",
       "\\item[\\$Female.Black] A data.frame: 2 × 3\n",
       "\\begin{tabular}{r|lll}\n",
       "  & Gender & Race & Age\\\\\n",
       "  & <chr> & <chr> & <dbl>\\\\\n",
       "\\hline\n",
       "\t4 & Female & Black & 40\\\\\n",
       "\t6 & Female & Black & 50\\\\\n",
       "\\end{tabular}\n",
       "\n",
       "\\item[\\$Male.Black] A data.frame: 1 × 3\n",
       "\\begin{tabular}{r|lll}\n",
       "  & Gender & Race & Age\\\\\n",
       "  & <chr> & <chr> & <dbl>\\\\\n",
       "\\hline\n",
       "\t2 & Male & Black & 30\\\\\n",
       "\\end{tabular}\n",
       "\n",
       "\\item[\\$Female.White] A data.frame: 1 × 3\n",
       "\\begin{tabular}{r|lll}\n",
       "  & Gender & Race & Age\\\\\n",
       "  & <chr> & <chr> & <dbl>\\\\\n",
       "\\hline\n",
       "\t3 & Female & White & 35\\\\\n",
       "\\end{tabular}\n",
       "\n",
       "\\item[\\$Male.White] A data.frame: 2 × 3\n",
       "\\begin{tabular}{r|lll}\n",
       "  & Gender & Race & Age\\\\\n",
       "  & <chr> & <chr> & <dbl>\\\\\n",
       "\\hline\n",
       "\t1 & Male & White & 25\\\\\n",
       "\t5 & Male & White & 45\\\\\n",
       "\\end{tabular}\n",
       "\n",
       "\\end{description}\n"
      ],
      "text/markdown": [
       "$Female.Black\n",
       ":   \n",
       "A data.frame: 2 × 3\n",
       "\n",
       "| <!--/--> | Gender &lt;chr&gt; | Race &lt;chr&gt; | Age &lt;dbl&gt; |\n",
       "|---|---|---|---|\n",
       "| 4 | Female | Black | 40 |\n",
       "| 6 | Female | Black | 50 |\n",
       "\n",
       "\n",
       "$Male.Black\n",
       ":   \n",
       "A data.frame: 1 × 3\n",
       "\n",
       "| <!--/--> | Gender &lt;chr&gt; | Race &lt;chr&gt; | Age &lt;dbl&gt; |\n",
       "|---|---|---|---|\n",
       "| 2 | Male | Black | 30 |\n",
       "\n",
       "\n",
       "$Female.White\n",
       ":   \n",
       "A data.frame: 1 × 3\n",
       "\n",
       "| <!--/--> | Gender &lt;chr&gt; | Race &lt;chr&gt; | Age &lt;dbl&gt; |\n",
       "|---|---|---|---|\n",
       "| 3 | Female | White | 35 |\n",
       "\n",
       "\n",
       "$Male.White\n",
       ":   \n",
       "A data.frame: 2 × 3\n",
       "\n",
       "| <!--/--> | Gender &lt;chr&gt; | Race &lt;chr&gt; | Age &lt;dbl&gt; |\n",
       "|---|---|---|---|\n",
       "| 1 | Male | White | 25 |\n",
       "| 5 | Male | White | 45 |\n",
       "\n",
       "\n",
       "\n",
       "\n"
      ],
      "text/plain": [
       "$Female.Black\n",
       "  Gender  Race Age\n",
       "4 Female Black  40\n",
       "6 Female Black  50\n",
       "\n",
       "$Male.Black\n",
       "  Gender  Race Age\n",
       "2   Male Black  30\n",
       "\n",
       "$Female.White\n",
       "  Gender  Race Age\n",
       "3 Female White  35\n",
       "\n",
       "$Male.White\n",
       "  Gender  Race Age\n",
       "1   Male White  25\n",
       "5   Male White  45\n"
      ]
     },
     "metadata": {},
     "output_type": "display_data"
    },
    {
     "name": "stdout",
     "output_type": "stream",
     "text": [
      "[1] \"--------------------------------------------------------\"\n"
     ]
    },
    {
     "data": {
      "text/html": [
       "<dl>\n",
       "\t<dt>$Female.Black</dt>\n",
       "\t\t<dd>45</dd>\n",
       "\t<dt>$Male.Black</dt>\n",
       "\t\t<dd>30</dd>\n",
       "\t<dt>$Female.White</dt>\n",
       "\t\t<dd>35</dd>\n",
       "\t<dt>$Male.White</dt>\n",
       "\t\t<dd>35</dd>\n",
       "</dl>\n"
      ],
      "text/latex": [
       "\\begin{description}\n",
       "\\item[\\$Female.Black] 45\n",
       "\\item[\\$Male.Black] 30\n",
       "\\item[\\$Female.White] 35\n",
       "\\item[\\$Male.White] 35\n",
       "\\end{description}\n"
      ],
      "text/markdown": [
       "$Female.Black\n",
       ":   45\n",
       "$Male.Black\n",
       ":   30\n",
       "$Female.White\n",
       ":   35\n",
       "$Male.White\n",
       ":   35\n",
       "\n",
       "\n"
      ],
      "text/plain": [
       "$Female.Black\n",
       "[1] 45\n",
       "\n",
       "$Male.Black\n",
       "[1] 30\n",
       "\n",
       "$Female.White\n",
       "[1] 35\n",
       "\n",
       "$Male.White\n",
       "[1] 35\n"
      ]
     },
     "metadata": {},
     "output_type": "display_data"
    },
    {
     "data": {
      "text/html": [
       "<style>\n",
       ".dl-inline {width: auto; margin:0; padding: 0}\n",
       ".dl-inline>dt, .dl-inline>dd {float: none; width: auto; display: inline-block}\n",
       ".dl-inline>dt::after {content: \":\\0020\"; padding-right: .5ex}\n",
       ".dl-inline>dt:not(:first-of-type) {padding-left: .5ex}\n",
       "</style><dl class=dl-inline><dt>Female.Black</dt><dd>45</dd><dt>Male.Black</dt><dd>30</dd><dt>Female.White</dt><dd>35</dd><dt>Male.White</dt><dd>35</dd></dl>\n"
      ],
      "text/latex": [
       "\\begin{description*}\n",
       "\\item[Female.Black] 45\n",
       "\\item[Male.Black] 30\n",
       "\\item[Female.White] 35\n",
       "\\item[Male.White] 35\n",
       "\\end{description*}\n"
      ],
      "text/markdown": [
       "Female.Black\n",
       ":   45Male.Black\n",
       ":   30Female.White\n",
       ":   35Male.White\n",
       ":   35\n",
       "\n"
      ],
      "text/plain": [
       "Female.Black   Male.Black Female.White   Male.White \n",
       "          45           30           35           35 "
      ]
     },
     "metadata": {},
     "output_type": "display_data"
    }
   ],
   "source": [
    "# Example dataframe\n",
    "df <- data.frame(\n",
    "  Gender = c(\"Male\", \"Male\", \"Female\", \"Female\", \"Male\", \"Female\"),\n",
    "  Race = c(\"White\", \"Black\", \"White\", \"Black\", \"White\", \"Black\"),\n",
    "  Age = c(25, 30, 35, 40, 45, 50)\n",
    ")\n",
    "\n",
    "# Splitting by 'Gender' and 'Race', and calculating mean 'Age' for each combination\n",
    "(split_groups <- split(df, list(df$Gender, df$Race)))\n",
    "\n",
    "print(\"--------------------------------------------------------\")\n",
    "\n",
    "# Using 'lapply' to calculate mean 'Age' for each split group\n",
    "mean_age_lapply <- lapply(split_groups, function(x) mean(x$Age))\n",
    "\n",
    "# Using 'sapply' to calculate mean 'Age' for each split group\n",
    "mean_age_sapply <- sapply(split_groups, function(x) mean(x$Age))\n",
    "\n",
    "# Output\n",
    "mean_age_lapply\n",
    "mean_age_sapply\n"
   ]
  },
  {
   "cell_type": "code",
   "execution_count": null,
   "id": "67d368db",
   "metadata": {},
   "outputs": [],
   "source": []
  }
 ],
 "metadata": {
  "kernelspec": {
   "display_name": "R",
   "language": "R",
   "name": "ir"
  },
  "language_info": {
   "codemirror_mode": "r",
   "file_extension": ".r",
   "mimetype": "text/x-r-source",
   "name": "R",
   "pygments_lexer": "r",
   "version": "4.2.3"
  }
 },
 "nbformat": 4,
 "nbformat_minor": 5
}
