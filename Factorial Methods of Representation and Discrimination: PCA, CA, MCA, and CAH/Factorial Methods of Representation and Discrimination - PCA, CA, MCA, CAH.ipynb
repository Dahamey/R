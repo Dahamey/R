{
 "cells": [
  {
   "cell_type": "markdown",
   "id": "a1d855be",
   "metadata": {},
   "source": [
    "<h1 style=\"text-align:center;\">Factorial Methods of Representation and Discrimination: PCA, CA, MCA, and CAH</h1>\n"
   ]
  },
  {
   "cell_type": "markdown",
   "id": "70953994",
   "metadata": {},
   "source": [
    "<u>**Author</u> :** [Younes Dahami](https://www.linkedin.com/in/dahami/)"
   ]
  },
  {
   "cell_type": "markdown",
   "id": "e5ad8cee",
   "metadata": {},
   "source": [
    "<a id=\"top\"></a>\n",
    "\n",
    "<div class=\"list-group\" id=\"list-tab\" role=\"tablist\">\n",
    "<h3 class=\"list-group-item list-group-item-action active\" data-toggle=\"list\"  role=\"tab\" aria-controls=\"home\">Table of contents</h3>\n",
    "    \n",
    "<font color=\"blue\" size=+1><b>[0. Introduction](#0)</b></font>\n",
    "    \n",
    "<font color=\"blue\" size=+1><b>[1. Introduction to factorial methods](#01)</b></font>\n",
    "* [1.1 What is a factorial method of representation?](#1)\n",
    "* [1.2 How to describe a point cloud?](#2)\n",
    "* [1.3 Some Vocabulary](#3)\n",
    "    \n",
    "<font color=\"blue\" size=+1><b>[2. A dataset comprising numerous quantitative variables : PCA](#4)</b></font>\n",
    "* [2.1 Performing PCA : What are the elements returned by the R function ?](#5)\n",
    "    * [2.1.1 Eigenvalues: **`eig`**](#5.1)\n",
    "    * [2.1.2 Coordinates : **`ind$coord`** and **`var$coord`**](#5.2)\n",
    "    * [2.1.3 Contributions **`ind$contrib`** and **`var$contrib`** and cosines **`ind$cos2`** and **`var$cos2`**](#5.3)\n",
    "    * [2.1.4 Supplementary variables](#5.4)\n",
    "    \n",
    "* [2.2 Examining PCA Results with the **`explor`** Package](#6)\n",
    "    \n",
    "<font color=\"blue\" size=+1><b>[3. Fundamentals of variables and scales in Data Analysis](#7)</b></font>\n",
    "    \n",
    "<font color=\"blue\" size=+1><b>[4. Other examples of factorial methods: CA and MCA](#8)</b></font>\n",
    "* [4.1 A dataset comprising two qualitative variables : CA](#9)\n",
    "* [4.2 Numerous qualitative variables: MCA (Multiple Correspondence Analysis)](#10)\n",
    "        \n",
    "<font color=\"blue\" size=+1><b>[5. Defining classes from (numerous) variables: Hierarchical Cluster Analysis (HCA)](#11)</b></font>\n",
    "* [5.1 Principle](#12)\n",
    "* [5.2 Implementation: **`HCPC`** function](#13)   "
   ]
  },
  {
   "cell_type": "markdown",
   "id": "1e58198a",
   "metadata": {},
   "source": [
    "<a id=\"0\"></a>\n",
    "# Introduction\n",
    "\n",
    "Factorial Methods of Representation and Discrimination are techniques used in multivariate analysis to explore and analyze the relationships among variables and observations in a dataset.\n",
    "\n",
    "**Factorial Methods of Representation,** also known as Factorial Analysis, are statistical techniques used to represent the data in a lower-dimensional space while preserving the essential information and structure of the original dataset. These methods aim to identify underlying patterns, similarities, and differences among observations (rows) and variables (columns) by transforming the high-dimensional data into a more interpretable and manageable form. Examples of factorial methods of representation include **Principal Component Analysis (PCA), Correspondence Analysis (CA),** and **Multiple Correspondence Analysis (MCA).** These techniques are widely used in exploratory data analysis, dimensionality reduction, and visualization tasks to gain insights into complex datasets.\n",
    "\n",
    "**Factorial Methods of Discrimination,** also known as Discriminant Analysis, are statistical techniques used to discriminate between groups or classes based on the observed variables. Unlike factorial methods of representation, which focus on summarizing the overall structure of the data, factorial methods of discrimination aim to identify the variables that best discriminate between predefined groups or categories. These methods are commonly used in classification and prediction tasks, where the goal is to assign new observations to predefined classes or categories based on their similarity to the existing groups. Examples of factorial methods of discrimination include Linear Discriminant Analysis (LDA), Quadratic Discriminant Analysis (QDA), and Logistic Regression. These techniques are widely used in fields such as machine learning, pattern recognition, and statistical modeling to classify and predict outcomes based on observed variables."
   ]
  },
  {
   "cell_type": "markdown",
   "id": "4c1bbdd8",
   "metadata": {},
   "source": [
    "<a id=\"01\"></a>\n",
    "\n",
    "# 1 - Introduction to factorial methods\n",
    "\n",
    "<a id=\"1\"></a>\n",
    "\n",
    "## 1.1) What is a factorial method of representation?\n",
    "\n",
    "Let's suppose we are interested in a dataset comprising only $2$ or $3$ numerical variables.\n",
    "\n",
    "In this case, it is easy to \"visualize\" this dataset, for example by examining the relationships between the variables taken two by two :\n",
    "\n",
    "We can attempt to characterize notably the correlation between the variables through the calculation of the correlation coefficient :\n",
    "\n",
    "$$\n",
    "\\rho=\\frac{\\sum_{i=1}^{n}(x_i-\\bar{x}).(y_i-\\bar{y})}\n",
    "          {\\sqrt{\\sum_{i=1}^{n}(x_i-\\bar{x})^2}.\n",
    "           \\sqrt{\\sum_{i=1}^{n}(y_i-\\bar{x})^2}}\n",
    "$$\n",
    "\n",
    "where $\\bar{x}=\\frac{1}{n}\\sum_{i=1}^{n}{x_i}$ and $\\bar{y}=\\frac{1}{n}\\sum_{i=1}^{n}{y_i}$\n"
   ]
  },
  {
   "cell_type": "markdown",
   "id": "4e346462",
   "metadata": {},
   "source": [
    "The closer this coefficient is to 1 (in absolute value), the stronger the correlation between the variables. The correlation can be positive or negative."
   ]
  },
  {
   "cell_type": "code",
   "execution_count": 1,
   "id": "630360bc",
   "metadata": {},
   "outputs": [],
   "source": [
    "data(state)"
   ]
  },
  {
   "cell_type": "code",
   "execution_count": 2,
   "id": "e22e98fd",
   "metadata": {},
   "outputs": [
    {
     "data": {
      "text/html": [
       "<table class=\"dataframe\">\n",
       "<caption>A data.frame: 6 × 8</caption>\n",
       "<thead>\n",
       "\t<tr><th></th><th scope=col>Population</th><th scope=col>Income</th><th scope=col>Illiteracy</th><th scope=col>Life Exp</th><th scope=col>Murder</th><th scope=col>HS Grad</th><th scope=col>Frost</th><th scope=col>Area</th></tr>\n",
       "\t<tr><th></th><th scope=col>&lt;dbl&gt;</th><th scope=col>&lt;dbl&gt;</th><th scope=col>&lt;dbl&gt;</th><th scope=col>&lt;dbl&gt;</th><th scope=col>&lt;dbl&gt;</th><th scope=col>&lt;dbl&gt;</th><th scope=col>&lt;dbl&gt;</th><th scope=col>&lt;dbl&gt;</th></tr>\n",
       "</thead>\n",
       "<tbody>\n",
       "\t<tr><th scope=row>Alabama</th><td> 3615</td><td>3624</td><td>2.1</td><td>69.05</td><td>15.1</td><td>41.3</td><td> 20</td><td> 50708</td></tr>\n",
       "\t<tr><th scope=row>Alaska</th><td>  365</td><td>6315</td><td>1.5</td><td>69.31</td><td>11.3</td><td>66.7</td><td>152</td><td>566432</td></tr>\n",
       "\t<tr><th scope=row>Arizona</th><td> 2212</td><td>4530</td><td>1.8</td><td>70.55</td><td> 7.8</td><td>58.1</td><td> 15</td><td>113417</td></tr>\n",
       "\t<tr><th scope=row>Arkansas</th><td> 2110</td><td>3378</td><td>1.9</td><td>70.66</td><td>10.1</td><td>39.9</td><td> 65</td><td> 51945</td></tr>\n",
       "\t<tr><th scope=row>California</th><td>21198</td><td>5114</td><td>1.1</td><td>71.71</td><td>10.3</td><td>62.6</td><td> 20</td><td>156361</td></tr>\n",
       "\t<tr><th scope=row>Colorado</th><td> 2541</td><td>4884</td><td>0.7</td><td>72.06</td><td> 6.8</td><td>63.9</td><td>166</td><td>103766</td></tr>\n",
       "</tbody>\n",
       "</table>\n"
      ],
      "text/latex": [
       "A data.frame: 6 × 8\n",
       "\\begin{tabular}{r|llllllll}\n",
       "  & Population & Income & Illiteracy & Life Exp & Murder & HS Grad & Frost & Area\\\\\n",
       "  & <dbl> & <dbl> & <dbl> & <dbl> & <dbl> & <dbl> & <dbl> & <dbl>\\\\\n",
       "\\hline\n",
       "\tAlabama &  3615 & 3624 & 2.1 & 69.05 & 15.1 & 41.3 &  20 &  50708\\\\\n",
       "\tAlaska &   365 & 6315 & 1.5 & 69.31 & 11.3 & 66.7 & 152 & 566432\\\\\n",
       "\tArizona &  2212 & 4530 & 1.8 & 70.55 &  7.8 & 58.1 &  15 & 113417\\\\\n",
       "\tArkansas &  2110 & 3378 & 1.9 & 70.66 & 10.1 & 39.9 &  65 &  51945\\\\\n",
       "\tCalifornia & 21198 & 5114 & 1.1 & 71.71 & 10.3 & 62.6 &  20 & 156361\\\\\n",
       "\tColorado &  2541 & 4884 & 0.7 & 72.06 &  6.8 & 63.9 & 166 & 103766\\\\\n",
       "\\end{tabular}\n"
      ],
      "text/markdown": [
       "\n",
       "A data.frame: 6 × 8\n",
       "\n",
       "| <!--/--> | Population &lt;dbl&gt; | Income &lt;dbl&gt; | Illiteracy &lt;dbl&gt; | Life Exp &lt;dbl&gt; | Murder &lt;dbl&gt; | HS Grad &lt;dbl&gt; | Frost &lt;dbl&gt; | Area &lt;dbl&gt; |\n",
       "|---|---|---|---|---|---|---|---|---|\n",
       "| Alabama |  3615 | 3624 | 2.1 | 69.05 | 15.1 | 41.3 |  20 |  50708 |\n",
       "| Alaska |   365 | 6315 | 1.5 | 69.31 | 11.3 | 66.7 | 152 | 566432 |\n",
       "| Arizona |  2212 | 4530 | 1.8 | 70.55 |  7.8 | 58.1 |  15 | 113417 |\n",
       "| Arkansas |  2110 | 3378 | 1.9 | 70.66 | 10.1 | 39.9 |  65 |  51945 |\n",
       "| California | 21198 | 5114 | 1.1 | 71.71 | 10.3 | 62.6 |  20 | 156361 |\n",
       "| Colorado |  2541 | 4884 | 0.7 | 72.06 |  6.8 | 63.9 | 166 | 103766 |\n",
       "\n"
      ],
      "text/plain": [
       "           Population Income Illiteracy Life Exp Murder HS Grad Frost Area  \n",
       "Alabama     3615      3624   2.1        69.05    15.1   41.3     20    50708\n",
       "Alaska       365      6315   1.5        69.31    11.3   66.7    152   566432\n",
       "Arizona     2212      4530   1.8        70.55     7.8   58.1     15   113417\n",
       "Arkansas    2110      3378   1.9        70.66    10.1   39.9     65    51945\n",
       "California 21198      5114   1.1        71.71    10.3   62.6     20   156361\n",
       "Colorado    2541      4884   0.7        72.06     6.8   63.9    166   103766"
      ]
     },
     "metadata": {},
     "output_type": "display_data"
    }
   ],
   "source": [
    "# dataframe\n",
    "USA <- as.data.frame(state.x77)\n",
    "head(USA)"
   ]
  },
  {
   "cell_type": "code",
   "execution_count": 3,
   "id": "a5ba9f87",
   "metadata": {},
   "outputs": [
    {
     "data": {
      "text/html": [
       "<style>\n",
       ".list-inline {list-style: none; margin:0; padding: 0}\n",
       ".list-inline>li {display: inline-block}\n",
       ".list-inline>li:not(:last-child)::after {content: \"\\00b7\"; padding: 0 .5ex}\n",
       "</style>\n",
       "<ol class=list-inline><li>50</li><li>8</li></ol>\n"
      ],
      "text/latex": [
       "\\begin{enumerate*}\n",
       "\\item 50\n",
       "\\item 8\n",
       "\\end{enumerate*}\n"
      ],
      "text/markdown": [
       "1. 50\n",
       "2. 8\n",
       "\n",
       "\n"
      ],
      "text/plain": [
       "[1] 50  8"
      ]
     },
     "metadata": {},
     "output_type": "display_data"
    }
   ],
   "source": [
    "dim(USA)"
   ]
  },
  {
   "cell_type": "code",
   "execution_count": 4,
   "id": "b5b92845",
   "metadata": {},
   "outputs": [
    {
     "data": {
      "text/html": [
       "<style>\n",
       ".list-inline {list-style: none; margin:0; padding: 0}\n",
       ".list-inline>li {display: inline-block}\n",
       ".list-inline>li:not(:last-child)::after {content: \"\\00b7\"; padding: 0 .5ex}\n",
       "</style>\n",
       "<ol class=list-inline><li>'Population'</li><li>'Income'</li><li>'Illiteracy'</li><li>'Life Exp'</li><li>'Murder'</li><li>'HS Grad'</li><li>'Frost'</li><li>'Area'</li></ol>\n"
      ],
      "text/latex": [
       "\\begin{enumerate*}\n",
       "\\item 'Population'\n",
       "\\item 'Income'\n",
       "\\item 'Illiteracy'\n",
       "\\item 'Life Exp'\n",
       "\\item 'Murder'\n",
       "\\item 'HS Grad'\n",
       "\\item 'Frost'\n",
       "\\item 'Area'\n",
       "\\end{enumerate*}\n"
      ],
      "text/markdown": [
       "1. 'Population'\n",
       "2. 'Income'\n",
       "3. 'Illiteracy'\n",
       "4. 'Life Exp'\n",
       "5. 'Murder'\n",
       "6. 'HS Grad'\n",
       "7. 'Frost'\n",
       "8. 'Area'\n",
       "\n",
       "\n"
      ],
      "text/plain": [
       "[1] \"Population\" \"Income\"     \"Illiteracy\" \"Life Exp\"   \"Murder\"    \n",
       "[6] \"HS Grad\"    \"Frost\"      \"Area\"      "
      ]
     },
     "metadata": {},
     "output_type": "display_data"
    }
   ],
   "source": [
    "# column names\n",
    "colnames(USA)"
   ]
  },
  {
   "cell_type": "code",
   "execution_count": 5,
   "id": "6adb3fcf",
   "metadata": {},
   "outputs": [
    {
     "data": {
      "text/html": [
       "<style>\n",
       ".list-inline {list-style: none; margin:0; padding: 0}\n",
       ".list-inline>li {display: inline-block}\n",
       ".list-inline>li:not(:last-child)::after {content: \"\\00b7\"; padding: 0 .5ex}\n",
       "</style>\n",
       "<ol class=list-inline><li>'Alabama'</li><li>'Alaska'</li><li>'Arizona'</li><li>'Arkansas'</li><li>'California'</li><li>'Colorado'</li><li>'Connecticut'</li><li>'Delaware'</li><li>'Florida'</li><li>'Georgia'</li><li>'Hawaii'</li><li>'Idaho'</li><li>'Illinois'</li><li>'Indiana'</li><li>'Iowa'</li><li>'Kansas'</li><li>'Kentucky'</li><li>'Louisiana'</li><li>'Maine'</li><li>'Maryland'</li><li>'Massachusetts'</li><li>'Michigan'</li><li>'Minnesota'</li><li>'Mississippi'</li><li>'Missouri'</li><li>'Montana'</li><li>'Nebraska'</li><li>'Nevada'</li><li>'New Hampshire'</li><li>'New Jersey'</li><li>'New Mexico'</li><li>'New York'</li><li>'North Carolina'</li><li>'North Dakota'</li><li>'Ohio'</li><li>'Oklahoma'</li><li>'Oregon'</li><li>'Pennsylvania'</li><li>'Rhode Island'</li><li>'South Carolina'</li><li>'South Dakota'</li><li>'Tennessee'</li><li>'Texas'</li><li>'Utah'</li><li>'Vermont'</li><li>'Virginia'</li><li>'Washington'</li><li>'West Virginia'</li><li>'Wisconsin'</li><li>'Wyoming'</li></ol>\n"
      ],
      "text/latex": [
       "\\begin{enumerate*}\n",
       "\\item 'Alabama'\n",
       "\\item 'Alaska'\n",
       "\\item 'Arizona'\n",
       "\\item 'Arkansas'\n",
       "\\item 'California'\n",
       "\\item 'Colorado'\n",
       "\\item 'Connecticut'\n",
       "\\item 'Delaware'\n",
       "\\item 'Florida'\n",
       "\\item 'Georgia'\n",
       "\\item 'Hawaii'\n",
       "\\item 'Idaho'\n",
       "\\item 'Illinois'\n",
       "\\item 'Indiana'\n",
       "\\item 'Iowa'\n",
       "\\item 'Kansas'\n",
       "\\item 'Kentucky'\n",
       "\\item 'Louisiana'\n",
       "\\item 'Maine'\n",
       "\\item 'Maryland'\n",
       "\\item 'Massachusetts'\n",
       "\\item 'Michigan'\n",
       "\\item 'Minnesota'\n",
       "\\item 'Mississippi'\n",
       "\\item 'Missouri'\n",
       "\\item 'Montana'\n",
       "\\item 'Nebraska'\n",
       "\\item 'Nevada'\n",
       "\\item 'New Hampshire'\n",
       "\\item 'New Jersey'\n",
       "\\item 'New Mexico'\n",
       "\\item 'New York'\n",
       "\\item 'North Carolina'\n",
       "\\item 'North Dakota'\n",
       "\\item 'Ohio'\n",
       "\\item 'Oklahoma'\n",
       "\\item 'Oregon'\n",
       "\\item 'Pennsylvania'\n",
       "\\item 'Rhode Island'\n",
       "\\item 'South Carolina'\n",
       "\\item 'South Dakota'\n",
       "\\item 'Tennessee'\n",
       "\\item 'Texas'\n",
       "\\item 'Utah'\n",
       "\\item 'Vermont'\n",
       "\\item 'Virginia'\n",
       "\\item 'Washington'\n",
       "\\item 'West Virginia'\n",
       "\\item 'Wisconsin'\n",
       "\\item 'Wyoming'\n",
       "\\end{enumerate*}\n"
      ],
      "text/markdown": [
       "1. 'Alabama'\n",
       "2. 'Alaska'\n",
       "3. 'Arizona'\n",
       "4. 'Arkansas'\n",
       "5. 'California'\n",
       "6. 'Colorado'\n",
       "7. 'Connecticut'\n",
       "8. 'Delaware'\n",
       "9. 'Florida'\n",
       "10. 'Georgia'\n",
       "11. 'Hawaii'\n",
       "12. 'Idaho'\n",
       "13. 'Illinois'\n",
       "14. 'Indiana'\n",
       "15. 'Iowa'\n",
       "16. 'Kansas'\n",
       "17. 'Kentucky'\n",
       "18. 'Louisiana'\n",
       "19. 'Maine'\n",
       "20. 'Maryland'\n",
       "21. 'Massachusetts'\n",
       "22. 'Michigan'\n",
       "23. 'Minnesota'\n",
       "24. 'Mississippi'\n",
       "25. 'Missouri'\n",
       "26. 'Montana'\n",
       "27. 'Nebraska'\n",
       "28. 'Nevada'\n",
       "29. 'New Hampshire'\n",
       "30. 'New Jersey'\n",
       "31. 'New Mexico'\n",
       "32. 'New York'\n",
       "33. 'North Carolina'\n",
       "34. 'North Dakota'\n",
       "35. 'Ohio'\n",
       "36. 'Oklahoma'\n",
       "37. 'Oregon'\n",
       "38. 'Pennsylvania'\n",
       "39. 'Rhode Island'\n",
       "40. 'South Carolina'\n",
       "41. 'South Dakota'\n",
       "42. 'Tennessee'\n",
       "43. 'Texas'\n",
       "44. 'Utah'\n",
       "45. 'Vermont'\n",
       "46. 'Virginia'\n",
       "47. 'Washington'\n",
       "48. 'West Virginia'\n",
       "49. 'Wisconsin'\n",
       "50. 'Wyoming'\n",
       "\n",
       "\n"
      ],
      "text/plain": [
       " [1] \"Alabama\"        \"Alaska\"         \"Arizona\"        \"Arkansas\"      \n",
       " [5] \"California\"     \"Colorado\"       \"Connecticut\"    \"Delaware\"      \n",
       " [9] \"Florida\"        \"Georgia\"        \"Hawaii\"         \"Idaho\"         \n",
       "[13] \"Illinois\"       \"Indiana\"        \"Iowa\"           \"Kansas\"        \n",
       "[17] \"Kentucky\"       \"Louisiana\"      \"Maine\"          \"Maryland\"      \n",
       "[21] \"Massachusetts\"  \"Michigan\"       \"Minnesota\"      \"Mississippi\"   \n",
       "[25] \"Missouri\"       \"Montana\"        \"Nebraska\"       \"Nevada\"        \n",
       "[29] \"New Hampshire\"  \"New Jersey\"     \"New Mexico\"     \"New York\"      \n",
       "[33] \"North Carolina\" \"North Dakota\"   \"Ohio\"           \"Oklahoma\"      \n",
       "[37] \"Oregon\"         \"Pennsylvania\"   \"Rhode Island\"   \"South Carolina\"\n",
       "[41] \"South Dakota\"   \"Tennessee\"      \"Texas\"          \"Utah\"          \n",
       "[45] \"Vermont\"        \"Virginia\"       \"Washington\"     \"West Virginia\" \n",
       "[49] \"Wisconsin\"      \"Wyoming\"       "
      ]
     },
     "metadata": {},
     "output_type": "display_data"
    }
   ],
   "source": [
    "# row names (50 states)\n",
    "rownames(USA)"
   ]
  },
  {
   "cell_type": "markdown",
   "id": "5c0692eb",
   "metadata": {},
   "source": [
    "Let's calculate some correlations :"
   ]
  },
  {
   "cell_type": "code",
   "execution_count": 6,
   "id": "70a39da2",
   "metadata": {},
   "outputs": [
    {
     "name": "stdout",
     "output_type": "stream",
     "text": [
      "[1] \"The correlation between 'Illiteracy' and the 'Number of homicides' is: 0.70297519868417\"\n",
      "[1] \"The correlation between 'Illiteracy' and the 'Percentage of high school graduates' is: -0.657188609438515\"\n",
      "[1] \"The correlation between 'Illiteracy' and 'Area' is: 0.0772611322709803\"\n"
     ]
    }
   ],
   "source": [
    "print(paste(\"The correlation between 'Illiteracy' and the 'Number of homicides' is:\", cor(USA$Illiteracy, USA$Murder)))\n",
    "print(paste(\"The correlation between 'Illiteracy' and the 'Percentage of high school graduates' is:\", cor(USA$Illiteracy, USA$'HS Grad')))\n",
    "print(paste(\"The correlation between 'Illiteracy' and 'Area' is:\", cor(USA$Illiteracy, USA$Area)))"
   ]
  },
  {
   "cell_type": "markdown",
   "id": "20d5528d",
   "metadata": {},
   "source": [
    "As soon as we are interested in a dataset comprising many variables ($N>3$), it becomes difficult to understand what is happening in the dataset... because it is impossible a priori to \"visualize\" the point cloud in $N$ dimensions.\n",
    "\n",
    "A factorial method of representation such as **PCA** will allow us to \"<span style=\"color:blue\">**reduce**</span>\" the number of dimensions necessary for representing the point cloud. In this way, the point cloud can be represented, typically in 1D, 2D, or 3D. The axes used for this representation, typically numbering $1, 2,$ or $3,$ correspond to the <span style=\"color:blue\">**principal components**</span> (or **factors**), i.e., linear combinations of the original variables."
   ]
  },
  {
   "cell_type": "markdown",
   "id": "fae68d9c",
   "metadata": {},
   "source": [
    "A factorial method of representation is thus useful when dealing with a dataset comprising numerous variables. It enables the exploration of this dataset by providing answers to the following questions:\n",
    "\n",
    "* **Which individuals/samples/sites are similar to each other ?**\n",
    "* **Which variables are important in my dataset (i.e., which ones provide non-redundant information) ?**\n",
    "* **How are the variables (especially the important variables) correlated with each other ?**\n"
   ]
  },
  {
   "cell_type": "markdown",
   "id": "eb9cc91c",
   "metadata": {},
   "source": [
    "<a id=\"2\"></a>\n",
    "\n",
    "## 1.2) How to describe a point cloud?\n",
    "\n",
    "Factorial methods of representation rely largely on the concept of <span style=\"color:blue\">**inertia of the point cloud**</span>.\n",
    "\n",
    "* <u>**Inertia**</u>**:** is the sum of the squared distances of each point in the cloud to its center.\n",
    "\n",
    "The following figure illustrates this concept for the simple case where there are only $3$ variables ($x, y,$ and $z$). Roughly speaking, **inertia corresponds to the spread of the point cloud.** The notion of inertia is itself linked to that of variance (it is the variance multiplied by the number of observations, $n$).\n",
    "\n",
    "The inertia related to a variable $V_i$ is therefore simply :\n",
    "\n",
    "$$I(V_i)=Var(V_i)$$"
   ]
  },
  {
   "cell_type": "markdown",
   "id": "3bb28887",
   "metadata": {},
   "source": [
    "The total inertia for a dataset corresponds to the sum of the inertias related to each variable :\n",
    "\n",
    "$$I_{tot}=n\\left(Var(V_1)+Var(V_2)+\\ldots+Var(V_N)\\right)$$\n"
   ]
  },
  {
   "cell_type": "markdown",
   "id": "27ad9d7d",
   "metadata": {},
   "source": [
    "\n",
    "<img src=\"inertia.png\" alt=\"PCA1\" style=\"width:800px;height:600px;\">\n",
    "\n",
    " <figcaption><center>Illustration of the concept of inertia for a 2D point cloud: by performing PCA on a dataset comprising 2 variables, we aim to optimally represent the point cloud in a one-dimensional space, i.e., we project the points onto a line such that the proportion of inertia explained by this projection is maximized.</center></figcaption>"
   ]
  },
  {
   "cell_type": "markdown",
   "id": "ca2e0aae",
   "metadata": {},
   "source": [
    "- Factorial methods transform point clouds in $n$ dimensions (datasets comprising $n$ variables) into point clouds in $1, 2,$ or $3$ dimensions (new datasets comprising $1, 2,$ or $3$ principal components).\n",
    "\n",
    "- This transformation, even though it allows for representing the dataset, inevitably corresponds to a loss of information compared to the original dataset. Nevertheless, it is carried out in a way to lose as little information as possible (i.e., such that the inertia of the first principal components is as high as possible)."
   ]
  },
  {
   "cell_type": "markdown",
   "id": "d0299db5",
   "metadata": {},
   "source": [
    "<a id=\"3\"></a>\n",
    "\n",
    "## 1.3) Some Vocabulary\n",
    "\n",
    "### \"Principal components\" or \"factors\"\n",
    "\n",
    "The <span style=\"color:blue\">**principal components**</span> $C1, C2, C3,...$ are new variables formed by linear combinations of the old variables :\n",
    "$$\n",
    "C_1=\\alpha_1V_1+\\alpha_2V_2+\\alpha_3V_3+\\ldots +\\alpha_nV_n\\\\\n",
    "C_2=\\beta_1V_1+\\beta_2V_2+\\beta_3V_3+\\ldots +\\beta_nV_n\\\\\n",
    "C_3=\\gamma_1V_1+\\gamma_2V_2+\\gamma_3V_3+\\ldots +\\gamma_nV_n\\\\\n",
    "$$\n",
    "\n",
    "Conversely, we can express the variables in terms of the principal components :\n",
    "\n",
    "$$\n",
    "V_1=\\lambda_1C_1+\\lambda_2C_2+\\lambda_3C_3+\\ldots +\\lambda_nC_n\\\\\n",
    "V_2=\\mu_1C_1+\\mu_2C_2+\\mu_3C_3+\\ldots +\\mu_nC_n\\\\\n",
    "V_3=\\nu_1C_1+\\nu_2C_2+\\nu_3C_3+\\ldots +\\nu_nC_n\\\\\n",
    "$$\n",
    "\n",
    "### Principal axes\n",
    "\n",
    "The principal components define the axes of a new coordinate system of reduced dimensionality (1, 2, or 3D) onto which the points are projected. The axes of this new coordinate system are called <span style=\"color:blue\">**principal axes**</span>.\n",
    "\n",
    "### Scores\n",
    "\n",
    "The <span style=\"color:blue\">**scores**</span> correspond to the coordinates of the individuals or variables in the space defined by the principal axes (i.e., the principal components are variables, and the scores are the realizations of these variables).\n",
    "\n",
    "### Loadings\n",
    "\n",
    "The <span style=\"color:blue\">**loadings**</span> correspond to the coefficients $\\alpha_1,\\alpha_2,...,\\alpha_n, \\beta_1,\\beta_2,...,\\beta_n,$ and $\\gamma_1, \\gamma_2,...,\\gamma_n$ of the linear combinations that define the principal components in terms of the variables.\n",
    "\n",
    "### Eigenvalues\n",
    "\n",
    "<span style=\"color:blue\">**Eigenvalues**</span> provide information about the portion of the total inertia accounted for by each principal component."
   ]
  },
  {
   "cell_type": "markdown",
   "id": "bcc6c14f",
   "metadata": {},
   "source": [
    "<a id=\"4\"></a>\n",
    "\n",
    "# 2 - A dataset comprising numerous quantitative variables : PCA\n",
    "\n",
    "\n",
    "PCA is the basic example we will rely on to understand the functioning principle of factorial methods. In this section, we will revisit the elements (particularly vocabulary) defined theoretically in the introduction.\n",
    "\n",
    "We don't know beforehand what happens in the dataset: which variables are important, which variables will provide redundant information compared to others, which individuals are similar considering all descriptors, etc.\n",
    "\n",
    "Performing PCA will allow us to explore the dataset, providing answers to the following questions :\n",
    "\n",
    "* Which **individuals/samples/sites** are similar ?\n",
    "* Which **variables are important** in my dataset (i.e., those with significant differences between individuals) ?**\n",
    "* How are the variables (especially the important variables) **intercorrelated** ?"
   ]
  },
  {
   "cell_type": "markdown",
   "id": "d6dc8879",
   "metadata": {},
   "source": [
    "<a id=\"5\"></a>\n",
    "\n",
    "## 2.1) Performing PCA : What are the elements returned by the R function ?\n",
    "\n",
    "There are several functions for performing PCA in R (for example, the `prcomp` function from the `stats` package, the `PCA` function from the `FactoMineR` package, or the `dudi.pca` function from the `ade4` package). These functions return the same response elements but in different formats and are not associated with the same graphical functions. For the sake of simplicity, we will focus on only one of these functions, namely the `PCA` function from the `FactoMineR` package."
   ]
  },
  {
   "cell_type": "code",
   "execution_count": 7,
   "id": "c93d0803",
   "metadata": {},
   "outputs": [
    {
     "name": "stderr",
     "output_type": "stream",
     "text": [
      "Loading required package: FactoMineR\n",
      "\n"
     ]
    }
   ],
   "source": [
    "#installed.packages(\"FactoMineR\")\n",
    "require(\"FactoMineR\")"
   ]
  },
  {
   "cell_type": "markdown",
   "id": "955db717",
   "metadata": {},
   "source": [
    "We will perform PCA on a dataset concerning certain **characteristics of the different states of the USA in the 1970s.** This dataset is one of the many example datasets that can be loaded directly into R."
   ]
  },
  {
   "cell_type": "code",
   "execution_count": 8,
   "id": "07df3b8a",
   "metadata": {},
   "outputs": [],
   "source": [
    "data(state)\n",
    "USA <- as.data.frame(state.x77)"
   ]
  },
  {
   "cell_type": "markdown",
   "id": "a2d67058",
   "metadata": {},
   "source": [
    "<img src=\"map.png\" alt=\"PCA1\" style=\"width:700px;height:400px;\">\n",
    "<figcaption><center>USA map</center></figcaption>"
   ]
  },
  {
   "cell_type": "code",
   "execution_count": 9,
   "id": "1779fd81",
   "metadata": {},
   "outputs": [
    {
     "data": {
      "text/html": [
       "<style>\n",
       ".list-inline {list-style: none; margin:0; padding: 0}\n",
       ".list-inline>li {display: inline-block}\n",
       ".list-inline>li:not(:last-child)::after {content: \"\\00b7\"; padding: 0 .5ex}\n",
       "</style>\n",
       "<ol class=list-inline><li>'Population'</li><li>'Income'</li><li>'Illiteracy'</li><li>'Life Exp'</li><li>'Murder'</li><li>'HS Grad'</li><li>'Frost'</li><li>'Area'</li></ol>\n"
      ],
      "text/latex": [
       "\\begin{enumerate*}\n",
       "\\item 'Population'\n",
       "\\item 'Income'\n",
       "\\item 'Illiteracy'\n",
       "\\item 'Life Exp'\n",
       "\\item 'Murder'\n",
       "\\item 'HS Grad'\n",
       "\\item 'Frost'\n",
       "\\item 'Area'\n",
       "\\end{enumerate*}\n"
      ],
      "text/markdown": [
       "1. 'Population'\n",
       "2. 'Income'\n",
       "3. 'Illiteracy'\n",
       "4. 'Life Exp'\n",
       "5. 'Murder'\n",
       "6. 'HS Grad'\n",
       "7. 'Frost'\n",
       "8. 'Area'\n",
       "\n",
       "\n"
      ],
      "text/plain": [
       "[1] \"Population\" \"Income\"     \"Illiteracy\" \"Life Exp\"   \"Murder\"    \n",
       "[6] \"HS Grad\"    \"Frost\"      \"Area\"      "
      ]
     },
     "metadata": {},
     "output_type": "display_data"
    }
   ],
   "source": [
    "colnames(USA)"
   ]
  },
  {
   "cell_type": "markdown",
   "id": "6774478b",
   "metadata": {},
   "source": [
    "The variables in this dataset are :\n",
    "\n",
    "* **Population :** Estimated population as of July 1, 1975\n",
    "* **Income :** Income per capita (1974)\n",
    "* **Illiteracy :** Illiteracy rate (1970, percentage)\n",
    "* **Life Exp :** Life expectancy (1969-1971, years)\n",
    "* **Murder :** Number of homicides per 100,000 people (1976)\n",
    "* **HS Grad :** Percentage of high school graduates (1970)\n",
    "* **Frost :** Average number of days with a minimum temperature below 0°C in the capital or largest city (1931-1960)\n",
    "* **Area :** Area in square miles\n",
    "\n",
    "To perform PCA, the R code is very simple :"
   ]
  },
  {
   "cell_type": "code",
   "execution_count": 10,
   "id": "264bc3b1",
   "metadata": {},
   "outputs": [],
   "source": [
    "?PCA"
   ]
  },
  {
   "cell_type": "code",
   "execution_count": 11,
   "id": "bfb29b6a",
   "metadata": {},
   "outputs": [],
   "source": [
    "my_PCA = PCA(USA)"
   ]
  },
  {
   "cell_type": "markdown",
   "id": "ee831991",
   "metadata": {},
   "source": [
    "The `my_PCA` object returns several response elements that we will want to interpret. The most important elements are as follows :\n",
    "\n",
    "* `eig` : which corresponds to the eigenvalues.\n",
    "* `ind` : which provides information regarding individuals.\n",
    "* `var` : which provides information regarding variables.\n",
    "\n",
    "Both the `ind` and `var` elements contain the following sub-elements :\n",
    "\n",
    "* `coord`\n",
    "* `cos2`\n",
    "* `contrib`\n",
    "\n",
    "In the following paragraphs, we will see how to access these elements and how to interpret them."
   ]
  },
  {
   "cell_type": "markdown",
   "id": "1c0dddf4",
   "metadata": {},
   "source": [
    "<a id=\"5.1\"></a>\n",
    "### 2.1.1) Eigenvalues: `eig`\n",
    "\n",
    "In the case at hand, we see that the first two axes explain $45\\%$ and $20\\%$, respectively, of the total inertia. The higher the inertia explained by the **1st, 2nd,** or **3rd** axes, the better the quality of the PCA : this means that <span style=\"color:blue\">**the information can be effectively summarized by a few axes**</span>. Obviously, the larger the number of variables in the dataset, the more the inertia explained by the first two or three axes is likely to be reduced."
   ]
  },
  {
   "cell_type": "code",
   "execution_count": 12,
   "id": "a4009fe1",
   "metadata": {},
   "outputs": [
    {
     "data": {
      "text/html": [
       "<table class=\"dataframe\">\n",
       "<caption>A matrix: 8 × 3 of type dbl</caption>\n",
       "<thead>\n",
       "\t<tr><th></th><th scope=col>eigenvalue</th><th scope=col>percentage of variance</th><th scope=col>cumulative percentage of variance</th></tr>\n",
       "</thead>\n",
       "<tbody>\n",
       "\t<tr><th scope=row>comp 1</th><td>3.5988956</td><td>44.986195</td><td> 44.98619</td></tr>\n",
       "\t<tr><th scope=row>comp 2</th><td>1.6319192</td><td>20.398990</td><td> 65.38519</td></tr>\n",
       "\t<tr><th scope=row>comp 3</th><td>1.1119412</td><td>13.899264</td><td> 79.28445</td></tr>\n",
       "\t<tr><th scope=row>comp 4</th><td>0.7075042</td><td> 8.843803</td><td> 88.12825</td></tr>\n",
       "\t<tr><th scope=row>comp 5</th><td>0.3846417</td><td> 4.808021</td><td> 92.93627</td></tr>\n",
       "\t<tr><th scope=row>comp 6</th><td>0.3074617</td><td> 3.843271</td><td> 96.77954</td></tr>\n",
       "\t<tr><th scope=row>comp 7</th><td>0.1444488</td><td> 1.805610</td><td> 98.58515</td></tr>\n",
       "\t<tr><th scope=row>comp 8</th><td>0.1131877</td><td> 1.414846</td><td>100.00000</td></tr>\n",
       "</tbody>\n",
       "</table>\n"
      ],
      "text/latex": [
       "A matrix: 8 × 3 of type dbl\n",
       "\\begin{tabular}{r|lll}\n",
       "  & eigenvalue & percentage of variance & cumulative percentage of variance\\\\\n",
       "\\hline\n",
       "\tcomp 1 & 3.5988956 & 44.986195 &  44.98619\\\\\n",
       "\tcomp 2 & 1.6319192 & 20.398990 &  65.38519\\\\\n",
       "\tcomp 3 & 1.1119412 & 13.899264 &  79.28445\\\\\n",
       "\tcomp 4 & 0.7075042 &  8.843803 &  88.12825\\\\\n",
       "\tcomp 5 & 0.3846417 &  4.808021 &  92.93627\\\\\n",
       "\tcomp 6 & 0.3074617 &  3.843271 &  96.77954\\\\\n",
       "\tcomp 7 & 0.1444488 &  1.805610 &  98.58515\\\\\n",
       "\tcomp 8 & 0.1131877 &  1.414846 & 100.00000\\\\\n",
       "\\end{tabular}\n"
      ],
      "text/markdown": [
       "\n",
       "A matrix: 8 × 3 of type dbl\n",
       "\n",
       "| <!--/--> | eigenvalue | percentage of variance | cumulative percentage of variance |\n",
       "|---|---|---|---|\n",
       "| comp 1 | 3.5988956 | 44.986195 |  44.98619 |\n",
       "| comp 2 | 1.6319192 | 20.398990 |  65.38519 |\n",
       "| comp 3 | 1.1119412 | 13.899264 |  79.28445 |\n",
       "| comp 4 | 0.7075042 |  8.843803 |  88.12825 |\n",
       "| comp 5 | 0.3846417 |  4.808021 |  92.93627 |\n",
       "| comp 6 | 0.3074617 |  3.843271 |  96.77954 |\n",
       "| comp 7 | 0.1444488 |  1.805610 |  98.58515 |\n",
       "| comp 8 | 0.1131877 |  1.414846 | 100.00000 |\n",
       "\n"
      ],
      "text/plain": [
       "       eigenvalue percentage of variance cumulative percentage of variance\n",
       "comp 1 3.5988956  44.986195               44.98619                        \n",
       "comp 2 1.6319192  20.398990               65.38519                        \n",
       "comp 3 1.1119412  13.899264               79.28445                        \n",
       "comp 4 0.7075042   8.843803               88.12825                        \n",
       "comp 5 0.3846417   4.808021               92.93627                        \n",
       "comp 6 0.3074617   3.843271               96.77954                        \n",
       "comp 7 0.1444488   1.805610               98.58515                        \n",
       "comp 8 0.1131877   1.414846              100.00000                        "
      ]
     },
     "metadata": {},
     "output_type": "display_data"
    }
   ],
   "source": [
    "my_PCA$eig"
   ]
  },
  {
   "cell_type": "markdown",
   "id": "0f484666",
   "metadata": {},
   "source": [
    "To graphically represent these eigenvalues (scree plot), we can use the `barplot` function :"
   ]
  },
  {
   "cell_type": "code",
   "execution_count": 13,
   "id": "26b8cd4c",
   "metadata": {},
   "outputs": [
    {
     "data": {
      "image/png": "[encoded data removed]",
      "text/plain": [
       "plot without title"
      ]
     },
     "metadata": {
      "image/png": {
       "height": 420,
       "width": 420
      }
     },
     "output_type": "display_data"
    }
   ],
   "source": [
    "# we extract the first 2 columns\n",
    "barplot(height = my_PCA$eig[,2])"
   ]
  },
  {
   "cell_type": "markdown",
   "id": "053bedf3",
   "metadata": {},
   "source": [
    "<a id=\"5.2\"></a>\n",
    "\n",
    "### 2.1.2) Coordinates : `ind$coord` and `var$coord`\n",
    "\n",
    "These are the coordinates of the individuals (or variables) in the new coordinate system defined by the principal axes. For individuals, we also refer to them as **scores.**"
   ]
  },
  {
   "cell_type": "code",
   "execution_count": 14,
   "id": "dec0b949",
   "metadata": {},
   "outputs": [
    {
     "data": {
      "text/html": [
       "<table class=\"dataframe\">\n",
       "<caption>A matrix: 4 × 5 of type dbl</caption>\n",
       "<thead>\n",
       "\t<tr><th></th><th scope=col>Dim.1</th><th scope=col>Dim.2</th><th scope=col>Dim.3</th><th scope=col>Dim.4</th><th scope=col>Dim.5</th></tr>\n",
       "</thead>\n",
       "<tbody>\n",
       "\t<tr><th scope=row>Alabama</th><td>-3.8283643</td><td>-0.2371626</td><td>0.23164558</td><td>-0.3871601</td><td>-0.2500637</td></tr>\n",
       "\t<tr><th scope=row>Alaska</th><td> 1.0638275</td><td> 5.5115692</td><td>4.28364318</td><td>-0.5815183</td><td> 0.1102403</td></tr>\n",
       "\t<tr><th scope=row>Arizona</th><td>-0.8762354</td><td> 0.7526258</td><td>0.07805313</td><td>-1.7362938</td><td>-0.5654377</td></tr>\n",
       "\t<tr><th scope=row>Arkansas</th><td>-2.4059587</td><td>-1.3014236</td><td>0.22505473</td><td>-0.6295345</td><td> 0.6540497</td></tr>\n",
       "</tbody>\n",
       "</table>\n"
      ],
      "text/latex": [
       "A matrix: 4 × 5 of type dbl\n",
       "\\begin{tabular}{r|lllll}\n",
       "  & Dim.1 & Dim.2 & Dim.3 & Dim.4 & Dim.5\\\\\n",
       "\\hline\n",
       "\tAlabama & -3.8283643 & -0.2371626 & 0.23164558 & -0.3871601 & -0.2500637\\\\\n",
       "\tAlaska &  1.0638275 &  5.5115692 & 4.28364318 & -0.5815183 &  0.1102403\\\\\n",
       "\tArizona & -0.8762354 &  0.7526258 & 0.07805313 & -1.7362938 & -0.5654377\\\\\n",
       "\tArkansas & -2.4059587 & -1.3014236 & 0.22505473 & -0.6295345 &  0.6540497\\\\\n",
       "\\end{tabular}\n"
      ],
      "text/markdown": [
       "\n",
       "A matrix: 4 × 5 of type dbl\n",
       "\n",
       "| <!--/--> | Dim.1 | Dim.2 | Dim.3 | Dim.4 | Dim.5 |\n",
       "|---|---|---|---|---|---|\n",
       "| Alabama | -3.8283643 | -0.2371626 | 0.23164558 | -0.3871601 | -0.2500637 |\n",
       "| Alaska |  1.0638275 |  5.5115692 | 4.28364318 | -0.5815183 |  0.1102403 |\n",
       "| Arizona | -0.8762354 |  0.7526258 | 0.07805313 | -1.7362938 | -0.5654377 |\n",
       "| Arkansas | -2.4059587 | -1.3014236 | 0.22505473 | -0.6295345 |  0.6540497 |\n",
       "\n"
      ],
      "text/plain": [
       "         Dim.1      Dim.2      Dim.3      Dim.4      Dim.5     \n",
       "Alabama  -3.8283643 -0.2371626 0.23164558 -0.3871601 -0.2500637\n",
       "Alaska    1.0638275  5.5115692 4.28364318 -0.5815183  0.1102403\n",
       "Arizona  -0.8762354  0.7526258 0.07805313 -1.7362938 -0.5654377\n",
       "Arkansas -2.4059587 -1.3014236 0.22505473 -0.6295345  0.6540497"
      ]
     },
     "metadata": {},
     "output_type": "display_data"
    }
   ],
   "source": [
    "# information regarding individuals (print the first 4 rows)\n",
    "my_PCA$ind$coord[1:4,]"
   ]
  },
  {
   "cell_type": "code",
   "execution_count": 15,
   "id": "45758eab",
   "metadata": {},
   "outputs": [
    {
     "data": {
      "text/html": [
       "<table class=\"dataframe\">\n",
       "<caption>A matrix: 4 × 5 of type dbl</caption>\n",
       "<thead>\n",
       "\t<tr><th></th><th scope=col>Dim.1</th><th scope=col>Dim.2</th><th scope=col>Dim.3</th><th scope=col>Dim.4</th><th scope=col>Dim.5</th></tr>\n",
       "</thead>\n",
       "<tbody>\n",
       "\t<tr><th scope=row>Population</th><td>-0.2398436</td><td> 0.52487776</td><td>-0.69208615</td><td> 0.34434757</td><td> 0.251765858</td></tr>\n",
       "\t<tr><th scope=row>Income</th><td> 0.5669029</td><td> 0.66297778</td><td>-0.10582738</td><td> 0.07439531</td><td>-0.395428165</td></tr>\n",
       "\t<tr><th scope=row>Illiteracy</th><td>-0.8872037</td><td> 0.06766573</td><td> 0.07476148</td><td>-0.29677518</td><td> 0.002186803</td></tr>\n",
       "\t<tr><th scope=row>Life Exp</th><td> 0.7808560</td><td>-0.10431289</td><td>-0.37954435</td><td>-0.37225450</td><td> 0.202555453</td></tr>\n",
       "</tbody>\n",
       "</table>\n"
      ],
      "text/latex": [
       "A matrix: 4 × 5 of type dbl\n",
       "\\begin{tabular}{r|lllll}\n",
       "  & Dim.1 & Dim.2 & Dim.3 & Dim.4 & Dim.5\\\\\n",
       "\\hline\n",
       "\tPopulation & -0.2398436 &  0.52487776 & -0.69208615 &  0.34434757 &  0.251765858\\\\\n",
       "\tIncome &  0.5669029 &  0.66297778 & -0.10582738 &  0.07439531 & -0.395428165\\\\\n",
       "\tIlliteracy & -0.8872037 &  0.06766573 &  0.07476148 & -0.29677518 &  0.002186803\\\\\n",
       "\tLife Exp &  0.7808560 & -0.10431289 & -0.37954435 & -0.37225450 &  0.202555453\\\\\n",
       "\\end{tabular}\n"
      ],
      "text/markdown": [
       "\n",
       "A matrix: 4 × 5 of type dbl\n",
       "\n",
       "| <!--/--> | Dim.1 | Dim.2 | Dim.3 | Dim.4 | Dim.5 |\n",
       "|---|---|---|---|---|---|\n",
       "| Population | -0.2398436 |  0.52487776 | -0.69208615 |  0.34434757 |  0.251765858 |\n",
       "| Income |  0.5669029 |  0.66297778 | -0.10582738 |  0.07439531 | -0.395428165 |\n",
       "| Illiteracy | -0.8872037 |  0.06766573 |  0.07476148 | -0.29677518 |  0.002186803 |\n",
       "| Life Exp |  0.7808560 | -0.10431289 | -0.37954435 | -0.37225450 |  0.202555453 |\n",
       "\n"
      ],
      "text/plain": [
       "           Dim.1      Dim.2       Dim.3       Dim.4       Dim.5       \n",
       "Population -0.2398436  0.52487776 -0.69208615  0.34434757  0.251765858\n",
       "Income      0.5669029  0.66297778 -0.10582738  0.07439531 -0.395428165\n",
       "Illiteracy -0.8872037  0.06766573  0.07476148 -0.29677518  0.002186803\n",
       "Life Exp    0.7808560 -0.10431289 -0.37954435 -0.37225450  0.202555453"
      ]
     },
     "metadata": {},
     "output_type": "display_data"
    }
   ],
   "source": [
    "# information regarding variables (print the first 4 rows)\n",
    "my_PCA$var$coord[1:4,]"
   ]
  },
  {
   "cell_type": "markdown",
   "id": "ecea5499",
   "metadata": {},
   "source": [
    "By default, when we perform PCA using the `PCA` function, the plots showing the coordinates of individuals and variables in the new coordinate system are produced. We can also generate them using the `plot` function as follows :"
   ]
  },
  {
   "cell_type": "code",
   "execution_count": 16,
   "id": "ee5bfba4",
   "metadata": {},
   "outputs": [
    {
     "data": {
      "image/png": "[encoded data removed]",
      "text/plain": [
       "plot without title"
      ]
     },
     "metadata": {
      "image/png": {
       "height": 420,
       "width": 420
      }
     },
     "output_type": "display_data"
    },
    {
     "data": {
      "image/png": "[encoded data removed]",
      "text/plain": [
       "plot without title"
      ]
     },
     "metadata": {
      "image/png": {
       "height": 420,
       "width": 420
      }
     },
     "output_type": "display_data"
    }
   ],
   "source": [
    "layout(matrix(1:2, nrow = 1))\n",
    "\n",
    "plot(my_PCA, choix = \"ind\", cex = 0.7)  # 'ind' for the individuals\n",
    "plot(my_PCA, choix = \"var\")            # 'var' for the variables"
   ]
  },
  {
   "cell_type": "markdown",
   "id": "6b7e8534",
   "metadata": {},
   "source": [
    "By default, the plots show the first factorial plane (i.e., the scores on the first two axes).\n",
    "\n",
    "The first axis seems to be largely determined by the variables `Illiteracy`, `Murder`, `HS Grad`, `Life Exp`, and `Frost`, while the second axis appears to be related to the variables `Area` and `Population`.\n",
    "\n",
    "* <u>**Interpretation**</u> **:** We can interpret two closely located variables (for example, `Murder` and `Illiteracy`) as being positively correlated a priori, while two opposite variables (for example, `Life Exp` and `Illiteracy`) are a priori negatively correlated."
   ]
  },
  {
   "cell_type": "code",
   "execution_count": 17,
   "id": "7c20d0b5",
   "metadata": {},
   "outputs": [
    {
     "data": {
      "text/html": [
       "0.70297519868417"
      ],
      "text/latex": [
       "0.70297519868417"
      ],
      "text/markdown": [
       "0.70297519868417"
      ],
      "text/plain": [
       "[1] 0.7029752"
      ]
     },
     "metadata": {},
     "output_type": "display_data"
    },
    {
     "data": {
      "text/html": [
       "-0.588477925579257"
      ],
      "text/latex": [
       "-0.588477925579257"
      ],
      "text/markdown": [
       "-0.588477925579257"
      ],
      "text/plain": [
       "[1] -0.5884779"
      ]
     },
     "metadata": {},
     "output_type": "display_data"
    }
   ],
   "source": [
    "cor(USA$Illiteracy, USA$Murder)\n",
    "cor(USA$Illiteracy,USA$'Life Exp')"
   ]
  },
  {
   "cell_type": "markdown",
   "id": "71754520",
   "metadata": {},
   "source": [
    "Conversely, two variables positioned approximately at right angles (for example, `Illiteracy` and `Area`) are a priori rather independent of each other :"
   ]
  },
  {
   "cell_type": "code",
   "execution_count": 18,
   "id": "a86770d5",
   "metadata": {},
   "outputs": [
    {
     "data": {
      "text/html": [
       "0.0772611322709803"
      ],
      "text/latex": [
       "0.0772611322709803"
      ],
      "text/markdown": [
       "0.0772611322709803"
      ],
      "text/plain": [
       "[1] 0.07726113"
      ]
     },
     "metadata": {},
     "output_type": "display_data"
    }
   ],
   "source": [
    "cor(USA$Illiteracy, USA$Area)"
   ]
  },
  {
   "cell_type": "markdown",
   "id": "775054b2",
   "metadata": {},
   "source": [
    "In terms of scores, along axis 1, states like Georgia, Alabama, South Carolina, Louisiana, and Mississippi stand out. They are presumably characterized by high values of `Illiteracy` and `Murder` and low values of `HS Grad`, `Life Exp`, and `Frost`. Along axis 2, states like Alaska or California stand out. They are presumably characterized by high values of `Population` or `Area`.\n",
    "\n",
    "Note that this representation on only two axes provides an approximate image of the dataset. For example, based on this representation, one might assume that Alaska has a high Population value, but this is not the case. Indeed, in the context of the dataset, there is indeed a correlation between `Population` and `Area`. However, while Alaska may have a high Area value, its population is actually very low."
   ]
  },
  {
   "cell_type": "markdown",
   "id": "daa24aea",
   "metadata": {},
   "source": [
    "<a id=\"5.3\"></a>\n",
    "\n",
    "### 2.1.3) Contributions `ind$contrib` and `var$contrib` and cosines `ind$cos2` and `var$cos2`\n",
    "\n",
    "In addition to the coordinates of individuals and variables in the space defined by the factorial components, we often examine tables corresponding to :\n",
    "\n",
    "* **Absolute contributions** (or simply \"**contributions**\") of variables and individuals to the axes. These values reflect the extent to which the direction of an axis is determined by an individual or a variable. It is the ratio between the inertia corresponding to the individual or the variable and the total inertia carried by the axis.\n",
    "\n",
    "* **Relative contributions** (or **cosines$^2$**) of variables and individuals to the axes. These values reflect the quality of representation of the individual or the variable considered by the axis. These values are \"visible\" on the graph as corresponding to the square cosine of the angle formed between the vector connecting the origin to the point (representing the individual or the variable) and the axis in question.\n",
    "\n",
    "Thus, in terms of contributions of variables to the axes :"
   ]
  },
  {
   "cell_type": "code",
   "execution_count": 19,
   "id": "9a5ee1e1",
   "metadata": {},
   "outputs": [
    {
     "data": {
      "text/html": [
       "<table class=\"dataframe\">\n",
       "<caption>A matrix: 8 × 2 of type dbl</caption>\n",
       "<thead>\n",
       "\t<tr><th></th><th scope=col>Dim.1</th><th scope=col>Dim.2</th></tr>\n",
       "</thead>\n",
       "<tbody>\n",
       "\t<tr><th scope=row>Population</th><td> 1.5984061</td><td>16.8817585</td></tr>\n",
       "\t<tr><th scope=row>Income</th><td> 8.9299316</td><td>26.9339033</td></tr>\n",
       "\t<tr><th scope=row>Illiteracy</th><td>21.8714450</td><td> 0.2805685</td></tr>\n",
       "\t<tr><th scope=row>Life Exp</th><td>16.9423099</td><td> 0.6667720</td></tr>\n",
       "\t<tr><th scope=row>Murder</th><td>19.7364030</td><td> 9.4217898</td></tr>\n",
       "\t<tr><th scope=row>HS Grad</th><td>18.0356857</td><td> 8.9261493</td></tr>\n",
       "\t<tr><th scope=row>Frost</th><td>12.7743655</td><td> 2.3588074</td></tr>\n",
       "\t<tr><th scope=row>Area</th><td> 0.1114532</td><td>34.5302512</td></tr>\n",
       "</tbody>\n",
       "</table>\n"
      ],
      "text/latex": [
       "A matrix: 8 × 2 of type dbl\n",
       "\\begin{tabular}{r|ll}\n",
       "  & Dim.1 & Dim.2\\\\\n",
       "\\hline\n",
       "\tPopulation &  1.5984061 & 16.8817585\\\\\n",
       "\tIncome &  8.9299316 & 26.9339033\\\\\n",
       "\tIlliteracy & 21.8714450 &  0.2805685\\\\\n",
       "\tLife Exp & 16.9423099 &  0.6667720\\\\\n",
       "\tMurder & 19.7364030 &  9.4217898\\\\\n",
       "\tHS Grad & 18.0356857 &  8.9261493\\\\\n",
       "\tFrost & 12.7743655 &  2.3588074\\\\\n",
       "\tArea &  0.1114532 & 34.5302512\\\\\n",
       "\\end{tabular}\n"
      ],
      "text/markdown": [
       "\n",
       "A matrix: 8 × 2 of type dbl\n",
       "\n",
       "| <!--/--> | Dim.1 | Dim.2 |\n",
       "|---|---|---|\n",
       "| Population |  1.5984061 | 16.8817585 |\n",
       "| Income |  8.9299316 | 26.9339033 |\n",
       "| Illiteracy | 21.8714450 |  0.2805685 |\n",
       "| Life Exp | 16.9423099 |  0.6667720 |\n",
       "| Murder | 19.7364030 |  9.4217898 |\n",
       "| HS Grad | 18.0356857 |  8.9261493 |\n",
       "| Frost | 12.7743655 |  2.3588074 |\n",
       "| Area |  0.1114532 | 34.5302512 |\n",
       "\n"
      ],
      "text/plain": [
       "           Dim.1      Dim.2     \n",
       "Population  1.5984061 16.8817585\n",
       "Income      8.9299316 26.9339033\n",
       "Illiteracy 21.8714450  0.2805685\n",
       "Life Exp   16.9423099  0.6667720\n",
       "Murder     19.7364030  9.4217898\n",
       "HS Grad    18.0356857  8.9261493\n",
       "Frost      12.7743655  2.3588074\n",
       "Area        0.1114532 34.5302512"
      ]
     },
     "metadata": {},
     "output_type": "display_data"
    }
   ],
   "source": [
    "# Contribution of the variables to PC1 and PC2 axis (the first 2 columns)\n",
    "my_PCA$var$contrib[,1:2]"
   ]
  },
  {
   "cell_type": "markdown",
   "id": "6564c747",
   "metadata": {},
   "source": [
    "It is mainly `Illiteracy`, `Murder`, `HS Grad`, and `Life Exp` that contribute to axis 1, and `Area`, `Population`, and `Income` that contribute to axis 2.\n",
    "\n",
    "In terms of representation quality, the same variables stand out :"
   ]
  },
  {
   "cell_type": "code",
   "execution_count": 20,
   "id": "e65d20f5",
   "metadata": {
    "scrolled": true
   },
   "outputs": [
    {
     "data": {
      "text/html": [
       "<table class=\"dataframe\">\n",
       "<caption>A matrix: 8 × 2 of type dbl</caption>\n",
       "<thead>\n",
       "\t<tr><th></th><th scope=col>Dim.1</th><th scope=col>Dim.2</th></tr>\n",
       "</thead>\n",
       "<tbody>\n",
       "\t<tr><th scope=row>Population</th><td>0.057524967</td><td>0.275496661</td></tr>\n",
       "\t<tr><th scope=row>Income</th><td>0.321378913</td><td>0.439539542</td></tr>\n",
       "\t<tr><th scope=row>Illiteracy</th><td>0.787130472</td><td>0.004578651</td></tr>\n",
       "\t<tr><th scope=row>Life Exp</th><td>0.609736046</td><td>0.010881180</td></tr>\n",
       "\t<tr><th scope=row>Murder</th><td>0.710292537</td><td>0.153755998</td></tr>\n",
       "\t<tr><th scope=row>HS Grad</th><td>0.649085498</td><td>0.145667546</td></tr>\n",
       "\t<tr><th scope=row>Frost</th><td>0.459736076</td><td>0.038493831</td></tr>\n",
       "\t<tr><th scope=row>Area</th><td>0.004011086</td><td>0.563505803</td></tr>\n",
       "</tbody>\n",
       "</table>\n"
      ],
      "text/latex": [
       "A matrix: 8 × 2 of type dbl\n",
       "\\begin{tabular}{r|ll}\n",
       "  & Dim.1 & Dim.2\\\\\n",
       "\\hline\n",
       "\tPopulation & 0.057524967 & 0.275496661\\\\\n",
       "\tIncome & 0.321378913 & 0.439539542\\\\\n",
       "\tIlliteracy & 0.787130472 & 0.004578651\\\\\n",
       "\tLife Exp & 0.609736046 & 0.010881180\\\\\n",
       "\tMurder & 0.710292537 & 0.153755998\\\\\n",
       "\tHS Grad & 0.649085498 & 0.145667546\\\\\n",
       "\tFrost & 0.459736076 & 0.038493831\\\\\n",
       "\tArea & 0.004011086 & 0.563505803\\\\\n",
       "\\end{tabular}\n"
      ],
      "text/markdown": [
       "\n",
       "A matrix: 8 × 2 of type dbl\n",
       "\n",
       "| <!--/--> | Dim.1 | Dim.2 |\n",
       "|---|---|---|\n",
       "| Population | 0.057524967 | 0.275496661 |\n",
       "| Income | 0.321378913 | 0.439539542 |\n",
       "| Illiteracy | 0.787130472 | 0.004578651 |\n",
       "| Life Exp | 0.609736046 | 0.010881180 |\n",
       "| Murder | 0.710292537 | 0.153755998 |\n",
       "| HS Grad | 0.649085498 | 0.145667546 |\n",
       "| Frost | 0.459736076 | 0.038493831 |\n",
       "| Area | 0.004011086 | 0.563505803 |\n",
       "\n"
      ],
      "text/plain": [
       "           Dim.1       Dim.2      \n",
       "Population 0.057524967 0.275496661\n",
       "Income     0.321378913 0.439539542\n",
       "Illiteracy 0.787130472 0.004578651\n",
       "Life Exp   0.609736046 0.010881180\n",
       "Murder     0.710292537 0.153755998\n",
       "HS Grad    0.649085498 0.145667546\n",
       "Frost      0.459736076 0.038493831\n",
       "Area       0.004011086 0.563505803"
      ]
     },
     "metadata": {},
     "output_type": "display_data"
    }
   ],
   "source": [
    "# Contribution of the variables to PC1 and PC2 axis (the first 2 columns)\n",
    "my_PCA$var$cos2[,1:2]"
   ]
  },
  {
   "cell_type": "markdown",
   "id": "90b9871f",
   "metadata": {},
   "source": [
    "<a id=\"5.4\"></a>\n",
    "\n",
    "### 2.1.4) Supplementary variables\n",
    "\n",
    "In addition to the variables that have an effect on the production of principal components and associated axes (**active variables**), we can add **supplementary variables** and, notably, make them visible on the graphs.\n",
    "\n",
    "In factorial methods such as Principal Component Analysis (PCA), Correspondence Analysis (CA), and Multiple Correspondence Analysis (MCA), the concepts of <span style =\"color:blue\">**active variables**</span> and <span style =\"color:blue\">**supplementary variables**</span> play important roles in data analysis :\n",
    "\n",
    "* <u>**Active Variables**</u> **:** are the variables that are directly involved in the analysis and contribute to the construction of factorial axes or components. In PCA, active variables are the variables used to compute the principal components. These variables define the structure of the data and are essential for understanding the underlying patterns and relationships. The active variables are typically scaled and centered before analysis to ensure their comparability and equal weighting in the analysis.\n",
    "\n",
    "* <u>**Supplementary Variables**</u> **:** are additional variables that are not directly involved in the analysis but are projected onto the factorial axes or components to provide complementary information. These variables are often considered as auxiliary variables that can help interpret the results obtained from the active variables. In PCA, supplementary variables are projected onto the principal component space to visualize their relationships with the active variables and assess their contributions to the overall variability in the data.\n",
    "\n",
    "Active variables are the primary variables of interest in factorial methods, while supplementary variables provide additional context and insights into the analysis. Both types of variables are important for a comprehensive understanding of the data structure and relationships captured by PCA, CA, and MCA."
   ]
  },
  {
   "cell_type": "markdown",
   "id": "c948c995",
   "metadata": {},
   "source": [
    "Consider, for example, the region of the USA to which the different states belong :"
   ]
  },
  {
   "cell_type": "code",
   "execution_count": 21,
   "id": "b8c71850",
   "metadata": {},
   "outputs": [
    {
     "data": {
      "text/html": [
       "<style>\n",
       ".list-inline {list-style: none; margin:0; padding: 0}\n",
       ".list-inline>li {display: inline-block}\n",
       ".list-inline>li:not(:last-child)::after {content: \"\\00b7\"; padding: 0 .5ex}\n",
       "</style>\n",
       "<ol class=list-inline><li>'Northeast'</li><li>'South'</li><li>'North Central'</li><li>'West'</li></ol>\n"
      ],
      "text/latex": [
       "\\begin{enumerate*}\n",
       "\\item 'Northeast'\n",
       "\\item 'South'\n",
       "\\item 'North Central'\n",
       "\\item 'West'\n",
       "\\end{enumerate*}\n"
      ],
      "text/markdown": [
       "1. 'Northeast'\n",
       "2. 'South'\n",
       "3. 'North Central'\n",
       "4. 'West'\n",
       "\n",
       "\n"
      ],
      "text/plain": [
       "[1] \"Northeast\"     \"South\"         \"North Central\" \"West\"         "
      ]
     },
     "metadata": {},
     "output_type": "display_data"
    }
   ],
   "source": [
    "levels(state.region)"
   ]
  },
  {
   "cell_type": "markdown",
   "id": "fa336a84",
   "metadata": {},
   "source": [
    "We add this variable to the dataset (to create the dataset `USAr`) and perform PCA on this dataset, specifying the column number where this additional variable (here, a qualitative variable) is located. Here, we will also treat the variables `Area` and `Population` as supplementary variables :"
   ]
  },
  {
   "cell_type": "code",
   "execution_count": 22,
   "id": "ad2b5100",
   "metadata": {},
   "outputs": [
    {
     "data": {
      "text/html": [
       "<table class=\"dataframe\">\n",
       "<caption>A data.frame: 6 × 9</caption>\n",
       "<thead>\n",
       "\t<tr><th></th><th scope=col>region</th><th scope=col>Population</th><th scope=col>Income</th><th scope=col>Illiteracy</th><th scope=col>Life.Exp</th><th scope=col>Murder</th><th scope=col>HS.Grad</th><th scope=col>Frost</th><th scope=col>Area</th></tr>\n",
       "\t<tr><th></th><th scope=col>&lt;fct&gt;</th><th scope=col>&lt;dbl&gt;</th><th scope=col>&lt;dbl&gt;</th><th scope=col>&lt;dbl&gt;</th><th scope=col>&lt;dbl&gt;</th><th scope=col>&lt;dbl&gt;</th><th scope=col>&lt;dbl&gt;</th><th scope=col>&lt;dbl&gt;</th><th scope=col>&lt;dbl&gt;</th></tr>\n",
       "</thead>\n",
       "<tbody>\n",
       "\t<tr><th scope=row>Alabama</th><td>South</td><td> 3615</td><td>3624</td><td>2.1</td><td>69.05</td><td>15.1</td><td>41.3</td><td> 20</td><td> 50708</td></tr>\n",
       "\t<tr><th scope=row>Alaska</th><td>West </td><td>  365</td><td>6315</td><td>1.5</td><td>69.31</td><td>11.3</td><td>66.7</td><td>152</td><td>566432</td></tr>\n",
       "\t<tr><th scope=row>Arizona</th><td>West </td><td> 2212</td><td>4530</td><td>1.8</td><td>70.55</td><td> 7.8</td><td>58.1</td><td> 15</td><td>113417</td></tr>\n",
       "\t<tr><th scope=row>Arkansas</th><td>South</td><td> 2110</td><td>3378</td><td>1.9</td><td>70.66</td><td>10.1</td><td>39.9</td><td> 65</td><td> 51945</td></tr>\n",
       "\t<tr><th scope=row>California</th><td>West </td><td>21198</td><td>5114</td><td>1.1</td><td>71.71</td><td>10.3</td><td>62.6</td><td> 20</td><td>156361</td></tr>\n",
       "\t<tr><th scope=row>Colorado</th><td>West </td><td> 2541</td><td>4884</td><td>0.7</td><td>72.06</td><td> 6.8</td><td>63.9</td><td>166</td><td>103766</td></tr>\n",
       "</tbody>\n",
       "</table>\n"
      ],
      "text/latex": [
       "A data.frame: 6 × 9\n",
       "\\begin{tabular}{r|lllllllll}\n",
       "  & region & Population & Income & Illiteracy & Life.Exp & Murder & HS.Grad & Frost & Area\\\\\n",
       "  & <fct> & <dbl> & <dbl> & <dbl> & <dbl> & <dbl> & <dbl> & <dbl> & <dbl>\\\\\n",
       "\\hline\n",
       "\tAlabama & South &  3615 & 3624 & 2.1 & 69.05 & 15.1 & 41.3 &  20 &  50708\\\\\n",
       "\tAlaska & West  &   365 & 6315 & 1.5 & 69.31 & 11.3 & 66.7 & 152 & 566432\\\\\n",
       "\tArizona & West  &  2212 & 4530 & 1.8 & 70.55 &  7.8 & 58.1 &  15 & 113417\\\\\n",
       "\tArkansas & South &  2110 & 3378 & 1.9 & 70.66 & 10.1 & 39.9 &  65 &  51945\\\\\n",
       "\tCalifornia & West  & 21198 & 5114 & 1.1 & 71.71 & 10.3 & 62.6 &  20 & 156361\\\\\n",
       "\tColorado & West  &  2541 & 4884 & 0.7 & 72.06 &  6.8 & 63.9 & 166 & 103766\\\\\n",
       "\\end{tabular}\n"
      ],
      "text/markdown": [
       "\n",
       "A data.frame: 6 × 9\n",
       "\n",
       "| <!--/--> | region &lt;fct&gt; | Population &lt;dbl&gt; | Income &lt;dbl&gt; | Illiteracy &lt;dbl&gt; | Life.Exp &lt;dbl&gt; | Murder &lt;dbl&gt; | HS.Grad &lt;dbl&gt; | Frost &lt;dbl&gt; | Area &lt;dbl&gt; |\n",
       "|---|---|---|---|---|---|---|---|---|---|\n",
       "| Alabama | South |  3615 | 3624 | 2.1 | 69.05 | 15.1 | 41.3 |  20 |  50708 |\n",
       "| Alaska | West  |   365 | 6315 | 1.5 | 69.31 | 11.3 | 66.7 | 152 | 566432 |\n",
       "| Arizona | West  |  2212 | 4530 | 1.8 | 70.55 |  7.8 | 58.1 |  15 | 113417 |\n",
       "| Arkansas | South |  2110 | 3378 | 1.9 | 70.66 | 10.1 | 39.9 |  65 |  51945 |\n",
       "| California | West  | 21198 | 5114 | 1.1 | 71.71 | 10.3 | 62.6 |  20 | 156361 |\n",
       "| Colorado | West  |  2541 | 4884 | 0.7 | 72.06 |  6.8 | 63.9 | 166 | 103766 |\n",
       "\n"
      ],
      "text/plain": [
       "           region Population Income Illiteracy Life.Exp Murder HS.Grad Frost\n",
       "Alabama    South   3615      3624   2.1        69.05    15.1   41.3     20  \n",
       "Alaska     West     365      6315   1.5        69.31    11.3   66.7    152  \n",
       "Arizona    West    2212      4530   1.8        70.55     7.8   58.1     15  \n",
       "Arkansas   South   2110      3378   1.9        70.66    10.1   39.9     65  \n",
       "California West   21198      5114   1.1        71.71    10.3   62.6     20  \n",
       "Colorado   West    2541      4884   0.7        72.06     6.8   63.9    166  \n",
       "           Area  \n",
       "Alabama     50708\n",
       "Alaska     566432\n",
       "Arizona    113417\n",
       "Arkansas    51945\n",
       "California 156361\n",
       "Colorado   103766"
      ]
     },
     "metadata": {},
     "output_type": "display_data"
    }
   ],
   "source": [
    "# create a new dataset by concatenating the new column named 'region' and the dataframe 'USA'\n",
    "USAr <- data.frame(region = state.region, USA)\n",
    "head(USAr)"
   ]
  },
  {
   "cell_type": "code",
   "execution_count": 23,
   "id": "ff7642fc",
   "metadata": {},
   "outputs": [
    {
     "name": "stdout",
     "output_type": "stream",
     "text": [
      "[1] \"region\"     \"Population\" \"Income\"     \"Illiteracy\" \"Life.Exp\"  \n",
      "[6] \"Murder\"     \"HS.Grad\"    \"Frost\"      \"Area\"      \n"
     ]
    }
   ],
   "source": [
    "# Columns\n",
    "print(colnames(USAr))"
   ]
  },
  {
   "cell_type": "code",
   "execution_count": 24,
   "id": "3bc50ffb",
   "metadata": {},
   "outputs": [],
   "source": [
    "my_PCA <- PCA(X = USAr,\n",
    "              quali.sup = 1,         # USAr$Region (qualitative variable)\n",
    "              quanti.sup = c(2,9),   # USAr$Population and USAr$Area (supplementary variables)\n",
    "              graph = FALSE)"
   ]
  },
  {
   "cell_type": "markdown",
   "id": "ad9bfc78",
   "metadata": {},
   "source": [
    "Then it is possible to display these variables on the graph showing the scores : "
   ]
  },
  {
   "cell_type": "code",
   "execution_count": 25,
   "id": "bee9faa6",
   "metadata": {},
   "outputs": [
    {
     "data": {
      "image/png": "[encoded data removed]",
      "text/plain": [
       "plot without title"
      ]
     },
     "metadata": {
      "image/png": {
       "height": 420,
       "width": 420
      }
     },
     "output_type": "display_data"
    },
    {
     "data": {
      "image/png": "[encoded data removed]",
      "text/plain": [
       "plot without title"
      ]
     },
     "metadata": {
      "image/png": {
       "height": 420,
       "width": 420
      }
     },
     "output_type": "display_data"
    }
   ],
   "source": [
    "layout(matrix(1:2, nrow = 1))\n",
    "\n",
    "plot(my_PCA, choix = \"ind\", cex = .7, habillage = \"region\") # 'ind' for the individuals\n",
    "plot(my_PCA, choix = \"var\")           # 'var' for the variables"
   ]
  },
  {
   "cell_type": "markdown",
   "id": "6b2ae442",
   "metadata": {},
   "source": [
    "<a id=\"6\"></a>\n",
    "\n",
    "## 2.2) Examining PCA Results with the `explor` Package\n",
    "\n",
    "While the few functions examined previously allow for graphically displaying the results of PCA, the produced graphs are not always aesthetic (at least in my personal opinion) nor very flexible (for example, regarding the appearance or positioning of labels).\n",
    "\n",
    "The recently developed `explor` package addresses these shortcomings. Install it and try the following command :"
   ]
  },
  {
   "cell_type": "code",
   "execution_count": 26,
   "id": "d2b82a13",
   "metadata": {},
   "outputs": [],
   "source": [
    "#install.packages(\"explor\")\n",
    "\n",
    "#layout(matrix(1:2, nrow = 1))\n",
    "#require(\"explor\")  # charging \n",
    "#explor(my_PCA)"
   ]
  },
  {
   "cell_type": "markdown",
   "id": "083035e9",
   "metadata": {},
   "source": [
    "Perform PCA on the dataset 'notes'. Describe the results :\n",
    "\n",
    "* Have we succeeded in describing the dataset well through the results of PCA?\n",
    "* Which variables have the most influence in defining the principal components?\n",
    "* How are the variables inter-correlated?\n",
    "\n",
    "<u>**Note**</u> **:**\n",
    "\n",
    "In the `FactoMineR` package, analyses are conducted, by default, on \"standardized\" variables, i.e. transformed so that all variables have the same variance. This operation aims to give the same weight (in terms of inertia) to different variables.\n",
    "\n",
    "Indeed, if a variable naturally takes stronger or \"more variable\" values than others, it will tend to have a greater impact on the results of the analyses. For example, in the `USA` dataset, the variable `Area` takes particularly large values : if we do not center and scale the dataset, this variable will have a huge weight in the results of the analysis.\n",
    "\n",
    "You can convince yourself by executing the following command :"
   ]
  },
  {
   "cell_type": "code",
   "execution_count": 27,
   "id": "081c7ac4",
   "metadata": {},
   "outputs": [
    {
     "name": "stderr",
     "output_type": "stream",
     "text": [
      "Warning message:\n",
      "\"ggrepel: 6 unlabeled data points (too many overlaps). Consider increasing max.overlaps\"\n"
     ]
    },
    {
     "data": {
      "text/plain": [
       "**Results for the Principal Component Analysis (PCA)**\n",
       "The analysis was performed on 50 individuals, described by 8 variables\n",
       "*The results are available in the following objects:\n",
       "\n",
       "   name               description                          \n",
       "1  \"$eig\"             \"eigenvalues\"                        \n",
       "2  \"$var\"             \"results for the variables\"          \n",
       "3  \"$var$coord\"       \"coord. for the variables\"           \n",
       "4  \"$var$cor\"         \"correlations variables - dimensions\"\n",
       "5  \"$var$cos2\"        \"cos2 for the variables\"             \n",
       "6  \"$var$contrib\"     \"contributions of the variables\"     \n",
       "7  \"$ind\"             \"results for the individuals\"        \n",
       "8  \"$ind$coord\"       \"coord. for the individuals\"         \n",
       "9  \"$ind$cos2\"        \"cos2 for the individuals\"           \n",
       "10 \"$ind$contrib\"     \"contributions of the individuals\"   \n",
       "11 \"$call\"            \"summary statistics\"                 \n",
       "12 \"$call$centre\"     \"mean of the variables\"              \n",
       "13 \"$call$ecart.type\" \"standard error of the variables\"    \n",
       "14 \"$call$row.w\"      \"weights for the individuals\"        \n",
       "15 \"$call$col.w\"      \"weights for the variables\"          "
      ]
     },
     "metadata": {},
     "output_type": "display_data"
    }
   ],
   "source": [
    "PCA(USA, scale.unit = FALSE)"
   ]
  },
  {
   "cell_type": "code",
   "execution_count": 28,
   "id": "376c217f",
   "metadata": {},
   "outputs": [
    {
     "name": "stderr",
     "output_type": "stream",
     "text": [
      "Warning message:\n",
      "\"ggrepel: 6 unlabeled data points (too many overlaps). Consider increasing max.overlaps\"\n"
     ]
    },
    {
     "data": {
      "text/html": [
       "<table class=\"dataframe\">\n",
       "<caption>A matrix: 8 × 2 of type dbl</caption>\n",
       "<thead>\n",
       "\t<tr><th></th><th scope=col>Dim.1</th><th scope=col>Dim.2</th></tr>\n",
       "</thead>\n",
       "<tbody>\n",
       "\t<tr><th scope=row>Population</th><td>1.399410e-04</td><td>9.992011e+01</td></tr>\n",
       "\t<tr><th scope=row>Income</th><td>6.846335e-04</td><td>7.822461e-02</td></tr>\n",
       "\t<tr><th scope=row>Illiteracy</th><td>3.045875e-11</td><td>2.017864e-08</td></tr>\n",
       "\t<tr><th scope=row>Life Exp</th><td>2.851104e-10</td><td>3.718698e-08</td></tr>\n",
       "\t<tr><th scope=row>Murder</th><td>9.764447e-09</td><td>7.768082e-06</td></tr>\n",
       "\t<tr><th scope=row>HS Grad</th><td>9.968469e-08</td><td>3.543977e-06</td></tr>\n",
       "\t<tr><th scope=row>Frost</th><td>1.301163e-07</td><td>1.498952e-03</td></tr>\n",
       "\t<tr><th scope=row>Area</th><td>9.999918e+01</td><td>1.576375e-04</td></tr>\n",
       "</tbody>\n",
       "</table>\n"
      ],
      "text/latex": [
       "A matrix: 8 × 2 of type dbl\n",
       "\\begin{tabular}{r|ll}\n",
       "  & Dim.1 & Dim.2\\\\\n",
       "\\hline\n",
       "\tPopulation & 1.399410e-04 & 9.992011e+01\\\\\n",
       "\tIncome & 6.846335e-04 & 7.822461e-02\\\\\n",
       "\tIlliteracy & 3.045875e-11 & 2.017864e-08\\\\\n",
       "\tLife Exp & 2.851104e-10 & 3.718698e-08\\\\\n",
       "\tMurder & 9.764447e-09 & 7.768082e-06\\\\\n",
       "\tHS Grad & 9.968469e-08 & 3.543977e-06\\\\\n",
       "\tFrost & 1.301163e-07 & 1.498952e-03\\\\\n",
       "\tArea & 9.999918e+01 & 1.576375e-04\\\\\n",
       "\\end{tabular}\n"
      ],
      "text/markdown": [
       "\n",
       "A matrix: 8 × 2 of type dbl\n",
       "\n",
       "| <!--/--> | Dim.1 | Dim.2 |\n",
       "|---|---|---|\n",
       "| Population | 1.399410e-04 | 9.992011e+01 |\n",
       "| Income | 6.846335e-04 | 7.822461e-02 |\n",
       "| Illiteracy | 3.045875e-11 | 2.017864e-08 |\n",
       "| Life Exp | 2.851104e-10 | 3.718698e-08 |\n",
       "| Murder | 9.764447e-09 | 7.768082e-06 |\n",
       "| HS Grad | 9.968469e-08 | 3.543977e-06 |\n",
       "| Frost | 1.301163e-07 | 1.498952e-03 |\n",
       "| Area | 9.999918e+01 | 1.576375e-04 |\n",
       "\n"
      ],
      "text/plain": [
       "           Dim.1        Dim.2       \n",
       "Population 1.399410e-04 9.992011e+01\n",
       "Income     6.846335e-04 7.822461e-02\n",
       "Illiteracy 3.045875e-11 2.017864e-08\n",
       "Life Exp   2.851104e-10 3.718698e-08\n",
       "Murder     9.764447e-09 7.768082e-06\n",
       "HS Grad    9.968469e-08 3.543977e-06\n",
       "Frost      1.301163e-07 1.498952e-03\n",
       "Area       9.999918e+01 1.576375e-04"
      ]
     },
     "metadata": {},
     "output_type": "display_data"
    }
   ],
   "source": [
    "PCA(USA, scale.unit = FALSE)$var$contrib[, 1:2]"
   ]
  },
  {
   "cell_type": "code",
   "execution_count": 29,
   "id": "d3c4acc9",
   "metadata": {
    "scrolled": true
   },
   "outputs": [
    {
     "data": {
      "text/html": [
       "<table class=\"dataframe\">\n",
       "<caption>A matrix: 6 × 2 of type dbl</caption>\n",
       "<thead>\n",
       "\t<tr><th></th><th scope=col>Dim.1</th><th scope=col>Dim.2</th></tr>\n",
       "</thead>\n",
       "<tbody>\n",
       "\t<tr><th scope=row>Income</th><td> 9.724705</td><td>51.691438</td></tr>\n",
       "\t<tr><th scope=row>Illiteracy</th><td>22.481325</td><td> 1.581765</td></tr>\n",
       "\t<tr><th scope=row>Life.Exp</th><td>17.606990</td><td> 0.360800</td></tr>\n",
       "\t<tr><th scope=row>Murder</th><td>19.585528</td><td>14.178381</td></tr>\n",
       "\t<tr><th scope=row>HS.Grad</th><td>18.332955</td><td>15.683639</td></tr>\n",
       "\t<tr><th scope=row>Frost</th><td>12.268498</td><td>16.503977</td></tr>\n",
       "</tbody>\n",
       "</table>\n"
      ],
      "text/latex": [
       "A matrix: 6 × 2 of type dbl\n",
       "\\begin{tabular}{r|ll}\n",
       "  & Dim.1 & Dim.2\\\\\n",
       "\\hline\n",
       "\tIncome &  9.724705 & 51.691438\\\\\n",
       "\tIlliteracy & 22.481325 &  1.581765\\\\\n",
       "\tLife.Exp & 17.606990 &  0.360800\\\\\n",
       "\tMurder & 19.585528 & 14.178381\\\\\n",
       "\tHS.Grad & 18.332955 & 15.683639\\\\\n",
       "\tFrost & 12.268498 & 16.503977\\\\\n",
       "\\end{tabular}\n"
      ],
      "text/markdown": [
       "\n",
       "A matrix: 6 × 2 of type dbl\n",
       "\n",
       "| <!--/--> | Dim.1 | Dim.2 |\n",
       "|---|---|---|\n",
       "| Income |  9.724705 | 51.691438 |\n",
       "| Illiteracy | 22.481325 |  1.581765 |\n",
       "| Life.Exp | 17.606990 |  0.360800 |\n",
       "| Murder | 19.585528 | 14.178381 |\n",
       "| HS.Grad | 18.332955 | 15.683639 |\n",
       "| Frost | 12.268498 | 16.503977 |\n",
       "\n"
      ],
      "text/plain": [
       "           Dim.1     Dim.2    \n",
       "Income      9.724705 51.691438\n",
       "Illiteracy 22.481325  1.581765\n",
       "Life.Exp   17.606990  0.360800\n",
       "Murder     19.585528 14.178381\n",
       "HS.Grad    18.332955 15.683639\n",
       "Frost      12.268498 16.503977"
      ]
     },
     "metadata": {},
     "output_type": "display_data"
    }
   ],
   "source": [
    "my_PCA$var$contrib[,1:2]  # scale.unit is by default 'TRUE'"
   ]
  },
  {
   "cell_type": "markdown",
   "id": "df9f67c2",
   "metadata": {},
   "source": [
    "<a id=\"7\"></a>\n",
    "\n",
    "# 3 - Fundamentals of variables and scales in Data Analysis\n",
    "\n",
    "In this chapter, we'll delve into the fundamental concepts that establish the measurement and categorization of data in various fields, from statistics to machine learning. Understanding variables and scales is essential for anyone working with data, as they form the backbone of data analysis and interpretation.\n",
    "\n",
    "We'll begin by exploring the distinction between <span style=\"color:blue\">**qualitative**</span> and <span style=\"color:blue\">**quantitative**</span> variables, discussing their characteristics and how they are represented in datasets. From there, we'll delve into different measurement scales, such as <span style=\"color:green\">**nominal**</span>, <span style=\"color:green\">**ordinal**</span>, <span style=\"color:green\">**interval**</span>, and <span style=\"color:green\">**ratio**</span> scales, each with its unique properties and applications.\n",
    "\n",
    "* <u>**Qualitative Variable**</u> **:** also known as **categorical variables**, are variables that represent categories or groups and cannot be measured numerically. They describe qualities or characteristics that are not inherently numerical.\n",
    "\n",
    "    * **Example :** Gender (categories: male, female), Marital Status (categories: married, single, divorced), Color (categories: red, blue, green).\n",
    "    \n",
    "* <u>**Quantitative Variable**</u> **:** also known as **numerical variables**, are variables that represent measurable quantities and can be expressed with numerical values. They can be <span style=\"color:blue\">**discrete**</span> or <span style=\"color:blue\">**continuous**</span>.\n",
    "\n",
    "    * **Example :** Age (measured in years), Income (measured in dollars), Temperature (measured in degrees Celsius).\n",
    "    \n",
    "    * <u><span style=\"color:blue\">**Discrete Variable**</span></u> **:** are quantitative variables that take on a finite or countable number of distinct values. There are gaps between possible values, and they are often integers.\n",
    "    \n",
    "    * **Example :** Number of children in a family, Number of students in a class, Number of cars in a parking lot.\n",
    "    \n",
    "    * <u><span style=\"color:blue\">**Continuous Variable**</span></u> **:** are quantitative variables that can take on an infinite number of values within a specified range. They can take any value within a range and are often measured using real numbers.\n",
    "    \n",
    "    * **Example :** Height (measured in centimeters), Weight (measured in kilograms), Time (measured in seconds).\n",
    "    \n",
    "* <u>**Independent Variable**</u> **:** is a variable that is manipulated or controlled by the researcher in an experiment or study. It is the variable that is hypothesized to cause or influence changes in the dependent variable.\n",
    "\n",
    "    * **Example :** In a study investigating the effect of different study techniques on exam scores, the study technique (e.g., reading, highlighting, summarizing) would be the independent variable.\n",
    "    \n",
    "* <u>**Dependent Variable**</u> **:** is a variable that is measured or observed in an experiment or study. It is the variable that is expected to change as a result of variations in the independent variable.\n",
    "\n",
    "    * **Example :** In the same study mentioned earlier, the exam score would be the dependent variable, as it is expected to vary depending on the study technique used (independent variable).\n",
    "    \n",
    "* <u>**Nominal Scale**</u> **:** is a scale of measurement that categorizes data into distinct categories or groups with no inherent order or ranking. The categories are mutually exclusive and exhaustive.\n",
    "\n",
    "    * **Example :** Types of fruit (apple, banana, orange), Blood type (A, B, AB, O), Marital status (married, single, divorced).\n",
    "    \n",
    "* <u>**Ordinal Scale**</u> **:** is a scale of measurement that categorizes data into ordered or ranked categories where the relative position or order of categories is meaningful, but the exact differences between categories are not specified.\n",
    "\n",
    "    * **Example :** Ranking of satisfaction levels (very dissatisfied, dissatisfied, neutral, satisfied, very satisfied), Educational attainment level (elementary, high school, bachelor's degree, master's degree, PhD).\n"
   ]
  },
  {
   "cell_type": "markdown",
   "id": "9d44af12",
   "metadata": {},
   "source": [
    "<a id=\"8\"></a>\n",
    "\n",
    "# 4 - Other examples of factorial methods: CA and MCA\n",
    "\n",
    "<a id=\"9\"></a>\n",
    "\n",
    "## 4.1) A dataset comprising two qualitative variables : CA\n",
    "\n",
    "**Correspondence Analysis (CA)** is based on similar principles to PCA. It is applied when considering two <span style=\"color:blue\">**qualitative variables**</span>. For instance, one could consider data classifying bank clients according to their socio-professional category (SPC) and their age :"
   ]
  },
  {
   "cell_type": "code",
   "execution_count": 30,
   "id": "b4ab801d",
   "metadata": {},
   "outputs": [],
   "source": [
    "#install.packages(\"ade4\")"
   ]
  },
  {
   "cell_type": "code",
   "execution_count": 31,
   "id": "b5d5c310",
   "metadata": {},
   "outputs": [
    {
     "name": "stderr",
     "output_type": "stream",
     "text": [
      "\n",
      "Attaching package: 'ade4'\n",
      "\n",
      "\n",
      "The following object is masked from 'package:FactoMineR':\n",
      "\n",
      "    reconst\n",
      "\n",
      "\n"
     ]
    }
   ],
   "source": [
    "library(ade4)\n",
    "data(banque)\n",
    "data <- banque"
   ]
  },
  {
   "cell_type": "code",
   "execution_count": 32,
   "id": "ba9bb2b0",
   "metadata": {},
   "outputs": [
    {
     "data": {
      "text/html": [
       "<table class=\"dataframe\">\n",
       "<caption>A data.frame: 6 × 21</caption>\n",
       "<thead>\n",
       "\t<tr><th></th><th scope=col>csp</th><th scope=col>duree</th><th scope=col>oppo</th><th scope=col>age</th><th scope=col>sexe</th><th scope=col>interdit</th><th scope=col>cableue</th><th scope=col>assurvi</th><th scope=col>soldevu</th><th scope=col>eparlog</th><th scope=col>⋯</th><th scope=col>credhab</th><th scope=col>credcon</th><th scope=col>versesp</th><th scope=col>retresp</th><th scope=col>remiche</th><th scope=col>preltre</th><th scope=col>prelfin</th><th scope=col>viredeb</th><th scope=col>virecre</th><th scope=col>porttit</th></tr>\n",
       "\t<tr><th></th><th scope=col>&lt;fct&gt;</th><th scope=col>&lt;fct&gt;</th><th scope=col>&lt;fct&gt;</th><th scope=col>&lt;fct&gt;</th><th scope=col>&lt;fct&gt;</th><th scope=col>&lt;fct&gt;</th><th scope=col>&lt;fct&gt;</th><th scope=col>&lt;fct&gt;</th><th scope=col>&lt;fct&gt;</th><th scope=col>&lt;fct&gt;</th><th scope=col>⋯</th><th scope=col>&lt;fct&gt;</th><th scope=col>&lt;fct&gt;</th><th scope=col>&lt;fct&gt;</th><th scope=col>&lt;fct&gt;</th><th scope=col>&lt;fct&gt;</th><th scope=col>&lt;fct&gt;</th><th scope=col>&lt;fct&gt;</th><th scope=col>&lt;fct&gt;</th><th scope=col>&lt;fct&gt;</th><th scope=col>&lt;fct&gt;</th></tr>\n",
       "</thead>\n",
       "<tbody>\n",
       "\t<tr><th scope=row>1</th><td>ouvri</td><td>d48 </td><td>non</td><td>ai75</td><td>hom</td><td>non</td><td>non</td><td>non</td><td>n1</td><td>nul</td><td>⋯</td><td>non</td><td>nul</td><td>non</td><td>fai</td><td>nul</td><td>nul</td><td>nul</td><td>nul</td><td>nul</td><td>nul</td></tr>\n",
       "\t<tr><th scope=row>2</th><td>cadsu</td><td>d24 </td><td>non</td><td>ai35</td><td>hom</td><td>non</td><td>non</td><td>non</td><td>n1</td><td>nul</td><td>⋯</td><td>non</td><td>nul</td><td>non</td><td>fai</td><td>nul</td><td>nul</td><td>nul</td><td>nul</td><td>nul</td><td>nul</td></tr>\n",
       "\t<tr><th scope=row>3</th><td>cadsu</td><td>d48 </td><td>non</td><td>ai75</td><td>hom</td><td>non</td><td>non</td><td>non</td><td>p1</td><td>nul</td><td>⋯</td><td>non</td><td>nul</td><td>non</td><td>fai</td><td>nul</td><td>nul</td><td>nul</td><td>nul</td><td>nul</td><td>nul</td></tr>\n",
       "\t<tr><th scope=row>4</th><td>inact</td><td>d24 </td><td>non</td><td>ai45</td><td>fem</td><td>oui</td><td>non</td><td>non</td><td>p2</td><td>nul</td><td>⋯</td><td>non</td><td>nul</td><td>oui</td><td>fai</td><td>fai</td><td>nul</td><td>nul</td><td>nul</td><td>nul</td><td>moy</td></tr>\n",
       "\t<tr><th scope=row>5</th><td>retra</td><td>d812</td><td>non</td><td>ai75</td><td>hom</td><td>non</td><td>non</td><td>non</td><td>p4</td><td>nul</td><td>⋯</td><td>non</td><td>nul</td><td>non</td><td>fai</td><td>nul</td><td>nul</td><td>nul</td><td>fai</td><td>nul</td><td>for</td></tr>\n",
       "\t<tr><th scope=row>6</th><td>inact</td><td>dp12</td><td>non</td><td>ai45</td><td>fem</td><td>non</td><td>non</td><td>non</td><td>p1</td><td>nul</td><td>⋯</td><td>non</td><td>nul</td><td>non</td><td>fai</td><td>nul</td><td>nul</td><td>nul</td><td>nul</td><td>nul</td><td>nul</td></tr>\n",
       "</tbody>\n",
       "</table>\n"
      ],
      "text/latex": [
       "A data.frame: 6 × 21\n",
       "\\begin{tabular}{r|lllllllllllllllllllll}\n",
       "  & csp & duree & oppo & age & sexe & interdit & cableue & assurvi & soldevu & eparlog & ⋯ & credhab & credcon & versesp & retresp & remiche & preltre & prelfin & viredeb & virecre & porttit\\\\\n",
       "  & <fct> & <fct> & <fct> & <fct> & <fct> & <fct> & <fct> & <fct> & <fct> & <fct> & ⋯ & <fct> & <fct> & <fct> & <fct> & <fct> & <fct> & <fct> & <fct> & <fct> & <fct>\\\\\n",
       "\\hline\n",
       "\t1 & ouvri & d48  & non & ai75 & hom & non & non & non & n1 & nul & ⋯ & non & nul & non & fai & nul & nul & nul & nul & nul & nul\\\\\n",
       "\t2 & cadsu & d24  & non & ai35 & hom & non & non & non & n1 & nul & ⋯ & non & nul & non & fai & nul & nul & nul & nul & nul & nul\\\\\n",
       "\t3 & cadsu & d48  & non & ai75 & hom & non & non & non & p1 & nul & ⋯ & non & nul & non & fai & nul & nul & nul & nul & nul & nul\\\\\n",
       "\t4 & inact & d24  & non & ai45 & fem & oui & non & non & p2 & nul & ⋯ & non & nul & oui & fai & fai & nul & nul & nul & nul & moy\\\\\n",
       "\t5 & retra & d812 & non & ai75 & hom & non & non & non & p4 & nul & ⋯ & non & nul & non & fai & nul & nul & nul & fai & nul & for\\\\\n",
       "\t6 & inact & dp12 & non & ai45 & fem & non & non & non & p1 & nul & ⋯ & non & nul & non & fai & nul & nul & nul & nul & nul & nul\\\\\n",
       "\\end{tabular}\n"
      ],
      "text/markdown": [
       "\n",
       "A data.frame: 6 × 21\n",
       "\n",
       "| <!--/--> | csp &lt;fct&gt; | duree &lt;fct&gt; | oppo &lt;fct&gt; | age &lt;fct&gt; | sexe &lt;fct&gt; | interdit &lt;fct&gt; | cableue &lt;fct&gt; | assurvi &lt;fct&gt; | soldevu &lt;fct&gt; | eparlog &lt;fct&gt; | ⋯ ⋯ | credhab &lt;fct&gt; | credcon &lt;fct&gt; | versesp &lt;fct&gt; | retresp &lt;fct&gt; | remiche &lt;fct&gt; | preltre &lt;fct&gt; | prelfin &lt;fct&gt; | viredeb &lt;fct&gt; | virecre &lt;fct&gt; | porttit &lt;fct&gt; |\n",
       "|---|---|---|---|---|---|---|---|---|---|---|---|---|---|---|---|---|---|---|---|---|---|\n",
       "| 1 | ouvri | d48  | non | ai75 | hom | non | non | non | n1 | nul | ⋯ | non | nul | non | fai | nul | nul | nul | nul | nul | nul |\n",
       "| 2 | cadsu | d24  | non | ai35 | hom | non | non | non | n1 | nul | ⋯ | non | nul | non | fai | nul | nul | nul | nul | nul | nul |\n",
       "| 3 | cadsu | d48  | non | ai75 | hom | non | non | non | p1 | nul | ⋯ | non | nul | non | fai | nul | nul | nul | nul | nul | nul |\n",
       "| 4 | inact | d24  | non | ai45 | fem | oui | non | non | p2 | nul | ⋯ | non | nul | oui | fai | fai | nul | nul | nul | nul | moy |\n",
       "| 5 | retra | d812 | non | ai75 | hom | non | non | non | p4 | nul | ⋯ | non | nul | non | fai | nul | nul | nul | fai | nul | for |\n",
       "| 6 | inact | dp12 | non | ai45 | fem | non | non | non | p1 | nul | ⋯ | non | nul | non | fai | nul | nul | nul | nul | nul | nul |\n",
       "\n"
      ],
      "text/plain": [
       "  csp   duree oppo age  sexe interdit cableue assurvi soldevu eparlog ⋯ credhab\n",
       "1 ouvri d48   non  ai75 hom  non      non     non     n1      nul     ⋯ non    \n",
       "2 cadsu d24   non  ai35 hom  non      non     non     n1      nul     ⋯ non    \n",
       "3 cadsu d48   non  ai75 hom  non      non     non     p1      nul     ⋯ non    \n",
       "4 inact d24   non  ai45 fem  oui      non     non     p2      nul     ⋯ non    \n",
       "5 retra d812  non  ai75 hom  non      non     non     p4      nul     ⋯ non    \n",
       "6 inact dp12  non  ai45 fem  non      non     non     p1      nul     ⋯ non    \n",
       "  credcon versesp retresp remiche preltre prelfin viredeb virecre porttit\n",
       "1 nul     non     fai     nul     nul     nul     nul     nul     nul    \n",
       "2 nul     non     fai     nul     nul     nul     nul     nul     nul    \n",
       "3 nul     non     fai     nul     nul     nul     nul     nul     nul    \n",
       "4 nul     oui     fai     fai     nul     nul     nul     nul     moy    \n",
       "5 nul     non     fai     nul     nul     nul     fai     nul     for    \n",
       "6 nul     non     fai     nul     nul     nul     nul     nul     nul    "
      ]
     },
     "metadata": {},
     "output_type": "display_data"
    }
   ],
   "source": [
    "# dataframe\n",
    "head(data)"
   ]
  },
  {
   "cell_type": "markdown",
   "id": "27616551",
   "metadata": {},
   "source": [
    "To understand this type of data, we first look at the contingency table, which provides the observed frequencies by crossing the two factors :"
   ]
  },
  {
   "cell_type": "code",
   "execution_count": 33,
   "id": "2ee363e6",
   "metadata": {},
   "outputs": [
    {
     "name": "stdout",
     "output_type": "stream",
     "text": [
      "Margins computed over dimensions\n",
      "in the following order:\n",
      "1: \n",
      "2: \n",
      "            \n",
      "             agric artis cadsu inter emplo ouvri retra inact etudi line_sum\n",
      "  ai25         0.0   0.1   0.1   0.0   1.6   1.5   0.0   1.5   6.3     11.1\n",
      "  ai35         0.5   0.4   1.4   3.0   4.4   8.1   0.0   0.9   0.6     19.3\n",
      "  ai45         1.5   1.6   5.1   3.7   4.8   6.5   0.1   2.7   0.1     26.1\n",
      "  ai55         1.0   2.1   3.1   4.2   4.8   4.2   0.1   2.0   0.0     21.5\n",
      "  ai75         0.6   1.7   3.1   1.7   3.0   2.2   6.2   3.5   0.0     22.0\n",
      "  column_sum   3.6   5.9  12.8  12.6  18.6  22.5   6.4  10.6   7.0    100.0\n"
     ]
    }
   ],
   "source": [
    "observed_freq <- round(table(data$age, data$csp)*100/sum(table(data$age, data$csp)), 1)\n",
    "\n",
    "# Create a table of observed frequencies with row and column sums\n",
    "observed_freq_with_margins <- addmargins(observed_freq, FUN = list(column_sum= sum, line_sum = sum))\n",
    "\n",
    "# Print the table with row and column sums and custom names\n",
    "print(observed_freq_with_margins)"
   ]
  },
  {
   "cell_type": "markdown",
   "id": "3fd021f7",
   "metadata": {},
   "source": [
    "At this stage, we have 'transformed' our table of qualitative variables into a table comprising numbers.\n",
    "\n",
    "We cannot directly interpret this table to deduce the strength of the link between two factor modalities. Indeed, a high value in the table may simply be explained by high marginal values (for example, the proportion of workers aged under 45 is quite high not because there is a link between these two modalities, but because the marginal proportions of people aged under 45 and the proportion of workers are high: $ai45*ouvri=0.261*0.225\\approx0.059$\n",
    "\n",
    "Therefore, it is useful to quantify the influence of marginal proportions on the observed proportions. This amounts to quantifying the values we would theoretically observe if the two factors, `csp` and `age`, were completely independent.\n",
    "\n",
    "The frequencies in each cell would be equal to the multiplication of the marginal frequencies. For example, the percentage of farmers aged under 25 (`ai25`,`agric`) would be equal to the overall percentage of farmers (2.9%) multiplied by the overall percentage of people aged under 25 : $0.036*0.111= 0.003996 \\approx 0.4\\%$"
   ]
  },
  {
   "cell_type": "code",
   "execution_count": 34,
   "id": "cef062eb",
   "metadata": {
    "scrolled": true
   },
   "outputs": [
    {
     "data": {
      "text/html": [
       "<table class=\"dataframe\">\n",
       "<caption>A matrix: 4 × 8 of type dbl</caption>\n",
       "<thead>\n",
       "\t<tr><th></th><th scope=col>agric</th><th scope=col>artis</th><th scope=col>cadsu</th><th scope=col>inter</th><th scope=col>emplo</th><th scope=col>ouvri</th><th scope=col>retra</th><th scope=col>inact</th></tr>\n",
       "</thead>\n",
       "<tbody>\n",
       "\t<tr><th scope=row>ai25</th><td>0.4</td><td>0.7</td><td>1.4</td><td>1.4</td><td>2.1</td><td>2.5</td><td>0.7</td><td>1.2</td></tr>\n",
       "\t<tr><th scope=row>ai35</th><td>0.7</td><td>1.1</td><td>2.5</td><td>2.4</td><td>3.6</td><td>4.3</td><td>1.2</td><td>2.0</td></tr>\n",
       "\t<tr><th scope=row>ai45</th><td>0.9</td><td>1.5</td><td>3.3</td><td>3.3</td><td>4.9</td><td>5.9</td><td>1.7</td><td>2.8</td></tr>\n",
       "\t<tr><th scope=row>ai55</th><td>0.8</td><td>1.3</td><td>2.8</td><td>2.7</td><td>4.0</td><td>4.8</td><td>1.4</td><td>2.3</td></tr>\n",
       "</tbody>\n",
       "</table>\n"
      ],
      "text/latex": [
       "A matrix: 4 × 8 of type dbl\n",
       "\\begin{tabular}{r|llllllll}\n",
       "  & agric & artis & cadsu & inter & emplo & ouvri & retra & inact\\\\\n",
       "\\hline\n",
       "\tai25 & 0.4 & 0.7 & 1.4 & 1.4 & 2.1 & 2.5 & 0.7 & 1.2\\\\\n",
       "\tai35 & 0.7 & 1.1 & 2.5 & 2.4 & 3.6 & 4.3 & 1.2 & 2.0\\\\\n",
       "\tai45 & 0.9 & 1.5 & 3.3 & 3.3 & 4.9 & 5.9 & 1.7 & 2.8\\\\\n",
       "\tai55 & 0.8 & 1.3 & 2.8 & 2.7 & 4.0 & 4.8 & 1.4 & 2.3\\\\\n",
       "\\end{tabular}\n"
      ],
      "text/markdown": [
       "\n",
       "A matrix: 4 × 8 of type dbl\n",
       "\n",
       "| <!--/--> | agric | artis | cadsu | inter | emplo | ouvri | retra | inact |\n",
       "|---|---|---|---|---|---|---|---|---|\n",
       "| ai25 | 0.4 | 0.7 | 1.4 | 1.4 | 2.1 | 2.5 | 0.7 | 1.2 |\n",
       "| ai35 | 0.7 | 1.1 | 2.5 | 2.4 | 3.6 | 4.3 | 1.2 | 2.0 |\n",
       "| ai45 | 0.9 | 1.5 | 3.3 | 3.3 | 4.9 | 5.9 | 1.7 | 2.8 |\n",
       "| ai55 | 0.8 | 1.3 | 2.8 | 2.7 | 4.0 | 4.8 | 1.4 | 2.3 |\n",
       "\n"
      ],
      "text/plain": [
       "     agric artis cadsu inter emplo ouvri retra inact\n",
       "ai25 0.4   0.7   1.4   1.4   2.1   2.5   0.7   1.2  \n",
       "ai35 0.7   1.1   2.5   2.4   3.6   4.3   1.2   2.0  \n",
       "ai45 0.9   1.5   3.3   3.3   4.9   5.9   1.7   2.8  \n",
       "ai55 0.8   1.3   2.8   2.7   4.0   4.8   1.4   2.3  "
      ]
     },
     "metadata": {},
     "output_type": "display_data"
    }
   ],
   "source": [
    "# Get the number of rows and columns in the table\n",
    "num_rows <- nrow(observed_freq)\n",
    "num_cols <- ncol(observed_freq)\n",
    "\n",
    "# For that, we perform an exterior product between 'line_sum' and 'column_sum'\n",
    "observed_freq <- round(outer(observed_freq_with_margins[,10], observed_freq_with_margins[6,])/100, 1)[1:num_rows-1, 1:num_cols-1]\n",
    "observed_freq"
   ]
  },
  {
   "cell_type": "code",
   "execution_count": 35,
   "id": "a288c73c",
   "metadata": {},
   "outputs": [
    {
     "data": {
      "text/html": [
       "<style>\n",
       ".list-inline {list-style: none; margin:0; padding: 0}\n",
       ".list-inline>li {display: inline-block}\n",
       ".list-inline>li:not(:last-child)::after {content: \"\\00b7\"; padding: 0 .5ex}\n",
       "</style>\n",
       "<ol class=list-inline><li>11.6</li><li>19.2</li><li>41.2</li><li>40.8</li><li>60.4</li><li>73.2</li><li>20.8</li><li>34</li><li>22.8</li><li>20.3</li><li>33.6</li><li>72.1</li><li>71.4</li><li>105.7</li><li>128.1</li><li>36.4</li><li>59.5</li><li>39.9</li><li>26.1</li><li>43.2</li><li>92.7</li><li>91.8</li><li>135.9</li><li>164.7</li><li>46.8</li><li>76.5</li><li>51.3</li><li>23.2</li><li>38.4</li><li>82.4</li><li>81.6</li><li>120.8</li><li>146.4</li><li>41.6</li><li>68</li><li>45.6</li><li>20.3</li><li>33.6</li><li>72.1</li><li>71.4</li><li>105.7</li><li>128.1</li><li>36.4</li><li>59.5</li><li>39.9</li><li>31.9</li><li>52.8</li><li>113.3</li><li>112.2</li><li>166.1</li><li>201.3</li><li>57.2</li><li>93.5</li><li>62.7</li><li>43.5</li><li>72</li><li>154.5</li><li>153</li><li>226.5</li><li>274.5</li><li>78</li><li>127.5</li><li>85.5</li><li>37.7</li><li>62.4</li><li>133.9</li><li>132.6</li><li>196.3</li><li>237.9</li><li>67.6</li><li>110.5</li><li>74.1</li><li>40.6</li><li>67.2</li><li>144.2</li><li>142.8</li><li>211.4</li><li>256.2</li><li>72.8</li><li>119</li><li>79.8</li><li>72.5</li><li>120</li><li>257.5</li><li>255</li><li>377.5</li><li>457.5</li><li>130</li><li>212.5</li><li>142.5</li><li>95.7</li><li>158.4</li><li>339.9</li><li>336.6</li><li>498.3</li><li>603.9</li><li>171.6</li><li>280.5</li><li>188.1</li><li>81.2</li><li>134.4</li><li>288.4</li><li>285.6</li><li>422.8</li><li>512.4</li><li>145.6</li><li>238</li><li>159.6</li><li>40.6</li><li>67.2</li><li>144.2</li><li>142.8</li><li>211.4</li><li>256.2</li><li>72.8</li><li>119</li><li>79.8</li><li>69.6</li><li>115.2</li><li>247.2</li><li>244.8</li><li>362.4</li><li>439.2</li><li>124.8</li><li>204</li><li>136.8</li><li>95.7</li><li>158.4</li><li>339.9</li><li>336.6</li><li>498.3</li><li>603.9</li><li>171.6</li><li>280.5</li><li>188.1</li><li>78.3</li><li>129.6</li><li>278.1</li><li>275.4</li><li>407.7</li><li>494.1</li><li>140.4</li><li>229.5</li><li>153.9</li><li>60.9</li><li>100.8</li><li>216.3</li><li>214.2</li><li>317.1</li><li>384.3</li><li>109.2</li><li>178.5</li><li>119.7</li><li>104.4</li><li>172.8</li><li>370.8</li><li>367.2</li><li>543.6</li><li>658.8</li><li>187.2</li><li>306</li><li>205.2</li><li>142.1</li><li>235.2</li><li>504.7</li><li>499.8</li><li>739.9</li><li>896.7</li><li>254.8</li><li>416.5</li><li>279.3</li><li>116</li><li>192</li><li>412</li><li>408</li><li>604</li><li>732</li><li>208</li><li>340</li><li>228</li><li>72.5</li><li>120</li><li>257.5</li><li>255</li><li>377.5</li><li>457.5</li><li>130</li><li>212.5</li><li>142.5</li><li>124.7</li><li>206.4</li><li>442.9</li><li>438.6</li><li>649.3</li><li>786.9</li><li>223.6</li><li>365.5</li><li>245.1</li><li>171.1</li><li>283.2</li><li>607.7</li><li>601.8</li><li>890.9</li><li>1079.7</li><li>306.8</li><li>501.5</li><li>336.3</li><li>139.2</li><li>230.4</li><li>494.4</li><li>489.6</li><li>724.8</li><li>878.4</li><li>249.6</li><li>408</li><li>273.6</li><li>20.3</li><li>33.6</li><li>72.1</li><li>71.4</li><li>105.7</li><li>128.1</li><li>36.4</li><li>59.5</li><li>39.9</li><li>34.8</li><li>57.6</li><li>123.6</li><li>122.4</li><li>181.2</li><li>219.6</li><li>62.4</li><li>102</li><li>68.4</li><li>49.3</li><li>81.6</li><li>175.1</li><li>173.4</li><li>256.7</li><li>311.1</li><li>88.4</li><li>144.5</li><li>96.9</li><li>40.6</li><li>67.2</li><li>144.2</li><li>142.8</li><li>211.4</li><li>256.2</li><li>72.8</li><li>119</li><li>79.8</li><li>34.8</li><li>57.6</li><li>123.6</li><li>122.4</li><li>181.2</li><li>219.6</li><li>62.4</li><li>102</li><li>68.4</li><li>58</li><li>96</li><li>206</li><li>204</li><li>302</li><li>366</li><li>104</li><li>170</li><li>114</li><li>81.2</li><li>134.4</li><li>288.4</li><li>285.6</li><li>422.8</li><li>512.4</li><li>145.6</li><li>238</li><li>159.6</li><li>66.7</li><li>110.4</li><li>236.9</li><li>234.6</li><li>347.3</li><li>420.9</li><li>119.6</li><li>195.5</li><li>131.1</li></ol>\n"
      ],
      "text/latex": [
       "\\begin{enumerate*}\n",
       "\\item 11.6\n",
       "\\item 19.2\n",
       "\\item 41.2\n",
       "\\item 40.8\n",
       "\\item 60.4\n",
       "\\item 73.2\n",
       "\\item 20.8\n",
       "\\item 34\n",
       "\\item 22.8\n",
       "\\item 20.3\n",
       "\\item 33.6\n",
       "\\item 72.1\n",
       "\\item 71.4\n",
       "\\item 105.7\n",
       "\\item 128.1\n",
       "\\item 36.4\n",
       "\\item 59.5\n",
       "\\item 39.9\n",
       "\\item 26.1\n",
       "\\item 43.2\n",
       "\\item 92.7\n",
       "\\item 91.8\n",
       "\\item 135.9\n",
       "\\item 164.7\n",
       "\\item 46.8\n",
       "\\item 76.5\n",
       "\\item 51.3\n",
       "\\item 23.2\n",
       "\\item 38.4\n",
       "\\item 82.4\n",
       "\\item 81.6\n",
       "\\item 120.8\n",
       "\\item 146.4\n",
       "\\item 41.6\n",
       "\\item 68\n",
       "\\item 45.6\n",
       "\\item 20.3\n",
       "\\item 33.6\n",
       "\\item 72.1\n",
       "\\item 71.4\n",
       "\\item 105.7\n",
       "\\item 128.1\n",
       "\\item 36.4\n",
       "\\item 59.5\n",
       "\\item 39.9\n",
       "\\item 31.9\n",
       "\\item 52.8\n",
       "\\item 113.3\n",
       "\\item 112.2\n",
       "\\item 166.1\n",
       "\\item 201.3\n",
       "\\item 57.2\n",
       "\\item 93.5\n",
       "\\item 62.7\n",
       "\\item 43.5\n",
       "\\item 72\n",
       "\\item 154.5\n",
       "\\item 153\n",
       "\\item 226.5\n",
       "\\item 274.5\n",
       "\\item 78\n",
       "\\item 127.5\n",
       "\\item 85.5\n",
       "\\item 37.7\n",
       "\\item 62.4\n",
       "\\item 133.9\n",
       "\\item 132.6\n",
       "\\item 196.3\n",
       "\\item 237.9\n",
       "\\item 67.6\n",
       "\\item 110.5\n",
       "\\item 74.1\n",
       "\\item 40.6\n",
       "\\item 67.2\n",
       "\\item 144.2\n",
       "\\item 142.8\n",
       "\\item 211.4\n",
       "\\item 256.2\n",
       "\\item 72.8\n",
       "\\item 119\n",
       "\\item 79.8\n",
       "\\item 72.5\n",
       "\\item 120\n",
       "\\item 257.5\n",
       "\\item 255\n",
       "\\item 377.5\n",
       "\\item 457.5\n",
       "\\item 130\n",
       "\\item 212.5\n",
       "\\item 142.5\n",
       "\\item 95.7\n",
       "\\item 158.4\n",
       "\\item 339.9\n",
       "\\item 336.6\n",
       "\\item 498.3\n",
       "\\item 603.9\n",
       "\\item 171.6\n",
       "\\item 280.5\n",
       "\\item 188.1\n",
       "\\item 81.2\n",
       "\\item 134.4\n",
       "\\item 288.4\n",
       "\\item 285.6\n",
       "\\item 422.8\n",
       "\\item 512.4\n",
       "\\item 145.6\n",
       "\\item 238\n",
       "\\item 159.6\n",
       "\\item 40.6\n",
       "\\item 67.2\n",
       "\\item 144.2\n",
       "\\item 142.8\n",
       "\\item 211.4\n",
       "\\item 256.2\n",
       "\\item 72.8\n",
       "\\item 119\n",
       "\\item 79.8\n",
       "\\item 69.6\n",
       "\\item 115.2\n",
       "\\item 247.2\n",
       "\\item 244.8\n",
       "\\item 362.4\n",
       "\\item 439.2\n",
       "\\item 124.8\n",
       "\\item 204\n",
       "\\item 136.8\n",
       "\\item 95.7\n",
       "\\item 158.4\n",
       "\\item 339.9\n",
       "\\item 336.6\n",
       "\\item 498.3\n",
       "\\item 603.9\n",
       "\\item 171.6\n",
       "\\item 280.5\n",
       "\\item 188.1\n",
       "\\item 78.3\n",
       "\\item 129.6\n",
       "\\item 278.1\n",
       "\\item 275.4\n",
       "\\item 407.7\n",
       "\\item 494.1\n",
       "\\item 140.4\n",
       "\\item 229.5\n",
       "\\item 153.9\n",
       "\\item 60.9\n",
       "\\item 100.8\n",
       "\\item 216.3\n",
       "\\item 214.2\n",
       "\\item 317.1\n",
       "\\item 384.3\n",
       "\\item 109.2\n",
       "\\item 178.5\n",
       "\\item 119.7\n",
       "\\item 104.4\n",
       "\\item 172.8\n",
       "\\item 370.8\n",
       "\\item 367.2\n",
       "\\item 543.6\n",
       "\\item 658.8\n",
       "\\item 187.2\n",
       "\\item 306\n",
       "\\item 205.2\n",
       "\\item 142.1\n",
       "\\item 235.2\n",
       "\\item 504.7\n",
       "\\item 499.8\n",
       "\\item 739.9\n",
       "\\item 896.7\n",
       "\\item 254.8\n",
       "\\item 416.5\n",
       "\\item 279.3\n",
       "\\item 116\n",
       "\\item 192\n",
       "\\item 412\n",
       "\\item 408\n",
       "\\item 604\n",
       "\\item 732\n",
       "\\item 208\n",
       "\\item 340\n",
       "\\item 228\n",
       "\\item 72.5\n",
       "\\item 120\n",
       "\\item 257.5\n",
       "\\item 255\n",
       "\\item 377.5\n",
       "\\item 457.5\n",
       "\\item 130\n",
       "\\item 212.5\n",
       "\\item 142.5\n",
       "\\item 124.7\n",
       "\\item 206.4\n",
       "\\item 442.9\n",
       "\\item 438.6\n",
       "\\item 649.3\n",
       "\\item 786.9\n",
       "\\item 223.6\n",
       "\\item 365.5\n",
       "\\item 245.1\n",
       "\\item 171.1\n",
       "\\item 283.2\n",
       "\\item 607.7\n",
       "\\item 601.8\n",
       "\\item 890.9\n",
       "\\item 1079.7\n",
       "\\item 306.8\n",
       "\\item 501.5\n",
       "\\item 336.3\n",
       "\\item 139.2\n",
       "\\item 230.4\n",
       "\\item 494.4\n",
       "\\item 489.6\n",
       "\\item 724.8\n",
       "\\item 878.4\n",
       "\\item 249.6\n",
       "\\item 408\n",
       "\\item 273.6\n",
       "\\item 20.3\n",
       "\\item 33.6\n",
       "\\item 72.1\n",
       "\\item 71.4\n",
       "\\item 105.7\n",
       "\\item 128.1\n",
       "\\item 36.4\n",
       "\\item 59.5\n",
       "\\item 39.9\n",
       "\\item 34.8\n",
       "\\item 57.6\n",
       "\\item 123.6\n",
       "\\item 122.4\n",
       "\\item 181.2\n",
       "\\item 219.6\n",
       "\\item 62.4\n",
       "\\item 102\n",
       "\\item 68.4\n",
       "\\item 49.3\n",
       "\\item 81.6\n",
       "\\item 175.1\n",
       "\\item 173.4\n",
       "\\item 256.7\n",
       "\\item 311.1\n",
       "\\item 88.4\n",
       "\\item 144.5\n",
       "\\item 96.9\n",
       "\\item 40.6\n",
       "\\item 67.2\n",
       "\\item 144.2\n",
       "\\item 142.8\n",
       "\\item 211.4\n",
       "\\item 256.2\n",
       "\\item 72.8\n",
       "\\item 119\n",
       "\\item 79.8\n",
       "\\item 34.8\n",
       "\\item 57.6\n",
       "\\item 123.6\n",
       "\\item 122.4\n",
       "\\item 181.2\n",
       "\\item 219.6\n",
       "\\item 62.4\n",
       "\\item 102\n",
       "\\item 68.4\n",
       "\\item 58\n",
       "\\item 96\n",
       "\\item 206\n",
       "\\item 204\n",
       "\\item 302\n",
       "\\item 366\n",
       "\\item 104\n",
       "\\item 170\n",
       "\\item 114\n",
       "\\item 81.2\n",
       "\\item 134.4\n",
       "\\item 288.4\n",
       "\\item 285.6\n",
       "\\item 422.8\n",
       "\\item 512.4\n",
       "\\item 145.6\n",
       "\\item 238\n",
       "\\item 159.6\n",
       "\\item 66.7\n",
       "\\item 110.4\n",
       "\\item 236.9\n",
       "\\item 234.6\n",
       "\\item 347.3\n",
       "\\item 420.9\n",
       "\\item 119.6\n",
       "\\item 195.5\n",
       "\\item 131.1\n",
       "\\end{enumerate*}\n"
      ],
      "text/markdown": [
       "1. 11.6\n",
       "2. 19.2\n",
       "3. 41.2\n",
       "4. 40.8\n",
       "5. 60.4\n",
       "6. 73.2\n",
       "7. 20.8\n",
       "8. 34\n",
       "9. 22.8\n",
       "10. 20.3\n",
       "11. 33.6\n",
       "12. 72.1\n",
       "13. 71.4\n",
       "14. 105.7\n",
       "15. 128.1\n",
       "16. 36.4\n",
       "17. 59.5\n",
       "18. 39.9\n",
       "19. 26.1\n",
       "20. 43.2\n",
       "21. 92.7\n",
       "22. 91.8\n",
       "23. 135.9\n",
       "24. 164.7\n",
       "25. 46.8\n",
       "26. 76.5\n",
       "27. 51.3\n",
       "28. 23.2\n",
       "29. 38.4\n",
       "30. 82.4\n",
       "31. 81.6\n",
       "32. 120.8\n",
       "33. 146.4\n",
       "34. 41.6\n",
       "35. 68\n",
       "36. 45.6\n",
       "37. 20.3\n",
       "38. 33.6\n",
       "39. 72.1\n",
       "40. 71.4\n",
       "41. 105.7\n",
       "42. 128.1\n",
       "43. 36.4\n",
       "44. 59.5\n",
       "45. 39.9\n",
       "46. 31.9\n",
       "47. 52.8\n",
       "48. 113.3\n",
       "49. 112.2\n",
       "50. 166.1\n",
       "51. 201.3\n",
       "52. 57.2\n",
       "53. 93.5\n",
       "54. 62.7\n",
       "55. 43.5\n",
       "56. 72\n",
       "57. 154.5\n",
       "58. 153\n",
       "59. 226.5\n",
       "60. 274.5\n",
       "61. 78\n",
       "62. 127.5\n",
       "63. 85.5\n",
       "64. 37.7\n",
       "65. 62.4\n",
       "66. 133.9\n",
       "67. 132.6\n",
       "68. 196.3\n",
       "69. 237.9\n",
       "70. 67.6\n",
       "71. 110.5\n",
       "72. 74.1\n",
       "73. 40.6\n",
       "74. 67.2\n",
       "75. 144.2\n",
       "76. 142.8\n",
       "77. 211.4\n",
       "78. 256.2\n",
       "79. 72.8\n",
       "80. 119\n",
       "81. 79.8\n",
       "82. 72.5\n",
       "83. 120\n",
       "84. 257.5\n",
       "85. 255\n",
       "86. 377.5\n",
       "87. 457.5\n",
       "88. 130\n",
       "89. 212.5\n",
       "90. 142.5\n",
       "91. 95.7\n",
       "92. 158.4\n",
       "93. 339.9\n",
       "94. 336.6\n",
       "95. 498.3\n",
       "96. 603.9\n",
       "97. 171.6\n",
       "98. 280.5\n",
       "99. 188.1\n",
       "100. 81.2\n",
       "101. 134.4\n",
       "102. 288.4\n",
       "103. 285.6\n",
       "104. 422.8\n",
       "105. 512.4\n",
       "106. 145.6\n",
       "107. 238\n",
       "108. 159.6\n",
       "109. 40.6\n",
       "110. 67.2\n",
       "111. 144.2\n",
       "112. 142.8\n",
       "113. 211.4\n",
       "114. 256.2\n",
       "115. 72.8\n",
       "116. 119\n",
       "117. 79.8\n",
       "118. 69.6\n",
       "119. 115.2\n",
       "120. 247.2\n",
       "121. 244.8\n",
       "122. 362.4\n",
       "123. 439.2\n",
       "124. 124.8\n",
       "125. 204\n",
       "126. 136.8\n",
       "127. 95.7\n",
       "128. 158.4\n",
       "129. 339.9\n",
       "130. 336.6\n",
       "131. 498.3\n",
       "132. 603.9\n",
       "133. 171.6\n",
       "134. 280.5\n",
       "135. 188.1\n",
       "136. 78.3\n",
       "137. 129.6\n",
       "138. 278.1\n",
       "139. 275.4\n",
       "140. 407.7\n",
       "141. 494.1\n",
       "142. 140.4\n",
       "143. 229.5\n",
       "144. 153.9\n",
       "145. 60.9\n",
       "146. 100.8\n",
       "147. 216.3\n",
       "148. 214.2\n",
       "149. 317.1\n",
       "150. 384.3\n",
       "151. 109.2\n",
       "152. 178.5\n",
       "153. 119.7\n",
       "154. 104.4\n",
       "155. 172.8\n",
       "156. 370.8\n",
       "157. 367.2\n",
       "158. 543.6\n",
       "159. 658.8\n",
       "160. 187.2\n",
       "161. 306\n",
       "162. 205.2\n",
       "163. 142.1\n",
       "164. 235.2\n",
       "165. 504.7\n",
       "166. 499.8\n",
       "167. 739.9\n",
       "168. 896.7\n",
       "169. 254.8\n",
       "170. 416.5\n",
       "171. 279.3\n",
       "172. 116\n",
       "173. 192\n",
       "174. 412\n",
       "175. 408\n",
       "176. 604\n",
       "177. 732\n",
       "178. 208\n",
       "179. 340\n",
       "180. 228\n",
       "181. 72.5\n",
       "182. 120\n",
       "183. 257.5\n",
       "184. 255\n",
       "185. 377.5\n",
       "186. 457.5\n",
       "187. 130\n",
       "188. 212.5\n",
       "189. 142.5\n",
       "190. 124.7\n",
       "191. 206.4\n",
       "192. 442.9\n",
       "193. 438.6\n",
       "194. 649.3\n",
       "195. 786.9\n",
       "196. 223.6\n",
       "197. 365.5\n",
       "198. 245.1\n",
       "199. 171.1\n",
       "200. 283.2\n",
       "201. 607.7\n",
       "202. 601.8\n",
       "203. 890.9\n",
       "204. 1079.7\n",
       "205. 306.8\n",
       "206. 501.5\n",
       "207. 336.3\n",
       "208. 139.2\n",
       "209. 230.4\n",
       "210. 494.4\n",
       "211. 489.6\n",
       "212. 724.8\n",
       "213. 878.4\n",
       "214. 249.6\n",
       "215. 408\n",
       "216. 273.6\n",
       "217. 20.3\n",
       "218. 33.6\n",
       "219. 72.1\n",
       "220. 71.4\n",
       "221. 105.7\n",
       "222. 128.1\n",
       "223. 36.4\n",
       "224. 59.5\n",
       "225. 39.9\n",
       "226. 34.8\n",
       "227. 57.6\n",
       "228. 123.6\n",
       "229. 122.4\n",
       "230. 181.2\n",
       "231. 219.6\n",
       "232. 62.4\n",
       "233. 102\n",
       "234. 68.4\n",
       "235. 49.3\n",
       "236. 81.6\n",
       "237. 175.1\n",
       "238. 173.4\n",
       "239. 256.7\n",
       "240. 311.1\n",
       "241. 88.4\n",
       "242. 144.5\n",
       "243. 96.9\n",
       "244. 40.6\n",
       "245. 67.2\n",
       "246. 144.2\n",
       "247. 142.8\n",
       "248. 211.4\n",
       "249. 256.2\n",
       "250. 72.8\n",
       "251. 119\n",
       "252. 79.8\n",
       "253. 34.8\n",
       "254. 57.6\n",
       "255. 123.6\n",
       "256. 122.4\n",
       "257. 181.2\n",
       "258. 219.6\n",
       "259. 62.4\n",
       "260. 102\n",
       "261. 68.4\n",
       "262. 58\n",
       "263. 96\n",
       "264. 206\n",
       "265. 204\n",
       "266. 302\n",
       "267. 366\n",
       "268. 104\n",
       "269. 170\n",
       "270. 114\n",
       "271. 81.2\n",
       "272. 134.4\n",
       "273. 288.4\n",
       "274. 285.6\n",
       "275. 422.8\n",
       "276. 512.4\n",
       "277. 145.6\n",
       "278. 238\n",
       "279. 159.6\n",
       "280. 66.7\n",
       "281. 110.4\n",
       "282. 236.9\n",
       "283. 234.6\n",
       "284. 347.3\n",
       "285. 420.9\n",
       "286. 119.6\n",
       "287. 195.5\n",
       "288. 131.1\n",
       "\n",
       "\n"
      ],
      "text/plain": [
       ", ,  = agric\n",
       "\n",
       "       \n",
       "        ai25  ai35  ai45  ai55\n",
       "  agric 11.6  20.3  26.1  23.2\n",
       "  artis 19.2  33.6  43.2  38.4\n",
       "  cadsu 41.2  72.1  92.7  82.4\n",
       "  inter 40.8  71.4  91.8  81.6\n",
       "  emplo 60.4 105.7 135.9 120.8\n",
       "  ouvri 73.2 128.1 164.7 146.4\n",
       "  retra 20.8  36.4  46.8  41.6\n",
       "  inact 34.0  59.5  76.5  68.0\n",
       "  etudi 22.8  39.9  51.3  45.6\n",
       "\n",
       ", ,  = artis\n",
       "\n",
       "       \n",
       "         ai25  ai35  ai45  ai55\n",
       "  agric  20.3  31.9  43.5  37.7\n",
       "  artis  33.6  52.8  72.0  62.4\n",
       "  cadsu  72.1 113.3 154.5 133.9\n",
       "  inter  71.4 112.2 153.0 132.6\n",
       "  emplo 105.7 166.1 226.5 196.3\n",
       "  ouvri 128.1 201.3 274.5 237.9\n",
       "  retra  36.4  57.2  78.0  67.6\n",
       "  inact  59.5  93.5 127.5 110.5\n",
       "  etudi  39.9  62.7  85.5  74.1\n",
       "\n",
       ", ,  = cadsu\n",
       "\n",
       "       \n",
       "         ai25  ai35  ai45  ai55\n",
       "  agric  40.6  72.5  95.7  81.2\n",
       "  artis  67.2 120.0 158.4 134.4\n",
       "  cadsu 144.2 257.5 339.9 288.4\n",
       "  inter 142.8 255.0 336.6 285.6\n",
       "  emplo 211.4 377.5 498.3 422.8\n",
       "  ouvri 256.2 457.5 603.9 512.4\n",
       "  retra  72.8 130.0 171.6 145.6\n",
       "  inact 119.0 212.5 280.5 238.0\n",
       "  etudi  79.8 142.5 188.1 159.6\n",
       "\n",
       ", ,  = inter\n",
       "\n",
       "       \n",
       "         ai25  ai35  ai45  ai55\n",
       "  agric  40.6  69.6  95.7  78.3\n",
       "  artis  67.2 115.2 158.4 129.6\n",
       "  cadsu 144.2 247.2 339.9 278.1\n",
       "  inter 142.8 244.8 336.6 275.4\n",
       "  emplo 211.4 362.4 498.3 407.7\n",
       "  ouvri 256.2 439.2 603.9 494.1\n",
       "  retra  72.8 124.8 171.6 140.4\n",
       "  inact 119.0 204.0 280.5 229.5\n",
       "  etudi  79.8 136.8 188.1 153.9\n",
       "\n",
       ", ,  = emplo\n",
       "\n",
       "       \n",
       "         ai25  ai35  ai45 ai55\n",
       "  agric  60.9 104.4 142.1  116\n",
       "  artis 100.8 172.8 235.2  192\n",
       "  cadsu 216.3 370.8 504.7  412\n",
       "  inter 214.2 367.2 499.8  408\n",
       "  emplo 317.1 543.6 739.9  604\n",
       "  ouvri 384.3 658.8 896.7  732\n",
       "  retra 109.2 187.2 254.8  208\n",
       "  inact 178.5 306.0 416.5  340\n",
       "  etudi 119.7 205.2 279.3  228\n",
       "\n",
       ", ,  = ouvri\n",
       "\n",
       "       \n",
       "         ai25  ai35   ai45  ai55\n",
       "  agric  72.5 124.7  171.1 139.2\n",
       "  artis 120.0 206.4  283.2 230.4\n",
       "  cadsu 257.5 442.9  607.7 494.4\n",
       "  inter 255.0 438.6  601.8 489.6\n",
       "  emplo 377.5 649.3  890.9 724.8\n",
       "  ouvri 457.5 786.9 1079.7 878.4\n",
       "  retra 130.0 223.6  306.8 249.6\n",
       "  inact 212.5 365.5  501.5 408.0\n",
       "  etudi 142.5 245.1  336.3 273.6\n",
       "\n",
       ", ,  = retra\n",
       "\n",
       "       \n",
       "         ai25  ai35  ai45  ai55\n",
       "  agric  20.3  34.8  49.3  40.6\n",
       "  artis  33.6  57.6  81.6  67.2\n",
       "  cadsu  72.1 123.6 175.1 144.2\n",
       "  inter  71.4 122.4 173.4 142.8\n",
       "  emplo 105.7 181.2 256.7 211.4\n",
       "  ouvri 128.1 219.6 311.1 256.2\n",
       "  retra  36.4  62.4  88.4  72.8\n",
       "  inact  59.5 102.0 144.5 119.0\n",
       "  etudi  39.9  68.4  96.9  79.8\n",
       "\n",
       ", ,  = inact\n",
       "\n",
       "       \n",
       "         ai25 ai35  ai45  ai55\n",
       "  agric  34.8   58  81.2  66.7\n",
       "  artis  57.6   96 134.4 110.4\n",
       "  cadsu 123.6  206 288.4 236.9\n",
       "  inter 122.4  204 285.6 234.6\n",
       "  emplo 181.2  302 422.8 347.3\n",
       "  ouvri 219.6  366 512.4 420.9\n",
       "  retra  62.4  104 145.6 119.6\n",
       "  inact 102.0  170 238.0 195.5\n",
       "  etudi  68.4  114 159.6 131.1\n"
      ]
     },
     "metadata": {},
     "output_type": "display_data"
    }
   ],
   "source": [
    "outer(table(data$csp),observed_freq)\n"
   ]
  },
  {
   "cell_type": "markdown",
   "id": "11d2814a",
   "metadata": {},
   "source": [
    "Or, in terms of frequencies :"
   ]
  },
  {
   "cell_type": "code",
   "execution_count": 36,
   "id": "ee2be35a",
   "metadata": {
    "scrolled": true
   },
   "outputs": [
    {
     "data": {
      "text/plain": [
       "\n",
       "agric artis cadsu inter emplo ouvri retra inact etudi \n",
       "   29    48   103   102   151   183    52    85    57 "
      ]
     },
     "metadata": {},
     "output_type": "display_data"
    }
   ],
   "source": [
    "table(data$csp)"
   ]
  },
  {
   "cell_type": "code",
   "execution_count": 37,
   "id": "637d59f7",
   "metadata": {},
   "outputs": [
    {
     "data": {
      "image/png": "[encoded data removed]",
      "text/plain": [
       "plot without title"
      ]
     },
     "metadata": {
      "image/png": {
       "height": 420,
       "width": 420
      }
     },
     "output_type": "display_data"
    }
   ],
   "source": [
    "contingency_table = table(data$age,data$csp)\n",
    "my_CA=CA(contingency_table)"
   ]
  },
  {
   "cell_type": "markdown",
   "id": "2f785476",
   "metadata": {},
   "source": [
    "<u>**Note**</u> **:** You can also use the explor package here"
   ]
  },
  {
   "cell_type": "markdown",
   "id": "113c0629",
   "metadata": {},
   "source": [
    "<a id=\"10\"></a>\n",
    "\n",
    "## 4.2) Numerous qualitative variables: MCA (Multiple Correspondence Analysis)\n",
    "\n",
    "We can generalize the principle of **CA** to more than two factors by performing **MCA.** To do this, we (or rather, the **MCA** function) rely on a disjunctive table that <span style=\"color:blue\">**splits**</span> the qualitative variables into as many binary variables."
   ]
  },
  {
   "cell_type": "code",
   "execution_count": 38,
   "id": "3e93e0c3",
   "metadata": {},
   "outputs": [
    {
     "data": {
      "text/html": [
       "<table class=\"dataframe\">\n",
       "<caption>A data.frame: 8 × 1</caption>\n",
       "<thead>\n",
       "\t<tr><th scope=col>var</th></tr>\n",
       "\t<tr><th scope=col>&lt;chr&gt;</th></tr>\n",
       "</thead>\n",
       "<tbody>\n",
       "\t<tr><td>yoopi</td></tr>\n",
       "\t<tr><td>boom </td></tr>\n",
       "\t<tr><td>clop </td></tr>\n",
       "\t<tr><td>clop </td></tr>\n",
       "\t<tr><td>boing</td></tr>\n",
       "\t<tr><td>boing</td></tr>\n",
       "\t<tr><td>boom </td></tr>\n",
       "\t<tr><td>yoopi</td></tr>\n",
       "</tbody>\n",
       "</table>\n"
      ],
      "text/latex": [
       "A data.frame: 8 × 1\n",
       "\\begin{tabular}{l}\n",
       " var\\\\\n",
       " <chr>\\\\\n",
       "\\hline\n",
       "\t yoopi\\\\\n",
       "\t boom \\\\\n",
       "\t clop \\\\\n",
       "\t clop \\\\\n",
       "\t boing\\\\\n",
       "\t boing\\\\\n",
       "\t boom \\\\\n",
       "\t yoopi\\\\\n",
       "\\end{tabular}\n"
      ],
      "text/markdown": [
       "\n",
       "A data.frame: 8 × 1\n",
       "\n",
       "| var &lt;chr&gt; |\n",
       "|---|\n",
       "| yoopi |\n",
       "| boom  |\n",
       "| clop  |\n",
       "| clop  |\n",
       "| boing |\n",
       "| boing |\n",
       "| boom  |\n",
       "| yoopi |\n",
       "\n"
      ],
      "text/plain": [
       "  var  \n",
       "1 yoopi\n",
       "2 boom \n",
       "3 clop \n",
       "4 clop \n",
       "5 boing\n",
       "6 boing\n",
       "7 boom \n",
       "8 yoopi"
      ]
     },
     "metadata": {},
     "output_type": "display_data"
    }
   ],
   "source": [
    "table = data.frame(var=c(\"yoopi\",\"boom\",\"clop\",\"clop\",\"boing\",\"boing\",\"boom\",\"yoopi\"))\n",
    "table"
   ]
  },
  {
   "cell_type": "code",
   "execution_count": 39,
   "id": "ee8b4b5f",
   "metadata": {
    "scrolled": true
   },
   "outputs": [
    {
     "data": {
      "text/html": [
       "<table class=\"dataframe\">\n",
       "<caption>A matrix: 8 × 4 of type int</caption>\n",
       "<thead>\n",
       "\t<tr><th></th><th scope=col>boing</th><th scope=col>boom</th><th scope=col>clop</th><th scope=col>yoopi</th></tr>\n",
       "</thead>\n",
       "<tbody>\n",
       "\t<tr><th scope=row>1</th><td>0</td><td>0</td><td>0</td><td>1</td></tr>\n",
       "\t<tr><th scope=row>2</th><td>0</td><td>1</td><td>0</td><td>0</td></tr>\n",
       "\t<tr><th scope=row>3</th><td>0</td><td>0</td><td>1</td><td>0</td></tr>\n",
       "\t<tr><th scope=row>4</th><td>0</td><td>0</td><td>1</td><td>0</td></tr>\n",
       "\t<tr><th scope=row>5</th><td>1</td><td>0</td><td>0</td><td>0</td></tr>\n",
       "\t<tr><th scope=row>6</th><td>1</td><td>0</td><td>0</td><td>0</td></tr>\n",
       "\t<tr><th scope=row>7</th><td>0</td><td>1</td><td>0</td><td>0</td></tr>\n",
       "\t<tr><th scope=row>8</th><td>0</td><td>0</td><td>0</td><td>1</td></tr>\n",
       "</tbody>\n",
       "</table>\n"
      ],
      "text/latex": [
       "A matrix: 8 × 4 of type int\n",
       "\\begin{tabular}{r|llll}\n",
       "  & boing & boom & clop & yoopi\\\\\n",
       "\\hline\n",
       "\t1 & 0 & 0 & 0 & 1\\\\\n",
       "\t2 & 0 & 1 & 0 & 0\\\\\n",
       "\t3 & 0 & 0 & 1 & 0\\\\\n",
       "\t4 & 0 & 0 & 1 & 0\\\\\n",
       "\t5 & 1 & 0 & 0 & 0\\\\\n",
       "\t6 & 1 & 0 & 0 & 0\\\\\n",
       "\t7 & 0 & 1 & 0 & 0\\\\\n",
       "\t8 & 0 & 0 & 0 & 1\\\\\n",
       "\\end{tabular}\n"
      ],
      "text/markdown": [
       "\n",
       "A matrix: 8 × 4 of type int\n",
       "\n",
       "| <!--/--> | boing | boom | clop | yoopi |\n",
       "|---|---|---|---|---|\n",
       "| 1 | 0 | 0 | 0 | 1 |\n",
       "| 2 | 0 | 1 | 0 | 0 |\n",
       "| 3 | 0 | 0 | 1 | 0 |\n",
       "| 4 | 0 | 0 | 1 | 0 |\n",
       "| 5 | 1 | 0 | 0 | 0 |\n",
       "| 6 | 1 | 0 | 0 | 0 |\n",
       "| 7 | 0 | 1 | 0 | 0 |\n",
       "| 8 | 0 | 0 | 0 | 1 |\n",
       "\n"
      ],
      "text/plain": [
       "  boing boom clop yoopi\n",
       "1 0     0    0    1    \n",
       "2 0     1    0    0    \n",
       "3 0     0    1    0    \n",
       "4 0     0    1    0    \n",
       "5 1     0    0    0    \n",
       "6 1     0    0    0    \n",
       "7 0     1    0    0    \n",
       "8 0     0    0    1    "
      ]
     },
     "metadata": {},
     "output_type": "display_data"
    }
   ],
   "source": [
    "# the disjunctive table splits the qualitative variables into as many binary variables\n",
    "tab.disjonctif(table)"
   ]
  },
  {
   "cell_type": "code",
   "execution_count": 40,
   "id": "87a96af1",
   "metadata": {},
   "outputs": [],
   "source": [
    "data(tea)"
   ]
  },
  {
   "cell_type": "markdown",
   "id": "c2b37f81",
   "metadata": {},
   "source": [
    "The dataset `tea` comprises questions related to the times when tea is consumed (for example, 'Do you drink tea at breakfast?', Yes or no response) :\n",
    "\n",
    "* **breakfast**\n",
    "* **tea.time**\n",
    "* **evening**\n",
    "* **lunch**\n",
    "* **dinner**\n",
    "* **always**\n",
    "\n",
    "It includes questions about the places where tea is consumed (for example, 'Do you drink tea at home?', Yes or no response) :\n",
    "\n",
    "* **home**\n",
    "* **work**\n",
    "* **tearoom**\n",
    "* **friends**\n",
    "* **resto**\n",
    "* **pub**\n",
    "\n",
    "It contains questions about the type of tea consumed and the mode of consumption :\n",
    "\n",
    "* **Tea :** What kind of tea do you drink the most (black tea, green tea, flavored tea)?\n",
    "* **How :** How do you take your tea (nothing added, with lemon, with milk, other)?\n",
    "* **sugar :** Do you add sugar to your tea (yes, no)?\n",
    "* **how :** What kind of tea do you buy (tea bags, loose tea, both)?\n",
    "* **where :** Where do you buy your tea (in the supermarket, in specialist shops, both)?\n",
    "* **price :** What kind of tea do you buy (cheapest, supermarket brand, well-known brand, luxury, it varies, I don’t know)?\n",
    "\n",
    "It includes questions about the characteristics and lifestyles of the respondents :\n",
    "\n",
    "* **age :** Age (quantitative)\n",
    "* **sex :** Female or male (F, M)?\n",
    "* **SPC :** Socio-professional category (employee, middle, non-worker, other, worker, senior, student, workman)\n",
    "* **Sport :** regular practice of sports (sportsman, age_Q: age category (15-24, 25-34, 35,44, 45-59, +60) Not.sportsman)?\n",
    "* **frequency :** How often do you drink tea (more than twice a day, once a day, 3 to 6 times a week, once or twice per week) ?\n",
    "\n",
    "Finally, it includes a series of questions related to the image of tea for the respondents:\n",
    "\n",
    "* **escape.exoticism :** Do you consider tea to be exotic (yes, no)?\n",
    "* **spirituality :** Do you associate tea with spirituality (yes, no)?\n",
    "* **healthy :** Is tea good for your health (yes, no)?\n",
    "* **diuretic :** Is tea a diuretic (ie. medicine that help reduce fluid buildup in the body) (yes, no)?\n",
    "* **friendliness :** Do you associate tea with friendliness (yes, no)?\n",
    "* **iron.absorption :** Does tea stop the body from absorbing iron (yes, no)?\n",
    "* **feminine :** Is tea feminine (yes, no)?\n",
    "* **sophisticated :** Is tea refined (yes, no)?\n",
    "* **slimming :** Will tea help you to lose weight (yes, no)?\n",
    "* **exciting :** Is tea a stimulant (yes, no)?\n",
    "* **relaxing :** Is tea a relaxant (yes, no)?\n",
    "* **effect.on.health :** Does tea have any effect on your overall health (yes, no)?\n",
    "\n",
    "This dataset contains many variables! Here, we will perform an **MCA considering the first 18 variables** of the dataset as <span style=\"color:blue\">**active variables**</span> and the last 18 as <span style=\"color:blue\">**supplementary variables**</span>."
   ]
  },
  {
   "cell_type": "markdown",
   "id": "1b83f615",
   "metadata": {},
   "source": [
    "This dataset indeed contains a lot of variables! Here, we will perform an MCA considering the first $18$ variables of the dataset as active variables and the last 18 as supplementary variables."
   ]
  },
  {
   "cell_type": "code",
   "execution_count": 41,
   "id": "6bf9ba80",
   "metadata": {},
   "outputs": [],
   "source": [
    "my_MCA <- MCA(tea, quanti.sup = 19, quali.sup = 20:36, graph = FALSE)"
   ]
  },
  {
   "cell_type": "markdown",
   "id": "8895a8bb",
   "metadata": {},
   "source": [
    "Here, obviously, the proportion of inertia that we are able to explain is low because there are many variables to consider."
   ]
  },
  {
   "cell_type": "code",
   "execution_count": 42,
   "id": "cae37715",
   "metadata": {
    "scrolled": true
   },
   "outputs": [
    {
     "name": "stdout",
     "output_type": "stream",
     "text": [
      "[1] 27  3\n"
     ]
    },
    {
     "data": {
      "text/html": [
       "<table class=\"dataframe\">\n",
       "<caption>A matrix: 6 × 3 of type dbl</caption>\n",
       "<thead>\n",
       "\t<tr><th></th><th scope=col>eigenvalue</th><th scope=col>percentage of variance</th><th scope=col>cumulative percentage of variance</th></tr>\n",
       "</thead>\n",
       "<tbody>\n",
       "\t<tr><th scope=row>dim 1</th><td>0.14827441</td><td>9.884961</td><td> 9.884961</td></tr>\n",
       "\t<tr><th scope=row>dim 2</th><td>0.12154673</td><td>8.103115</td><td>17.988076</td></tr>\n",
       "\t<tr><th scope=row>dim 3</th><td>0.09000954</td><td>6.000636</td><td>23.988712</td></tr>\n",
       "\t<tr><th scope=row>dim 4</th><td>0.07805440</td><td>5.203627</td><td>29.192339</td></tr>\n",
       "\t<tr><th scope=row>dim 5</th><td>0.07374870</td><td>4.916580</td><td>34.108919</td></tr>\n",
       "\t<tr><th scope=row>dim 6</th><td>0.07138044</td><td>4.758696</td><td>38.867615</td></tr>\n",
       "</tbody>\n",
       "</table>\n"
      ],
      "text/latex": [
       "A matrix: 6 × 3 of type dbl\n",
       "\\begin{tabular}{r|lll}\n",
       "  & eigenvalue & percentage of variance & cumulative percentage of variance\\\\\n",
       "\\hline\n",
       "\tdim 1 & 0.14827441 & 9.884961 &  9.884961\\\\\n",
       "\tdim 2 & 0.12154673 & 8.103115 & 17.988076\\\\\n",
       "\tdim 3 & 0.09000954 & 6.000636 & 23.988712\\\\\n",
       "\tdim 4 & 0.07805440 & 5.203627 & 29.192339\\\\\n",
       "\tdim 5 & 0.07374870 & 4.916580 & 34.108919\\\\\n",
       "\tdim 6 & 0.07138044 & 4.758696 & 38.867615\\\\\n",
       "\\end{tabular}\n"
      ],
      "text/markdown": [
       "\n",
       "A matrix: 6 × 3 of type dbl\n",
       "\n",
       "| <!--/--> | eigenvalue | percentage of variance | cumulative percentage of variance |\n",
       "|---|---|---|---|\n",
       "| dim 1 | 0.14827441 | 9.884961 |  9.884961 |\n",
       "| dim 2 | 0.12154673 | 8.103115 | 17.988076 |\n",
       "| dim 3 | 0.09000954 | 6.000636 | 23.988712 |\n",
       "| dim 4 | 0.07805440 | 5.203627 | 29.192339 |\n",
       "| dim 5 | 0.07374870 | 4.916580 | 34.108919 |\n",
       "| dim 6 | 0.07138044 | 4.758696 | 38.867615 |\n",
       "\n"
      ],
      "text/plain": [
       "      eigenvalue percentage of variance cumulative percentage of variance\n",
       "dim 1 0.14827441 9.884961                9.884961                        \n",
       "dim 2 0.12154673 8.103115               17.988076                        \n",
       "dim 3 0.09000954 6.000636               23.988712                        \n",
       "dim 4 0.07805440 5.203627               29.192339                        \n",
       "dim 5 0.07374870 4.916580               34.108919                        \n",
       "dim 6 0.07138044 4.758696               38.867615                        "
      ]
     },
     "metadata": {},
     "output_type": "display_data"
    }
   ],
   "source": [
    "print(dim(my_MCA$eig))\n",
    "head(my_MCA$eig)"
   ]
  },
  {
   "cell_type": "code",
   "execution_count": 43,
   "id": "ec7ce00e",
   "metadata": {
    "scrolled": false
   },
   "outputs": [
    {
     "data": {
      "image/png": "[encoded data removed]",
      "text/plain": [
       "plot without title"
      ]
     },
     "metadata": {
      "image/png": {
       "height": 420,
       "width": 420
      }
     },
     "output_type": "display_data"
    }
   ],
   "source": [
    "barplot(my_MCA$eig[,2])"
   ]
  },
  {
   "cell_type": "code",
   "execution_count": 44,
   "id": "783c4779",
   "metadata": {},
   "outputs": [
    {
     "data": {
      "text/html": [
       "17.9880760723596"
      ],
      "text/latex": [
       "17.9880760723596"
      ],
      "text/markdown": [
       "17.9880760723596"
      ],
      "text/plain": [
       "[1] 17.98808"
      ]
     },
     "metadata": {},
     "output_type": "display_data"
    }
   ],
   "source": [
    "# cumulative percentage of variance with 2 components\n",
    "sum(my_MCA$eig[2, 3])"
   ]
  },
  {
   "cell_type": "markdown",
   "id": "e6390f4b",
   "metadata": {},
   "source": [
    "Considering $2$ axes instead of the $27$ original dimensions, we still manage to represent approximately $17\\%$ of the total inertia (which is not bad considering that $2/27=7.4\\%$).\n",
    "\n",
    "Notice that we have $27$ dimensions for $18$ questions. Indeed, a question with $k$ modalities corresponds to $k-1$ dimensions.\n",
    "\n",
    "Obviously, with such a number of original dimensions, we obtain somewhat cluttered graphs, and it can be interesting to customize the plot function a bit :"
   ]
  },
  {
   "cell_type": "code",
   "execution_count": 45,
   "id": "b91414ec",
   "metadata": {
    "scrolled": false
   },
   "outputs": [
    {
     "data": {
      "image/png": "[encoded data removed]",
      "text/plain": [
       "plot without title"
      ]
     },
     "metadata": {
      "image/png": {
       "height": 420,
       "width": 420
      }
     },
     "output_type": "display_data"
    },
    {
     "name": "stderr",
     "output_type": "stream",
     "text": [
      "Warning message:\n",
      "\"ggrepel: 16 unlabeled data points (too many overlaps). Consider increasing max.overlaps\"\n"
     ]
    },
    {
     "data": {
      "image/png": "[encoded data removed]",
      "text/plain": [
       "plot without title"
      ]
     },
     "metadata": {
      "image/png": {
       "height": 420,
       "width": 420
      }
     },
     "output_type": "display_data"
    },
    {
     "name": "stderr",
     "output_type": "stream",
     "text": [
      "Warning message:\n",
      "\"ggrepel: 16 unlabeled data points (too many overlaps). Consider increasing max.overlaps\"\n"
     ]
    },
    {
     "data": {
      "image/png": "[encoded data removed]",
      "text/plain": [
       "plot without title"
      ]
     },
     "metadata": {
      "image/png": {
       "height": 420,
       "width": 420
      }
     },
     "output_type": "display_data"
    },
    {
     "data": {
      "image/png": "[encoded data removed]",
      "text/plain": [
       "plot without title"
      ]
     },
     "metadata": {
      "image/png": {
       "height": 420,
       "width": 420
      }
     },
     "output_type": "display_data"
    }
   ],
   "source": [
    "layout(matrix(1:4, nrow = 2))\n",
    "\n",
    "plot(my_MCA)\n",
    "plot(my_MCA, invisible = \"ind\")\n",
    "plot(my_MCA, invisible = c(\"ind\", \"quali.sup\"))\n",
    "plot(my_MCA, invisible = c(\"ind\", \"quali.sup\"), hab = \"quali\")"
   ]
  },
  {
   "cell_type": "markdown",
   "id": "fe9ef266",
   "metadata": {},
   "source": [
    "Of course, it's also particularly interesting here to use the `explor` package because we more than ever need flexible and interactive graphical outputs :"
   ]
  },
  {
   "cell_type": "code",
   "execution_count": 46,
   "id": "47700539",
   "metadata": {},
   "outputs": [
    {
     "name": "stderr",
     "output_type": "stream",
     "text": [
      "Loading required package: explor\n",
      "\n"
     ]
    }
   ],
   "source": [
    "require(explor)"
   ]
  },
  {
   "cell_type": "code",
   "execution_count": 47,
   "id": "927c6386",
   "metadata": {
    "scrolled": true
   },
   "outputs": [],
   "source": [
    "#explor(my_MCA)"
   ]
  },
  {
   "cell_type": "markdown",
   "id": "3af8222c",
   "metadata": {},
   "source": [
    "<a id=\"11\"></a>\n",
    "\n",
    "# 5 - Defining classes from (numerous) variables: Hierarchical Cluster Analysis (HCA)\n",
    "\n",
    "<a id=\"12\"></a>\n",
    "\n",
    "## 5.1) Principle\n",
    "\n",
    "Factorial methods such as PCA allow us to 'represent' a dataset in space. To understand the structure of a dataset, it may be tempting to use these space representations to define classes : this is where **Hierarchical Cluster Analysis (HCA)** comes into play.\n",
    "\n",
    "**HCA** involves constructing a classification tree. The figure below illustrates how HCA relies on distances between points, and then between clusters, to propose a classification.\n",
    "\n",
    "\n",
    "<img src=\"HCA.png\" alt=\"PCA1\" style=\"width:700px;height:800px;\">\n",
    "\n",
    " <figcaption><center>Algorithm for constructing a classification tree: Ward's method, Euclidean distance (the numbers inside the tables represent the distances between different points)</center></figcaption>"
   ]
  },
  {
   "cell_type": "markdown",
   "id": "5a0d459a",
   "metadata": {},
   "source": [
    "The barycenter $G$ of $\\bigl\\{(A,a), (B,b)\\bigr\\}$ is such as : $\\vec{OG} = \\frac{a}{a+b}\\vec{OA} +\\frac{b}{a+b}\\vec{OB}$"
   ]
  },
  {
   "cell_type": "markdown",
   "id": "ef617865",
   "metadata": {},
   "source": [
    "<a id=\"13\"></a>\n",
    "\n",
    "## 5.2) Implementation: `HCPC` function\n",
    "\n",
    "Here, let's take the data from the `USA` table again and perform PCA once more, specifying the number of principal components to retain. We can then perform hierarchical clustering of the different states and display the result very simply using the `HCPC` function :"
   ]
  },
  {
   "cell_type": "code",
   "execution_count": 48,
   "id": "4af42de9",
   "metadata": {},
   "outputs": [],
   "source": [
    "?PCA"
   ]
  },
  {
   "cell_type": "code",
   "execution_count": 49,
   "id": "412a5d8c",
   "metadata": {},
   "outputs": [
    {
     "data": {
      "image/png": "[encoded data removed]",
      "text/plain": [
       "Plot with title \"Cluster Dendrogram\""
      ]
     },
     "metadata": {
      "image/png": {
       "height": 420,
       "width": 420
      }
     },
     "output_type": "display_data"
    }
   ],
   "source": [
    "my_PCA <- PCA(USA, ncp = 2, graph = FALSE)\n",
    "my_HCPC <- HCPC(my_PCA, nb.clust = 3, graph = FALSE)\n",
    "\n",
    "plot(my_HCPC, choice = \"tree\")"
   ]
  },
  {
   "cell_type": "code",
   "execution_count": 50,
   "id": "16448127",
   "metadata": {},
   "outputs": [
    {
     "data": {
      "image/png": "[encoded data removed]",
      "text/plain": [
       "Plot with title \"Factor map\""
      ]
     },
     "metadata": {
      "image/png": {
       "height": 420,
       "width": 420
      }
     },
     "output_type": "display_data"
    }
   ],
   "source": [
    "plot(my_HCPC, choice = \"map\")"
   ]
  },
  {
   "cell_type": "markdown",
   "id": "b138d2cc",
   "metadata": {},
   "source": [
    "Important document (in French) :\n",
    "\n",
    "* [Statistique Multidimensionnelle](https://www.math.univ-toulouse.fr/~sdejean/PDF/stat_multidim_sdejean.pdf)"
   ]
  },
  {
   "cell_type": "markdown",
   "id": "79b1a79f",
   "metadata": {},
   "source": [
    "# Log Change \n",
    "\n",
    "| Date (YYYY-MM-DD) | Version | Changed By      | Change Description |\n",
    "| ----------------- | ------- | -------------   | ----------------------- |\n",
    "| 2023-06-20       | 1.0     | Younes Dahami   |   initial version |\n",
    "| 2024-05-13       | 1.1     | Younes Dahami   |  adding a table of contents |"
   ]
  },
  {
   "cell_type": "code",
   "execution_count": null,
   "id": "6f33d609",
   "metadata": {},
   "outputs": [],
   "source": []
  }
 ],
 "metadata": {
  "kernelspec": {
   "display_name": "R",
   "language": "R",
   "name": "ir"
  },
  "language_info": {
   "codemirror_mode": "r",
   "file_extension": ".r",
   "mimetype": "text/x-r-source",
   "name": "R",
   "pygments_lexer": "r",
   "version": "4.2.3"
  }
 },
 "nbformat": 4,
 "nbformat_minor": 5
}
