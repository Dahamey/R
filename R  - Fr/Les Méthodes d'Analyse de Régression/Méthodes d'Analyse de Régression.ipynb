{
 "cells": [
  {
   "cell_type": "markdown",
   "id": "b44ada72",
   "metadata": {},
   "source": [
    "<h1 style=\"text-align:center;\">Méthodes d'Analyse de Régression dans R</h1>"
   ]
  },
  {
   "cell_type": "markdown",
   "id": "bd7d9bd6",
   "metadata": {},
   "source": [
    "<u>**Auteur</u> :** [Younes Dahami](https://www.linkedin.com/in/dahami/)"
   ]
  },
  {
   "cell_type": "markdown",
   "id": "e4e8536d",
   "metadata": {},
   "source": [
    "[Les Tableaux dans R](https://github.com/Dahamey/R/tree/main/R%20%20-%20Fr/Tableaux%20en%20R) et [Les Concepts Statistiques Fondamentaux dans R](https://github.com/Dahamey/R/tree/main/R%20%20-%20Fr/Les%20Concepts%20Statistiques%20Fondamentaux%20dans%20R)"
   ]
  },
  {
   "cell_type": "markdown",
   "id": "cdd3c7c3",
   "metadata": {},
   "source": [
    "# Introduction\n",
    "\n",
    "Les méthodes de régression constituent l'ossature de nombreuses analyses en recherche. En général, ces méthodes sont utilisées pour estimer les associations entre les variables, notamment lorsque l'une ou plusieurs de ces variables sont continues. Dans ce sujet, nous couvrons la **régression linéaire**, la **régression logistique** et les **modèles mixtes.** Pour la plupart des personnes, la compréhension de ces méthodes sera suffisante pour les analyses requises dans leur recherche. Étant donné que ces méthodes sont si souvent utilisées, elles sont couvertes en détail. La motivation statistique derrière ces méthodes et leur implémentation dans R sur des données sont toutes deux couvertes, et comprendre ces deux concepts est essentiel lors de la réalisation de nos analyses. De plus, la terminologie est introduite pour aider à normaliser le langage utilisé avec ces concepts à travers le réseau IBIS (Infant Brain Imaging Study). L'ensemble des données transversales est utilisé pour illustrer ces concepts tout au long de ce notebook.\n"
   ]
  },
  {
   "cell_type": "code",
   "execution_count": 4,
   "id": "ea2e3350",
   "metadata": {},
   "outputs": [],
   "source": [
    "library(ggplot2)\n",
    "library(tidyverse)"
   ]
  },
  {
   "cell_type": "code",
   "execution_count": 19,
   "id": "6182151a",
   "metadata": {},
   "outputs": [
    {
     "data": {
      "text/html": [
       "<table class=\"dataframe\">\n",
       "<caption>A data.frame: 6 × 22</caption>\n",
       "<thead>\n",
       "\t<tr><th></th><th scope=col>Identifiers</th><th scope=col>SSM_ASD_v24</th><th scope=col>V24.demographics.Risk</th><th scope=col>GROUP</th><th scope=col>Study_Site</th><th scope=col>Gender</th><th scope=col>V06.aosi.Candidate_Age</th><th scope=col>V12.aosi.Candidate_Age</th><th scope=col>V06.aosi.total_score_1_18</th><th scope=col>V12.aosi.total_score_1_18</th><th scope=col>⋯</th><th scope=col>V06.mullen.Candidate_Age</th><th scope=col>V12.mullen.Candidate_Age</th><th scope=col>V36.mullen.cognitive_t_score_sum</th><th scope=col>V24.mullen.cognitive_t_score_sum</th><th scope=col>V06.mullen.cognitive_t_score_sum</th><th scope=col>V12.mullen.cognitive_t_score_sum</th><th scope=col>V36.mullen.composite_standard_score</th><th scope=col>V24.mullen.composite_standard_score</th><th scope=col>V06.mullen.composite_standard_score</th><th scope=col>V12.mullen.composite_standard_score</th></tr>\n",
       "\t<tr><th></th><th scope=col>&lt;int&gt;</th><th scope=col>&lt;chr&gt;</th><th scope=col>&lt;chr&gt;</th><th scope=col>&lt;chr&gt;</th><th scope=col>&lt;chr&gt;</th><th scope=col>&lt;chr&gt;</th><th scope=col>&lt;dbl&gt;</th><th scope=col>&lt;dbl&gt;</th><th scope=col>&lt;int&gt;</th><th scope=col>&lt;int&gt;</th><th scope=col>⋯</th><th scope=col>&lt;dbl&gt;</th><th scope=col>&lt;dbl&gt;</th><th scope=col>&lt;int&gt;</th><th scope=col>&lt;int&gt;</th><th scope=col>&lt;int&gt;</th><th scope=col>&lt;int&gt;</th><th scope=col>&lt;int&gt;</th><th scope=col>&lt;int&gt;</th><th scope=col>&lt;int&gt;</th><th scope=col>&lt;int&gt;</th></tr>\n",
       "</thead>\n",
       "<tbody>\n",
       "\t<tr><th scope=row>1</th><td>1</td><td>YES_ASD</td><td>HR</td><td>HR_ASD</td><td>PHI</td><td>Male</td><td>7.1</td><td>12.5</td><td> 8</td><td> 3</td><td>⋯</td><td>7.1</td><td>12.5</td><td>153</td><td>123</td><td>179</td><td>172</td><td> 77</td><td>65</td><td> 90</td><td> 86</td></tr>\n",
       "\t<tr><th scope=row>2</th><td>2</td><td>YES_ASD</td><td>HR</td><td>HR_ASD</td><td>PHI</td><td>Male</td><td>6.1</td><td>12.4</td><td>18</td><td>10</td><td>⋯</td><td>6.1</td><td>12.4</td><td>110</td><td>124</td><td>170</td><td>124</td><td> 59</td><td>65</td><td> 85</td><td> 65</td></tr>\n",
       "\t<tr><th scope=row>3</th><td>3</td><td>YES_ASD</td><td>HR</td><td>HR_ASD</td><td>PHI</td><td>Male</td><td>6.6</td><td>12.9</td><td> 4</td><td> 2</td><td>⋯</td><td>6.6</td><td>12.9</td><td>117</td><td>134</td><td>183</td><td>219</td><td> 62</td><td>69</td><td> 92</td><td>110</td></tr>\n",
       "\t<tr><th scope=row>4</th><td>4</td><td>YES_ASD</td><td>HR</td><td>HR_ASD</td><td>PHI</td><td>Male</td><td> NA</td><td>12.7</td><td>NA</td><td> 3</td><td>⋯</td><td> NA</td><td>12.7</td><td>152</td><td>107</td><td> NA</td><td>219</td><td> 77</td><td>58</td><td> NA</td><td>110</td></tr>\n",
       "\t<tr><th scope=row>5</th><td>5</td><td>NO_ASD </td><td>HR</td><td>HR_neg</td><td>PHI</td><td>Male</td><td>6.8</td><td>  NA</td><td> 6</td><td>NA</td><td>⋯</td><td>6.8</td><td>  NA</td><td>226</td><td>173</td><td>226</td><td> NA</td><td>113</td><td>87</td><td>113</td><td> NA</td></tr>\n",
       "\t<tr><th scope=row>6</th><td>6</td><td>NO_ASD </td><td>HR</td><td>HR_neg</td><td>PHI</td><td>Male</td><td> NA</td><td>12.1</td><td>NA</td><td> 4</td><td>⋯</td><td> NA</td><td>12.1</td><td>184</td><td>196</td><td> NA</td><td>155</td><td> 92</td><td>98</td><td> NA</td><td> 78</td></tr>\n",
       "</tbody>\n",
       "</table>\n"
      ],
      "text/latex": [
       "A data.frame: 6 × 22\n",
       "\\begin{tabular}{r|lllllllllllllllllllll}\n",
       "  & Identifiers & SSM\\_ASD\\_v24 & V24.demographics.Risk & GROUP & Study\\_Site & Gender & V06.aosi.Candidate\\_Age & V12.aosi.Candidate\\_Age & V06.aosi.total\\_score\\_1\\_18 & V12.aosi.total\\_score\\_1\\_18 & ⋯ & V06.mullen.Candidate\\_Age & V12.mullen.Candidate\\_Age & V36.mullen.cognitive\\_t\\_score\\_sum & V24.mullen.cognitive\\_t\\_score\\_sum & V06.mullen.cognitive\\_t\\_score\\_sum & V12.mullen.cognitive\\_t\\_score\\_sum & V36.mullen.composite\\_standard\\_score & V24.mullen.composite\\_standard\\_score & V06.mullen.composite\\_standard\\_score & V12.mullen.composite\\_standard\\_score\\\\\n",
       "  & <int> & <chr> & <chr> & <chr> & <chr> & <chr> & <dbl> & <dbl> & <int> & <int> & ⋯ & <dbl> & <dbl> & <int> & <int> & <int> & <int> & <int> & <int> & <int> & <int>\\\\\n",
       "\\hline\n",
       "\t1 & 1 & YES\\_ASD & HR & HR\\_ASD & PHI & Male & 7.1 & 12.5 &  8 &  3 & ⋯ & 7.1 & 12.5 & 153 & 123 & 179 & 172 &  77 & 65 &  90 &  86\\\\\n",
       "\t2 & 2 & YES\\_ASD & HR & HR\\_ASD & PHI & Male & 6.1 & 12.4 & 18 & 10 & ⋯ & 6.1 & 12.4 & 110 & 124 & 170 & 124 &  59 & 65 &  85 &  65\\\\\n",
       "\t3 & 3 & YES\\_ASD & HR & HR\\_ASD & PHI & Male & 6.6 & 12.9 &  4 &  2 & ⋯ & 6.6 & 12.9 & 117 & 134 & 183 & 219 &  62 & 69 &  92 & 110\\\\\n",
       "\t4 & 4 & YES\\_ASD & HR & HR\\_ASD & PHI & Male &  NA & 12.7 & NA &  3 & ⋯ &  NA & 12.7 & 152 & 107 &  NA & 219 &  77 & 58 &  NA & 110\\\\\n",
       "\t5 & 5 & NO\\_ASD  & HR & HR\\_neg & PHI & Male & 6.8 &   NA &  6 & NA & ⋯ & 6.8 &   NA & 226 & 173 & 226 &  NA & 113 & 87 & 113 &  NA\\\\\n",
       "\t6 & 6 & NO\\_ASD  & HR & HR\\_neg & PHI & Male &  NA & 12.1 & NA &  4 & ⋯ &  NA & 12.1 & 184 & 196 &  NA & 155 &  92 & 98 &  NA &  78\\\\\n",
       "\\end{tabular}\n"
      ],
      "text/markdown": [
       "\n",
       "A data.frame: 6 × 22\n",
       "\n",
       "| <!--/--> | Identifiers &lt;int&gt; | SSM_ASD_v24 &lt;chr&gt; | V24.demographics.Risk &lt;chr&gt; | GROUP &lt;chr&gt; | Study_Site &lt;chr&gt; | Gender &lt;chr&gt; | V06.aosi.Candidate_Age &lt;dbl&gt; | V12.aosi.Candidate_Age &lt;dbl&gt; | V06.aosi.total_score_1_18 &lt;int&gt; | V12.aosi.total_score_1_18 &lt;int&gt; | ⋯ ⋯ | V06.mullen.Candidate_Age &lt;dbl&gt; | V12.mullen.Candidate_Age &lt;dbl&gt; | V36.mullen.cognitive_t_score_sum &lt;int&gt; | V24.mullen.cognitive_t_score_sum &lt;int&gt; | V06.mullen.cognitive_t_score_sum &lt;int&gt; | V12.mullen.cognitive_t_score_sum &lt;int&gt; | V36.mullen.composite_standard_score &lt;int&gt; | V24.mullen.composite_standard_score &lt;int&gt; | V06.mullen.composite_standard_score &lt;int&gt; | V12.mullen.composite_standard_score &lt;int&gt; |\n",
       "|---|---|---|---|---|---|---|---|---|---|---|---|---|---|---|---|---|---|---|---|---|---|\n",
       "| 1 | 1 | YES_ASD | HR | HR_ASD | PHI | Male | 7.1 | 12.5 |  8 |  3 | ⋯ | 7.1 | 12.5 | 153 | 123 | 179 | 172 |  77 | 65 |  90 |  86 |\n",
       "| 2 | 2 | YES_ASD | HR | HR_ASD | PHI | Male | 6.1 | 12.4 | 18 | 10 | ⋯ | 6.1 | 12.4 | 110 | 124 | 170 | 124 |  59 | 65 |  85 |  65 |\n",
       "| 3 | 3 | YES_ASD | HR | HR_ASD | PHI | Male | 6.6 | 12.9 |  4 |  2 | ⋯ | 6.6 | 12.9 | 117 | 134 | 183 | 219 |  62 | 69 |  92 | 110 |\n",
       "| 4 | 4 | YES_ASD | HR | HR_ASD | PHI | Male |  NA | 12.7 | NA |  3 | ⋯ |  NA | 12.7 | 152 | 107 |  NA | 219 |  77 | 58 |  NA | 110 |\n",
       "| 5 | 5 | NO_ASD  | HR | HR_neg | PHI | Male | 6.8 |   NA |  6 | NA | ⋯ | 6.8 |   NA | 226 | 173 | 226 |  NA | 113 | 87 | 113 |  NA |\n",
       "| 6 | 6 | NO_ASD  | HR | HR_neg | PHI | Male |  NA | 12.1 | NA |  4 | ⋯ |  NA | 12.1 | 184 | 196 |  NA | 155 |  92 | 98 |  NA |  78 |\n",
       "\n"
      ],
      "text/plain": [
       "  Identifiers SSM_ASD_v24 V24.demographics.Risk GROUP  Study_Site Gender\n",
       "1 1           YES_ASD     HR                    HR_ASD PHI        Male  \n",
       "2 2           YES_ASD     HR                    HR_ASD PHI        Male  \n",
       "3 3           YES_ASD     HR                    HR_ASD PHI        Male  \n",
       "4 4           YES_ASD     HR                    HR_ASD PHI        Male  \n",
       "5 5           NO_ASD      HR                    HR_neg PHI        Male  \n",
       "6 6           NO_ASD      HR                    HR_neg PHI        Male  \n",
       "  V06.aosi.Candidate_Age V12.aosi.Candidate_Age V06.aosi.total_score_1_18\n",
       "1 7.1                    12.5                    8                       \n",
       "2 6.1                    12.4                   18                       \n",
       "3 6.6                    12.9                    4                       \n",
       "4  NA                    12.7                   NA                       \n",
       "5 6.8                      NA                    6                       \n",
       "6  NA                    12.1                   NA                       \n",
       "  V12.aosi.total_score_1_18 ⋯ V06.mullen.Candidate_Age V12.mullen.Candidate_Age\n",
       "1  3                        ⋯ 7.1                      12.5                    \n",
       "2 10                        ⋯ 6.1                      12.4                    \n",
       "3  2                        ⋯ 6.6                      12.9                    \n",
       "4  3                        ⋯  NA                      12.7                    \n",
       "5 NA                        ⋯ 6.8                        NA                    \n",
       "6  4                        ⋯  NA                      12.1                    \n",
       "  V36.mullen.cognitive_t_score_sum V24.mullen.cognitive_t_score_sum\n",
       "1 153                              123                             \n",
       "2 110                              124                             \n",
       "3 117                              134                             \n",
       "4 152                              107                             \n",
       "5 226                              173                             \n",
       "6 184                              196                             \n",
       "  V06.mullen.cognitive_t_score_sum V12.mullen.cognitive_t_score_sum\n",
       "1 179                              172                             \n",
       "2 170                              124                             \n",
       "3 183                              219                             \n",
       "4  NA                              219                             \n",
       "5 226                               NA                             \n",
       "6  NA                              155                             \n",
       "  V36.mullen.composite_standard_score V24.mullen.composite_standard_score\n",
       "1  77                                 65                                 \n",
       "2  59                                 65                                 \n",
       "3  62                                 69                                 \n",
       "4  77                                 58                                 \n",
       "5 113                                 87                                 \n",
       "6  92                                 98                                 \n",
       "  V06.mullen.composite_standard_score V12.mullen.composite_standard_score\n",
       "1  90                                  86                                \n",
       "2  85                                  65                                \n",
       "3  92                                 110                                \n",
       "4  NA                                 110                                \n",
       "5 113                                  NA                                \n",
       "6  NA                                  78                                "
      ]
     },
     "metadata": {},
     "output_type": "display_data"
    }
   ],
   "source": [
    "data_complete <- read.csv(\"Cross-sec_full.csv\", stringsAsFactors = FALSE, na.strings = c(\" \", \"\",\".\"))\n",
    "head(data_complete)"
   ]
  },
  {
   "cell_type": "code",
   "execution_count": 20,
   "id": "062efe26",
   "metadata": {},
   "outputs": [
    {
     "data": {
      "text/html": [
       "<style>\n",
       ".list-inline {list-style: none; margin:0; padding: 0}\n",
       ".list-inline>li {display: inline-block}\n",
       ".list-inline>li:not(:last-child)::after {content: \"\\00b7\"; padding: 0 .5ex}\n",
       "</style>\n",
       "<ol class=list-inline><li>'Identifiers'</li><li>'SSM_ASD_v24'</li><li>'V24.demographics.Risk'</li><li>'GROUP'</li><li>'Study_Site'</li><li>'Gender'</li><li>'V06.aosi.Candidate_Age'</li><li>'V12.aosi.Candidate_Age'</li><li>'V06.aosi.total_score_1_18'</li><li>'V12.aosi.total_score_1_18'</li><li>'V36.mullen.Candidate_Age'</li><li>'V24.mullen.Candidate_Age'</li><li>'V06.mullen.Candidate_Age'</li><li>'V12.mullen.Candidate_Age'</li><li>'V36.mullen.cognitive_t_score_sum'</li><li>'V24.mullen.cognitive_t_score_sum'</li><li>'V06.mullen.cognitive_t_score_sum'</li><li>'V12.mullen.cognitive_t_score_sum'</li><li>'V36.mullen.composite_standard_score'</li><li>'V24.mullen.composite_standard_score'</li><li>'V06.mullen.composite_standard_score'</li><li>'V12.mullen.composite_standard_score'</li></ol>\n"
      ],
      "text/latex": [
       "\\begin{enumerate*}\n",
       "\\item 'Identifiers'\n",
       "\\item 'SSM\\_ASD\\_v24'\n",
       "\\item 'V24.demographics.Risk'\n",
       "\\item 'GROUP'\n",
       "\\item 'Study\\_Site'\n",
       "\\item 'Gender'\n",
       "\\item 'V06.aosi.Candidate\\_Age'\n",
       "\\item 'V12.aosi.Candidate\\_Age'\n",
       "\\item 'V06.aosi.total\\_score\\_1\\_18'\n",
       "\\item 'V12.aosi.total\\_score\\_1\\_18'\n",
       "\\item 'V36.mullen.Candidate\\_Age'\n",
       "\\item 'V24.mullen.Candidate\\_Age'\n",
       "\\item 'V06.mullen.Candidate\\_Age'\n",
       "\\item 'V12.mullen.Candidate\\_Age'\n",
       "\\item 'V36.mullen.cognitive\\_t\\_score\\_sum'\n",
       "\\item 'V24.mullen.cognitive\\_t\\_score\\_sum'\n",
       "\\item 'V06.mullen.cognitive\\_t\\_score\\_sum'\n",
       "\\item 'V12.mullen.cognitive\\_t\\_score\\_sum'\n",
       "\\item 'V36.mullen.composite\\_standard\\_score'\n",
       "\\item 'V24.mullen.composite\\_standard\\_score'\n",
       "\\item 'V06.mullen.composite\\_standard\\_score'\n",
       "\\item 'V12.mullen.composite\\_standard\\_score'\n",
       "\\end{enumerate*}\n"
      ],
      "text/markdown": [
       "1. 'Identifiers'\n",
       "2. 'SSM_ASD_v24'\n",
       "3. 'V24.demographics.Risk'\n",
       "4. 'GROUP'\n",
       "5. 'Study_Site'\n",
       "6. 'Gender'\n",
       "7. 'V06.aosi.Candidate_Age'\n",
       "8. 'V12.aosi.Candidate_Age'\n",
       "9. 'V06.aosi.total_score_1_18'\n",
       "10. 'V12.aosi.total_score_1_18'\n",
       "11. 'V36.mullen.Candidate_Age'\n",
       "12. 'V24.mullen.Candidate_Age'\n",
       "13. 'V06.mullen.Candidate_Age'\n",
       "14. 'V12.mullen.Candidate_Age'\n",
       "15. 'V36.mullen.cognitive_t_score_sum'\n",
       "16. 'V24.mullen.cognitive_t_score_sum'\n",
       "17. 'V06.mullen.cognitive_t_score_sum'\n",
       "18. 'V12.mullen.cognitive_t_score_sum'\n",
       "19. 'V36.mullen.composite_standard_score'\n",
       "20. 'V24.mullen.composite_standard_score'\n",
       "21. 'V06.mullen.composite_standard_score'\n",
       "22. 'V12.mullen.composite_standard_score'\n",
       "\n",
       "\n"
      ],
      "text/plain": [
       " [1] \"Identifiers\"                         \"SSM_ASD_v24\"                        \n",
       " [3] \"V24.demographics.Risk\"               \"GROUP\"                              \n",
       " [5] \"Study_Site\"                          \"Gender\"                             \n",
       " [7] \"V06.aosi.Candidate_Age\"              \"V12.aosi.Candidate_Age\"             \n",
       " [9] \"V06.aosi.total_score_1_18\"           \"V12.aosi.total_score_1_18\"          \n",
       "[11] \"V36.mullen.Candidate_Age\"            \"V24.mullen.Candidate_Age\"           \n",
       "[13] \"V06.mullen.Candidate_Age\"            \"V12.mullen.Candidate_Age\"           \n",
       "[15] \"V36.mullen.cognitive_t_score_sum\"    \"V24.mullen.cognitive_t_score_sum\"   \n",
       "[17] \"V06.mullen.cognitive_t_score_sum\"    \"V12.mullen.cognitive_t_score_sum\"   \n",
       "[19] \"V36.mullen.composite_standard_score\" \"V24.mullen.composite_standard_score\"\n",
       "[21] \"V06.mullen.composite_standard_score\" \"V12.mullen.composite_standard_score\""
      ]
     },
     "metadata": {},
     "output_type": "display_data"
    }
   ],
   "source": [
    "colnames(data_complete)"
   ]
  },
  {
   "cell_type": "markdown",
   "id": "e24e9b61",
   "metadata": {},
   "source": [
    "# 1) Régression Linéaire\n",
    "\n",
    "## 1.1) Motivation\n",
    "\n",
    "Supposons que nous nous intéressions à l'association entre le score composite Mullen (enregistré comme un score standard dans l'ensemble de données) et la sévérité de l'autisme telle que mesurée par l'AOSI, chez les enfants à 12 mois `V12.mullen.composite_standard_score` et `V12.aosi.total_score_1_18`. Étant donné que les deux sont des variables continues, une mesure simple de cette association est leur corrélation. Regardons le graphique de dispersion pour ces deux variables.\n"
   ]
  },
  {
   "cell_type": "code",
   "execution_count": 22,
   "id": "11a9902e",
   "metadata": {},
   "outputs": [
    {
     "name": "stderr",
     "output_type": "stream",
     "text": [
      "Warning message:\n",
      "\"\u001b[1m\u001b[22mRemoved 75 rows containing missing values or values outside the scale range (`geom_point()`).\"\n"
     ]
    },
    {
     "data": {
      "image/png": "[encoded data removed]",
      "text/plain": [
       "plot without title"
      ]
     },
     "metadata": {
      "image/png": {
       "height": 420,
       "width": 420
      }
     },
     "output_type": "display_data"
    }
   ],
   "source": [
    "ggplot(data = data_complete, aes(x= V12.mullen.composite_standard_score, y=V12.aosi.total_score_1_18))+\n",
    "    geom_point()+\n",
    "    labs(x=\"Score Standard de composite Mullen\",\n",
    "         y= \"Score Totale d'AOSI\",\n",
    "         title = \"Nuage de Points du Score Standard de composite Mullen \\net Le Score Totale d'AOSI à 12 mois\")"
   ]
  },
  {
   "cell_type": "markdown",
   "id": "0beebf83",
   "metadata": {},
   "source": [
    "`\\n` est utilisé lors de la spécification du titre. Si cela n'est pas inclus, R forcera l'ensemble de la chaine sur une seule ligne, coupant une partie du titre en raison du manque d'espace. Ajouter `\\n` force un saut de ligne à cet endroit. Cette chaine `\\n` spécifie une nouvelle ligne pour n'importe quelle chaine générale (elle peut être utilisée avec les étiquettes des axes, le titre de la légende, les légendes ou sous-titres, etc.).\n"
   ]
  },
  {
   "cell_type": "markdown",
   "id": "034700f1",
   "metadata": {},
   "source": [
    "Au mieux, il semble y avoir une relation faible et négative entre ces variables.\n",
    "\n",
    "Estimons la **corrélation.** Cela peut être fait en R en utilisant **`cor()`.** Remarquons que `cor()` n'a pas d'argument `data=`, donc nous devons spécifier les variables d'intérêt sous la forme `dataset$variable`. De plus, par défaut, si l'une des variables comporte des valeurs manquantes, un NA est renvoyé par `cor()`. Pour exclure tout sujet dont une ou plusieurs des variables manquent du calcul, spécifions **`use=\"pairwise.complete\"`** comme argument dans la fonction. Nous pouvons également :\n",
    "\n",
    "**1)** mener un test d'hypothèse formel pour une corrélation nulle\n",
    "\n",
    "**2)** calculer un intervalle de confiance à $95\\%$ pour la corrélation en utilisant la fonction **`cor.test()`.**\n",
    "\n",
    "Remarquons que la mesure de corrélation par défaut est **Pearson,** bien que cela puisse être modifié dans les deux fonctions en utilisant l'argument **`measure=`**. De plus, lors de la réalisation du test d'hypothèse ou du calcul de l'intervalle de confiance, nous devons toujours prendre en compte toutes les hypothèses de distribution qui sont utilisées dans ces calculs (comme discuté dans [Les Tableaux dans R](https://github.com/Dahamey/R/tree/main/R%20%20-%20Fr/Tableaux%20en%20R) et [Les Concepts Statistiques Fondamentaux dans R](https://github.com/Dahamey/R/tree/main/R%20%20-%20Fr/Les%20Concepts%20Statistiques%20Fondamentaux%20dans%20R)).\n",
    "\n",
    "Pour que le test d'hypothèse et les calculs de l'intervalle de confiance effectués ici soient valides, l'une des conditions (assumptions) suivantes doit être remplie :\n",
    "\n",
    "**1)** les deux variables sont conjointement distribuées normalement.\n",
    "\n",
    "**2)** ou bien la taille de l'échantillon est suffisamment grande pour que la distribution approximative de la statistique de test soit précise. Cette distribution approximative est une distribution $t$ avec $n-2$ degrés de liberté, où $n$ représente la taille de l'échantillon. Par conséquent, la valeur de la statistique de test dans la sortie R est notée $t.$\n"
   ]
  },
  {
   "cell_type": "code",
   "execution_count": 23,
   "id": "7b31d69a",
   "metadata": {},
   "outputs": [
    {
     "data": {
      "text/html": [
       "&lt;NA&gt;"
      ],
      "text/latex": [
       "<NA>"
      ],
      "text/markdown": [
       "&lt;NA&gt;"
      ],
      "text/plain": [
       "[1] NA"
      ]
     },
     "metadata": {},
     "output_type": "display_data"
    }
   ],
   "source": [
    "cor(x = data_complete$V12.mullen.composite_standard_score, y = data_complete$V12.aosi.total_score_1_18)"
   ]
  },
  {
   "cell_type": "code",
   "execution_count": 24,
   "id": "63d85d49",
   "metadata": {},
   "outputs": [
    {
     "data": {
      "text/html": [
       "-0.296453570332134"
      ],
      "text/latex": [
       "-0.296453570332134"
      ],
      "text/markdown": [
       "-0.296453570332134"
      ],
      "text/plain": [
       "[1] -0.2964536"
      ]
     },
     "metadata": {},
     "output_type": "display_data"
    }
   ],
   "source": [
    "cor(x = data_complete$V12.mullen.composite_standard_score, y = data_complete$V12.aosi.total_score_1_18,\n",
    "   use = \"pairwise.complete\")"
   ]
  },
  {
   "cell_type": "code",
   "execution_count": 30,
   "id": "a0c2a0a8",
   "metadata": {},
   "outputs": [
    {
     "data": {
      "text/plain": [
       "\n",
       "\tPearson's product-moment correlation\n",
       "\n",
       "data:  data_complete$V12.mullen.composite_standard_score and data_complete$V12.aosi.total_score_1_18\n",
       "t = -7.01, df = 510, p-value = 7.59e-12\n",
       "alternative hypothesis: true correlation is not equal to 0\n",
       "95 percent confidence interval:\n",
       " -0.3735142 -0.2153293\n",
       "sample estimates:\n",
       "       cor \n",
       "-0.2964536 \n"
      ]
     },
     "metadata": {},
     "output_type": "display_data"
    }
   ],
   "source": [
    "# effectuons un test d'hypothèse\n",
    "resultats <- cor.test(x = data_complete$V12.mullen.composite_standard_score, y = data_complete$V12.aosi.total_score_1_18)\n",
    "resultats"
   ]
  },
  {
   "cell_type": "markdown",
   "id": "1e000c41",
   "metadata": {},
   "source": [
    "Nous constatons qu'il y a des preuves (p-value = 7.59e-12 < 0.05) d'une corrélation modérée et négative entre ces variables.\n",
    "\n",
    "Cependant, l'utilisation de cette corrélation par paire présente ses limites car :\n",
    "\n",
    "**1)** c'est une mesure plus \"générale\"\n",
    "\n",
    "**2)** elle ne tient pas compte d'autres variables qui pourraient influencer cette association.\n",
    "\n",
    "Pour mieux illustrer le premier point, considérons les diagrammes de dispersion suivants (créés à l'aide de données simulées).\n"
   ]
  },
  {
   "cell_type": "code",
   "execution_count": 40,
   "id": "176741b4",
   "metadata": {},
   "outputs": [
    {
     "data": {
      "image/png": "[encoded data removed]",
      "text/plain": [
       "Plot with title \"Exemple de Nuage de Points: Dataset 1 en Noir, Dataset 2 en Bleu\""
      ]
     },
     "metadata": {
      "image/png": {
       "height": 420,
       "width": 420
      }
     },
     "output_type": "display_data"
    }
   ],
   "source": [
    "# simuler les données\n",
    "set.seed(25101989)\n",
    "E <- rnorm(500)\n",
    "X <- rnorm(500, mean=5)\n",
    "Y1 <- 2*X+E\n",
    "Y2 <- 6*X+E\n",
    "\n",
    "# nous utiliserons les fonctions de tracé par défaut de R (plot)\n",
    "plot(X, Y1, main=\"Exemple de Nuage de Points: Dataset 1 en Noir, Dataset 2 en Bleu\", xlim = c(0, 8), ylim=c(0, 50), ylab=\"Y\")\n",
    "points(X, Y2, col=\"blue\")\n",
    "text(x=7, y=9,labels=paste(\"Cor=\",round(cor(X, Y1),2),sep=\"\"))\n",
    "text(x=7, y=35,labels=paste(\"Cor=\",round(cor(X, Y2),2),sep=\"\"), col=\"blue\")"
   ]
  },
  {
   "cell_type": "code",
   "execution_count": 42,
   "id": "6cff40b9",
   "metadata": {},
   "outputs": [
    {
     "data": {
      "text/html": [
       "0.885667029038482"
      ],
      "text/latex": [
       "0.885667029038482"
      ],
      "text/markdown": [
       "0.885667029038482"
      ],
      "text/plain": [
       "[1] 0.885667"
      ]
     },
     "metadata": {},
     "output_type": "display_data"
    }
   ],
   "source": [
    "cor(X, Y1)"
   ]
  },
  {
   "cell_type": "code",
   "execution_count": 43,
   "id": "acfcb9f6",
   "metadata": {},
   "outputs": [
    {
     "data": {
      "text/html": [
       "0.985426567129574"
      ],
      "text/latex": [
       "0.985426567129574"
      ],
      "text/markdown": [
       "0.985426567129574"
      ],
      "text/plain": [
       "[1] 0.9854266"
      ]
     },
     "metadata": {},
     "output_type": "display_data"
    }
   ],
   "source": [
    "cor(X, Y2)"
   ]
  },
  {
   "cell_type": "markdown",
   "id": "80cc2240",
   "metadata": {},
   "source": [
    "Nous pouvons voir que les deux exemples ont une corrélation similaire, bien que l'ensemble de données représenté en bleu ait une augmentation beaucoup plus importante de la variable $Y$ lorsque la variable $X$ augmente. Il serait utile de mesurer plus explicitement ces **pentes** et d'ajuster cette mesure en fonction d'autres variables d'intérêt qui pourraient influencer l'association.\n"
   ]
  },
  {
   "cell_type": "markdown",
   "id": "04cc70a5",
   "metadata": {},
   "source": [
    "## 1.2) Méthodologie\n",
    "\n",
    "### 1.2.1) Aperçu\n",
    "\n",
    "Supposons que les variables $X$ et $Y$ sont d'intérêt, où $Y$ est **continue** ($X$ peut être discrète ou continue). Avec la régression linéaire, nous spécifions le modèle suivant entre ces variables : \n",
    "\n",
    "$$Y=\\beta_0+\\beta_1X+\\varepsilon$$\n",
    "\n",
    "Où \n",
    "\n",
    "* $\\epsilon$ est généralement considéré comme le **terme d'erreur** du modèle que nous supposons avoir ici une moyenne nulle et une variance notée $\\sigma^2$.\n",
    "\n",
    "Pour les variables $X$ et $Y$, dénotons la moyenne de $Y$ conditionnelle à $X$ par $\\mathbb{E}(Y|X)$. Avec la régression linéaire, puisque la moyenne de $\\varepsilon$ est de 0 :\n",
    "\n",
    "$$\\mathbb{E}(Y|X)=\\beta_0+\\beta_1X$$\n",
    "\n",
    "qui est une fonction *linéaire* de $X$. Lorsque nous appliquons ce modèle aux données, nous supposons que $\\varepsilon$ de chaque observation est indépendant, ce qui implique que la valeur $Y$ de chaque observation est indépendante car $Y$ est une fonction de $\\varepsilon$. En conséquence, pour les données où il y a plusieurs observations par sujet, le modèle de régression linéaire ne serait pas valide et son application ne produirait pas de résultats valides.\n",
    "\n",
    "Nous voyons que $\\beta_0$ (l'intercept) représente la moyenne de $Y$ lorsque $X$ est 0 et $\\beta_1$ (la pente) représente le changement de moyenne de $Y$ lorsque $X$ augmente de 1. Sur la base de ce modèle, nous voulons **estimer les paramètres** $\\beta_0$ et $\\beta_1$ avec la pente servant de mesure de l'association entre $X$ et $Y$. Nous notons les estimations avec $\\hat{\\beta_0}$ et $\\hat{\\beta_1}$ respectivement. Cela se fait généralement en utilisant une **estimation par les moindres carrés** (least squares estimation).\n",
    "\n",
    "Puisque les estimations de l'intercept et de la pente varieront d'un échantillon à un autre dans une population donnée, nous aimerions prendre en compte cette aléa. Cela se fait généralement en effectuant un test d'hypothèse et/ou en calculant un intervalle de confiance.\n",
    "\n",
    "En régression linéaire, les méthodes standard pour calculer une valeur $p$ à partir d'un test d'hypothèse ou d'un intervalle de confiance nécessitent que l'une des deux hypothèses (assumptions) suivantes soit vraie :\n",
    "\n",
    "**1)** $\\varepsilon$ est distribué normalement\n",
    "\n",
    "ou\n",
    "\n",
    "**2)** la taille de l'échantillon est suffisamment grande pour que nos estimations d'intercept et de pente ($\\hat{\\beta}_0$ et $\\hat{\\beta}_1$ respectivement) soient approximativement distribuées normalement.\n",
    "\n",
    "Si l'une de ces conditions est remplie, la statistique de test suit (approximativement si une approximation pour un grand échantillon est utilisée) une distribution de Student (t-distribution) avec $n-p$ **degrés de liberté** où $p$ désigne le nombre de paramètres dans le modèle ($p=2$ dans ce cas). Une valeur $p$ peut alors être calculée à l'aide de cette distribution, ainsi qu'un intervalle de confiance.\n",
    "\n",
    "Par conséquent, lors de l'analyse d'une régression linéaire, nous avons un ensemble d'hypothèses (assumptions) que nous devons vérifier à l'aide des données :\n",
    "\n",
    "**1)** La moyenne de $Y$ sachant $X$ est une fonction linéaire de $X.$\n",
    "\n",
    "**2)** À travers les valeurs de $X,$ les termes d'erreur ont des variances égales (appelées **homoscédasticité**).\n",
    "\n",
    "3) À travers les valeurs de $X,$ les termes d'erreur sont distribués normalement ou bien la taille de l'échantillon est suffisamment grande pour que l'approximation pour un grand échantillon soit précise.\n",
    "\n",
    "4) Tous les termes d'erreur/observations dans les données sont indépendants\n",
    "\n",
    "Les suppositions **1), 2)** et **3)** peuvent être évaluées à partir des données tandis que **4)** est généralement évalué en fonction de la conception de l'étude à partir de laquelle les données sont issues.\n",
    "\n",
    "Maintenant, supposons que nous soyons également intéressés à ajuster ces associations pour une autre variable $Z$ (peut être continue ou catégorique). Nous pouvons spécifier le modèle de régression linéaire suivant :\n",
    "\n",
    "$$Y=\\beta_0+\\beta_1X+\\beta_2Z+\\varepsilon$$\n",
    "\n",
    "$\\mathbb{E}(Y|X,Z)=\\beta_0+\\beta_1X+\\beta_2Z$\n",
    "\n",
    "où $\\varepsilon$ a les mêmes propriétés qu'auparavant. Les statisticiens désignent souvent $Y$ comme la **variable dépendante**, $X$ et $Z$ comme **prédicteurs** ou **covariables**, et $\\beta_0, \\beta_1$, et $\\beta_2$ comme **paramètres de régression**. Remarquons que maintenant nous faisons des inférences sur la moyenne de $Y$ conditionnelle à $X$ **et** $Z$. En outre, nous remarquerons que $\\beta_1$ représente le changement de la moyenne de $Y$ lorsque $X$ augmente de 1 unité **et** que $Z$ est maintenue fixe :\n",
    "\n",
    "\\begin{align}\n",
    "\\mathbb{E}(Y|X+1,Z)-\\mathbb{E(Y|X,Z)}&=\\beta_0+\\beta_1(X+1)+\\beta_2Z-(\\beta_0+\\beta_1X+\\beta_2Z)\\\\\n",
    "&=\\beta_0+\\beta_1X+\\beta_1+\\beta_2Z-(\\beta_0+\\beta_1X+\\beta_2Z)\\\\\n",
    "&=\\beta_1\n",
    "\\end{align}\n",
    "\n",
    "Ainsi, nous faisons des inférences sur la relation entre $Y$ et $X$ en controlant pour $Z$. Nous pouvons controler un nombre quelconque de prédicteurs, l'interprétation des paramètres de régression est la même que celle des scénarios à un ou deux prédicteurs discutés ci-dessus.\n",
    "\n",
    "### 1.2.2)  Exemple 1: Prédicteurs continus\n",
    "\n",
    "Faisons une analyse de régression linéaire de la relation entre le score total AOSI et le composite de Mullen à 12 mois, en contrôlant l'âge à la visite du mois 12 (`V12.mullen.composite_standard_score` et `V12.aosi.total_score_1_18` en controlant `V12.mullen.Candidate_Age`). Le modèle de régression correspondant est :\n",
    "\n",
    "$$AOSI=\\beta_0+\\beta_1Mullen+\\beta_2Age+\\varepsilon$$\n",
    "\n",
    "avec $\\mathbb{E}(\\varepsilon)=0$, $Var(\\varepsilon)=\\sigma^2$, et tous les $\\varepsilon$ sont indépendants.\n",
    "\n",
    "Chaque fois que nous effectuons une analyse de régression (y compris la régression logistique et les modèles mixtes comme discuté plus loin), il est important de pouvoir écrire explicitement le modèle que nous utilisons comme nous l'avons fait ci-dessus.\n",
    "\n",
    "Pour appliquer le modèle aux données et obtenir des estimations et des intervalles de confiance (appelés **ajustement du modèle**) dans R, nous utilisons la fonction **`lm()`**. La syntaxe principale est la suivante : \n",
    "\n",
    "<center>**`lm(y~x+z+...,data=...)`**</center>\n",
    "\n",
    "où `y` est le nom de la variable de résultat, `x` et `z` sont les prédicteurs et `data=` est l'argument où nous spécifions l'ensemble de données à utiliser. Le symbole `~` agit comme le signe égal dans l'équation du modèle de régression."
   ]
  },
  {
   "cell_type": "code",
   "execution_count": 44,
   "id": "071f4334",
   "metadata": {},
   "outputs": [
    {
     "data": {
      "text/plain": [
       "\n",
       "Call:\n",
       "lm(formula = V12.aosi.total_score_1_18 ~ V12.mullen.composite_standard_score + \n",
       "    V12.mullen.Candidate_Age, data = data_complete)\n",
       "\n",
       "Coefficients:\n",
       "                        (Intercept)  V12.mullen.composite_standard_score  \n",
       "                           12.34763                             -0.07873  \n",
       "           V12.mullen.Candidate_Age  \n",
       "                            0.04692  \n"
      ]
     },
     "metadata": {},
     "output_type": "display_data"
    }
   ],
   "source": [
    "# Adapter le modèle aux données pour obtenir des estimations\n",
    "lm(V12.aosi.total_score_1_18~V12.mullen.composite_standard_score\n",
    "   +V12.mullen.Candidate_Age, data= data_complete)"
   ]
  },
  {
   "cell_type": "markdown",
   "id": "42afc114",
   "metadata": {},
   "source": [
    "Les coefficients de régression estimés sont renvoyés. Cependant, l'ajustement du modèle produit beaucoup plus de résultats que simplement ces estimations. Pour accéder à l'ensemble des résultats, nous devons d'abord enregistrer la sortie de la fonction `lm()` en tant que fonction. Ensuite, nous pouvons accéder aux intervalles de confiance pour les paramètres de régression, obtenir des valeurs $p$ pour les tests d'hypothèse, obtenir des mesures de somme des carrés et des résidus, etc. Cela est fait ensuite dans notre exemple AOSI.\n"
   ]
  },
  {
   "cell_type": "code",
   "execution_count": 47,
   "id": "d43ba8c0",
   "metadata": {},
   "outputs": [
    {
     "data": {
      "text/plain": [
       "\n",
       "Call:\n",
       "lm(formula = V12.aosi.total_score_1_18 ~ V12.mullen.composite_standard_score + \n",
       "    V12.mullen.Candidate_Age, data = data_complete)\n",
       "\n",
       "Residuals:\n",
       "    Min      1Q  Median      3Q     Max \n",
       "-6.8582 -2.4493 -0.5611  1.9431 15.9197 \n",
       "\n",
       "Coefficients:\n",
       "                                    Estimate Std. Error t value Pr(>|t|)    \n",
       "(Intercept)                         12.34763    3.21106   3.845 0.000136 ***\n",
       "V12.mullen.composite_standard_score -0.07873    0.01125  -6.999 8.17e-12 ***\n",
       "V12.mullen.Candidate_Age             0.04692    0.23631   0.199 0.842687    \n",
       "---\n",
       "Signif. codes:  0 '***' 0.001 '**' 0.01 '*' 0.05 '.' 0.1 ' ' 1\n",
       "\n",
       "Residual standard error: 3.461 on 509 degrees of freedom\n",
       "  (75 observations deleted due to missingness)\n",
       "Multiple R-squared:  0.08796,\tAdjusted R-squared:  0.08437 \n",
       "F-statistic: 24.54 on 2 and 509 DF,  p-value: 6.67e-11\n"
      ]
     },
     "metadata": {},
     "output_type": "display_data"
    }
   ],
   "source": [
    "# Adapter le modèle aux donnéeset sauvegarder les résultats en tant qu'objets\n",
    "aosi_exp1_fit <- lm(V12.aosi.total_score_1_18~V12.mullen.composite_standard_score\n",
    "   +V12.mullen.Candidate_Age, data=data_complete)\n",
    "\n",
    "summary(aosi_exp1_fit)\n"
   ]
  },
  {
   "cell_type": "markdown",
   "id": "ab74bf3c",
   "metadata": {},
   "source": [
    "Après avoir sauvegardé la sortie de l'ajustement, utiliser la fonction **`summary()`** avec cet objet produit les résultats standard d'une analyse de régression. Expliquons maintenant chaque élément de ce tableau.\n",
    "\n",
    "**1)** <u>**Résidus (Residuals)**</u> **:**\n",
    "\n",
    "Ce sont les termes d'erreur pour chaque sujet (chaque observation), qui sont les \"écarts\" entre leur valeur de résultat réelle $(y_i)$ et leur valeur de résultat prédite $(\\hat{y}_i)$ en fonction de la **ligne ajustée (fitted line)** définie par \n",
    "$$\\hat{\\beta}_0+\\hat{\\beta_1}X+\\hat{\\beta_2}Z$$\n",
    "Le minimum, le premier quartile, la médiane, le troisième quartile et le maximum de ces résidus à partir des données sont rapportés.\n",
    "\n",
    "**2)** <u>**Coefficients**</u> **:**\n",
    "\n",
    "Ici, les estimations des paramètres de régression et leurs erreurs standards sont rapportées, ainsi que la statistique de test ($t$ value) et la valeur $p$ correspondant au test d'hypothèse selon lequel ce paramètre est égal à 0. Rappelons-nous que chaque statistique de test suit une distribution de Student, d'où les étiquettes \"valeur $t$\" et \"$\\text{Pr}(>|t|)$\".\n",
    "\n",
    "**3)** <u>**Erreur standard des résidus**</u> **:**\n",
    "\n",
    "Le terme d'erreur $\\varepsilon$ est supposé avoir une variance $\\sigma^2$ pour toutes les observations dans les données. L'erreur standard des résidus est une estimation de $\\sigma$.\n",
    "\n",
    "**4)** <u>**R-carré**</u> **:**\n",
    "\n",
    "Le R-carré (R-squared) habituel (\"multiple\") et le R-carré ajusté. Fondamentalement, le R-carré ajusté prend le R-carré habituel et le réduit à mesure que le nombre de paramètres de régression dans le modèle augmente. Les deux reflètent la même idée.\n",
    "\n",
    "**5)** <u>**Statistique $F$**</u> **:**\n",
    "\n",
    "Nous avons discuté de la réalisation d'un test d'hypothèse pour un seul paramètre de régression égal à 0. Pour tester si plus d'un paramètre de régression est égal à 0, la statistique de test suit une **distribution** $F$ avec $p-1$ *degrés de liberté du numérateur* et $n-p-1$ *degrés de liberté du dénominateur*. La statistique de test et la valeur $p$ rapportées ici correspondent spécifiquement au test selon lequel tous les paramètres de régression qui ne sont pas des intercepts sont égaux à 0. Ce n'est généralement pas un test d'hypothèse d'intérêt, bien que les logiciels statistiques rapportent souvent cela. Nous ne serons généralement intéressé que par la section des Coefficients et peut-être par les résultats du R-carré, bien qu'il soit utile d'avoir une idée de ce que représentent les autres termes dans la sortie.\n",
    "\n",
    "Nous constatons qu'il y a des preuves à partir des résultats de la régression d'une association négative entre le score total AOSI et le composite de Mullen à 12 mois, en controlant pour l'âge, avec une augmentation d'une unité du score composite de Mullen correspondant à une diminution de 0.08 du score total moyen AOSI à 12 mois. Avec la très petite valeur $p,$ il y a une **forte preuve** d'une **faible association**. \n",
    "\n",
    "De plus, les deux valeurs R-carré sont très faibles, autour de 0,08. Cela indique que la plupart du score AOSI d'un sujet provient du terme d'erreur ($\\varepsilon$) par rapport au terme moyen ($\\beta_0+\\beta_1Mullen+\\beta_2Age$)."
   ]
  },
  {
   "cell_type": "markdown",
   "id": "b8b409b2",
   "metadata": {},
   "source": [
    "**A continuer...**"
   ]
  },
  {
   "cell_type": "code",
   "execution_count": null,
   "id": "f04c27d5",
   "metadata": {},
   "outputs": [],
   "source": []
  }
 ],
 "metadata": {
  "kernelspec": {
   "display_name": "R",
   "language": "R",
   "name": "ir"
  },
  "language_info": {
   "codemirror_mode": "r",
   "file_extension": ".r",
   "mimetype": "text/x-r-source",
   "name": "R",
   "pygments_lexer": "r",
   "version": "4.2.3"
  }
 },
 "nbformat": 4,
 "nbformat_minor": 5
}
