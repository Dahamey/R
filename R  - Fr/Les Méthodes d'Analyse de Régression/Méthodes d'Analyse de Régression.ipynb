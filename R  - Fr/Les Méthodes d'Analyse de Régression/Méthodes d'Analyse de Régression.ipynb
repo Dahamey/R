{
 "cells": [
  {
   "cell_type": "markdown",
   "id": "2a83aeab",
   "metadata": {},
   "source": [
    "<h1 style=\"text-align:center;\">Méthodes d'Analyse de Régression dans R</h1>"
   ]
  },
  {
   "cell_type": "markdown",
   "id": "2b4ffb8f",
   "metadata": {},
   "source": [
    "<u>**Auteur</u> :** [Younes Dahami](https://www.linkedin.com/in/dahami/)"
   ]
  },
  {
   "cell_type": "markdown",
   "id": "a1194a0b",
   "metadata": {},
   "source": [
    "<a id=\"top\"></a>\n",
    "\n",
    "<div class=\"list-group\" id=\"list-tab\" role=\"tablist\">\n",
    "<h3 class=\"list-group-item list-group-item-action active\" data-toggle=\"list\"  role=\"tab\" aria-controls=\"home\">Table de matières</h3>\n",
    "\n",
    "<font color=\"purple\" size=+1><b>[0. Introduction](#0)</b></font>    \n",
    "<font color=\"purple\" size=+1><b>[1. Régression Linéaire](#01)</b></font>\n",
    "* [1.1 Motivation](#1)\n",
    "* [1.2 Méthodologie](#2)\n",
    "* [1.3 Prédicteurs continus](#3)\n",
    "* [1.4 Prédicteurs catégoriques](#4)\n",
    "* [1.5 Diagnostics](#5)\n",
    "* [1.6 ANOVA et ANCOVA](#6)\n",
    "    \n",
    "<font color=\"purple\" size=+1><b>[2. Régression Logistique](#02)</b></font>"
   ]
  },
  {
   "cell_type": "markdown",
   "id": "5a9329e2",
   "metadata": {},
   "source": [
    "# Enregistrement \n",
    "\n",
    "| Date (YYYY-MM-DD) | Version | Changé Par      | Description du Changement |\n",
    "| ----------------- | ------- | -------------   | ----------------------- |\n",
    "| 2024-05-08       | 1.0     | Younes Dahami   |  version initiale|\n",
    "| 2024-05-13       | 1.1     | Younes Dahami   |  ANOVA/ANCOVA |"
   ]
  },
  {
   "cell_type": "markdown",
   "id": "0e1820b7",
   "metadata": {},
   "source": [
    "Voir aussi :\n",
    "\n",
    "* [Les Tableaux dans R](https://github.com/Dahamey/R/tree/main/R%20%20-%20Fr/Tableaux%20en%20R)\n",
    "\n",
    "* [Les Concepts Statistiques Fondamentaux dans R](https://github.com/Dahamey/R/tree/main/R%20%20-%20Fr/Les%20Concepts%20Statistiques%20Fondamentaux%20dans%20R)\n",
    "\n",
    "* [ggplot2](https://github.com/Dahamey/R/tree/main/R%20%20-%20Fr/ggplot2)"
   ]
  },
  {
   "cell_type": "markdown",
   "id": "bc0efd8e",
   "metadata": {},
   "source": [
    "<a id=\"0\"></a>\n",
    "# Introduction\n",
    "\n",
    "Les méthodes de régression constituent l'ossature de nombreuses analyses en recherche. En général, ces méthodes sont utilisées pour estimer les associations entre les variables, notamment lorsque l'une ou plusieurs de ces variables sont continues. Dans ce sujet, nous couvrons la **régression linéaire**, la **régression logistique** et les **modèles mixtes.** Pour la plupart des personnes, la compréhension de ces méthodes sera suffisante pour les analyses requises dans leur recherche. Étant donné que ces méthodes sont si souvent utilisées, elles sont couvertes en détail. La motivation statistique derrière ces méthodes et leur implémentation dans R sur des données sont toutes deux couvertes, et comprendre ces deux concepts est essentiel lors de la réalisation de nos analyses. De plus, la terminologie est introduite pour aider à normaliser le langage utilisé avec ces concepts à travers le réseau IBIS (Infant Brain Imaging Study). L'ensemble des données transversales est utilisé pour illustrer ces concepts tout au long de ce notebook.\n"
   ]
  },
  {
   "cell_type": "code",
   "execution_count": 37,
   "id": "4c50f686",
   "metadata": {},
   "outputs": [],
   "source": [
    "library(ggplot2)\n",
    "library(tidyverse)"
   ]
  },
  {
   "cell_type": "code",
   "execution_count": 38,
   "id": "e1bafe95",
   "metadata": {},
   "outputs": [
    {
     "data": {
      "text/html": [
       "<table class=\"dataframe\">\n",
       "<caption>A data.frame: 6 × 22</caption>\n",
       "<thead>\n",
       "\t<tr><th></th><th scope=col>Identifiers</th><th scope=col>SSM_ASD_v24</th><th scope=col>V24.demographics.Risk</th><th scope=col>GROUP</th><th scope=col>Study_Site</th><th scope=col>Gender</th><th scope=col>V06.aosi.Candidate_Age</th><th scope=col>V12.aosi.Candidate_Age</th><th scope=col>V06.aosi.total_score_1_18</th><th scope=col>V12.aosi.total_score_1_18</th><th scope=col>⋯</th><th scope=col>V06.mullen.Candidate_Age</th><th scope=col>V12.mullen.Candidate_Age</th><th scope=col>V36.mullen.cognitive_t_score_sum</th><th scope=col>V24.mullen.cognitive_t_score_sum</th><th scope=col>V06.mullen.cognitive_t_score_sum</th><th scope=col>V12.mullen.cognitive_t_score_sum</th><th scope=col>V36.mullen.composite_standard_score</th><th scope=col>V24.mullen.composite_standard_score</th><th scope=col>V06.mullen.composite_standard_score</th><th scope=col>V12.mullen.composite_standard_score</th></tr>\n",
       "\t<tr><th></th><th scope=col>&lt;int&gt;</th><th scope=col>&lt;chr&gt;</th><th scope=col>&lt;chr&gt;</th><th scope=col>&lt;chr&gt;</th><th scope=col>&lt;chr&gt;</th><th scope=col>&lt;chr&gt;</th><th scope=col>&lt;dbl&gt;</th><th scope=col>&lt;dbl&gt;</th><th scope=col>&lt;int&gt;</th><th scope=col>&lt;int&gt;</th><th scope=col>⋯</th><th scope=col>&lt;dbl&gt;</th><th scope=col>&lt;dbl&gt;</th><th scope=col>&lt;int&gt;</th><th scope=col>&lt;int&gt;</th><th scope=col>&lt;int&gt;</th><th scope=col>&lt;int&gt;</th><th scope=col>&lt;int&gt;</th><th scope=col>&lt;int&gt;</th><th scope=col>&lt;int&gt;</th><th scope=col>&lt;int&gt;</th></tr>\n",
       "</thead>\n",
       "<tbody>\n",
       "\t<tr><th scope=row>1</th><td>1</td><td>YES_ASD</td><td>HR</td><td>HR_ASD</td><td>PHI</td><td>Male</td><td>7.1</td><td>12.5</td><td> 8</td><td> 3</td><td>⋯</td><td>7.1</td><td>12.5</td><td>153</td><td>123</td><td>179</td><td>172</td><td> 77</td><td>65</td><td> 90</td><td> 86</td></tr>\n",
       "\t<tr><th scope=row>2</th><td>2</td><td>YES_ASD</td><td>HR</td><td>HR_ASD</td><td>PHI</td><td>Male</td><td>6.1</td><td>12.4</td><td>18</td><td>10</td><td>⋯</td><td>6.1</td><td>12.4</td><td>110</td><td>124</td><td>170</td><td>124</td><td> 59</td><td>65</td><td> 85</td><td> 65</td></tr>\n",
       "\t<tr><th scope=row>3</th><td>3</td><td>YES_ASD</td><td>HR</td><td>HR_ASD</td><td>PHI</td><td>Male</td><td>6.6</td><td>12.9</td><td> 4</td><td> 2</td><td>⋯</td><td>6.6</td><td>12.9</td><td>117</td><td>134</td><td>183</td><td>219</td><td> 62</td><td>69</td><td> 92</td><td>110</td></tr>\n",
       "\t<tr><th scope=row>4</th><td>4</td><td>YES_ASD</td><td>HR</td><td>HR_ASD</td><td>PHI</td><td>Male</td><td> NA</td><td>12.7</td><td>NA</td><td> 3</td><td>⋯</td><td> NA</td><td>12.7</td><td>152</td><td>107</td><td> NA</td><td>219</td><td> 77</td><td>58</td><td> NA</td><td>110</td></tr>\n",
       "\t<tr><th scope=row>5</th><td>5</td><td>NO_ASD </td><td>HR</td><td>HR_neg</td><td>PHI</td><td>Male</td><td>6.8</td><td>  NA</td><td> 6</td><td>NA</td><td>⋯</td><td>6.8</td><td>  NA</td><td>226</td><td>173</td><td>226</td><td> NA</td><td>113</td><td>87</td><td>113</td><td> NA</td></tr>\n",
       "\t<tr><th scope=row>6</th><td>6</td><td>NO_ASD </td><td>HR</td><td>HR_neg</td><td>PHI</td><td>Male</td><td> NA</td><td>12.1</td><td>NA</td><td> 4</td><td>⋯</td><td> NA</td><td>12.1</td><td>184</td><td>196</td><td> NA</td><td>155</td><td> 92</td><td>98</td><td> NA</td><td> 78</td></tr>\n",
       "</tbody>\n",
       "</table>\n"
      ],
      "text/latex": [
       "A data.frame: 6 × 22\n",
       "\\begin{tabular}{r|lllllllllllllllllllll}\n",
       "  & Identifiers & SSM\\_ASD\\_v24 & V24.demographics.Risk & GROUP & Study\\_Site & Gender & V06.aosi.Candidate\\_Age & V12.aosi.Candidate\\_Age & V06.aosi.total\\_score\\_1\\_18 & V12.aosi.total\\_score\\_1\\_18 & ⋯ & V06.mullen.Candidate\\_Age & V12.mullen.Candidate\\_Age & V36.mullen.cognitive\\_t\\_score\\_sum & V24.mullen.cognitive\\_t\\_score\\_sum & V06.mullen.cognitive\\_t\\_score\\_sum & V12.mullen.cognitive\\_t\\_score\\_sum & V36.mullen.composite\\_standard\\_score & V24.mullen.composite\\_standard\\_score & V06.mullen.composite\\_standard\\_score & V12.mullen.composite\\_standard\\_score\\\\\n",
       "  & <int> & <chr> & <chr> & <chr> & <chr> & <chr> & <dbl> & <dbl> & <int> & <int> & ⋯ & <dbl> & <dbl> & <int> & <int> & <int> & <int> & <int> & <int> & <int> & <int>\\\\\n",
       "\\hline\n",
       "\t1 & 1 & YES\\_ASD & HR & HR\\_ASD & PHI & Male & 7.1 & 12.5 &  8 &  3 & ⋯ & 7.1 & 12.5 & 153 & 123 & 179 & 172 &  77 & 65 &  90 &  86\\\\\n",
       "\t2 & 2 & YES\\_ASD & HR & HR\\_ASD & PHI & Male & 6.1 & 12.4 & 18 & 10 & ⋯ & 6.1 & 12.4 & 110 & 124 & 170 & 124 &  59 & 65 &  85 &  65\\\\\n",
       "\t3 & 3 & YES\\_ASD & HR & HR\\_ASD & PHI & Male & 6.6 & 12.9 &  4 &  2 & ⋯ & 6.6 & 12.9 & 117 & 134 & 183 & 219 &  62 & 69 &  92 & 110\\\\\n",
       "\t4 & 4 & YES\\_ASD & HR & HR\\_ASD & PHI & Male &  NA & 12.7 & NA &  3 & ⋯ &  NA & 12.7 & 152 & 107 &  NA & 219 &  77 & 58 &  NA & 110\\\\\n",
       "\t5 & 5 & NO\\_ASD  & HR & HR\\_neg & PHI & Male & 6.8 &   NA &  6 & NA & ⋯ & 6.8 &   NA & 226 & 173 & 226 &  NA & 113 & 87 & 113 &  NA\\\\\n",
       "\t6 & 6 & NO\\_ASD  & HR & HR\\_neg & PHI & Male &  NA & 12.1 & NA &  4 & ⋯ &  NA & 12.1 & 184 & 196 &  NA & 155 &  92 & 98 &  NA &  78\\\\\n",
       "\\end{tabular}\n"
      ],
      "text/markdown": [
       "\n",
       "A data.frame: 6 × 22\n",
       "\n",
       "| <!--/--> | Identifiers &lt;int&gt; | SSM_ASD_v24 &lt;chr&gt; | V24.demographics.Risk &lt;chr&gt; | GROUP &lt;chr&gt; | Study_Site &lt;chr&gt; | Gender &lt;chr&gt; | V06.aosi.Candidate_Age &lt;dbl&gt; | V12.aosi.Candidate_Age &lt;dbl&gt; | V06.aosi.total_score_1_18 &lt;int&gt; | V12.aosi.total_score_1_18 &lt;int&gt; | ⋯ ⋯ | V06.mullen.Candidate_Age &lt;dbl&gt; | V12.mullen.Candidate_Age &lt;dbl&gt; | V36.mullen.cognitive_t_score_sum &lt;int&gt; | V24.mullen.cognitive_t_score_sum &lt;int&gt; | V06.mullen.cognitive_t_score_sum &lt;int&gt; | V12.mullen.cognitive_t_score_sum &lt;int&gt; | V36.mullen.composite_standard_score &lt;int&gt; | V24.mullen.composite_standard_score &lt;int&gt; | V06.mullen.composite_standard_score &lt;int&gt; | V12.mullen.composite_standard_score &lt;int&gt; |\n",
       "|---|---|---|---|---|---|---|---|---|---|---|---|---|---|---|---|---|---|---|---|---|---|\n",
       "| 1 | 1 | YES_ASD | HR | HR_ASD | PHI | Male | 7.1 | 12.5 |  8 |  3 | ⋯ | 7.1 | 12.5 | 153 | 123 | 179 | 172 |  77 | 65 |  90 |  86 |\n",
       "| 2 | 2 | YES_ASD | HR | HR_ASD | PHI | Male | 6.1 | 12.4 | 18 | 10 | ⋯ | 6.1 | 12.4 | 110 | 124 | 170 | 124 |  59 | 65 |  85 |  65 |\n",
       "| 3 | 3 | YES_ASD | HR | HR_ASD | PHI | Male | 6.6 | 12.9 |  4 |  2 | ⋯ | 6.6 | 12.9 | 117 | 134 | 183 | 219 |  62 | 69 |  92 | 110 |\n",
       "| 4 | 4 | YES_ASD | HR | HR_ASD | PHI | Male |  NA | 12.7 | NA |  3 | ⋯ |  NA | 12.7 | 152 | 107 |  NA | 219 |  77 | 58 |  NA | 110 |\n",
       "| 5 | 5 | NO_ASD  | HR | HR_neg | PHI | Male | 6.8 |   NA |  6 | NA | ⋯ | 6.8 |   NA | 226 | 173 | 226 |  NA | 113 | 87 | 113 |  NA |\n",
       "| 6 | 6 | NO_ASD  | HR | HR_neg | PHI | Male |  NA | 12.1 | NA |  4 | ⋯ |  NA | 12.1 | 184 | 196 |  NA | 155 |  92 | 98 |  NA |  78 |\n",
       "\n"
      ],
      "text/plain": [
       "  Identifiers SSM_ASD_v24 V24.demographics.Risk GROUP  Study_Site Gender\n",
       "1 1           YES_ASD     HR                    HR_ASD PHI        Male  \n",
       "2 2           YES_ASD     HR                    HR_ASD PHI        Male  \n",
       "3 3           YES_ASD     HR                    HR_ASD PHI        Male  \n",
       "4 4           YES_ASD     HR                    HR_ASD PHI        Male  \n",
       "5 5           NO_ASD      HR                    HR_neg PHI        Male  \n",
       "6 6           NO_ASD      HR                    HR_neg PHI        Male  \n",
       "  V06.aosi.Candidate_Age V12.aosi.Candidate_Age V06.aosi.total_score_1_18\n",
       "1 7.1                    12.5                    8                       \n",
       "2 6.1                    12.4                   18                       \n",
       "3 6.6                    12.9                    4                       \n",
       "4  NA                    12.7                   NA                       \n",
       "5 6.8                      NA                    6                       \n",
       "6  NA                    12.1                   NA                       \n",
       "  V12.aosi.total_score_1_18 ⋯ V06.mullen.Candidate_Age V12.mullen.Candidate_Age\n",
       "1  3                        ⋯ 7.1                      12.5                    \n",
       "2 10                        ⋯ 6.1                      12.4                    \n",
       "3  2                        ⋯ 6.6                      12.9                    \n",
       "4  3                        ⋯  NA                      12.7                    \n",
       "5 NA                        ⋯ 6.8                        NA                    \n",
       "6  4                        ⋯  NA                      12.1                    \n",
       "  V36.mullen.cognitive_t_score_sum V24.mullen.cognitive_t_score_sum\n",
       "1 153                              123                             \n",
       "2 110                              124                             \n",
       "3 117                              134                             \n",
       "4 152                              107                             \n",
       "5 226                              173                             \n",
       "6 184                              196                             \n",
       "  V06.mullen.cognitive_t_score_sum V12.mullen.cognitive_t_score_sum\n",
       "1 179                              172                             \n",
       "2 170                              124                             \n",
       "3 183                              219                             \n",
       "4  NA                              219                             \n",
       "5 226                               NA                             \n",
       "6  NA                              155                             \n",
       "  V36.mullen.composite_standard_score V24.mullen.composite_standard_score\n",
       "1  77                                 65                                 \n",
       "2  59                                 65                                 \n",
       "3  62                                 69                                 \n",
       "4  77                                 58                                 \n",
       "5 113                                 87                                 \n",
       "6  92                                 98                                 \n",
       "  V06.mullen.composite_standard_score V12.mullen.composite_standard_score\n",
       "1  90                                  86                                \n",
       "2  85                                  65                                \n",
       "3  92                                 110                                \n",
       "4  NA                                 110                                \n",
       "5 113                                  NA                                \n",
       "6  NA                                  78                                "
      ]
     },
     "metadata": {},
     "output_type": "display_data"
    }
   ],
   "source": [
    "data_complete <- read.csv(\"Cross-sec_full.csv\", stringsAsFactors = FALSE, na.strings = c(\" \", \"\",\".\"))\n",
    "head(data_complete)"
   ]
  },
  {
   "cell_type": "code",
   "execution_count": 39,
   "id": "661444f0",
   "metadata": {},
   "outputs": [
    {
     "data": {
      "text/html": [
       "<style>\n",
       ".list-inline {list-style: none; margin:0; padding: 0}\n",
       ".list-inline>li {display: inline-block}\n",
       ".list-inline>li:not(:last-child)::after {content: \"\\00b7\"; padding: 0 .5ex}\n",
       "</style>\n",
       "<ol class=list-inline><li>'Identifiers'</li><li>'SSM_ASD_v24'</li><li>'V24.demographics.Risk'</li><li>'GROUP'</li><li>'Study_Site'</li><li>'Gender'</li><li>'V06.aosi.Candidate_Age'</li><li>'V12.aosi.Candidate_Age'</li><li>'V06.aosi.total_score_1_18'</li><li>'V12.aosi.total_score_1_18'</li><li>'V36.mullen.Candidate_Age'</li><li>'V24.mullen.Candidate_Age'</li><li>'V06.mullen.Candidate_Age'</li><li>'V12.mullen.Candidate_Age'</li><li>'V36.mullen.cognitive_t_score_sum'</li><li>'V24.mullen.cognitive_t_score_sum'</li><li>'V06.mullen.cognitive_t_score_sum'</li><li>'V12.mullen.cognitive_t_score_sum'</li><li>'V36.mullen.composite_standard_score'</li><li>'V24.mullen.composite_standard_score'</li><li>'V06.mullen.composite_standard_score'</li><li>'V12.mullen.composite_standard_score'</li></ol>\n"
      ],
      "text/latex": [
       "\\begin{enumerate*}\n",
       "\\item 'Identifiers'\n",
       "\\item 'SSM\\_ASD\\_v24'\n",
       "\\item 'V24.demographics.Risk'\n",
       "\\item 'GROUP'\n",
       "\\item 'Study\\_Site'\n",
       "\\item 'Gender'\n",
       "\\item 'V06.aosi.Candidate\\_Age'\n",
       "\\item 'V12.aosi.Candidate\\_Age'\n",
       "\\item 'V06.aosi.total\\_score\\_1\\_18'\n",
       "\\item 'V12.aosi.total\\_score\\_1\\_18'\n",
       "\\item 'V36.mullen.Candidate\\_Age'\n",
       "\\item 'V24.mullen.Candidate\\_Age'\n",
       "\\item 'V06.mullen.Candidate\\_Age'\n",
       "\\item 'V12.mullen.Candidate\\_Age'\n",
       "\\item 'V36.mullen.cognitive\\_t\\_score\\_sum'\n",
       "\\item 'V24.mullen.cognitive\\_t\\_score\\_sum'\n",
       "\\item 'V06.mullen.cognitive\\_t\\_score\\_sum'\n",
       "\\item 'V12.mullen.cognitive\\_t\\_score\\_sum'\n",
       "\\item 'V36.mullen.composite\\_standard\\_score'\n",
       "\\item 'V24.mullen.composite\\_standard\\_score'\n",
       "\\item 'V06.mullen.composite\\_standard\\_score'\n",
       "\\item 'V12.mullen.composite\\_standard\\_score'\n",
       "\\end{enumerate*}\n"
      ],
      "text/markdown": [
       "1. 'Identifiers'\n",
       "2. 'SSM_ASD_v24'\n",
       "3. 'V24.demographics.Risk'\n",
       "4. 'GROUP'\n",
       "5. 'Study_Site'\n",
       "6. 'Gender'\n",
       "7. 'V06.aosi.Candidate_Age'\n",
       "8. 'V12.aosi.Candidate_Age'\n",
       "9. 'V06.aosi.total_score_1_18'\n",
       "10. 'V12.aosi.total_score_1_18'\n",
       "11. 'V36.mullen.Candidate_Age'\n",
       "12. 'V24.mullen.Candidate_Age'\n",
       "13. 'V06.mullen.Candidate_Age'\n",
       "14. 'V12.mullen.Candidate_Age'\n",
       "15. 'V36.mullen.cognitive_t_score_sum'\n",
       "16. 'V24.mullen.cognitive_t_score_sum'\n",
       "17. 'V06.mullen.cognitive_t_score_sum'\n",
       "18. 'V12.mullen.cognitive_t_score_sum'\n",
       "19. 'V36.mullen.composite_standard_score'\n",
       "20. 'V24.mullen.composite_standard_score'\n",
       "21. 'V06.mullen.composite_standard_score'\n",
       "22. 'V12.mullen.composite_standard_score'\n",
       "\n",
       "\n"
      ],
      "text/plain": [
       " [1] \"Identifiers\"                         \"SSM_ASD_v24\"                        \n",
       " [3] \"V24.demographics.Risk\"               \"GROUP\"                              \n",
       " [5] \"Study_Site\"                          \"Gender\"                             \n",
       " [7] \"V06.aosi.Candidate_Age\"              \"V12.aosi.Candidate_Age\"             \n",
       " [9] \"V06.aosi.total_score_1_18\"           \"V12.aosi.total_score_1_18\"          \n",
       "[11] \"V36.mullen.Candidate_Age\"            \"V24.mullen.Candidate_Age\"           \n",
       "[13] \"V06.mullen.Candidate_Age\"            \"V12.mullen.Candidate_Age\"           \n",
       "[15] \"V36.mullen.cognitive_t_score_sum\"    \"V24.mullen.cognitive_t_score_sum\"   \n",
       "[17] \"V06.mullen.cognitive_t_score_sum\"    \"V12.mullen.cognitive_t_score_sum\"   \n",
       "[19] \"V36.mullen.composite_standard_score\" \"V24.mullen.composite_standard_score\"\n",
       "[21] \"V06.mullen.composite_standard_score\" \"V12.mullen.composite_standard_score\""
      ]
     },
     "metadata": {},
     "output_type": "display_data"
    }
   ],
   "source": [
    "colnames(data_complete)"
   ]
  },
  {
   "cell_type": "markdown",
   "id": "8fcb9139",
   "metadata": {},
   "source": [
    "<a id=\"01\"></a>\n",
    "# 1) Régression Linéaire\n",
    "\n",
    "<a id=\"1\"></a>\n",
    "## 1.1) Motivation\n",
    "\n",
    "Supposons que nous nous intéressions à l'association entre le score composite Mullen (enregistré comme un score standard dans l'ensemble de données) et la sévérité de l'autisme telle que mesurée par l'AOSI, chez les enfants à 12 mois `V12.mullen.composite_standard_score` et `V12.aosi.total_score_1_18`. Étant donné que les deux sont des variables continues, une mesure simple de cette association est leur corrélation. Regardons le graphique de dispersion pour ces deux variables.\n"
   ]
  },
  {
   "cell_type": "code",
   "execution_count": 40,
   "id": "af7fdc33",
   "metadata": {},
   "outputs": [
    {
     "name": "stderr",
     "output_type": "stream",
     "text": [
      "Warning message:\n",
      "\"\u001b[1m\u001b[22mRemoved 75 rows containing missing values or values outside the scale range (`geom_point()`).\"\n"
     ]
    },
    {
     "data": {
      "image/png": "[encoded data removed]",
      "text/plain": [
       "plot without title"
      ]
     },
     "metadata": {
      "image/png": {
       "height": 420,
       "width": 420
      }
     },
     "output_type": "display_data"
    }
   ],
   "source": [
    "ggplot(data = data_complete, aes(x= V12.mullen.composite_standard_score, y=V12.aosi.total_score_1_18))+\n",
    "    geom_point()+\n",
    "    labs(x=\"Score Standard de composite Mullen\",\n",
    "         y= \"Score Totale d'AOSI\",\n",
    "         title = \"Nuage de Points du Score Standard de composite Mullen \\net Le Score Totale d'AOSI à 12 mois\")"
   ]
  },
  {
   "cell_type": "markdown",
   "id": "3e4b690f",
   "metadata": {},
   "source": [
    "`\\n` est utilisé lors de la spécification du titre. Si cela n'est pas inclus, R forcera l'ensemble de la chaine sur une seule ligne, coupant une partie du titre en raison du manque d'espace. Ajouter `\\n` force un saut de ligne à cet endroit. Cette chaine `\\n` spécifie une nouvelle ligne pour n'importe quelle chaine générale (elle peut être utilisée avec les étiquettes des axes, le titre de la légende, les légendes ou sous-titres, etc.).\n"
   ]
  },
  {
   "cell_type": "markdown",
   "id": "ebea069a",
   "metadata": {},
   "source": [
    "Au mieux, il semble y avoir une relation faible et négative entre ces variables.\n",
    "\n",
    "Estimons la **corrélation.** Cela peut être fait en R en utilisant **`cor()`.** Remarquons que `cor()` n'a pas d'argument `data=`, donc nous devons spécifier les variables d'intérêt sous la forme `dataset$variable`. De plus, par défaut, si l'une des variables comporte des valeurs manquantes, un NA est renvoyé par `cor()`. Pour exclure tout sujet dont une ou plusieurs des variables manquent du calcul, spécifions **`use=\"pairwise.complete\"`** comme argument dans la fonction. Nous pouvons également :\n",
    "\n",
    "**1)** mener un test d'hypothèse formel pour une corrélation nulle\n",
    "\n",
    "**2)** calculer un intervalle de confiance à $95\\%$ pour la corrélation en utilisant la fonction **`cor.test()`.**\n",
    "\n",
    "Remarquons que la mesure de corrélation par défaut est **Pearson,** bien que cela puisse être modifié dans les deux fonctions en utilisant l'argument **`measure=`**. De plus, lors de la réalisation du test d'hypothèse ou du calcul de l'intervalle de confiance, nous devons toujours prendre en compte toutes les hypothèses de distribution qui sont utilisées dans ces calculs (comme discuté dans [Les Tableaux dans R](https://github.com/Dahamey/R/tree/main/R%20%20-%20Fr/Tableaux%20en%20R) et [Les Concepts Statistiques Fondamentaux dans R](https://github.com/Dahamey/R/tree/main/R%20%20-%20Fr/Les%20Concepts%20Statistiques%20Fondamentaux%20dans%20R)).\n",
    "\n",
    "Pour que le test d'hypothèse et les calculs de l'intervalle de confiance effectués ici soient valides, l'une des conditions (assumptions) suivantes doit être remplie :\n",
    "\n",
    "**1)** les deux variables sont conjointement distribuées normalement.\n",
    "\n",
    "**2)** ou bien la taille de l'échantillon est suffisamment grande pour que la distribution approximative de la statistique de test soit précise. Cette distribution approximative est une distribution $t$ avec $n-2$ degrés de liberté, où $n$ représente la taille de l'échantillon. Par conséquent, la valeur de la statistique de test dans la sortie R est notée $t.$\n"
   ]
  },
  {
   "cell_type": "code",
   "execution_count": 41,
   "id": "af387d15",
   "metadata": {},
   "outputs": [
    {
     "data": {
      "text/html": [
       "&lt;NA&gt;"
      ],
      "text/latex": [
       "<NA>"
      ],
      "text/markdown": [
       "&lt;NA&gt;"
      ],
      "text/plain": [
       "[1] NA"
      ]
     },
     "metadata": {},
     "output_type": "display_data"
    }
   ],
   "source": [
    "cor(x = data_complete$V12.mullen.composite_standard_score, y = data_complete$V12.aosi.total_score_1_18)"
   ]
  },
  {
   "cell_type": "code",
   "execution_count": 42,
   "id": "ba2fc7bd",
   "metadata": {},
   "outputs": [
    {
     "data": {
      "text/html": [
       "-0.296453570332134"
      ],
      "text/latex": [
       "-0.296453570332134"
      ],
      "text/markdown": [
       "-0.296453570332134"
      ],
      "text/plain": [
       "[1] -0.2964536"
      ]
     },
     "metadata": {},
     "output_type": "display_data"
    }
   ],
   "source": [
    "cor(x = data_complete$V12.mullen.composite_standard_score, y = data_complete$V12.aosi.total_score_1_18,\n",
    "   use = \"pairwise.complete\")"
   ]
  },
  {
   "cell_type": "code",
   "execution_count": 43,
   "id": "62ce8bf3",
   "metadata": {},
   "outputs": [
    {
     "data": {
      "text/plain": [
       "\n",
       "\tPearson's product-moment correlation\n",
       "\n",
       "data:  data_complete$V12.mullen.composite_standard_score and data_complete$V12.aosi.total_score_1_18\n",
       "t = -7.01, df = 510, p-value = 7.59e-12\n",
       "alternative hypothesis: true correlation is not equal to 0\n",
       "95 percent confidence interval:\n",
       " -0.3735142 -0.2153293\n",
       "sample estimates:\n",
       "       cor \n",
       "-0.2964536 \n"
      ]
     },
     "metadata": {},
     "output_type": "display_data"
    }
   ],
   "source": [
    "# effectuons un test d'hypothèse\n",
    "resultats <- cor.test(x = data_complete$V12.mullen.composite_standard_score, y = data_complete$V12.aosi.total_score_1_18)\n",
    "resultats"
   ]
  },
  {
   "cell_type": "markdown",
   "id": "cbd26fe3",
   "metadata": {},
   "source": [
    "Nous constatons qu'il y a des preuves (p-value = 7.59e-12 < 0.05) d'une corrélation modérée et négative entre ces variables.\n",
    "\n",
    "Cependant, l'utilisation de cette corrélation par paire présente ses limites car :\n",
    "\n",
    "**1)** c'est une mesure plus \"générale\"\n",
    "\n",
    "**2)** elle ne tient pas compte d'autres variables qui pourraient influencer cette association.\n",
    "\n",
    "Pour mieux illustrer le premier point, considérons les diagrammes de dispersion suivants (créés à l'aide de données simulées).\n"
   ]
  },
  {
   "cell_type": "code",
   "execution_count": 44,
   "id": "fa60052f",
   "metadata": {},
   "outputs": [
    {
     "data": {
      "image/png": "[encoded data removed]",
      "text/plain": [
       "Plot with title \"Exemple de Nuage de Points: Dataset 1 en Noir, Dataset 2 en Bleu\""
      ]
     },
     "metadata": {
      "image/png": {
       "height": 420,
       "width": 420
      }
     },
     "output_type": "display_data"
    }
   ],
   "source": [
    "# simuler les données\n",
    "set.seed(25101989)\n",
    "E <- rnorm(500)\n",
    "X <- rnorm(500, mean=5)\n",
    "Y1 <- 2*X+E\n",
    "Y2 <- 6*X+E\n",
    "\n",
    "# nous utiliserons les fonctions de tracé par défaut de R (plot)\n",
    "plot(X, Y1, main=\"Exemple de Nuage de Points: Dataset 1 en Noir, Dataset 2 en Bleu\", xlim = c(0, 8), ylim=c(0, 50), ylab=\"Y\")\n",
    "points(X, Y2, col=\"blue\")\n",
    "text(x=7, y=9,labels=paste(\"Cor=\",round(cor(X, Y1),2),sep=\"\"))\n",
    "text(x=7, y=35,labels=paste(\"Cor=\",round(cor(X, Y2),2),sep=\"\"), col=\"blue\")"
   ]
  },
  {
   "cell_type": "code",
   "execution_count": 45,
   "id": "5fe13487",
   "metadata": {},
   "outputs": [
    {
     "data": {
      "text/html": [
       "0.885667029038482"
      ],
      "text/latex": [
       "0.885667029038482"
      ],
      "text/markdown": [
       "0.885667029038482"
      ],
      "text/plain": [
       "[1] 0.885667"
      ]
     },
     "metadata": {},
     "output_type": "display_data"
    }
   ],
   "source": [
    "cor(X, Y1)"
   ]
  },
  {
   "cell_type": "code",
   "execution_count": 46,
   "id": "12aa4c6b",
   "metadata": {},
   "outputs": [
    {
     "data": {
      "text/html": [
       "0.985426567129574"
      ],
      "text/latex": [
       "0.985426567129574"
      ],
      "text/markdown": [
       "0.985426567129574"
      ],
      "text/plain": [
       "[1] 0.9854266"
      ]
     },
     "metadata": {},
     "output_type": "display_data"
    }
   ],
   "source": [
    "cor(X, Y2)"
   ]
  },
  {
   "cell_type": "markdown",
   "id": "4d5c9f05",
   "metadata": {},
   "source": [
    "Nous pouvons voir que les deux exemples ont une corrélation similaire, bien que l'ensemble de données représenté en bleu ait une augmentation beaucoup plus importante de la variable $Y$ lorsque la variable $X$ augmente. Il serait utile de mesurer plus explicitement ces **pentes** et d'ajuster cette mesure en fonction d'autres variables d'intérêt qui pourraient influencer l'association.\n"
   ]
  },
  {
   "cell_type": "markdown",
   "id": "4f2763eb",
   "metadata": {},
   "source": [
    "<a id=\"2\"></a>\n",
    "## 1.2) Méthodologie\n",
    "\n",
    "### 1.2.1) Aperçu\n",
    "\n",
    "Supposons que les variables $X$ et $Y$ sont d'intérêt, où $Y$ est **continue** ($X$ peut être discrète ou continue). Avec la régression linéaire, nous spécifions le modèle suivant entre ces variables : \n",
    "\n",
    "$$Y=\\beta_0+\\beta_1X+\\varepsilon$$\n",
    "\n",
    "Où \n",
    "\n",
    "* $\\epsilon$ est généralement considéré comme le **terme d'erreur** du modèle que nous supposons avoir ici une moyenne nulle et une variance notée $\\sigma^2$.\n",
    "\n",
    "Pour les variables $X$ et $Y$, dénotons la moyenne de $Y$ conditionnelle à $X$ par $\\mathbb{E}(Y|X)$. Avec la régression linéaire, puisque la moyenne de $\\varepsilon$ est de 0 :\n",
    "\n",
    "$$\\mathbb{E}(Y|X)=\\beta_0+\\beta_1X$$\n",
    "\n",
    "qui est une fonction *linéaire* de $X$. Lorsque nous appliquons ce modèle aux données, nous supposons que $\\varepsilon$ de chaque observation est indépendant, ce qui implique que la valeur $Y$ de chaque observation est indépendante car $Y$ est une fonction de $\\varepsilon$. En conséquence, pour les données où il y a plusieurs observations par sujet, le modèle de régression linéaire ne serait pas valide et son application ne produirait pas de résultats valides.\n",
    "\n",
    "Nous voyons que $\\beta_0$ (l'intercept) représente la moyenne de $Y$ lorsque $X$ est 0 et $\\beta_1$ (la pente) représente le changement de moyenne de $Y$ lorsque $X$ augmente de 1. Sur la base de ce modèle, nous voulons **estimer les paramètres** $\\beta_0$ et $\\beta_1$ avec la pente servant de mesure de l'association entre $X$ et $Y$. Nous notons les estimations avec $\\hat{\\beta_0}$ et $\\hat{\\beta_1}$ respectivement. Cela se fait généralement en utilisant une **estimation par les moindres carrés** (least squares estimation).\n",
    "\n",
    "Puisque les estimations de l'intercept et de la pente varieront d'un échantillon à un autre dans une population donnée, nous aimerions prendre en compte cette aléa. Cela se fait généralement en effectuant un test d'hypothèse et/ou en calculant un intervalle de confiance.\n",
    "\n",
    "En régression linéaire, les méthodes standard pour calculer une valeur $p$ à partir d'un test d'hypothèse ou d'un intervalle de confiance nécessitent que l'une des deux hypothèses (assumptions) suivantes soit vraie :\n",
    "\n",
    "**1)** $\\varepsilon$ est distribué normalement\n",
    "\n",
    "ou\n",
    "\n",
    "**2)** la taille de l'échantillon est suffisamment grande pour que nos estimations d'intercept et de pente ($\\hat{\\beta}_0$ et $\\hat{\\beta}_1$ respectivement) soient approximativement distribuées normalement.\n",
    "\n",
    "Si l'une de ces conditions est remplie, la statistique de test suit (approximativement si une approximation pour un grand échantillon est utilisée) une distribution de Student (t-distribution) avec $n-p$ **degrés de liberté** où $p$ désigne le nombre de paramètres dans le modèle ($p=2$ dans ce cas). Une valeur $p$ peut alors être calculée à l'aide de cette distribution, ainsi qu'un intervalle de confiance.\n",
    "\n",
    "Par conséquent, lors de l'analyse d'une régression linéaire, nous avons un ensemble d'hypothèses (assumptions) que nous devons vérifier à l'aide des données :\n",
    "\n",
    "**1)** La moyenne de $Y$ sachant $X$ est une fonction linéaire de $X.$\n",
    "\n",
    "**2)** À travers les valeurs de $X,$ les termes d'erreur ont des variances égales (appelées **homoscédasticité**).\n",
    "\n",
    "3) À travers les valeurs de $X,$ les termes d'erreur sont distribués normalement ou bien la taille de l'échantillon est suffisamment grande pour que l'approximation pour un grand échantillon soit précise.\n",
    "\n",
    "4) Tous les termes d'erreur/observations dans les données sont indépendants\n",
    "\n",
    "Les suppositions **1), 2)** et **3)** peuvent être évaluées à partir des données tandis que **4)** est généralement évalué en fonction de la conception de l'étude à partir de laquelle les données sont issues.\n",
    "\n",
    "Maintenant, supposons que nous soyons également intéressés à ajuster ces associations pour une autre variable $Z$ (peut être continue ou catégorique). Nous pouvons spécifier le modèle de régression linéaire suivant :\n",
    "\n",
    "$$Y=\\beta_0+\\beta_1X+\\beta_2Z+\\varepsilon$$\n",
    "\n",
    "$\\mathbb{E}(Y|X,Z)=\\beta_0+\\beta_1X+\\beta_2Z$\n",
    "\n",
    "où $\\varepsilon$ a les mêmes propriétés qu'auparavant. Les statisticiens désignent souvent $Y$ comme la **variable dépendante**, $X$ et $Z$ comme **prédicteurs** ou **covariables**, et $\\beta_0, \\beta_1$, et $\\beta_2$ comme **paramètres de régression**. Remarquons que maintenant nous faisons des inférences sur la moyenne de $Y$ conditionnelle à $X$ **et** $Z$. En outre, nous remarquerons que $\\beta_1$ représente le changement de la moyenne de $Y$ lorsque $X$ augmente de 1 unité **et** que $Z$ est maintenue fixe :\n",
    "\n",
    "\\begin{align}\n",
    "\\mathbb{E}(Y|X+1,Z)-\\mathbb{E(Y|X,Z)}&=\\beta_0+\\beta_1(X+1)+\\beta_2Z-(\\beta_0+\\beta_1X+\\beta_2Z)\\\\\n",
    "&=\\beta_0+\\beta_1X+\\beta_1+\\beta_2Z-(\\beta_0+\\beta_1X+\\beta_2Z)\\\\\n",
    "&=\\beta_1\n",
    "\\end{align}\n",
    "\n",
    "Ainsi, nous faisons des inférences sur la relation entre $Y$ et $X$ en controlant pour $Z$. Nous pouvons controler un nombre quelconque de prédicteurs, l'interprétation des paramètres de régression est la même que celle des scénarios à un ou deux prédicteurs discutés ci-dessus.\n",
    "\n",
    "<a id=\"3\"></a>\n",
    "\n",
    "### 1.2.2)  Exemple 1: Prédicteurs continus\n",
    "\n",
    "Faisons une analyse de régression linéaire de la relation entre le score total AOSI et le composite de Mullen à 12 mois, en contrôlant l'âge à la visite du mois 12 (`V12.mullen.composite_standard_score` et `V12.aosi.total_score_1_18` en controlant `V12.mullen.Candidate_Age`). Le modèle de régression correspondant est :\n",
    "\n",
    "$$AOSI=\\beta_0+\\beta_1Mullen+\\beta_2Age+\\varepsilon$$\n",
    "\n",
    "avec $\\mathbb{E}(\\varepsilon)=0$, $Var(\\varepsilon)=\\sigma^2$, et tous les $\\varepsilon$ sont indépendants.\n",
    "\n",
    "Chaque fois que nous effectuons une analyse de régression (y compris la régression logistique et les modèles mixtes comme discuté plus loin), il est important de pouvoir écrire explicitement le modèle que nous utilisons comme nous l'avons fait ci-dessus.\n",
    "\n",
    "Pour appliquer le modèle aux données et obtenir des estimations et des intervalles de confiance (appelés **ajustement du modèle**) dans R, nous utilisons la fonction **`lm()`**. La syntaxe principale est la suivante : \n",
    "\n",
    "<center>**`lm(y~x+z+...,data=...)`**</center>\n",
    "\n",
    "où `y` est le nom de la variable de résultat, `x` et `z` sont les prédicteurs et `data=` est l'argument où nous spécifions l'ensemble de données à utiliser. Le symbole `~` agit comme le signe égal dans l'équation du modèle de régression."
   ]
  },
  {
   "cell_type": "code",
   "execution_count": 47,
   "id": "ea079114",
   "metadata": {},
   "outputs": [
    {
     "data": {
      "text/plain": [
       "\n",
       "Call:\n",
       "lm(formula = V12.aosi.total_score_1_18 ~ V12.mullen.composite_standard_score + \n",
       "    V12.mullen.Candidate_Age, data = data_complete)\n",
       "\n",
       "Coefficients:\n",
       "                        (Intercept)  V12.mullen.composite_standard_score  \n",
       "                           12.34763                             -0.07873  \n",
       "           V12.mullen.Candidate_Age  \n",
       "                            0.04692  \n"
      ]
     },
     "metadata": {},
     "output_type": "display_data"
    }
   ],
   "source": [
    "# Adapter le modèle aux données pour obtenir des estimations\n",
    "lm(V12.aosi.total_score_1_18~V12.mullen.composite_standard_score\n",
    "   +V12.mullen.Candidate_Age, data= data_complete)"
   ]
  },
  {
   "cell_type": "markdown",
   "id": "34dc44f8",
   "metadata": {},
   "source": [
    "Les coefficients de régression estimés sont renvoyés. Cependant, l'ajustement du modèle produit beaucoup plus de résultats que simplement ces estimations. Pour accéder à l'ensemble des résultats, nous devons d'abord enregistrer la sortie de la fonction `lm()` en tant que fonction. Ensuite, nous pouvons accéder aux intervalles de confiance pour les paramètres de régression, obtenir des valeurs $p$ pour les tests d'hypothèse, obtenir des mesures de somme des carrés et des résidus, etc. Cela est fait ensuite dans notre exemple AOSI.\n"
   ]
  },
  {
   "cell_type": "code",
   "execution_count": 48,
   "id": "17fed04b",
   "metadata": {},
   "outputs": [
    {
     "data": {
      "text/plain": [
       "\n",
       "Call:\n",
       "lm(formula = V12.aosi.total_score_1_18 ~ V12.mullen.composite_standard_score + \n",
       "    V12.mullen.Candidate_Age, data = data_complete)\n",
       "\n",
       "Residuals:\n",
       "    Min      1Q  Median      3Q     Max \n",
       "-6.8582 -2.4493 -0.5611  1.9431 15.9197 \n",
       "\n",
       "Coefficients:\n",
       "                                    Estimate Std. Error t value Pr(>|t|)    \n",
       "(Intercept)                         12.34763    3.21106   3.845 0.000136 ***\n",
       "V12.mullen.composite_standard_score -0.07873    0.01125  -6.999 8.17e-12 ***\n",
       "V12.mullen.Candidate_Age             0.04692    0.23631   0.199 0.842687    \n",
       "---\n",
       "Signif. codes:  0 '***' 0.001 '**' 0.01 '*' 0.05 '.' 0.1 ' ' 1\n",
       "\n",
       "Residual standard error: 3.461 on 509 degrees of freedom\n",
       "  (75 observations deleted due to missingness)\n",
       "Multiple R-squared:  0.08796,\tAdjusted R-squared:  0.08437 \n",
       "F-statistic: 24.54 on 2 and 509 DF,  p-value: 6.67e-11\n"
      ]
     },
     "metadata": {},
     "output_type": "display_data"
    }
   ],
   "source": [
    "# Adapter le modèle aux donnéeset sauvegarder les résultats en tant qu'objets\n",
    "aosi_exp1_fit <- lm(V12.aosi.total_score_1_18~V12.mullen.composite_standard_score\n",
    "   +V12.mullen.Candidate_Age, data=data_complete)\n",
    "\n",
    "summary(aosi_exp1_fit)\n"
   ]
  },
  {
   "cell_type": "markdown",
   "id": "cf16b72f",
   "metadata": {},
   "source": [
    "Après avoir sauvegardé la sortie de l'ajustement, utiliser la fonction **`summary()`** avec cet objet produit les résultats standard d'une analyse de régression. Expliquons maintenant chaque élément de ce tableau.\n",
    "\n",
    "**1)** <u>**Résidus (Residuals)**</u> **:**\n",
    "\n",
    "Ce sont les termes d'erreur pour chaque sujet (chaque observation), qui sont les \"écarts\" entre leur valeur de résultat réelle $(y_i)$ et leur valeur de résultat prédite $(\\hat{y}_i)$ en fonction de la **ligne ajustée (fitted line)** définie par \n",
    "$$\\hat{\\beta}_0+\\hat{\\beta_1}X+\\hat{\\beta_2}Z$$\n",
    "Le minimum, le premier quartile, la médiane, le troisième quartile et le maximum de ces résidus à partir des données sont rapportés.\n",
    "\n",
    "**2)** <u>**Coefficients**</u> **:**\n",
    "\n",
    "Ici, les estimations des paramètres de régression et leurs erreurs standards sont rapportées, ainsi que la statistique de test ($t$ value) et la valeur $p$ correspondant au test d'hypothèse selon lequel ce paramètre est égal à 0. Rappelons-nous que chaque statistique de test suit une distribution de Student, d'où les étiquettes \"valeur $t$\" et \"$\\text{Pr}(>|t|)$\".\n",
    "\n",
    "**3)** <u>**Erreur standard des résidus**</u> **:**\n",
    "\n",
    "Le terme d'erreur $\\varepsilon$ est supposé avoir une variance $\\sigma^2$ pour toutes les observations dans les données. L'erreur standard des résidus est une estimation de $\\sigma$.\n",
    "\n",
    "**4)** <u>**R-carré**</u> **:**\n",
    "\n",
    "Le R-carré (R-squared) habituel (\"multiple\") et le R-carré ajusté. Fondamentalement, le R-carré ajusté prend le R-carré habituel et le réduit à mesure que le nombre de paramètres de régression dans le modèle augmente. Les deux reflètent la même idée.\n",
    "\n",
    "**5)** <u>**Statistique $F$**</u> **:**\n",
    "\n",
    "Nous avons discuté de la réalisation d'un test d'hypothèse pour un seul paramètre de régression égal à 0. Pour tester si plus d'un paramètre de régression est égal à 0, la statistique de test suit une **distribution** $F$ avec $p-1$ *degrés de liberté du numérateur* et $n-p-1$ *degrés de liberté du dénominateur*. La statistique de test et la valeur $p$ rapportées ici correspondent spécifiquement au test selon lequel tous les paramètres de régression qui ne sont pas des intercepts sont égaux à 0. Ce n'est généralement pas un test d'hypothèse d'intérêt, bien que les logiciels statistiques rapportent souvent cela. Nous ne serons généralement intéressé que par la section des Coefficients et peut-être par les résultats du R-carré, bien qu'il soit utile d'avoir une idée de ce que représentent les autres termes dans la sortie.\n",
    "\n",
    "Nous constatons qu'il y a des preuves à partir des résultats de la régression d'une association négative entre le score total AOSI et le composite de Mullen à 12 mois, en controlant pour l'âge, avec une augmentation d'une unité du score composite de Mullen correspondant à une diminution de 0.08 du score total moyen AOSI à 12 mois. Avec la très petite valeur $p,$ il y a une **forte preuve** d'une **faible association**. \n",
    "\n",
    "De plus, les deux valeurs R-carré sont très faibles, autour de 0,08. Cela indique que la plupart du score AOSI d'un sujet provient du terme d'erreur ($\\varepsilon$) par rapport au terme moyen ($\\beta_0+\\beta_1Mullen+\\beta_2Age$)."
   ]
  },
  {
   "cell_type": "markdown",
   "id": "e2d48a6c",
   "metadata": {},
   "source": [
    "<a id=\"4\"></a>\n",
    "\n",
    "### 1.2.3) Exemple 2 : Prédicteurs catégoriques\n",
    "\n",
    "Maintenant, supposons que **l'un des deux prédicteurs est une variable catégorielle.** Remarquons que si on utilise un prédicteur qui mesure des comptes (c'est-à-dire qu'il n'est pas exactement continu mais peut prendre n'importe quelle valeur entière ou toute valeur entière supérieure ou égale à 0), l'interprétation du modèle de régression est essentiellement la même que dans le cas continu. Supposons que nous considérions le modèle de régression suivant :\n",
    "\n",
    "$$AOSI=\\beta_0+\\beta_1Mullen+\\beta_2Diagnosis+\\varepsilon$$\n",
    "\n",
    "où $\\mathbb{E}(\\varepsilon)=0$, $Var(\\varepsilon)=\\sigma^2$, et tous les $\\varepsilon$ sont indépendants.\n",
    "\n",
    "où la variable $Diagnosis$ indique le diagnostic clinique de l'un des types suivants : faible risque :ASD (LR:ASD), faible risque : négatif (LR:Neg), haut risque : ASD (HR:ASD) et haut risque : négatif (HR:Neg). Pour interpréter le modèle, nous avons besoin que :\n",
    "\n",
    "**1)** $\\beta_0$ ait un sens\n",
    "\n",
    "**2)** $Diagnosis$ soit numérique.\n",
    "\n",
    "Pour accomplir : \n",
    "\n",
    "**1)** nous avons besoin que $Diagnosis=0$ ait un sens. Une façon d'atteindre ces deux objectifs est de faire en sorte que $Diagnosis$ prenne les valeurs 0 (LR:ASD), 1 (LR:Neg), 2 (HR:ASD) ou 3 (HR:Neg). Ensuite, $\\beta_0$ désigne la moyenne du score total AOSI à 12 mois lorsqu'un sujet a un score composite Mullen de 0 et est diagnostiqué LR:ASD. Le problème est que $\\beta_1$ mesure le changement de la moyenne du score total AOSI lorsque $Diagnosis$ change de 1 et que le score composite Mullen est constant. Si $Diagnosis$ est codé de la manière ci-dessus, cela implique que ce changement de moyenne du score total AOSI est le même en passant de LR:ASD à LR:Neg qu'en passant de LR:Neg à HR:ASD. Alors que cette structure peut être raisonnable si la variable a un ordre inhérent du moins au plus \"grave\", en général avec des variables catégorielles, c'est une structure que nous aimerions éviter.\n",
    "\n",
    "Au lieu de cela, nous utilisons le codage \"par variables indicatrices\" ou **codage dummy**. Avec le codage par variables indicatrices, nous représentons la variable catégorielle avec un ensemble de variables binaires (0 ou 1) qui indiquent des catégories spécifiques. Par exemple, le modèle de régression précédent est remplacé par le suivant :\n",
    "\n",
    "$$AOSI=\\beta_0+\\beta_1Mullen+\\beta_2HRneg+\\beta_3LRasd+\\beta_4LRneg+\\varepsilon$$\n",
    "\n",
    "où $\\mathbb{E}(\\varepsilon)=0$, $Var(\\varepsilon)=\\sigma^2$, et tous les $\\varepsilon$ sont indépendants.\n",
    "\n",
    "où $HRneg=1$ si $Diagnosis=HR:Negative$ et $HRneg=0$ sinon, avec $LRasd$ et $LRneg$ définis de manière similaire.\n",
    "\n",
    "Ainsi, $Diagnosis=HR:ASD$ est indiqué par $HRneg=0, LRasd=0$ et $LRneg=0$. HR:ASD est désigné comme le **groupe de référence**. Par conséquent, pour chaque sujet, **une seule de ces variables sera égale à 1 et les autres seront égales à 0**.\n",
    "\n",
    "Cette structure permet des comparaisons spécifiques à un groupe, voir la section ANOVA et ANCOVA de ce notebook pour plus de détails. Nous voyons que $\\beta_0$ désigne la moyenne du score total AOSI pour un sujet avec un score composite Mullen de 0 et un diagnostic de HR:ASD, et $\\beta_1$ désigne le changement de la moyenne du score total AOSI lorsque le score composite Mullen augmente de 1 unité et que le diagnostic est maintenu constant, à 12 mois. Pour les groupes de diagnostic, $\\beta_2$ désigne le changement de la moyenne du score total AOSI lorsque le diagnostic passe de HR:ASD à HR:Neg et que le score composite Mullen est maintenu constant, à 12 mois, avec $\\beta_3$ et $\\beta_4$ ayant les mêmes interprétations pour LR:ASD et LR:Neg respectivement.\n",
    "\n",
    "Maintenant, nous adaptons ce modèle aux données. Lorsque nous utilisons la fonction **`lm()`** pour adapter un modèle avec des prédicteurs catégoriels, si le prédicteur est codé comme une variable de caractère ou une variable de facteur, R effectuera automatiquement le codage des variables indicatrices comme indiqué ci-dessous. Pour voir le niveau de référence utilisé, consulter l'objet **`xlevels`** à partir de l'objet d'ajustement du modèle enregistré, la première valeur est celle que R utilise comme niveau de référence. Cela peut également être vu dans le tableau des résultats de l'ajustement, le niveau de référence n'aura pas de résultats de coefficient de régression comme détaillé précédemment.\n"
   ]
  },
  {
   "cell_type": "code",
   "execution_count": 49,
   "id": "5a5068c9",
   "metadata": {},
   "outputs": [
    {
     "data": {
      "text/plain": [
       "\n",
       "Call:\n",
       "lm(formula = V12.aosi.total_score_1_18 ~ V12.mullen.composite_standard_score + \n",
       "    GROUP, data = data_complete)\n",
       "\n",
       "Residuals:\n",
       "    Min      1Q  Median      3Q     Max \n",
       "-6.2913 -2.3751 -0.6146  2.1165 16.3076 \n",
       "\n",
       "Coefficients:\n",
       "                                    Estimate Std. Error t value Pr(>|t|)    \n",
       "(Intercept)                         12.85779    1.13129  11.366  < 2e-16 ***\n",
       "V12.mullen.composite_standard_score -0.05988    0.01157  -5.176 3.27e-07 ***\n",
       "GROUPHR_neg                         -1.95569    0.44015  -4.443 1.09e-05 ***\n",
       "GROUPLR_ASD                         -3.16309    1.98818  -1.591    0.112    \n",
       "GROUPLR_neg                         -2.53927    0.49520  -5.128 4.18e-07 ***\n",
       "---\n",
       "Signif. codes:  0 '***' 0.001 '**' 0.01 '*' 0.05 '.' 0.1 ' ' 1\n",
       "\n",
       "Residual standard error: 3.377 on 507 degrees of freedom\n",
       "  (75 observations deleted due to missingness)\n",
       "Multiple R-squared:  0.1354,\tAdjusted R-squared:  0.1285 \n",
       "F-statistic: 19.84 on 4 and 507 DF,  p-value: 3.439e-15\n"
      ]
     },
     "metadata": {},
     "output_type": "display_data"
    }
   ],
   "source": [
    "# Adapter le modèle aux donnéeset sauvegarder les résultats en tant qu'objets\n",
    "aosi_exp2_fit <- lm(V12.aosi.total_score_1_18 ~ V12.mullen.composite_standard_score + GROUP,\n",
    "                   data = data_complete)\n",
    "\n",
    "summary(aosi_exp2_fit)"
   ]
  },
  {
   "cell_type": "code",
   "execution_count": 50,
   "id": "a39cf68d",
   "metadata": {},
   "outputs": [
    {
     "data": {
      "text/html": [
       "<strong>$GROUP</strong> = <style>\n",
       ".list-inline {list-style: none; margin:0; padding: 0}\n",
       ".list-inline>li {display: inline-block}\n",
       ".list-inline>li:not(:last-child)::after {content: \"\\00b7\"; padding: 0 .5ex}\n",
       "</style>\n",
       "<ol class=list-inline><li>'HR_ASD'</li><li>'HR_neg'</li><li>'LR_ASD'</li><li>'LR_neg'</li></ol>\n"
      ],
      "text/latex": [
       "\\textbf{\\$GROUP} = \\begin{enumerate*}\n",
       "\\item 'HR\\_ASD'\n",
       "\\item 'HR\\_neg'\n",
       "\\item 'LR\\_ASD'\n",
       "\\item 'LR\\_neg'\n",
       "\\end{enumerate*}\n"
      ],
      "text/markdown": [
       "**$GROUP** = 1. 'HR_ASD'\n",
       "2. 'HR_neg'\n",
       "3. 'LR_ASD'\n",
       "4. 'LR_neg'\n",
       "\n",
       "\n"
      ],
      "text/plain": [
       "$GROUP\n",
       "[1] \"HR_ASD\" \"HR_neg\" \"LR_ASD\" \"LR_neg\"\n"
      ]
     },
     "metadata": {},
     "output_type": "display_data"
    }
   ],
   "source": [
    "aosi_exp2_fit$xlevels"
   ]
  },
  {
   "cell_type": "markdown",
   "id": "73381777",
   "metadata": {},
   "source": [
    "Pour définir un autre niveau de référence pour la variable, nous devons d'abord nous assurer qu'il s'agit d'une variable de type **factor.** Nous pouvons en faire une en utilisant `factor()` (voir [dply](https://github.com/Dahamey/R/tree/main/R%20%20-%20Fr/dplyr)). Une fois la variable définie comme factor, nous pouvons définir le niveau de référence à l'aide de **`relevel()`**, avec la syntaxe `relevel(variable, ref=...)` où la valeur du niveau de référence est placée dans l'argument `ref=`.\n",
    "\n",
    "Dans l'exemple ci-dessous, nous définissons le niveau de référence sur LR:ASD selon le modèle ci-dessus :\n"
   ]
  },
  {
   "cell_type": "code",
   "execution_count": 51,
   "id": "857c50d8",
   "metadata": {},
   "outputs": [
    {
     "data": {
      "text/html": [
       "<style>\n",
       ".list-inline {list-style: none; margin:0; padding: 0}\n",
       ".list-inline>li {display: inline-block}\n",
       ".list-inline>li:not(:last-child)::after {content: \"\\00b7\"; padding: 0 .5ex}\n",
       "</style>\n",
       "<ol class=list-inline><li>HR_ASD</li><li>HR_ASD</li><li>HR_ASD</li><li>HR_ASD</li><li>HR_neg</li><li>HR_neg</li><li>HR_ASD</li><li>HR_ASD</li><li>HR_neg</li><li>HR_ASD</li><li>HR_neg</li><li>HR_neg</li><li>HR_neg</li><li>HR_neg</li><li>LR_neg</li><li>HR_neg</li><li>HR_ASD</li><li>HR_neg</li><li>HR_neg</li><li>HR_neg</li><li>HR_neg</li><li>HR_neg</li><li>HR_neg</li><li>HR_ASD</li><li>HR_ASD</li><li>HR_neg</li><li>HR_neg</li><li>LR_neg</li><li>LR_neg</li><li>HR_neg</li><li>HR_neg</li><li>LR_neg</li><li>LR_neg</li><li>HR_neg</li><li>LR_neg</li><li>HR_neg</li><li>LR_neg</li><li>HR_neg</li><li>HR_ASD</li><li>HR_neg</li><li>LR_neg</li><li>LR_neg</li><li>LR_neg</li><li>HR_neg</li><li>HR_neg</li><li>HR_neg</li><li>HR_neg</li><li>HR_neg</li><li>LR_neg</li><li>LR_neg</li><li>LR_neg</li><li>LR_neg</li><li>LR_neg</li><li>LR_neg</li><li>HR_ASD</li><li>HR_neg</li><li>LR_neg</li><li>LR_neg</li><li>HR_neg</li><li>HR_neg</li><li>HR_neg</li><li>LR_neg</li><li>HR_ASD</li><li>HR_ASD</li><li>HR_ASD</li><li>LR_neg</li><li>HR_neg</li><li>HR_neg</li><li>HR_neg</li><li>HR_ASD</li><li>HR_ASD</li><li>LR_neg</li><li>LR_neg</li><li>HR_ASD</li><li>LR_neg</li><li>LR_neg</li><li>HR_neg</li><li>HR_neg</li><li>HR_neg</li><li>HR_neg</li><li>HR_neg</li><li>HR_neg</li><li>HR_neg</li><li>HR_neg</li><li>LR_neg</li><li>HR_neg</li><li>HR_ASD</li><li>HR_neg</li><li>HR_ASD</li><li>HR_neg</li><li>HR_neg</li><li>LR_neg</li><li>HR_neg</li><li>HR_neg</li><li>HR_neg</li><li>LR_neg</li><li>HR_neg</li><li>HR_neg</li><li>HR_neg</li><li>HR_neg</li><li>HR_neg</li><li>HR_neg</li><li>LR_neg</li><li>HR_neg</li><li>HR_neg</li><li>HR_neg</li><li>LR_neg</li><li>HR_neg</li><li>HR_neg</li><li>HR_neg</li><li>HR_neg</li><li>HR_neg</li><li>HR_neg</li><li>HR_neg</li><li>HR_neg</li><li>HR_ASD</li><li>HR_neg</li><li>HR_neg</li><li>HR_neg</li><li>HR_neg</li><li>HR_ASD</li><li>HR_neg</li><li>HR_ASD</li><li>HR_neg</li><li>HR_neg</li><li>HR_neg</li><li>HR_neg</li><li>LR_neg</li><li>HR_neg</li><li>HR_neg</li><li>HR_neg</li><li>HR_ASD</li><li>LR_neg</li><li>LR_neg</li><li>LR_neg</li><li>LR_neg</li><li>LR_neg</li><li>LR_neg</li><li>LR_neg</li><li>LR_neg</li><li>LR_neg</li><li>HR_neg</li><li>HR_neg</li><li>HR_ASD</li><li>HR_neg</li><li>HR_neg</li><li>LR_neg</li><li>HR_ASD</li><li>HR_ASD</li><li>HR_ASD</li><li>LR_neg</li><li>HR_neg</li><li>HR_neg</li><li>HR_neg</li><li>HR_neg</li><li>HR_neg</li><li>HR_neg</li><li>HR_ASD</li><li>HR_neg</li><li>HR_neg</li><li>HR_neg</li><li>HR_neg</li><li>HR_neg</li><li>HR_neg</li><li>HR_ASD</li><li>HR_neg</li><li>HR_ASD</li><li>HR_neg</li><li>LR_neg</li><li>LR_neg</li><li>LR_neg</li><li>HR_neg</li><li>HR_neg</li><li>HR_neg</li><li>HR_ASD</li><li>LR_neg</li><li>HR_neg</li><li>HR_neg</li><li>LR_neg</li><li>HR_neg</li><li>LR_neg</li><li>HR_ASD</li><li>LR_neg</li><li>LR_neg</li><li>HR_neg</li><li>HR_ASD</li><li>HR_neg</li><li>HR_neg</li><li>LR_neg</li><li>LR_neg</li><li>HR_neg</li><li>HR_neg</li><li>LR_neg</li><li>LR_neg</li><li>LR_neg</li><li>LR_neg</li><li>HR_neg</li><li>LR_neg</li><li>HR_neg</li><li>HR_neg</li><li>⋯</li><li>HR_neg</li><li>HR_neg</li><li>HR_neg</li><li>LR_neg</li><li>HR_neg</li><li>LR_neg</li><li>LR_neg</li><li>LR_neg</li><li>LR_neg</li><li>LR_neg</li><li>HR_neg</li><li>LR_neg</li><li>LR_neg</li><li>LR_neg</li><li>LR_neg</li><li>HR_neg</li><li>LR_neg</li><li>LR_neg</li><li>LR_neg</li><li>LR_neg</li><li>HR_ASD</li><li>LR_neg</li><li>LR_neg</li><li>HR_neg</li><li>HR_ASD</li><li>HR_neg</li><li>HR_ASD</li><li>HR_neg</li><li>HR_neg</li><li>LR_neg</li><li>HR_ASD</li><li>HR_ASD</li><li>HR_neg</li><li>HR_neg</li><li>HR_neg</li><li>HR_neg</li><li>HR_neg</li><li>HR_neg</li><li>HR_neg</li><li>HR_neg</li><li>LR_neg</li><li>HR_neg</li><li>LR_neg</li><li>LR_neg</li><li>LR_neg</li><li>LR_neg</li><li>LR_neg</li><li>LR_neg</li><li>LR_neg</li><li>HR_neg</li><li>LR_neg</li><li>HR_neg</li><li>HR_neg</li><li>HR_neg</li><li>HR_ASD</li><li>HR_neg</li><li>HR_neg</li><li>HR_neg</li><li>HR_neg</li><li>HR_neg</li><li>HR_neg</li><li>HR_ASD</li><li>HR_ASD</li><li>HR_neg</li><li>HR_neg</li><li>HR_ASD</li><li>LR_neg</li><li>LR_neg</li><li>HR_ASD</li><li>LR_neg</li><li>HR_neg</li><li>HR_ASD</li><li>LR_neg</li><li>HR_neg</li><li>HR_neg</li><li>HR_neg</li><li>HR_neg</li><li>HR_neg</li><li>LR_neg</li><li>HR_ASD</li><li>LR_neg</li><li>LR_neg</li><li>HR_neg</li><li>HR_neg</li><li>LR_neg</li><li>HR_neg</li><li>LR_neg</li><li>HR_neg</li><li>HR_neg</li><li>LR_neg</li><li>LR_neg</li><li>LR_neg</li><li>LR_neg</li><li>HR_neg</li><li>LR_neg</li><li>HR_neg</li><li>LR_neg</li><li>HR_neg</li><li>HR_neg</li><li>HR_neg</li><li>LR_ASD</li><li>HR_neg</li><li>HR_ASD</li><li>HR_ASD</li><li>HR_neg</li><li>HR_neg</li><li>HR_ASD</li><li>HR_neg</li><li>HR_ASD</li><li>HR_neg</li><li>HR_neg</li><li>HR_neg</li><li>HR_ASD</li><li>HR_neg</li><li>HR_neg</li><li>HR_neg</li><li>HR_neg</li><li>HR_neg</li><li>LR_neg</li><li>HR_ASD</li><li>HR_neg</li><li>LR_neg</li><li>LR_neg</li><li>LR_neg</li><li>LR_neg</li><li>HR_ASD</li><li>HR_ASD</li><li>LR_neg</li><li>HR_neg</li><li>HR_neg</li><li>HR_ASD</li><li>HR_neg</li><li>HR_neg</li><li>HR_neg</li><li>LR_neg</li><li>LR_neg</li><li>LR_neg</li><li>HR_neg</li><li>HR_neg</li><li>HR_ASD</li><li>LR_neg</li><li>HR_neg</li><li>LR_neg</li><li>HR_neg</li><li>LR_neg</li><li>HR_neg</li><li>LR_neg</li><li>LR_neg</li><li>LR_neg</li><li>HR_neg</li><li>HR_neg</li><li>LR_neg</li><li>HR_neg</li><li>LR_neg</li><li>HR_ASD</li><li>LR_neg</li><li>HR_neg</li><li>LR_neg</li><li>HR_neg</li><li>LR_neg</li><li>HR_ASD</li><li>HR_ASD</li><li>LR_neg</li><li>HR_neg</li><li>HR_neg</li><li>HR_neg</li><li>LR_neg</li><li>LR_neg</li><li>HR_neg</li><li>HR_neg</li><li>HR_ASD</li><li>HR_neg</li><li>HR_neg</li><li>HR_neg</li><li>HR_neg</li><li>HR_neg</li><li>HR_neg</li><li>HR_neg</li><li>HR_neg</li><li>HR_neg</li><li>LR_neg</li><li>LR_neg</li><li>HR_neg</li><li>LR_neg</li><li>LR_neg</li><li>HR_neg</li><li>LR_neg</li><li>LR_neg</li><li>HR_neg</li><li>LR_neg</li><li>HR_ASD</li><li>HR_neg</li><li>HR_neg</li><li>LR_neg</li><li>HR_neg</li><li>LR_neg</li><li>HR_neg</li><li>LR_neg</li><li>LR_neg</li><li>LR_neg</li></ol>\n",
       "\n",
       "<details>\n",
       "\t<summary style=display:list-item;cursor:pointer>\n",
       "\t\t<strong>Levels</strong>:\n",
       "\t</summary>\n",
       "\t<style>\n",
       "\t.list-inline {list-style: none; margin:0; padding: 0}\n",
       "\t.list-inline>li {display: inline-block}\n",
       "\t.list-inline>li:not(:last-child)::after {content: \"\\00b7\"; padding: 0 .5ex}\n",
       "\t</style>\n",
       "\t<ol class=list-inline><li>'LR_ASD'</li><li>'HR_ASD'</li><li>'HR_neg'</li><li>'LR_neg'</li></ol>\n",
       "</details>"
      ],
      "text/latex": [
       "\\begin{enumerate*}\n",
       "\\item HR\\_ASD\n",
       "\\item HR\\_ASD\n",
       "\\item HR\\_ASD\n",
       "\\item HR\\_ASD\n",
       "\\item HR\\_neg\n",
       "\\item HR\\_neg\n",
       "\\item HR\\_ASD\n",
       "\\item HR\\_ASD\n",
       "\\item HR\\_neg\n",
       "\\item HR\\_ASD\n",
       "\\item HR\\_neg\n",
       "\\item HR\\_neg\n",
       "\\item HR\\_neg\n",
       "\\item HR\\_neg\n",
       "\\item LR\\_neg\n",
       "\\item HR\\_neg\n",
       "\\item HR\\_ASD\n",
       "\\item HR\\_neg\n",
       "\\item HR\\_neg\n",
       "\\item HR\\_neg\n",
       "\\item HR\\_neg\n",
       "\\item HR\\_neg\n",
       "\\item HR\\_neg\n",
       "\\item HR\\_ASD\n",
       "\\item HR\\_ASD\n",
       "\\item HR\\_neg\n",
       "\\item HR\\_neg\n",
       "\\item LR\\_neg\n",
       "\\item LR\\_neg\n",
       "\\item HR\\_neg\n",
       "\\item HR\\_neg\n",
       "\\item LR\\_neg\n",
       "\\item LR\\_neg\n",
       "\\item HR\\_neg\n",
       "\\item LR\\_neg\n",
       "\\item HR\\_neg\n",
       "\\item LR\\_neg\n",
       "\\item HR\\_neg\n",
       "\\item HR\\_ASD\n",
       "\\item HR\\_neg\n",
       "\\item LR\\_neg\n",
       "\\item LR\\_neg\n",
       "\\item LR\\_neg\n",
       "\\item HR\\_neg\n",
       "\\item HR\\_neg\n",
       "\\item HR\\_neg\n",
       "\\item HR\\_neg\n",
       "\\item HR\\_neg\n",
       "\\item LR\\_neg\n",
       "\\item LR\\_neg\n",
       "\\item LR\\_neg\n",
       "\\item LR\\_neg\n",
       "\\item LR\\_neg\n",
       "\\item LR\\_neg\n",
       "\\item HR\\_ASD\n",
       "\\item HR\\_neg\n",
       "\\item LR\\_neg\n",
       "\\item LR\\_neg\n",
       "\\item HR\\_neg\n",
       "\\item HR\\_neg\n",
       "\\item HR\\_neg\n",
       "\\item LR\\_neg\n",
       "\\item HR\\_ASD\n",
       "\\item HR\\_ASD\n",
       "\\item HR\\_ASD\n",
       "\\item LR\\_neg\n",
       "\\item HR\\_neg\n",
       "\\item HR\\_neg\n",
       "\\item HR\\_neg\n",
       "\\item HR\\_ASD\n",
       "\\item HR\\_ASD\n",
       "\\item LR\\_neg\n",
       "\\item LR\\_neg\n",
       "\\item HR\\_ASD\n",
       "\\item LR\\_neg\n",
       "\\item LR\\_neg\n",
       "\\item HR\\_neg\n",
       "\\item HR\\_neg\n",
       "\\item HR\\_neg\n",
       "\\item HR\\_neg\n",
       "\\item HR\\_neg\n",
       "\\item HR\\_neg\n",
       "\\item HR\\_neg\n",
       "\\item HR\\_neg\n",
       "\\item LR\\_neg\n",
       "\\item HR\\_neg\n",
       "\\item HR\\_ASD\n",
       "\\item HR\\_neg\n",
       "\\item HR\\_ASD\n",
       "\\item HR\\_neg\n",
       "\\item HR\\_neg\n",
       "\\item LR\\_neg\n",
       "\\item HR\\_neg\n",
       "\\item HR\\_neg\n",
       "\\item HR\\_neg\n",
       "\\item LR\\_neg\n",
       "\\item HR\\_neg\n",
       "\\item HR\\_neg\n",
       "\\item HR\\_neg\n",
       "\\item HR\\_neg\n",
       "\\item HR\\_neg\n",
       "\\item HR\\_neg\n",
       "\\item LR\\_neg\n",
       "\\item HR\\_neg\n",
       "\\item HR\\_neg\n",
       "\\item HR\\_neg\n",
       "\\item LR\\_neg\n",
       "\\item HR\\_neg\n",
       "\\item HR\\_neg\n",
       "\\item HR\\_neg\n",
       "\\item HR\\_neg\n",
       "\\item HR\\_neg\n",
       "\\item HR\\_neg\n",
       "\\item HR\\_neg\n",
       "\\item HR\\_neg\n",
       "\\item HR\\_ASD\n",
       "\\item HR\\_neg\n",
       "\\item HR\\_neg\n",
       "\\item HR\\_neg\n",
       "\\item HR\\_neg\n",
       "\\item HR\\_ASD\n",
       "\\item HR\\_neg\n",
       "\\item HR\\_ASD\n",
       "\\item HR\\_neg\n",
       "\\item HR\\_neg\n",
       "\\item HR\\_neg\n",
       "\\item HR\\_neg\n",
       "\\item LR\\_neg\n",
       "\\item HR\\_neg\n",
       "\\item HR\\_neg\n",
       "\\item HR\\_neg\n",
       "\\item HR\\_ASD\n",
       "\\item LR\\_neg\n",
       "\\item LR\\_neg\n",
       "\\item LR\\_neg\n",
       "\\item LR\\_neg\n",
       "\\item LR\\_neg\n",
       "\\item LR\\_neg\n",
       "\\item LR\\_neg\n",
       "\\item LR\\_neg\n",
       "\\item LR\\_neg\n",
       "\\item HR\\_neg\n",
       "\\item HR\\_neg\n",
       "\\item HR\\_ASD\n",
       "\\item HR\\_neg\n",
       "\\item HR\\_neg\n",
       "\\item LR\\_neg\n",
       "\\item HR\\_ASD\n",
       "\\item HR\\_ASD\n",
       "\\item HR\\_ASD\n",
       "\\item LR\\_neg\n",
       "\\item HR\\_neg\n",
       "\\item HR\\_neg\n",
       "\\item HR\\_neg\n",
       "\\item HR\\_neg\n",
       "\\item HR\\_neg\n",
       "\\item HR\\_neg\n",
       "\\item HR\\_ASD\n",
       "\\item HR\\_neg\n",
       "\\item HR\\_neg\n",
       "\\item HR\\_neg\n",
       "\\item HR\\_neg\n",
       "\\item HR\\_neg\n",
       "\\item HR\\_neg\n",
       "\\item HR\\_ASD\n",
       "\\item HR\\_neg\n",
       "\\item HR\\_ASD\n",
       "\\item HR\\_neg\n",
       "\\item LR\\_neg\n",
       "\\item LR\\_neg\n",
       "\\item LR\\_neg\n",
       "\\item HR\\_neg\n",
       "\\item HR\\_neg\n",
       "\\item HR\\_neg\n",
       "\\item HR\\_ASD\n",
       "\\item LR\\_neg\n",
       "\\item HR\\_neg\n",
       "\\item HR\\_neg\n",
       "\\item LR\\_neg\n",
       "\\item HR\\_neg\n",
       "\\item LR\\_neg\n",
       "\\item HR\\_ASD\n",
       "\\item LR\\_neg\n",
       "\\item LR\\_neg\n",
       "\\item HR\\_neg\n",
       "\\item HR\\_ASD\n",
       "\\item HR\\_neg\n",
       "\\item HR\\_neg\n",
       "\\item LR\\_neg\n",
       "\\item LR\\_neg\n",
       "\\item HR\\_neg\n",
       "\\item HR\\_neg\n",
       "\\item LR\\_neg\n",
       "\\item LR\\_neg\n",
       "\\item LR\\_neg\n",
       "\\item LR\\_neg\n",
       "\\item HR\\_neg\n",
       "\\item LR\\_neg\n",
       "\\item HR\\_neg\n",
       "\\item HR\\_neg\n",
       "\\item ⋯\n",
       "\\item HR\\_neg\n",
       "\\item HR\\_neg\n",
       "\\item HR\\_neg\n",
       "\\item LR\\_neg\n",
       "\\item HR\\_neg\n",
       "\\item LR\\_neg\n",
       "\\item LR\\_neg\n",
       "\\item LR\\_neg\n",
       "\\item LR\\_neg\n",
       "\\item LR\\_neg\n",
       "\\item HR\\_neg\n",
       "\\item LR\\_neg\n",
       "\\item LR\\_neg\n",
       "\\item LR\\_neg\n",
       "\\item LR\\_neg\n",
       "\\item HR\\_neg\n",
       "\\item LR\\_neg\n",
       "\\item LR\\_neg\n",
       "\\item LR\\_neg\n",
       "\\item LR\\_neg\n",
       "\\item HR\\_ASD\n",
       "\\item LR\\_neg\n",
       "\\item LR\\_neg\n",
       "\\item HR\\_neg\n",
       "\\item HR\\_ASD\n",
       "\\item HR\\_neg\n",
       "\\item HR\\_ASD\n",
       "\\item HR\\_neg\n",
       "\\item HR\\_neg\n",
       "\\item LR\\_neg\n",
       "\\item HR\\_ASD\n",
       "\\item HR\\_ASD\n",
       "\\item HR\\_neg\n",
       "\\item HR\\_neg\n",
       "\\item HR\\_neg\n",
       "\\item HR\\_neg\n",
       "\\item HR\\_neg\n",
       "\\item HR\\_neg\n",
       "\\item HR\\_neg\n",
       "\\item HR\\_neg\n",
       "\\item LR\\_neg\n",
       "\\item HR\\_neg\n",
       "\\item LR\\_neg\n",
       "\\item LR\\_neg\n",
       "\\item LR\\_neg\n",
       "\\item LR\\_neg\n",
       "\\item LR\\_neg\n",
       "\\item LR\\_neg\n",
       "\\item LR\\_neg\n",
       "\\item HR\\_neg\n",
       "\\item LR\\_neg\n",
       "\\item HR\\_neg\n",
       "\\item HR\\_neg\n",
       "\\item HR\\_neg\n",
       "\\item HR\\_ASD\n",
       "\\item HR\\_neg\n",
       "\\item HR\\_neg\n",
       "\\item HR\\_neg\n",
       "\\item HR\\_neg\n",
       "\\item HR\\_neg\n",
       "\\item HR\\_neg\n",
       "\\item HR\\_ASD\n",
       "\\item HR\\_ASD\n",
       "\\item HR\\_neg\n",
       "\\item HR\\_neg\n",
       "\\item HR\\_ASD\n",
       "\\item LR\\_neg\n",
       "\\item LR\\_neg\n",
       "\\item HR\\_ASD\n",
       "\\item LR\\_neg\n",
       "\\item HR\\_neg\n",
       "\\item HR\\_ASD\n",
       "\\item LR\\_neg\n",
       "\\item HR\\_neg\n",
       "\\item HR\\_neg\n",
       "\\item HR\\_neg\n",
       "\\item HR\\_neg\n",
       "\\item HR\\_neg\n",
       "\\item LR\\_neg\n",
       "\\item HR\\_ASD\n",
       "\\item LR\\_neg\n",
       "\\item LR\\_neg\n",
       "\\item HR\\_neg\n",
       "\\item HR\\_neg\n",
       "\\item LR\\_neg\n",
       "\\item HR\\_neg\n",
       "\\item LR\\_neg\n",
       "\\item HR\\_neg\n",
       "\\item HR\\_neg\n",
       "\\item LR\\_neg\n",
       "\\item LR\\_neg\n",
       "\\item LR\\_neg\n",
       "\\item LR\\_neg\n",
       "\\item HR\\_neg\n",
       "\\item LR\\_neg\n",
       "\\item HR\\_neg\n",
       "\\item LR\\_neg\n",
       "\\item HR\\_neg\n",
       "\\item HR\\_neg\n",
       "\\item HR\\_neg\n",
       "\\item LR\\_ASD\n",
       "\\item HR\\_neg\n",
       "\\item HR\\_ASD\n",
       "\\item HR\\_ASD\n",
       "\\item HR\\_neg\n",
       "\\item HR\\_neg\n",
       "\\item HR\\_ASD\n",
       "\\item HR\\_neg\n",
       "\\item HR\\_ASD\n",
       "\\item HR\\_neg\n",
       "\\item HR\\_neg\n",
       "\\item HR\\_neg\n",
       "\\item HR\\_ASD\n",
       "\\item HR\\_neg\n",
       "\\item HR\\_neg\n",
       "\\item HR\\_neg\n",
       "\\item HR\\_neg\n",
       "\\item HR\\_neg\n",
       "\\item LR\\_neg\n",
       "\\item HR\\_ASD\n",
       "\\item HR\\_neg\n",
       "\\item LR\\_neg\n",
       "\\item LR\\_neg\n",
       "\\item LR\\_neg\n",
       "\\item LR\\_neg\n",
       "\\item HR\\_ASD\n",
       "\\item HR\\_ASD\n",
       "\\item LR\\_neg\n",
       "\\item HR\\_neg\n",
       "\\item HR\\_neg\n",
       "\\item HR\\_ASD\n",
       "\\item HR\\_neg\n",
       "\\item HR\\_neg\n",
       "\\item HR\\_neg\n",
       "\\item LR\\_neg\n",
       "\\item LR\\_neg\n",
       "\\item LR\\_neg\n",
       "\\item HR\\_neg\n",
       "\\item HR\\_neg\n",
       "\\item HR\\_ASD\n",
       "\\item LR\\_neg\n",
       "\\item HR\\_neg\n",
       "\\item LR\\_neg\n",
       "\\item HR\\_neg\n",
       "\\item LR\\_neg\n",
       "\\item HR\\_neg\n",
       "\\item LR\\_neg\n",
       "\\item LR\\_neg\n",
       "\\item LR\\_neg\n",
       "\\item HR\\_neg\n",
       "\\item HR\\_neg\n",
       "\\item LR\\_neg\n",
       "\\item HR\\_neg\n",
       "\\item LR\\_neg\n",
       "\\item HR\\_ASD\n",
       "\\item LR\\_neg\n",
       "\\item HR\\_neg\n",
       "\\item LR\\_neg\n",
       "\\item HR\\_neg\n",
       "\\item LR\\_neg\n",
       "\\item HR\\_ASD\n",
       "\\item HR\\_ASD\n",
       "\\item LR\\_neg\n",
       "\\item HR\\_neg\n",
       "\\item HR\\_neg\n",
       "\\item HR\\_neg\n",
       "\\item LR\\_neg\n",
       "\\item LR\\_neg\n",
       "\\item HR\\_neg\n",
       "\\item HR\\_neg\n",
       "\\item HR\\_ASD\n",
       "\\item HR\\_neg\n",
       "\\item HR\\_neg\n",
       "\\item HR\\_neg\n",
       "\\item HR\\_neg\n",
       "\\item HR\\_neg\n",
       "\\item HR\\_neg\n",
       "\\item HR\\_neg\n",
       "\\item HR\\_neg\n",
       "\\item HR\\_neg\n",
       "\\item LR\\_neg\n",
       "\\item LR\\_neg\n",
       "\\item HR\\_neg\n",
       "\\item LR\\_neg\n",
       "\\item LR\\_neg\n",
       "\\item HR\\_neg\n",
       "\\item LR\\_neg\n",
       "\\item LR\\_neg\n",
       "\\item HR\\_neg\n",
       "\\item LR\\_neg\n",
       "\\item HR\\_ASD\n",
       "\\item HR\\_neg\n",
       "\\item HR\\_neg\n",
       "\\item LR\\_neg\n",
       "\\item HR\\_neg\n",
       "\\item LR\\_neg\n",
       "\\item HR\\_neg\n",
       "\\item LR\\_neg\n",
       "\\item LR\\_neg\n",
       "\\item LR\\_neg\n",
       "\\end{enumerate*}\n",
       "\n",
       "\\emph{Levels}: \\begin{enumerate*}\n",
       "\\item 'LR\\_ASD'\n",
       "\\item 'HR\\_ASD'\n",
       "\\item 'HR\\_neg'\n",
       "\\item 'LR\\_neg'\n",
       "\\end{enumerate*}\n"
      ],
      "text/markdown": [
       "1. HR_ASD\n",
       "2. HR_ASD\n",
       "3. HR_ASD\n",
       "4. HR_ASD\n",
       "5. HR_neg\n",
       "6. HR_neg\n",
       "7. HR_ASD\n",
       "8. HR_ASD\n",
       "9. HR_neg\n",
       "10. HR_ASD\n",
       "11. HR_neg\n",
       "12. HR_neg\n",
       "13. HR_neg\n",
       "14. HR_neg\n",
       "15. LR_neg\n",
       "16. HR_neg\n",
       "17. HR_ASD\n",
       "18. HR_neg\n",
       "19. HR_neg\n",
       "20. HR_neg\n",
       "21. HR_neg\n",
       "22. HR_neg\n",
       "23. HR_neg\n",
       "24. HR_ASD\n",
       "25. HR_ASD\n",
       "26. HR_neg\n",
       "27. HR_neg\n",
       "28. LR_neg\n",
       "29. LR_neg\n",
       "30. HR_neg\n",
       "31. HR_neg\n",
       "32. LR_neg\n",
       "33. LR_neg\n",
       "34. HR_neg\n",
       "35. LR_neg\n",
       "36. HR_neg\n",
       "37. LR_neg\n",
       "38. HR_neg\n",
       "39. HR_ASD\n",
       "40. HR_neg\n",
       "41. LR_neg\n",
       "42. LR_neg\n",
       "43. LR_neg\n",
       "44. HR_neg\n",
       "45. HR_neg\n",
       "46. HR_neg\n",
       "47. HR_neg\n",
       "48. HR_neg\n",
       "49. LR_neg\n",
       "50. LR_neg\n",
       "51. LR_neg\n",
       "52. LR_neg\n",
       "53. LR_neg\n",
       "54. LR_neg\n",
       "55. HR_ASD\n",
       "56. HR_neg\n",
       "57. LR_neg\n",
       "58. LR_neg\n",
       "59. HR_neg\n",
       "60. HR_neg\n",
       "61. HR_neg\n",
       "62. LR_neg\n",
       "63. HR_ASD\n",
       "64. HR_ASD\n",
       "65. HR_ASD\n",
       "66. LR_neg\n",
       "67. HR_neg\n",
       "68. HR_neg\n",
       "69. HR_neg\n",
       "70. HR_ASD\n",
       "71. HR_ASD\n",
       "72. LR_neg\n",
       "73. LR_neg\n",
       "74. HR_ASD\n",
       "75. LR_neg\n",
       "76. LR_neg\n",
       "77. HR_neg\n",
       "78. HR_neg\n",
       "79. HR_neg\n",
       "80. HR_neg\n",
       "81. HR_neg\n",
       "82. HR_neg\n",
       "83. HR_neg\n",
       "84. HR_neg\n",
       "85. LR_neg\n",
       "86. HR_neg\n",
       "87. HR_ASD\n",
       "88. HR_neg\n",
       "89. HR_ASD\n",
       "90. HR_neg\n",
       "91. HR_neg\n",
       "92. LR_neg\n",
       "93. HR_neg\n",
       "94. HR_neg\n",
       "95. HR_neg\n",
       "96. LR_neg\n",
       "97. HR_neg\n",
       "98. HR_neg\n",
       "99. HR_neg\n",
       "100. HR_neg\n",
       "101. HR_neg\n",
       "102. HR_neg\n",
       "103. LR_neg\n",
       "104. HR_neg\n",
       "105. HR_neg\n",
       "106. HR_neg\n",
       "107. LR_neg\n",
       "108. HR_neg\n",
       "109. HR_neg\n",
       "110. HR_neg\n",
       "111. HR_neg\n",
       "112. HR_neg\n",
       "113. HR_neg\n",
       "114. HR_neg\n",
       "115. HR_neg\n",
       "116. HR_ASD\n",
       "117. HR_neg\n",
       "118. HR_neg\n",
       "119. HR_neg\n",
       "120. HR_neg\n",
       "121. HR_ASD\n",
       "122. HR_neg\n",
       "123. HR_ASD\n",
       "124. HR_neg\n",
       "125. HR_neg\n",
       "126. HR_neg\n",
       "127. HR_neg\n",
       "128. LR_neg\n",
       "129. HR_neg\n",
       "130. HR_neg\n",
       "131. HR_neg\n",
       "132. HR_ASD\n",
       "133. LR_neg\n",
       "134. LR_neg\n",
       "135. LR_neg\n",
       "136. LR_neg\n",
       "137. LR_neg\n",
       "138. LR_neg\n",
       "139. LR_neg\n",
       "140. LR_neg\n",
       "141. LR_neg\n",
       "142. HR_neg\n",
       "143. HR_neg\n",
       "144. HR_ASD\n",
       "145. HR_neg\n",
       "146. HR_neg\n",
       "147. LR_neg\n",
       "148. HR_ASD\n",
       "149. HR_ASD\n",
       "150. HR_ASD\n",
       "151. LR_neg\n",
       "152. HR_neg\n",
       "153. HR_neg\n",
       "154. HR_neg\n",
       "155. HR_neg\n",
       "156. HR_neg\n",
       "157. HR_neg\n",
       "158. HR_ASD\n",
       "159. HR_neg\n",
       "160. HR_neg\n",
       "161. HR_neg\n",
       "162. HR_neg\n",
       "163. HR_neg\n",
       "164. HR_neg\n",
       "165. HR_ASD\n",
       "166. HR_neg\n",
       "167. HR_ASD\n",
       "168. HR_neg\n",
       "169. LR_neg\n",
       "170. LR_neg\n",
       "171. LR_neg\n",
       "172. HR_neg\n",
       "173. HR_neg\n",
       "174. HR_neg\n",
       "175. HR_ASD\n",
       "176. LR_neg\n",
       "177. HR_neg\n",
       "178. HR_neg\n",
       "179. LR_neg\n",
       "180. HR_neg\n",
       "181. LR_neg\n",
       "182. HR_ASD\n",
       "183. LR_neg\n",
       "184. LR_neg\n",
       "185. HR_neg\n",
       "186. HR_ASD\n",
       "187. HR_neg\n",
       "188. HR_neg\n",
       "189. LR_neg\n",
       "190. LR_neg\n",
       "191. HR_neg\n",
       "192. HR_neg\n",
       "193. LR_neg\n",
       "194. LR_neg\n",
       "195. LR_neg\n",
       "196. LR_neg\n",
       "197. HR_neg\n",
       "198. LR_neg\n",
       "199. HR_neg\n",
       "200. HR_neg\n",
       "201. ⋯\n",
       "202. HR_neg\n",
       "203. HR_neg\n",
       "204. HR_neg\n",
       "205. LR_neg\n",
       "206. HR_neg\n",
       "207. LR_neg\n",
       "208. LR_neg\n",
       "209. LR_neg\n",
       "210. LR_neg\n",
       "211. LR_neg\n",
       "212. HR_neg\n",
       "213. LR_neg\n",
       "214. LR_neg\n",
       "215. LR_neg\n",
       "216. LR_neg\n",
       "217. HR_neg\n",
       "218. LR_neg\n",
       "219. LR_neg\n",
       "220. LR_neg\n",
       "221. LR_neg\n",
       "222. HR_ASD\n",
       "223. LR_neg\n",
       "224. LR_neg\n",
       "225. HR_neg\n",
       "226. HR_ASD\n",
       "227. HR_neg\n",
       "228. HR_ASD\n",
       "229. HR_neg\n",
       "230. HR_neg\n",
       "231. LR_neg\n",
       "232. HR_ASD\n",
       "233. HR_ASD\n",
       "234. HR_neg\n",
       "235. HR_neg\n",
       "236. HR_neg\n",
       "237. HR_neg\n",
       "238. HR_neg\n",
       "239. HR_neg\n",
       "240. HR_neg\n",
       "241. HR_neg\n",
       "242. LR_neg\n",
       "243. HR_neg\n",
       "244. LR_neg\n",
       "245. LR_neg\n",
       "246. LR_neg\n",
       "247. LR_neg\n",
       "248. LR_neg\n",
       "249. LR_neg\n",
       "250. LR_neg\n",
       "251. HR_neg\n",
       "252. LR_neg\n",
       "253. HR_neg\n",
       "254. HR_neg\n",
       "255. HR_neg\n",
       "256. HR_ASD\n",
       "257. HR_neg\n",
       "258. HR_neg\n",
       "259. HR_neg\n",
       "260. HR_neg\n",
       "261. HR_neg\n",
       "262. HR_neg\n",
       "263. HR_ASD\n",
       "264. HR_ASD\n",
       "265. HR_neg\n",
       "266. HR_neg\n",
       "267. HR_ASD\n",
       "268. LR_neg\n",
       "269. LR_neg\n",
       "270. HR_ASD\n",
       "271. LR_neg\n",
       "272. HR_neg\n",
       "273. HR_ASD\n",
       "274. LR_neg\n",
       "275. HR_neg\n",
       "276. HR_neg\n",
       "277. HR_neg\n",
       "278. HR_neg\n",
       "279. HR_neg\n",
       "280. LR_neg\n",
       "281. HR_ASD\n",
       "282. LR_neg\n",
       "283. LR_neg\n",
       "284. HR_neg\n",
       "285. HR_neg\n",
       "286. LR_neg\n",
       "287. HR_neg\n",
       "288. LR_neg\n",
       "289. HR_neg\n",
       "290. HR_neg\n",
       "291. LR_neg\n",
       "292. LR_neg\n",
       "293. LR_neg\n",
       "294. LR_neg\n",
       "295. HR_neg\n",
       "296. LR_neg\n",
       "297. HR_neg\n",
       "298. LR_neg\n",
       "299. HR_neg\n",
       "300. HR_neg\n",
       "301. HR_neg\n",
       "302. LR_ASD\n",
       "303. HR_neg\n",
       "304. HR_ASD\n",
       "305. HR_ASD\n",
       "306. HR_neg\n",
       "307. HR_neg\n",
       "308. HR_ASD\n",
       "309. HR_neg\n",
       "310. HR_ASD\n",
       "311. HR_neg\n",
       "312. HR_neg\n",
       "313. HR_neg\n",
       "314. HR_ASD\n",
       "315. HR_neg\n",
       "316. HR_neg\n",
       "317. HR_neg\n",
       "318. HR_neg\n",
       "319. HR_neg\n",
       "320. LR_neg\n",
       "321. HR_ASD\n",
       "322. HR_neg\n",
       "323. LR_neg\n",
       "324. LR_neg\n",
       "325. LR_neg\n",
       "326. LR_neg\n",
       "327. HR_ASD\n",
       "328. HR_ASD\n",
       "329. LR_neg\n",
       "330. HR_neg\n",
       "331. HR_neg\n",
       "332. HR_ASD\n",
       "333. HR_neg\n",
       "334. HR_neg\n",
       "335. HR_neg\n",
       "336. LR_neg\n",
       "337. LR_neg\n",
       "338. LR_neg\n",
       "339. HR_neg\n",
       "340. HR_neg\n",
       "341. HR_ASD\n",
       "342. LR_neg\n",
       "343. HR_neg\n",
       "344. LR_neg\n",
       "345. HR_neg\n",
       "346. LR_neg\n",
       "347. HR_neg\n",
       "348. LR_neg\n",
       "349. LR_neg\n",
       "350. LR_neg\n",
       "351. HR_neg\n",
       "352. HR_neg\n",
       "353. LR_neg\n",
       "354. HR_neg\n",
       "355. LR_neg\n",
       "356. HR_ASD\n",
       "357. LR_neg\n",
       "358. HR_neg\n",
       "359. LR_neg\n",
       "360. HR_neg\n",
       "361. LR_neg\n",
       "362. HR_ASD\n",
       "363. HR_ASD\n",
       "364. LR_neg\n",
       "365. HR_neg\n",
       "366. HR_neg\n",
       "367. HR_neg\n",
       "368. LR_neg\n",
       "369. LR_neg\n",
       "370. HR_neg\n",
       "371. HR_neg\n",
       "372. HR_ASD\n",
       "373. HR_neg\n",
       "374. HR_neg\n",
       "375. HR_neg\n",
       "376. HR_neg\n",
       "377. HR_neg\n",
       "378. HR_neg\n",
       "379. HR_neg\n",
       "380. HR_neg\n",
       "381. HR_neg\n",
       "382. LR_neg\n",
       "383. LR_neg\n",
       "384. HR_neg\n",
       "385. LR_neg\n",
       "386. LR_neg\n",
       "387. HR_neg\n",
       "388. LR_neg\n",
       "389. LR_neg\n",
       "390. HR_neg\n",
       "391. LR_neg\n",
       "392. HR_ASD\n",
       "393. HR_neg\n",
       "394. HR_neg\n",
       "395. LR_neg\n",
       "396. HR_neg\n",
       "397. LR_neg\n",
       "398. HR_neg\n",
       "399. LR_neg\n",
       "400. LR_neg\n",
       "401. LR_neg\n",
       "\n",
       "\n",
       "\n",
       "**Levels**: 1. 'LR_ASD'\n",
       "2. 'HR_ASD'\n",
       "3. 'HR_neg'\n",
       "4. 'LR_neg'\n",
       "\n",
       "\n"
      ],
      "text/plain": [
       "  [1] HR_ASD HR_ASD HR_ASD HR_ASD HR_neg HR_neg HR_ASD HR_ASD HR_neg HR_ASD\n",
       " [11] HR_neg HR_neg HR_neg HR_neg LR_neg HR_neg HR_ASD HR_neg HR_neg HR_neg\n",
       " [21] HR_neg HR_neg HR_neg HR_ASD HR_ASD HR_neg HR_neg LR_neg LR_neg HR_neg\n",
       " [31] HR_neg LR_neg LR_neg HR_neg LR_neg HR_neg LR_neg HR_neg HR_ASD HR_neg\n",
       " [41] LR_neg LR_neg LR_neg HR_neg HR_neg HR_neg HR_neg HR_neg LR_neg LR_neg\n",
       " [51] LR_neg LR_neg LR_neg LR_neg HR_ASD HR_neg LR_neg LR_neg HR_neg HR_neg\n",
       " [61] HR_neg LR_neg HR_ASD HR_ASD HR_ASD LR_neg HR_neg HR_neg HR_neg HR_ASD\n",
       " [71] HR_ASD LR_neg LR_neg HR_ASD LR_neg LR_neg HR_neg HR_neg HR_neg HR_neg\n",
       " [81] HR_neg HR_neg HR_neg HR_neg LR_neg HR_neg HR_ASD HR_neg HR_ASD HR_neg\n",
       " [91] HR_neg LR_neg HR_neg HR_neg HR_neg LR_neg HR_neg HR_neg HR_neg HR_neg\n",
       "[101] HR_neg HR_neg LR_neg HR_neg HR_neg HR_neg LR_neg HR_neg HR_neg HR_neg\n",
       "[111] HR_neg HR_neg HR_neg HR_neg HR_neg HR_ASD HR_neg HR_neg HR_neg HR_neg\n",
       "[121] HR_ASD HR_neg HR_ASD HR_neg HR_neg HR_neg HR_neg LR_neg HR_neg HR_neg\n",
       "[131] HR_neg HR_ASD LR_neg LR_neg LR_neg LR_neg LR_neg LR_neg LR_neg LR_neg\n",
       "[141] LR_neg HR_neg HR_neg HR_ASD HR_neg HR_neg LR_neg HR_ASD HR_ASD HR_ASD\n",
       "[151] LR_neg HR_neg HR_neg HR_neg HR_neg HR_neg HR_neg HR_ASD HR_neg HR_neg\n",
       "[161] HR_neg HR_neg HR_neg HR_neg HR_ASD HR_neg HR_ASD HR_neg LR_neg LR_neg\n",
       "[171] LR_neg HR_neg HR_neg HR_neg HR_ASD LR_neg HR_neg HR_neg LR_neg HR_neg\n",
       "[181] LR_neg HR_ASD LR_neg LR_neg HR_neg HR_ASD HR_neg HR_neg LR_neg LR_neg\n",
       "[191] HR_neg HR_neg LR_neg LR_neg LR_neg LR_neg HR_neg LR_neg HR_neg HR_neg\n",
       "[201] HR_neg HR_neg HR_neg LR_ASD HR_neg LR_neg LR_neg HR_neg HR_neg HR_neg\n",
       "[211] HR_neg HR_neg HR_neg HR_neg LR_neg LR_neg LR_neg LR_neg LR_neg HR_neg\n",
       "[221] HR_neg HR_neg HR_ASD HR_neg LR_neg HR_ASD LR_neg LR_neg LR_neg LR_neg\n",
       "[231] HR_neg HR_ASD HR_neg LR_neg HR_neg HR_neg HR_ASD LR_ASD LR_neg HR_ASD\n",
       "[241] LR_neg LR_neg LR_neg LR_neg HR_ASD HR_neg HR_ASD HR_neg HR_neg HR_neg\n",
       "[251] HR_neg LR_neg HR_neg HR_neg HR_ASD HR_neg LR_neg HR_neg LR_neg HR_neg\n",
       "[261] HR_neg HR_ASD HR_ASD HR_ASD HR_ASD HR_ASD HR_neg HR_ASD LR_neg LR_neg\n",
       "[271] LR_neg LR_neg HR_neg LR_neg LR_neg HR_neg HR_neg HR_neg HR_ASD HR_neg\n",
       "[281] HR_neg HR_neg HR_ASD LR_neg LR_neg HR_neg HR_ASD HR_neg HR_ASD HR_ASD\n",
       "[291] HR_neg HR_neg HR_neg LR_neg HR_ASD HR_ASD HR_neg LR_neg HR_neg HR_neg\n",
       "[301] HR_neg HR_neg HR_neg HR_neg HR_neg HR_neg HR_neg HR_neg HR_neg HR_neg\n",
       "[311] HR_neg HR_neg HR_neg HR_neg HR_neg HR_neg HR_neg HR_ASD HR_ASD HR_neg\n",
       "[321] HR_neg HR_neg HR_neg HR_neg HR_ASD HR_neg HR_neg HR_neg HR_neg HR_neg\n",
       "[331] HR_neg HR_neg HR_neg HR_neg HR_ASD HR_neg HR_neg LR_neg HR_neg HR_neg\n",
       "[341] HR_neg HR_neg HR_neg HR_neg HR_neg LR_neg HR_ASD LR_neg LR_neg HR_neg\n",
       "[351] HR_neg HR_ASD LR_neg HR_neg HR_neg HR_neg HR_neg HR_neg HR_ASD HR_neg\n",
       "[361] HR_neg HR_neg HR_ASD HR_neg HR_neg HR_neg HR_neg HR_neg HR_neg HR_neg\n",
       "[371] HR_neg LR_neg LR_neg HR_ASD HR_neg HR_neg HR_neg HR_neg HR_neg HR_neg\n",
       "[381] HR_ASD HR_ASD LR_neg HR_neg HR_ASD HR_neg HR_ASD HR_neg HR_neg HR_neg\n",
       "[391] LR_neg HR_neg LR_neg LR_neg LR_neg LR_neg LR_neg HR_neg LR_neg LR_neg\n",
       "[401] LR_neg LR_neg HR_neg LR_neg LR_neg LR_neg LR_neg HR_ASD LR_neg LR_neg\n",
       "[411] HR_neg HR_ASD HR_neg HR_ASD HR_neg HR_neg LR_neg HR_ASD HR_ASD HR_neg\n",
       "[421] HR_neg HR_neg HR_neg HR_neg HR_neg HR_neg HR_neg LR_neg HR_neg LR_neg\n",
       "[431] LR_neg LR_neg LR_neg LR_neg LR_neg LR_neg HR_neg LR_neg HR_neg HR_neg\n",
       "[441] HR_neg HR_ASD HR_neg HR_neg HR_neg HR_neg HR_neg HR_neg HR_ASD HR_ASD\n",
       "[451] HR_neg HR_neg HR_ASD LR_neg LR_neg HR_ASD LR_neg HR_neg HR_ASD LR_neg\n",
       "[461] HR_neg HR_neg HR_neg HR_neg HR_neg LR_neg HR_ASD LR_neg LR_neg HR_neg\n",
       "[471] HR_neg LR_neg HR_neg LR_neg HR_neg HR_neg LR_neg LR_neg LR_neg LR_neg\n",
       "[481] HR_neg LR_neg HR_neg LR_neg HR_neg HR_neg HR_neg LR_ASD HR_neg HR_ASD\n",
       "[491] HR_ASD HR_neg HR_neg HR_ASD HR_neg HR_ASD HR_neg HR_neg HR_neg HR_ASD\n",
       "[501] HR_neg HR_neg HR_neg HR_neg HR_neg LR_neg HR_ASD HR_neg LR_neg LR_neg\n",
       "[511] LR_neg LR_neg HR_ASD HR_ASD LR_neg HR_neg HR_neg HR_ASD HR_neg HR_neg\n",
       "[521] HR_neg LR_neg LR_neg LR_neg HR_neg HR_neg HR_ASD LR_neg HR_neg LR_neg\n",
       "[531] HR_neg LR_neg HR_neg LR_neg LR_neg LR_neg HR_neg HR_neg LR_neg HR_neg\n",
       "[541] LR_neg HR_ASD LR_neg HR_neg LR_neg HR_neg LR_neg HR_ASD HR_ASD LR_neg\n",
       "[551] HR_neg HR_neg HR_neg LR_neg LR_neg HR_neg HR_neg HR_ASD HR_neg HR_neg\n",
       "[561] HR_neg HR_neg HR_neg HR_neg HR_neg HR_neg HR_neg LR_neg LR_neg HR_neg\n",
       "[571] LR_neg LR_neg HR_neg LR_neg LR_neg HR_neg LR_neg HR_ASD HR_neg HR_neg\n",
       "[581] LR_neg HR_neg LR_neg HR_neg LR_neg LR_neg LR_neg\n",
       "Levels: LR_ASD HR_ASD HR_neg LR_neg"
      ]
     },
     "metadata": {},
     "output_type": "display_data"
    }
   ],
   "source": [
    "# voir le niveau de reference\n",
    "data_complete_2 <- data_complete %>%\n",
    "    mutate(GROUP=factor(GROUP) %>%\n",
    "           relevel(ref=\"LR_ASD\"))\n",
    "\n",
    "data_complete_2$GROUP  # est un facteur, LR_ASD est le premier niveau"
   ]
  },
  {
   "cell_type": "code",
   "execution_count": 52,
   "id": "71e84816",
   "metadata": {},
   "outputs": [
    {
     "data": {
      "text/plain": [
       "\n",
       "Call:\n",
       "lm(formula = V12.aosi.total_score_1_18 ~ V12.mullen.composite_standard_score + \n",
       "    GROUP, data = data_complete_2)\n",
       "\n",
       "Residuals:\n",
       "    Min      1Q  Median      3Q     Max \n",
       "-6.2913 -2.3751 -0.6146  2.1165 16.3076 \n",
       "\n",
       "Coefficients:\n",
       "                                    Estimate Std. Error t value Pr(>|t|)    \n",
       "(Intercept)                          9.69470    2.27086   4.269 2.34e-05 ***\n",
       "V12.mullen.composite_standard_score -0.05988    0.01157  -5.176 3.27e-07 ***\n",
       "GROUPHR_ASD                          3.16309    1.98818   1.591    0.112    \n",
       "GROUPHR_neg                          1.20740    1.95985   0.616    0.538    \n",
       "GROUPLR_neg                          0.62383    1.97034   0.317    0.752    \n",
       "---\n",
       "Signif. codes:  0 '***' 0.001 '**' 0.01 '*' 0.05 '.' 0.1 ' ' 1\n",
       "\n",
       "Residual standard error: 3.377 on 507 degrees of freedom\n",
       "  (75 observations deleted due to missingness)\n",
       "Multiple R-squared:  0.1354,\tAdjusted R-squared:  0.1285 \n",
       "F-statistic: 19.84 on 4 and 507 DF,  p-value: 3.439e-15\n"
      ]
     },
     "metadata": {},
     "output_type": "display_data"
    }
   ],
   "source": [
    "# Adapter le modèle aux données et sauvegarder les résultats en tant qu'objets\n",
    "aosi_exp2_2_fit <- lm(V12.aosi.total_score_1_18 ~ V12.mullen.composite_standard_score + GROUP,\n",
    "                     data = data_complete_2)\n",
    "\n",
    "summary(aosi_exp2_2_fit)"
   ]
  },
  {
   "cell_type": "code",
   "execution_count": 53,
   "id": "83475900",
   "metadata": {},
   "outputs": [
    {
     "data": {
      "text/html": [
       "<strong>$GROUP</strong> = <style>\n",
       ".list-inline {list-style: none; margin:0; padding: 0}\n",
       ".list-inline>li {display: inline-block}\n",
       ".list-inline>li:not(:last-child)::after {content: \"\\00b7\"; padding: 0 .5ex}\n",
       "</style>\n",
       "<ol class=list-inline><li>'LR_ASD'</li><li>'HR_ASD'</li><li>'HR_neg'</li><li>'LR_neg'</li></ol>\n"
      ],
      "text/latex": [
       "\\textbf{\\$GROUP} = \\begin{enumerate*}\n",
       "\\item 'LR\\_ASD'\n",
       "\\item 'HR\\_ASD'\n",
       "\\item 'HR\\_neg'\n",
       "\\item 'LR\\_neg'\n",
       "\\end{enumerate*}\n"
      ],
      "text/markdown": [
       "**$GROUP** = 1. 'LR_ASD'\n",
       "2. 'HR_ASD'\n",
       "3. 'HR_neg'\n",
       "4. 'LR_neg'\n",
       "\n",
       "\n"
      ],
      "text/plain": [
       "$GROUP\n",
       "[1] \"LR_ASD\" \"HR_ASD\" \"HR_neg\" \"LR_neg\"\n"
      ]
     },
     "metadata": {},
     "output_type": "display_data"
    }
   ],
   "source": [
    "aosi_exp2_2_fit$xlevels  # LR_ASD est le premier niveau"
   ]
  },
  {
   "cell_type": "markdown",
   "id": "82ff12ec",
   "metadata": {},
   "source": [
    "Rappelons-nous que lorsque nous ajustons le modèle en utilisant HR:ASD comme groupe de référence, deux des coefficients du groupe de diagnostic étaient fortement significatifs. Cependant, avec LR:ASD comme groupe de référence, aucun n'était significatif à partir de 0 en fonction des valeurs de $p$ des estimations des coefficients. Nous discuterons plus tard de la manière de calculer **toutes** les comparaisons de groupe par paires afin de pouvoir calculer ces deux ensembles de résultats indépendamment de ce que le groupe de référence est.\n",
    "\n",
    "Lorsque nous incluons un prédicteur catégorique dans le modèle, il est courant de tester si tous les coefficients relatifs aux différents niveaux du prédicteur sont égaux à 0. Cela peut être considéré comme analogue à un test $F$ pour une différence de groupe globale lors de la réalisation d'une ANOVA, les tests $t$ individuels des coefficients de régression étant comparables aux tests $t$ \"post-hoc\" par paires avec une ANOVA. En termes de modèle de régression, ce test $F$ considère l'hypothèse nulle de :\n",
    "\n",
    "$$H_{0} : \\beta_2=\\beta_3=\\beta_4=0$$\n",
    "\n",
    "Nous pouvons effectuer ce test à l'aide de la fonction **`aov()`** avec l'objet de modèle retourné par `lm()`, et en sauvegardant cette sortie comme un objet. Ensuite, utilisons `summary()` avec cet objet pour visualiser les résultats du test d'hypothèse, comme indiqué dans l'exemple ci-dessous. Notons que comme avec `lm()`, l'objet retourné par `aov()` inclut de nombreux autres composants, bien que `summary()` affiche les résultats dont nous avons besoin pour cet exemple. Ces composants supplémentaires sont accessibles en utilisant `$` **car l'objet retourné est une liste.** Remarquons que les deux retournent les mêmes résultats de test d'hypothèse, même statistique de test, degrés de liberté et valeur $p.$\n"
   ]
  },
  {
   "cell_type": "code",
   "execution_count": 54,
   "id": "33df997c",
   "metadata": {},
   "outputs": [
    {
     "data": {
      "text/plain": [
       "                                     Df Sum Sq Mean Sq F value   Pr(>F)    \n",
       "V12.mullen.composite_standard_score   1    588   587.6  51.533 2.52e-12 ***\n",
       "GROUP                                 3    317   105.8   9.278 5.55e-06 ***\n",
       "Residuals                           507   5781    11.4                     \n",
       "---\n",
       "Signif. codes:  0 '***' 0.001 '**' 0.01 '*' 0.05 '.' 0.1 ' ' 1\n",
       "75 observations deleted due to missingness"
      ]
     },
     "metadata": {},
     "output_type": "display_data"
    }
   ],
   "source": [
    "# Utiliser le 1er modèle avec 'HR:ASD' comme niveau de reference\n",
    "test_f_fit_1 <- aov(aosi_exp2_fit)\n",
    "summary(test_f_fit_1)"
   ]
  },
  {
   "cell_type": "code",
   "execution_count": 55,
   "id": "61ba4c12",
   "metadata": {},
   "outputs": [
    {
     "data": {
      "text/plain": [
       "                                     Df Sum Sq Mean Sq F value   Pr(>F)    \n",
       "V12.mullen.composite_standard_score   1    588   587.6  51.533 2.52e-12 ***\n",
       "GROUP                                 3    317   105.8   9.278 5.55e-06 ***\n",
       "Residuals                           507   5781    11.4                     \n",
       "---\n",
       "Signif. codes:  0 '***' 0.001 '**' 0.01 '*' 0.05 '.' 0.1 ' ' 1\n",
       "75 observations deleted due to missingness"
      ]
     },
     "metadata": {},
     "output_type": "display_data"
    }
   ],
   "source": [
    "# Utiliser le 2ème modèle avec 'LR:ASD' comme niveau de reference\n",
    "test_f_fit_2 <- aov(aosi_exp2_2_fit)\n",
    "summary(test_f_fit_2)"
   ]
  },
  {
   "cell_type": "code",
   "execution_count": 56,
   "id": "3de792db",
   "metadata": {},
   "outputs": [
    {
     "data": {
      "text/plain": [
       "Call:\n",
       "   aov(formula = aosi_exp2_2_fit)\n",
       "\n",
       "Terms:\n",
       "                V12.mullen.composite_standard_score    GROUP Residuals\n",
       "Sum of Squares                              587.580  317.369  5780.855\n",
       "Deg. of Freedom                                   1        3       507\n",
       "\n",
       "Residual standard error: 3.376697\n",
       "Estimated effects may be unbalanced\n",
       "75 observations deleted due to missingness"
      ]
     },
     "metadata": {},
     "output_type": "display_data"
    }
   ],
   "source": [
    "# autres composante sauvegardées dans test_f_fit_2\n",
    "test_f_fit_2 # retourne le tableau de la somme des carrées"
   ]
  },
  {
   "cell_type": "markdown",
   "id": "5665f7b5",
   "metadata": {},
   "source": [
    "Souvent, nous sommes également intéressés à calculer et comparer les **moyennes des moindres carrés**. Rappelons-nous que notre modèle de régression linéaire dans cet exemple est le suivant :\n",
    "\n",
    "$$AOSI=\\beta_0+\\beta_1Mullen+\\beta_2LRneg+\\beta_3HRasd+\\beta_4HRneg+\\varepsilon$$\n",
    "\n",
    "En raison de l'utilisation du codage par variables fictives, les moyennes pour le score total de l'AOSI dans les différents groupes de diagnostic sont les suivantes :\n",
    "\n",
    "1) pour LR: ASD Positive, $\\beta_0+\\beta_1Mullen$\n",
    "\n",
    "2) pour LR: ASD Negative, $\\beta_0+\\beta_1Mullen+\\beta_2$\n",
    "\n",
    "3) pour HR: ASD Positive, $\\beta_0+\\beta_1Mullen+\\beta_3$\n",
    "\n",
    "4) pour HR: ASD Negative, $\\beta_0+\\beta_1Mullen+\\beta_4$\n",
    "\n",
    "Nous voyons que nous avons des moyennes dans les groupes de diagnostic ASD qui sont également basées sur leurs valeurs des autres prédicteurs dans le modèle, dans ce cas seulement le score composite de Mullen. Pour calculer les moyennes des moindres carrés pour chaque groupe de diagnostic, nous utilisons simplement des valeurs spécifiques pour le score composite de Mullen. Habituellement, la valeur moyenne ou médiane de l'échantillon est utilisée. En ce sens, nous rapportons les moyennes des scores totaux de l'AOSI pour chaque groupe de diagnostic ASD, contrôlées pour les autres prédicteurs dans le modèle. Plus précisément, nous rapportons les moyennes des scores totaux de l'AOSI pour chaque groupe de diagnostic ASD, aux valeurs moyennes/médianes des autres prédicteurs.\n",
    "\n",
    "Pour calculer cela dans R, vous avez besoin du package **`lsmeans`** (ls : \"least square\"). Ensuite, nous utilisons la fonction **`lsmeans()`** avec l'objet de `lm()` comme argument, avec **`~x `** où x est le nom de la variable catégorielle dans le modèle. Pour voir quelles valeurs pour les autres prédicteurs sont utilisées pour les calculs des moyennes des moindres carrés (dans cet exemple, le score composite de Mullen), spécifier la fonction **`ref.grid()`** avec l'objet de `lm()` comme argument. Lorsque `ref.grid()` est appelé ici, nous pouvons voir que le score composite de $Mullen = 101.1$ est utilisé (le score Mullen moyen, voir le code ci-dessous). Ainsi, la moyenne des moindres carrés estimée pour LR:ASD Positive est\n",
    "\n",
    "$$\\hat{\\beta}_0+\\hat{\\beta}_1*101.1$$\n",
    "\n",
    "avec les autres moyennes des moindres carrés estimées définies de manière similaire. Nous avons des options supplémentaires lors du calcul de ces moyennes, pour plus de détails, consulter la documentation du package lsmeans.\n"
   ]
  },
  {
   "cell_type": "code",
   "execution_count": 57,
   "id": "34ea0797",
   "metadata": {},
   "outputs": [],
   "source": [
    "#install.packages(\"lsmeans\")\n",
    "library(lsmeans)"
   ]
  },
  {
   "cell_type": "code",
   "execution_count": 58,
   "id": "be560d7d",
   "metadata": {},
   "outputs": [
    {
     "data": {
      "text/plain": [
       " V12.mullen.composite_standard_score GROUP  prediction    SE  df\n",
       "                                 101 LR_ASD       3.64 1.950 507\n",
       "                                 101 HR_ASD       6.80 0.391 507\n",
       "                                 101 HR_neg       4.85 0.201 507\n",
       "                                 101 LR_neg       4.26 0.285 507\n"
      ]
     },
     "metadata": {},
     "output_type": "display_data"
    }
   ],
   "source": [
    "ref.grid(aosi_exp2_2_fit)"
   ]
  },
  {
   "cell_type": "code",
   "execution_count": 59,
   "id": "7db492fd",
   "metadata": {},
   "outputs": [
    {
     "data": {
      "text/plain": [
       " GROUP  lsmean    SE  df lower.CL upper.CL\n",
       " LR_ASD   3.64 1.950 507   -0.189     7.47\n",
       " HR_ASD   6.80 0.391 507    6.035     7.57\n",
       " HR_neg   4.85 0.201 507    4.454     5.24\n",
       " LR_neg   4.26 0.285 507    3.706     4.82\n",
       "\n",
       "Confidence level used: 0.95 "
      ]
     },
     "metadata": {},
     "output_type": "display_data"
    }
   ],
   "source": [
    "lsmeans(aosi_exp2_2_fit, ~GROUP)"
   ]
  },
  {
   "cell_type": "code",
   "execution_count": 60,
   "id": "0679aed3",
   "metadata": {},
   "outputs": [
    {
     "data": {
      "text/html": [
       "101.174904942966"
      ],
      "text/latex": [
       "101.174904942966"
      ],
      "text/markdown": [
       "101.174904942966"
      ],
      "text/plain": [
       "[1] 101.1749"
      ]
     },
     "metadata": {},
     "output_type": "display_data"
    }
   ],
   "source": [
    "# égale à 101. R utilise la moyenne de \"Mullen composite score\" dans les calculs\n",
    "mean(data_complete_2$V12.mullen.composite_standard_score, na.rm = TRUE)"
   ]
  },
  {
   "cell_type": "markdown",
   "id": "6de569c7",
   "metadata": {},
   "source": [
    "<a id=\"5\"></a>\n",
    "\n",
    "### 1.2.3) Diagnostics\n",
    "\n",
    "Rappelons-nous que les principales hypothèses lors de l'ajustement d'un modèle de régression à nos données sont les suivantes :\n",
    "\n",
    "**1)** La moyenne de $Y$ sachant $X$ est une fonction linéaire de $X$\n",
    "\n",
    "**2)** À travers les valeurs de $X$, les termes d'erreur ont des variances égales (appelées *homoscédasticité*).\n",
    "\n",
    "**3)** À travers les valeurs de $X$, les termes d'erreur sont distribués normalement ou bien la taille de l'échantillon est suffisamment grande pour que l'approximation à grande échelle soit précise.\n",
    "\n",
    "**4)** Tous les termes d'erreur dans les données sont indépendants.\n",
    "\n",
    "qui doivent être vérifiées dans nos données. Une méthode sous-optimale pour vérifier **1)** est de visualiser un nuage de points de $Y$ par $X$, avec un lisseur linéaire (linear smoother) tel que **`LOESS`** (voir le notebook sur [ggplot2](https://github.com/Dahamey/R/tree/main/R%20%20-%20Fr/ggplot2)). Nous recherchons des preuves d'une relation non linéaire en utilisant ce lisseur linéaire. Cependant, cela est sous-optimal car si d'autres prédicteurs sont inclus dans le modèle tels que $Z$, simplement regarder $Y$ par $X$ ne fournit pas d'informations sur la relation entre $Y$ et $X$ et $Z$ conjointement. Un exemple est fourni ci-dessous avec l'exemple du score total de l'AOSI par le score composite de Mullen. La vérification de **4)** est effectuée en fonction de la conception de l'étude à partir de laquelle les données proviennent.\n"
   ]
  },
  {
   "cell_type": "code",
   "execution_count": 61,
   "id": "039492de",
   "metadata": {},
   "outputs": [
    {
     "name": "stderr",
     "output_type": "stream",
     "text": [
      "\u001b[1m\u001b[22m`geom_smooth()` using formula = 'y ~ x'\n",
      "Warning message:\n",
      "\"\u001b[1m\u001b[22mRemoved 75 rows containing non-finite outside the scale range (`stat_smooth()`).\"\n",
      "Warning message:\n",
      "\"\u001b[1m\u001b[22mRemoved 75 rows containing missing values or values outside the scale range (`geom_point()`).\"\n"
     ]
    },
    {
     "data": {
      "image/png": "[encoded data removed]",
      "text/plain": [
       "plot without title"
      ]
     },
     "metadata": {
      "image/png": {
       "height": 420,
       "width": 420
      }
     },
     "output_type": "display_data"
    }
   ],
   "source": [
    "ggplot(data = data_complete, aes(x=V12.mullen.composite_standard_score, y=V12.aosi.total_score_1_18))+\n",
    "    geom_point()+\n",
    "    geom_smooth(method=\"loess\")+ # non-linear\n",
    "    labs(x=\"Score Standard Composite de Mullen\",\n",
    "        y =\"AOSI Score Total\",\n",
    "        title = \"Nuage de Points du Score Standard Composite de Mullen\\net Score Total d'AOSI au mois 12\")"
   ]
  },
  {
   "cell_type": "markdown",
   "id": "f5a845ca",
   "metadata": {},
   "source": [
    "Pour vérifier **2)**, nous devons examiner les résidus pour les différents sujets et visualiser leur variance. Considérons l'Exemple 1 précédent, où le modèle était le suivant :\n",
    "\n",
    "$$AOSI=\\beta_0+\\beta_1Mullen+\\beta_2Age+\\varepsilon$$\n",
    "\n",
    "$\\mathbb{E}(\\varepsilon)=0$, $Var(\\varepsilon)=\\sigma^2$, et tous les $\\varepsilon$ sont indépendants.\n",
    "\n",
    "Laissons $\\hat{\\beta_0}, \\hat{\\beta_1},$ et $\\hat{\\beta_2}$ désigner les paramètres de régression estimés, et $\\widehat{AOSI}$ désigner une valeur prédite de AOSI. Une façon de prédire AOSI à partir de notre modèle est la suivante :\n",
    "\n",
    "$$\\widehat{AOSI}=\\hat{\\beta_0}+\\hat{\\beta_1}Mullen+\\hat{\\beta_2}Age$$\n",
    "\n",
    "que nous désignons comme la **valeur ajustée** pour AOSI. La différence entre la valeur prédite du sujet à partir du modèle et leur valeur observée à partir des données est désignée par :\n",
    "\n",
    "$$\\hat{\\varepsilon}=AOSI-\\widehat{AOSI}$$\n",
    "\n",
    "et représente \"l'erreur\" de notre modèle, souvent appelée le **résidu**.\n",
    "\n",
    "Pour vérifier **2)**, nous avons besoin d'un nuage de points de chaque résidu du sujet par leur valeur ajustée, et d'observer leur variance dans le graphique. Pour accéder aux résidus, nous pouvons utiliser l'objet créé par `lm()`, l'un des composants stockés est un vecteur des résidus. De même, les valeurs ajustées peuvent également être extraites de cet objet. Dans l'exemple ci-dessous, un ensemble de données contenant ces résidus et valeurs ajustées est créé à l'aide de la fonction **`data.frame()`**. Lorsqu'on lui donne un ensemble de vecteurs, cette fonction créera un data frame avec ces vecteurs comme colonnes/variables. Ensuite, `ggplot2` peut être utilisé pour tracer les résidus par les valeurs ajustées.\n"
   ]
  },
  {
   "cell_type": "code",
   "execution_count": 62,
   "id": "96c23e3d",
   "metadata": {},
   "outputs": [
    {
     "data": {
      "image/png": "[encoded data removed]",
      "text/plain": [
       "plot without title"
      ]
     },
     "metadata": {
      "image/png": {
       "height": 420,
       "width": 420
      }
     },
     "output_type": "display_data"
    }
   ],
   "source": [
    "fit <- lm(V12.aosi.total_score_1_18 ~ V12.mullen.composite_standard_score+V12.mullen.Candidate_Age,\n",
    "         data = data_complete)\n",
    "\n",
    "fit_data <- data.frame(fit$residuals, fit$fitted.values)\n",
    "\n",
    "ggplot(data=fit_data, aes(y=fit.residuals, x=fit.fitted.values))+\n",
    "    geom_point()+\n",
    "    labs(x=\"Valeur adaptée (Fitted Value)\",\n",
    "        y=\"Résidu (Residual)\",\n",
    "        title=\"Nuage de Points du résidu en Fonction des Valeurs Adaptées \\nPour Le Modèle de Régression AOSI\")"
   ]
  },
  {
   "cell_type": "markdown",
   "id": "c42bd91f",
   "metadata": {},
   "source": [
    "Pour vérifier les hypothèses (assumptions) du modèle, nous cherchons à ce que la dispersion des données soit constante le long de l'axe des x, essentiellement, nous voulons que la variance des résidus soit constante sur toutes les valeurs ajustées. Plus explicitement, nous aimerions un graphique similaire au Cas 1 dans l'image ci-dessous, pour le Cas 2, la variance des résidus est plus élevée dans la plage médiane des valeurs ajustées.\n",
    "\n",
    "![alt](trace_de_diagnostics.jpg)\n"
   ]
  },
  {
   "cell_type": "markdown",
   "id": "8dd6ef98",
   "metadata": {},
   "source": [
    "Pour vérifier **3),** nous devons visualiser la distribution des résidus et la comparer à une distribution normale. Cela se fait généralement en créant un **graphique quantile-quantile (QQ plot) des résidus.** Idéalement, les points de données devraient se situer directement sur la ligne à 45 degrés fournie dans le graphique, tout écart par rapport à cette ligne indique une certaine déviation par rapport à la distribution normale. Souvent, les queues inférieure et supérieure des données dévieront de la ligne.\n"
   ]
  },
  {
   "cell_type": "code",
   "execution_count": 63,
   "id": "542eda31",
   "metadata": {},
   "outputs": [
    {
     "data": {
      "image/png": "[encoded data removed]",
      "text/plain": [
       "Plot with title \"Normal Q-Q Plot\""
      ]
     },
     "metadata": {
      "image/png": {
       "height": 420,
       "width": 420
      }
     },
     "output_type": "display_data"
    }
   ],
   "source": [
    "qqnorm(y = fit_data$fit.residuals)\n",
    "qqline(y=fit_data$fit.residuals, datax = FALSE)"
   ]
  },
  {
   "cell_type": "markdown",
   "id": "b7cc404d",
   "metadata": {},
   "source": [
    "Dans l'exemple du score total de l'AOSI par le score composite de Mullen, la section médiane des points de données tombe sur la ligne ou très proche de celle-ci tandis qu'il y a une déviation notable aux extrémités supérieure et inférieure. La taille de cette déviation peut être préoccupante, cependant, en raison de la grande taille de l'échantillon (environ 500 sujets), une approximation à la distribution normale pour un grand échantillon peut être utilisée. Par conséquent, la déviation aux extrémités n'invalide pas le modèle de régression utilisé."
   ]
  },
  {
   "cell_type": "markdown",
   "id": "ddb23881",
   "metadata": {},
   "source": [
    "<a id=\"6\"></a>\n",
    "\n",
    "### 1.2.4) ANOVA et ANCOVA\n",
    "\n",
    "Une des analyses statistiques les plus courantes est l'**ANOVA.** Nous avons déjà discuté de cette méthode d'analyse dans [Les Concepts Statistiques Fondamentaux dans R](https://github.com/Dahamey/R/tree/main/R%20%20-%20Fr/Les%20Concepts%20Statistiques%20Fondamentaux%20dans%20R). Ici, nous montrons comment l'ANOVA est équivalente à un cas spécifique de régression linéaire. Nous définissons également et discutons de l'**ANCOVA.** Notons que l'ANCOVA est définie différemment selon certaines disciplines scientifiques, la définition utilisée ici est courante en statistique. Le message principal de cette section est que l'ANOVA et l'ANCOVA ne sont que des cas spéciaux d'un modèle de régression linéaire.\n",
    "\n",
    "* <span style=\"color:blue\"><u>**Pour l'ANOVA**</u></span> **:**\n",
    "\n",
    "Nous avons des observations de deux groupes ou plus. Par exemple, supposons que nous souhaitons comparer le score total de l'AOSI à 12 mois selon le groupe de diagnostic à 24 mois. Supposons que les catégories de groupe de diagnostic sont : Risque élevé : ASD négatif (HR:ASD Negative), Risque élevé : ASD positif (HR:ASD Positive), Risque faible : ASD positif (LR:ASD Positive) et Risque faible : ASD négatif (LR:ASD Negative). "
   ]
  },
  {
   "cell_type": "code",
   "execution_count": 31,
   "id": "e2198f60",
   "metadata": {},
   "outputs": [
    {
     "data": {
      "text/html": [
       "<style>\n",
       ".list-inline {list-style: none; margin:0; padding: 0}\n",
       ".list-inline>li {display: inline-block}\n",
       ".list-inline>li:not(:last-child)::after {content: \"\\00b7\"; padding: 0 .5ex}\n",
       "</style>\n",
       "<ol class=list-inline><li>'HR_ASD'</li><li>'HR_neg'</li><li>'LR_neg'</li><li>'LR_ASD'</li></ol>\n"
      ],
      "text/latex": [
       "\\begin{enumerate*}\n",
       "\\item 'HR\\_ASD'\n",
       "\\item 'HR\\_neg'\n",
       "\\item 'LR\\_neg'\n",
       "\\item 'LR\\_ASD'\n",
       "\\end{enumerate*}\n"
      ],
      "text/markdown": [
       "1. 'HR_ASD'\n",
       "2. 'HR_neg'\n",
       "3. 'LR_neg'\n",
       "4. 'LR_ASD'\n",
       "\n",
       "\n"
      ],
      "text/plain": [
       "[1] \"HR_ASD\" \"HR_neg\" \"LR_neg\" \"LR_ASD\""
      ]
     },
     "metadata": {},
     "output_type": "display_data"
    }
   ],
   "source": [
    "unique(data_complete$GROUP)"
   ]
  },
  {
   "cell_type": "markdown",
   "id": "11f14417",
   "metadata": {},
   "source": [
    "Nous voulons comparer les moyennes des scores composites de Mullen à 24 mois entre ces groupes. Considérons le modèle de régression linéaire suivant :\n",
    "\n",
    "$$AOSI=\\beta_0+\\beta_1LRneg+\\beta_2HRasd+\\beta_3HRneg+\\epsilon$$\n",
    "\n",
    "$\\mathbb{E}(\\varepsilon)=0$, $Var(\\varepsilon)=\\sigma^2$, et tous les $\\varepsilon$ sont indépendants.\n",
    "\n",
    "où $LRneg, HRasd$ et $HRneg$ sont les variables factices (dummy variables) définies dans l'exemple 2 ci-dessus.\n",
    "\n",
    "À partir de ce modèle, nous pouvons écrire les moyennes des scores AOSI pour chaque groupe en définissant la variable factice à 1 pour ce groupe et les autres à 0 (rappel : le groupe de référence pour ce modèle est Risque faible : ASD positif `LR_ASD`).\n",
    "\n",
    "\n",
    "$\\mbox{E}(AOSI|\\mbox{LR:ASD Positive})=\\beta_0$ (toutes les variables factices = 0)\n",
    "\n",
    "$\\mbox{E}(AOSI|\\mbox{LR:ASD Negative})=\\beta_0+\\beta_1$\n",
    "\n",
    "$\\mbox{E}(AOSI|\\mbox{HR:ASD Positive})=\\beta_0+\\beta_2$\n",
    "\n",
    "$\\mbox{E}(AOSI|\\mbox{HR:ASD Negative})=\\beta_0+\\beta_3$\n",
    "\n",
    "Nous pouvons voir que si nous voulons comparer les moyennes entre \"LR : ASD Négatif\" et \"LR : ASD Positif\" (référence), nous comparons $\\beta_0+\\beta_1-(\\beta_0)=\\beta_1$ à 0. Si $\\beta_1=0$, alors les moyennes des deux groupes sont égales, sinon elles sont différentes. De même, pour comparer \"HR : ASD Positif\" et \"LR : ASD Positif\" (référence), nous comparons $\\beta_2$ à 0 et pour comparer HR : ASD Négatif et LR : ASD Positif (référence), nous comparons $\\beta_3$ à 0.\n",
    "\n",
    "En fait, chaque comparaison de groupe par paire consiste à comparer l'un des $\\beta_1, \\beta_2$ et $\\beta_3$ à 0. De plus, nous pouvons voir à partir des quatre moyennes ci-dessus que si tous les groupes ont la même moyenne, $\\beta_1=\\beta_2=\\beta_3=0$. C'est exactement le même cadre que l'ANOVA, à partir de ce modèle de régression linéaire, nous pouvons comparer toutes les moyennes des groupes, ainsi que toutes les comparaisons par paires.\n",
    "\n",
    "Rappelons-nous que nous supposons que les résidus de chaque sujet sont indépendants et que chaque résidu suit une distribution normale avec la même variance. **Ces hypothèses (assumptions) sont les mêmes que celles de l'ANOVA : observations indépendantes, distribution normale et variance égale entre les groupes (homoscédasticité).**\n",
    "\n",
    "Enfin, rappelons que dans l'ANOVA, le **test global pour des moyennes égales utilise une distribution $F$ et que les tests par paires utilisent une distribution $T$.** C'est la même chose que dans le modèle de régression ci-dessus. Puisque tester $\\beta_1=\\beta_2=\\beta_3=0$ teste plusieurs paramètres de régression, nous avons appris que le test utilise une distribution $F.$ Comme discuté précédemment, il s'avère que tester si un seul coefficient de régression est égal à $0$ utilise une distribution $T.$\n",
    "\n",
    "![alt](F_distribution.jpg)\n",
    "\n",
    "Nous pouvons voir l'égalité entre l'ANOVA et le modèle de régression ci-dessus en exécutant les deux analyses dans R. Lors de l'exécution d'une régression linéaire, pour tester l'hypothèse nulle de :\n",
    "\n",
    "$$H_{0} : \\beta_1=\\beta_2=\\beta_3=0$$\n",
    "\n",
    "nous obtenons une valeur de statistique de test de 16.68 qui suit une distribution $F$ avec 3 et 599 degrés de liberté. Lors de l'exécution de l'ANOVA, nous voyons que la statistique de test correspondante est exactement la même."
   ]
  },
  {
   "cell_type": "code",
   "execution_count": 32,
   "id": "70d20450",
   "metadata": {},
   "outputs": [
    {
     "data": {
      "text/plain": [
       "             Df Sum Sq Mean Sq F value   Pr(>F)    \n",
       "GROUP         3    599  199.81   16.68 2.39e-10 ***\n",
       "Residuals   508   6086   11.98                     \n",
       "---\n",
       "Signif. codes:  0 '***' 0.001 '**' 0.01 '*' 0.05 '.' 0.1 ' ' 1\n",
       "75 observations deleted due to missingness"
      ]
     },
     "metadata": {},
     "output_type": "display_data"
    }
   ],
   "source": [
    "# Regression\n",
    "lm_V_ANOVA_fit <- lm(V12.aosi.total_score_1_18 ~ GROUP,\n",
    "                         data = data_complete_2)\n",
    "\n",
    "F_test_fit_lm_V_ANOVA <- aov(lm_V_ANOVA_fit)\n",
    "\n",
    "summary(F_test_fit_lm_V_ANOVA)"
   ]
  },
  {
   "cell_type": "code",
   "execution_count": 33,
   "id": "4a0a0d35",
   "metadata": {},
   "outputs": [
    {
     "data": {
      "text/plain": [
       "             Df Sum Sq Mean Sq F value   Pr(>F)    \n",
       "GROUP         3    599  199.81   16.68 2.39e-10 ***\n",
       "Residuals   508   6086   11.98                     \n",
       "---\n",
       "Signif. codes:  0 '***' 0.001 '**' 0.01 '*' 0.05 '.' 0.1 ' ' 1\n",
       "75 observations deleted due to missingness"
      ]
     },
     "metadata": {},
     "output_type": "display_data"
    }
   ],
   "source": [
    "# ANOVA\n",
    "\n",
    "ANOVA_fit <- aov(V12.aosi.total_score_1_18 ~ GROUP, data= data_complete_2)\n",
    "\n",
    "summary(ANOVA_fit)"
   ]
  },
  {
   "cell_type": "markdown",
   "id": "81b84a91",
   "metadata": {},
   "source": [
    "Pour conclure la section sur la régression linéaire, discutons de l'ANCOVA.\n",
    "\n",
    "* <span style=\"color:blue\"><u>**Pour l'ANCOVA**</u></span> **:**\n",
    "\n",
    "Dans une analyse ANCOVA, nous avons une variable de résultat $Y$, un prédicteur catégorique $X$ et un prédicteur continu $Z$. Le modèle ANCOVA est le suivant :\n",
    "\n",
    "$$Y=\\beta_0+\\beta_1X+\\beta_2Z+\\beta_3X*Z+\\varepsilon$$\n",
    "\n",
    "$\\mathbb{E}(\\varepsilon)=0$, $Var(\\varepsilon)=\\sigma^2$, et tous les $\\varepsilon$ sont indépendants.\n",
    "\n",
    "où $X*Z$ est appelé un **terme d'interaction**. Explorons ce modèle. Supposons que $X$ prenne l'une des deux catégories 0 ou 1. \n",
    "\n",
    "Pour ceux avec $X=0$, leur modèle est :\n",
    "\n",
    "$$Y=\\beta_0+\\beta_2Z+\\varepsilon$$\n",
    "\n",
    "$\\mathbb{E}(\\varepsilon)=0$, $Var(\\varepsilon)=\\sigma^2$, et tous les $\\varepsilon$ sont indépendants. Puisque $Z$ est continu, nous pouvons voir que les sujets de cette catégorie ont une intercept de $\\beta_0$ et une pente de $\\beta_2$. \n",
    "\n",
    "Pour ceux avec $X=1$, leur modèle est :\n",
    "\n",
    "$$Y=\\beta_0+\\beta_1+\\beta_2Z+\\beta_3Z+\\varepsilon$$\n",
    "\n",
    "$\\mathbb{E}(\\varepsilon)=0$, $Var(\\varepsilon)=\\sigma^2$, et tous les $\\varepsilon$ sont indépendants. Nous pouvons voir que leur intercept est $\\beta_0+\\beta_1$ et leur pente est $\\beta_2+\\beta_3$.\n",
    "\n",
    "Ainsi, avec ANCOVA, nous permettons une relation linéaire différente entre $Y$ et $Z$ dans notre modèle, en fonction des valeurs de $X$. À titre d'exemple, considérons la modélisation d'un résultat du score total de l'AOSI à 12 mois (`V12.aosi.total_score_1_18`) avec un diagnostic ASD à 24 mois (positif ou négatif) (`SSM_ASD_v24`) et le score composite Mullen à 12 mois (`V12.mullen.composite_standard_score`) avec un modèle ANCOVA. Le modèle de régression linéaire correspondant est :\n",
    "\n",
    "$$AOSI=\\beta_0+\\beta_1ASDpos+\\beta_2Mullen+\\beta_3ASDpos*Mullen+\\varepsilon$$\n",
    "\n",
    "$\\mathbb{E}(\\varepsilon)=0$, $Var(\\varepsilon)=\\sigma^2$, et tous les $\\varepsilon$ sont indépendants.\n",
    "\n",
    "Nous pouvons voir que la tendance (ou \"pente\") entre le score total de l'AOSI et le score composite de Mullen à 12 mois est $\\beta_2$ pour les enfants ASD négatifs $(ASDpos=0)$ et $\\beta_2+\\beta_3$ pour les enfants ASD positifs $(ASDpos=1)$. Ensuite, ajustons ce modèle aux données.\n"
   ]
  },
  {
   "cell_type": "code",
   "execution_count": 34,
   "id": "467a9917",
   "metadata": {},
   "outputs": [
    {
     "data": {
      "text/html": [
       "<style>\n",
       ".list-inline {list-style: none; margin:0; padding: 0}\n",
       ".list-inline>li {display: inline-block}\n",
       ".list-inline>li:not(:last-child)::after {content: \"\\00b7\"; padding: 0 .5ex}\n",
       "</style>\n",
       "<ol class=list-inline><li>'YES_ASD'</li><li>'NO_ASD'</li></ol>\n"
      ],
      "text/latex": [
       "\\begin{enumerate*}\n",
       "\\item 'YES\\_ASD'\n",
       "\\item 'NO\\_ASD'\n",
       "\\end{enumerate*}\n"
      ],
      "text/markdown": [
       "1. 'YES_ASD'\n",
       "2. 'NO_ASD'\n",
       "\n",
       "\n"
      ],
      "text/plain": [
       "[1] \"YES_ASD\" \"NO_ASD\" "
      ]
     },
     "metadata": {},
     "output_type": "display_data"
    }
   ],
   "source": [
    "unique(data_complete_2$SSM_ASD_v24)"
   ]
  },
  {
   "cell_type": "code",
   "execution_count": 35,
   "id": "d9d0ba52",
   "metadata": {},
   "outputs": [
    {
     "data": {
      "text/plain": [
       "\n",
       "Call:\n",
       "lm(formula = V12.aosi.total_score_1_18 ~ SSM_ASD_v24 + V12.mullen.composite_standard_score + \n",
       "    V12.mullen.composite_standard_score * SSM_ASD_v24, data = data_complete_2)\n",
       "\n",
       "Residuals:\n",
       "    Min      1Q  Median      3Q     Max \n",
       "-8.0012 -2.3956 -0.6443  1.9384 16.6981 \n",
       "\n",
       "Coefficients:\n",
       "                                                       Estimate Std. Error\n",
       "(Intercept)                                             9.45201    1.31543\n",
       "SSM_ASD_v24YES_ASD                                      9.65831    2.73602\n",
       "V12.mullen.composite_standard_score                    -0.04770    0.01270\n",
       "SSM_ASD_v24YES_ASD:V12.mullen.composite_standard_score -0.08101    0.02860\n",
       "                                                       t value Pr(>|t|)    \n",
       "(Intercept)                                              7.185  2.4e-12 ***\n",
       "SSM_ASD_v24YES_ASD                                       3.530 0.000453 ***\n",
       "V12.mullen.composite_standard_score                     -3.755 0.000193 ***\n",
       "SSM_ASD_v24YES_ASD:V12.mullen.composite_standard_score  -2.832 0.004805 ** \n",
       "---\n",
       "Signif. codes:  0 '***' 0.001 '**' 0.01 '*' 0.05 '.' 0.1 ' ' 1\n",
       "\n",
       "Residual standard error: 3.365 on 508 degrees of freedom\n",
       "  (75 observations deleted due to missingness)\n",
       "Multiple R-squared:  0.1399,\tAdjusted R-squared:  0.1348 \n",
       "F-statistic: 27.54 on 3 and 508 DF,  p-value: < 2.2e-16\n"
      ]
     },
     "metadata": {},
     "output_type": "display_data"
    }
   ],
   "source": [
    "# Regression\n",
    "lm_ANCOVA_fit <- lm(V12.aosi.total_score_1_18 ~ SSM_ASD_v24 + V12.mullen.composite_standard_score + V12.mullen.composite_standard_score*SSM_ASD_v24,\n",
    "                   data = data_complete_2)\n",
    "\n",
    "summary(lm_ANCOVA_fit)"
   ]
  },
  {
   "cell_type": "markdown",
   "id": "1ad20dc4",
   "metadata": {},
   "source": [
    "Nous constatons que tous les paramètres de régression sont hautement significatifs à partir de 0 en fonction des valeurs de $p$ et que le modèle ajusté est le suivant :\n",
    "\n",
    "$$AOSI=9.45+9.66ASDpos-0.05Mullen-0.08ASDpos*Mullen+\\varepsilon$$\n",
    "\n",
    "Cela implique que les enfants ASD positifs ont une association légèrement plus négative entre l'AOSI et Mullen que les enfants ASD négatifs (en raison de l'estimation du terme d'interaction -0.08) et que les enfants ASD positifs ont une valeur de base de l'AOSI beaucoup plus élevée (la valeur de base étant lorsque le score composite Mullen est égal à 0). Nous pouvons mieux visualiser ces résultats en créant un nuage de points du score total de l'AOSI et du score composite de Mullen à 12 mois, avec une ligne de \"meilleure ajustement\" (best fit) séparée pour chaque diagnostic ASD.\n"
   ]
  },
  {
   "cell_type": "code",
   "execution_count": 36,
   "id": "1e49a769",
   "metadata": {},
   "outputs": [
    {
     "name": "stderr",
     "output_type": "stream",
     "text": [
      "\u001b[1m\u001b[22m`geom_smooth()` using formula = 'y ~ x'\n",
      "Warning message:\n",
      "\"\u001b[1m\u001b[22mRemoved 75 rows containing non-finite outside the scale range (`stat_smooth()`).\"\n",
      "Warning message:\n",
      "\"\u001b[1m\u001b[22mRemoved 75 rows containing missing values or values outside the scale range (`geom_point()`).\"\n"
     ]
    },
    {
     "data": {
      "image/png": "[encoded data removed]",
      "text/plain": [
       "plot without title"
      ]
     },
     "metadata": {
      "image/png": {
       "height": 420,
       "width": 420
      }
     },
     "output_type": "display_data"
    }
   ],
   "source": [
    "ggplot(mapping = aes(x = V12.mullen.composite_standard_score, \n",
    "                   y = V12.aosi.total_score_1_18,\n",
    "                   group = SSM_ASD_v24, \n",
    "                   color = SSM_ASD_v24),\n",
    "      data = data_complete_2)+\n",
    "    geom_point()+\n",
    "    geom_smooth(method=\"lm\")+  # linear\n",
    "    labs(x=\"Score Composite de Mullen à 12 Mois\",\n",
    "        y = \"Score Total d'AOSI à 12 Mois\",\n",
    "        title = \"Exemple ANCOVA : AOSI par Mullen par ASD Diagnostic à 24 mois\",\n",
    "        color = \"ASD Diagnostic\")\n",
    "    "
   ]
  },
  {
   "cell_type": "markdown",
   "id": "e2ca1f1a",
   "metadata": {},
   "source": [
    "La légende est créée par l'argument `color=`, on utilise donc l'argument `color=` dans `labs()` pour changer le titre prêté."
   ]
  },
  {
   "cell_type": "markdown",
   "id": "e24d2b12",
   "metadata": {},
   "source": [
    "<a id=\"02\"></a>\n",
    "# 2) Régression Logistique\n",
    "\n",
    "**A continuer...**"
   ]
  },
  {
   "cell_type": "code",
   "execution_count": null,
   "id": "eac2e18c",
   "metadata": {},
   "outputs": [],
   "source": []
  },
  {
   "cell_type": "code",
   "execution_count": null,
   "id": "29f8a17f",
   "metadata": {},
   "outputs": [],
   "source": []
  },
  {
   "cell_type": "code",
   "execution_count": null,
   "id": "194c1a1d",
   "metadata": {},
   "outputs": [],
   "source": []
  },
  {
   "cell_type": "code",
   "execution_count": null,
   "id": "066adc0b",
   "metadata": {},
   "outputs": [],
   "source": []
  },
  {
   "cell_type": "code",
   "execution_count": null,
   "id": "66822cfa",
   "metadata": {},
   "outputs": [],
   "source": []
  },
  {
   "cell_type": "code",
   "execution_count": null,
   "id": "ba1ffccb",
   "metadata": {},
   "outputs": [],
   "source": []
  },
  {
   "cell_type": "code",
   "execution_count": null,
   "id": "5e0a0cbe",
   "metadata": {},
   "outputs": [],
   "source": []
  },
  {
   "cell_type": "code",
   "execution_count": null,
   "id": "36f6cec3",
   "metadata": {},
   "outputs": [],
   "source": []
  },
  {
   "cell_type": "code",
   "execution_count": null,
   "id": "3d18c140",
   "metadata": {},
   "outputs": [],
   "source": []
  },
  {
   "cell_type": "code",
   "execution_count": null,
   "id": "57f3786a",
   "metadata": {},
   "outputs": [],
   "source": []
  },
  {
   "cell_type": "code",
   "execution_count": null,
   "id": "13e820d1",
   "metadata": {},
   "outputs": [],
   "source": []
  },
  {
   "cell_type": "code",
   "execution_count": null,
   "id": "e324c0f7",
   "metadata": {},
   "outputs": [],
   "source": []
  }
 ],
 "metadata": {
  "kernelspec": {
   "display_name": "R",
   "language": "R",
   "name": "ir"
  },
  "language_info": {
   "codemirror_mode": "r",
   "file_extension": ".r",
   "mimetype": "text/x-r-source",
   "name": "R",
   "pygments_lexer": "r",
   "version": "4.2.3"
  }
 },
 "nbformat": 4,
 "nbformat_minor": 5
}
