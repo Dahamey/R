{
 "cells": [
  {
   "cell_type": "markdown",
   "id": "934a5547",
   "metadata": {},
   "source": [
    "<h1 style=\"text-align:center;\">\"dplyr\" en R</h1>\n"
   ]
  },
  {
   "cell_type": "markdown",
   "id": "deaaad55",
   "metadata": {},
   "source": [
    "<u>**Author</u> :** [Younes Dahami](https://www.linkedin.com/in/dahami/)"
   ]
  },
  {
   "cell_type": "markdown",
   "id": "4dd5a7dc",
   "metadata": {},
   "source": [
    "La librairie `dplyr` en R est un ensemble d'outils conçus pour simplifier et accélérer la manipulation de données tabulaires. Elle fournit un ensemble cohérent de fonctions pour effectuer des opérations telles que le filtrage, le tri, la sélection de colonnes, la création de nouvelles variables calculées, le regroupement de données et la réalisation d'opérations par groupe. `dplyr` se distingue par sa syntaxe claire et concise, ce qui en fait un choix privilégié pour travailler efficacement avec des données dans R.\n"
   ]
  },
  {
   "cell_type": "markdown",
   "id": "4a7c5740",
   "metadata": {},
   "source": [
    "## Introduction\n",
    "La manière la plus intuitive de manipuler nos données est d'utiliser les fonctions du package **dplyr**, qui est téléchargé et installé dans R (comme tous les packages). La \"manipulation\" de nos données fait référence au choix d'un sous-ensemble des variables et/ou des observations dans notre ensemble de données, ainsi qu'au filtrage (sélection des observations en fonction de leurs valeurs de variable), à la création de nouvelles variables, et plus encore. \n",
    "\n",
    "## 1) Fonctions de dplyr\n",
    "\n",
    "Le package `dplyr` comporte de nombreuses fonctions, chacune conçue pour accomplir une tâche spécifique dans la manipulation des données. Les principales sont : **select()**, **filter()**, **arrange()**, **mutate()** et **summarize()**. On couvrira toutes ces fonctions, ainsi que d'autres fonctions telles que **group_by()**, **spread()**, **gather()**, **separate()** et **unite()**. Comme pour tous les packages, on doit d'abord charger le package une fois qu'il a été installé."
   ]
  },
  {
   "cell_type": "code",
   "execution_count": 6,
   "id": "fc8f7af6",
   "metadata": {},
   "outputs": [],
   "source": [
    "#install.packages(\"dplyr\")"
   ]
  },
  {
   "cell_type": "code",
   "execution_count": 7,
   "id": "a8b29009",
   "metadata": {},
   "outputs": [],
   "source": [
    "library(dplyr)"
   ]
  },
  {
   "cell_type": "markdown",
   "id": "d9cb3d07",
   "metadata": {},
   "source": [
    "### 1.1) Sélectionner, filtrer et ordonner\n",
    "\n",
    "Les fonctions `select()`, `filter()` et `arrange()` gèrent les opérations habituelles de sous-ensemble. On passera en revue chacune d'entre elles dans l'ordre.\n",
    "\n",
    "La fonction **select()** est utilisée pour inclure ou exclure les variables choisies (colonnes) de l'ensemble de données, ainsi que pour réorganiser l'ordre des variables. La syntaxe est la suivante\n",
    "\n",
    "`select(ensemble_de_données, variable_1, variable_2, ...)`\n",
    "\n",
    "où l'argument \"ensemble_de_données\" est l'endroit où vous spécifiez le nom de l'objet qui représente l'ensemble de données d'intérêt, et \"variable_1\", \"variable_2\",... sont les arguments où on spécifie le nom des variables/colonnes qu'on souhaite inclure ou supprimer (pour supprimer la variable, on commence le nom par un -) dans l'ordre dans lequel on souhaite qu'elles apparaissent dans l'ensemble de données. Il n'y a pas de limite (je crois) au nombre de variables qui peuvent être référencées. on peut référencer une collection ordonnée de variables (ordonnées de gauche à droite dans l'ensemble de données) en utilisant `variable_i:variable_j` comme argument dans la fonction, où \"variable_i\" est le nom de la première variable et \"variable_j\" est le nom de la dernière. Cette idée fonctionne également avec -. Enfin, contrairement au sous-ensemble dans Base R, on peut référencer des variables à inclure et à supprimer (avec un -) dans un seul appel de fonction `select()`.\n",
    "\n",
    "La fonction **filter()** est utilisée pour réduire l'ensemble de données à un sous-ensemble d'observations en fonction d'un ensemble de critères pour leurs valeurs de variable. La syntaxe est la suivante\n",
    "\n",
    "`filter(ensemble_de_données, critère_1, critère_2, ...)`\n",
    "\n",
    "où les arguments \"critère_1\", \"critère_2\",... sont l'endroit où on spécifie les conditions nécessaires pour qu'une observation soit incluse. Notez que ce sont des conditions **ET**, ce qui signifie qu'une observation doit satisfaire tous les critères fournis pour être incluse et des conditions **OU** où une observation doit satisfaire au moins l'un des critères fournis. Explorons plus en détail une condition **ET** et une condition **OU**, ainsi que les déclarations logiques en général.\n",
    "\n",
    "En R, une **déclaration logique** est un opérateur qui renvoie la valeur `TRUE`, `FALSE` ou `NA` (manquante). Ce sont des conditions où si la condition est remplie, TRUE est renvoyé, sinon FALSE est renvoyé, et si la variable dans la condition est manquante NA est renvoyée. Les opérateurs conditionnels incluent > (supérieur à), < (inférieur à), égal (==), >= (supérieur ou égal à), <= (inférieur ou égal à), et ! (non). Considérons les exemples simples suivants.\n"
   ]
  },
  {
   "cell_type": "code",
   "execution_count": 14,
   "id": "fda4a55f",
   "metadata": {},
   "outputs": [
    {
     "data": {
      "text/html": [
       "<table class=\"dataframe\">\n",
       "<caption>A data.frame: 10 × 8</caption>\n",
       "<thead>\n",
       "\t<tr><th scope=col>Identifiers</th><th scope=col>GROUP</th><th scope=col>Study_Site</th><th scope=col>Gender</th><th scope=col>V06.aosi.Candidate_Age</th><th scope=col>V06.aosi.total_score_1_18</th><th scope=col>V12.aosi.Candidate_Age</th><th scope=col>V12.aosi.total_score_1_18</th></tr>\n",
       "\t<tr><th scope=col>&lt;int&gt;</th><th scope=col>&lt;chr&gt;</th><th scope=col>&lt;chr&gt;</th><th scope=col>&lt;chr&gt;</th><th scope=col>&lt;dbl&gt;</th><th scope=col>&lt;int&gt;</th><th scope=col>&lt;dbl&gt;</th><th scope=col>&lt;int&gt;</th></tr>\n",
       "</thead>\n",
       "<tbody>\n",
       "\t<tr><td> 1</td><td>HR_ASD</td><td>PHI</td><td>Male</td><td>7.1</td><td> 8</td><td>12.5</td><td> 3</td></tr>\n",
       "\t<tr><td> 2</td><td>HR_ASD</td><td>PHI</td><td>Male</td><td>6.1</td><td>18</td><td>12.4</td><td>10</td></tr>\n",
       "\t<tr><td> 3</td><td>HR_ASD</td><td>PHI</td><td>Male</td><td>6.6</td><td> 4</td><td>12.9</td><td> 2</td></tr>\n",
       "\t<tr><td> 4</td><td>HR_ASD</td><td>PHI</td><td>Male</td><td> NA</td><td>NA</td><td>12.7</td><td> 3</td></tr>\n",
       "\t<tr><td> 5</td><td>HR_neg</td><td>PHI</td><td>Male</td><td>6.8</td><td> 6</td><td>  NA</td><td>NA</td></tr>\n",
       "\t<tr><td> 6</td><td>HR_neg</td><td>PHI</td><td>Male</td><td> NA</td><td>NA</td><td>12.1</td><td> 4</td></tr>\n",
       "\t<tr><td> 7</td><td>HR_ASD</td><td>PHI</td><td>Male</td><td>6.2</td><td>16</td><td>12.3</td><td> 4</td></tr>\n",
       "\t<tr><td> 8</td><td>HR_ASD</td><td>PHI</td><td>Male</td><td>6.2</td><td>10</td><td>12.2</td><td>14</td></tr>\n",
       "\t<tr><td> 9</td><td>HR_neg</td><td>PHI</td><td>Male</td><td> NA</td><td>NA</td><td>12.4</td><td> 1</td></tr>\n",
       "\t<tr><td>10</td><td>HR_ASD</td><td>PHI</td><td>Male</td><td> NA</td><td>NA</td><td>12.2</td><td> 7</td></tr>\n",
       "</tbody>\n",
       "</table>\n"
      ],
      "text/latex": [
       "A data.frame: 10 × 8\n",
       "\\begin{tabular}{llllllll}\n",
       " Identifiers & GROUP & Study\\_Site & Gender & V06.aosi.Candidate\\_Age & V06.aosi.total\\_score\\_1\\_18 & V12.aosi.Candidate\\_Age & V12.aosi.total\\_score\\_1\\_18\\\\\n",
       " <int> & <chr> & <chr> & <chr> & <dbl> & <int> & <dbl> & <int>\\\\\n",
       "\\hline\n",
       "\t  1 & HR\\_ASD & PHI & Male & 7.1 &  8 & 12.5 &  3\\\\\n",
       "\t  2 & HR\\_ASD & PHI & Male & 6.1 & 18 & 12.4 & 10\\\\\n",
       "\t  3 & HR\\_ASD & PHI & Male & 6.6 &  4 & 12.9 &  2\\\\\n",
       "\t  4 & HR\\_ASD & PHI & Male &  NA & NA & 12.7 &  3\\\\\n",
       "\t  5 & HR\\_neg & PHI & Male & 6.8 &  6 &   NA & NA\\\\\n",
       "\t  6 & HR\\_neg & PHI & Male &  NA & NA & 12.1 &  4\\\\\n",
       "\t  7 & HR\\_ASD & PHI & Male & 6.2 & 16 & 12.3 &  4\\\\\n",
       "\t  8 & HR\\_ASD & PHI & Male & 6.2 & 10 & 12.2 & 14\\\\\n",
       "\t  9 & HR\\_neg & PHI & Male &  NA & NA & 12.4 &  1\\\\\n",
       "\t 10 & HR\\_ASD & PHI & Male &  NA & NA & 12.2 &  7\\\\\n",
       "\\end{tabular}\n"
      ],
      "text/markdown": [
       "\n",
       "A data.frame: 10 × 8\n",
       "\n",
       "| Identifiers &lt;int&gt; | GROUP &lt;chr&gt; | Study_Site &lt;chr&gt; | Gender &lt;chr&gt; | V06.aosi.Candidate_Age &lt;dbl&gt; | V06.aosi.total_score_1_18 &lt;int&gt; | V12.aosi.Candidate_Age &lt;dbl&gt; | V12.aosi.total_score_1_18 &lt;int&gt; |\n",
       "|---|---|---|---|---|---|---|---|\n",
       "|  1 | HR_ASD | PHI | Male | 7.1 |  8 | 12.5 |  3 |\n",
       "|  2 | HR_ASD | PHI | Male | 6.1 | 18 | 12.4 | 10 |\n",
       "|  3 | HR_ASD | PHI | Male | 6.6 |  4 | 12.9 |  2 |\n",
       "|  4 | HR_ASD | PHI | Male |  NA | NA | 12.7 |  3 |\n",
       "|  5 | HR_neg | PHI | Male | 6.8 |  6 |   NA | NA |\n",
       "|  6 | HR_neg | PHI | Male |  NA | NA | 12.1 |  4 |\n",
       "|  7 | HR_ASD | PHI | Male | 6.2 | 16 | 12.3 |  4 |\n",
       "|  8 | HR_ASD | PHI | Male | 6.2 | 10 | 12.2 | 14 |\n",
       "|  9 | HR_neg | PHI | Male |  NA | NA | 12.4 |  1 |\n",
       "| 10 | HR_ASD | PHI | Male |  NA | NA | 12.2 |  7 |\n",
       "\n"
      ],
      "text/plain": [
       "   Identifiers GROUP  Study_Site Gender V06.aosi.Candidate_Age\n",
       "1   1          HR_ASD PHI        Male   7.1                   \n",
       "2   2          HR_ASD PHI        Male   6.1                   \n",
       "3   3          HR_ASD PHI        Male   6.6                   \n",
       "4   4          HR_ASD PHI        Male    NA                   \n",
       "5   5          HR_neg PHI        Male   6.8                   \n",
       "6   6          HR_neg PHI        Male    NA                   \n",
       "7   7          HR_ASD PHI        Male   6.2                   \n",
       "8   8          HR_ASD PHI        Male   6.2                   \n",
       "9   9          HR_neg PHI        Male    NA                   \n",
       "10 10          HR_ASD PHI        Male    NA                   \n",
       "   V06.aosi.total_score_1_18 V12.aosi.Candidate_Age V12.aosi.total_score_1_18\n",
       "1   8                        12.5                    3                       \n",
       "2  18                        12.4                   10                       \n",
       "3   4                        12.9                    2                       \n",
       "4  NA                        12.7                    3                       \n",
       "5   6                          NA                   NA                       \n",
       "6  NA                        12.1                    4                       \n",
       "7  16                        12.3                    4                       \n",
       "8  10                        12.2                   14                       \n",
       "9  NA                        12.4                    1                       \n",
       "10 NA                        12.2                    7                       "
      ]
     },
     "metadata": {},
     "output_type": "display_data"
    }
   ],
   "source": [
    "# lire un dataframe \n",
    "data <- read.csv(file = \"AOSI_small.csv\", na.strings = c(\".\", \" \"))\n",
    "\n",
    "# voir toute la dataset\n",
    "data"
   ]
  },
  {
   "cell_type": "code",
   "execution_count": 15,
   "id": "15c89ee9",
   "metadata": {},
   "outputs": [
    {
     "data": {
      "text/html": [
       "<style>\n",
       ".list-inline {list-style: none; margin:0; padding: 0}\n",
       ".list-inline>li {display: inline-block}\n",
       ".list-inline>li:not(:last-child)::after {content: \"\\00b7\"; padding: 0 .5ex}\n",
       "</style>\n",
       "<ol class=list-inline><li>'Identifiers'</li><li>'GROUP'</li><li>'Study_Site'</li><li>'Gender'</li><li>'V06.aosi.Candidate_Age'</li><li>'V06.aosi.total_score_1_18'</li><li>'V12.aosi.Candidate_Age'</li><li>'V12.aosi.total_score_1_18'</li></ol>\n"
      ],
      "text/latex": [
       "\\begin{enumerate*}\n",
       "\\item 'Identifiers'\n",
       "\\item 'GROUP'\n",
       "\\item 'Study\\_Site'\n",
       "\\item 'Gender'\n",
       "\\item 'V06.aosi.Candidate\\_Age'\n",
       "\\item 'V06.aosi.total\\_score\\_1\\_18'\n",
       "\\item 'V12.aosi.Candidate\\_Age'\n",
       "\\item 'V12.aosi.total\\_score\\_1\\_18'\n",
       "\\end{enumerate*}\n"
      ],
      "text/markdown": [
       "1. 'Identifiers'\n",
       "2. 'GROUP'\n",
       "3. 'Study_Site'\n",
       "4. 'Gender'\n",
       "5. 'V06.aosi.Candidate_Age'\n",
       "6. 'V06.aosi.total_score_1_18'\n",
       "7. 'V12.aosi.Candidate_Age'\n",
       "8. 'V12.aosi.total_score_1_18'\n",
       "\n",
       "\n"
      ],
      "text/plain": [
       "[1] \"Identifiers\"               \"GROUP\"                    \n",
       "[3] \"Study_Site\"                \"Gender\"                   \n",
       "[5] \"V06.aosi.Candidate_Age\"    \"V06.aosi.total_score_1_18\"\n",
       "[7] \"V12.aosi.Candidate_Age\"    \"V12.aosi.total_score_1_18\""
      ]
     },
     "metadata": {},
     "output_type": "display_data"
    }
   ],
   "source": [
    "# les colonnes\n",
    "names(data)"
   ]
  },
  {
   "cell_type": "code",
   "execution_count": 16,
   "id": "b7591827",
   "metadata": {},
   "outputs": [
    {
     "data": {
      "text/html": [
       "<table class=\"dataframe\">\n",
       "<caption>A data.frame: 10 × 2</caption>\n",
       "<thead>\n",
       "\t<tr><th scope=col>Identifiers</th><th scope=col>GROUP</th></tr>\n",
       "\t<tr><th scope=col>&lt;int&gt;</th><th scope=col>&lt;chr&gt;</th></tr>\n",
       "</thead>\n",
       "<tbody>\n",
       "\t<tr><td> 1</td><td>HR_ASD</td></tr>\n",
       "\t<tr><td> 2</td><td>HR_ASD</td></tr>\n",
       "\t<tr><td> 3</td><td>HR_ASD</td></tr>\n",
       "\t<tr><td> 4</td><td>HR_ASD</td></tr>\n",
       "\t<tr><td> 5</td><td>HR_neg</td></tr>\n",
       "\t<tr><td> 6</td><td>HR_neg</td></tr>\n",
       "\t<tr><td> 7</td><td>HR_ASD</td></tr>\n",
       "\t<tr><td> 8</td><td>HR_ASD</td></tr>\n",
       "\t<tr><td> 9</td><td>HR_neg</td></tr>\n",
       "\t<tr><td>10</td><td>HR_ASD</td></tr>\n",
       "</tbody>\n",
       "</table>\n"
      ],
      "text/latex": [
       "A data.frame: 10 × 2\n",
       "\\begin{tabular}{ll}\n",
       " Identifiers & GROUP\\\\\n",
       " <int> & <chr>\\\\\n",
       "\\hline\n",
       "\t  1 & HR\\_ASD\\\\\n",
       "\t  2 & HR\\_ASD\\\\\n",
       "\t  3 & HR\\_ASD\\\\\n",
       "\t  4 & HR\\_ASD\\\\\n",
       "\t  5 & HR\\_neg\\\\\n",
       "\t  6 & HR\\_neg\\\\\n",
       "\t  7 & HR\\_ASD\\\\\n",
       "\t  8 & HR\\_ASD\\\\\n",
       "\t  9 & HR\\_neg\\\\\n",
       "\t 10 & HR\\_ASD\\\\\n",
       "\\end{tabular}\n"
      ],
      "text/markdown": [
       "\n",
       "A data.frame: 10 × 2\n",
       "\n",
       "| Identifiers &lt;int&gt; | GROUP &lt;chr&gt; |\n",
       "|---|---|\n",
       "|  1 | HR_ASD |\n",
       "|  2 | HR_ASD |\n",
       "|  3 | HR_ASD |\n",
       "|  4 | HR_ASD |\n",
       "|  5 | HR_neg |\n",
       "|  6 | HR_neg |\n",
       "|  7 | HR_ASD |\n",
       "|  8 | HR_ASD |\n",
       "|  9 | HR_neg |\n",
       "| 10 | HR_ASD |\n",
       "\n"
      ],
      "text/plain": [
       "   Identifiers GROUP \n",
       "1   1          HR_ASD\n",
       "2   2          HR_ASD\n",
       "3   3          HR_ASD\n",
       "4   4          HR_ASD\n",
       "5   5          HR_neg\n",
       "6   6          HR_neg\n",
       "7   7          HR_ASD\n",
       "8   8          HR_ASD\n",
       "9   9          HR_neg\n",
       "10 10          HR_ASD"
      ]
     },
     "metadata": {},
     "output_type": "display_data"
    }
   ],
   "source": [
    "# selectionner ID et Group uniquemet\n",
    "select(.data = data, Identifiers, GROUP)"
   ]
  },
  {
   "cell_type": "code",
   "execution_count": 18,
   "id": "a14947f6",
   "metadata": {},
   "outputs": [
    {
     "data": {
      "text/html": [
       "<table class=\"dataframe\">\n",
       "<caption>A data.frame: 10 × 6</caption>\n",
       "<thead>\n",
       "\t<tr><th scope=col>Identifiers</th><th scope=col>GROUP</th><th scope=col>V06.aosi.Candidate_Age</th><th scope=col>V06.aosi.total_score_1_18</th><th scope=col>V12.aosi.Candidate_Age</th><th scope=col>V12.aosi.total_score_1_18</th></tr>\n",
       "\t<tr><th scope=col>&lt;int&gt;</th><th scope=col>&lt;chr&gt;</th><th scope=col>&lt;dbl&gt;</th><th scope=col>&lt;int&gt;</th><th scope=col>&lt;dbl&gt;</th><th scope=col>&lt;int&gt;</th></tr>\n",
       "</thead>\n",
       "<tbody>\n",
       "\t<tr><td> 1</td><td>HR_ASD</td><td>7.1</td><td> 8</td><td>12.5</td><td> 3</td></tr>\n",
       "\t<tr><td> 2</td><td>HR_ASD</td><td>6.1</td><td>18</td><td>12.4</td><td>10</td></tr>\n",
       "\t<tr><td> 3</td><td>HR_ASD</td><td>6.6</td><td> 4</td><td>12.9</td><td> 2</td></tr>\n",
       "\t<tr><td> 4</td><td>HR_ASD</td><td> NA</td><td>NA</td><td>12.7</td><td> 3</td></tr>\n",
       "\t<tr><td> 5</td><td>HR_neg</td><td>6.8</td><td> 6</td><td>  NA</td><td>NA</td></tr>\n",
       "\t<tr><td> 6</td><td>HR_neg</td><td> NA</td><td>NA</td><td>12.1</td><td> 4</td></tr>\n",
       "\t<tr><td> 7</td><td>HR_ASD</td><td>6.2</td><td>16</td><td>12.3</td><td> 4</td></tr>\n",
       "\t<tr><td> 8</td><td>HR_ASD</td><td>6.2</td><td>10</td><td>12.2</td><td>14</td></tr>\n",
       "\t<tr><td> 9</td><td>HR_neg</td><td> NA</td><td>NA</td><td>12.4</td><td> 1</td></tr>\n",
       "\t<tr><td>10</td><td>HR_ASD</td><td> NA</td><td>NA</td><td>12.2</td><td> 7</td></tr>\n",
       "</tbody>\n",
       "</table>\n"
      ],
      "text/latex": [
       "A data.frame: 10 × 6\n",
       "\\begin{tabular}{llllll}\n",
       " Identifiers & GROUP & V06.aosi.Candidate\\_Age & V06.aosi.total\\_score\\_1\\_18 & V12.aosi.Candidate\\_Age & V12.aosi.total\\_score\\_1\\_18\\\\\n",
       " <int> & <chr> & <dbl> & <int> & <dbl> & <int>\\\\\n",
       "\\hline\n",
       "\t  1 & HR\\_ASD & 7.1 &  8 & 12.5 &  3\\\\\n",
       "\t  2 & HR\\_ASD & 6.1 & 18 & 12.4 & 10\\\\\n",
       "\t  3 & HR\\_ASD & 6.6 &  4 & 12.9 &  2\\\\\n",
       "\t  4 & HR\\_ASD &  NA & NA & 12.7 &  3\\\\\n",
       "\t  5 & HR\\_neg & 6.8 &  6 &   NA & NA\\\\\n",
       "\t  6 & HR\\_neg &  NA & NA & 12.1 &  4\\\\\n",
       "\t  7 & HR\\_ASD & 6.2 & 16 & 12.3 &  4\\\\\n",
       "\t  8 & HR\\_ASD & 6.2 & 10 & 12.2 & 14\\\\\n",
       "\t  9 & HR\\_neg &  NA & NA & 12.4 &  1\\\\\n",
       "\t 10 & HR\\_ASD &  NA & NA & 12.2 &  7\\\\\n",
       "\\end{tabular}\n"
      ],
      "text/markdown": [
       "\n",
       "A data.frame: 10 × 6\n",
       "\n",
       "| Identifiers &lt;int&gt; | GROUP &lt;chr&gt; | V06.aosi.Candidate_Age &lt;dbl&gt; | V06.aosi.total_score_1_18 &lt;int&gt; | V12.aosi.Candidate_Age &lt;dbl&gt; | V12.aosi.total_score_1_18 &lt;int&gt; |\n",
       "|---|---|---|---|---|---|\n",
       "|  1 | HR_ASD | 7.1 |  8 | 12.5 |  3 |\n",
       "|  2 | HR_ASD | 6.1 | 18 | 12.4 | 10 |\n",
       "|  3 | HR_ASD | 6.6 |  4 | 12.9 |  2 |\n",
       "|  4 | HR_ASD |  NA | NA | 12.7 |  3 |\n",
       "|  5 | HR_neg | 6.8 |  6 |   NA | NA |\n",
       "|  6 | HR_neg |  NA | NA | 12.1 |  4 |\n",
       "|  7 | HR_ASD | 6.2 | 16 | 12.3 |  4 |\n",
       "|  8 | HR_ASD | 6.2 | 10 | 12.2 | 14 |\n",
       "|  9 | HR_neg |  NA | NA | 12.4 |  1 |\n",
       "| 10 | HR_ASD |  NA | NA | 12.2 |  7 |\n",
       "\n"
      ],
      "text/plain": [
       "   Identifiers GROUP  V06.aosi.Candidate_Age V06.aosi.total_score_1_18\n",
       "1   1          HR_ASD 7.1                     8                       \n",
       "2   2          HR_ASD 6.1                    18                       \n",
       "3   3          HR_ASD 6.6                     4                       \n",
       "4   4          HR_ASD  NA                    NA                       \n",
       "5   5          HR_neg 6.8                     6                       \n",
       "6   6          HR_neg  NA                    NA                       \n",
       "7   7          HR_ASD 6.2                    16                       \n",
       "8   8          HR_ASD 6.2                    10                       \n",
       "9   9          HR_neg  NA                    NA                       \n",
       "10 10          HR_ASD  NA                    NA                       \n",
       "   V12.aosi.Candidate_Age V12.aosi.total_score_1_18\n",
       "1  12.5                    3                       \n",
       "2  12.4                   10                       \n",
       "3  12.9                    2                       \n",
       "4  12.7                    3                       \n",
       "5    NA                   NA                       \n",
       "6  12.1                    4                       \n",
       "7  12.3                    4                       \n",
       "8  12.2                   14                       \n",
       "9  12.4                    1                       \n",
       "10 12.2                    7                       "
      ]
     },
     "metadata": {},
     "output_type": "display_data"
    }
   ],
   "source": [
    "# enlever 'gender' et 'Study_Site'\n",
    "select(data, -Gender, -Study_Site)"
   ]
  },
  {
   "cell_type": "code",
   "execution_count": 19,
   "id": "795bebe0",
   "metadata": {},
   "outputs": [
    {
     "data": {
      "text/html": [
       "<table class=\"dataframe\">\n",
       "<caption>A data.frame: 7 × 8</caption>\n",
       "<thead>\n",
       "\t<tr><th scope=col>Identifiers</th><th scope=col>GROUP</th><th scope=col>Study_Site</th><th scope=col>Gender</th><th scope=col>V06.aosi.Candidate_Age</th><th scope=col>V06.aosi.total_score_1_18</th><th scope=col>V12.aosi.Candidate_Age</th><th scope=col>V12.aosi.total_score_1_18</th></tr>\n",
       "\t<tr><th scope=col>&lt;int&gt;</th><th scope=col>&lt;chr&gt;</th><th scope=col>&lt;chr&gt;</th><th scope=col>&lt;chr&gt;</th><th scope=col>&lt;dbl&gt;</th><th scope=col>&lt;int&gt;</th><th scope=col>&lt;dbl&gt;</th><th scope=col>&lt;int&gt;</th></tr>\n",
       "</thead>\n",
       "<tbody>\n",
       "\t<tr><td> 1</td><td>HR_ASD</td><td>PHI</td><td>Male</td><td>7.1</td><td> 8</td><td>12.5</td><td> 3</td></tr>\n",
       "\t<tr><td> 2</td><td>HR_ASD</td><td>PHI</td><td>Male</td><td>6.1</td><td>18</td><td>12.4</td><td>10</td></tr>\n",
       "\t<tr><td> 3</td><td>HR_ASD</td><td>PHI</td><td>Male</td><td>6.6</td><td> 4</td><td>12.9</td><td> 2</td></tr>\n",
       "\t<tr><td> 4</td><td>HR_ASD</td><td>PHI</td><td>Male</td><td> NA</td><td>NA</td><td>12.7</td><td> 3</td></tr>\n",
       "\t<tr><td> 7</td><td>HR_ASD</td><td>PHI</td><td>Male</td><td>6.2</td><td>16</td><td>12.3</td><td> 4</td></tr>\n",
       "\t<tr><td> 8</td><td>HR_ASD</td><td>PHI</td><td>Male</td><td>6.2</td><td>10</td><td>12.2</td><td>14</td></tr>\n",
       "\t<tr><td>10</td><td>HR_ASD</td><td>PHI</td><td>Male</td><td> NA</td><td>NA</td><td>12.2</td><td> 7</td></tr>\n",
       "</tbody>\n",
       "</table>\n"
      ],
      "text/latex": [
       "A data.frame: 7 × 8\n",
       "\\begin{tabular}{llllllll}\n",
       " Identifiers & GROUP & Study\\_Site & Gender & V06.aosi.Candidate\\_Age & V06.aosi.total\\_score\\_1\\_18 & V12.aosi.Candidate\\_Age & V12.aosi.total\\_score\\_1\\_18\\\\\n",
       " <int> & <chr> & <chr> & <chr> & <dbl> & <int> & <dbl> & <int>\\\\\n",
       "\\hline\n",
       "\t  1 & HR\\_ASD & PHI & Male & 7.1 &  8 & 12.5 &  3\\\\\n",
       "\t  2 & HR\\_ASD & PHI & Male & 6.1 & 18 & 12.4 & 10\\\\\n",
       "\t  3 & HR\\_ASD & PHI & Male & 6.6 &  4 & 12.9 &  2\\\\\n",
       "\t  4 & HR\\_ASD & PHI & Male &  NA & NA & 12.7 &  3\\\\\n",
       "\t  7 & HR\\_ASD & PHI & Male & 6.2 & 16 & 12.3 &  4\\\\\n",
       "\t  8 & HR\\_ASD & PHI & Male & 6.2 & 10 & 12.2 & 14\\\\\n",
       "\t 10 & HR\\_ASD & PHI & Male &  NA & NA & 12.2 &  7\\\\\n",
       "\\end{tabular}\n"
      ],
      "text/markdown": [
       "\n",
       "A data.frame: 7 × 8\n",
       "\n",
       "| Identifiers &lt;int&gt; | GROUP &lt;chr&gt; | Study_Site &lt;chr&gt; | Gender &lt;chr&gt; | V06.aosi.Candidate_Age &lt;dbl&gt; | V06.aosi.total_score_1_18 &lt;int&gt; | V12.aosi.Candidate_Age &lt;dbl&gt; | V12.aosi.total_score_1_18 &lt;int&gt; |\n",
       "|---|---|---|---|---|---|---|---|\n",
       "|  1 | HR_ASD | PHI | Male | 7.1 |  8 | 12.5 |  3 |\n",
       "|  2 | HR_ASD | PHI | Male | 6.1 | 18 | 12.4 | 10 |\n",
       "|  3 | HR_ASD | PHI | Male | 6.6 |  4 | 12.9 |  2 |\n",
       "|  4 | HR_ASD | PHI | Male |  NA | NA | 12.7 |  3 |\n",
       "|  7 | HR_ASD | PHI | Male | 6.2 | 16 | 12.3 |  4 |\n",
       "|  8 | HR_ASD | PHI | Male | 6.2 | 10 | 12.2 | 14 |\n",
       "| 10 | HR_ASD | PHI | Male |  NA | NA | 12.2 |  7 |\n",
       "\n"
      ],
      "text/plain": [
       "  Identifiers GROUP  Study_Site Gender V06.aosi.Candidate_Age\n",
       "1  1          HR_ASD PHI        Male   7.1                   \n",
       "2  2          HR_ASD PHI        Male   6.1                   \n",
       "3  3          HR_ASD PHI        Male   6.6                   \n",
       "4  4          HR_ASD PHI        Male    NA                   \n",
       "5  7          HR_ASD PHI        Male   6.2                   \n",
       "6  8          HR_ASD PHI        Male   6.2                   \n",
       "7 10          HR_ASD PHI        Male    NA                   \n",
       "  V06.aosi.total_score_1_18 V12.aosi.Candidate_Age V12.aosi.total_score_1_18\n",
       "1  8                        12.5                    3                       \n",
       "2 18                        12.4                   10                       \n",
       "3  4                        12.9                    2                       \n",
       "4 NA                        12.7                    3                       \n",
       "5 16                        12.3                    4                       \n",
       "6 10                        12.2                   14                       \n",
       "7 NA                        12.2                    7                       "
      ]
     },
     "metadata": {},
     "output_type": "display_data"
    }
   ],
   "source": [
    "# Ne sélectionner que les observations avec un diagnostic de ASD\n",
    "filter(data, GROUP == \"HR_ASD\")"
   ]
  },
  {
   "cell_type": "code",
   "execution_count": 22,
   "id": "6e71dbce",
   "metadata": {},
   "outputs": [
    {
     "data": {
      "text/html": [
       "<table class=\"dataframe\">\n",
       "<caption>A data.frame: 3 × 8</caption>\n",
       "<thead>\n",
       "\t<tr><th scope=col>Identifiers</th><th scope=col>GROUP</th><th scope=col>Study_Site</th><th scope=col>Gender</th><th scope=col>V06.aosi.Candidate_Age</th><th scope=col>V06.aosi.total_score_1_18</th><th scope=col>V12.aosi.Candidate_Age</th><th scope=col>V12.aosi.total_score_1_18</th></tr>\n",
       "\t<tr><th scope=col>&lt;int&gt;</th><th scope=col>&lt;chr&gt;</th><th scope=col>&lt;chr&gt;</th><th scope=col>&lt;chr&gt;</th><th scope=col>&lt;dbl&gt;</th><th scope=col>&lt;int&gt;</th><th scope=col>&lt;dbl&gt;</th><th scope=col>&lt;int&gt;</th></tr>\n",
       "</thead>\n",
       "<tbody>\n",
       "\t<tr><td>2</td><td>HR_ASD</td><td>PHI</td><td>Male</td><td>6.1</td><td>18</td><td>12.4</td><td>10</td></tr>\n",
       "\t<tr><td>7</td><td>HR_ASD</td><td>PHI</td><td>Male</td><td>6.2</td><td>16</td><td>12.3</td><td> 4</td></tr>\n",
       "\t<tr><td>8</td><td>HR_ASD</td><td>PHI</td><td>Male</td><td>6.2</td><td>10</td><td>12.2</td><td>14</td></tr>\n",
       "</tbody>\n",
       "</table>\n"
      ],
      "text/latex": [
       "A data.frame: 3 × 8\n",
       "\\begin{tabular}{llllllll}\n",
       " Identifiers & GROUP & Study\\_Site & Gender & V06.aosi.Candidate\\_Age & V06.aosi.total\\_score\\_1\\_18 & V12.aosi.Candidate\\_Age & V12.aosi.total\\_score\\_1\\_18\\\\\n",
       " <int> & <chr> & <chr> & <chr> & <dbl> & <int> & <dbl> & <int>\\\\\n",
       "\\hline\n",
       "\t 2 & HR\\_ASD & PHI & Male & 6.1 & 18 & 12.4 & 10\\\\\n",
       "\t 7 & HR\\_ASD & PHI & Male & 6.2 & 16 & 12.3 &  4\\\\\n",
       "\t 8 & HR\\_ASD & PHI & Male & 6.2 & 10 & 12.2 & 14\\\\\n",
       "\\end{tabular}\n"
      ],
      "text/markdown": [
       "\n",
       "A data.frame: 3 × 8\n",
       "\n",
       "| Identifiers &lt;int&gt; | GROUP &lt;chr&gt; | Study_Site &lt;chr&gt; | Gender &lt;chr&gt; | V06.aosi.Candidate_Age &lt;dbl&gt; | V06.aosi.total_score_1_18 &lt;int&gt; | V12.aosi.Candidate_Age &lt;dbl&gt; | V12.aosi.total_score_1_18 &lt;int&gt; |\n",
       "|---|---|---|---|---|---|---|---|\n",
       "| 2 | HR_ASD | PHI | Male | 6.1 | 18 | 12.4 | 10 |\n",
       "| 7 | HR_ASD | PHI | Male | 6.2 | 16 | 12.3 |  4 |\n",
       "| 8 | HR_ASD | PHI | Male | 6.2 | 10 | 12.2 | 14 |\n",
       "\n"
      ],
      "text/plain": [
       "  Identifiers GROUP  Study_Site Gender V06.aosi.Candidate_Age\n",
       "1 2           HR_ASD PHI        Male   6.1                   \n",
       "2 7           HR_ASD PHI        Male   6.2                   \n",
       "3 8           HR_ASD PHI        Male   6.2                   \n",
       "  V06.aosi.total_score_1_18 V12.aosi.Candidate_Age V12.aosi.total_score_1_18\n",
       "1 18                        12.4                   10                       \n",
       "2 16                        12.3                    4                       \n",
       "3 10                        12.2                   14                       "
      ]
     },
     "metadata": {},
     "output_type": "display_data"
    }
   ],
   "source": [
    "# Ne sélectionner que les observations avec un diagnostic de ASD et un score total d'au moins 10 à la visite du mois 6\n",
    "filter(data, (GROUP == \"HR_ASD\") & (V06.aosi.total_score_1_18>=10))"
   ]
  },
  {
   "cell_type": "code",
   "execution_count": 25,
   "id": "b1069e85",
   "metadata": {},
   "outputs": [
    {
     "data": {
      "text/html": [
       "<table class=\"dataframe\">\n",
       "<caption>A data.frame: 0 × 8</caption>\n",
       "<thead>\n",
       "\t<tr><th scope=col>Identifiers</th><th scope=col>GROUP</th><th scope=col>Study_Site</th><th scope=col>Gender</th><th scope=col>V06.aosi.Candidate_Age</th><th scope=col>V06.aosi.total_score_1_18</th><th scope=col>V12.aosi.Candidate_Age</th><th scope=col>V12.aosi.total_score_1_18</th></tr>\n",
       "\t<tr><th scope=col>&lt;int&gt;</th><th scope=col>&lt;chr&gt;</th><th scope=col>&lt;chr&gt;</th><th scope=col>&lt;chr&gt;</th><th scope=col>&lt;dbl&gt;</th><th scope=col>&lt;int&gt;</th><th scope=col>&lt;dbl&gt;</th><th scope=col>&lt;int&gt;</th></tr>\n",
       "</thead>\n",
       "<tbody>\n",
       "</tbody>\n",
       "</table>\n"
      ],
      "text/latex": [
       "A data.frame: 0 × 8\n",
       "\\begin{tabular}{llllllll}\n",
       " Identifiers & GROUP & Study\\_Site & Gender & V06.aosi.Candidate\\_Age & V06.aosi.total\\_score\\_1\\_18 & V12.aosi.Candidate\\_Age & V12.aosi.total\\_score\\_1\\_18\\\\\n",
       " <int> & <chr> & <chr> & <chr> & <dbl> & <int> & <dbl> & <int>\\\\\n",
       "\\hline\n",
       "\\end{tabular}\n"
      ],
      "text/markdown": [
       "\n",
       "A data.frame: 0 × 8\n",
       "\n",
       "| Identifiers &lt;int&gt; | GROUP &lt;chr&gt; | Study_Site &lt;chr&gt; | Gender &lt;chr&gt; | V06.aosi.Candidate_Age &lt;dbl&gt; | V06.aosi.total_score_1_18 &lt;int&gt; | V12.aosi.Candidate_Age &lt;dbl&gt; | V12.aosi.total_score_1_18 &lt;int&gt; |\n",
       "|---|---|---|---|---|---|---|---|\n",
       "\n"
      ],
      "text/plain": [
       "     Identifiers GROUP Study_Site Gender V06.aosi.Candidate_Age\n",
       "     V06.aosi.total_score_1_18 V12.aosi.Candidate_Age V12.aosi.total_score_1_18"
      ]
     },
     "metadata": {},
     "output_type": "display_data"
    }
   ],
   "source": [
    "# Ne sélectionner que les observations féminines\n",
    "filter(data, Gender == \"Female\") # L'ensemble de données retourné est vide, nous n'avons que des sujets masculins"
   ]
  },
  {
   "cell_type": "markdown",
   "id": "7f578923",
   "metadata": {},
   "source": [
    "Enfin, la fonction **arrange()** est utilisée pour réorganiser les observations dans l'ensemble de données en fonction de variables spécifiques. La syntaxe de la fonction est `arrange(ensemble_de_données, variable1, variable2, ...)` où variable1, variable2, ... sont les variables que l'on souhaite utiliser pour le réordonnancement. Simplement en mentionnant le nom de la variable, l'ensemble de données sera trié par valeurs croissantes de la variable. Pour utiliser un ordre décroissant, on utilise `desc(variable)` à la place.\n"
   ]
  },
  {
   "cell_type": "code",
   "execution_count": 26,
   "id": "feed43dc",
   "metadata": {},
   "outputs": [
    {
     "data": {
      "text/html": [
       "<table class=\"dataframe\">\n",
       "<caption>A data.frame: 10 × 8</caption>\n",
       "<thead>\n",
       "\t<tr><th scope=col>Identifiers</th><th scope=col>GROUP</th><th scope=col>Study_Site</th><th scope=col>Gender</th><th scope=col>V06.aosi.Candidate_Age</th><th scope=col>V06.aosi.total_score_1_18</th><th scope=col>V12.aosi.Candidate_Age</th><th scope=col>V12.aosi.total_score_1_18</th></tr>\n",
       "\t<tr><th scope=col>&lt;int&gt;</th><th scope=col>&lt;chr&gt;</th><th scope=col>&lt;chr&gt;</th><th scope=col>&lt;chr&gt;</th><th scope=col>&lt;dbl&gt;</th><th scope=col>&lt;int&gt;</th><th scope=col>&lt;dbl&gt;</th><th scope=col>&lt;int&gt;</th></tr>\n",
       "</thead>\n",
       "<tbody>\n",
       "\t<tr><td> 8</td><td>HR_ASD</td><td>PHI</td><td>Male</td><td>6.2</td><td>10</td><td>12.2</td><td>14</td></tr>\n",
       "\t<tr><td>10</td><td>HR_ASD</td><td>PHI</td><td>Male</td><td> NA</td><td>NA</td><td>12.2</td><td> 7</td></tr>\n",
       "\t<tr><td> 7</td><td>HR_ASD</td><td>PHI</td><td>Male</td><td>6.2</td><td>16</td><td>12.3</td><td> 4</td></tr>\n",
       "\t<tr><td> 2</td><td>HR_ASD</td><td>PHI</td><td>Male</td><td>6.1</td><td>18</td><td>12.4</td><td>10</td></tr>\n",
       "\t<tr><td> 1</td><td>HR_ASD</td><td>PHI</td><td>Male</td><td>7.1</td><td> 8</td><td>12.5</td><td> 3</td></tr>\n",
       "\t<tr><td> 4</td><td>HR_ASD</td><td>PHI</td><td>Male</td><td> NA</td><td>NA</td><td>12.7</td><td> 3</td></tr>\n",
       "\t<tr><td> 3</td><td>HR_ASD</td><td>PHI</td><td>Male</td><td>6.6</td><td> 4</td><td>12.9</td><td> 2</td></tr>\n",
       "\t<tr><td> 6</td><td>HR_neg</td><td>PHI</td><td>Male</td><td> NA</td><td>NA</td><td>12.1</td><td> 4</td></tr>\n",
       "\t<tr><td> 9</td><td>HR_neg</td><td>PHI</td><td>Male</td><td> NA</td><td>NA</td><td>12.4</td><td> 1</td></tr>\n",
       "\t<tr><td> 5</td><td>HR_neg</td><td>PHI</td><td>Male</td><td>6.8</td><td> 6</td><td>  NA</td><td>NA</td></tr>\n",
       "</tbody>\n",
       "</table>\n"
      ],
      "text/latex": [
       "A data.frame: 10 × 8\n",
       "\\begin{tabular}{llllllll}\n",
       " Identifiers & GROUP & Study\\_Site & Gender & V06.aosi.Candidate\\_Age & V06.aosi.total\\_score\\_1\\_18 & V12.aosi.Candidate\\_Age & V12.aosi.total\\_score\\_1\\_18\\\\\n",
       " <int> & <chr> & <chr> & <chr> & <dbl> & <int> & <dbl> & <int>\\\\\n",
       "\\hline\n",
       "\t  8 & HR\\_ASD & PHI & Male & 6.2 & 10 & 12.2 & 14\\\\\n",
       "\t 10 & HR\\_ASD & PHI & Male &  NA & NA & 12.2 &  7\\\\\n",
       "\t  7 & HR\\_ASD & PHI & Male & 6.2 & 16 & 12.3 &  4\\\\\n",
       "\t  2 & HR\\_ASD & PHI & Male & 6.1 & 18 & 12.4 & 10\\\\\n",
       "\t  1 & HR\\_ASD & PHI & Male & 7.1 &  8 & 12.5 &  3\\\\\n",
       "\t  4 & HR\\_ASD & PHI & Male &  NA & NA & 12.7 &  3\\\\\n",
       "\t  3 & HR\\_ASD & PHI & Male & 6.6 &  4 & 12.9 &  2\\\\\n",
       "\t  6 & HR\\_neg & PHI & Male &  NA & NA & 12.1 &  4\\\\\n",
       "\t  9 & HR\\_neg & PHI & Male &  NA & NA & 12.4 &  1\\\\\n",
       "\t  5 & HR\\_neg & PHI & Male & 6.8 &  6 &   NA & NA\\\\\n",
       "\\end{tabular}\n"
      ],
      "text/markdown": [
       "\n",
       "A data.frame: 10 × 8\n",
       "\n",
       "| Identifiers &lt;int&gt; | GROUP &lt;chr&gt; | Study_Site &lt;chr&gt; | Gender &lt;chr&gt; | V06.aosi.Candidate_Age &lt;dbl&gt; | V06.aosi.total_score_1_18 &lt;int&gt; | V12.aosi.Candidate_Age &lt;dbl&gt; | V12.aosi.total_score_1_18 &lt;int&gt; |\n",
       "|---|---|---|---|---|---|---|---|\n",
       "|  8 | HR_ASD | PHI | Male | 6.2 | 10 | 12.2 | 14 |\n",
       "| 10 | HR_ASD | PHI | Male |  NA | NA | 12.2 |  7 |\n",
       "|  7 | HR_ASD | PHI | Male | 6.2 | 16 | 12.3 |  4 |\n",
       "|  2 | HR_ASD | PHI | Male | 6.1 | 18 | 12.4 | 10 |\n",
       "|  1 | HR_ASD | PHI | Male | 7.1 |  8 | 12.5 |  3 |\n",
       "|  4 | HR_ASD | PHI | Male |  NA | NA | 12.7 |  3 |\n",
       "|  3 | HR_ASD | PHI | Male | 6.6 |  4 | 12.9 |  2 |\n",
       "|  6 | HR_neg | PHI | Male |  NA | NA | 12.1 |  4 |\n",
       "|  9 | HR_neg | PHI | Male |  NA | NA | 12.4 |  1 |\n",
       "|  5 | HR_neg | PHI | Male | 6.8 |  6 |   NA | NA |\n",
       "\n"
      ],
      "text/plain": [
       "   Identifiers GROUP  Study_Site Gender V06.aosi.Candidate_Age\n",
       "1   8          HR_ASD PHI        Male   6.2                   \n",
       "2  10          HR_ASD PHI        Male    NA                   \n",
       "3   7          HR_ASD PHI        Male   6.2                   \n",
       "4   2          HR_ASD PHI        Male   6.1                   \n",
       "5   1          HR_ASD PHI        Male   7.1                   \n",
       "6   4          HR_ASD PHI        Male    NA                   \n",
       "7   3          HR_ASD PHI        Male   6.6                   \n",
       "8   6          HR_neg PHI        Male    NA                   \n",
       "9   9          HR_neg PHI        Male    NA                   \n",
       "10  5          HR_neg PHI        Male   6.8                   \n",
       "   V06.aosi.total_score_1_18 V12.aosi.Candidate_Age V12.aosi.total_score_1_18\n",
       "1  10                        12.2                   14                       \n",
       "2  NA                        12.2                    7                       \n",
       "3  16                        12.3                    4                       \n",
       "4  18                        12.4                   10                       \n",
       "5   8                        12.5                    3                       \n",
       "6  NA                        12.7                    3                       \n",
       "7   4                        12.9                    2                       \n",
       "8  NA                        12.1                    4                       \n",
       "9  NA                        12.4                    1                       \n",
       "10  6                          NA                   NA                       "
      ]
     },
     "metadata": {},
     "output_type": "display_data"
    }
   ],
   "source": [
    "# age croissant\n",
    "arrange(.data = data, GROUP, V12.aosi.Candidate_Age)"
   ]
  },
  {
   "cell_type": "code",
   "execution_count": 27,
   "id": "17bd61c7",
   "metadata": {},
   "outputs": [
    {
     "data": {
      "text/html": [
       "<table class=\"dataframe\">\n",
       "<caption>A data.frame: 10 × 8</caption>\n",
       "<thead>\n",
       "\t<tr><th scope=col>Identifiers</th><th scope=col>GROUP</th><th scope=col>Study_Site</th><th scope=col>Gender</th><th scope=col>V06.aosi.Candidate_Age</th><th scope=col>V06.aosi.total_score_1_18</th><th scope=col>V12.aosi.Candidate_Age</th><th scope=col>V12.aosi.total_score_1_18</th></tr>\n",
       "\t<tr><th scope=col>&lt;int&gt;</th><th scope=col>&lt;chr&gt;</th><th scope=col>&lt;chr&gt;</th><th scope=col>&lt;chr&gt;</th><th scope=col>&lt;dbl&gt;</th><th scope=col>&lt;int&gt;</th><th scope=col>&lt;dbl&gt;</th><th scope=col>&lt;int&gt;</th></tr>\n",
       "</thead>\n",
       "<tbody>\n",
       "\t<tr><td> 3</td><td>HR_ASD</td><td>PHI</td><td>Male</td><td>6.6</td><td> 4</td><td>12.9</td><td> 2</td></tr>\n",
       "\t<tr><td> 4</td><td>HR_ASD</td><td>PHI</td><td>Male</td><td> NA</td><td>NA</td><td>12.7</td><td> 3</td></tr>\n",
       "\t<tr><td> 1</td><td>HR_ASD</td><td>PHI</td><td>Male</td><td>7.1</td><td> 8</td><td>12.5</td><td> 3</td></tr>\n",
       "\t<tr><td> 2</td><td>HR_ASD</td><td>PHI</td><td>Male</td><td>6.1</td><td>18</td><td>12.4</td><td>10</td></tr>\n",
       "\t<tr><td> 7</td><td>HR_ASD</td><td>PHI</td><td>Male</td><td>6.2</td><td>16</td><td>12.3</td><td> 4</td></tr>\n",
       "\t<tr><td> 8</td><td>HR_ASD</td><td>PHI</td><td>Male</td><td>6.2</td><td>10</td><td>12.2</td><td>14</td></tr>\n",
       "\t<tr><td>10</td><td>HR_ASD</td><td>PHI</td><td>Male</td><td> NA</td><td>NA</td><td>12.2</td><td> 7</td></tr>\n",
       "\t<tr><td> 9</td><td>HR_neg</td><td>PHI</td><td>Male</td><td> NA</td><td>NA</td><td>12.4</td><td> 1</td></tr>\n",
       "\t<tr><td> 6</td><td>HR_neg</td><td>PHI</td><td>Male</td><td> NA</td><td>NA</td><td>12.1</td><td> 4</td></tr>\n",
       "\t<tr><td> 5</td><td>HR_neg</td><td>PHI</td><td>Male</td><td>6.8</td><td> 6</td><td>  NA</td><td>NA</td></tr>\n",
       "</tbody>\n",
       "</table>\n"
      ],
      "text/latex": [
       "A data.frame: 10 × 8\n",
       "\\begin{tabular}{llllllll}\n",
       " Identifiers & GROUP & Study\\_Site & Gender & V06.aosi.Candidate\\_Age & V06.aosi.total\\_score\\_1\\_18 & V12.aosi.Candidate\\_Age & V12.aosi.total\\_score\\_1\\_18\\\\\n",
       " <int> & <chr> & <chr> & <chr> & <dbl> & <int> & <dbl> & <int>\\\\\n",
       "\\hline\n",
       "\t  3 & HR\\_ASD & PHI & Male & 6.6 &  4 & 12.9 &  2\\\\\n",
       "\t  4 & HR\\_ASD & PHI & Male &  NA & NA & 12.7 &  3\\\\\n",
       "\t  1 & HR\\_ASD & PHI & Male & 7.1 &  8 & 12.5 &  3\\\\\n",
       "\t  2 & HR\\_ASD & PHI & Male & 6.1 & 18 & 12.4 & 10\\\\\n",
       "\t  7 & HR\\_ASD & PHI & Male & 6.2 & 16 & 12.3 &  4\\\\\n",
       "\t  8 & HR\\_ASD & PHI & Male & 6.2 & 10 & 12.2 & 14\\\\\n",
       "\t 10 & HR\\_ASD & PHI & Male &  NA & NA & 12.2 &  7\\\\\n",
       "\t  9 & HR\\_neg & PHI & Male &  NA & NA & 12.4 &  1\\\\\n",
       "\t  6 & HR\\_neg & PHI & Male &  NA & NA & 12.1 &  4\\\\\n",
       "\t  5 & HR\\_neg & PHI & Male & 6.8 &  6 &   NA & NA\\\\\n",
       "\\end{tabular}\n"
      ],
      "text/markdown": [
       "\n",
       "A data.frame: 10 × 8\n",
       "\n",
       "| Identifiers &lt;int&gt; | GROUP &lt;chr&gt; | Study_Site &lt;chr&gt; | Gender &lt;chr&gt; | V06.aosi.Candidate_Age &lt;dbl&gt; | V06.aosi.total_score_1_18 &lt;int&gt; | V12.aosi.Candidate_Age &lt;dbl&gt; | V12.aosi.total_score_1_18 &lt;int&gt; |\n",
       "|---|---|---|---|---|---|---|---|\n",
       "|  3 | HR_ASD | PHI | Male | 6.6 |  4 | 12.9 |  2 |\n",
       "|  4 | HR_ASD | PHI | Male |  NA | NA | 12.7 |  3 |\n",
       "|  1 | HR_ASD | PHI | Male | 7.1 |  8 | 12.5 |  3 |\n",
       "|  2 | HR_ASD | PHI | Male | 6.1 | 18 | 12.4 | 10 |\n",
       "|  7 | HR_ASD | PHI | Male | 6.2 | 16 | 12.3 |  4 |\n",
       "|  8 | HR_ASD | PHI | Male | 6.2 | 10 | 12.2 | 14 |\n",
       "| 10 | HR_ASD | PHI | Male |  NA | NA | 12.2 |  7 |\n",
       "|  9 | HR_neg | PHI | Male |  NA | NA | 12.4 |  1 |\n",
       "|  6 | HR_neg | PHI | Male |  NA | NA | 12.1 |  4 |\n",
       "|  5 | HR_neg | PHI | Male | 6.8 |  6 |   NA | NA |\n",
       "\n"
      ],
      "text/plain": [
       "   Identifiers GROUP  Study_Site Gender V06.aosi.Candidate_Age\n",
       "1   3          HR_ASD PHI        Male   6.6                   \n",
       "2   4          HR_ASD PHI        Male    NA                   \n",
       "3   1          HR_ASD PHI        Male   7.1                   \n",
       "4   2          HR_ASD PHI        Male   6.1                   \n",
       "5   7          HR_ASD PHI        Male   6.2                   \n",
       "6   8          HR_ASD PHI        Male   6.2                   \n",
       "7  10          HR_ASD PHI        Male    NA                   \n",
       "8   9          HR_neg PHI        Male    NA                   \n",
       "9   6          HR_neg PHI        Male    NA                   \n",
       "10  5          HR_neg PHI        Male   6.8                   \n",
       "   V06.aosi.total_score_1_18 V12.aosi.Candidate_Age V12.aosi.total_score_1_18\n",
       "1   4                        12.9                    2                       \n",
       "2  NA                        12.7                    3                       \n",
       "3   8                        12.5                    3                       \n",
       "4  18                        12.4                   10                       \n",
       "5  16                        12.3                    4                       \n",
       "6  10                        12.2                   14                       \n",
       "7  NA                        12.2                    7                       \n",
       "8  NA                        12.4                    1                       \n",
       "9  NA                        12.1                    4                       \n",
       "10  6                          NA                   NA                       "
      ]
     },
     "metadata": {},
     "output_type": "display_data"
    }
   ],
   "source": [
    "# age décroissant\n",
    "arrange(data, GROUP, desc(V12.aosi.Candidate_Age))"
   ]
  },
  {
   "cell_type": "code",
   "execution_count": 28,
   "id": "3d9d9886",
   "metadata": {},
   "outputs": [
    {
     "data": {
      "text/html": [
       "<table class=\"dataframe\">\n",
       "<caption>A data.frame: 10 × 8</caption>\n",
       "<thead>\n",
       "\t<tr><th scope=col>Identifiers</th><th scope=col>GROUP</th><th scope=col>Study_Site</th><th scope=col>Gender</th><th scope=col>V06.aosi.Candidate_Age</th><th scope=col>V06.aosi.total_score_1_18</th><th scope=col>V12.aosi.Candidate_Age</th><th scope=col>V12.aosi.total_score_1_18</th></tr>\n",
       "\t<tr><th scope=col>&lt;int&gt;</th><th scope=col>&lt;chr&gt;</th><th scope=col>&lt;chr&gt;</th><th scope=col>&lt;chr&gt;</th><th scope=col>&lt;dbl&gt;</th><th scope=col>&lt;int&gt;</th><th scope=col>&lt;dbl&gt;</th><th scope=col>&lt;int&gt;</th></tr>\n",
       "</thead>\n",
       "<tbody>\n",
       "\t<tr><td> 5</td><td>HR_neg</td><td>PHI</td><td>Male</td><td>6.8</td><td> 6</td><td>  NA</td><td>NA</td></tr>\n",
       "\t<tr><td> 6</td><td>HR_neg</td><td>PHI</td><td>Male</td><td> NA</td><td>NA</td><td>12.1</td><td> 4</td></tr>\n",
       "\t<tr><td> 9</td><td>HR_neg</td><td>PHI</td><td>Male</td><td> NA</td><td>NA</td><td>12.4</td><td> 1</td></tr>\n",
       "\t<tr><td> 1</td><td>HR_ASD</td><td>PHI</td><td>Male</td><td>7.1</td><td> 8</td><td>12.5</td><td> 3</td></tr>\n",
       "\t<tr><td> 2</td><td>HR_ASD</td><td>PHI</td><td>Male</td><td>6.1</td><td>18</td><td>12.4</td><td>10</td></tr>\n",
       "\t<tr><td> 3</td><td>HR_ASD</td><td>PHI</td><td>Male</td><td>6.6</td><td> 4</td><td>12.9</td><td> 2</td></tr>\n",
       "\t<tr><td> 4</td><td>HR_ASD</td><td>PHI</td><td>Male</td><td> NA</td><td>NA</td><td>12.7</td><td> 3</td></tr>\n",
       "\t<tr><td> 7</td><td>HR_ASD</td><td>PHI</td><td>Male</td><td>6.2</td><td>16</td><td>12.3</td><td> 4</td></tr>\n",
       "\t<tr><td> 8</td><td>HR_ASD</td><td>PHI</td><td>Male</td><td>6.2</td><td>10</td><td>12.2</td><td>14</td></tr>\n",
       "\t<tr><td>10</td><td>HR_ASD</td><td>PHI</td><td>Male</td><td> NA</td><td>NA</td><td>12.2</td><td> 7</td></tr>\n",
       "</tbody>\n",
       "</table>\n"
      ],
      "text/latex": [
       "A data.frame: 10 × 8\n",
       "\\begin{tabular}{llllllll}\n",
       " Identifiers & GROUP & Study\\_Site & Gender & V06.aosi.Candidate\\_Age & V06.aosi.total\\_score\\_1\\_18 & V12.aosi.Candidate\\_Age & V12.aosi.total\\_score\\_1\\_18\\\\\n",
       " <int> & <chr> & <chr> & <chr> & <dbl> & <int> & <dbl> & <int>\\\\\n",
       "\\hline\n",
       "\t  5 & HR\\_neg & PHI & Male & 6.8 &  6 &   NA & NA\\\\\n",
       "\t  6 & HR\\_neg & PHI & Male &  NA & NA & 12.1 &  4\\\\\n",
       "\t  9 & HR\\_neg & PHI & Male &  NA & NA & 12.4 &  1\\\\\n",
       "\t  1 & HR\\_ASD & PHI & Male & 7.1 &  8 & 12.5 &  3\\\\\n",
       "\t  2 & HR\\_ASD & PHI & Male & 6.1 & 18 & 12.4 & 10\\\\\n",
       "\t  3 & HR\\_ASD & PHI & Male & 6.6 &  4 & 12.9 &  2\\\\\n",
       "\t  4 & HR\\_ASD & PHI & Male &  NA & NA & 12.7 &  3\\\\\n",
       "\t  7 & HR\\_ASD & PHI & Male & 6.2 & 16 & 12.3 &  4\\\\\n",
       "\t  8 & HR\\_ASD & PHI & Male & 6.2 & 10 & 12.2 & 14\\\\\n",
       "\t 10 & HR\\_ASD & PHI & Male &  NA & NA & 12.2 &  7\\\\\n",
       "\\end{tabular}\n"
      ],
      "text/markdown": [
       "\n",
       "A data.frame: 10 × 8\n",
       "\n",
       "| Identifiers &lt;int&gt; | GROUP &lt;chr&gt; | Study_Site &lt;chr&gt; | Gender &lt;chr&gt; | V06.aosi.Candidate_Age &lt;dbl&gt; | V06.aosi.total_score_1_18 &lt;int&gt; | V12.aosi.Candidate_Age &lt;dbl&gt; | V12.aosi.total_score_1_18 &lt;int&gt; |\n",
       "|---|---|---|---|---|---|---|---|\n",
       "|  5 | HR_neg | PHI | Male | 6.8 |  6 |   NA | NA |\n",
       "|  6 | HR_neg | PHI | Male |  NA | NA | 12.1 |  4 |\n",
       "|  9 | HR_neg | PHI | Male |  NA | NA | 12.4 |  1 |\n",
       "|  1 | HR_ASD | PHI | Male | 7.1 |  8 | 12.5 |  3 |\n",
       "|  2 | HR_ASD | PHI | Male | 6.1 | 18 | 12.4 | 10 |\n",
       "|  3 | HR_ASD | PHI | Male | 6.6 |  4 | 12.9 |  2 |\n",
       "|  4 | HR_ASD | PHI | Male |  NA | NA | 12.7 |  3 |\n",
       "|  7 | HR_ASD | PHI | Male | 6.2 | 16 | 12.3 |  4 |\n",
       "|  8 | HR_ASD | PHI | Male | 6.2 | 10 | 12.2 | 14 |\n",
       "| 10 | HR_ASD | PHI | Male |  NA | NA | 12.2 |  7 |\n",
       "\n"
      ],
      "text/plain": [
       "   Identifiers GROUP  Study_Site Gender V06.aosi.Candidate_Age\n",
       "1   5          HR_neg PHI        Male   6.8                   \n",
       "2   6          HR_neg PHI        Male    NA                   \n",
       "3   9          HR_neg PHI        Male    NA                   \n",
       "4   1          HR_ASD PHI        Male   7.1                   \n",
       "5   2          HR_ASD PHI        Male   6.1                   \n",
       "6   3          HR_ASD PHI        Male   6.6                   \n",
       "7   4          HR_ASD PHI        Male    NA                   \n",
       "8   7          HR_ASD PHI        Male   6.2                   \n",
       "9   8          HR_ASD PHI        Male   6.2                   \n",
       "10 10          HR_ASD PHI        Male    NA                   \n",
       "   V06.aosi.total_score_1_18 V12.aosi.Candidate_Age V12.aosi.total_score_1_18\n",
       "1   6                          NA                   NA                       \n",
       "2  NA                        12.1                    4                       \n",
       "3  NA                        12.4                    1                       \n",
       "4   8                        12.5                    3                       \n",
       "5  18                        12.4                   10                       \n",
       "6   4                        12.9                    2                       \n",
       "7  NA                        12.7                    3                       \n",
       "8  16                        12.3                    4                       \n",
       "9  10                        12.2                   14                       \n",
       "10 NA                        12.2                    7                       "
      ]
     },
     "metadata": {},
     "output_type": "display_data"
    }
   ],
   "source": [
    "# groupe décroissant, notez que R utilise l'ordre alphabétique lorsque des variables de caractères sont utilisées\n",
    "arrange(data, desc(GROUP))"
   ]
  },
  {
   "cell_type": "markdown",
   "id": "b9dc14f4",
   "metadata": {},
   "source": [
    "### 1.2) Muter et résumer\n",
    "\n",
    "Les fonctions **mutate()** et **summarize()** sont utilisées pour créer de nouvelles variables à ajouter à l'ensemble de données. Tout d'abord, on couvre `mutate()`. La syntaxe de cette fonction est lorsqu'elle est utilisée avec le pipe : \n",
    "`mutate(ensemble_de_données, variable1, variable2, ...)` où variable1, variable2, ... sont les définitions des variables que l'on souhaite ajouter. Elles seront calculées pour chaque observation dans l'ensemble de données. On considère un ensemble de données IBIS d'enfants à haut risque (HR) avec des informations sur Vineland, Mullen et AOSI.\n",
    "\n",
    "Supposons qu'on veuille créer les variables suivantes :\n",
    "* 1) une variable contenant le score standard composite moyen de Mullen de chaque enfant à travers les 4 visites dans l'ensemble de données\n",
    "\n",
    "* 2) une variable indiquant si le site de la visite se trouve sur la côte est, le Midwest ou la côte ouest des États-Unis. On peut facilement le faire en utilisant `mutate()`, comme illustré ci-dessous :\n"
   ]
  },
  {
   "cell_type": "code",
   "execution_count": null,
   "id": "b0ab1831",
   "metadata": {},
   "outputs": [],
   "source": [
    "# Créer un ensemble de données uniquement pour les enfants HR\n",
    "data_HR <- read.csv('Cross-sec_full.csv', na.strings = c(\".\", \" \"))\n",
    "data_HR <- filter(data_HR, V24.demographics.Risk == \"HR\")\n"
   ]
  },
  {
   "cell_type": "code",
   "execution_count": 30,
   "id": "5db80bf4",
   "metadata": {
    "scrolled": false
   },
   "outputs": [
    {
     "data": {
      "text/html": [
       "<style>\n",
       ".list-inline {list-style: none; margin:0; padding: 0}\n",
       ".list-inline>li {display: inline-block}\n",
       ".list-inline>li:not(:last-child)::after {content: \"\\00b7\"; padding: 0 .5ex}\n",
       "</style>\n",
       "<ol class=list-inline><li>'Identifiers'</li><li>'SSM_ASD_v24'</li><li>'V24.demographics.Risk'</li><li>'GROUP'</li><li>'Study_Site'</li><li>'Gender'</li><li>'V06.aosi.Candidate_Age'</li><li>'V12.aosi.Candidate_Age'</li><li>'V06.aosi.total_score_1_18'</li><li>'V12.aosi.total_score_1_18'</li><li>'V36.mullen.Candidate_Age'</li><li>'V24.mullen.Candidate_Age'</li><li>'V06.mullen.Candidate_Age'</li><li>'V12.mullen.Candidate_Age'</li><li>'V36.mullen.cognitive_t_score_sum'</li><li>'V24.mullen.cognitive_t_score_sum'</li><li>'V06.mullen.cognitive_t_score_sum'</li><li>'V12.mullen.cognitive_t_score_sum'</li><li>'V36.mullen.composite_standard_score'</li><li>'V24.mullen.composite_standard_score'</li><li>'V06.mullen.composite_standard_score'</li><li>'V12.mullen.composite_standard_score'</li></ol>\n"
      ],
      "text/latex": [
       "\\begin{enumerate*}\n",
       "\\item 'Identifiers'\n",
       "\\item 'SSM\\_ASD\\_v24'\n",
       "\\item 'V24.demographics.Risk'\n",
       "\\item 'GROUP'\n",
       "\\item 'Study\\_Site'\n",
       "\\item 'Gender'\n",
       "\\item 'V06.aosi.Candidate\\_Age'\n",
       "\\item 'V12.aosi.Candidate\\_Age'\n",
       "\\item 'V06.aosi.total\\_score\\_1\\_18'\n",
       "\\item 'V12.aosi.total\\_score\\_1\\_18'\n",
       "\\item 'V36.mullen.Candidate\\_Age'\n",
       "\\item 'V24.mullen.Candidate\\_Age'\n",
       "\\item 'V06.mullen.Candidate\\_Age'\n",
       "\\item 'V12.mullen.Candidate\\_Age'\n",
       "\\item 'V36.mullen.cognitive\\_t\\_score\\_sum'\n",
       "\\item 'V24.mullen.cognitive\\_t\\_score\\_sum'\n",
       "\\item 'V06.mullen.cognitive\\_t\\_score\\_sum'\n",
       "\\item 'V12.mullen.cognitive\\_t\\_score\\_sum'\n",
       "\\item 'V36.mullen.composite\\_standard\\_score'\n",
       "\\item 'V24.mullen.composite\\_standard\\_score'\n",
       "\\item 'V06.mullen.composite\\_standard\\_score'\n",
       "\\item 'V12.mullen.composite\\_standard\\_score'\n",
       "\\end{enumerate*}\n"
      ],
      "text/markdown": [
       "1. 'Identifiers'\n",
       "2. 'SSM_ASD_v24'\n",
       "3. 'V24.demographics.Risk'\n",
       "4. 'GROUP'\n",
       "5. 'Study_Site'\n",
       "6. 'Gender'\n",
       "7. 'V06.aosi.Candidate_Age'\n",
       "8. 'V12.aosi.Candidate_Age'\n",
       "9. 'V06.aosi.total_score_1_18'\n",
       "10. 'V12.aosi.total_score_1_18'\n",
       "11. 'V36.mullen.Candidate_Age'\n",
       "12. 'V24.mullen.Candidate_Age'\n",
       "13. 'V06.mullen.Candidate_Age'\n",
       "14. 'V12.mullen.Candidate_Age'\n",
       "15. 'V36.mullen.cognitive_t_score_sum'\n",
       "16. 'V24.mullen.cognitive_t_score_sum'\n",
       "17. 'V06.mullen.cognitive_t_score_sum'\n",
       "18. 'V12.mullen.cognitive_t_score_sum'\n",
       "19. 'V36.mullen.composite_standard_score'\n",
       "20. 'V24.mullen.composite_standard_score'\n",
       "21. 'V06.mullen.composite_standard_score'\n",
       "22. 'V12.mullen.composite_standard_score'\n",
       "\n",
       "\n"
      ],
      "text/plain": [
       " [1] \"Identifiers\"                         \"SSM_ASD_v24\"                        \n",
       " [3] \"V24.demographics.Risk\"               \"GROUP\"                              \n",
       " [5] \"Study_Site\"                          \"Gender\"                             \n",
       " [7] \"V06.aosi.Candidate_Age\"              \"V12.aosi.Candidate_Age\"             \n",
       " [9] \"V06.aosi.total_score_1_18\"           \"V12.aosi.total_score_1_18\"          \n",
       "[11] \"V36.mullen.Candidate_Age\"            \"V24.mullen.Candidate_Age\"           \n",
       "[13] \"V06.mullen.Candidate_Age\"            \"V12.mullen.Candidate_Age\"           \n",
       "[15] \"V36.mullen.cognitive_t_score_sum\"    \"V24.mullen.cognitive_t_score_sum\"   \n",
       "[17] \"V06.mullen.cognitive_t_score_sum\"    \"V12.mullen.cognitive_t_score_sum\"   \n",
       "[19] \"V36.mullen.composite_standard_score\" \"V24.mullen.composite_standard_score\"\n",
       "[21] \"V06.mullen.composite_standard_score\" \"V12.mullen.composite_standard_score\""
      ]
     },
     "metadata": {},
     "output_type": "display_data"
    }
   ],
   "source": [
    "names(data_HR)"
   ]
  },
  {
   "cell_type": "code",
   "execution_count": 32,
   "id": "6d1a029e",
   "metadata": {
    "scrolled": true
   },
   "outputs": [
    {
     "data": {
      "text/html": [
       "<style>\n",
       ".list-inline {list-style: none; margin:0; padding: 0}\n",
       ".list-inline>li {display: inline-block}\n",
       ".list-inline>li:not(:last-child)::after {content: \"\\00b7\"; padding: 0 .5ex}\n",
       "</style>\n",
       "<ol class=list-inline><li>'PHI'</li><li>'SEA'</li><li>'STL'</li><li>'UNC'</li></ol>\n"
      ],
      "text/latex": [
       "\\begin{enumerate*}\n",
       "\\item 'PHI'\n",
       "\\item 'SEA'\n",
       "\\item 'STL'\n",
       "\\item 'UNC'\n",
       "\\end{enumerate*}\n"
      ],
      "text/markdown": [
       "1. 'PHI'\n",
       "2. 'SEA'\n",
       "3. 'STL'\n",
       "4. 'UNC'\n",
       "\n",
       "\n"
      ],
      "text/plain": [
       "[1] \"PHI\" \"SEA\" \"STL\" \"UNC\""
      ]
     },
     "metadata": {},
     "output_type": "display_data"
    }
   ],
   "source": [
    "unique(data_HR$Study_Site)"
   ]
  },
  {
   "cell_type": "code",
   "execution_count": 40,
   "id": "fe934cbd",
   "metadata": {},
   "outputs": [
    {
     "data": {
      "text/html": [
       "<table class=\"dataframe\">\n",
       "<caption>A data.frame: 6 × 24</caption>\n",
       "<thead>\n",
       "\t<tr><th></th><th scope=col>Identifiers</th><th scope=col>SSM_ASD_v24</th><th scope=col>V24.demographics.Risk</th><th scope=col>GROUP</th><th scope=col>Study_Site</th><th scope=col>Gender</th><th scope=col>V06.aosi.Candidate_Age</th><th scope=col>V12.aosi.Candidate_Age</th><th scope=col>V06.aosi.total_score_1_18</th><th scope=col>V12.aosi.total_score_1_18</th><th scope=col>⋯</th><th scope=col>V36.mullen.cognitive_t_score_sum</th><th scope=col>V24.mullen.cognitive_t_score_sum</th><th scope=col>V06.mullen.cognitive_t_score_sum</th><th scope=col>V12.mullen.cognitive_t_score_sum</th><th scope=col>V36.mullen.composite_standard_score</th><th scope=col>V24.mullen.composite_standard_score</th><th scope=col>V06.mullen.composite_standard_score</th><th scope=col>V12.mullen.composite_standard_score</th><th scope=col>Mullen_mean</th><th scope=col>Site_location</th></tr>\n",
       "\t<tr><th></th><th scope=col>&lt;int&gt;</th><th scope=col>&lt;chr&gt;</th><th scope=col>&lt;chr&gt;</th><th scope=col>&lt;chr&gt;</th><th scope=col>&lt;chr&gt;</th><th scope=col>&lt;chr&gt;</th><th scope=col>&lt;dbl&gt;</th><th scope=col>&lt;dbl&gt;</th><th scope=col>&lt;int&gt;</th><th scope=col>&lt;int&gt;</th><th scope=col>⋯</th><th scope=col>&lt;int&gt;</th><th scope=col>&lt;int&gt;</th><th scope=col>&lt;int&gt;</th><th scope=col>&lt;int&gt;</th><th scope=col>&lt;int&gt;</th><th scope=col>&lt;int&gt;</th><th scope=col>&lt;int&gt;</th><th scope=col>&lt;int&gt;</th><th scope=col>&lt;dbl&gt;</th><th scope=col>&lt;fct&gt;</th></tr>\n",
       "</thead>\n",
       "<tbody>\n",
       "\t<tr><th scope=row>1</th><td>1</td><td>YES_ASD</td><td>HR</td><td>HR_ASD</td><td>PHI</td><td>Male</td><td>7.1</td><td>12.5</td><td> 8</td><td> 3</td><td>⋯</td><td>153</td><td>123</td><td>179</td><td>172</td><td> 77</td><td>65</td><td> 90</td><td> 86</td><td>79.50</td><td>East_Coast</td></tr>\n",
       "\t<tr><th scope=row>2</th><td>2</td><td>YES_ASD</td><td>HR</td><td>HR_ASD</td><td>PHI</td><td>Male</td><td>6.1</td><td>12.4</td><td>18</td><td>10</td><td>⋯</td><td>110</td><td>124</td><td>170</td><td>124</td><td> 59</td><td>65</td><td> 85</td><td> 65</td><td>68.50</td><td>East_Coast</td></tr>\n",
       "\t<tr><th scope=row>3</th><td>3</td><td>YES_ASD</td><td>HR</td><td>HR_ASD</td><td>PHI</td><td>Male</td><td>6.6</td><td>12.9</td><td> 4</td><td> 2</td><td>⋯</td><td>117</td><td>134</td><td>183</td><td>219</td><td> 62</td><td>69</td><td> 92</td><td>110</td><td>83.25</td><td>East_Coast</td></tr>\n",
       "\t<tr><th scope=row>4</th><td>4</td><td>YES_ASD</td><td>HR</td><td>HR_ASD</td><td>PHI</td><td>Male</td><td> NA</td><td>12.7</td><td>NA</td><td> 3</td><td>⋯</td><td>152</td><td>107</td><td> NA</td><td>219</td><td> 77</td><td>58</td><td> NA</td><td>110</td><td>   NA</td><td>East_Coast</td></tr>\n",
       "\t<tr><th scope=row>5</th><td>5</td><td>NO_ASD </td><td>HR</td><td>HR_neg</td><td>PHI</td><td>Male</td><td>6.8</td><td>  NA</td><td> 6</td><td>NA</td><td>⋯</td><td>226</td><td>173</td><td>226</td><td> NA</td><td>113</td><td>87</td><td>113</td><td> NA</td><td>   NA</td><td>East_Coast</td></tr>\n",
       "\t<tr><th scope=row>6</th><td>6</td><td>NO_ASD </td><td>HR</td><td>HR_neg</td><td>PHI</td><td>Male</td><td> NA</td><td>12.1</td><td>NA</td><td> 4</td><td>⋯</td><td>184</td><td>196</td><td> NA</td><td>155</td><td> 92</td><td>98</td><td> NA</td><td> 78</td><td>   NA</td><td>East_Coast</td></tr>\n",
       "</tbody>\n",
       "</table>\n"
      ],
      "text/latex": [
       "A data.frame: 6 × 24\n",
       "\\begin{tabular}{r|lllllllllllllllllllll}\n",
       "  & Identifiers & SSM\\_ASD\\_v24 & V24.demographics.Risk & GROUP & Study\\_Site & Gender & V06.aosi.Candidate\\_Age & V12.aosi.Candidate\\_Age & V06.aosi.total\\_score\\_1\\_18 & V12.aosi.total\\_score\\_1\\_18 & ⋯ & V36.mullen.cognitive\\_t\\_score\\_sum & V24.mullen.cognitive\\_t\\_score\\_sum & V06.mullen.cognitive\\_t\\_score\\_sum & V12.mullen.cognitive\\_t\\_score\\_sum & V36.mullen.composite\\_standard\\_score & V24.mullen.composite\\_standard\\_score & V06.mullen.composite\\_standard\\_score & V12.mullen.composite\\_standard\\_score & Mullen\\_mean & Site\\_location\\\\\n",
       "  & <int> & <chr> & <chr> & <chr> & <chr> & <chr> & <dbl> & <dbl> & <int> & <int> & ⋯ & <int> & <int> & <int> & <int> & <int> & <int> & <int> & <int> & <dbl> & <fct>\\\\\n",
       "\\hline\n",
       "\t1 & 1 & YES\\_ASD & HR & HR\\_ASD & PHI & Male & 7.1 & 12.5 &  8 &  3 & ⋯ & 153 & 123 & 179 & 172 &  77 & 65 &  90 &  86 & 79.50 & East\\_Coast\\\\\n",
       "\t2 & 2 & YES\\_ASD & HR & HR\\_ASD & PHI & Male & 6.1 & 12.4 & 18 & 10 & ⋯ & 110 & 124 & 170 & 124 &  59 & 65 &  85 &  65 & 68.50 & East\\_Coast\\\\\n",
       "\t3 & 3 & YES\\_ASD & HR & HR\\_ASD & PHI & Male & 6.6 & 12.9 &  4 &  2 & ⋯ & 117 & 134 & 183 & 219 &  62 & 69 &  92 & 110 & 83.25 & East\\_Coast\\\\\n",
       "\t4 & 4 & YES\\_ASD & HR & HR\\_ASD & PHI & Male &  NA & 12.7 & NA &  3 & ⋯ & 152 & 107 &  NA & 219 &  77 & 58 &  NA & 110 &    NA & East\\_Coast\\\\\n",
       "\t5 & 5 & NO\\_ASD  & HR & HR\\_neg & PHI & Male & 6.8 &   NA &  6 & NA & ⋯ & 226 & 173 & 226 &  NA & 113 & 87 & 113 &  NA &    NA & East\\_Coast\\\\\n",
       "\t6 & 6 & NO\\_ASD  & HR & HR\\_neg & PHI & Male &  NA & 12.1 & NA &  4 & ⋯ & 184 & 196 &  NA & 155 &  92 & 98 &  NA &  78 &    NA & East\\_Coast\\\\\n",
       "\\end{tabular}\n"
      ],
      "text/markdown": [
       "\n",
       "A data.frame: 6 × 24\n",
       "\n",
       "| <!--/--> | Identifiers &lt;int&gt; | SSM_ASD_v24 &lt;chr&gt; | V24.demographics.Risk &lt;chr&gt; | GROUP &lt;chr&gt; | Study_Site &lt;chr&gt; | Gender &lt;chr&gt; | V06.aosi.Candidate_Age &lt;dbl&gt; | V12.aosi.Candidate_Age &lt;dbl&gt; | V06.aosi.total_score_1_18 &lt;int&gt; | V12.aosi.total_score_1_18 &lt;int&gt; | ⋯ ⋯ | V36.mullen.cognitive_t_score_sum &lt;int&gt; | V24.mullen.cognitive_t_score_sum &lt;int&gt; | V06.mullen.cognitive_t_score_sum &lt;int&gt; | V12.mullen.cognitive_t_score_sum &lt;int&gt; | V36.mullen.composite_standard_score &lt;int&gt; | V24.mullen.composite_standard_score &lt;int&gt; | V06.mullen.composite_standard_score &lt;int&gt; | V12.mullen.composite_standard_score &lt;int&gt; | Mullen_mean &lt;dbl&gt; | Site_location &lt;fct&gt; |\n",
       "|---|---|---|---|---|---|---|---|---|---|---|---|---|---|---|---|---|---|---|---|---|---|\n",
       "| 1 | 1 | YES_ASD | HR | HR_ASD | PHI | Male | 7.1 | 12.5 |  8 |  3 | ⋯ | 153 | 123 | 179 | 172 |  77 | 65 |  90 |  86 | 79.50 | East_Coast |\n",
       "| 2 | 2 | YES_ASD | HR | HR_ASD | PHI | Male | 6.1 | 12.4 | 18 | 10 | ⋯ | 110 | 124 | 170 | 124 |  59 | 65 |  85 |  65 | 68.50 | East_Coast |\n",
       "| 3 | 3 | YES_ASD | HR | HR_ASD | PHI | Male | 6.6 | 12.9 |  4 |  2 | ⋯ | 117 | 134 | 183 | 219 |  62 | 69 |  92 | 110 | 83.25 | East_Coast |\n",
       "| 4 | 4 | YES_ASD | HR | HR_ASD | PHI | Male |  NA | 12.7 | NA |  3 | ⋯ | 152 | 107 |  NA | 219 |  77 | 58 |  NA | 110 |    NA | East_Coast |\n",
       "| 5 | 5 | NO_ASD  | HR | HR_neg | PHI | Male | 6.8 |   NA |  6 | NA | ⋯ | 226 | 173 | 226 |  NA | 113 | 87 | 113 |  NA |    NA | East_Coast |\n",
       "| 6 | 6 | NO_ASD  | HR | HR_neg | PHI | Male |  NA | 12.1 | NA |  4 | ⋯ | 184 | 196 |  NA | 155 |  92 | 98 |  NA |  78 |    NA | East_Coast |\n",
       "\n"
      ],
      "text/plain": [
       "  Identifiers SSM_ASD_v24 V24.demographics.Risk GROUP  Study_Site Gender\n",
       "1 1           YES_ASD     HR                    HR_ASD PHI        Male  \n",
       "2 2           YES_ASD     HR                    HR_ASD PHI        Male  \n",
       "3 3           YES_ASD     HR                    HR_ASD PHI        Male  \n",
       "4 4           YES_ASD     HR                    HR_ASD PHI        Male  \n",
       "5 5           NO_ASD      HR                    HR_neg PHI        Male  \n",
       "6 6           NO_ASD      HR                    HR_neg PHI        Male  \n",
       "  V06.aosi.Candidate_Age V12.aosi.Candidate_Age V06.aosi.total_score_1_18\n",
       "1 7.1                    12.5                    8                       \n",
       "2 6.1                    12.4                   18                       \n",
       "3 6.6                    12.9                    4                       \n",
       "4  NA                    12.7                   NA                       \n",
       "5 6.8                      NA                    6                       \n",
       "6  NA                    12.1                   NA                       \n",
       "  V12.aosi.total_score_1_18 ⋯ V36.mullen.cognitive_t_score_sum\n",
       "1  3                        ⋯ 153                             \n",
       "2 10                        ⋯ 110                             \n",
       "3  2                        ⋯ 117                             \n",
       "4  3                        ⋯ 152                             \n",
       "5 NA                        ⋯ 226                             \n",
       "6  4                        ⋯ 184                             \n",
       "  V24.mullen.cognitive_t_score_sum V06.mullen.cognitive_t_score_sum\n",
       "1 123                              179                             \n",
       "2 124                              170                             \n",
       "3 134                              183                             \n",
       "4 107                               NA                             \n",
       "5 173                              226                             \n",
       "6 196                               NA                             \n",
       "  V12.mullen.cognitive_t_score_sum V36.mullen.composite_standard_score\n",
       "1 172                               77                                \n",
       "2 124                               59                                \n",
       "3 219                               62                                \n",
       "4 219                               77                                \n",
       "5  NA                              113                                \n",
       "6 155                               92                                \n",
       "  V24.mullen.composite_standard_score V06.mullen.composite_standard_score\n",
       "1 65                                   90                                \n",
       "2 65                                   85                                \n",
       "3 69                                   92                                \n",
       "4 58                                   NA                                \n",
       "5 87                                  113                                \n",
       "6 98                                   NA                                \n",
       "  V12.mullen.composite_standard_score Mullen_mean Site_location\n",
       "1  86                                 79.50       East_Coast   \n",
       "2  65                                 68.50       East_Coast   \n",
       "3 110                                 83.25       East_Coast   \n",
       "4 110                                    NA       East_Coast   \n",
       "5  NA                                    NA       East_Coast   \n",
       "6  78                                    NA       East_Coast   "
      ]
     },
     "metadata": {},
     "output_type": "display_data"
    }
   ],
   "source": [
    "# Créer des variables en utilisant mutate()\n",
    "data_HR <- mutate(data_HR, \n",
    "                 Mullen_mean = (data_HR$\"V36.mullen.composite_standard_score\"+data_HR$\"V24.mullen.composite_standard_score\"+data_HR$\"V06.mullen.composite_standard_score\"+data_HR$\"V12.mullen.composite_standard_score\")/4,\n",
    "                 Site_location = factor(ifelse(data_HR$Study_Site == \"PHI\" | data_HR$Study_Site == \"UNC\", \"East_Coast\",\n",
    "                                              ifelse(data_HR$Study_Site == \"STL\", \"Midwest\", \"West_Coast\"))))\n",
    "\n",
    "head(data_HR)"
   ]
  },
  {
   "cell_type": "code",
   "execution_count": 44,
   "id": "1a9a143a",
   "metadata": {},
   "outputs": [
    {
     "data": {
      "text/plain": [
       "     \n",
       "      East_Coast Midwest West_Coast\n",
       "  PHI        149       0          0\n",
       "  SEA          0       0        152\n",
       "  STL          0     145          0\n",
       "  UNC        141       0          0"
      ]
     },
     "metadata": {},
     "output_type": "display_data"
    }
   ],
   "source": [
    "table(data_HR$Study_Site, data_HR$Site_location)"
   ]
  },
  {
   "cell_type": "markdown",
   "id": "7a02c2fe",
   "metadata": {},
   "source": [
    "Dans l'exemple ci-dessus, on remarquera l'utilisation de la fonction **ifelse()**. En utilisant cette fonction, on peut créer une série de commandes if...else pour que R exécute des morceaux de code en fonction de critères spécifiés. La syntaxe de ifelse() est `ifelse(condition, action, else)` où **condition** est une déclaration logique à tester (c'est-à-dire que cette condition doit retourner TRUE ou FALSE), **action** est la commande que R exécutera si la condition est TRUE, et **else** est la commande que R exécutera si la condition est FALSE. Comme on peut le voir dans l'exemple ci-dessus, on peut créer une série de commandes if...else en enchaînant les appels à ifelse() en définissant l'argument else à un autre appel à ifelse(). La chaîne de ifelse utilisée dans l'exemple ci-dessus est interprétée comme suit.\n",
    "\n",
    "1) Si le site est \"UNC\" ou le site est \"PHI\", on définira la valeur de la variable `Site_Location` sur \"East_Coast\"\n",
    "\n",
    "2) Sinon, si le site est \"STL\", on définira la valeur de la variable `Site_Location` sur \"Midwest\"\n",
    "\n",
    "3) Sinon, si 1) et 2) ne sont pas vrais, on définira la valeur de la variable `Site_Location` sur \"West_Coast\" (puisque le site doit alors être SEA)\n",
    "\n",
    "Assurons-nous de suivre les valeurs manquantes; dans notre exemple, il n'y a pas de valeurs manquantes pour le site, donc ce n'était pas une préoccupation. S'il y avait des valeurs manquantes pour le site, la variable `Site_Location` serait définie sur \"West_Coast\" et non NA comme désiré.\n",
    "\n",
    "La fonction **summarize()** est utilisée pour réduire un ensemble de données à un ensemble de statistiques descriptives choisies telles que la moyenne, la taille de l'échantillon, l'écart type, etc. La syntaxe est `summarize(ensemble_de_données, variable1, variable2, ...)` où variable1, variable2, ... sont les définitions des statistiques descriptives que l'on souhaite calculer.\n",
    "\n",
    "Par exemple, supposons dans l'ensemble de données AOSI, on veut créer un ensemble de données contenant les valeurs moyennes du score total au mois 6 et au mois 12. Cela peut être fait en utilisant `summarize()` :\n"
   ]
  },
  {
   "cell_type": "code",
   "execution_count": 50,
   "id": "46c894a8",
   "metadata": {},
   "outputs": [
    {
     "data": {
      "text/html": [
       "<table class=\"dataframe\">\n",
       "<caption>A data.frame: 6 × 8</caption>\n",
       "<thead>\n",
       "\t<tr><th></th><th scope=col>Identifiers</th><th scope=col>GROUP</th><th scope=col>Study_Site</th><th scope=col>Gender</th><th scope=col>V06.aosi.Candidate_Age</th><th scope=col>V06.aosi.total_score_1_18</th><th scope=col>V12.aosi.Candidate_Age</th><th scope=col>V12.aosi.total_score_1_18</th></tr>\n",
       "\t<tr><th></th><th scope=col>&lt;int&gt;</th><th scope=col>&lt;chr&gt;</th><th scope=col>&lt;chr&gt;</th><th scope=col>&lt;chr&gt;</th><th scope=col>&lt;dbl&gt;</th><th scope=col>&lt;int&gt;</th><th scope=col>&lt;dbl&gt;</th><th scope=col>&lt;int&gt;</th></tr>\n",
       "</thead>\n",
       "<tbody>\n",
       "\t<tr><th scope=row>1</th><td>1</td><td>HR_ASD</td><td>PHI</td><td>Male</td><td>7.1</td><td> 8</td><td>12.5</td><td> 3</td></tr>\n",
       "\t<tr><th scope=row>2</th><td>2</td><td>HR_ASD</td><td>PHI</td><td>Male</td><td>6.1</td><td>18</td><td>12.4</td><td>10</td></tr>\n",
       "\t<tr><th scope=row>3</th><td>3</td><td>HR_ASD</td><td>PHI</td><td>Male</td><td>6.6</td><td> 4</td><td>12.9</td><td> 2</td></tr>\n",
       "\t<tr><th scope=row>4</th><td>4</td><td>HR_ASD</td><td>PHI</td><td>Male</td><td> NA</td><td>NA</td><td>12.7</td><td> 3</td></tr>\n",
       "\t<tr><th scope=row>5</th><td>5</td><td>HR_neg</td><td>PHI</td><td>Male</td><td>6.8</td><td> 6</td><td>  NA</td><td>NA</td></tr>\n",
       "\t<tr><th scope=row>6</th><td>6</td><td>HR_neg</td><td>PHI</td><td>Male</td><td> NA</td><td>NA</td><td>12.1</td><td> 4</td></tr>\n",
       "</tbody>\n",
       "</table>\n"
      ],
      "text/latex": [
       "A data.frame: 6 × 8\n",
       "\\begin{tabular}{r|llllllll}\n",
       "  & Identifiers & GROUP & Study\\_Site & Gender & V06.aosi.Candidate\\_Age & V06.aosi.total\\_score\\_1\\_18 & V12.aosi.Candidate\\_Age & V12.aosi.total\\_score\\_1\\_18\\\\\n",
       "  & <int> & <chr> & <chr> & <chr> & <dbl> & <int> & <dbl> & <int>\\\\\n",
       "\\hline\n",
       "\t1 & 1 & HR\\_ASD & PHI & Male & 7.1 &  8 & 12.5 &  3\\\\\n",
       "\t2 & 2 & HR\\_ASD & PHI & Male & 6.1 & 18 & 12.4 & 10\\\\\n",
       "\t3 & 3 & HR\\_ASD & PHI & Male & 6.6 &  4 & 12.9 &  2\\\\\n",
       "\t4 & 4 & HR\\_ASD & PHI & Male &  NA & NA & 12.7 &  3\\\\\n",
       "\t5 & 5 & HR\\_neg & PHI & Male & 6.8 &  6 &   NA & NA\\\\\n",
       "\t6 & 6 & HR\\_neg & PHI & Male &  NA & NA & 12.1 &  4\\\\\n",
       "\\end{tabular}\n"
      ],
      "text/markdown": [
       "\n",
       "A data.frame: 6 × 8\n",
       "\n",
       "| <!--/--> | Identifiers &lt;int&gt; | GROUP &lt;chr&gt; | Study_Site &lt;chr&gt; | Gender &lt;chr&gt; | V06.aosi.Candidate_Age &lt;dbl&gt; | V06.aosi.total_score_1_18 &lt;int&gt; | V12.aosi.Candidate_Age &lt;dbl&gt; | V12.aosi.total_score_1_18 &lt;int&gt; |\n",
       "|---|---|---|---|---|---|---|---|---|\n",
       "| 1 | 1 | HR_ASD | PHI | Male | 7.1 |  8 | 12.5 |  3 |\n",
       "| 2 | 2 | HR_ASD | PHI | Male | 6.1 | 18 | 12.4 | 10 |\n",
       "| 3 | 3 | HR_ASD | PHI | Male | 6.6 |  4 | 12.9 |  2 |\n",
       "| 4 | 4 | HR_ASD | PHI | Male |  NA | NA | 12.7 |  3 |\n",
       "| 5 | 5 | HR_neg | PHI | Male | 6.8 |  6 |   NA | NA |\n",
       "| 6 | 6 | HR_neg | PHI | Male |  NA | NA | 12.1 |  4 |\n",
       "\n"
      ],
      "text/plain": [
       "  Identifiers GROUP  Study_Site Gender V06.aosi.Candidate_Age\n",
       "1 1           HR_ASD PHI        Male   7.1                   \n",
       "2 2           HR_ASD PHI        Male   6.1                   \n",
       "3 3           HR_ASD PHI        Male   6.6                   \n",
       "4 4           HR_ASD PHI        Male    NA                   \n",
       "5 5           HR_neg PHI        Male   6.8                   \n",
       "6 6           HR_neg PHI        Male    NA                   \n",
       "  V06.aosi.total_score_1_18 V12.aosi.Candidate_Age V12.aosi.total_score_1_18\n",
       "1  8                        12.5                    3                       \n",
       "2 18                        12.4                   10                       \n",
       "3  4                        12.9                    2                       \n",
       "4 NA                        12.7                    3                       \n",
       "5  6                          NA                   NA                       \n",
       "6 NA                        12.1                    4                       "
      ]
     },
     "metadata": {},
     "output_type": "display_data"
    }
   ],
   "source": [
    "data_aosi <- read.csv(\"cross-sec_aosi.csv\", na.strings = c(\".\", \" \"))\n",
    "head(data_aosi)"
   ]
  },
  {
   "cell_type": "code",
   "execution_count": 51,
   "id": "98671bb8",
   "metadata": {},
   "outputs": [
    {
     "data": {
      "text/html": [
       "<style>\n",
       ".list-inline {list-style: none; margin:0; padding: 0}\n",
       ".list-inline>li {display: inline-block}\n",
       ".list-inline>li:not(:last-child)::after {content: \"\\00b7\"; padding: 0 .5ex}\n",
       "</style>\n",
       "<ol class=list-inline><li>'Identifiers'</li><li>'GROUP'</li><li>'Study_Site'</li><li>'Gender'</li><li>'V06.aosi.Candidate_Age'</li><li>'V06.aosi.total_score_1_18'</li><li>'V12.aosi.Candidate_Age'</li><li>'V12.aosi.total_score_1_18'</li></ol>\n"
      ],
      "text/latex": [
       "\\begin{enumerate*}\n",
       "\\item 'Identifiers'\n",
       "\\item 'GROUP'\n",
       "\\item 'Study\\_Site'\n",
       "\\item 'Gender'\n",
       "\\item 'V06.aosi.Candidate\\_Age'\n",
       "\\item 'V06.aosi.total\\_score\\_1\\_18'\n",
       "\\item 'V12.aosi.Candidate\\_Age'\n",
       "\\item 'V12.aosi.total\\_score\\_1\\_18'\n",
       "\\end{enumerate*}\n"
      ],
      "text/markdown": [
       "1. 'Identifiers'\n",
       "2. 'GROUP'\n",
       "3. 'Study_Site'\n",
       "4. 'Gender'\n",
       "5. 'V06.aosi.Candidate_Age'\n",
       "6. 'V06.aosi.total_score_1_18'\n",
       "7. 'V12.aosi.Candidate_Age'\n",
       "8. 'V12.aosi.total_score_1_18'\n",
       "\n",
       "\n"
      ],
      "text/plain": [
       "[1] \"Identifiers\"               \"GROUP\"                    \n",
       "[3] \"Study_Site\"                \"Gender\"                   \n",
       "[5] \"V06.aosi.Candidate_Age\"    \"V06.aosi.total_score_1_18\"\n",
       "[7] \"V12.aosi.Candidate_Age\"    \"V12.aosi.total_score_1_18\""
      ]
     },
     "metadata": {},
     "output_type": "display_data"
    }
   ],
   "source": [
    "names(data_aosi)"
   ]
  },
  {
   "cell_type": "code",
   "execution_count": 52,
   "id": "31fb622b",
   "metadata": {},
   "outputs": [
    {
     "data": {
      "text/html": [
       "<table class=\"dataframe\">\n",
       "<caption>A data.frame: 1 × 3</caption>\n",
       "<thead>\n",
       "\t<tr><th scope=col>sample_size</th><th scope=col>mean_aosi_ts_v6</th><th scope=col>mean_aosi_ts_v12</th></tr>\n",
       "\t<tr><th scope=col>&lt;int&gt;</th><th scope=col>&lt;dbl&gt;</th><th scope=col>&lt;dbl&gt;</th></tr>\n",
       "</thead>\n",
       "<tbody>\n",
       "\t<tr><td>587</td><td>NA</td><td>NA</td></tr>\n",
       "</tbody>\n",
       "</table>\n"
      ],
      "text/latex": [
       "A data.frame: 1 × 3\n",
       "\\begin{tabular}{lll}\n",
       " sample\\_size & mean\\_aosi\\_ts\\_v6 & mean\\_aosi\\_ts\\_v12\\\\\n",
       " <int> & <dbl> & <dbl>\\\\\n",
       "\\hline\n",
       "\t 587 & NA & NA\\\\\n",
       "\\end{tabular}\n"
      ],
      "text/markdown": [
       "\n",
       "A data.frame: 1 × 3\n",
       "\n",
       "| sample_size &lt;int&gt; | mean_aosi_ts_v6 &lt;dbl&gt; | mean_aosi_ts_v12 &lt;dbl&gt; |\n",
       "|---|---|---|\n",
       "| 587 | NA | NA |\n",
       "\n"
      ],
      "text/plain": [
       "  sample_size mean_aosi_ts_v6 mean_aosi_ts_v12\n",
       "1 587         NA              NA              "
      ]
     },
     "metadata": {},
     "output_type": "display_data"
    }
   ],
   "source": [
    "summarise(data_aosi,\n",
    "          sample_size = n(),\n",
    "          mean_aosi_ts_v6 = mean(V06.aosi.total_score_1_18),\n",
    "         mean_aosi_ts_v12 = mean(V12.aosi.total_score_1_18))"
   ]
  },
  {
   "cell_type": "markdown",
   "id": "b95033fe",
   "metadata": {},
   "source": [
    "Cette fonction devient beaucoup plus utile lorsqu'elle est combinée avec la fonction **group_by()**. En appelant `group_by()` sur l'ensemble de données avant d'utiliser `summarize()`, R incorporera les groupes créés dans les calculs ; après avoir appelé `group_by()`, bien que les données puissent sembler les mêmes pour nous, R a marqué les observations comme étant regroupées en arrière-plan. Répétons l'exemple ci-dessus, mais d'abord groupons par genre et diagnostic :\n"
   ]
  },
  {
   "cell_type": "code",
   "execution_count": 56,
   "id": "ce1eec44",
   "metadata": {},
   "outputs": [
    {
     "name": "stderr",
     "output_type": "stream",
     "text": [
      "\u001b[1m\u001b[22m`summarise()` has grouped output by 'Gender'. You can override using the `.groups` argument.\n"
     ]
    },
    {
     "data": {
      "text/html": [
       "<table class=\"dataframe\">\n",
       "<caption>A grouped_df: 8 × 5</caption>\n",
       "<thead>\n",
       "\t<tr><th scope=col>Gender</th><th scope=col>GROUP</th><th scope=col>sample_size</th><th scope=col>mean_aosi_ts_V6</th><th scope=col>mean_aosi_ts_V12</th></tr>\n",
       "\t<tr><th scope=col>&lt;chr&gt;</th><th scope=col>&lt;chr&gt;</th><th scope=col>&lt;int&gt;</th><th scope=col>&lt;dbl&gt;</th><th scope=col>&lt;dbl&gt;</th></tr>\n",
       "</thead>\n",
       "<tbody>\n",
       "\t<tr><td>Female</td><td>HR_ASD</td><td> 20</td><td>NA</td><td>NA</td></tr>\n",
       "\t<tr><td>Female</td><td>HR_neg</td><td>145</td><td>NA</td><td>NA</td></tr>\n",
       "\t<tr><td>Female</td><td>LR_ASD</td><td>  1</td><td> 6</td><td> 5</td></tr>\n",
       "\t<tr><td>Female</td><td>LR_neg</td><td> 69</td><td>NA</td><td>NA</td></tr>\n",
       "\t<tr><td>Male  </td><td>HR_ASD</td><td> 75</td><td>NA</td><td>NA</td></tr>\n",
       "\t<tr><td>Male  </td><td>HR_neg</td><td>173</td><td>NA</td><td>NA</td></tr>\n",
       "\t<tr><td>Male  </td><td>LR_ASD</td><td>  2</td><td> 8</td><td> 3</td></tr>\n",
       "\t<tr><td>Male  </td><td>LR_neg</td><td>102</td><td>NA</td><td>NA</td></tr>\n",
       "</tbody>\n",
       "</table>\n"
      ],
      "text/latex": [
       "A grouped\\_df: 8 × 5\n",
       "\\begin{tabular}{lllll}\n",
       " Gender & GROUP & sample\\_size & mean\\_aosi\\_ts\\_V6 & mean\\_aosi\\_ts\\_V12\\\\\n",
       " <chr> & <chr> & <int> & <dbl> & <dbl>\\\\\n",
       "\\hline\n",
       "\t Female & HR\\_ASD &  20 & NA & NA\\\\\n",
       "\t Female & HR\\_neg & 145 & NA & NA\\\\\n",
       "\t Female & LR\\_ASD &   1 &  6 &  5\\\\\n",
       "\t Female & LR\\_neg &  69 & NA & NA\\\\\n",
       "\t Male   & HR\\_ASD &  75 & NA & NA\\\\\n",
       "\t Male   & HR\\_neg & 173 & NA & NA\\\\\n",
       "\t Male   & LR\\_ASD &   2 &  8 &  3\\\\\n",
       "\t Male   & LR\\_neg & 102 & NA & NA\\\\\n",
       "\\end{tabular}\n"
      ],
      "text/markdown": [
       "\n",
       "A grouped_df: 8 × 5\n",
       "\n",
       "| Gender &lt;chr&gt; | GROUP &lt;chr&gt; | sample_size &lt;int&gt; | mean_aosi_ts_V6 &lt;dbl&gt; | mean_aosi_ts_V12 &lt;dbl&gt; |\n",
       "|---|---|---|---|---|\n",
       "| Female | HR_ASD |  20 | NA | NA |\n",
       "| Female | HR_neg | 145 | NA | NA |\n",
       "| Female | LR_ASD |   1 |  6 |  5 |\n",
       "| Female | LR_neg |  69 | NA | NA |\n",
       "| Male   | HR_ASD |  75 | NA | NA |\n",
       "| Male   | HR_neg | 173 | NA | NA |\n",
       "| Male   | LR_ASD |   2 |  8 |  3 |\n",
       "| Male   | LR_neg | 102 | NA | NA |\n",
       "\n"
      ],
      "text/plain": [
       "  Gender GROUP  sample_size mean_aosi_ts_V6 mean_aosi_ts_V12\n",
       "1 Female HR_ASD  20         NA              NA              \n",
       "2 Female HR_neg 145         NA              NA              \n",
       "3 Female LR_ASD   1          6               5              \n",
       "4 Female LR_neg  69         NA              NA              \n",
       "5 Male   HR_ASD  75         NA              NA              \n",
       "6 Male   HR_neg 173         NA              NA              \n",
       "7 Male   LR_ASD   2          8               3              \n",
       "8 Male   LR_neg 102         NA              NA              "
      ]
     },
     "metadata": {},
     "output_type": "display_data"
    }
   ],
   "source": [
    "# Remarquons dans la fenêtre d'environnement, cet objet est marqué comme de type 'grouped_'\n",
    "data_aosi_grouped <- group_by(data_aosi, Gender, GROUP)\n",
    "summarize(data_aosi_grouped,\n",
    "         sample_size = n(),\n",
    "         mean_aosi_ts_V6=mean(V06.aosi.total_score_1_18),\n",
    "         mean_aosi_ts_V12=mean(V12.aosi.total_score_1_18))"
   ]
  },
  {
   "cell_type": "markdown",
   "id": "918ca1c1",
   "metadata": {},
   "source": [
    "On peut voir que les statistiques sommaires sont calculées pour chaque groupe spécifié. Il existe de nombreuses statistiques sommaires qui peuvent être calculées à l'aide de la fonction `summarise()`, notons qu'en raison de valeurs manquantes, certaines des moyennes sont NA (cela peut être modifié en ajoutant `na.omit=TRUE` comme arguments aux appels à `mean()`. Pour une liste de certaines de ces statistiques et comment les implémenter, on utilise `?summarise`.\n"
   ]
  },
  {
   "cell_type": "code",
   "execution_count": 60,
   "id": "685ab2ed",
   "metadata": {},
   "outputs": [
    {
     "name": "stderr",
     "output_type": "stream",
     "text": [
      "\u001b[1m\u001b[22m`summarise()` has grouped output by 'Gender'. You can override using the `.groups` argument.\n"
     ]
    },
    {
     "data": {
      "text/html": [
       "<table class=\"dataframe\">\n",
       "<caption>A grouped_df: 8 × 5</caption>\n",
       "<thead>\n",
       "\t<tr><th scope=col>Gender</th><th scope=col>GROUP</th><th scope=col>ample_size</th><th scope=col>mean_aosi_ts_V6</th><th scope=col>mean_aosi_ts_V12</th></tr>\n",
       "\t<tr><th scope=col>&lt;chr&gt;</th><th scope=col>&lt;chr&gt;</th><th scope=col>&lt;int&gt;</th><th scope=col>&lt;dbl&gt;</th><th scope=col>&lt;dbl&gt;</th></tr>\n",
       "</thead>\n",
       "<tbody>\n",
       "\t<tr><td>Female</td><td>HR_ASD</td><td> 20</td><td>NA</td><td>NA</td></tr>\n",
       "\t<tr><td>Female</td><td>HR_neg</td><td>145</td><td>NA</td><td>NA</td></tr>\n",
       "\t<tr><td>Female</td><td>LR_ASD</td><td>  1</td><td> 6</td><td> 5</td></tr>\n",
       "\t<tr><td>Female</td><td>LR_neg</td><td> 69</td><td>NA</td><td>NA</td></tr>\n",
       "\t<tr><td>Male  </td><td>HR_ASD</td><td> 75</td><td>NA</td><td>NA</td></tr>\n",
       "\t<tr><td>Male  </td><td>HR_neg</td><td>173</td><td>NA</td><td>NA</td></tr>\n",
       "\t<tr><td>Male  </td><td>LR_ASD</td><td>  2</td><td> 8</td><td> 3</td></tr>\n",
       "\t<tr><td>Male  </td><td>LR_neg</td><td>102</td><td>NA</td><td>NA</td></tr>\n",
       "</tbody>\n",
       "</table>\n"
      ],
      "text/latex": [
       "A grouped\\_df: 8 × 5\n",
       "\\begin{tabular}{lllll}\n",
       " Gender & GROUP & ample\\_size & mean\\_aosi\\_ts\\_V6 & mean\\_aosi\\_ts\\_V12\\\\\n",
       " <chr> & <chr> & <int> & <dbl> & <dbl>\\\\\n",
       "\\hline\n",
       "\t Female & HR\\_ASD &  20 & NA & NA\\\\\n",
       "\t Female & HR\\_neg & 145 & NA & NA\\\\\n",
       "\t Female & LR\\_ASD &   1 &  6 &  5\\\\\n",
       "\t Female & LR\\_neg &  69 & NA & NA\\\\\n",
       "\t Male   & HR\\_ASD &  75 & NA & NA\\\\\n",
       "\t Male   & HR\\_neg & 173 & NA & NA\\\\\n",
       "\t Male   & LR\\_ASD &   2 &  8 &  3\\\\\n",
       "\t Male   & LR\\_neg & 102 & NA & NA\\\\\n",
       "\\end{tabular}\n"
      ],
      "text/markdown": [
       "\n",
       "A grouped_df: 8 × 5\n",
       "\n",
       "| Gender &lt;chr&gt; | GROUP &lt;chr&gt; | ample_size &lt;int&gt; | mean_aosi_ts_V6 &lt;dbl&gt; | mean_aosi_ts_V12 &lt;dbl&gt; |\n",
       "|---|---|---|---|---|\n",
       "| Female | HR_ASD |  20 | NA | NA |\n",
       "| Female | HR_neg | 145 | NA | NA |\n",
       "| Female | LR_ASD |   1 |  6 |  5 |\n",
       "| Female | LR_neg |  69 | NA | NA |\n",
       "| Male   | HR_ASD |  75 | NA | NA |\n",
       "| Male   | HR_neg | 173 | NA | NA |\n",
       "| Male   | LR_ASD |   2 |  8 |  3 |\n",
       "| Male   | LR_neg | 102 | NA | NA |\n",
       "\n"
      ],
      "text/plain": [
       "  Gender GROUP  ample_size mean_aosi_ts_V6 mean_aosi_ts_V12\n",
       "1 Female HR_ASD  20        NA              NA              \n",
       "2 Female HR_neg 145        NA              NA              \n",
       "3 Female LR_ASD   1         6               5              \n",
       "4 Female LR_neg  69        NA              NA              \n",
       "5 Male   HR_ASD  75        NA              NA              \n",
       "6 Male   HR_neg 173        NA              NA              \n",
       "7 Male   LR_ASD   2         8               3              \n",
       "8 Male   LR_neg 102        NA              NA              "
      ]
     },
     "metadata": {},
     "output_type": "display_data"
    }
   ],
   "source": [
    "# 'groub_by' 'summarise' en ulisant pipe : control+shift+M '%>%'\n",
    "data_aosi %>% \n",
    "        group_by(Gender, GROUP) %>% \n",
    "        summarise(ample_size = n(),\n",
    "                 mean_aosi_ts_V6=mean(V06.aosi.total_score_1_18),\n",
    "                 mean_aosi_ts_V12=mean(V12.aosi.total_score_1_18))"
   ]
  },
  {
   "cell_type": "markdown",
   "id": "071a9c10",
   "metadata": {},
   "source": [
    "### 1.3) Étaler, Rassembler, Séparer et Unir\n",
    "\n",
    "Le package `dplyr` a également des fonctions utilisées pour transformer les dimensions de nos données, par exemple en passant de large à long. Rappelons-nous que l'ensemble de données complet contient des données sur les enfants pour plusieurs points dans le temps. Ainsi, il sera essentiel pour certaines analyses d'avoir les données sous forme longue ou sous forme large. Les fonctions **spread()**, **gather()**, **separate()**, et **unite()** peuvent être utilisées pour effectuer ces transformations. Montrons les quatre fonctions à travers un exemple. Pour plus d'explications sur ces fonctions, veuillez consulter [\"spreading andgathering\"](https://r4ds.had.co.nz/tidy-data.html#spreading-and-gathering) et [\"Separating and uniting\"](https://r4ds.had.co.nz/tidy-data.html#separating-and-uniting) du livre excellent de Hadley Wickham, R for Data Science.\n",
    "\n",
    "Considérons l'ensemble de données `AOSI_small.csv`. Rappelon-nous, nous avons précédemment chargé cet ensemble de données dans R et l'avons enregistré sous le nom `data`. Cet ensemble de données contient l'âge de l'enfant et le score total AOSI à 6 mois et à 12 mois et est sous forme \"large\" (1 ligne par enfant). Transformons cela en forme \"longue\" (plusieurs lignes par sujet)."
   ]
  },
  {
   "cell_type": "code",
   "execution_count": 61,
   "id": "c91e0486",
   "metadata": {},
   "outputs": [
    {
     "data": {
      "text/html": [
       "<table class=\"dataframe\">\n",
       "<caption>A data.frame: 10 × 8</caption>\n",
       "<thead>\n",
       "\t<tr><th scope=col>Identifiers</th><th scope=col>GROUP</th><th scope=col>Study_Site</th><th scope=col>Gender</th><th scope=col>V06.aosi.Candidate_Age</th><th scope=col>V06.aosi.total_score_1_18</th><th scope=col>V12.aosi.Candidate_Age</th><th scope=col>V12.aosi.total_score_1_18</th></tr>\n",
       "\t<tr><th scope=col>&lt;int&gt;</th><th scope=col>&lt;chr&gt;</th><th scope=col>&lt;chr&gt;</th><th scope=col>&lt;chr&gt;</th><th scope=col>&lt;dbl&gt;</th><th scope=col>&lt;int&gt;</th><th scope=col>&lt;dbl&gt;</th><th scope=col>&lt;int&gt;</th></tr>\n",
       "</thead>\n",
       "<tbody>\n",
       "\t<tr><td> 1</td><td>HR_ASD</td><td>PHI</td><td>Male</td><td>7.1</td><td> 8</td><td>12.5</td><td> 3</td></tr>\n",
       "\t<tr><td> 2</td><td>HR_ASD</td><td>PHI</td><td>Male</td><td>6.1</td><td>18</td><td>12.4</td><td>10</td></tr>\n",
       "\t<tr><td> 3</td><td>HR_ASD</td><td>PHI</td><td>Male</td><td>6.6</td><td> 4</td><td>12.9</td><td> 2</td></tr>\n",
       "\t<tr><td> 4</td><td>HR_ASD</td><td>PHI</td><td>Male</td><td> NA</td><td>NA</td><td>12.7</td><td> 3</td></tr>\n",
       "\t<tr><td> 5</td><td>HR_neg</td><td>PHI</td><td>Male</td><td>6.8</td><td> 6</td><td>  NA</td><td>NA</td></tr>\n",
       "\t<tr><td> 6</td><td>HR_neg</td><td>PHI</td><td>Male</td><td> NA</td><td>NA</td><td>12.1</td><td> 4</td></tr>\n",
       "\t<tr><td> 7</td><td>HR_ASD</td><td>PHI</td><td>Male</td><td>6.2</td><td>16</td><td>12.3</td><td> 4</td></tr>\n",
       "\t<tr><td> 8</td><td>HR_ASD</td><td>PHI</td><td>Male</td><td>6.2</td><td>10</td><td>12.2</td><td>14</td></tr>\n",
       "\t<tr><td> 9</td><td>HR_neg</td><td>PHI</td><td>Male</td><td> NA</td><td>NA</td><td>12.4</td><td> 1</td></tr>\n",
       "\t<tr><td>10</td><td>HR_ASD</td><td>PHI</td><td>Male</td><td> NA</td><td>NA</td><td>12.2</td><td> 7</td></tr>\n",
       "</tbody>\n",
       "</table>\n"
      ],
      "text/latex": [
       "A data.frame: 10 × 8\n",
       "\\begin{tabular}{llllllll}\n",
       " Identifiers & GROUP & Study\\_Site & Gender & V06.aosi.Candidate\\_Age & V06.aosi.total\\_score\\_1\\_18 & V12.aosi.Candidate\\_Age & V12.aosi.total\\_score\\_1\\_18\\\\\n",
       " <int> & <chr> & <chr> & <chr> & <dbl> & <int> & <dbl> & <int>\\\\\n",
       "\\hline\n",
       "\t  1 & HR\\_ASD & PHI & Male & 7.1 &  8 & 12.5 &  3\\\\\n",
       "\t  2 & HR\\_ASD & PHI & Male & 6.1 & 18 & 12.4 & 10\\\\\n",
       "\t  3 & HR\\_ASD & PHI & Male & 6.6 &  4 & 12.9 &  2\\\\\n",
       "\t  4 & HR\\_ASD & PHI & Male &  NA & NA & 12.7 &  3\\\\\n",
       "\t  5 & HR\\_neg & PHI & Male & 6.8 &  6 &   NA & NA\\\\\n",
       "\t  6 & HR\\_neg & PHI & Male &  NA & NA & 12.1 &  4\\\\\n",
       "\t  7 & HR\\_ASD & PHI & Male & 6.2 & 16 & 12.3 &  4\\\\\n",
       "\t  8 & HR\\_ASD & PHI & Male & 6.2 & 10 & 12.2 & 14\\\\\n",
       "\t  9 & HR\\_neg & PHI & Male &  NA & NA & 12.4 &  1\\\\\n",
       "\t 10 & HR\\_ASD & PHI & Male &  NA & NA & 12.2 &  7\\\\\n",
       "\\end{tabular}\n"
      ],
      "text/markdown": [
       "\n",
       "A data.frame: 10 × 8\n",
       "\n",
       "| Identifiers &lt;int&gt; | GROUP &lt;chr&gt; | Study_Site &lt;chr&gt; | Gender &lt;chr&gt; | V06.aosi.Candidate_Age &lt;dbl&gt; | V06.aosi.total_score_1_18 &lt;int&gt; | V12.aosi.Candidate_Age &lt;dbl&gt; | V12.aosi.total_score_1_18 &lt;int&gt; |\n",
       "|---|---|---|---|---|---|---|---|\n",
       "|  1 | HR_ASD | PHI | Male | 7.1 |  8 | 12.5 |  3 |\n",
       "|  2 | HR_ASD | PHI | Male | 6.1 | 18 | 12.4 | 10 |\n",
       "|  3 | HR_ASD | PHI | Male | 6.6 |  4 | 12.9 |  2 |\n",
       "|  4 | HR_ASD | PHI | Male |  NA | NA | 12.7 |  3 |\n",
       "|  5 | HR_neg | PHI | Male | 6.8 |  6 |   NA | NA |\n",
       "|  6 | HR_neg | PHI | Male |  NA | NA | 12.1 |  4 |\n",
       "|  7 | HR_ASD | PHI | Male | 6.2 | 16 | 12.3 |  4 |\n",
       "|  8 | HR_ASD | PHI | Male | 6.2 | 10 | 12.2 | 14 |\n",
       "|  9 | HR_neg | PHI | Male |  NA | NA | 12.4 |  1 |\n",
       "| 10 | HR_ASD | PHI | Male |  NA | NA | 12.2 |  7 |\n",
       "\n"
      ],
      "text/plain": [
       "   Identifiers GROUP  Study_Site Gender V06.aosi.Candidate_Age\n",
       "1   1          HR_ASD PHI        Male   7.1                   \n",
       "2   2          HR_ASD PHI        Male   6.1                   \n",
       "3   3          HR_ASD PHI        Male   6.6                   \n",
       "4   4          HR_ASD PHI        Male    NA                   \n",
       "5   5          HR_neg PHI        Male   6.8                   \n",
       "6   6          HR_neg PHI        Male    NA                   \n",
       "7   7          HR_ASD PHI        Male   6.2                   \n",
       "8   8          HR_ASD PHI        Male   6.2                   \n",
       "9   9          HR_neg PHI        Male    NA                   \n",
       "10 10          HR_ASD PHI        Male    NA                   \n",
       "   V06.aosi.total_score_1_18 V12.aosi.Candidate_Age V12.aosi.total_score_1_18\n",
       "1   8                        12.5                    3                       \n",
       "2  18                        12.4                   10                       \n",
       "3   4                        12.9                    2                       \n",
       "4  NA                        12.7                    3                       \n",
       "5   6                          NA                   NA                       \n",
       "6  NA                        12.1                    4                       \n",
       "7  16                        12.3                    4                       \n",
       "8  10                        12.2                   14                       \n",
       "9  NA                        12.4                    1                       \n",
       "10 NA                        12.2                    7                       "
      ]
     },
     "metadata": {},
     "output_type": "display_data"
    }
   ],
   "source": [
    "data"
   ]
  },
  {
   "cell_type": "markdown",
   "id": "066b8a7a",
   "metadata": {},
   "source": [
    "Tout d'abord, on extrait les noms de variables qui représentent les mesures répétées (âge et score total AOSI) pour les enfants :"
   ]
  },
  {
   "cell_type": "code",
   "execution_count": 65,
   "id": "5ada513e",
   "metadata": {
    "scrolled": true
   },
   "outputs": [
    {
     "data": {
      "text/html": [
       "<style>\n",
       ".list-inline {list-style: none; margin:0; padding: 0}\n",
       ".list-inline>li {display: inline-block}\n",
       ".list-inline>li:not(:last-child)::after {content: \"\\00b7\"; padding: 0 .5ex}\n",
       "</style>\n",
       "<ol class=list-inline><li>'V06.aosi.Candidate_Age'</li><li>'V06.aosi.total_score_1_18'</li><li>'V12.aosi.Candidate_Age'</li><li>'V12.aosi.total_score_1_18'</li></ol>\n"
      ],
      "text/latex": [
       "\\begin{enumerate*}\n",
       "\\item 'V06.aosi.Candidate\\_Age'\n",
       "\\item 'V06.aosi.total\\_score\\_1\\_18'\n",
       "\\item 'V12.aosi.Candidate\\_Age'\n",
       "\\item 'V12.aosi.total\\_score\\_1\\_18'\n",
       "\\end{enumerate*}\n"
      ],
      "text/markdown": [
       "1. 'V06.aosi.Candidate_Age'\n",
       "2. 'V06.aosi.total_score_1_18'\n",
       "3. 'V12.aosi.Candidate_Age'\n",
       "4. 'V12.aosi.total_score_1_18'\n",
       "\n",
       "\n"
      ],
      "text/plain": [
       "[1] \"V06.aosi.Candidate_Age\"    \"V06.aosi.total_score_1_18\"\n",
       "[3] \"V12.aosi.Candidate_Age\"    \"V12.aosi.total_score_1_18\""
      ]
     },
     "metadata": {},
     "output_type": "display_data"
    }
   ],
   "source": [
    "variables_to_convert <- names(data)[5:8]\n",
    "variables_to_convert"
   ]
  },
  {
   "cell_type": "markdown",
   "id": "4cac611d",
   "metadata": {},
   "source": [
    "Ensuite, on force chaque variable à être sa propre ligne, en créant deux nouvelles variables :\n",
    "\n",
    "1) `variable` qui contient le nom de la variable\n",
    "\n",
    "2) `var_value` avec la valeur de la variable.\n",
    "\n",
    "Cela se fait en utilisant **gather()**. Avec `gather()`, d'abord, on génère un nouveau nom de variable qui contient l'ancienne variable, ensuite on spécifie le nouveau nom de variable qui contient la valeur de l'ancienne variable, et enfin on spécifie les noms des anciennes variables. Remarquons l'utilisation de **%>%** dans le code suivant. Ce symbole est appelé le **pipe** et est utilisé pour connecter différentes lignes ensemble, au lieu d'écrire et de sauvegarder chaque ligne comme un objet séparé pour ensuite être écrasé."
   ]
  },
  {
   "cell_type": "code",
   "execution_count": 74,
   "id": "8cd52829",
   "metadata": {},
   "outputs": [
    {
     "data": {
      "text/html": [
       "<table class=\"dataframe\">\n",
       "<caption>A data.frame: 10 × 8</caption>\n",
       "<thead>\n",
       "\t<tr><th scope=col>Identifiers</th><th scope=col>GROUP</th><th scope=col>Study_Site</th><th scope=col>Gender</th><th scope=col>V06.aosi.Candidate_Age</th><th scope=col>V06.aosi.total_score_1_18</th><th scope=col>V12.aosi.Candidate_Age</th><th scope=col>V12.aosi.total_score_1_18</th></tr>\n",
       "\t<tr><th scope=col>&lt;int&gt;</th><th scope=col>&lt;chr&gt;</th><th scope=col>&lt;chr&gt;</th><th scope=col>&lt;chr&gt;</th><th scope=col>&lt;dbl&gt;</th><th scope=col>&lt;int&gt;</th><th scope=col>&lt;dbl&gt;</th><th scope=col>&lt;int&gt;</th></tr>\n",
       "</thead>\n",
       "<tbody>\n",
       "\t<tr><td> 1</td><td>HR_ASD</td><td>PHI</td><td>Male</td><td>7.1</td><td> 8</td><td>12.5</td><td> 3</td></tr>\n",
       "\t<tr><td> 2</td><td>HR_ASD</td><td>PHI</td><td>Male</td><td>6.1</td><td>18</td><td>12.4</td><td>10</td></tr>\n",
       "\t<tr><td> 3</td><td>HR_ASD</td><td>PHI</td><td>Male</td><td>6.6</td><td> 4</td><td>12.9</td><td> 2</td></tr>\n",
       "\t<tr><td> 4</td><td>HR_ASD</td><td>PHI</td><td>Male</td><td> NA</td><td>NA</td><td>12.7</td><td> 3</td></tr>\n",
       "\t<tr><td> 5</td><td>HR_neg</td><td>PHI</td><td>Male</td><td>6.8</td><td> 6</td><td>  NA</td><td>NA</td></tr>\n",
       "\t<tr><td> 6</td><td>HR_neg</td><td>PHI</td><td>Male</td><td> NA</td><td>NA</td><td>12.1</td><td> 4</td></tr>\n",
       "\t<tr><td> 7</td><td>HR_ASD</td><td>PHI</td><td>Male</td><td>6.2</td><td>16</td><td>12.3</td><td> 4</td></tr>\n",
       "\t<tr><td> 8</td><td>HR_ASD</td><td>PHI</td><td>Male</td><td>6.2</td><td>10</td><td>12.2</td><td>14</td></tr>\n",
       "\t<tr><td> 9</td><td>HR_neg</td><td>PHI</td><td>Male</td><td> NA</td><td>NA</td><td>12.4</td><td> 1</td></tr>\n",
       "\t<tr><td>10</td><td>HR_ASD</td><td>PHI</td><td>Male</td><td> NA</td><td>NA</td><td>12.2</td><td> 7</td></tr>\n",
       "</tbody>\n",
       "</table>\n"
      ],
      "text/latex": [
       "A data.frame: 10 × 8\n",
       "\\begin{tabular}{llllllll}\n",
       " Identifiers & GROUP & Study\\_Site & Gender & V06.aosi.Candidate\\_Age & V06.aosi.total\\_score\\_1\\_18 & V12.aosi.Candidate\\_Age & V12.aosi.total\\_score\\_1\\_18\\\\\n",
       " <int> & <chr> & <chr> & <chr> & <dbl> & <int> & <dbl> & <int>\\\\\n",
       "\\hline\n",
       "\t  1 & HR\\_ASD & PHI & Male & 7.1 &  8 & 12.5 &  3\\\\\n",
       "\t  2 & HR\\_ASD & PHI & Male & 6.1 & 18 & 12.4 & 10\\\\\n",
       "\t  3 & HR\\_ASD & PHI & Male & 6.6 &  4 & 12.9 &  2\\\\\n",
       "\t  4 & HR\\_ASD & PHI & Male &  NA & NA & 12.7 &  3\\\\\n",
       "\t  5 & HR\\_neg & PHI & Male & 6.8 &  6 &   NA & NA\\\\\n",
       "\t  6 & HR\\_neg & PHI & Male &  NA & NA & 12.1 &  4\\\\\n",
       "\t  7 & HR\\_ASD & PHI & Male & 6.2 & 16 & 12.3 &  4\\\\\n",
       "\t  8 & HR\\_ASD & PHI & Male & 6.2 & 10 & 12.2 & 14\\\\\n",
       "\t  9 & HR\\_neg & PHI & Male &  NA & NA & 12.4 &  1\\\\\n",
       "\t 10 & HR\\_ASD & PHI & Male &  NA & NA & 12.2 &  7\\\\\n",
       "\\end{tabular}\n"
      ],
      "text/markdown": [
       "\n",
       "A data.frame: 10 × 8\n",
       "\n",
       "| Identifiers &lt;int&gt; | GROUP &lt;chr&gt; | Study_Site &lt;chr&gt; | Gender &lt;chr&gt; | V06.aosi.Candidate_Age &lt;dbl&gt; | V06.aosi.total_score_1_18 &lt;int&gt; | V12.aosi.Candidate_Age &lt;dbl&gt; | V12.aosi.total_score_1_18 &lt;int&gt; |\n",
       "|---|---|---|---|---|---|---|---|\n",
       "|  1 | HR_ASD | PHI | Male | 7.1 |  8 | 12.5 |  3 |\n",
       "|  2 | HR_ASD | PHI | Male | 6.1 | 18 | 12.4 | 10 |\n",
       "|  3 | HR_ASD | PHI | Male | 6.6 |  4 | 12.9 |  2 |\n",
       "|  4 | HR_ASD | PHI | Male |  NA | NA | 12.7 |  3 |\n",
       "|  5 | HR_neg | PHI | Male | 6.8 |  6 |   NA | NA |\n",
       "|  6 | HR_neg | PHI | Male |  NA | NA | 12.1 |  4 |\n",
       "|  7 | HR_ASD | PHI | Male | 6.2 | 16 | 12.3 |  4 |\n",
       "|  8 | HR_ASD | PHI | Male | 6.2 | 10 | 12.2 | 14 |\n",
       "|  9 | HR_neg | PHI | Male |  NA | NA | 12.4 |  1 |\n",
       "| 10 | HR_ASD | PHI | Male |  NA | NA | 12.2 |  7 |\n",
       "\n"
      ],
      "text/plain": [
       "   Identifiers GROUP  Study_Site Gender V06.aosi.Candidate_Age\n",
       "1   1          HR_ASD PHI        Male   7.1                   \n",
       "2   2          HR_ASD PHI        Male   6.1                   \n",
       "3   3          HR_ASD PHI        Male   6.6                   \n",
       "4   4          HR_ASD PHI        Male    NA                   \n",
       "5   5          HR_neg PHI        Male   6.8                   \n",
       "6   6          HR_neg PHI        Male    NA                   \n",
       "7   7          HR_ASD PHI        Male   6.2                   \n",
       "8   8          HR_ASD PHI        Male   6.2                   \n",
       "9   9          HR_neg PHI        Male    NA                   \n",
       "10 10          HR_ASD PHI        Male    NA                   \n",
       "   V06.aosi.total_score_1_18 V12.aosi.Candidate_Age V12.aosi.total_score_1_18\n",
       "1   8                        12.5                    3                       \n",
       "2  18                        12.4                   10                       \n",
       "3   4                        12.9                    2                       \n",
       "4  NA                        12.7                    3                       \n",
       "5   6                          NA                   NA                       \n",
       "6  NA                        12.1                    4                       \n",
       "7  16                        12.3                    4                       \n",
       "8  10                        12.2                   14                       \n",
       "9  NA                        12.4                    1                       \n",
       "10 NA                        12.2                    7                       "
      ]
     },
     "metadata": {},
     "output_type": "display_data"
    }
   ],
   "source": [
    "data"
   ]
  },
  {
   "cell_type": "code",
   "execution_count": 73,
   "id": "2d9d0d64",
   "metadata": {},
   "outputs": [
    {
     "data": {
      "text/html": [
       "<table class=\"dataframe\">\n",
       "<caption>A data.frame: 40 × 6</caption>\n",
       "<thead>\n",
       "\t<tr><th scope=col>Identifiers</th><th scope=col>GROUP</th><th scope=col>Study_Site</th><th scope=col>Gender</th><th scope=col>variable</th><th scope=col>var_value</th></tr>\n",
       "\t<tr><th scope=col>&lt;int&gt;</th><th scope=col>&lt;chr&gt;</th><th scope=col>&lt;chr&gt;</th><th scope=col>&lt;chr&gt;</th><th scope=col>&lt;chr&gt;</th><th scope=col>&lt;dbl&gt;</th></tr>\n",
       "</thead>\n",
       "<tbody>\n",
       "\t<tr><td> 1</td><td>HR_ASD</td><td>PHI</td><td>Male</td><td>V06.aosi.Candidate_Age   </td><td> 7.1</td></tr>\n",
       "\t<tr><td> 2</td><td>HR_ASD</td><td>PHI</td><td>Male</td><td>V06.aosi.Candidate_Age   </td><td> 6.1</td></tr>\n",
       "\t<tr><td> 3</td><td>HR_ASD</td><td>PHI</td><td>Male</td><td>V06.aosi.Candidate_Age   </td><td> 6.6</td></tr>\n",
       "\t<tr><td> 4</td><td>HR_ASD</td><td>PHI</td><td>Male</td><td>V06.aosi.Candidate_Age   </td><td>  NA</td></tr>\n",
       "\t<tr><td> 5</td><td>HR_neg</td><td>PHI</td><td>Male</td><td>V06.aosi.Candidate_Age   </td><td> 6.8</td></tr>\n",
       "\t<tr><td> 6</td><td>HR_neg</td><td>PHI</td><td>Male</td><td>V06.aosi.Candidate_Age   </td><td>  NA</td></tr>\n",
       "\t<tr><td> 7</td><td>HR_ASD</td><td>PHI</td><td>Male</td><td>V06.aosi.Candidate_Age   </td><td> 6.2</td></tr>\n",
       "\t<tr><td> 8</td><td>HR_ASD</td><td>PHI</td><td>Male</td><td>V06.aosi.Candidate_Age   </td><td> 6.2</td></tr>\n",
       "\t<tr><td> 9</td><td>HR_neg</td><td>PHI</td><td>Male</td><td>V06.aosi.Candidate_Age   </td><td>  NA</td></tr>\n",
       "\t<tr><td>10</td><td>HR_ASD</td><td>PHI</td><td>Male</td><td>V06.aosi.Candidate_Age   </td><td>  NA</td></tr>\n",
       "\t<tr><td> 1</td><td>HR_ASD</td><td>PHI</td><td>Male</td><td>V06.aosi.total_score_1_18</td><td> 8.0</td></tr>\n",
       "\t<tr><td> 2</td><td>HR_ASD</td><td>PHI</td><td>Male</td><td>V06.aosi.total_score_1_18</td><td>18.0</td></tr>\n",
       "\t<tr><td> 3</td><td>HR_ASD</td><td>PHI</td><td>Male</td><td>V06.aosi.total_score_1_18</td><td> 4.0</td></tr>\n",
       "\t<tr><td> 4</td><td>HR_ASD</td><td>PHI</td><td>Male</td><td>V06.aosi.total_score_1_18</td><td>  NA</td></tr>\n",
       "\t<tr><td> 5</td><td>HR_neg</td><td>PHI</td><td>Male</td><td>V06.aosi.total_score_1_18</td><td> 6.0</td></tr>\n",
       "\t<tr><td> 6</td><td>HR_neg</td><td>PHI</td><td>Male</td><td>V06.aosi.total_score_1_18</td><td>  NA</td></tr>\n",
       "\t<tr><td> 7</td><td>HR_ASD</td><td>PHI</td><td>Male</td><td>V06.aosi.total_score_1_18</td><td>16.0</td></tr>\n",
       "\t<tr><td> 8</td><td>HR_ASD</td><td>PHI</td><td>Male</td><td>V06.aosi.total_score_1_18</td><td>10.0</td></tr>\n",
       "\t<tr><td> 9</td><td>HR_neg</td><td>PHI</td><td>Male</td><td>V06.aosi.total_score_1_18</td><td>  NA</td></tr>\n",
       "\t<tr><td>10</td><td>HR_ASD</td><td>PHI</td><td>Male</td><td>V06.aosi.total_score_1_18</td><td>  NA</td></tr>\n",
       "\t<tr><td> 1</td><td>HR_ASD</td><td>PHI</td><td>Male</td><td>V12.aosi.Candidate_Age   </td><td>12.5</td></tr>\n",
       "\t<tr><td> 2</td><td>HR_ASD</td><td>PHI</td><td>Male</td><td>V12.aosi.Candidate_Age   </td><td>12.4</td></tr>\n",
       "\t<tr><td> 3</td><td>HR_ASD</td><td>PHI</td><td>Male</td><td>V12.aosi.Candidate_Age   </td><td>12.9</td></tr>\n",
       "\t<tr><td> 4</td><td>HR_ASD</td><td>PHI</td><td>Male</td><td>V12.aosi.Candidate_Age   </td><td>12.7</td></tr>\n",
       "\t<tr><td> 5</td><td>HR_neg</td><td>PHI</td><td>Male</td><td>V12.aosi.Candidate_Age   </td><td>  NA</td></tr>\n",
       "\t<tr><td> 6</td><td>HR_neg</td><td>PHI</td><td>Male</td><td>V12.aosi.Candidate_Age   </td><td>12.1</td></tr>\n",
       "\t<tr><td> 7</td><td>HR_ASD</td><td>PHI</td><td>Male</td><td>V12.aosi.Candidate_Age   </td><td>12.3</td></tr>\n",
       "\t<tr><td> 8</td><td>HR_ASD</td><td>PHI</td><td>Male</td><td>V12.aosi.Candidate_Age   </td><td>12.2</td></tr>\n",
       "\t<tr><td> 9</td><td>HR_neg</td><td>PHI</td><td>Male</td><td>V12.aosi.Candidate_Age   </td><td>12.4</td></tr>\n",
       "\t<tr><td>10</td><td>HR_ASD</td><td>PHI</td><td>Male</td><td>V12.aosi.Candidate_Age   </td><td>12.2</td></tr>\n",
       "\t<tr><td> 1</td><td>HR_ASD</td><td>PHI</td><td>Male</td><td>V12.aosi.total_score_1_18</td><td> 3.0</td></tr>\n",
       "\t<tr><td> 2</td><td>HR_ASD</td><td>PHI</td><td>Male</td><td>V12.aosi.total_score_1_18</td><td>10.0</td></tr>\n",
       "\t<tr><td> 3</td><td>HR_ASD</td><td>PHI</td><td>Male</td><td>V12.aosi.total_score_1_18</td><td> 2.0</td></tr>\n",
       "\t<tr><td> 4</td><td>HR_ASD</td><td>PHI</td><td>Male</td><td>V12.aosi.total_score_1_18</td><td> 3.0</td></tr>\n",
       "\t<tr><td> 5</td><td>HR_neg</td><td>PHI</td><td>Male</td><td>V12.aosi.total_score_1_18</td><td>  NA</td></tr>\n",
       "\t<tr><td> 6</td><td>HR_neg</td><td>PHI</td><td>Male</td><td>V12.aosi.total_score_1_18</td><td> 4.0</td></tr>\n",
       "\t<tr><td> 7</td><td>HR_ASD</td><td>PHI</td><td>Male</td><td>V12.aosi.total_score_1_18</td><td> 4.0</td></tr>\n",
       "\t<tr><td> 8</td><td>HR_ASD</td><td>PHI</td><td>Male</td><td>V12.aosi.total_score_1_18</td><td>14.0</td></tr>\n",
       "\t<tr><td> 9</td><td>HR_neg</td><td>PHI</td><td>Male</td><td>V12.aosi.total_score_1_18</td><td> 1.0</td></tr>\n",
       "\t<tr><td>10</td><td>HR_ASD</td><td>PHI</td><td>Male</td><td>V12.aosi.total_score_1_18</td><td> 7.0</td></tr>\n",
       "</tbody>\n",
       "</table>\n"
      ],
      "text/latex": [
       "A data.frame: 40 × 6\n",
       "\\begin{tabular}{llllll}\n",
       " Identifiers & GROUP & Study\\_Site & Gender & variable & var\\_value\\\\\n",
       " <int> & <chr> & <chr> & <chr> & <chr> & <dbl>\\\\\n",
       "\\hline\n",
       "\t  1 & HR\\_ASD & PHI & Male & V06.aosi.Candidate\\_Age    &  7.1\\\\\n",
       "\t  2 & HR\\_ASD & PHI & Male & V06.aosi.Candidate\\_Age    &  6.1\\\\\n",
       "\t  3 & HR\\_ASD & PHI & Male & V06.aosi.Candidate\\_Age    &  6.6\\\\\n",
       "\t  4 & HR\\_ASD & PHI & Male & V06.aosi.Candidate\\_Age    &   NA\\\\\n",
       "\t  5 & HR\\_neg & PHI & Male & V06.aosi.Candidate\\_Age    &  6.8\\\\\n",
       "\t  6 & HR\\_neg & PHI & Male & V06.aosi.Candidate\\_Age    &   NA\\\\\n",
       "\t  7 & HR\\_ASD & PHI & Male & V06.aosi.Candidate\\_Age    &  6.2\\\\\n",
       "\t  8 & HR\\_ASD & PHI & Male & V06.aosi.Candidate\\_Age    &  6.2\\\\\n",
       "\t  9 & HR\\_neg & PHI & Male & V06.aosi.Candidate\\_Age    &   NA\\\\\n",
       "\t 10 & HR\\_ASD & PHI & Male & V06.aosi.Candidate\\_Age    &   NA\\\\\n",
       "\t  1 & HR\\_ASD & PHI & Male & V06.aosi.total\\_score\\_1\\_18 &  8.0\\\\\n",
       "\t  2 & HR\\_ASD & PHI & Male & V06.aosi.total\\_score\\_1\\_18 & 18.0\\\\\n",
       "\t  3 & HR\\_ASD & PHI & Male & V06.aosi.total\\_score\\_1\\_18 &  4.0\\\\\n",
       "\t  4 & HR\\_ASD & PHI & Male & V06.aosi.total\\_score\\_1\\_18 &   NA\\\\\n",
       "\t  5 & HR\\_neg & PHI & Male & V06.aosi.total\\_score\\_1\\_18 &  6.0\\\\\n",
       "\t  6 & HR\\_neg & PHI & Male & V06.aosi.total\\_score\\_1\\_18 &   NA\\\\\n",
       "\t  7 & HR\\_ASD & PHI & Male & V06.aosi.total\\_score\\_1\\_18 & 16.0\\\\\n",
       "\t  8 & HR\\_ASD & PHI & Male & V06.aosi.total\\_score\\_1\\_18 & 10.0\\\\\n",
       "\t  9 & HR\\_neg & PHI & Male & V06.aosi.total\\_score\\_1\\_18 &   NA\\\\\n",
       "\t 10 & HR\\_ASD & PHI & Male & V06.aosi.total\\_score\\_1\\_18 &   NA\\\\\n",
       "\t  1 & HR\\_ASD & PHI & Male & V12.aosi.Candidate\\_Age    & 12.5\\\\\n",
       "\t  2 & HR\\_ASD & PHI & Male & V12.aosi.Candidate\\_Age    & 12.4\\\\\n",
       "\t  3 & HR\\_ASD & PHI & Male & V12.aosi.Candidate\\_Age    & 12.9\\\\\n",
       "\t  4 & HR\\_ASD & PHI & Male & V12.aosi.Candidate\\_Age    & 12.7\\\\\n",
       "\t  5 & HR\\_neg & PHI & Male & V12.aosi.Candidate\\_Age    &   NA\\\\\n",
       "\t  6 & HR\\_neg & PHI & Male & V12.aosi.Candidate\\_Age    & 12.1\\\\\n",
       "\t  7 & HR\\_ASD & PHI & Male & V12.aosi.Candidate\\_Age    & 12.3\\\\\n",
       "\t  8 & HR\\_ASD & PHI & Male & V12.aosi.Candidate\\_Age    & 12.2\\\\\n",
       "\t  9 & HR\\_neg & PHI & Male & V12.aosi.Candidate\\_Age    & 12.4\\\\\n",
       "\t 10 & HR\\_ASD & PHI & Male & V12.aosi.Candidate\\_Age    & 12.2\\\\\n",
       "\t  1 & HR\\_ASD & PHI & Male & V12.aosi.total\\_score\\_1\\_18 &  3.0\\\\\n",
       "\t  2 & HR\\_ASD & PHI & Male & V12.aosi.total\\_score\\_1\\_18 & 10.0\\\\\n",
       "\t  3 & HR\\_ASD & PHI & Male & V12.aosi.total\\_score\\_1\\_18 &  2.0\\\\\n",
       "\t  4 & HR\\_ASD & PHI & Male & V12.aosi.total\\_score\\_1\\_18 &  3.0\\\\\n",
       "\t  5 & HR\\_neg & PHI & Male & V12.aosi.total\\_score\\_1\\_18 &   NA\\\\\n",
       "\t  6 & HR\\_neg & PHI & Male & V12.aosi.total\\_score\\_1\\_18 &  4.0\\\\\n",
       "\t  7 & HR\\_ASD & PHI & Male & V12.aosi.total\\_score\\_1\\_18 &  4.0\\\\\n",
       "\t  8 & HR\\_ASD & PHI & Male & V12.aosi.total\\_score\\_1\\_18 & 14.0\\\\\n",
       "\t  9 & HR\\_neg & PHI & Male & V12.aosi.total\\_score\\_1\\_18 &  1.0\\\\\n",
       "\t 10 & HR\\_ASD & PHI & Male & V12.aosi.total\\_score\\_1\\_18 &  7.0\\\\\n",
       "\\end{tabular}\n"
      ],
      "text/markdown": [
       "\n",
       "A data.frame: 40 × 6\n",
       "\n",
       "| Identifiers &lt;int&gt; | GROUP &lt;chr&gt; | Study_Site &lt;chr&gt; | Gender &lt;chr&gt; | variable &lt;chr&gt; | var_value &lt;dbl&gt; |\n",
       "|---|---|---|---|---|---|\n",
       "|  1 | HR_ASD | PHI | Male | V06.aosi.Candidate_Age    |  7.1 |\n",
       "|  2 | HR_ASD | PHI | Male | V06.aosi.Candidate_Age    |  6.1 |\n",
       "|  3 | HR_ASD | PHI | Male | V06.aosi.Candidate_Age    |  6.6 |\n",
       "|  4 | HR_ASD | PHI | Male | V06.aosi.Candidate_Age    |   NA |\n",
       "|  5 | HR_neg | PHI | Male | V06.aosi.Candidate_Age    |  6.8 |\n",
       "|  6 | HR_neg | PHI | Male | V06.aosi.Candidate_Age    |   NA |\n",
       "|  7 | HR_ASD | PHI | Male | V06.aosi.Candidate_Age    |  6.2 |\n",
       "|  8 | HR_ASD | PHI | Male | V06.aosi.Candidate_Age    |  6.2 |\n",
       "|  9 | HR_neg | PHI | Male | V06.aosi.Candidate_Age    |   NA |\n",
       "| 10 | HR_ASD | PHI | Male | V06.aosi.Candidate_Age    |   NA |\n",
       "|  1 | HR_ASD | PHI | Male | V06.aosi.total_score_1_18 |  8.0 |\n",
       "|  2 | HR_ASD | PHI | Male | V06.aosi.total_score_1_18 | 18.0 |\n",
       "|  3 | HR_ASD | PHI | Male | V06.aosi.total_score_1_18 |  4.0 |\n",
       "|  4 | HR_ASD | PHI | Male | V06.aosi.total_score_1_18 |   NA |\n",
       "|  5 | HR_neg | PHI | Male | V06.aosi.total_score_1_18 |  6.0 |\n",
       "|  6 | HR_neg | PHI | Male | V06.aosi.total_score_1_18 |   NA |\n",
       "|  7 | HR_ASD | PHI | Male | V06.aosi.total_score_1_18 | 16.0 |\n",
       "|  8 | HR_ASD | PHI | Male | V06.aosi.total_score_1_18 | 10.0 |\n",
       "|  9 | HR_neg | PHI | Male | V06.aosi.total_score_1_18 |   NA |\n",
       "| 10 | HR_ASD | PHI | Male | V06.aosi.total_score_1_18 |   NA |\n",
       "|  1 | HR_ASD | PHI | Male | V12.aosi.Candidate_Age    | 12.5 |\n",
       "|  2 | HR_ASD | PHI | Male | V12.aosi.Candidate_Age    | 12.4 |\n",
       "|  3 | HR_ASD | PHI | Male | V12.aosi.Candidate_Age    | 12.9 |\n",
       "|  4 | HR_ASD | PHI | Male | V12.aosi.Candidate_Age    | 12.7 |\n",
       "|  5 | HR_neg | PHI | Male | V12.aosi.Candidate_Age    |   NA |\n",
       "|  6 | HR_neg | PHI | Male | V12.aosi.Candidate_Age    | 12.1 |\n",
       "|  7 | HR_ASD | PHI | Male | V12.aosi.Candidate_Age    | 12.3 |\n",
       "|  8 | HR_ASD | PHI | Male | V12.aosi.Candidate_Age    | 12.2 |\n",
       "|  9 | HR_neg | PHI | Male | V12.aosi.Candidate_Age    | 12.4 |\n",
       "| 10 | HR_ASD | PHI | Male | V12.aosi.Candidate_Age    | 12.2 |\n",
       "|  1 | HR_ASD | PHI | Male | V12.aosi.total_score_1_18 |  3.0 |\n",
       "|  2 | HR_ASD | PHI | Male | V12.aosi.total_score_1_18 | 10.0 |\n",
       "|  3 | HR_ASD | PHI | Male | V12.aosi.total_score_1_18 |  2.0 |\n",
       "|  4 | HR_ASD | PHI | Male | V12.aosi.total_score_1_18 |  3.0 |\n",
       "|  5 | HR_neg | PHI | Male | V12.aosi.total_score_1_18 |   NA |\n",
       "|  6 | HR_neg | PHI | Male | V12.aosi.total_score_1_18 |  4.0 |\n",
       "|  7 | HR_ASD | PHI | Male | V12.aosi.total_score_1_18 |  4.0 |\n",
       "|  8 | HR_ASD | PHI | Male | V12.aosi.total_score_1_18 | 14.0 |\n",
       "|  9 | HR_neg | PHI | Male | V12.aosi.total_score_1_18 |  1.0 |\n",
       "| 10 | HR_ASD | PHI | Male | V12.aosi.total_score_1_18 |  7.0 |\n",
       "\n"
      ],
      "text/plain": [
       "   Identifiers GROUP  Study_Site Gender variable                  var_value\n",
       "1   1          HR_ASD PHI        Male   V06.aosi.Candidate_Age     7.1     \n",
       "2   2          HR_ASD PHI        Male   V06.aosi.Candidate_Age     6.1     \n",
       "3   3          HR_ASD PHI        Male   V06.aosi.Candidate_Age     6.6     \n",
       "4   4          HR_ASD PHI        Male   V06.aosi.Candidate_Age      NA     \n",
       "5   5          HR_neg PHI        Male   V06.aosi.Candidate_Age     6.8     \n",
       "6   6          HR_neg PHI        Male   V06.aosi.Candidate_Age      NA     \n",
       "7   7          HR_ASD PHI        Male   V06.aosi.Candidate_Age     6.2     \n",
       "8   8          HR_ASD PHI        Male   V06.aosi.Candidate_Age     6.2     \n",
       "9   9          HR_neg PHI        Male   V06.aosi.Candidate_Age      NA     \n",
       "10 10          HR_ASD PHI        Male   V06.aosi.Candidate_Age      NA     \n",
       "11  1          HR_ASD PHI        Male   V06.aosi.total_score_1_18  8.0     \n",
       "12  2          HR_ASD PHI        Male   V06.aosi.total_score_1_18 18.0     \n",
       "13  3          HR_ASD PHI        Male   V06.aosi.total_score_1_18  4.0     \n",
       "14  4          HR_ASD PHI        Male   V06.aosi.total_score_1_18   NA     \n",
       "15  5          HR_neg PHI        Male   V06.aosi.total_score_1_18  6.0     \n",
       "16  6          HR_neg PHI        Male   V06.aosi.total_score_1_18   NA     \n",
       "17  7          HR_ASD PHI        Male   V06.aosi.total_score_1_18 16.0     \n",
       "18  8          HR_ASD PHI        Male   V06.aosi.total_score_1_18 10.0     \n",
       "19  9          HR_neg PHI        Male   V06.aosi.total_score_1_18   NA     \n",
       "20 10          HR_ASD PHI        Male   V06.aosi.total_score_1_18   NA     \n",
       "21  1          HR_ASD PHI        Male   V12.aosi.Candidate_Age    12.5     \n",
       "22  2          HR_ASD PHI        Male   V12.aosi.Candidate_Age    12.4     \n",
       "23  3          HR_ASD PHI        Male   V12.aosi.Candidate_Age    12.9     \n",
       "24  4          HR_ASD PHI        Male   V12.aosi.Candidate_Age    12.7     \n",
       "25  5          HR_neg PHI        Male   V12.aosi.Candidate_Age      NA     \n",
       "26  6          HR_neg PHI        Male   V12.aosi.Candidate_Age    12.1     \n",
       "27  7          HR_ASD PHI        Male   V12.aosi.Candidate_Age    12.3     \n",
       "28  8          HR_ASD PHI        Male   V12.aosi.Candidate_Age    12.2     \n",
       "29  9          HR_neg PHI        Male   V12.aosi.Candidate_Age    12.4     \n",
       "30 10          HR_ASD PHI        Male   V12.aosi.Candidate_Age    12.2     \n",
       "31  1          HR_ASD PHI        Male   V12.aosi.total_score_1_18  3.0     \n",
       "32  2          HR_ASD PHI        Male   V12.aosi.total_score_1_18 10.0     \n",
       "33  3          HR_ASD PHI        Male   V12.aosi.total_score_1_18  2.0     \n",
       "34  4          HR_ASD PHI        Male   V12.aosi.total_score_1_18  3.0     \n",
       "35  5          HR_neg PHI        Male   V12.aosi.total_score_1_18   NA     \n",
       "36  6          HR_neg PHI        Male   V12.aosi.total_score_1_18  4.0     \n",
       "37  7          HR_ASD PHI        Male   V12.aosi.total_score_1_18  4.0     \n",
       "38  8          HR_ASD PHI        Male   V12.aosi.total_score_1_18 14.0     \n",
       "39  9          HR_neg PHI        Male   V12.aosi.total_score_1_18  1.0     \n",
       "40 10          HR_ASD PHI        Male   V12.aosi.total_score_1_18  7.0     "
      ]
     },
     "metadata": {},
     "output_type": "display_data"
    }
   ],
   "source": [
    "# tidybverse\n",
    "library(tidyr)\n",
    "\n",
    "# Rassemblement\n",
    "data %>% \n",
    "    gather(variable, var_value, variables_to_convert)"
   ]
  },
  {
   "cell_type": "markdown",
   "id": "87f1d842",
   "metadata": {},
   "source": [
    "Ensuite, on divise la `variable` en deux nouvelles variables :\n",
    "\n",
    "1) `Visit` contient la visite \n",
    "\n",
    "2) `Variable` contient la variable à cette visite. \n",
    "\n",
    "Cela se fait en utilisant **separate()**. Avec `separate()`, d'abord, on spécifie la variable que l'on sépare, ensuite on spécifie les noms des nouvelles variables créées à partir de la séparation, et enfin on spécifie où dans l'ancienne variable on veut séparer (ici, on sépare après le 3ème caractère, donc `sep = 3`) :"
   ]
  },
  {
   "cell_type": "code",
   "execution_count": 76,
   "id": "bcef186c",
   "metadata": {},
   "outputs": [
    {
     "data": {
      "text/html": [
       "<table class=\"dataframe\">\n",
       "<caption>A data.frame: 40 × 7</caption>\n",
       "<thead>\n",
       "\t<tr><th scope=col>Identifiers</th><th scope=col>GROUP</th><th scope=col>Study_Site</th><th scope=col>Gender</th><th scope=col>Visit</th><th scope=col>Variable</th><th scope=col>var_value</th></tr>\n",
       "\t<tr><th scope=col>&lt;int&gt;</th><th scope=col>&lt;chr&gt;</th><th scope=col>&lt;chr&gt;</th><th scope=col>&lt;chr&gt;</th><th scope=col>&lt;chr&gt;</th><th scope=col>&lt;chr&gt;</th><th scope=col>&lt;dbl&gt;</th></tr>\n",
       "</thead>\n",
       "<tbody>\n",
       "\t<tr><td> 1</td><td>HR_ASD</td><td>PHI</td><td>Male</td><td>V06</td><td>.aosi.Candidate_Age   </td><td> 7.1</td></tr>\n",
       "\t<tr><td> 2</td><td>HR_ASD</td><td>PHI</td><td>Male</td><td>V06</td><td>.aosi.Candidate_Age   </td><td> 6.1</td></tr>\n",
       "\t<tr><td> 3</td><td>HR_ASD</td><td>PHI</td><td>Male</td><td>V06</td><td>.aosi.Candidate_Age   </td><td> 6.6</td></tr>\n",
       "\t<tr><td> 4</td><td>HR_ASD</td><td>PHI</td><td>Male</td><td>V06</td><td>.aosi.Candidate_Age   </td><td>  NA</td></tr>\n",
       "\t<tr><td> 5</td><td>HR_neg</td><td>PHI</td><td>Male</td><td>V06</td><td>.aosi.Candidate_Age   </td><td> 6.8</td></tr>\n",
       "\t<tr><td> 6</td><td>HR_neg</td><td>PHI</td><td>Male</td><td>V06</td><td>.aosi.Candidate_Age   </td><td>  NA</td></tr>\n",
       "\t<tr><td> 7</td><td>HR_ASD</td><td>PHI</td><td>Male</td><td>V06</td><td>.aosi.Candidate_Age   </td><td> 6.2</td></tr>\n",
       "\t<tr><td> 8</td><td>HR_ASD</td><td>PHI</td><td>Male</td><td>V06</td><td>.aosi.Candidate_Age   </td><td> 6.2</td></tr>\n",
       "\t<tr><td> 9</td><td>HR_neg</td><td>PHI</td><td>Male</td><td>V06</td><td>.aosi.Candidate_Age   </td><td>  NA</td></tr>\n",
       "\t<tr><td>10</td><td>HR_ASD</td><td>PHI</td><td>Male</td><td>V06</td><td>.aosi.Candidate_Age   </td><td>  NA</td></tr>\n",
       "\t<tr><td> 1</td><td>HR_ASD</td><td>PHI</td><td>Male</td><td>V06</td><td>.aosi.total_score_1_18</td><td> 8.0</td></tr>\n",
       "\t<tr><td> 2</td><td>HR_ASD</td><td>PHI</td><td>Male</td><td>V06</td><td>.aosi.total_score_1_18</td><td>18.0</td></tr>\n",
       "\t<tr><td> 3</td><td>HR_ASD</td><td>PHI</td><td>Male</td><td>V06</td><td>.aosi.total_score_1_18</td><td> 4.0</td></tr>\n",
       "\t<tr><td> 4</td><td>HR_ASD</td><td>PHI</td><td>Male</td><td>V06</td><td>.aosi.total_score_1_18</td><td>  NA</td></tr>\n",
       "\t<tr><td> 5</td><td>HR_neg</td><td>PHI</td><td>Male</td><td>V06</td><td>.aosi.total_score_1_18</td><td> 6.0</td></tr>\n",
       "\t<tr><td> 6</td><td>HR_neg</td><td>PHI</td><td>Male</td><td>V06</td><td>.aosi.total_score_1_18</td><td>  NA</td></tr>\n",
       "\t<tr><td> 7</td><td>HR_ASD</td><td>PHI</td><td>Male</td><td>V06</td><td>.aosi.total_score_1_18</td><td>16.0</td></tr>\n",
       "\t<tr><td> 8</td><td>HR_ASD</td><td>PHI</td><td>Male</td><td>V06</td><td>.aosi.total_score_1_18</td><td>10.0</td></tr>\n",
       "\t<tr><td> 9</td><td>HR_neg</td><td>PHI</td><td>Male</td><td>V06</td><td>.aosi.total_score_1_18</td><td>  NA</td></tr>\n",
       "\t<tr><td>10</td><td>HR_ASD</td><td>PHI</td><td>Male</td><td>V06</td><td>.aosi.total_score_1_18</td><td>  NA</td></tr>\n",
       "\t<tr><td> 1</td><td>HR_ASD</td><td>PHI</td><td>Male</td><td>V12</td><td>.aosi.Candidate_Age   </td><td>12.5</td></tr>\n",
       "\t<tr><td> 2</td><td>HR_ASD</td><td>PHI</td><td>Male</td><td>V12</td><td>.aosi.Candidate_Age   </td><td>12.4</td></tr>\n",
       "\t<tr><td> 3</td><td>HR_ASD</td><td>PHI</td><td>Male</td><td>V12</td><td>.aosi.Candidate_Age   </td><td>12.9</td></tr>\n",
       "\t<tr><td> 4</td><td>HR_ASD</td><td>PHI</td><td>Male</td><td>V12</td><td>.aosi.Candidate_Age   </td><td>12.7</td></tr>\n",
       "\t<tr><td> 5</td><td>HR_neg</td><td>PHI</td><td>Male</td><td>V12</td><td>.aosi.Candidate_Age   </td><td>  NA</td></tr>\n",
       "\t<tr><td> 6</td><td>HR_neg</td><td>PHI</td><td>Male</td><td>V12</td><td>.aosi.Candidate_Age   </td><td>12.1</td></tr>\n",
       "\t<tr><td> 7</td><td>HR_ASD</td><td>PHI</td><td>Male</td><td>V12</td><td>.aosi.Candidate_Age   </td><td>12.3</td></tr>\n",
       "\t<tr><td> 8</td><td>HR_ASD</td><td>PHI</td><td>Male</td><td>V12</td><td>.aosi.Candidate_Age   </td><td>12.2</td></tr>\n",
       "\t<tr><td> 9</td><td>HR_neg</td><td>PHI</td><td>Male</td><td>V12</td><td>.aosi.Candidate_Age   </td><td>12.4</td></tr>\n",
       "\t<tr><td>10</td><td>HR_ASD</td><td>PHI</td><td>Male</td><td>V12</td><td>.aosi.Candidate_Age   </td><td>12.2</td></tr>\n",
       "\t<tr><td> 1</td><td>HR_ASD</td><td>PHI</td><td>Male</td><td>V12</td><td>.aosi.total_score_1_18</td><td> 3.0</td></tr>\n",
       "\t<tr><td> 2</td><td>HR_ASD</td><td>PHI</td><td>Male</td><td>V12</td><td>.aosi.total_score_1_18</td><td>10.0</td></tr>\n",
       "\t<tr><td> 3</td><td>HR_ASD</td><td>PHI</td><td>Male</td><td>V12</td><td>.aosi.total_score_1_18</td><td> 2.0</td></tr>\n",
       "\t<tr><td> 4</td><td>HR_ASD</td><td>PHI</td><td>Male</td><td>V12</td><td>.aosi.total_score_1_18</td><td> 3.0</td></tr>\n",
       "\t<tr><td> 5</td><td>HR_neg</td><td>PHI</td><td>Male</td><td>V12</td><td>.aosi.total_score_1_18</td><td>  NA</td></tr>\n",
       "\t<tr><td> 6</td><td>HR_neg</td><td>PHI</td><td>Male</td><td>V12</td><td>.aosi.total_score_1_18</td><td> 4.0</td></tr>\n",
       "\t<tr><td> 7</td><td>HR_ASD</td><td>PHI</td><td>Male</td><td>V12</td><td>.aosi.total_score_1_18</td><td> 4.0</td></tr>\n",
       "\t<tr><td> 8</td><td>HR_ASD</td><td>PHI</td><td>Male</td><td>V12</td><td>.aosi.total_score_1_18</td><td>14.0</td></tr>\n",
       "\t<tr><td> 9</td><td>HR_neg</td><td>PHI</td><td>Male</td><td>V12</td><td>.aosi.total_score_1_18</td><td> 1.0</td></tr>\n",
       "\t<tr><td>10</td><td>HR_ASD</td><td>PHI</td><td>Male</td><td>V12</td><td>.aosi.total_score_1_18</td><td> 7.0</td></tr>\n",
       "</tbody>\n",
       "</table>\n"
      ],
      "text/latex": [
       "A data.frame: 40 × 7\n",
       "\\begin{tabular}{lllllll}\n",
       " Identifiers & GROUP & Study\\_Site & Gender & Visit & Variable & var\\_value\\\\\n",
       " <int> & <chr> & <chr> & <chr> & <chr> & <chr> & <dbl>\\\\\n",
       "\\hline\n",
       "\t  1 & HR\\_ASD & PHI & Male & V06 & .aosi.Candidate\\_Age    &  7.1\\\\\n",
       "\t  2 & HR\\_ASD & PHI & Male & V06 & .aosi.Candidate\\_Age    &  6.1\\\\\n",
       "\t  3 & HR\\_ASD & PHI & Male & V06 & .aosi.Candidate\\_Age    &  6.6\\\\\n",
       "\t  4 & HR\\_ASD & PHI & Male & V06 & .aosi.Candidate\\_Age    &   NA\\\\\n",
       "\t  5 & HR\\_neg & PHI & Male & V06 & .aosi.Candidate\\_Age    &  6.8\\\\\n",
       "\t  6 & HR\\_neg & PHI & Male & V06 & .aosi.Candidate\\_Age    &   NA\\\\\n",
       "\t  7 & HR\\_ASD & PHI & Male & V06 & .aosi.Candidate\\_Age    &  6.2\\\\\n",
       "\t  8 & HR\\_ASD & PHI & Male & V06 & .aosi.Candidate\\_Age    &  6.2\\\\\n",
       "\t  9 & HR\\_neg & PHI & Male & V06 & .aosi.Candidate\\_Age    &   NA\\\\\n",
       "\t 10 & HR\\_ASD & PHI & Male & V06 & .aosi.Candidate\\_Age    &   NA\\\\\n",
       "\t  1 & HR\\_ASD & PHI & Male & V06 & .aosi.total\\_score\\_1\\_18 &  8.0\\\\\n",
       "\t  2 & HR\\_ASD & PHI & Male & V06 & .aosi.total\\_score\\_1\\_18 & 18.0\\\\\n",
       "\t  3 & HR\\_ASD & PHI & Male & V06 & .aosi.total\\_score\\_1\\_18 &  4.0\\\\\n",
       "\t  4 & HR\\_ASD & PHI & Male & V06 & .aosi.total\\_score\\_1\\_18 &   NA\\\\\n",
       "\t  5 & HR\\_neg & PHI & Male & V06 & .aosi.total\\_score\\_1\\_18 &  6.0\\\\\n",
       "\t  6 & HR\\_neg & PHI & Male & V06 & .aosi.total\\_score\\_1\\_18 &   NA\\\\\n",
       "\t  7 & HR\\_ASD & PHI & Male & V06 & .aosi.total\\_score\\_1\\_18 & 16.0\\\\\n",
       "\t  8 & HR\\_ASD & PHI & Male & V06 & .aosi.total\\_score\\_1\\_18 & 10.0\\\\\n",
       "\t  9 & HR\\_neg & PHI & Male & V06 & .aosi.total\\_score\\_1\\_18 &   NA\\\\\n",
       "\t 10 & HR\\_ASD & PHI & Male & V06 & .aosi.total\\_score\\_1\\_18 &   NA\\\\\n",
       "\t  1 & HR\\_ASD & PHI & Male & V12 & .aosi.Candidate\\_Age    & 12.5\\\\\n",
       "\t  2 & HR\\_ASD & PHI & Male & V12 & .aosi.Candidate\\_Age    & 12.4\\\\\n",
       "\t  3 & HR\\_ASD & PHI & Male & V12 & .aosi.Candidate\\_Age    & 12.9\\\\\n",
       "\t  4 & HR\\_ASD & PHI & Male & V12 & .aosi.Candidate\\_Age    & 12.7\\\\\n",
       "\t  5 & HR\\_neg & PHI & Male & V12 & .aosi.Candidate\\_Age    &   NA\\\\\n",
       "\t  6 & HR\\_neg & PHI & Male & V12 & .aosi.Candidate\\_Age    & 12.1\\\\\n",
       "\t  7 & HR\\_ASD & PHI & Male & V12 & .aosi.Candidate\\_Age    & 12.3\\\\\n",
       "\t  8 & HR\\_ASD & PHI & Male & V12 & .aosi.Candidate\\_Age    & 12.2\\\\\n",
       "\t  9 & HR\\_neg & PHI & Male & V12 & .aosi.Candidate\\_Age    & 12.4\\\\\n",
       "\t 10 & HR\\_ASD & PHI & Male & V12 & .aosi.Candidate\\_Age    & 12.2\\\\\n",
       "\t  1 & HR\\_ASD & PHI & Male & V12 & .aosi.total\\_score\\_1\\_18 &  3.0\\\\\n",
       "\t  2 & HR\\_ASD & PHI & Male & V12 & .aosi.total\\_score\\_1\\_18 & 10.0\\\\\n",
       "\t  3 & HR\\_ASD & PHI & Male & V12 & .aosi.total\\_score\\_1\\_18 &  2.0\\\\\n",
       "\t  4 & HR\\_ASD & PHI & Male & V12 & .aosi.total\\_score\\_1\\_18 &  3.0\\\\\n",
       "\t  5 & HR\\_neg & PHI & Male & V12 & .aosi.total\\_score\\_1\\_18 &   NA\\\\\n",
       "\t  6 & HR\\_neg & PHI & Male & V12 & .aosi.total\\_score\\_1\\_18 &  4.0\\\\\n",
       "\t  7 & HR\\_ASD & PHI & Male & V12 & .aosi.total\\_score\\_1\\_18 &  4.0\\\\\n",
       "\t  8 & HR\\_ASD & PHI & Male & V12 & .aosi.total\\_score\\_1\\_18 & 14.0\\\\\n",
       "\t  9 & HR\\_neg & PHI & Male & V12 & .aosi.total\\_score\\_1\\_18 &  1.0\\\\\n",
       "\t 10 & HR\\_ASD & PHI & Male & V12 & .aosi.total\\_score\\_1\\_18 &  7.0\\\\\n",
       "\\end{tabular}\n"
      ],
      "text/markdown": [
       "\n",
       "A data.frame: 40 × 7\n",
       "\n",
       "| Identifiers &lt;int&gt; | GROUP &lt;chr&gt; | Study_Site &lt;chr&gt; | Gender &lt;chr&gt; | Visit &lt;chr&gt; | Variable &lt;chr&gt; | var_value &lt;dbl&gt; |\n",
       "|---|---|---|---|---|---|---|\n",
       "|  1 | HR_ASD | PHI | Male | V06 | .aosi.Candidate_Age    |  7.1 |\n",
       "|  2 | HR_ASD | PHI | Male | V06 | .aosi.Candidate_Age    |  6.1 |\n",
       "|  3 | HR_ASD | PHI | Male | V06 | .aosi.Candidate_Age    |  6.6 |\n",
       "|  4 | HR_ASD | PHI | Male | V06 | .aosi.Candidate_Age    |   NA |\n",
       "|  5 | HR_neg | PHI | Male | V06 | .aosi.Candidate_Age    |  6.8 |\n",
       "|  6 | HR_neg | PHI | Male | V06 | .aosi.Candidate_Age    |   NA |\n",
       "|  7 | HR_ASD | PHI | Male | V06 | .aosi.Candidate_Age    |  6.2 |\n",
       "|  8 | HR_ASD | PHI | Male | V06 | .aosi.Candidate_Age    |  6.2 |\n",
       "|  9 | HR_neg | PHI | Male | V06 | .aosi.Candidate_Age    |   NA |\n",
       "| 10 | HR_ASD | PHI | Male | V06 | .aosi.Candidate_Age    |   NA |\n",
       "|  1 | HR_ASD | PHI | Male | V06 | .aosi.total_score_1_18 |  8.0 |\n",
       "|  2 | HR_ASD | PHI | Male | V06 | .aosi.total_score_1_18 | 18.0 |\n",
       "|  3 | HR_ASD | PHI | Male | V06 | .aosi.total_score_1_18 |  4.0 |\n",
       "|  4 | HR_ASD | PHI | Male | V06 | .aosi.total_score_1_18 |   NA |\n",
       "|  5 | HR_neg | PHI | Male | V06 | .aosi.total_score_1_18 |  6.0 |\n",
       "|  6 | HR_neg | PHI | Male | V06 | .aosi.total_score_1_18 |   NA |\n",
       "|  7 | HR_ASD | PHI | Male | V06 | .aosi.total_score_1_18 | 16.0 |\n",
       "|  8 | HR_ASD | PHI | Male | V06 | .aosi.total_score_1_18 | 10.0 |\n",
       "|  9 | HR_neg | PHI | Male | V06 | .aosi.total_score_1_18 |   NA |\n",
       "| 10 | HR_ASD | PHI | Male | V06 | .aosi.total_score_1_18 |   NA |\n",
       "|  1 | HR_ASD | PHI | Male | V12 | .aosi.Candidate_Age    | 12.5 |\n",
       "|  2 | HR_ASD | PHI | Male | V12 | .aosi.Candidate_Age    | 12.4 |\n",
       "|  3 | HR_ASD | PHI | Male | V12 | .aosi.Candidate_Age    | 12.9 |\n",
       "|  4 | HR_ASD | PHI | Male | V12 | .aosi.Candidate_Age    | 12.7 |\n",
       "|  5 | HR_neg | PHI | Male | V12 | .aosi.Candidate_Age    |   NA |\n",
       "|  6 | HR_neg | PHI | Male | V12 | .aosi.Candidate_Age    | 12.1 |\n",
       "|  7 | HR_ASD | PHI | Male | V12 | .aosi.Candidate_Age    | 12.3 |\n",
       "|  8 | HR_ASD | PHI | Male | V12 | .aosi.Candidate_Age    | 12.2 |\n",
       "|  9 | HR_neg | PHI | Male | V12 | .aosi.Candidate_Age    | 12.4 |\n",
       "| 10 | HR_ASD | PHI | Male | V12 | .aosi.Candidate_Age    | 12.2 |\n",
       "|  1 | HR_ASD | PHI | Male | V12 | .aosi.total_score_1_18 |  3.0 |\n",
       "|  2 | HR_ASD | PHI | Male | V12 | .aosi.total_score_1_18 | 10.0 |\n",
       "|  3 | HR_ASD | PHI | Male | V12 | .aosi.total_score_1_18 |  2.0 |\n",
       "|  4 | HR_ASD | PHI | Male | V12 | .aosi.total_score_1_18 |  3.0 |\n",
       "|  5 | HR_neg | PHI | Male | V12 | .aosi.total_score_1_18 |   NA |\n",
       "|  6 | HR_neg | PHI | Male | V12 | .aosi.total_score_1_18 |  4.0 |\n",
       "|  7 | HR_ASD | PHI | Male | V12 | .aosi.total_score_1_18 |  4.0 |\n",
       "|  8 | HR_ASD | PHI | Male | V12 | .aosi.total_score_1_18 | 14.0 |\n",
       "|  9 | HR_neg | PHI | Male | V12 | .aosi.total_score_1_18 |  1.0 |\n",
       "| 10 | HR_ASD | PHI | Male | V12 | .aosi.total_score_1_18 |  7.0 |\n",
       "\n"
      ],
      "text/plain": [
       "   Identifiers GROUP  Study_Site Gender Visit Variable               var_value\n",
       "1   1          HR_ASD PHI        Male   V06   .aosi.Candidate_Age     7.1     \n",
       "2   2          HR_ASD PHI        Male   V06   .aosi.Candidate_Age     6.1     \n",
       "3   3          HR_ASD PHI        Male   V06   .aosi.Candidate_Age     6.6     \n",
       "4   4          HR_ASD PHI        Male   V06   .aosi.Candidate_Age      NA     \n",
       "5   5          HR_neg PHI        Male   V06   .aosi.Candidate_Age     6.8     \n",
       "6   6          HR_neg PHI        Male   V06   .aosi.Candidate_Age      NA     \n",
       "7   7          HR_ASD PHI        Male   V06   .aosi.Candidate_Age     6.2     \n",
       "8   8          HR_ASD PHI        Male   V06   .aosi.Candidate_Age     6.2     \n",
       "9   9          HR_neg PHI        Male   V06   .aosi.Candidate_Age      NA     \n",
       "10 10          HR_ASD PHI        Male   V06   .aosi.Candidate_Age      NA     \n",
       "11  1          HR_ASD PHI        Male   V06   .aosi.total_score_1_18  8.0     \n",
       "12  2          HR_ASD PHI        Male   V06   .aosi.total_score_1_18 18.0     \n",
       "13  3          HR_ASD PHI        Male   V06   .aosi.total_score_1_18  4.0     \n",
       "14  4          HR_ASD PHI        Male   V06   .aosi.total_score_1_18   NA     \n",
       "15  5          HR_neg PHI        Male   V06   .aosi.total_score_1_18  6.0     \n",
       "16  6          HR_neg PHI        Male   V06   .aosi.total_score_1_18   NA     \n",
       "17  7          HR_ASD PHI        Male   V06   .aosi.total_score_1_18 16.0     \n",
       "18  8          HR_ASD PHI        Male   V06   .aosi.total_score_1_18 10.0     \n",
       "19  9          HR_neg PHI        Male   V06   .aosi.total_score_1_18   NA     \n",
       "20 10          HR_ASD PHI        Male   V06   .aosi.total_score_1_18   NA     \n",
       "21  1          HR_ASD PHI        Male   V12   .aosi.Candidate_Age    12.5     \n",
       "22  2          HR_ASD PHI        Male   V12   .aosi.Candidate_Age    12.4     \n",
       "23  3          HR_ASD PHI        Male   V12   .aosi.Candidate_Age    12.9     \n",
       "24  4          HR_ASD PHI        Male   V12   .aosi.Candidate_Age    12.7     \n",
       "25  5          HR_neg PHI        Male   V12   .aosi.Candidate_Age      NA     \n",
       "26  6          HR_neg PHI        Male   V12   .aosi.Candidate_Age    12.1     \n",
       "27  7          HR_ASD PHI        Male   V12   .aosi.Candidate_Age    12.3     \n",
       "28  8          HR_ASD PHI        Male   V12   .aosi.Candidate_Age    12.2     \n",
       "29  9          HR_neg PHI        Male   V12   .aosi.Candidate_Age    12.4     \n",
       "30 10          HR_ASD PHI        Male   V12   .aosi.Candidate_Age    12.2     \n",
       "31  1          HR_ASD PHI        Male   V12   .aosi.total_score_1_18  3.0     \n",
       "32  2          HR_ASD PHI        Male   V12   .aosi.total_score_1_18 10.0     \n",
       "33  3          HR_ASD PHI        Male   V12   .aosi.total_score_1_18  2.0     \n",
       "34  4          HR_ASD PHI        Male   V12   .aosi.total_score_1_18  3.0     \n",
       "35  5          HR_neg PHI        Male   V12   .aosi.total_score_1_18   NA     \n",
       "36  6          HR_neg PHI        Male   V12   .aosi.total_score_1_18  4.0     \n",
       "37  7          HR_ASD PHI        Male   V12   .aosi.total_score_1_18  4.0     \n",
       "38  8          HR_ASD PHI        Male   V12   .aosi.total_score_1_18 14.0     \n",
       "39  9          HR_neg PHI        Male   V12   .aosi.total_score_1_18  1.0     \n",
       "40 10          HR_ASD PHI        Male   V12   .aosi.total_score_1_18  7.0     "
      ]
     },
     "metadata": {},
     "output_type": "display_data"
    }
   ],
   "source": [
    "library(tidyr)\n",
    "data %>% \n",
    "    # Rassemblement\n",
    "    gather(variable, var_value, variables_to_convert) %>% \n",
    "    # Séparation de 'variable'\n",
    "    separate(variable, c(\"Visit\", \"Variable\"), sep = 3)"
   ]
  },
  {
   "cell_type": "markdown",
   "id": "44f28a77",
   "metadata": {},
   "source": [
    "Enfin, on force les variables index non-visite à être des colonnes séparées au lieu d'une seule colonne de noms de variables. Cela se fait en utilisant **spread()**. Avec `spread()`, d'abord, on spécifie la liste des variables (`key =`) et ensuite on spécifie la liste des valeurs de ces variables (`value=`) :"
   ]
  },
  {
   "cell_type": "code",
   "execution_count": 77,
   "id": "b154ffdb",
   "metadata": {},
   "outputs": [
    {
     "data": {
      "text/html": [
       "<table class=\"dataframe\">\n",
       "<caption>A data.frame: 20 × 7</caption>\n",
       "<thead>\n",
       "\t<tr><th scope=col>Identifiers</th><th scope=col>GROUP</th><th scope=col>Study_Site</th><th scope=col>Gender</th><th scope=col>Visit</th><th scope=col>.aosi.Candidate_Age</th><th scope=col>.aosi.total_score_1_18</th></tr>\n",
       "\t<tr><th scope=col>&lt;int&gt;</th><th scope=col>&lt;chr&gt;</th><th scope=col>&lt;chr&gt;</th><th scope=col>&lt;chr&gt;</th><th scope=col>&lt;chr&gt;</th><th scope=col>&lt;dbl&gt;</th><th scope=col>&lt;dbl&gt;</th></tr>\n",
       "</thead>\n",
       "<tbody>\n",
       "\t<tr><td> 1</td><td>HR_ASD</td><td>PHI</td><td>Male</td><td>V06</td><td> 7.1</td><td> 8</td></tr>\n",
       "\t<tr><td> 1</td><td>HR_ASD</td><td>PHI</td><td>Male</td><td>V12</td><td>12.5</td><td> 3</td></tr>\n",
       "\t<tr><td> 2</td><td>HR_ASD</td><td>PHI</td><td>Male</td><td>V06</td><td> 6.1</td><td>18</td></tr>\n",
       "\t<tr><td> 2</td><td>HR_ASD</td><td>PHI</td><td>Male</td><td>V12</td><td>12.4</td><td>10</td></tr>\n",
       "\t<tr><td> 3</td><td>HR_ASD</td><td>PHI</td><td>Male</td><td>V06</td><td> 6.6</td><td> 4</td></tr>\n",
       "\t<tr><td> 3</td><td>HR_ASD</td><td>PHI</td><td>Male</td><td>V12</td><td>12.9</td><td> 2</td></tr>\n",
       "\t<tr><td> 4</td><td>HR_ASD</td><td>PHI</td><td>Male</td><td>V06</td><td>  NA</td><td>NA</td></tr>\n",
       "\t<tr><td> 4</td><td>HR_ASD</td><td>PHI</td><td>Male</td><td>V12</td><td>12.7</td><td> 3</td></tr>\n",
       "\t<tr><td> 5</td><td>HR_neg</td><td>PHI</td><td>Male</td><td>V06</td><td> 6.8</td><td> 6</td></tr>\n",
       "\t<tr><td> 5</td><td>HR_neg</td><td>PHI</td><td>Male</td><td>V12</td><td>  NA</td><td>NA</td></tr>\n",
       "\t<tr><td> 6</td><td>HR_neg</td><td>PHI</td><td>Male</td><td>V06</td><td>  NA</td><td>NA</td></tr>\n",
       "\t<tr><td> 6</td><td>HR_neg</td><td>PHI</td><td>Male</td><td>V12</td><td>12.1</td><td> 4</td></tr>\n",
       "\t<tr><td> 7</td><td>HR_ASD</td><td>PHI</td><td>Male</td><td>V06</td><td> 6.2</td><td>16</td></tr>\n",
       "\t<tr><td> 7</td><td>HR_ASD</td><td>PHI</td><td>Male</td><td>V12</td><td>12.3</td><td> 4</td></tr>\n",
       "\t<tr><td> 8</td><td>HR_ASD</td><td>PHI</td><td>Male</td><td>V06</td><td> 6.2</td><td>10</td></tr>\n",
       "\t<tr><td> 8</td><td>HR_ASD</td><td>PHI</td><td>Male</td><td>V12</td><td>12.2</td><td>14</td></tr>\n",
       "\t<tr><td> 9</td><td>HR_neg</td><td>PHI</td><td>Male</td><td>V06</td><td>  NA</td><td>NA</td></tr>\n",
       "\t<tr><td> 9</td><td>HR_neg</td><td>PHI</td><td>Male</td><td>V12</td><td>12.4</td><td> 1</td></tr>\n",
       "\t<tr><td>10</td><td>HR_ASD</td><td>PHI</td><td>Male</td><td>V06</td><td>  NA</td><td>NA</td></tr>\n",
       "\t<tr><td>10</td><td>HR_ASD</td><td>PHI</td><td>Male</td><td>V12</td><td>12.2</td><td> 7</td></tr>\n",
       "</tbody>\n",
       "</table>\n"
      ],
      "text/latex": [
       "A data.frame: 20 × 7\n",
       "\\begin{tabular}{lllllll}\n",
       " Identifiers & GROUP & Study\\_Site & Gender & Visit & .aosi.Candidate\\_Age & .aosi.total\\_score\\_1\\_18\\\\\n",
       " <int> & <chr> & <chr> & <chr> & <chr> & <dbl> & <dbl>\\\\\n",
       "\\hline\n",
       "\t  1 & HR\\_ASD & PHI & Male & V06 &  7.1 &  8\\\\\n",
       "\t  1 & HR\\_ASD & PHI & Male & V12 & 12.5 &  3\\\\\n",
       "\t  2 & HR\\_ASD & PHI & Male & V06 &  6.1 & 18\\\\\n",
       "\t  2 & HR\\_ASD & PHI & Male & V12 & 12.4 & 10\\\\\n",
       "\t  3 & HR\\_ASD & PHI & Male & V06 &  6.6 &  4\\\\\n",
       "\t  3 & HR\\_ASD & PHI & Male & V12 & 12.9 &  2\\\\\n",
       "\t  4 & HR\\_ASD & PHI & Male & V06 &   NA & NA\\\\\n",
       "\t  4 & HR\\_ASD & PHI & Male & V12 & 12.7 &  3\\\\\n",
       "\t  5 & HR\\_neg & PHI & Male & V06 &  6.8 &  6\\\\\n",
       "\t  5 & HR\\_neg & PHI & Male & V12 &   NA & NA\\\\\n",
       "\t  6 & HR\\_neg & PHI & Male & V06 &   NA & NA\\\\\n",
       "\t  6 & HR\\_neg & PHI & Male & V12 & 12.1 &  4\\\\\n",
       "\t  7 & HR\\_ASD & PHI & Male & V06 &  6.2 & 16\\\\\n",
       "\t  7 & HR\\_ASD & PHI & Male & V12 & 12.3 &  4\\\\\n",
       "\t  8 & HR\\_ASD & PHI & Male & V06 &  6.2 & 10\\\\\n",
       "\t  8 & HR\\_ASD & PHI & Male & V12 & 12.2 & 14\\\\\n",
       "\t  9 & HR\\_neg & PHI & Male & V06 &   NA & NA\\\\\n",
       "\t  9 & HR\\_neg & PHI & Male & V12 & 12.4 &  1\\\\\n",
       "\t 10 & HR\\_ASD & PHI & Male & V06 &   NA & NA\\\\\n",
       "\t 10 & HR\\_ASD & PHI & Male & V12 & 12.2 &  7\\\\\n",
       "\\end{tabular}\n"
      ],
      "text/markdown": [
       "\n",
       "A data.frame: 20 × 7\n",
       "\n",
       "| Identifiers &lt;int&gt; | GROUP &lt;chr&gt; | Study_Site &lt;chr&gt; | Gender &lt;chr&gt; | Visit &lt;chr&gt; | .aosi.Candidate_Age &lt;dbl&gt; | .aosi.total_score_1_18 &lt;dbl&gt; |\n",
       "|---|---|---|---|---|---|---|\n",
       "|  1 | HR_ASD | PHI | Male | V06 |  7.1 |  8 |\n",
       "|  1 | HR_ASD | PHI | Male | V12 | 12.5 |  3 |\n",
       "|  2 | HR_ASD | PHI | Male | V06 |  6.1 | 18 |\n",
       "|  2 | HR_ASD | PHI | Male | V12 | 12.4 | 10 |\n",
       "|  3 | HR_ASD | PHI | Male | V06 |  6.6 |  4 |\n",
       "|  3 | HR_ASD | PHI | Male | V12 | 12.9 |  2 |\n",
       "|  4 | HR_ASD | PHI | Male | V06 |   NA | NA |\n",
       "|  4 | HR_ASD | PHI | Male | V12 | 12.7 |  3 |\n",
       "|  5 | HR_neg | PHI | Male | V06 |  6.8 |  6 |\n",
       "|  5 | HR_neg | PHI | Male | V12 |   NA | NA |\n",
       "|  6 | HR_neg | PHI | Male | V06 |   NA | NA |\n",
       "|  6 | HR_neg | PHI | Male | V12 | 12.1 |  4 |\n",
       "|  7 | HR_ASD | PHI | Male | V06 |  6.2 | 16 |\n",
       "|  7 | HR_ASD | PHI | Male | V12 | 12.3 |  4 |\n",
       "|  8 | HR_ASD | PHI | Male | V06 |  6.2 | 10 |\n",
       "|  8 | HR_ASD | PHI | Male | V12 | 12.2 | 14 |\n",
       "|  9 | HR_neg | PHI | Male | V06 |   NA | NA |\n",
       "|  9 | HR_neg | PHI | Male | V12 | 12.4 |  1 |\n",
       "| 10 | HR_ASD | PHI | Male | V06 |   NA | NA |\n",
       "| 10 | HR_ASD | PHI | Male | V12 | 12.2 |  7 |\n",
       "\n"
      ],
      "text/plain": [
       "   Identifiers GROUP  Study_Site Gender Visit .aosi.Candidate_Age\n",
       "1   1          HR_ASD PHI        Male   V06    7.1               \n",
       "2   1          HR_ASD PHI        Male   V12   12.5               \n",
       "3   2          HR_ASD PHI        Male   V06    6.1               \n",
       "4   2          HR_ASD PHI        Male   V12   12.4               \n",
       "5   3          HR_ASD PHI        Male   V06    6.6               \n",
       "6   3          HR_ASD PHI        Male   V12   12.9               \n",
       "7   4          HR_ASD PHI        Male   V06     NA               \n",
       "8   4          HR_ASD PHI        Male   V12   12.7               \n",
       "9   5          HR_neg PHI        Male   V06    6.8               \n",
       "10  5          HR_neg PHI        Male   V12     NA               \n",
       "11  6          HR_neg PHI        Male   V06     NA               \n",
       "12  6          HR_neg PHI        Male   V12   12.1               \n",
       "13  7          HR_ASD PHI        Male   V06    6.2               \n",
       "14  7          HR_ASD PHI        Male   V12   12.3               \n",
       "15  8          HR_ASD PHI        Male   V06    6.2               \n",
       "16  8          HR_ASD PHI        Male   V12   12.2               \n",
       "17  9          HR_neg PHI        Male   V06     NA               \n",
       "18  9          HR_neg PHI        Male   V12   12.4               \n",
       "19 10          HR_ASD PHI        Male   V06     NA               \n",
       "20 10          HR_ASD PHI        Male   V12   12.2               \n",
       "   .aosi.total_score_1_18\n",
       "1   8                    \n",
       "2   3                    \n",
       "3  18                    \n",
       "4  10                    \n",
       "5   4                    \n",
       "6   2                    \n",
       "7  NA                    \n",
       "8   3                    \n",
       "9   6                    \n",
       "10 NA                    \n",
       "11 NA                    \n",
       "12  4                    \n",
       "13 16                    \n",
       "14  4                    \n",
       "15 10                    \n",
       "16 14                    \n",
       "17 NA                    \n",
       "18  1                    \n",
       "19 NA                    \n",
       "20  7                    "
      ]
     },
     "metadata": {},
     "output_type": "display_data"
    }
   ],
   "source": [
    "library(tidyr)\n",
    "\n",
    "data %>%\n",
    "    # Rassemblemnt\n",
    "    gather(variable, var_value, variables_to_convert) %>% \n",
    "    # Séparation\n",
    "    separate(variable, c(\"Visit\", \"Variable\"), sep =3) %>% \n",
    "    # Etalement\n",
    "    spread(key = Variable, value =  var_value)"
   ]
  },
  {
   "cell_type": "markdown",
   "id": "e835ef41",
   "metadata": {},
   "source": [
    "### 1.4) Renommer les variables\n",
    "\n",
    "La dernière fonction dans `dplyr` que l'on discute est **rename()**, utilisée pour renommer les variables. La syntaxe de cette fonction est `rename(data, nouveau_nom_variable1=ancien_nom_variable1, nouveau_nom_variable2=ancien_nom_variable2, ...)`. Voyons l'exemple ci-dessous où les variables `Identifiers` et `GROUP` de diagnostic sont renommées :"
   ]
  },
  {
   "cell_type": "code",
   "execution_count": 79,
   "id": "eb009df6",
   "metadata": {},
   "outputs": [
    {
     "data": {
      "text/html": [
       "<table class=\"dataframe\">\n",
       "<caption>A data.frame: 10 × 8</caption>\n",
       "<thead>\n",
       "\t<tr><th></th><th scope=col>ID</th><th scope=col>Diagnosis_group</th><th scope=col>Study_Site</th><th scope=col>Gender</th><th scope=col>V06.aosi.Candidate_Age</th><th scope=col>V06.aosi.total_score_1_18</th><th scope=col>V12.aosi.Candidate_Age</th><th scope=col>V12.aosi.total_score_1_18</th></tr>\n",
       "\t<tr><th></th><th scope=col>&lt;int&gt;</th><th scope=col>&lt;chr&gt;</th><th scope=col>&lt;chr&gt;</th><th scope=col>&lt;chr&gt;</th><th scope=col>&lt;dbl&gt;</th><th scope=col>&lt;int&gt;</th><th scope=col>&lt;dbl&gt;</th><th scope=col>&lt;int&gt;</th></tr>\n",
       "</thead>\n",
       "<tbody>\n",
       "\t<tr><th scope=row>1</th><td> 1</td><td>HR_ASD</td><td>PHI</td><td>Male</td><td>7.1</td><td> 8</td><td>12.5</td><td> 3</td></tr>\n",
       "\t<tr><th scope=row>2</th><td> 2</td><td>HR_ASD</td><td>PHI</td><td>Male</td><td>6.1</td><td>18</td><td>12.4</td><td>10</td></tr>\n",
       "\t<tr><th scope=row>3</th><td> 3</td><td>HR_ASD</td><td>PHI</td><td>Male</td><td>6.6</td><td> 4</td><td>12.9</td><td> 2</td></tr>\n",
       "\t<tr><th scope=row>4</th><td> 4</td><td>HR_ASD</td><td>PHI</td><td>Male</td><td> NA</td><td>NA</td><td>12.7</td><td> 3</td></tr>\n",
       "\t<tr><th scope=row>5</th><td> 5</td><td>HR_neg</td><td>PHI</td><td>Male</td><td>6.8</td><td> 6</td><td>  NA</td><td>NA</td></tr>\n",
       "\t<tr><th scope=row>6</th><td> 6</td><td>HR_neg</td><td>PHI</td><td>Male</td><td> NA</td><td>NA</td><td>12.1</td><td> 4</td></tr>\n",
       "\t<tr><th scope=row>7</th><td> 7</td><td>HR_ASD</td><td>PHI</td><td>Male</td><td>6.2</td><td>16</td><td>12.3</td><td> 4</td></tr>\n",
       "\t<tr><th scope=row>8</th><td> 8</td><td>HR_ASD</td><td>PHI</td><td>Male</td><td>6.2</td><td>10</td><td>12.2</td><td>14</td></tr>\n",
       "\t<tr><th scope=row>9</th><td> 9</td><td>HR_neg</td><td>PHI</td><td>Male</td><td> NA</td><td>NA</td><td>12.4</td><td> 1</td></tr>\n",
       "\t<tr><th scope=row>10</th><td>10</td><td>HR_ASD</td><td>PHI</td><td>Male</td><td> NA</td><td>NA</td><td>12.2</td><td> 7</td></tr>\n",
       "</tbody>\n",
       "</table>\n"
      ],
      "text/latex": [
       "A data.frame: 10 × 8\n",
       "\\begin{tabular}{r|llllllll}\n",
       "  & ID & Diagnosis\\_group & Study\\_Site & Gender & V06.aosi.Candidate\\_Age & V06.aosi.total\\_score\\_1\\_18 & V12.aosi.Candidate\\_Age & V12.aosi.total\\_score\\_1\\_18\\\\\n",
       "  & <int> & <chr> & <chr> & <chr> & <dbl> & <int> & <dbl> & <int>\\\\\n",
       "\\hline\n",
       "\t1 &  1 & HR\\_ASD & PHI & Male & 7.1 &  8 & 12.5 &  3\\\\\n",
       "\t2 &  2 & HR\\_ASD & PHI & Male & 6.1 & 18 & 12.4 & 10\\\\\n",
       "\t3 &  3 & HR\\_ASD & PHI & Male & 6.6 &  4 & 12.9 &  2\\\\\n",
       "\t4 &  4 & HR\\_ASD & PHI & Male &  NA & NA & 12.7 &  3\\\\\n",
       "\t5 &  5 & HR\\_neg & PHI & Male & 6.8 &  6 &   NA & NA\\\\\n",
       "\t6 &  6 & HR\\_neg & PHI & Male &  NA & NA & 12.1 &  4\\\\\n",
       "\t7 &  7 & HR\\_ASD & PHI & Male & 6.2 & 16 & 12.3 &  4\\\\\n",
       "\t8 &  8 & HR\\_ASD & PHI & Male & 6.2 & 10 & 12.2 & 14\\\\\n",
       "\t9 &  9 & HR\\_neg & PHI & Male &  NA & NA & 12.4 &  1\\\\\n",
       "\t10 & 10 & HR\\_ASD & PHI & Male &  NA & NA & 12.2 &  7\\\\\n",
       "\\end{tabular}\n"
      ],
      "text/markdown": [
       "\n",
       "A data.frame: 10 × 8\n",
       "\n",
       "| <!--/--> | ID &lt;int&gt; | Diagnosis_group &lt;chr&gt; | Study_Site &lt;chr&gt; | Gender &lt;chr&gt; | V06.aosi.Candidate_Age &lt;dbl&gt; | V06.aosi.total_score_1_18 &lt;int&gt; | V12.aosi.Candidate_Age &lt;dbl&gt; | V12.aosi.total_score_1_18 &lt;int&gt; |\n",
       "|---|---|---|---|---|---|---|---|---|\n",
       "| 1 |  1 | HR_ASD | PHI | Male | 7.1 |  8 | 12.5 |  3 |\n",
       "| 2 |  2 | HR_ASD | PHI | Male | 6.1 | 18 | 12.4 | 10 |\n",
       "| 3 |  3 | HR_ASD | PHI | Male | 6.6 |  4 | 12.9 |  2 |\n",
       "| 4 |  4 | HR_ASD | PHI | Male |  NA | NA | 12.7 |  3 |\n",
       "| 5 |  5 | HR_neg | PHI | Male | 6.8 |  6 |   NA | NA |\n",
       "| 6 |  6 | HR_neg | PHI | Male |  NA | NA | 12.1 |  4 |\n",
       "| 7 |  7 | HR_ASD | PHI | Male | 6.2 | 16 | 12.3 |  4 |\n",
       "| 8 |  8 | HR_ASD | PHI | Male | 6.2 | 10 | 12.2 | 14 |\n",
       "| 9 |  9 | HR_neg | PHI | Male |  NA | NA | 12.4 |  1 |\n",
       "| 10 | 10 | HR_ASD | PHI | Male |  NA | NA | 12.2 |  7 |\n",
       "\n"
      ],
      "text/plain": [
       "   ID Diagnosis_group Study_Site Gender V06.aosi.Candidate_Age\n",
       "1   1 HR_ASD          PHI        Male   7.1                   \n",
       "2   2 HR_ASD          PHI        Male   6.1                   \n",
       "3   3 HR_ASD          PHI        Male   6.6                   \n",
       "4   4 HR_ASD          PHI        Male    NA                   \n",
       "5   5 HR_neg          PHI        Male   6.8                   \n",
       "6   6 HR_neg          PHI        Male    NA                   \n",
       "7   7 HR_ASD          PHI        Male   6.2                   \n",
       "8   8 HR_ASD          PHI        Male   6.2                   \n",
       "9   9 HR_neg          PHI        Male    NA                   \n",
       "10 10 HR_ASD          PHI        Male    NA                   \n",
       "   V06.aosi.total_score_1_18 V12.aosi.Candidate_Age V12.aosi.total_score_1_18\n",
       "1   8                        12.5                    3                       \n",
       "2  18                        12.4                   10                       \n",
       "3   4                        12.9                    2                       \n",
       "4  NA                        12.7                    3                       \n",
       "5   6                          NA                   NA                       \n",
       "6  NA                        12.1                    4                       \n",
       "7  16                        12.3                    4                       \n",
       "8  10                        12.2                   14                       \n",
       "9  NA                        12.4                    1                       \n",
       "10 NA                        12.2                    7                       "
      ]
     },
     "metadata": {},
     "output_type": "display_data"
    }
   ],
   "source": [
    "rename_exp <- read.csv(\"cross-sec_aosi.csv\", na.strings = c(\".\", \" \")) %>% \n",
    "    rename(ID = Identifiers, Diagnosis_group = GROUP)\n",
    "\n",
    "# print the first 10 rows\n",
    "rename_exp[1:10,]"
   ]
  },
  {
   "cell_type": "markdown",
   "id": "f9d94697",
   "metadata": {},
   "source": [
    "Enfin, on nettoie le format des variables en utilisant les fonctions discutées précédemment (`arrange()`, (`mutate()`,...etc). On sauvegarde ce nouvel ensemble de données transformé sous le nom `long_data` :"
   ]
  },
  {
   "cell_type": "code",
   "execution_count": 80,
   "id": "8981fee0",
   "metadata": {},
   "outputs": [
    {
     "data": {
      "text/html": [
       "<table class=\"dataframe\">\n",
       "<caption>A data.frame: 20 × 8</caption>\n",
       "<thead>\n",
       "\t<tr><th scope=col>Identifiers</th><th scope=col>GROUP</th><th scope=col>Study_Site</th><th scope=col>Gender</th><th scope=col>Visit</th><th scope=col>AOSI_Age</th><th scope=col>AOSI_Total_Score</th><th scope=col>ASD_Diag</th></tr>\n",
       "\t<tr><th scope=col>&lt;int&gt;</th><th scope=col>&lt;chr&gt;</th><th scope=col>&lt;chr&gt;</th><th scope=col>&lt;chr&gt;</th><th scope=col>&lt;fct&gt;</th><th scope=col>&lt;dbl&gt;</th><th scope=col>&lt;dbl&gt;</th><th scope=col>&lt;fct&gt;</th></tr>\n",
       "</thead>\n",
       "<tbody>\n",
       "\t<tr><td> 1</td><td>HR_ASD</td><td>PHI</td><td>Male</td><td>V06</td><td> 7.1</td><td> 8</td><td>ASD_Neg</td></tr>\n",
       "\t<tr><td> 1</td><td>HR_ASD</td><td>PHI</td><td>Male</td><td>V12</td><td>12.5</td><td> 3</td><td>ASD_Neg</td></tr>\n",
       "\t<tr><td> 2</td><td>HR_ASD</td><td>PHI</td><td>Male</td><td>V06</td><td> 6.1</td><td>18</td><td>ASD_Neg</td></tr>\n",
       "\t<tr><td> 2</td><td>HR_ASD</td><td>PHI</td><td>Male</td><td>V12</td><td>12.4</td><td>10</td><td>ASD_Neg</td></tr>\n",
       "\t<tr><td> 3</td><td>HR_ASD</td><td>PHI</td><td>Male</td><td>V06</td><td> 6.6</td><td> 4</td><td>ASD_Neg</td></tr>\n",
       "\t<tr><td> 3</td><td>HR_ASD</td><td>PHI</td><td>Male</td><td>V12</td><td>12.9</td><td> 2</td><td>ASD_Neg</td></tr>\n",
       "\t<tr><td> 4</td><td>HR_ASD</td><td>PHI</td><td>Male</td><td>V06</td><td>  NA</td><td>NA</td><td>ASD_Neg</td></tr>\n",
       "\t<tr><td> 4</td><td>HR_ASD</td><td>PHI</td><td>Male</td><td>V12</td><td>12.7</td><td> 3</td><td>ASD_Neg</td></tr>\n",
       "\t<tr><td> 5</td><td>HR_neg</td><td>PHI</td><td>Male</td><td>V06</td><td> 6.8</td><td> 6</td><td>ASD_Pos</td></tr>\n",
       "\t<tr><td> 5</td><td>HR_neg</td><td>PHI</td><td>Male</td><td>V12</td><td>  NA</td><td>NA</td><td>ASD_Pos</td></tr>\n",
       "\t<tr><td> 6</td><td>HR_neg</td><td>PHI</td><td>Male</td><td>V06</td><td>  NA</td><td>NA</td><td>ASD_Pos</td></tr>\n",
       "\t<tr><td> 6</td><td>HR_neg</td><td>PHI</td><td>Male</td><td>V12</td><td>12.1</td><td> 4</td><td>ASD_Pos</td></tr>\n",
       "\t<tr><td> 7</td><td>HR_ASD</td><td>PHI</td><td>Male</td><td>V06</td><td> 6.2</td><td>16</td><td>ASD_Neg</td></tr>\n",
       "\t<tr><td> 7</td><td>HR_ASD</td><td>PHI</td><td>Male</td><td>V12</td><td>12.3</td><td> 4</td><td>ASD_Neg</td></tr>\n",
       "\t<tr><td> 8</td><td>HR_ASD</td><td>PHI</td><td>Male</td><td>V06</td><td> 6.2</td><td>10</td><td>ASD_Neg</td></tr>\n",
       "\t<tr><td> 8</td><td>HR_ASD</td><td>PHI</td><td>Male</td><td>V12</td><td>12.2</td><td>14</td><td>ASD_Neg</td></tr>\n",
       "\t<tr><td> 9</td><td>HR_neg</td><td>PHI</td><td>Male</td><td>V06</td><td>  NA</td><td>NA</td><td>ASD_Pos</td></tr>\n",
       "\t<tr><td> 9</td><td>HR_neg</td><td>PHI</td><td>Male</td><td>V12</td><td>12.4</td><td> 1</td><td>ASD_Pos</td></tr>\n",
       "\t<tr><td>10</td><td>HR_ASD</td><td>PHI</td><td>Male</td><td>V06</td><td>  NA</td><td>NA</td><td>ASD_Neg</td></tr>\n",
       "\t<tr><td>10</td><td>HR_ASD</td><td>PHI</td><td>Male</td><td>V12</td><td>12.2</td><td> 7</td><td>ASD_Neg</td></tr>\n",
       "</tbody>\n",
       "</table>\n"
      ],
      "text/latex": [
       "A data.frame: 20 × 8\n",
       "\\begin{tabular}{llllllll}\n",
       " Identifiers & GROUP & Study\\_Site & Gender & Visit & AOSI\\_Age & AOSI\\_Total\\_Score & ASD\\_Diag\\\\\n",
       " <int> & <chr> & <chr> & <chr> & <fct> & <dbl> & <dbl> & <fct>\\\\\n",
       "\\hline\n",
       "\t  1 & HR\\_ASD & PHI & Male & V06 &  7.1 &  8 & ASD\\_Neg\\\\\n",
       "\t  1 & HR\\_ASD & PHI & Male & V12 & 12.5 &  3 & ASD\\_Neg\\\\\n",
       "\t  2 & HR\\_ASD & PHI & Male & V06 &  6.1 & 18 & ASD\\_Neg\\\\\n",
       "\t  2 & HR\\_ASD & PHI & Male & V12 & 12.4 & 10 & ASD\\_Neg\\\\\n",
       "\t  3 & HR\\_ASD & PHI & Male & V06 &  6.6 &  4 & ASD\\_Neg\\\\\n",
       "\t  3 & HR\\_ASD & PHI & Male & V12 & 12.9 &  2 & ASD\\_Neg\\\\\n",
       "\t  4 & HR\\_ASD & PHI & Male & V06 &   NA & NA & ASD\\_Neg\\\\\n",
       "\t  4 & HR\\_ASD & PHI & Male & V12 & 12.7 &  3 & ASD\\_Neg\\\\\n",
       "\t  5 & HR\\_neg & PHI & Male & V06 &  6.8 &  6 & ASD\\_Pos\\\\\n",
       "\t  5 & HR\\_neg & PHI & Male & V12 &   NA & NA & ASD\\_Pos\\\\\n",
       "\t  6 & HR\\_neg & PHI & Male & V06 &   NA & NA & ASD\\_Pos\\\\\n",
       "\t  6 & HR\\_neg & PHI & Male & V12 & 12.1 &  4 & ASD\\_Pos\\\\\n",
       "\t  7 & HR\\_ASD & PHI & Male & V06 &  6.2 & 16 & ASD\\_Neg\\\\\n",
       "\t  7 & HR\\_ASD & PHI & Male & V12 & 12.3 &  4 & ASD\\_Neg\\\\\n",
       "\t  8 & HR\\_ASD & PHI & Male & V06 &  6.2 & 10 & ASD\\_Neg\\\\\n",
       "\t  8 & HR\\_ASD & PHI & Male & V12 & 12.2 & 14 & ASD\\_Neg\\\\\n",
       "\t  9 & HR\\_neg & PHI & Male & V06 &   NA & NA & ASD\\_Pos\\\\\n",
       "\t  9 & HR\\_neg & PHI & Male & V12 & 12.4 &  1 & ASD\\_Pos\\\\\n",
       "\t 10 & HR\\_ASD & PHI & Male & V06 &   NA & NA & ASD\\_Neg\\\\\n",
       "\t 10 & HR\\_ASD & PHI & Male & V12 & 12.2 &  7 & ASD\\_Neg\\\\\n",
       "\\end{tabular}\n"
      ],
      "text/markdown": [
       "\n",
       "A data.frame: 20 × 8\n",
       "\n",
       "| Identifiers &lt;int&gt; | GROUP &lt;chr&gt; | Study_Site &lt;chr&gt; | Gender &lt;chr&gt; | Visit &lt;fct&gt; | AOSI_Age &lt;dbl&gt; | AOSI_Total_Score &lt;dbl&gt; | ASD_Diag &lt;fct&gt; |\n",
       "|---|---|---|---|---|---|---|---|\n",
       "|  1 | HR_ASD | PHI | Male | V06 |  7.1 |  8 | ASD_Neg |\n",
       "|  1 | HR_ASD | PHI | Male | V12 | 12.5 |  3 | ASD_Neg |\n",
       "|  2 | HR_ASD | PHI | Male | V06 |  6.1 | 18 | ASD_Neg |\n",
       "|  2 | HR_ASD | PHI | Male | V12 | 12.4 | 10 | ASD_Neg |\n",
       "|  3 | HR_ASD | PHI | Male | V06 |  6.6 |  4 | ASD_Neg |\n",
       "|  3 | HR_ASD | PHI | Male | V12 | 12.9 |  2 | ASD_Neg |\n",
       "|  4 | HR_ASD | PHI | Male | V06 |   NA | NA | ASD_Neg |\n",
       "|  4 | HR_ASD | PHI | Male | V12 | 12.7 |  3 | ASD_Neg |\n",
       "|  5 | HR_neg | PHI | Male | V06 |  6.8 |  6 | ASD_Pos |\n",
       "|  5 | HR_neg | PHI | Male | V12 |   NA | NA | ASD_Pos |\n",
       "|  6 | HR_neg | PHI | Male | V06 |   NA | NA | ASD_Pos |\n",
       "|  6 | HR_neg | PHI | Male | V12 | 12.1 |  4 | ASD_Pos |\n",
       "|  7 | HR_ASD | PHI | Male | V06 |  6.2 | 16 | ASD_Neg |\n",
       "|  7 | HR_ASD | PHI | Male | V12 | 12.3 |  4 | ASD_Neg |\n",
       "|  8 | HR_ASD | PHI | Male | V06 |  6.2 | 10 | ASD_Neg |\n",
       "|  8 | HR_ASD | PHI | Male | V12 | 12.2 | 14 | ASD_Neg |\n",
       "|  9 | HR_neg | PHI | Male | V06 |   NA | NA | ASD_Pos |\n",
       "|  9 | HR_neg | PHI | Male | V12 | 12.4 |  1 | ASD_Pos |\n",
       "| 10 | HR_ASD | PHI | Male | V06 |   NA | NA | ASD_Neg |\n",
       "| 10 | HR_ASD | PHI | Male | V12 | 12.2 |  7 | ASD_Neg |\n",
       "\n"
      ],
      "text/plain": [
       "   Identifiers GROUP  Study_Site Gender Visit AOSI_Age AOSI_Total_Score\n",
       "1   1          HR_ASD PHI        Male   V06    7.1      8              \n",
       "2   1          HR_ASD PHI        Male   V12   12.5      3              \n",
       "3   2          HR_ASD PHI        Male   V06    6.1     18              \n",
       "4   2          HR_ASD PHI        Male   V12   12.4     10              \n",
       "5   3          HR_ASD PHI        Male   V06    6.6      4              \n",
       "6   3          HR_ASD PHI        Male   V12   12.9      2              \n",
       "7   4          HR_ASD PHI        Male   V06     NA     NA              \n",
       "8   4          HR_ASD PHI        Male   V12   12.7      3              \n",
       "9   5          HR_neg PHI        Male   V06    6.8      6              \n",
       "10  5          HR_neg PHI        Male   V12     NA     NA              \n",
       "11  6          HR_neg PHI        Male   V06     NA     NA              \n",
       "12  6          HR_neg PHI        Male   V12   12.1      4              \n",
       "13  7          HR_ASD PHI        Male   V06    6.2     16              \n",
       "14  7          HR_ASD PHI        Male   V12   12.3      4              \n",
       "15  8          HR_ASD PHI        Male   V06    6.2     10              \n",
       "16  8          HR_ASD PHI        Male   V12   12.2     14              \n",
       "17  9          HR_neg PHI        Male   V06     NA     NA              \n",
       "18  9          HR_neg PHI        Male   V12   12.4      1              \n",
       "19 10          HR_ASD PHI        Male   V06     NA     NA              \n",
       "20 10          HR_ASD PHI        Male   V12   12.2      7              \n",
       "   ASD_Diag\n",
       "1  ASD_Neg \n",
       "2  ASD_Neg \n",
       "3  ASD_Neg \n",
       "4  ASD_Neg \n",
       "5  ASD_Neg \n",
       "6  ASD_Neg \n",
       "7  ASD_Neg \n",
       "8  ASD_Neg \n",
       "9  ASD_Pos \n",
       "10 ASD_Pos \n",
       "11 ASD_Pos \n",
       "12 ASD_Pos \n",
       "13 ASD_Neg \n",
       "14 ASD_Neg \n",
       "15 ASD_Neg \n",
       "16 ASD_Neg \n",
       "17 ASD_Pos \n",
       "18 ASD_Pos \n",
       "19 ASD_Neg \n",
       "20 ASD_Neg "
      ]
     },
     "metadata": {},
     "output_type": "display_data"
    }
   ],
   "source": [
    "library(tidyr)\n",
    "\n",
    "long_data <- data %>%\n",
    "    # Rassemblemnt\n",
    "    gather(variable, var_value, variables_to_convert) %>%\n",
    "    # Séparation\n",
    "    separate(variable,c(\"Visit\",\"Variable\"),sep = 3) %>% \n",
    "    # Etalement\n",
    "    spread(key = Variable, value = var_value) %>%\n",
    "    # Renomer les colonnes\n",
    "    plyr::rename(c(\".aosi.Candidate_Age\" = \"AOSI_Age\",\n",
    "                 \".aosi.total_score_1_18\"=\"AOSI_Total_Score\")) %>%\n",
    "    # Créer une nouvelle colonne 'ASD_Diag'\n",
    "    mutate(ASD_Diag = factor(ifelse(grepl(\"ASD\", GROUP), \"ASD_Neg\", \"ASD_Pos\")),\n",
    "         Visit = factor(Visit)) %>%\n",
    "    # Ordonner selon les colonnes 'Identifiers' et 'Visit'\n",
    "    arrange(Identifiers, Visit)\n",
    "\n",
    "long_data"
   ]
  },
  {
   "cell_type": "markdown",
   "id": "12e918ff",
   "metadata": {},
   "source": [
    "## 2) Utilisation du pipe\n",
    "\n",
    "Toutes ces fonctions dans `dplyr` peuvent être utilisées en combinaison efficacement en utilisant l'**opérateur pipe**. L'idée du pipe est très simple : au lieu d'écrire chaque nouvelle transformation de données comme une nouvelle ligne et de sauvegarder chaque transformation précédente comme un objet pour ensuite l'écraser, le pipe vous permet de connecter toutes les étapes ensemble en une seule ligne.\n",
    "\n",
    "L'opérateur pipe est représenté par **%>%**. De nombreuses fonctions peuvent être connectées en utilisant le pipe, y compris toutes les fonctions du package `dplyr` décrites ci-dessus ainsi que la plupart des autres fonctions qu'on utilise dans R lors de la lecture et de la manipulation des données.\n",
    "\n",
    "Par exemple, revisitons le calcul des scores moyens AOSI par genre et site. Auparavant, cela nécessitait plusieurs lignes de code R, y compris la création d'une forme distincte de l'ensemble de données en tant qu'objet R dans lequel l'ensemble de données était regroupé par genre et site. Faisons cet exemple en utilisant l'opérateur pipe, vu ci-dessous. On peut voir que c'est essentiellement le même code qu'auparavant, avec les premiers arguments de chaque fonction supprimés et chaque ligne connectée par l'opérateur %>%. Le premier argument est supprimé parce qu'en connectant les appels de fonction avec %>%, le résultat de la fonction précédente est transmis dans le premier argument de la prochaine fonction par %>%. Ainsi, **toute fonction dont le premier argument est un ensemble de données R peut être utilisée avec l'opérateur pipe.** Remarquons également qu'aucun objet intermédiaire n'a besoin d'être sauvegardé.\n"
   ]
  },
  {
   "cell_type": "code",
   "execution_count": 81,
   "id": "c6d9957d",
   "metadata": {},
   "outputs": [
    {
     "name": "stderr",
     "output_type": "stream",
     "text": [
      "\u001b[1m\u001b[22m`summarise()` has grouped output by 'Gender'. You can override using the `.groups` argument.\n"
     ]
    },
    {
     "data": {
      "text/html": [
       "<table class=\"dataframe\">\n",
       "<caption>A grouped_df: 8 × 5</caption>\n",
       "<thead>\n",
       "\t<tr><th scope=col>Gender</th><th scope=col>GROUP</th><th scope=col>sample_size</th><th scope=col>mean_aosi_ts_V6</th><th scope=col>mean_aosi_ts_V12</th></tr>\n",
       "\t<tr><th scope=col>&lt;chr&gt;</th><th scope=col>&lt;chr&gt;</th><th scope=col>&lt;int&gt;</th><th scope=col>&lt;dbl&gt;</th><th scope=col>&lt;dbl&gt;</th></tr>\n",
       "</thead>\n",
       "<tbody>\n",
       "\t<tr><td>Female</td><td>HR_ASD</td><td> 20</td><td>NA</td><td>NA</td></tr>\n",
       "\t<tr><td>Female</td><td>HR_neg</td><td>145</td><td>NA</td><td>NA</td></tr>\n",
       "\t<tr><td>Female</td><td>LR_ASD</td><td>  1</td><td> 6</td><td> 5</td></tr>\n",
       "\t<tr><td>Female</td><td>LR_neg</td><td> 69</td><td>NA</td><td>NA</td></tr>\n",
       "\t<tr><td>Male  </td><td>HR_ASD</td><td> 75</td><td>NA</td><td>NA</td></tr>\n",
       "\t<tr><td>Male  </td><td>HR_neg</td><td>173</td><td>NA</td><td>NA</td></tr>\n",
       "\t<tr><td>Male  </td><td>LR_ASD</td><td>  2</td><td> 8</td><td> 3</td></tr>\n",
       "\t<tr><td>Male  </td><td>LR_neg</td><td>102</td><td>NA</td><td>NA</td></tr>\n",
       "</tbody>\n",
       "</table>\n"
      ],
      "text/latex": [
       "A grouped\\_df: 8 × 5\n",
       "\\begin{tabular}{lllll}\n",
       " Gender & GROUP & sample\\_size & mean\\_aosi\\_ts\\_V6 & mean\\_aosi\\_ts\\_V12\\\\\n",
       " <chr> & <chr> & <int> & <dbl> & <dbl>\\\\\n",
       "\\hline\n",
       "\t Female & HR\\_ASD &  20 & NA & NA\\\\\n",
       "\t Female & HR\\_neg & 145 & NA & NA\\\\\n",
       "\t Female & LR\\_ASD &   1 &  6 &  5\\\\\n",
       "\t Female & LR\\_neg &  69 & NA & NA\\\\\n",
       "\t Male   & HR\\_ASD &  75 & NA & NA\\\\\n",
       "\t Male   & HR\\_neg & 173 & NA & NA\\\\\n",
       "\t Male   & LR\\_ASD &   2 &  8 &  3\\\\\n",
       "\t Male   & LR\\_neg & 102 & NA & NA\\\\\n",
       "\\end{tabular}\n"
      ],
      "text/markdown": [
       "\n",
       "A grouped_df: 8 × 5\n",
       "\n",
       "| Gender &lt;chr&gt; | GROUP &lt;chr&gt; | sample_size &lt;int&gt; | mean_aosi_ts_V6 &lt;dbl&gt; | mean_aosi_ts_V12 &lt;dbl&gt; |\n",
       "|---|---|---|---|---|\n",
       "| Female | HR_ASD |  20 | NA | NA |\n",
       "| Female | HR_neg | 145 | NA | NA |\n",
       "| Female | LR_ASD |   1 |  6 |  5 |\n",
       "| Female | LR_neg |  69 | NA | NA |\n",
       "| Male   | HR_ASD |  75 | NA | NA |\n",
       "| Male   | HR_neg | 173 | NA | NA |\n",
       "| Male   | LR_ASD |   2 |  8 |  3 |\n",
       "| Male   | LR_neg | 102 | NA | NA |\n",
       "\n"
      ],
      "text/plain": [
       "  Gender GROUP  sample_size mean_aosi_ts_V6 mean_aosi_ts_V12\n",
       "1 Female HR_ASD  20         NA              NA              \n",
       "2 Female HR_neg 145         NA              NA              \n",
       "3 Female LR_ASD   1          6               5              \n",
       "4 Female LR_neg  69         NA              NA              \n",
       "5 Male   HR_ASD  75         NA              NA              \n",
       "6 Male   HR_neg 173         NA              NA              \n",
       "7 Male   LR_ASD   2          8               3              \n",
       "8 Male   LR_neg 102         NA              NA              "
      ]
     },
     "metadata": {},
     "output_type": "display_data"
    }
   ],
   "source": [
    "data_aosi %>% \n",
    "  group_by(Gender, GROUP) %>% \n",
    "  summarise(sample_size = n(), mean_aosi_ts_V6 = mean(V06.aosi.total_score_1_18), mean_aosi_ts_V12 = mean(V12.aosi.total_score_1_18))"
   ]
  },
  {
   "cell_type": "markdown",
   "id": "470b93ac",
   "metadata": {},
   "source": [
    "En conséquence, l'utilisation de l'opérateur pipe rend notre code plus efficace (en termes de mémoire dans votre ordinateur et de la quantité de code utilisée) et lisible. En fait, on peut même éviter de sauvegarder complètement l'ensemble de données data_aosi et écrire notre code de la manière suivante :\n"
   ]
  },
  {
   "cell_type": "code",
   "execution_count": 83,
   "id": "ecf92ada",
   "metadata": {},
   "outputs": [
    {
     "name": "stderr",
     "output_type": "stream",
     "text": [
      "\u001b[1m\u001b[22m`summarise()` has grouped output by 'Gender'. You can override using the `.groups` argument.\n"
     ]
    },
    {
     "data": {
      "text/html": [
       "<table class=\"dataframe\">\n",
       "<caption>A grouped_df: 8 × 5</caption>\n",
       "<thead>\n",
       "\t<tr><th scope=col>Gender</th><th scope=col>GROUP</th><th scope=col>sample_size</th><th scope=col>mean_aosi_ts_V6</th><th scope=col>mean_aosi_ts_V12</th></tr>\n",
       "\t<tr><th scope=col>&lt;chr&gt;</th><th scope=col>&lt;chr&gt;</th><th scope=col>&lt;int&gt;</th><th scope=col>&lt;dbl&gt;</th><th scope=col>&lt;dbl&gt;</th></tr>\n",
       "</thead>\n",
       "<tbody>\n",
       "\t<tr><td>Female</td><td>HR_ASD</td><td> 20</td><td>NA</td><td>NA</td></tr>\n",
       "\t<tr><td>Female</td><td>HR_neg</td><td>145</td><td>NA</td><td>NA</td></tr>\n",
       "\t<tr><td>Female</td><td>LR_ASD</td><td>  1</td><td> 6</td><td> 5</td></tr>\n",
       "\t<tr><td>Female</td><td>LR_neg</td><td> 69</td><td>NA</td><td>NA</td></tr>\n",
       "\t<tr><td>Male  </td><td>HR_ASD</td><td> 75</td><td>NA</td><td>NA</td></tr>\n",
       "\t<tr><td>Male  </td><td>HR_neg</td><td>173</td><td>NA</td><td>NA</td></tr>\n",
       "\t<tr><td>Male  </td><td>LR_ASD</td><td>  2</td><td> 8</td><td> 3</td></tr>\n",
       "\t<tr><td>Male  </td><td>LR_neg</td><td>102</td><td>NA</td><td>NA</td></tr>\n",
       "</tbody>\n",
       "</table>\n"
      ],
      "text/latex": [
       "A grouped\\_df: 8 × 5\n",
       "\\begin{tabular}{lllll}\n",
       " Gender & GROUP & sample\\_size & mean\\_aosi\\_ts\\_V6 & mean\\_aosi\\_ts\\_V12\\\\\n",
       " <chr> & <chr> & <int> & <dbl> & <dbl>\\\\\n",
       "\\hline\n",
       "\t Female & HR\\_ASD &  20 & NA & NA\\\\\n",
       "\t Female & HR\\_neg & 145 & NA & NA\\\\\n",
       "\t Female & LR\\_ASD &   1 &  6 &  5\\\\\n",
       "\t Female & LR\\_neg &  69 & NA & NA\\\\\n",
       "\t Male   & HR\\_ASD &  75 & NA & NA\\\\\n",
       "\t Male   & HR\\_neg & 173 & NA & NA\\\\\n",
       "\t Male   & LR\\_ASD &   2 &  8 &  3\\\\\n",
       "\t Male   & LR\\_neg & 102 & NA & NA\\\\\n",
       "\\end{tabular}\n"
      ],
      "text/markdown": [
       "\n",
       "A grouped_df: 8 × 5\n",
       "\n",
       "| Gender &lt;chr&gt; | GROUP &lt;chr&gt; | sample_size &lt;int&gt; | mean_aosi_ts_V6 &lt;dbl&gt; | mean_aosi_ts_V12 &lt;dbl&gt; |\n",
       "|---|---|---|---|---|\n",
       "| Female | HR_ASD |  20 | NA | NA |\n",
       "| Female | HR_neg | 145 | NA | NA |\n",
       "| Female | LR_ASD |   1 |  6 |  5 |\n",
       "| Female | LR_neg |  69 | NA | NA |\n",
       "| Male   | HR_ASD |  75 | NA | NA |\n",
       "| Male   | HR_neg | 173 | NA | NA |\n",
       "| Male   | LR_ASD |   2 |  8 |  3 |\n",
       "| Male   | LR_neg | 102 | NA | NA |\n",
       "\n"
      ],
      "text/plain": [
       "  Gender GROUP  sample_size mean_aosi_ts_V6 mean_aosi_ts_V12\n",
       "1 Female HR_ASD  20         NA              NA              \n",
       "2 Female HR_neg 145         NA              NA              \n",
       "3 Female LR_ASD   1          6               5              \n",
       "4 Female LR_neg  69         NA              NA              \n",
       "5 Male   HR_ASD  75         NA              NA              \n",
       "6 Male   HR_neg 173         NA              NA              \n",
       "7 Male   LR_ASD   2          8               3              \n",
       "8 Male   LR_neg 102         NA              NA              "
      ]
     },
     "metadata": {},
     "output_type": "display_data"
    }
   ],
   "source": [
    "read.csv(\"cross-sec_aosi.csv\", na.strings = c(\".\", \" \")) %>% \n",
    "  group_by(Gender, GROUP) %>% \n",
    "  summarise(sample_size = n(), mean_aosi_ts_V6 = mean(V06.aosi.total_score_1_18), mean_aosi_ts_V12 = mean(V12.aosi.total_score_1_18))"
   ]
  },
  {
   "cell_type": "markdown",
   "id": "b52fc984",
   "metadata": {},
   "source": [
    "En conséquence, aucun objet n'est enregistré dans R, ce qui rend ce code très efficace si on ne prévoie pas d'utiliser l'ensemble de données `data_aosi` pour d'autres analyses.\n",
    "\n",
    "Si on souhaite enregistrer les résultats de ce code en tant que nouvel ensemble de données, on utilisez simplement `data_nouvelle<- ...` comme d'habitude pour enregistrer la sortie en tant qu'objet de données dans R nommé new_data. Cela souligne comment R est un langage et possède des règles fondamentales qui permettent à nos instructions d'être comprises par le logiciel. Si on comprend ces règles et propriétés, on peut les appliquer de manière générale et comprendre comment R fonctionne en sous-surface. Cette connaissance nous permet d'aller au-delà de la mémorisation de commandes et d'exemples spécifiques, en fournissant la capacité d'apprendre continuellement de nouvelles techniques en R."
   ]
  },
  {
   "cell_type": "code",
   "execution_count": 84,
   "id": "587507e5",
   "metadata": {},
   "outputs": [
    {
     "name": "stderr",
     "output_type": "stream",
     "text": [
      "\u001b[1m\u001b[22m`summarise()` has grouped output by 'Gender'. You can override using the `.groups` argument.\n"
     ]
    },
    {
     "data": {
      "text/html": [
       "<table class=\"dataframe\">\n",
       "<caption>A grouped_df: 8 × 5</caption>\n",
       "<thead>\n",
       "\t<tr><th scope=col>Gender</th><th scope=col>GROUP</th><th scope=col>sample_size</th><th scope=col>mean_aosi_ts_V6</th><th scope=col>mean_aosi_ts_V12</th></tr>\n",
       "\t<tr><th scope=col>&lt;chr&gt;</th><th scope=col>&lt;chr&gt;</th><th scope=col>&lt;int&gt;</th><th scope=col>&lt;dbl&gt;</th><th scope=col>&lt;dbl&gt;</th></tr>\n",
       "</thead>\n",
       "<tbody>\n",
       "\t<tr><td>Female</td><td>HR_ASD</td><td> 20</td><td>NA</td><td>NA</td></tr>\n",
       "\t<tr><td>Female</td><td>HR_neg</td><td>145</td><td>NA</td><td>NA</td></tr>\n",
       "\t<tr><td>Female</td><td>LR_ASD</td><td>  1</td><td> 6</td><td> 5</td></tr>\n",
       "\t<tr><td>Female</td><td>LR_neg</td><td> 69</td><td>NA</td><td>NA</td></tr>\n",
       "\t<tr><td>Male  </td><td>HR_ASD</td><td> 75</td><td>NA</td><td>NA</td></tr>\n",
       "\t<tr><td>Male  </td><td>HR_neg</td><td>173</td><td>NA</td><td>NA</td></tr>\n",
       "\t<tr><td>Male  </td><td>LR_ASD</td><td>  2</td><td> 8</td><td> 3</td></tr>\n",
       "\t<tr><td>Male  </td><td>LR_neg</td><td>102</td><td>NA</td><td>NA</td></tr>\n",
       "</tbody>\n",
       "</table>\n"
      ],
      "text/latex": [
       "A grouped\\_df: 8 × 5\n",
       "\\begin{tabular}{lllll}\n",
       " Gender & GROUP & sample\\_size & mean\\_aosi\\_ts\\_V6 & mean\\_aosi\\_ts\\_V12\\\\\n",
       " <chr> & <chr> & <int> & <dbl> & <dbl>\\\\\n",
       "\\hline\n",
       "\t Female & HR\\_ASD &  20 & NA & NA\\\\\n",
       "\t Female & HR\\_neg & 145 & NA & NA\\\\\n",
       "\t Female & LR\\_ASD &   1 &  6 &  5\\\\\n",
       "\t Female & LR\\_neg &  69 & NA & NA\\\\\n",
       "\t Male   & HR\\_ASD &  75 & NA & NA\\\\\n",
       "\t Male   & HR\\_neg & 173 & NA & NA\\\\\n",
       "\t Male   & LR\\_ASD &   2 &  8 &  3\\\\\n",
       "\t Male   & LR\\_neg & 102 & NA & NA\\\\\n",
       "\\end{tabular}\n"
      ],
      "text/markdown": [
       "\n",
       "A grouped_df: 8 × 5\n",
       "\n",
       "| Gender &lt;chr&gt; | GROUP &lt;chr&gt; | sample_size &lt;int&gt; | mean_aosi_ts_V6 &lt;dbl&gt; | mean_aosi_ts_V12 &lt;dbl&gt; |\n",
       "|---|---|---|---|---|\n",
       "| Female | HR_ASD |  20 | NA | NA |\n",
       "| Female | HR_neg | 145 | NA | NA |\n",
       "| Female | LR_ASD |   1 |  6 |  5 |\n",
       "| Female | LR_neg |  69 | NA | NA |\n",
       "| Male   | HR_ASD |  75 | NA | NA |\n",
       "| Male   | HR_neg | 173 | NA | NA |\n",
       "| Male   | LR_ASD |   2 |  8 |  3 |\n",
       "| Male   | LR_neg | 102 | NA | NA |\n",
       "\n"
      ],
      "text/plain": [
       "  Gender GROUP  sample_size mean_aosi_ts_V6 mean_aosi_ts_V12\n",
       "1 Female HR_ASD  20         NA              NA              \n",
       "2 Female HR_neg 145         NA              NA              \n",
       "3 Female LR_ASD   1          6               5              \n",
       "4 Female LR_neg  69         NA              NA              \n",
       "5 Male   HR_ASD  75         NA              NA              \n",
       "6 Male   HR_neg 173         NA              NA              \n",
       "7 Male   LR_ASD   2          8               3              \n",
       "8 Male   LR_neg 102         NA              NA              "
      ]
     },
     "metadata": {},
     "output_type": "display_data"
    }
   ],
   "source": [
    "data_nouvelle <-\n",
    "read.csv(\"cross-sec_aosi.csv\", na.strings = c(\".\", \" \")) %>% \n",
    "  group_by(Gender, GROUP) %>% \n",
    "  summarise(sample_size = n(), mean_aosi_ts_V6 = mean(V06.aosi.total_score_1_18), mean_aosi_ts_V12 = mean(V12.aosi.total_score_1_18)) \n",
    "\n",
    "data_nouvelle"
   ]
  },
  {
   "cell_type": "markdown",
   "id": "572bc946",
   "metadata": {},
   "source": [
    "## 3) Modification des variables factorielles : recode() et relevel()\n",
    "\n",
    "Rappelons-nous que les variables catégorielles sont appelées variables **factorielles** en R. Chaque variable factorielle inclut également un ensemble de **niveaux** qui est un vecteur contenant les étiquettes de groupe, dans un ordre spécifique. Souvent, on voudra soit : \n",
    "\n",
    "1) changer ces niveaux de groupe,\n",
    "2) changer l'ordre de ces niveaux de groupe.\n",
    "\n",
    "Changer les niveaux peut être fait facilement avec la fonction **fct_recode()** (`fct_recode()`) et changer l'ordre peut être fait facilement avec la fonction **fct_relevel()** (`fct_relevel()`). Ces fonctions se trouvent en fait dans le package `forcats`.\n",
    "\n",
    "Pour utiliser `fct_recode()`, le premier argument est le vecteur de la variable factorielle, puis on spécifie la valeur ancienne et la nouvelle valeur désirée pour les niveaux de groupe que l'on souhaite changer en utilisant **nouveau\"=\"ancien** où \"ancien\" est l'ancien niveau et \"nouveau\" est le nouveau niveau. On sépare ensuite chaque changement de niveau par des virgules. On prend les données AOSI et change `HR_neg` en `HR_NoASD` et `LR_neg` en `LR_NoASD`ci-dessous. Notez que l'on imprime uniquement les 10 premières observations :\n"
   ]
  },
  {
   "cell_type": "code",
   "execution_count": 86,
   "id": "85da4080",
   "metadata": {},
   "outputs": [],
   "source": [
    "library(forcats)"
   ]
  },
  {
   "cell_type": "code",
   "execution_count": 88,
   "id": "8b18d6e4",
   "metadata": {},
   "outputs": [
    {
     "data": {
      "text/html": [
       "<style>\n",
       ".list-inline {list-style: none; margin:0; padding: 0}\n",
       ".list-inline>li {display: inline-block}\n",
       ".list-inline>li:not(:last-child)::after {content: \"\\00b7\"; padding: 0 .5ex}\n",
       "</style>\n",
       "<ol class=list-inline><li>HR_ASD</li><li>HR_ASD</li><li>HR_ASD</li><li>HR_ASD</li><li>HR_NoASD</li><li>HR_NoASD</li><li>HR_ASD</li><li>HR_ASD</li><li>HR_NoASD</li><li>HR_ASD</li></ol>\n",
       "\n",
       "<details>\n",
       "\t<summary style=display:list-item;cursor:pointer>\n",
       "\t\t<strong>Levels</strong>:\n",
       "\t</summary>\n",
       "\t<style>\n",
       "\t.list-inline {list-style: none; margin:0; padding: 0}\n",
       "\t.list-inline>li {display: inline-block}\n",
       "\t.list-inline>li:not(:last-child)::after {content: \"\\00b7\"; padding: 0 .5ex}\n",
       "\t</style>\n",
       "\t<ol class=list-inline><li>'HR_ASD'</li><li>'HR_NoASD'</li><li>'LR_ASD'</li><li>'LR_NoASD'</li></ol>\n",
       "</details>"
      ],
      "text/latex": [
       "\\begin{enumerate*}\n",
       "\\item HR\\_ASD\n",
       "\\item HR\\_ASD\n",
       "\\item HR\\_ASD\n",
       "\\item HR\\_ASD\n",
       "\\item HR\\_NoASD\n",
       "\\item HR\\_NoASD\n",
       "\\item HR\\_ASD\n",
       "\\item HR\\_ASD\n",
       "\\item HR\\_NoASD\n",
       "\\item HR\\_ASD\n",
       "\\end{enumerate*}\n",
       "\n",
       "\\emph{Levels}: \\begin{enumerate*}\n",
       "\\item 'HR\\_ASD'\n",
       "\\item 'HR\\_NoASD'\n",
       "\\item 'LR\\_ASD'\n",
       "\\item 'LR\\_NoASD'\n",
       "\\end{enumerate*}\n"
      ],
      "text/markdown": [
       "1. HR_ASD\n",
       "2. HR_ASD\n",
       "3. HR_ASD\n",
       "4. HR_ASD\n",
       "5. HR_NoASD\n",
       "6. HR_NoASD\n",
       "7. HR_ASD\n",
       "8. HR_ASD\n",
       "9. HR_NoASD\n",
       "10. HR_ASD\n",
       "\n",
       "\n",
       "\n",
       "**Levels**: 1. 'HR_ASD'\n",
       "2. 'HR_NoASD'\n",
       "3. 'LR_ASD'\n",
       "4. 'LR_NoASD'\n",
       "\n",
       "\n"
      ],
      "text/plain": [
       " [1] HR_ASD   HR_ASD   HR_ASD   HR_ASD   HR_NoASD HR_NoASD HR_ASD   HR_ASD  \n",
       " [9] HR_NoASD HR_ASD  \n",
       "Levels: HR_ASD HR_NoASD LR_ASD LR_NoASD"
      ]
     },
     "metadata": {},
     "output_type": "display_data"
    }
   ],
   "source": [
    "# changer les noms donnés aux classes de GROUP\n",
    "fct_recode(data_aosi$GROUP, \"HR_NoASD\" =\"HR_neg\", \"LR_NoASD\"= \"LR_neg\")[1:10]"
   ]
  },
  {
   "cell_type": "markdown",
   "id": "17b9278e",
   "metadata": {},
   "source": [
    "Pour changer définitivement la variable `GROUP` dans l'ensemble de données, on peut utiliser le pipe. Puisqu'on modifie la variable, on doit en fait utiliser `mutate()` pour que R écrase l'ancienne variable `GROUP` :"
   ]
  },
  {
   "cell_type": "code",
   "execution_count": 92,
   "id": "cc024ad5",
   "metadata": {},
   "outputs": [
    {
     "data": {
      "text/html": [
       "<style>\n",
       ".list-inline {list-style: none; margin:0; padding: 0}\n",
       ".list-inline>li {display: inline-block}\n",
       ".list-inline>li:not(:last-child)::after {content: \"\\00b7\"; padding: 0 .5ex}\n",
       "</style>\n",
       "<ol class=list-inline><li>HR_ASD</li><li>HR_ASD</li><li>HR_ASD</li><li>HR_ASD</li><li>HR_NoASD</li><li>HR_NoASD</li><li>HR_ASD</li><li>HR_ASD</li><li>HR_NoASD</li><li>HR_ASD</li></ol>\n",
       "\n",
       "<details>\n",
       "\t<summary style=display:list-item;cursor:pointer>\n",
       "\t\t<strong>Levels</strong>:\n",
       "\t</summary>\n",
       "\t<style>\n",
       "\t.list-inline {list-style: none; margin:0; padding: 0}\n",
       "\t.list-inline>li {display: inline-block}\n",
       "\t.list-inline>li:not(:last-child)::after {content: \"\\00b7\"; padding: 0 .5ex}\n",
       "\t</style>\n",
       "\t<ol class=list-inline><li>'HR_ASD'</li><li>'HR_NoASD'</li><li>'LR_ASD'</li><li>'LR_NoASD'</li></ol>\n",
       "</details>"
      ],
      "text/latex": [
       "\\begin{enumerate*}\n",
       "\\item HR\\_ASD\n",
       "\\item HR\\_ASD\n",
       "\\item HR\\_ASD\n",
       "\\item HR\\_ASD\n",
       "\\item HR\\_NoASD\n",
       "\\item HR\\_NoASD\n",
       "\\item HR\\_ASD\n",
       "\\item HR\\_ASD\n",
       "\\item HR\\_NoASD\n",
       "\\item HR\\_ASD\n",
       "\\end{enumerate*}\n",
       "\n",
       "\\emph{Levels}: \\begin{enumerate*}\n",
       "\\item 'HR\\_ASD'\n",
       "\\item 'HR\\_NoASD'\n",
       "\\item 'LR\\_ASD'\n",
       "\\item 'LR\\_NoASD'\n",
       "\\end{enumerate*}\n"
      ],
      "text/markdown": [
       "1. HR_ASD\n",
       "2. HR_ASD\n",
       "3. HR_ASD\n",
       "4. HR_ASD\n",
       "5. HR_NoASD\n",
       "6. HR_NoASD\n",
       "7. HR_ASD\n",
       "8. HR_ASD\n",
       "9. HR_NoASD\n",
       "10. HR_ASD\n",
       "\n",
       "\n",
       "\n",
       "**Levels**: 1. 'HR_ASD'\n",
       "2. 'HR_NoASD'\n",
       "3. 'LR_ASD'\n",
       "4. 'LR_NoASD'\n",
       "\n",
       "\n"
      ],
      "text/plain": [
       " [1] HR_ASD   HR_ASD   HR_ASD   HR_ASD   HR_NoASD HR_NoASD HR_ASD   HR_ASD  \n",
       " [9] HR_NoASD HR_ASD  \n",
       "Levels: HR_ASD HR_NoASD LR_ASD LR_NoASD"
      ]
     },
     "metadata": {},
     "output_type": "display_data"
    }
   ],
   "source": [
    "data_aosi_2 <- data_aosi %>% \n",
    "    mutate(GROUP = fct_recode(GROUP, \"HR_NoASD\" =\"HR_neg\", \"LR_NoASD\"= \"LR_neg\"))\n",
    "\n",
    "data_aosi_2$GROUP[1:10]"
   ]
  },
  {
   "cell_type": "markdown",
   "id": "0b36341a",
   "metadata": {},
   "source": [
    "Maintenant, on réarrange ces niveaux en utilisant **fct_relevel**. Notons que cela **NE CHANGE PAS** les valeurs réelles de la variable dans les données, simplement l'ordre que R considère lors de l'utilisation de ces niveaux de groupe. Cet ordre est important lors du tri de l'ensemble de données, de la création de graphiques, de l'exécution d'analyses de régression linéaire et ANOVA, et dans d'autres contextes. Pour utiliser `fct_relevel()`, le premier argument est le vecteur de la variable factorielle, puis on liste les niveaux dans l'ordre croissant en utilisant des chaînes de caractères. Par exemple, en utilisant les nouveaux niveaux de groupe de `fct_recode`, on change l'ordre des étiquettes de groupe de diagnostic pour commencer à risque bas `LR`: Négatif et finir à risque haut `HR`: ASD :\n"
   ]
  },
  {
   "cell_type": "code",
   "execution_count": 97,
   "id": "37df8cff",
   "metadata": {},
   "outputs": [
    {
     "data": {
      "text/html": [
       "<style>\n",
       ".list-inline {list-style: none; margin:0; padding: 0}\n",
       ".list-inline>li {display: inline-block}\n",
       ".list-inline>li:not(:last-child)::after {content: \"\\00b7\"; padding: 0 .5ex}\n",
       "</style>\n",
       "<ol class=list-inline><li>HR_ASD</li><li>HR_ASD</li><li>HR_ASD</li><li>HR_ASD</li><li>HR_NoASD</li><li>HR_NoASD</li><li>HR_ASD</li><li>HR_ASD</li><li>HR_NoASD</li><li>HR_ASD</li></ol>\n",
       "\n",
       "<details>\n",
       "\t<summary style=display:list-item;cursor:pointer>\n",
       "\t\t<strong>Levels</strong>:\n",
       "\t</summary>\n",
       "\t<style>\n",
       "\t.list-inline {list-style: none; margin:0; padding: 0}\n",
       "\t.list-inline>li {display: inline-block}\n",
       "\t.list-inline>li:not(:last-child)::after {content: \"\\00b7\"; padding: 0 .5ex}\n",
       "\t</style>\n",
       "\t<ol class=list-inline><li>'LR_NoASD'</li><li>'LR_ASD'</li><li>'HR_NoASD'</li><li>'HR_ASD'</li></ol>\n",
       "</details>"
      ],
      "text/latex": [
       "\\begin{enumerate*}\n",
       "\\item HR\\_ASD\n",
       "\\item HR\\_ASD\n",
       "\\item HR\\_ASD\n",
       "\\item HR\\_ASD\n",
       "\\item HR\\_NoASD\n",
       "\\item HR\\_NoASD\n",
       "\\item HR\\_ASD\n",
       "\\item HR\\_ASD\n",
       "\\item HR\\_NoASD\n",
       "\\item HR\\_ASD\n",
       "\\end{enumerate*}\n",
       "\n",
       "\\emph{Levels}: \\begin{enumerate*}\n",
       "\\item 'LR\\_NoASD'\n",
       "\\item 'LR\\_ASD'\n",
       "\\item 'HR\\_NoASD'\n",
       "\\item 'HR\\_ASD'\n",
       "\\end{enumerate*}\n"
      ],
      "text/markdown": [
       "1. HR_ASD\n",
       "2. HR_ASD\n",
       "3. HR_ASD\n",
       "4. HR_ASD\n",
       "5. HR_NoASD\n",
       "6. HR_NoASD\n",
       "7. HR_ASD\n",
       "8. HR_ASD\n",
       "9. HR_NoASD\n",
       "10. HR_ASD\n",
       "\n",
       "\n",
       "\n",
       "**Levels**: 1. 'LR_NoASD'\n",
       "2. 'LR_ASD'\n",
       "3. 'HR_NoASD'\n",
       "4. 'HR_ASD'\n",
       "\n",
       "\n"
      ],
      "text/plain": [
       " [1] HR_ASD   HR_ASD   HR_ASD   HR_ASD   HR_NoASD HR_NoASD HR_ASD   HR_ASD  \n",
       " [9] HR_NoASD HR_ASD  \n",
       "Levels: LR_NoASD LR_ASD HR_NoASD HR_ASD"
      ]
     },
     "metadata": {},
     "output_type": "display_data"
    }
   ],
   "source": [
    "fct_relevel(data_aosi_2$GROUP, \"LR_NoASD\", \"LR_ASD\", \"HR_NoASD\", \"HR_ASD\")[1:10]"
   ]
  },
  {
   "cell_type": "markdown",
   "id": "e8079825",
   "metadata": {},
   "source": [
    "Remarquons la ligne 'Levels'."
   ]
  },
  {
   "cell_type": "markdown",
   "id": "8eb7ee11",
   "metadata": {},
   "source": [
    "Pour changer définitivement la variable dans l'ensemble de données, on a encore besoin d'utiliser `mutate()` et on peut utiliser le pipe pour un code plus propre :\n"
   ]
  },
  {
   "cell_type": "code",
   "execution_count": 99,
   "id": "5ad0a220",
   "metadata": {},
   "outputs": [
    {
     "data": {
      "text/html": [
       "<style>\n",
       ".list-inline {list-style: none; margin:0; padding: 0}\n",
       ".list-inline>li {display: inline-block}\n",
       ".list-inline>li:not(:last-child)::after {content: \"\\00b7\"; padding: 0 .5ex}\n",
       "</style>\n",
       "<ol class=list-inline><li>HR_ASD</li><li>HR_ASD</li><li>HR_ASD</li><li>HR_ASD</li><li>HR_NoASD</li><li>HR_NoASD</li><li>HR_ASD</li><li>HR_ASD</li><li>HR_NoASD</li><li>HR_ASD</li></ol>\n",
       "\n",
       "<details>\n",
       "\t<summary style=display:list-item;cursor:pointer>\n",
       "\t\t<strong>Levels</strong>:\n",
       "\t</summary>\n",
       "\t<style>\n",
       "\t.list-inline {list-style: none; margin:0; padding: 0}\n",
       "\t.list-inline>li {display: inline-block}\n",
       "\t.list-inline>li:not(:last-child)::after {content: \"\\00b7\"; padding: 0 .5ex}\n",
       "\t</style>\n",
       "\t<ol class=list-inline><li>'LR_NoASD'</li><li>'LR_ASD'</li><li>'HR_NoASD'</li><li>'HR_ASD'</li></ol>\n",
       "</details>"
      ],
      "text/latex": [
       "\\begin{enumerate*}\n",
       "\\item HR\\_ASD\n",
       "\\item HR\\_ASD\n",
       "\\item HR\\_ASD\n",
       "\\item HR\\_ASD\n",
       "\\item HR\\_NoASD\n",
       "\\item HR\\_NoASD\n",
       "\\item HR\\_ASD\n",
       "\\item HR\\_ASD\n",
       "\\item HR\\_NoASD\n",
       "\\item HR\\_ASD\n",
       "\\end{enumerate*}\n",
       "\n",
       "\\emph{Levels}: \\begin{enumerate*}\n",
       "\\item 'LR\\_NoASD'\n",
       "\\item 'LR\\_ASD'\n",
       "\\item 'HR\\_NoASD'\n",
       "\\item 'HR\\_ASD'\n",
       "\\end{enumerate*}\n"
      ],
      "text/markdown": [
       "1. HR_ASD\n",
       "2. HR_ASD\n",
       "3. HR_ASD\n",
       "4. HR_ASD\n",
       "5. HR_NoASD\n",
       "6. HR_NoASD\n",
       "7. HR_ASD\n",
       "8. HR_ASD\n",
       "9. HR_NoASD\n",
       "10. HR_ASD\n",
       "\n",
       "\n",
       "\n",
       "**Levels**: 1. 'LR_NoASD'\n",
       "2. 'LR_ASD'\n",
       "3. 'HR_NoASD'\n",
       "4. 'HR_ASD'\n",
       "\n",
       "\n"
      ],
      "text/plain": [
       " [1] HR_ASD   HR_ASD   HR_ASD   HR_ASD   HR_NoASD HR_NoASD HR_ASD   HR_ASD  \n",
       " [9] HR_NoASD HR_ASD  \n",
       "Levels: LR_NoASD LR_ASD HR_NoASD HR_ASD"
      ]
     },
     "metadata": {},
     "output_type": "display_data"
    }
   ],
   "source": [
    "data_aosi_3 <- data_aosi_2 %>% \n",
    "  mutate(GROUP = fct_relevel(GROUP, \"LR_NoASD\", \"LR_ASD\", \"HR_NoASD\", \"HR_ASD\"))\n",
    "\n",
    "data_aosi_3$GROUP[1:10]"
   ]
  },
  {
   "cell_type": "markdown",
   "id": "53547d4d",
   "metadata": {},
   "source": [
    "On constate le même résultat obtenu avant."
   ]
  },
  {
   "cell_type": "code",
   "execution_count": null,
   "id": "847b61ae",
   "metadata": {},
   "outputs": [],
   "source": []
  }
 ],
 "metadata": {
  "kernelspec": {
   "display_name": "R",
   "language": "R",
   "name": "ir"
  },
  "language_info": {
   "codemirror_mode": "r",
   "file_extension": ".r",
   "mimetype": "text/x-r-source",
   "name": "R",
   "pygments_lexer": "r",
   "version": "4.2.3"
  }
 },
 "nbformat": 4,
 "nbformat_minor": 5
}
