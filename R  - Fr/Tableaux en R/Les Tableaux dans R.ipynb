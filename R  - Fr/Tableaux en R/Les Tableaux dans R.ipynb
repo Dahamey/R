{
 "cells": [
  {
   "cell_type": "markdown",
   "id": "86988960",
   "metadata": {},
   "source": [
    "<h1 style=\"text-align:center;\">Travailler Avec des Tableaux dans R</h1>\n"
   ]
  },
  {
   "cell_type": "markdown",
   "id": "eae05754",
   "metadata": {},
   "source": [
    "<u>**Auteur</u> :** [Younes Dahami](https://www.linkedin.com/in/dahami/)"
   ]
  },
  {
   "cell_type": "markdown",
   "id": "81aacb15",
   "metadata": {},
   "source": [
    "# Introduction\n",
    "\n",
    "Les tableaux sont souvent essentielles pour organiser et résumer nos données, notamment avec des variables catégorielles. Lorsque l'on crée un tableau dans R, elle considère notre tableau comme un type d'objet spécifique (appelé \"table\") qui est très similaire à un dataframe. Bien que cela puisse sembler étrange puisque les datasets sont stockés sous forme de dataframes. Dans ce notebook, nous discuterons de la création de divers types de tables et de l'utilisation de différentes méthodes statistiques pour analyser les données tabulaires. Tout au long du notebook, la dataset AOSI sera utilisé.\n",
    "\n",
    "# 1) Création de tables de base : `table()` , `xtabs()` et `ltabs()`\n",
    "\n",
    "## 1.1) `table()`\n",
    "\n",
    "Un tableau de contingence (\"tri à plat\" ou \"Tableau de fréquences) est une tabulation des comptes et/ou pour une ou plusieurs variables. En R, ces tables peuvent être créées à l'aide de **`table()`** ainsi que certaines de ses variations.\n",
    "\n",
    "Pour utiliser `table()`, on ajoute simplement les variables qu'on souhaite tabuler séparées par une virgule. Remarquons que `table()` n'a pas d'argument data= comme de nombreuses autres fonctions le font (par exemple, les fonctions ggplot2), donc nous devons référencer la variable en utilisant **`dataset$variable`**. Quelques exemples sont présentés ci-dessous. Par défaut, les valeurs manquantes sont exclues des décomptes, si nous souhaitons un décompte pour ces valeurs manquantes, nous devons spécifier l'argument **`useNA=\"ifany\"`** ou **`useNA=\"always\"`**. Les exemples ci-dessous montrent comment utiliser cette fonction.\n",
    "\n",
    "* **`useNA = \"no\"` :** (valeur par défaut), les valeurs manquantes ne sont jamais incluses dans le tri à plat.\n",
    "\n",
    "* **`useNA = \"ifany` :** (if any), une colonne NA est ajoutée si des valeurs manquantes sont présentées dans les données.\n",
    "\n",
    "* **`useNA = \"always\"`** une colonne NA est toujours ajoutée, même s'il n'ya pas de valeurs manquantes dans les données.\n"
   ]
  },
  {
   "cell_type": "code",
   "execution_count": 2,
   "id": "7a3077f8",
   "metadata": {},
   "outputs": [],
   "source": [
    "data_aosi <- read.csv(\"cross-sec_aosi.csv\", stringsAsFactors = FALSE, na.strings = \".\")"
   ]
  },
  {
   "cell_type": "code",
   "execution_count": 4,
   "id": "eefe65e0",
   "metadata": {},
   "outputs": [
    {
     "data": {
      "text/plain": [
       "\n",
       "Female   Male \n",
       "   235    352 "
      ]
     },
     "metadata": {},
     "output_type": "display_data"
    }
   ],
   "source": [
    "# Table par sexe\n",
    "table(data_aosi$Gender)"
   ]
  },
  {
   "cell_type": "code",
   "execution_count": 5,
   "id": "c1cf8817",
   "metadata": {},
   "outputs": [
    {
     "data": {
      "text/plain": [
       "\n",
       "PHI SEA STL UNC \n",
       "149 152 145 141 "
      ]
     },
     "metadata": {},
     "output_type": "display_data"
    }
   ],
   "source": [
    "# Table par Site d'étude\n",
    "table(data_aosi$Study_Site)"
   ]
  },
  {
   "cell_type": "markdown",
   "id": "a39f2a55",
   "metadata": {},
   "source": [
    "Quand le nombre de modalité est élevé, on peut ordonner le tri à plat selon les effectifs à l'aide de la fonction `sort()` :"
   ]
  },
  {
   "cell_type": "code",
   "execution_count": 9,
   "id": "8a1a080b",
   "metadata": {},
   "outputs": [
    {
     "data": {
      "text/plain": [
       "\n",
       "UNC STL PHI SEA \n",
       "141 145 149 152 "
      ]
     },
     "metadata": {},
     "output_type": "display_data"
    }
   ],
   "source": [
    "sort(table(data_aosi$Study_Site))"
   ]
  },
  {
   "cell_type": "code",
   "execution_count": 11,
   "id": "d85a6db4",
   "metadata": {},
   "outputs": [
    {
     "data": {
      "text/plain": [
       "\n",
       "SEA PHI STL UNC \n",
       "152 149 145 141 "
      ]
     },
     "metadata": {},
     "output_type": "display_data"
    }
   ],
   "source": [
    "sort(table(data_aosi$Study_Site), decreasing = TRUE)"
   ]
  },
  {
   "cell_type": "code",
   "execution_count": 7,
   "id": "0c9a708a",
   "metadata": {},
   "outputs": [
    {
     "data": {
      "text/plain": [
       "        \n",
       "         PHI SEA STL UNC\n",
       "  Female  55  67  60  53\n",
       "  Male    94  85  85  88"
      ]
     },
     "metadata": {},
     "output_type": "display_data"
    }
   ],
   "source": [
    "# table à deux voix pour sexe et site d'étude (two-way table)\n",
    "table(data_aosi$Gender, data_aosi$Study_Site)"
   ]
  },
  {
   "cell_type": "markdown",
   "id": "0dee6628",
   "metadata": {},
   "source": [
    "Remarquons que l'ordre est important : la 1ère variable est la variable de ligne, la 2ème variable est la variable de colonne. Essayons d'ajouter l'argument `useNA` :"
   ]
  },
  {
   "cell_type": "code",
   "execution_count": 8,
   "id": "d70f3c6a",
   "metadata": {},
   "outputs": [
    {
     "data": {
      "text/plain": [
       "        \n",
       "         PHI SEA STL UNC\n",
       "  Female  55  67  60  53\n",
       "  Male    94  85  85  88"
      ]
     },
     "metadata": {},
     "output_type": "display_data"
    }
   ],
   "source": [
    "table(data_aosi$Gender, data_aosi$Study_Site, useNA = \"ifany\")"
   ]
  },
  {
   "cell_type": "code",
   "execution_count": 13,
   "id": "2d461868",
   "metadata": {},
   "outputs": [
    {
     "data": {
      "text/plain": [
       "        \n",
       "         PHI SEA STL UNC <NA>\n",
       "  Female  55  67  60  53    0\n",
       "  Male    94  85  85  88    0\n",
       "  <NA>     0   0   0   0    0"
      ]
     },
     "metadata": {},
     "output_type": "display_data"
    }
   ],
   "source": [
    "table(data_aosi$Gender, data_aosi$Study_Site, useNA = \"always\")"
   ]
  },
  {
   "cell_type": "code",
   "execution_count": 14,
   "id": "27db3c46",
   "metadata": {},
   "outputs": [],
   "source": [
    "# Sauvons l'une de ces tables pour une utilisation ultérieure dans des exemples\n",
    "table_exp <- table(data_aosi$Gender, data_aosi$Study_Site)\n"
   ]
  },
  {
   "cell_type": "markdown",
   "id": "5d0c928c",
   "metadata": {},
   "source": [
    "Ajoutons des étiquettes de lignes et de colonnes au tableau `Gender` par site d'étude. Pour un objet de tableau, ces étiquettes sont appelées **dimnames** (c'est-à-dire noms de dimensions) qui peuvent être accédées en utilisant la fonction **`dimnames()`**. \n",
    "\n",
    "Notons que c'est similaire à la fonction **`names()`** avec les listes, sauf que maintenant notre tableau a plusieurs dimensions, chacune pouvant avoir son propre ensemble de noms.\n",
    "\n",
    "**Pour un tableau, les dimnames sont stockés sous forme de liste, chaque entrée de liste contenant les étiquettes de groupe pour la variable correspondante à cette dimension.** Le nom de chacune de ces entrées de liste spécifie l'étiquette réelle à utiliser dans le tableau. Par défaut, ces noms sont vides, c'est pourquoi le tableau par défaut n'a pas d'étiquettes de lignes et de colonnes. Nous pouvons changer cela en spécifiant ces noms, en utilisant **`names()`** avec **`dimnames()`**.\n"
   ]
  },
  {
   "cell_type": "code",
   "execution_count": 15,
   "id": "634e6350",
   "metadata": {},
   "outputs": [
    {
     "data": {
      "text/html": [
       "<dl>\n",
       "\t<dt>[[1]]</dt>\n",
       "\t\t<dd><style>\n",
       ".list-inline {list-style: none; margin:0; padding: 0}\n",
       ".list-inline>li {display: inline-block}\n",
       ".list-inline>li:not(:last-child)::after {content: \"\\00b7\"; padding: 0 .5ex}\n",
       "</style>\n",
       "<ol class=list-inline><li>'Female'</li><li>'Male'</li></ol>\n",
       "</dd>\n",
       "\t<dt>[[2]]</dt>\n",
       "\t\t<dd><style>\n",
       ".list-inline {list-style: none; margin:0; padding: 0}\n",
       ".list-inline>li {display: inline-block}\n",
       ".list-inline>li:not(:last-child)::after {content: \"\\00b7\"; padding: 0 .5ex}\n",
       "</style>\n",
       "<ol class=list-inline><li>'PHI'</li><li>'SEA'</li><li>'STL'</li><li>'UNC'</li></ol>\n",
       "</dd>\n",
       "</dl>\n"
      ],
      "text/latex": [
       "\\begin{description}\n",
       "\\item[{[[1]]}] \\begin{enumerate*}\n",
       "\\item 'Female'\n",
       "\\item 'Male'\n",
       "\\end{enumerate*}\n",
       "\n",
       "\\item[{[[2]]}] \\begin{enumerate*}\n",
       "\\item 'PHI'\n",
       "\\item 'SEA'\n",
       "\\item 'STL'\n",
       "\\item 'UNC'\n",
       "\\end{enumerate*}\n",
       "\n",
       "\\end{description}\n"
      ],
      "text/markdown": [
       "[[1]]\n",
       ":   1. 'Female'\n",
       "2. 'Male'\n",
       "\n",
       "\n",
       "\n",
       "[[2]]\n",
       ":   1. 'PHI'\n",
       "2. 'SEA'\n",
       "3. 'STL'\n",
       "4. 'UNC'\n",
       "\n",
       "\n",
       "\n",
       "\n",
       "\n"
      ],
      "text/plain": [
       "[[1]]\n",
       "[1] \"Female\" \"Male\"  \n",
       "\n",
       "[[2]]\n",
       "[1] \"PHI\" \"SEA\" \"STL\" \"UNC\"\n"
      ]
     },
     "metadata": {},
     "output_type": "display_data"
    }
   ],
   "source": [
    "dimnames(table_exp)"
   ]
  },
  {
   "cell_type": "markdown",
   "id": "ab982cda",
   "metadata": {},
   "source": [
    "On voit les étiquettes de groupe. Notons que chaque ensemble d'étiquettes de groupe est non nommé (vides à côté de [[1]] et [[2]]). Cela est plus clairement visible en accédant explicitement à ces noms en utilisant `names()`\n"
   ]
  },
  {
   "cell_type": "code",
   "execution_count": 16,
   "id": "20ae8682",
   "metadata": {},
   "outputs": [
    {
     "data": {
      "text/html": [
       "<style>\n",
       ".list-inline {list-style: none; margin:0; padding: 0}\n",
       ".list-inline>li {display: inline-block}\n",
       ".list-inline>li:not(:last-child)::after {content: \"\\00b7\"; padding: 0 .5ex}\n",
       "</style>\n",
       "<ol class=list-inline><li>''</li><li>''</li></ol>\n"
      ],
      "text/latex": [
       "\\begin{enumerate*}\n",
       "\\item ''\n",
       "\\item ''\n",
       "\\end{enumerate*}\n"
      ],
      "text/markdown": [
       "1. ''\n",
       "2. ''\n",
       "\n",
       "\n"
      ],
      "text/plain": [
       "[1] \"\" \"\""
      ]
     },
     "metadata": {},
     "output_type": "display_data"
    }
   ],
   "source": [
    "names(dimnames(table_exp))"
   ]
  },
  {
   "cell_type": "code",
   "execution_count": 18,
   "id": "95996931",
   "metadata": {},
   "outputs": [
    {
     "data": {
      "text/html": [
       "<style>\n",
       ".list-inline {list-style: none; margin:0; padding: 0}\n",
       ".list-inline>li {display: inline-block}\n",
       ".list-inline>li:not(:last-child)::after {content: \"\\00b7\"; padding: 0 .5ex}\n",
       "</style>\n",
       "<ol class=list-inline><li>'Gender'</li><li>'Site'</li></ol>\n"
      ],
      "text/latex": [
       "\\begin{enumerate*}\n",
       "\\item 'Gender'\n",
       "\\item 'Site'\n",
       "\\end{enumerate*}\n"
      ],
      "text/markdown": [
       "1. 'Gender'\n",
       "2. 'Site'\n",
       "\n",
       "\n"
      ],
      "text/plain": [
       "[1] \"Gender\" \"Site\"  "
      ]
     },
     "metadata": {},
     "output_type": "display_data"
    }
   ],
   "source": [
    "# changeons les noms\n",
    "\n",
    "names(dimnames(table_exp)) <- c(\"Gender\", \"Site\")\n",
    "names(dimnames(table_exp))"
   ]
  },
  {
   "cell_type": "code",
   "execution_count": 19,
   "id": "780035f5",
   "metadata": {},
   "outputs": [
    {
     "data": {
      "text/plain": [
       "        Site\n",
       "Gender   PHI SEA STL UNC\n",
       "  Female  55  67  60  53\n",
       "  Male    94  85  85  88"
      ]
     },
     "metadata": {},
     "output_type": "display_data"
    }
   ],
   "source": [
    "table_exp"
   ]
  },
  {
   "cell_type": "markdown",
   "id": "ac362305",
   "metadata": {},
   "source": [
    "Maintenant, les étiquettes des lignes et des colonnes apparaissent, ce qui rend le tableau plus facile à comprendre."
   ]
  },
  {
   "cell_type": "markdown",
   "id": "7984aa44",
   "metadata": {},
   "source": [
    "Il est également courant de visualiser ces tabulations sous forme de **pourcentages.** Cela peut être fait en utilisant **`prop.table()`**, qui contrairement à `table()`, **prend comme argument un objet table** et non les variables d'intérêt réelles.\n",
    "\n",
    "Notons que toutes les modifications apportées aux noms de dimensions de l'objet table sont conservées lors de l'application de `prop.table()`. La sortie de `prop.table()` est également stockée comme un objet de type `table` :\n"
   ]
  },
  {
   "cell_type": "code",
   "execution_count": 21,
   "id": "1a3d934f",
   "metadata": {},
   "outputs": [
    {
     "data": {
      "text/plain": [
       "        Site\n",
       "Gender          PHI        SEA        STL        UNC\n",
       "  Female 0.09369676 0.11413969 0.10221465 0.09028961\n",
       "  Male   0.16013629 0.14480409 0.14480409 0.14991482"
      ]
     },
     "metadata": {},
     "output_type": "display_data"
    }
   ],
   "source": [
    "# Tableau croisé (2-way table) de pourcentage\n",
    "prop_table_exp <- prop.table(table_exp)\n",
    "prop_table_exp"
   ]
  },
  {
   "cell_type": "markdown",
   "id": "42f14b17",
   "metadata": {},
   "source": [
    "L'utilisation de **`summary()`** permet également l'affichage du tri à plat et du nombre de non-réponse :"
   ]
  },
  {
   "cell_type": "code",
   "execution_count": 24,
   "id": "33329ccc",
   "metadata": {},
   "outputs": [
    {
     "data": {
      "text/plain": [
       "   Length     Class      Mode \n",
       "      587 character character "
      ]
     },
     "metadata": {},
     "output_type": "display_data"
    }
   ],
   "source": [
    "summary(data_aosi$Gender)"
   ]
  },
  {
   "cell_type": "markdown",
   "id": "e5308564",
   "metadata": {},
   "source": [
    "Pour obtenir un tableau avec la répartition en pourcentages, on peut utiliser la fonction **`freq`** de l’extension **`questionr`** :"
   ]
  },
  {
   "cell_type": "code",
   "execution_count": 25,
   "id": "8c689a99",
   "metadata": {},
   "outputs": [],
   "source": [
    "library(questionr)"
   ]
  },
  {
   "cell_type": "code",
   "execution_count": 26,
   "id": "498a1832",
   "metadata": {},
   "outputs": [
    {
     "data": {
      "text/html": [
       "<table class=\"dataframe\">\n",
       "<caption>A freqtab: 4 × 3</caption>\n",
       "<thead>\n",
       "\t<tr><th></th><th scope=col>n</th><th scope=col>%</th><th scope=col>val%</th></tr>\n",
       "\t<tr><th></th><th scope=col>&lt;dbl&gt;</th><th scope=col>&lt;dbl&gt;</th><th scope=col>&lt;dbl&gt;</th></tr>\n",
       "</thead>\n",
       "<tbody>\n",
       "\t<tr><th scope=row>PHI</th><td>149</td><td>25.4</td><td>25.4</td></tr>\n",
       "\t<tr><th scope=row>SEA</th><td>152</td><td>25.9</td><td>25.9</td></tr>\n",
       "\t<tr><th scope=row>STL</th><td>145</td><td>24.7</td><td>24.7</td></tr>\n",
       "\t<tr><th scope=row>UNC</th><td>141</td><td>24.0</td><td>24.0</td></tr>\n",
       "</tbody>\n",
       "</table>\n"
      ],
      "text/latex": [
       "A freqtab: 4 × 3\n",
       "\\begin{tabular}{r|lll}\n",
       "  & n & \\% & val\\%\\\\\n",
       "  & <dbl> & <dbl> & <dbl>\\\\\n",
       "\\hline\n",
       "\tPHI & 149 & 25.4 & 25.4\\\\\n",
       "\tSEA & 152 & 25.9 & 25.9\\\\\n",
       "\tSTL & 145 & 24.7 & 24.7\\\\\n",
       "\tUNC & 141 & 24.0 & 24.0\\\\\n",
       "\\end{tabular}\n"
      ],
      "text/markdown": [
       "\n",
       "A freqtab: 4 × 3\n",
       "\n",
       "| <!--/--> | n &lt;dbl&gt; | % &lt;dbl&gt; | val% &lt;dbl&gt; |\n",
       "|---|---|---|---|\n",
       "| PHI | 149 | 25.4 | 25.4 |\n",
       "| SEA | 152 | 25.9 | 25.9 |\n",
       "| STL | 145 | 24.7 | 24.7 |\n",
       "| UNC | 141 | 24.0 | 24.0 |\n",
       "\n"
      ],
      "text/plain": [
       "    n   %    val%\n",
       "PHI 149 25.4 25.4\n",
       "SEA 152 25.9 25.9\n",
       "STL 145 24.7 24.7\n",
       "UNC 141 24.0 24.0"
      ]
     },
     "metadata": {},
     "output_type": "display_data"
    }
   ],
   "source": [
    "freq(data_aosi$Study_Site)"
   ]
  },
  {
   "cell_type": "markdown",
   "id": "f1fe7a10",
   "metadata": {},
   "source": [
    "La colonne `n` donne les effectifs bruts, la colonne `%` la répartition en pourcentages et `val%` la répartition en pourcentages, données manquantes exclues.\n",
    "\n",
    "La fonction accepte plusieurs paramètres permettant d’afficher les totaux, les pourcentages cumulés, de trier selon les effectifs ou de contrôler l’affichage. Par exemple :"
   ]
  },
  {
   "cell_type": "code",
   "execution_count": 27,
   "id": "c8a2eb3f",
   "metadata": {},
   "outputs": [
    {
     "data": {
      "text/html": [
       "<table class=\"dataframe\">\n",
       "<caption>A freqtab: 5 × 3</caption>\n",
       "<thead>\n",
       "\t<tr><th></th><th scope=col>n</th><th scope=col>%</th><th scope=col>%cum</th></tr>\n",
       "\t<tr><th></th><th scope=col>&lt;dbl&gt;</th><th scope=col>&lt;dbl&gt;</th><th scope=col>&lt;dbl&gt;</th></tr>\n",
       "</thead>\n",
       "<tbody>\n",
       "\t<tr><th scope=row>UNC</th><td>141</td><td> 24.02</td><td> 24.02</td></tr>\n",
       "\t<tr><th scope=row>STL</th><td>145</td><td> 24.70</td><td> 48.72</td></tr>\n",
       "\t<tr><th scope=row>PHI</th><td>149</td><td> 25.38</td><td> 74.11</td></tr>\n",
       "\t<tr><th scope=row>SEA</th><td>152</td><td> 25.89</td><td>100.00</td></tr>\n",
       "\t<tr><th scope=row>Total</th><td>587</td><td>100.00</td><td>100.00</td></tr>\n",
       "</tbody>\n",
       "</table>\n"
      ],
      "text/latex": [
       "A freqtab: 5 × 3\n",
       "\\begin{tabular}{r|lll}\n",
       "  & n & \\% & \\%cum\\\\\n",
       "  & <dbl> & <dbl> & <dbl>\\\\\n",
       "\\hline\n",
       "\tUNC & 141 &  24.02 &  24.02\\\\\n",
       "\tSTL & 145 &  24.70 &  48.72\\\\\n",
       "\tPHI & 149 &  25.38 &  74.11\\\\\n",
       "\tSEA & 152 &  25.89 & 100.00\\\\\n",
       "\tTotal & 587 & 100.00 & 100.00\\\\\n",
       "\\end{tabular}\n"
      ],
      "text/markdown": [
       "\n",
       "A freqtab: 5 × 3\n",
       "\n",
       "| <!--/--> | n &lt;dbl&gt; | % &lt;dbl&gt; | %cum &lt;dbl&gt; |\n",
       "|---|---|---|---|\n",
       "| UNC | 141 |  24.02 |  24.02 |\n",
       "| STL | 145 |  24.70 |  48.72 |\n",
       "| PHI | 149 |  25.38 |  74.11 |\n",
       "| SEA | 152 |  25.89 | 100.00 |\n",
       "| Total | 587 | 100.00 | 100.00 |\n",
       "\n"
      ],
      "text/plain": [
       "      n   %      %cum  \n",
       "UNC   141  24.02  24.02\n",
       "STL   145  24.70  48.72\n",
       "PHI   149  25.38  74.11\n",
       "SEA   152  25.89 100.00\n",
       "Total 587 100.00 100.00"
      ]
     },
     "metadata": {},
     "output_type": "display_data"
    }
   ],
   "source": [
    "freq(data_aosi$Study_Site, cum=TRUE, total=TRUE, sor=\"inc\", digits=2, exclude = NA)"
   ]
  },
  {
   "cell_type": "markdown",
   "id": "a3e3e6de",
   "metadata": {},
   "source": [
    "La colonne `%cum` indique ici le pourcentage cumulé, ce qui est ici une très mauvaise idée puisque pour ce type de variable cela n’a aucun sens. Les lignes du tableau résultat ont été triés par effectifs croissants, les totaux ont été ajoutés, les non-réponses exclues et les pourcentages arrondis à deux décimales.\n",
    "\n",
    "La fonction `freq` est également en mesure de tenir compte des étiquettes de valeurs lorsqu’on utilise des données labellisées. Ainsi :"
   ]
  },
  {
   "cell_type": "code",
   "execution_count": 31,
   "id": "c632925c",
   "metadata": {},
   "outputs": [
    {
     "data": {
      "text/plain": [
       "[2000 obs.] Région de résidence\n",
       "labelled double: 4 4 4 4 4 3 3 3 3 3 ...\n",
       "min: 1 - max: 4 - NAs: 0 (0%) - 4 unique values\n",
       "4 value labels: [1] Nord [2] Est [3] Sud [4] Ouest\n",
       "\n",
       "             n     %\n",
       "[1] Nord   707  35.4\n",
       "[2] Est    324  16.2\n",
       "[3] Sud    407  20.3\n",
       "[4] Ouest  562  28.1\n",
       "Total     2000 100.0"
      ]
     },
     "metadata": {},
     "output_type": "display_data"
    }
   ],
   "source": [
    "data(fecondite)\n",
    "questionr::describe(femmes$region)"
   ]
  },
  {
   "cell_type": "code",
   "execution_count": 32,
   "id": "70746572",
   "metadata": {},
   "outputs": [
    {
     "data": {
      "text/html": [
       "<table class=\"dataframe\">\n",
       "<caption>A freqtab: 4 × 3</caption>\n",
       "<thead>\n",
       "\t<tr><th></th><th scope=col>n</th><th scope=col>%</th><th scope=col>val%</th></tr>\n",
       "\t<tr><th></th><th scope=col>&lt;dbl&gt;</th><th scope=col>&lt;dbl&gt;</th><th scope=col>&lt;dbl&gt;</th></tr>\n",
       "</thead>\n",
       "<tbody>\n",
       "\t<tr><th scope=row>[1] Nord</th><td>707</td><td>35.4</td><td>35.4</td></tr>\n",
       "\t<tr><th scope=row>[2] Est</th><td>324</td><td>16.2</td><td>16.2</td></tr>\n",
       "\t<tr><th scope=row>[3] Sud</th><td>407</td><td>20.3</td><td>20.3</td></tr>\n",
       "\t<tr><th scope=row>[4] Ouest</th><td>562</td><td>28.1</td><td>28.1</td></tr>\n",
       "</tbody>\n",
       "</table>\n"
      ],
      "text/latex": [
       "A freqtab: 4 × 3\n",
       "\\begin{tabular}{r|lll}\n",
       "  & n & \\% & val\\%\\\\\n",
       "  & <dbl> & <dbl> & <dbl>\\\\\n",
       "\\hline\n",
       "\t{[}1{]} Nord & 707 & 35.4 & 35.4\\\\\n",
       "\t{[}2{]} Est & 324 & 16.2 & 16.2\\\\\n",
       "\t{[}3{]} Sud & 407 & 20.3 & 20.3\\\\\n",
       "\t{[}4{]} Ouest & 562 & 28.1 & 28.1\\\\\n",
       "\\end{tabular}\n"
      ],
      "text/markdown": [
       "\n",
       "A freqtab: 4 × 3\n",
       "\n",
       "| <!--/--> | n &lt;dbl&gt; | % &lt;dbl&gt; | val% &lt;dbl&gt; |\n",
       "|---|---|---|---|\n",
       "| [1] Nord | 707 | 35.4 | 35.4 |\n",
       "| [2] Est | 324 | 16.2 | 16.2 |\n",
       "| [3] Sud | 407 | 20.3 | 20.3 |\n",
       "| [4] Ouest | 562 | 28.1 | 28.1 |\n",
       "\n"
      ],
      "text/plain": [
       "          n   %    val%\n",
       "[1] Nord  707 35.4 35.4\n",
       "[2] Est   324 16.2 16.2\n",
       "[3] Sud   407 20.3 20.3\n",
       "[4] Ouest 562 28.1 28.1"
      ]
     },
     "metadata": {},
     "output_type": "display_data"
    }
   ],
   "source": [
    "freq(femmes$region)"
   ]
  },
  {
   "cell_type": "code",
   "execution_count": 33,
   "id": "acc539d2",
   "metadata": {},
   "outputs": [
    {
     "data": {
      "text/html": [
       "<table class=\"dataframe\">\n",
       "<caption>A freqtab: 4 × 3</caption>\n",
       "<thead>\n",
       "\t<tr><th></th><th scope=col>n</th><th scope=col>%</th><th scope=col>val%</th></tr>\n",
       "\t<tr><th></th><th scope=col>&lt;dbl&gt;</th><th scope=col>&lt;dbl&gt;</th><th scope=col>&lt;dbl&gt;</th></tr>\n",
       "</thead>\n",
       "<tbody>\n",
       "\t<tr><th scope=row>Nord</th><td>707</td><td>35.4</td><td>35.4</td></tr>\n",
       "\t<tr><th scope=row>Est</th><td>324</td><td>16.2</td><td>16.2</td></tr>\n",
       "\t<tr><th scope=row>Sud</th><td>407</td><td>20.3</td><td>20.3</td></tr>\n",
       "\t<tr><th scope=row>Ouest</th><td>562</td><td>28.1</td><td>28.1</td></tr>\n",
       "</tbody>\n",
       "</table>\n"
      ],
      "text/latex": [
       "A freqtab: 4 × 3\n",
       "\\begin{tabular}{r|lll}\n",
       "  & n & \\% & val\\%\\\\\n",
       "  & <dbl> & <dbl> & <dbl>\\\\\n",
       "\\hline\n",
       "\tNord & 707 & 35.4 & 35.4\\\\\n",
       "\tEst & 324 & 16.2 & 16.2\\\\\n",
       "\tSud & 407 & 20.3 & 20.3\\\\\n",
       "\tOuest & 562 & 28.1 & 28.1\\\\\n",
       "\\end{tabular}\n"
      ],
      "text/markdown": [
       "\n",
       "A freqtab: 4 × 3\n",
       "\n",
       "| <!--/--> | n &lt;dbl&gt; | % &lt;dbl&gt; | val% &lt;dbl&gt; |\n",
       "|---|---|---|---|\n",
       "| Nord | 707 | 35.4 | 35.4 |\n",
       "| Est | 324 | 16.2 | 16.2 |\n",
       "| Sud | 407 | 20.3 | 20.3 |\n",
       "| Ouest | 562 | 28.1 | 28.1 |\n",
       "\n"
      ],
      "text/plain": [
       "      n   %    val%\n",
       "Nord  707 35.4 35.4\n",
       "Est   324 16.2 16.2\n",
       "Sud   407 20.3 20.3\n",
       "Ouest 562 28.1 28.1"
      ]
     },
     "metadata": {},
     "output_type": "display_data"
    }
   ],
   "source": [
    "freq(femmes$region, levels = \"labels\")"
   ]
  },
  {
   "cell_type": "markdown",
   "id": "21b2dfdd",
   "metadata": {},
   "source": [
    "Pour plus d’informations sur la fonction `freq`, consultez sa page d’aide en ligne avec `?freq` ou `help(\"freq\")`."
   ]
  },
  {
   "cell_type": "markdown",
   "id": "d6343f24",
   "metadata": {},
   "source": [
    "## 1.2) `xtabs()`"
   ]
  },
  {
   "cell_type": "markdown",
   "id": "0777d7a7",
   "metadata": {},
   "source": [
    "Un deuxième moyen de créer des tableaux de contingence est d'utiliser la fonction **`xtabs()`**, qui nécessite le package **`stats`** (qui est inclus dans R par défaut, bien qu'on devait toujours charger le package avec **library()**).\n",
    "\n",
    "La fonction `xtabs()` crée un objet de type `xtabs` et on remarquera que la sortie de `xtabs()` et de `table()` est presque identique. `xtabs()` présente les avantages suivants :\n",
    "\n",
    "1) les étiquettes de lignes et de colonnes sont incluses automatiquement, définies sur les noms des variables.\n",
    "\n",
    "2) il existe un argument `data=`, ce qui signifie qu'on n'a qu'à référencer les noms des variables. Avec `xtabs()`, on ne liste pas les variables d'intérêt séparées par des virgules. Au lieu de cela, on utilise la notation de formule, qui est :\n",
    "**<center>~variable1+variable2+...</center>**\n",
    "\n",
    "où variable1 et variable2 sont les noms des variables d'intérêt. VOn peut ajouter plus de deux variables (d'où les ...). Voir ci-dessous pour l'exemple à deux variables Gender et site :\n"
   ]
  },
  {
   "cell_type": "code",
   "execution_count": 34,
   "id": "8c67fb6c",
   "metadata": {},
   "outputs": [],
   "source": [
    "library(stats)"
   ]
  },
  {
   "cell_type": "code",
   "execution_count": 36,
   "id": "a1db8d1a",
   "metadata": {},
   "outputs": [
    {
     "data": {
      "text/plain": [
       "        Study_Site\n",
       "Gender   PHI SEA STL UNC\n",
       "  Female  55  67  60  53\n",
       "  Male    94  85  85  88"
      ]
     },
     "metadata": {},
     "output_type": "display_data"
    }
   ],
   "source": [
    "table_exp_xtabs <- xtabs(~Gender+Study_Site, data = data_aosi)\n",
    "table_exp_xtabs"
   ]
  },
  {
   "cell_type": "markdown",
   "id": "c7b8f53e",
   "metadata": {},
   "source": [
    "\n",
    "Pour créer un tableau de proportions en utilisant `xtab()`, on crée d'abord le tableau des dénombrements en utilisant `xtab()`, puis on utilise la fonction `prop.table()` sur cet objet de tableau. C'est exactement ce qui a été fait lors de l'utilisation de `table()`.\n",
    "\n",
    "Une fonction utile lors de la création de tables de proportions est **`round()`**. Comme vu avec le tableau de proportions précédent, R n'arrondira pas les décimales par défaut. La fonction `round()` peut être utilisée pour tous les types d'objets R. Le premier argument est l'objet de valeurs que l'on souhaite arrondir et le deuxième argument est le nombre de décimales à arrondir :"
   ]
  },
  {
   "cell_type": "code",
   "execution_count": 37,
   "id": "fca96e9b",
   "metadata": {},
   "outputs": [
    {
     "data": {
      "text/plain": [
       "        Study_Site\n",
       "Gender    PHI  SEA  STL  UNC\n",
       "  Female 0.09 0.11 0.10 0.09\n",
       "  Male   0.16 0.14 0.14 0.15"
      ]
     },
     "metadata": {},
     "output_type": "display_data"
    }
   ],
   "source": [
    "prop_table_exp_xtabs <- round(prop.table(table_exp_xtabs), digits = 2)\n",
    "prop_table_exp_xtabs"
   ]
  },
  {
   "cell_type": "code",
   "execution_count": 38,
   "id": "ef6d1789",
   "metadata": {},
   "outputs": [
    {
     "data": {
      "text/plain": [
       "        Site\n",
       "Gender    PHI  SEA  STL  UNC\n",
       "  Female 0.09 0.11 0.10 0.09\n",
       "  Male   0.16 0.14 0.14 0.15"
      ]
     },
     "metadata": {},
     "output_type": "display_data"
    }
   ],
   "source": [
    "prop_table_exp <- round(prop_table_exp, 2)\n",
    "prop_table_exp"
   ]
  },
  {
   "cell_type": "markdown",
   "id": "da04664f",
   "metadata": {},
   "source": [
    "Enfin, nous discutons de la manière d'ajouter des totaux marginaux à notre tableau. Que nous utilisions `table()` ou `xtab()`, un moyen simple d'ajouter tous les totaux marginaux à votre tableau est d'utiliser la fonction **`addmargins()`** du package `stats`.\n",
    "\n",
    "Il suffit d'ajouter notre objet de `table` ou `xtab` comme premier argument à la fonction `addmargins()`, et un nouveau tableau sera renvoyé qui inclut ces totaux marginaux. Cela fonctionne également avec les tables de proportions.\n"
   ]
  },
  {
   "cell_type": "code",
   "execution_count": 39,
   "id": "87ddba4b",
   "metadata": {},
   "outputs": [],
   "source": [
    "table_exp <- addmargins(table_exp)\n",
    "table_exp_xtabs <- addmargins(table_exp_xtabs)\n",
    "prop_table_exp <- addmargins(prop_table_exp)\n",
    "prop_table_exp_xtabs <- addmargins(prop_table_exp_xtabs)"
   ]
  },
  {
   "cell_type": "code",
   "execution_count": 40,
   "id": "ce76eea1",
   "metadata": {},
   "outputs": [
    {
     "data": {
      "text/html": [
       "<table class=\"dataframe\">\n",
       "<caption>A table: 3 × 5 of type dbl</caption>\n",
       "<thead>\n",
       "\t<tr><th></th><th scope=col>PHI</th><th scope=col>SEA</th><th scope=col>STL</th><th scope=col>UNC</th><th scope=col>Sum</th></tr>\n",
       "</thead>\n",
       "<tbody>\n",
       "\t<tr><th scope=row>Female</th><td> 55</td><td> 67</td><td> 60</td><td> 53</td><td>235</td></tr>\n",
       "\t<tr><th scope=row>Male</th><td> 94</td><td> 85</td><td> 85</td><td> 88</td><td>352</td></tr>\n",
       "\t<tr><th scope=row>Sum</th><td>149</td><td>152</td><td>145</td><td>141</td><td>587</td></tr>\n",
       "</tbody>\n",
       "</table>\n"
      ],
      "text/latex": [
       "A table: 3 × 5 of type dbl\n",
       "\\begin{tabular}{r|lllll}\n",
       "  & PHI & SEA & STL & UNC & Sum\\\\\n",
       "\\hline\n",
       "\tFemale &  55 &  67 &  60 &  53 & 235\\\\\n",
       "\tMale &  94 &  85 &  85 &  88 & 352\\\\\n",
       "\tSum & 149 & 152 & 145 & 141 & 587\\\\\n",
       "\\end{tabular}\n"
      ],
      "text/markdown": [
       "\n",
       "A table: 3 × 5 of type dbl\n",
       "\n",
       "| <!--/--> | PHI | SEA | STL | UNC | Sum |\n",
       "|---|---|---|---|---|---|\n",
       "| Female |  55 |  67 |  60 |  53 | 235 |\n",
       "| Male |  94 |  85 |  85 |  88 | 352 |\n",
       "| Sum | 149 | 152 | 145 | 141 | 587 |\n",
       "\n"
      ],
      "text/plain": [
       "        Site\n",
       "Gender   PHI SEA STL UNC Sum\n",
       "  Female  55  67  60  53 235\n",
       "  Male    94  85  85  88 352\n",
       "  Sum    149 152 145 141 587"
      ]
     },
     "metadata": {},
     "output_type": "display_data"
    }
   ],
   "source": [
    "table_exp"
   ]
  },
  {
   "cell_type": "code",
   "execution_count": 41,
   "id": "11398d6f",
   "metadata": {},
   "outputs": [
    {
     "data": {
      "text/html": [
       "<table class=\"dataframe\">\n",
       "<caption>A table: 3 × 5 of type dbl</caption>\n",
       "<thead>\n",
       "\t<tr><th></th><th scope=col>PHI</th><th scope=col>SEA</th><th scope=col>STL</th><th scope=col>UNC</th><th scope=col>Sum</th></tr>\n",
       "</thead>\n",
       "<tbody>\n",
       "\t<tr><th scope=row>Female</th><td> 55</td><td> 67</td><td> 60</td><td> 53</td><td>235</td></tr>\n",
       "\t<tr><th scope=row>Male</th><td> 94</td><td> 85</td><td> 85</td><td> 88</td><td>352</td></tr>\n",
       "\t<tr><th scope=row>Sum</th><td>149</td><td>152</td><td>145</td><td>141</td><td>587</td></tr>\n",
       "</tbody>\n",
       "</table>\n"
      ],
      "text/latex": [
       "A table: 3 × 5 of type dbl\n",
       "\\begin{tabular}{r|lllll}\n",
       "  & PHI & SEA & STL & UNC & Sum\\\\\n",
       "\\hline\n",
       "\tFemale &  55 &  67 &  60 &  53 & 235\\\\\n",
       "\tMale &  94 &  85 &  85 &  88 & 352\\\\\n",
       "\tSum & 149 & 152 & 145 & 141 & 587\\\\\n",
       "\\end{tabular}\n"
      ],
      "text/markdown": [
       "\n",
       "A table: 3 × 5 of type dbl\n",
       "\n",
       "| <!--/--> | PHI | SEA | STL | UNC | Sum |\n",
       "|---|---|---|---|---|---|\n",
       "| Female |  55 |  67 |  60 |  53 | 235 |\n",
       "| Male |  94 |  85 |  85 |  88 | 352 |\n",
       "| Sum | 149 | 152 | 145 | 141 | 587 |\n",
       "\n"
      ],
      "text/plain": [
       "        Study_Site\n",
       "Gender   PHI SEA STL UNC Sum\n",
       "  Female  55  67  60  53 235\n",
       "  Male    94  85  85  88 352\n",
       "  Sum    149 152 145 141 587"
      ]
     },
     "metadata": {},
     "output_type": "display_data"
    }
   ],
   "source": [
    "table_exp_xtabs"
   ]
  },
  {
   "cell_type": "code",
   "execution_count": 42,
   "id": "5b7abf97",
   "metadata": {},
   "outputs": [
    {
     "data": {
      "text/html": [
       "<table class=\"dataframe\">\n",
       "<caption>A table: 3 × 5 of type dbl</caption>\n",
       "<thead>\n",
       "\t<tr><th></th><th scope=col>PHI</th><th scope=col>SEA</th><th scope=col>STL</th><th scope=col>UNC</th><th scope=col>Sum</th></tr>\n",
       "</thead>\n",
       "<tbody>\n",
       "\t<tr><th scope=row>Female</th><td>0.09</td><td>0.11</td><td>0.10</td><td>0.09</td><td>0.39</td></tr>\n",
       "\t<tr><th scope=row>Male</th><td>0.16</td><td>0.14</td><td>0.14</td><td>0.15</td><td>0.59</td></tr>\n",
       "\t<tr><th scope=row>Sum</th><td>0.25</td><td>0.25</td><td>0.24</td><td>0.24</td><td>0.98</td></tr>\n",
       "</tbody>\n",
       "</table>\n"
      ],
      "text/latex": [
       "A table: 3 × 5 of type dbl\n",
       "\\begin{tabular}{r|lllll}\n",
       "  & PHI & SEA & STL & UNC & Sum\\\\\n",
       "\\hline\n",
       "\tFemale & 0.09 & 0.11 & 0.10 & 0.09 & 0.39\\\\\n",
       "\tMale & 0.16 & 0.14 & 0.14 & 0.15 & 0.59\\\\\n",
       "\tSum & 0.25 & 0.25 & 0.24 & 0.24 & 0.98\\\\\n",
       "\\end{tabular}\n"
      ],
      "text/markdown": [
       "\n",
       "A table: 3 × 5 of type dbl\n",
       "\n",
       "| <!--/--> | PHI | SEA | STL | UNC | Sum |\n",
       "|---|---|---|---|---|---|\n",
       "| Female | 0.09 | 0.11 | 0.10 | 0.09 | 0.39 |\n",
       "| Male | 0.16 | 0.14 | 0.14 | 0.15 | 0.59 |\n",
       "| Sum | 0.25 | 0.25 | 0.24 | 0.24 | 0.98 |\n",
       "\n"
      ],
      "text/plain": [
       "        Site\n",
       "Gender   PHI  SEA  STL  UNC  Sum \n",
       "  Female 0.09 0.11 0.10 0.09 0.39\n",
       "  Male   0.16 0.14 0.14 0.15 0.59\n",
       "  Sum    0.25 0.25 0.24 0.24 0.98"
      ]
     },
     "metadata": {},
     "output_type": "display_data"
    }
   ],
   "source": [
    "prop_table_exp"
   ]
  },
  {
   "cell_type": "code",
   "execution_count": 43,
   "id": "8ecaa9dc",
   "metadata": {},
   "outputs": [
    {
     "data": {
      "text/html": [
       "<table class=\"dataframe\">\n",
       "<caption>A table: 3 × 5 of type dbl</caption>\n",
       "<thead>\n",
       "\t<tr><th></th><th scope=col>PHI</th><th scope=col>SEA</th><th scope=col>STL</th><th scope=col>UNC</th><th scope=col>Sum</th></tr>\n",
       "</thead>\n",
       "<tbody>\n",
       "\t<tr><th scope=row>Female</th><td>0.09</td><td>0.11</td><td>0.10</td><td>0.09</td><td>0.39</td></tr>\n",
       "\t<tr><th scope=row>Male</th><td>0.16</td><td>0.14</td><td>0.14</td><td>0.15</td><td>0.59</td></tr>\n",
       "\t<tr><th scope=row>Sum</th><td>0.25</td><td>0.25</td><td>0.24</td><td>0.24</td><td>0.98</td></tr>\n",
       "</tbody>\n",
       "</table>\n"
      ],
      "text/latex": [
       "A table: 3 × 5 of type dbl\n",
       "\\begin{tabular}{r|lllll}\n",
       "  & PHI & SEA & STL & UNC & Sum\\\\\n",
       "\\hline\n",
       "\tFemale & 0.09 & 0.11 & 0.10 & 0.09 & 0.39\\\\\n",
       "\tMale & 0.16 & 0.14 & 0.14 & 0.15 & 0.59\\\\\n",
       "\tSum & 0.25 & 0.25 & 0.24 & 0.24 & 0.98\\\\\n",
       "\\end{tabular}\n"
      ],
      "text/markdown": [
       "\n",
       "A table: 3 × 5 of type dbl\n",
       "\n",
       "| <!--/--> | PHI | SEA | STL | UNC | Sum |\n",
       "|---|---|---|---|---|---|\n",
       "| Female | 0.09 | 0.11 | 0.10 | 0.09 | 0.39 |\n",
       "| Male | 0.16 | 0.14 | 0.14 | 0.15 | 0.59 |\n",
       "| Sum | 0.25 | 0.25 | 0.24 | 0.24 | 0.98 |\n",
       "\n"
      ],
      "text/plain": [
       "        Study_Site\n",
       "Gender   PHI  SEA  STL  UNC  Sum \n",
       "  Female 0.09 0.11 0.10 0.09 0.39\n",
       "  Male   0.16 0.14 0.14 0.15 0.59\n",
       "  Sum    0.25 0.25 0.24 0.24 0.98"
      ]
     },
     "metadata": {},
     "output_type": "display_data"
    }
   ],
   "source": [
    "prop_table_exp_xtabs"
   ]
  },
  {
   "cell_type": "code",
   "execution_count": 44,
   "id": "f3a93d51",
   "metadata": {
    "scrolled": true
   },
   "outputs": [
    {
     "data": {
      "text/html": [
       "<dl>\n",
       "\t<dt>$Gender</dt>\n",
       "\t\t<dd><style>\n",
       ".list-inline {list-style: none; margin:0; padding: 0}\n",
       ".list-inline>li {display: inline-block}\n",
       ".list-inline>li:not(:last-child)::after {content: \"\\00b7\"; padding: 0 .5ex}\n",
       "</style>\n",
       "<ol class=list-inline><li>'Female'</li><li>'Male'</li><li>'Sum'</li></ol>\n",
       "</dd>\n",
       "\t<dt>$Study_Site</dt>\n",
       "\t\t<dd><style>\n",
       ".list-inline {list-style: none; margin:0; padding: 0}\n",
       ".list-inline>li {display: inline-block}\n",
       ".list-inline>li:not(:last-child)::after {content: \"\\00b7\"; padding: 0 .5ex}\n",
       "</style>\n",
       "<ol class=list-inline><li>'PHI'</li><li>'SEA'</li><li>'STL'</li><li>'UNC'</li><li>'Sum'</li></ol>\n",
       "</dd>\n",
       "</dl>\n"
      ],
      "text/latex": [
       "\\begin{description}\n",
       "\\item[\\$Gender] \\begin{enumerate*}\n",
       "\\item 'Female'\n",
       "\\item 'Male'\n",
       "\\item 'Sum'\n",
       "\\end{enumerate*}\n",
       "\n",
       "\\item[\\$Study\\_Site] \\begin{enumerate*}\n",
       "\\item 'PHI'\n",
       "\\item 'SEA'\n",
       "\\item 'STL'\n",
       "\\item 'UNC'\n",
       "\\item 'Sum'\n",
       "\\end{enumerate*}\n",
       "\n",
       "\\end{description}\n"
      ],
      "text/markdown": [
       "$Gender\n",
       ":   1. 'Female'\n",
       "2. 'Male'\n",
       "3. 'Sum'\n",
       "\n",
       "\n",
       "\n",
       "$Study_Site\n",
       ":   1. 'PHI'\n",
       "2. 'SEA'\n",
       "3. 'STL'\n",
       "4. 'UNC'\n",
       "5. 'Sum'\n",
       "\n",
       "\n",
       "\n",
       "\n",
       "\n"
      ],
      "text/plain": [
       "$Gender\n",
       "[1] \"Female\" \"Male\"   \"Sum\"   \n",
       "\n",
       "$Study_Site\n",
       "[1] \"PHI\" \"SEA\" \"STL\" \"UNC\" \"Sum\"\n"
      ]
     },
     "metadata": {},
     "output_type": "display_data"
    }
   ],
   "source": [
    "dimnames(prop_table_exp_xtabs)"
   ]
  },
  {
   "cell_type": "markdown",
   "id": "bc03dc7c",
   "metadata": {},
   "source": [
    "## 1.3) `ltabs()`\n",
    "\n",
    "Si l’on utilise des **données labellisées,** la fonction `xtabs` ne prendra pas en compte les étiquettes de valeur comme montré ci-dessous :"
   ]
  },
  {
   "cell_type": "code",
   "execution_count": 45,
   "id": "49d63ad6",
   "metadata": {},
   "outputs": [
    {
     "data": {
      "text/plain": [
       "[2000 obs.] Région de résidence\n",
       "labelled double: 4 4 4 4 4 3 3 3 3 3 ...\n",
       "min: 1 - max: 4 - NAs: 0 (0%) - 4 unique values\n",
       "4 value labels: [1] Nord [2] Est [3] Sud [4] Ouest\n",
       "\n",
       "             n     %\n",
       "[1] Nord   707  35.4\n",
       "[2] Est    324  16.2\n",
       "[3] Sud    407  20.3\n",
       "[4] Ouest  562  28.1\n",
       "Total     2000 100.0"
      ]
     },
     "metadata": {},
     "output_type": "display_data"
    }
   ],
   "source": [
    "data(fecondite)\n",
    "questionr::describe(femmes$region)"
   ]
  },
  {
   "cell_type": "code",
   "execution_count": 46,
   "id": "a65dc623",
   "metadata": {},
   "outputs": [
    {
     "data": {
      "text/plain": [
       "    region\n",
       "educ   1   2   3   4\n",
       "   0 387 213 282 256\n",
       "   1 179  53  86 142\n",
       "   2 123  57  37 131\n",
       "   3  18   1   2  33"
      ]
     },
     "metadata": {},
     "output_type": "display_data"
    }
   ],
   "source": [
    "xtabs(data = femmes, formula = ~educ+region)"
   ]
  },
  {
   "cell_type": "markdown",
   "id": "d1f93768",
   "metadata": {},
   "source": [
    "On pourra alors utiliser la fonction **`ltabs()`** de l’extension **`question`,** qui fonctionne exactement comme `xtabs`, à ceci près qu’elle prendra en compte les étiquettes de variable et de valeur quand elles existent :"
   ]
  },
  {
   "cell_type": "code",
   "execution_count": 48,
   "id": "d1622ca6",
   "metadata": {},
   "outputs": [
    {
     "data": {
      "text/plain": [
       "                        region: Région de résidence\n",
       "educ: Niveau d'éducation [1] Nord [2] Est [3] Sud [4] Ouest\n",
       "          [0] aucun           387     213     282       256\n",
       "          [1] primaire        179      53      86       142\n",
       "          [2] secondaire      123      57      37       131\n",
       "          [3] supérieur        18       1       2        33"
      ]
     },
     "metadata": {},
     "output_type": "display_data"
    }
   ],
   "source": [
    "ltabs(~educ+region, femmes)"
   ]
  },
  {
   "cell_type": "markdown",
   "id": "ae907198",
   "metadata": {},
   "source": [
    "# 2) Pourcentages en ligne et en colonne\n",
    "\n",
    "On n’a cependant que les effectifs, ce qui rend difficile les comparaisons. L’extension **`questionr`** fournit des fonctions permettant de calculer facilement les pourcentages lignes, colonnes et totaux d’un tableau croisé.\n",
    "\n",
    "Les pourcentages lignes s’obtiennent avec la fonction **`lprop()`**, dont l'argument, comme pour la fonction `prop.tab()`, est un tableau.\n",
    "Celle-ci s’applique au tableau croisé généré par table ou xtabs  :"
   ]
  },
  {
   "cell_type": "code",
   "execution_count": 62,
   "id": "14f55212",
   "metadata": {},
   "outputs": [
    {
     "data": {
      "text/plain": [
       "        \n",
       "         PHI   SEA   STL   UNC   Total\n",
       "  Female  23.4  28.5  25.5  22.6 100.0\n",
       "  Male    26.7  24.1  24.1  25.0 100.0\n",
       "  All     25.4  25.9  24.7  24.0 100.0"
      ]
     },
     "metadata": {},
     "output_type": "display_data"
    }
   ],
   "source": [
    "tab <- table(data_aosi$Gender, data_aosi$Study_Site)\n",
    "lprop(tab)"
   ]
  },
  {
   "cell_type": "code",
   "execution_count": 50,
   "id": "42b3f6b6",
   "metadata": {},
   "outputs": [
    {
     "data": {
      "text/plain": [
       "        Study_Site\n",
       "Gender   PHI   SEA   STL   UNC   Total\n",
       "  Female  23.4  28.5  25.5  22.6 100.0\n",
       "  Male    26.7  24.1  24.1  25.0 100.0\n",
       "  All     25.4  25.9  24.7  24.0 100.0"
      ]
     },
     "metadata": {},
     "output_type": "display_data"
    }
   ],
   "source": [
    "tab <- xtabs(~Gender+Study_Site, data_aosi)\n",
    "lprop(tab)"
   ]
  },
  {
   "cell_type": "markdown",
   "id": "066883c8",
   "metadata": {},
   "source": [
    "Les pourcentages ligne ne nous intéressent guère ici. On cherche plutôt quelle est la proportion des sexes dans les sites d'étude. Il nous faut donc des pourcentages colonnes, que l’on obtient avec la fonction **`cprop()`** :"
   ]
  },
  {
   "cell_type": "code",
   "execution_count": 51,
   "id": "44aa93e3",
   "metadata": {},
   "outputs": [
    {
     "data": {
      "text/plain": [
       "        Study_Site\n",
       "Gender   PHI   SEA   STL   UNC   All  \n",
       "  Female  36.9  44.1  41.4  37.6  40.0\n",
       "  Male    63.1  55.9  58.6  62.4  60.0\n",
       "  Total  100.0 100.0 100.0 100.0 100.0"
      ]
     },
     "metadata": {},
     "output_type": "display_data"
    }
   ],
   "source": [
    "cprop(tab)"
   ]
  },
  {
   "cell_type": "code",
   "execution_count": 52,
   "id": "478389e0",
   "metadata": {},
   "outputs": [
    {
     "data": {
      "text/plain": [
       "        Study_Site\n",
       "Gender   PHI   SEA   STL   UNC   Total\n",
       "  Female   9.4  11.4  10.2   9.0  40.0\n",
       "  Male    16.0  14.5  14.5  15.0  60.0\n",
       "  Total   25.4  25.9  24.7  24.0 100.0"
      ]
     },
     "metadata": {},
     "output_type": "display_data"
    }
   ],
   "source": [
    "prop(tab)"
   ]
  },
  {
   "cell_type": "markdown",
   "id": "7e3c37aa",
   "metadata": {},
   "source": [
    "# 3) Analyse des données tabulaires\n",
    "\n",
    "Dans cette section, nous détaillons quelques méthodes statistiques courantes utilisées pour analyser les données de tableaux de contingence ainsi que la manière de mettre en œuvre ces méthodes dans R. Ces méthodes sont définies et les statistiques qui les sous-tendent sont expliquées, puis leur mise en œuvre dans R est discutée et illustrée à travers des exemples.\n",
    "\n",
    "## 3.1) Tests d'indépendance\n",
    "\n",
    "### 3.1.1) Définition de l'indépendance\n",
    "\n",
    "Supposons que nous ayons deux variables catégorielles, notées $X$ et $Y$. Dénotez la distribution conjointe de $X$ et $Y$ par $f_{x,y}$, la distribution de $X$ par $f_x$ et la distribution de $Y$ par $f_y$. Dénotez la distribution de $X$ conditionnelle à $Y$ par $f_{x|y}$ et la distribution de $Y$ conditionnelle à $X$ par $f_{y|x}$.\n",
    "\n",
    "En statistiques, $X$ et $Y$ sont indépendantes si $f_{x,y}=f_{x}\\times f_{y}$ (c'est-à-dire si la distribution de $X$ et $Y$ en paire est égale à la distribution de $X$ multipliée par la distribution de $Y$). Ce critère est équivalent à $f_{x|y}=f_{x}$ et $f_{y|x}=f_{y}$ (c'est-à-dire si la distribution de $X$ dans l'ensemble de la population est la même que la distribution de $X$ dans la sous-population définie par des valeurs spécifiques de $Y$).\n",
    "\n",
    "Par exemple, supposons que nous voulions voir si une personne votant lors d'une élection ($X$) est indépendante de son sexe à la naissance ($Y$). Si ces variables étaient indépendantes, nous nous attendrions à ce que le pourcentage de femmes dans la population totale soit similaire au pourcentage de femmes parmi les personnes qui votent à l'élection. Cela correspond à notre définition de l'indépendance en statistiques.\n",
    "\n",
    "### 3.1.2) Test du Chi-deux pour l'indépendance\n",
    "\n",
    "Pour motiver le concept de test d'indépendance, considérons l'ensemble de données AOSI. Voyons si le site d'étude et le sexe sont indépendants. Rappelons que le tri à plat pour ces variables dans les données était le suivant.\n"
   ]
  },
  {
   "cell_type": "code",
   "execution_count": 65,
   "id": "00d792d9",
   "metadata": {},
   "outputs": [
    {
     "data": {
      "text/html": [
       "<table class=\"dataframe\">\n",
       "<caption>A table: 3 × 5 of type dbl</caption>\n",
       "<thead>\n",
       "\t<tr><th></th><th scope=col>PHI</th><th scope=col>SEA</th><th scope=col>STL</th><th scope=col>UNC</th><th scope=col>Sum</th></tr>\n",
       "</thead>\n",
       "<tbody>\n",
       "\t<tr><th scope=row>Female</th><td> 55</td><td> 67</td><td> 60</td><td> 53</td><td>235</td></tr>\n",
       "\t<tr><th scope=row>Male</th><td> 94</td><td> 85</td><td> 85</td><td> 88</td><td>352</td></tr>\n",
       "\t<tr><th scope=row>Sum</th><td>149</td><td>152</td><td>145</td><td>141</td><td>587</td></tr>\n",
       "</tbody>\n",
       "</table>\n"
      ],
      "text/latex": [
       "A table: 3 × 5 of type dbl\n",
       "\\begin{tabular}{r|lllll}\n",
       "  & PHI & SEA & STL & UNC & Sum\\\\\n",
       "\\hline\n",
       "\tFemale &  55 &  67 &  60 &  53 & 235\\\\\n",
       "\tMale &  94 &  85 &  85 &  88 & 352\\\\\n",
       "\tSum & 149 & 152 & 145 & 141 & 587\\\\\n",
       "\\end{tabular}\n"
      ],
      "text/markdown": [
       "\n",
       "A table: 3 × 5 of type dbl\n",
       "\n",
       "| <!--/--> | PHI | SEA | STL | UNC | Sum |\n",
       "|---|---|---|---|---|---|\n",
       "| Female |  55 |  67 |  60 |  53 | 235 |\n",
       "| Male |  94 |  85 |  85 |  88 | 352 |\n",
       "| Sum | 149 | 152 | 145 | 141 | 587 |\n",
       "\n"
      ],
      "text/plain": [
       "        Study_Site\n",
       "Gender   PHI SEA STL UNC Sum\n",
       "  Female  55  67  60  53 235\n",
       "  Male    94  85  85  88 352\n",
       "  Sum    149 152 145 141 587"
      ]
     },
     "metadata": {},
     "output_type": "display_data"
    }
   ],
   "source": [
    "table_exp_xtabs"
   ]
  },
  {
   "cell_type": "code",
   "execution_count": 66,
   "id": "879013bc",
   "metadata": {},
   "outputs": [
    {
     "data": {
      "text/html": [
       "<table class=\"dataframe\">\n",
       "<caption>A table: 3 × 5 of type dbl</caption>\n",
       "<thead>\n",
       "\t<tr><th></th><th scope=col>PHI</th><th scope=col>SEA</th><th scope=col>STL</th><th scope=col>UNC</th><th scope=col>Sum</th></tr>\n",
       "</thead>\n",
       "<tbody>\n",
       "\t<tr><th scope=row>Female</th><td>0.09</td><td>0.11</td><td>0.10</td><td>0.09</td><td>0.39</td></tr>\n",
       "\t<tr><th scope=row>Male</th><td>0.16</td><td>0.14</td><td>0.14</td><td>0.15</td><td>0.59</td></tr>\n",
       "\t<tr><th scope=row>Sum</th><td>0.25</td><td>0.25</td><td>0.24</td><td>0.24</td><td>0.98</td></tr>\n",
       "</tbody>\n",
       "</table>\n"
      ],
      "text/latex": [
       "A table: 3 × 5 of type dbl\n",
       "\\begin{tabular}{r|lllll}\n",
       "  & PHI & SEA & STL & UNC & Sum\\\\\n",
       "\\hline\n",
       "\tFemale & 0.09 & 0.11 & 0.10 & 0.09 & 0.39\\\\\n",
       "\tMale & 0.16 & 0.14 & 0.14 & 0.15 & 0.59\\\\\n",
       "\tSum & 0.25 & 0.25 & 0.24 & 0.24 & 0.98\\\\\n",
       "\\end{tabular}\n"
      ],
      "text/markdown": [
       "\n",
       "A table: 3 × 5 of type dbl\n",
       "\n",
       "| <!--/--> | PHI | SEA | STL | UNC | Sum |\n",
       "|---|---|---|---|---|---|\n",
       "| Female | 0.09 | 0.11 | 0.10 | 0.09 | 0.39 |\n",
       "| Male | 0.16 | 0.14 | 0.14 | 0.15 | 0.59 |\n",
       "| Sum | 0.25 | 0.25 | 0.24 | 0.24 | 0.98 |\n",
       "\n"
      ],
      "text/plain": [
       "        Study_Site\n",
       "Gender   PHI  SEA  STL  UNC  Sum \n",
       "  Female 0.09 0.11 0.10 0.09 0.39\n",
       "  Male   0.16 0.14 0.14 0.15 0.59\n",
       "  Sum    0.25 0.25 0.24 0.24 0.98"
      ]
     },
     "metadata": {},
     "output_type": "display_data"
    }
   ],
   "source": [
    "prop_table_exp_xtabs"
   ]
  },
  {
   "cell_type": "markdown",
   "id": "dca663da",
   "metadata": {},
   "source": [
    "D'après notre définition de l'indépendance, il semble que le sexe et le site sont indépendants en comparant les effectifs dans chaque groupe de sexe et de site ainsi que les effectifs au niveau de la population. Effectuons un test formel pour voir s'il existe des preuves d'indépendance.\n",
    "\n",
    "Tout d'abord, nous couvrons le **test du Chi-deux.** Pour tous ces tests, l'hypothèse nulle est que les variables sont indépendantes.\n",
    "\n",
    "On calcule la valeur expectée pour chaque cellule du tableau, en utilisant la formule suivante :\n",
    "$$\n",
    "E_{i,j} = \\frac{R_i C_j}{T}\n",
    "$$\n",
    "\n",
    "où :\n",
    "\n",
    "* $E_{i,j}$ **:** La valeur expectée dans la cellule $(i,j).$\n",
    "* $R_i$ **:** La somme de la ligne $i.$\n",
    "* $C_j$ **:** La somme de la colonne $j.$\n",
    "* $T$ **:** La somme totale du tableau\n",
    "\n",
    "Sous cette hypothèse nulle, nous nous attendrions au tri à plat suivant :\n"
   ]
  },
  {
   "cell_type": "code",
   "execution_count": 69,
   "id": "6660fe5f",
   "metadata": {},
   "outputs": [],
   "source": [
    "# Construire un trableau de la même dimension que 'table_exp_xtabs'\n",
    "expected_table <- table_exp_xtabs\n",
    "\n",
    "# Peupler le tableau\n",
    "sex_sums <- expected_table[,5]\n",
    "site_sums <- expected_table[3,]\n",
    "expected_table[1,1] <- 149*(235/587)\n",
    "expected_table[2,1] <- 149*(352/587)\n",
    "\n",
    "expected_table[1,2] <- 152*(235/587)\n",
    "expected_table[2,2] <- 152*(352/587)\n",
    "\n",
    "expected_table[1,3] <- 145*(235/587)\n",
    "expected_table[2,3] <- 145*(352/587)\n",
    "\n",
    "expected_table[1,4] <- 141*(235/587)\n",
    "expected_table[2,4] <- 141*(352/587)\n",
    "\n",
    "# Arrondissment\n",
    "expected_table <- round(expected_table,2)"
   ]
  },
  {
   "cell_type": "markdown",
   "id": "221cf30a",
   "metadata": {},
   "source": [
    "D'où viennent ces valeurs ? Prenons la colonne du site d'étude de Philadelphie comme exemple (étiquetée PHI). \n",
    "\n",
    "Comme expliqué précédemment, selon l'indépendance, à Philadelphie, nous nous attendons à ce que le pourcentage de participantes féminines soit le même que le pourcentage dans l'échantillon total. Il y a 149 participants de Philadelphie, 235 femmes et 587 sujets au total dans l'échantillon. L'échantillon total est d'environ 40% de femmes, donc nous nous attendrions à ce qu'il y ait environ 0.40*149, soit environ 59,6 femmes du site de Philadelphie et donc environ 89,4 hommes.\n",
    "\n",
    "Autrement dit, l'effectif attendu est égal à (total de la ligne*total de la colonne)/taille de l'échantillon. Toutes les entrées sont calculées en utilisant cette équation. Regardons les différences entre les effectifs des données AOSI et les effectifs attendus.\n"
   ]
  },
  {
   "cell_type": "code",
   "execution_count": 70,
   "id": "30a62de0",
   "metadata": {
    "scrolled": true
   },
   "outputs": [
    {
     "data": {
      "text/html": [
       "<table class=\"dataframe\">\n",
       "<caption>A table: 3 × 5 of type dbl</caption>\n",
       "<thead>\n",
       "\t<tr><th></th><th scope=col>PHI</th><th scope=col>SEA</th><th scope=col>STL</th><th scope=col>UNC</th><th scope=col>Sum</th></tr>\n",
       "</thead>\n",
       "<tbody>\n",
       "\t<tr><th scope=row>Female</th><td> 59.65</td><td> 60.85</td><td> 58.05</td><td> 56.45</td><td>235</td></tr>\n",
       "\t<tr><th scope=row>Male</th><td> 89.35</td><td> 91.15</td><td> 86.95</td><td> 84.55</td><td>352</td></tr>\n",
       "\t<tr><th scope=row>Sum</th><td>149.00</td><td>152.00</td><td>145.00</td><td>141.00</td><td>587</td></tr>\n",
       "</tbody>\n",
       "</table>\n"
      ],
      "text/latex": [
       "A table: 3 × 5 of type dbl\n",
       "\\begin{tabular}{r|lllll}\n",
       "  & PHI & SEA & STL & UNC & Sum\\\\\n",
       "\\hline\n",
       "\tFemale &  59.65 &  60.85 &  58.05 &  56.45 & 235\\\\\n",
       "\tMale &  89.35 &  91.15 &  86.95 &  84.55 & 352\\\\\n",
       "\tSum & 149.00 & 152.00 & 145.00 & 141.00 & 587\\\\\n",
       "\\end{tabular}\n"
      ],
      "text/markdown": [
       "\n",
       "A table: 3 × 5 of type dbl\n",
       "\n",
       "| <!--/--> | PHI | SEA | STL | UNC | Sum |\n",
       "|---|---|---|---|---|---|\n",
       "| Female |  59.65 |  60.85 |  58.05 |  56.45 | 235 |\n",
       "| Male |  89.35 |  91.15 |  86.95 |  84.55 | 352 |\n",
       "| Sum | 149.00 | 152.00 | 145.00 | 141.00 | 587 |\n",
       "\n"
      ],
      "text/plain": [
       "        Study_Site\n",
       "Gender   PHI    SEA    STL    UNC    Sum\n",
       "  Female  59.65  60.85  58.05  56.45 235\n",
       "  Male    89.35  91.15  86.95  84.55 352\n",
       "  Sum    149.00 152.00 145.00 141.00 587"
      ]
     },
     "metadata": {},
     "output_type": "display_data"
    }
   ],
   "source": [
    "expected_table"
   ]
  },
  {
   "cell_type": "code",
   "execution_count": 72,
   "id": "8e24c00b",
   "metadata": {},
   "outputs": [
    {
     "data": {
      "text/plain": [
       "        Study_Site\n",
       "Gender     PHI   SEA   STL   UNC\n",
       "  Female  4.65 -6.15 -1.95  3.45\n",
       "  Male   -4.65  6.15  1.95 -3.45"
      ]
     },
     "metadata": {},
     "output_type": "display_data"
    }
   ],
   "source": [
    "# On élimine la ligne et colonne qui reporésentent la somme\n",
    "# (Expected - Observed) :\n",
    "expected_table[-3,-5]-table_exp_xtabs[-3,-5]"
   ]
  },
  {
   "cell_type": "markdown",
   "id": "78c6b2df",
   "metadata": {},
   "source": [
    "Nous pouvons voir que les différences sont petites compte tenu des marges du site d'étude, donc il n'y a pas de preuves suggérant une dépendance.\n",
    "\n",
    "Cependant, faisons cela de manière plus rigoureuse en utilisant un test d'hypothèse formel. Pour tout test d'hypothèse, nous créons une statistique de test, puis calculons une valeur $p$ à partir de cette statistique de test.\n",
    "\n",
    "Informellement, la valeur $p$ **mesure la probabilité que nous observions une valeur de statistique de test aussi extrême ou plus extrême que la valeur observée dans l'ensemble de données si l'hypothèse nulle est vraie.**\n",
    "\n",
    "Pour le **test du Chi-deux,** la statistique de test est égale à la somme des carrés des différences entre les effectifs observés et attendus, divisée par les effectifs attendus :\n",
    "\n",
    "$$\n",
    "\\chi^2 = \\sum \\frac{(\\text{Effectifs observés}-\\text{Effectifs attendus})^2}{\\text{Effectifs attendus}}\n",
    "$$\n",
    "\n",
    "La distribution de cette statistique de test est approximativement Chi-deux avec $\\frac{r-1}{c-1}$ degrés de liberté, où :\n",
    "\n",
    "* $r$ est le nombre de catégories de lignes.\n",
    "\n",
    "* $c$ est le nombre de catégories de colonnes.\n",
    "\n",
    "L'approximation devient plus précise à mesure que la taille de l'échantillon devient de plus en plus grande (jusqu'à l'infini). Ainsi, si la taille de l'échantillon est \"suffisamment grande\", nous pouvons approximer avec précision la distribution des statistiques de test avec cette distribution Chi-deux. C'est ce qui est appelé des statistiques à \"grande échantillon\" ou \"asymptotique\".\n",
    "\n",
    "Réalisons le test du Chi-deux sur l'ensemble de données AOSI. Cela se fait en utilisant **`summary()`** avec l'objet de tri à plat (créé par `table()` ou `xtab()`). Notez que nous ne pouvons pas avoir les marges de lignes et de colonnes dans l'objet de tableau lors de la réalisation de ce test du Chi-deux, car R considérera que ces marges sont des catégories de lignes et de colonnes.\n"
   ]
  },
  {
   "cell_type": "code",
   "execution_count": 73,
   "id": "ef56efbb",
   "metadata": {},
   "outputs": [
    {
     "data": {
      "text/plain": [
       "Call: xtabs(formula = ~Gender + Study_Site, data = data_aosi)\n",
       "Number of cases in table: 587 \n",
       "Number of factors: 2 \n",
       "Test for independence of all factors:\n",
       "\tChisq = 2.1011, df = 3, p-value = 0.5517"
      ]
     },
     "metadata": {},
     "output_type": "display_data"
    }
   ],
   "source": [
    "table_exp_xtabs <- xtabs(~Gender+Study_Site, data = data_aosi)\n",
    "summary(table_exp_xtabs)"
   ]
  },
  {
   "cell_type": "markdown",
   "id": "325fefa6",
   "metadata": {},
   "source": [
    "Nous voyons que la valeur $p$ est de $0,55,$ ce qui est très élevé et, en dessous d'un seuil de $0,05,$ est loin de la signification. Ainsi, nous n'avons pas de preuve pour rejeter l'hypothèse nulle selon laquelle le sexe et le site d'étude sont indépendants.\n"
   ]
  },
  {
   "cell_type": "markdown",
   "id": "f8e0142c",
   "metadata": {},
   "source": [
    "### 3.1.3) Test exact de Fisher\n",
    "\n",
    "Une alternative au test du Chi-Square est le **test exact de Fisher.** Ce test d'hypothèse a les mêmes hypothèses nulle et alternative que le test du Chi-Square. Cependant, sa statistique de test a une distribution connue pour toute taille d'échantillon finie. Ainsi, aucune approximation de distribution n'est requise, contrairement au test du Chi-Square, et il produit donc des valeurs $p$ précises pour toute taille d'échantillon.\n",
    "\n",
    "Pour effectuer le test exact de Fisher, on utilise la fonction **`fisher.test()`** du package `stats` avec l'objet `table` ou `xtab`.\n",
    "\n",
    "L'inconvénient du test exact de Fisher est qu'il nécessite beaucoup de temps de calcul si les données ont une grande taille d'échantillon, dans ce cas, l'approximation du Chi-Square est probablement précise et cette procédure de test devrait être utilisée.\n",
    "\n",
    "Exécutons le test exact de Fisher sur le tri à plat sexe par site :\n"
   ]
  },
  {
   "cell_type": "code",
   "execution_count": 75,
   "id": "e8ab13f3",
   "metadata": {},
   "outputs": [],
   "source": [
    "?fisher.test"
   ]
  },
  {
   "cell_type": "code",
   "execution_count": 74,
   "id": "98a04ac8",
   "metadata": {},
   "outputs": [
    {
     "data": {
      "text/plain": [
       "\n",
       "\tFisher's Exact Test for Count Data\n",
       "\n",
       "data:  table_exp_xtabs\n",
       "p-value = 0.553\n",
       "alternative hypothesis: two.sided\n"
      ]
     },
     "metadata": {},
     "output_type": "display_data"
    }
   ],
   "source": [
    "fisher.test(table_exp_xtabs)"
   ]
  },
  {
   "cell_type": "markdown",
   "id": "3cf2398a",
   "metadata": {},
   "source": [
    "En raison de la taille de l'échantillon, nous constatons que la valeur $p$ est très proche de la valeur $p$ du test du Chi carré, comme prévu.\n"
   ]
  },
  {
   "cell_type": "markdown",
   "id": "6be7ec6d",
   "metadata": {},
   "source": [
    "**Liens importants :**\n",
    "\n",
    "* [Statistique bivariée](https://larmarange.github.io/analyse-R/statistique-bivariee.html)\n",
    "\n",
    "* Pour plus d'approfondissement : [How to Make Beautiful Tables in R](https://rfortherestofus.com/2019/11/how-to-make-beautiful-tables-in-r)"
   ]
  },
  {
   "cell_type": "markdown",
   "id": "54172ebd",
   "metadata": {},
   "source": [
    "# Change Log\n",
    "\n",
    "| Date (YYYY-MM-DD) | Version | Changé Par      | Description du Changement |\n",
    "| ----------------- | ------- | -------------   | ----------------------- |\n",
    "| 2024-03-08       | 1.0     | Younes Dahami   |  version initiale|"
   ]
  },
  {
   "cell_type": "code",
   "execution_count": null,
   "id": "d205713d",
   "metadata": {},
   "outputs": [],
   "source": []
  }
 ],
 "metadata": {
  "kernelspec": {
   "display_name": "R",
   "language": "R",
   "name": "ir"
  },
  "language_info": {
   "codemirror_mode": "r",
   "file_extension": ".r",
   "mimetype": "text/x-r-source",
   "name": "R",
   "pygments_lexer": "r",
   "version": "4.2.3"
  }
 },
 "nbformat": 4,
 "nbformat_minor": 5
}
